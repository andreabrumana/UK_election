{
 "cells": [
  {
   "cell_type": "code",
   "execution_count": 3,
   "metadata": {},
   "outputs": [],
   "source": [
    "import pandas as pd\n",
    "import math\n",
    "from google.cloud import storage\n"
   ]
  },
  {
   "cell_type": "code",
   "execution_count": 4,
   "metadata": {},
   "outputs": [],
   "source": [
    "client = storage.Client(project=\"uk-election-406413\")\n",
    "bucket = client.bucket(\"ukelectiondata\")\n",
    "files = bucket.list_blobs()\n",
    "file_names = [file.name for file in files]\n"
   ]
  },
  {
   "cell_type": "code",
   "execution_count": 5,
   "metadata": {},
   "outputs": [],
   "source": [
    "election_results = bucket.blob(\"full_df.csv\")\n",
    "election_results.download_to_filename('C:\\\\Users\\\\wg4618\\\\Documents\\\\LeWagon\\\\full_data.csv')\n"
   ]
  },
  {
   "cell_type": "markdown",
   "metadata": {},
   "source": [
    "# Preparing Data"
   ]
  },
  {
   "cell_type": "code",
   "execution_count": 6,
   "metadata": {},
   "outputs": [],
   "source": [
    "data = pd.read_csv('C:\\\\Users\\\\wg4618\\\\Documents\\\\LeWagon\\\\full_data.csv')\n",
    "data.drop(data.columns[0], axis=1, inplace=True)\n",
    "data.dropna(subset=['Cons_pre_GE_adjusted'], inplace=True)\n",
    "\n",
    "data_raw = data[data['year'] != 2024].drop(columns=\"year\")\n",
    "data_new_raw = data[data['year'] == 2024].drop(columns=\"year\")\n",
    "\n",
    "\n",
    "X = data_raw[['Private_renters', 'Social_renters', 'Home_owners',\n",
    "          '0-9', '10-19',\n",
    "          '20-29', '30-39', '40-49', '50-59',\n",
    "          '60-69', '70-79', '80+',\n",
    "          'Asian', 'Black', 'Mixed', 'Other', 'White',\n",
    "          #'conservative_vote_share_previous', 'labour_vote_share_previous',# 'liberal_democrats_vote_share_previous',\n",
    "          #'Conservative_Pre_GE_poll', 'Labour_Pre_GE_poll', 'LD_Pre_GE_poll',\n",
    "          'Cons_pre_GE_adjusted', 'Labs_pre_GE_adjusted', 'Libs_pre_GE_adjusted',\n",
    "          'Cons_pre_average_adjusted', 'Labs_pre_average_adjusted', 'Libs_pre_average_adjusted',\n",
    "          #'Conservative_min', 'Labour_min', 'LD_min',\n",
    "          #'Conservative_max', 'Labour_max', 'LD_max'\n",
    "          ]]\n",
    "\n",
    "X_new = data_new_raw[['Private_renters', 'Social_renters', 'Home_owners',\n",
    "          '0-9', '10-19',\n",
    "          '20-29', '30-39', '40-49', '50-59',\n",
    "          '60-69', '70-79', '80+',\n",
    "          'Asian', 'Black', 'Mixed', 'Other', 'White',\n",
    "          #'conservative_vote_share_previous', 'labour_vote_share_previous', #'liberal_democrats_vote_share_previous',\n",
    "          #'Conservative_Pre_GE_poll', 'Labour_Pre_GE_poll', 'LD_Pre_GE_poll',\n",
    "          'Cons_pre_GE_adjusted', 'Labs_pre_GE_adjusted', 'Libs_pre_GE_adjusted',\n",
    "          'Cons_pre_average_adjusted', 'Labs_pre_average_adjusted', 'Libs_pre_average_adjusted',\n",
    "          #'Conservative_min', 'Labour_min', 'LD_min',\n",
    "          #'Conservative_max', 'Labour_max', 'LD_max'\n",
    "          ]]\n",
    "\n",
    "#X_new['Libs_pre_GE_adjusted'] = X_new['Libs_pre_GE_adjusted']*2\n",
    "\n",
    "y = data_raw[['conservative_votes', 'labour_votes', 'liberal_democrats_votes']]#, 'other_parties_votes']]\n"
   ]
  },
  {
   "cell_type": "code",
   "execution_count": 7,
   "metadata": {},
   "outputs": [],
   "source": [
    "import pandas as pd\n",
    "from sklearn.preprocessing import OneHotEncoder\n",
    "\n",
    "encoder = OneHotEncoder(sparse=False)\n",
    "#data.columns\n"
   ]
  },
  {
   "cell_type": "code",
   "execution_count": 8,
   "metadata": {},
   "outputs": [],
   "source": [
    "import pandas as pd\n",
    "from sklearn.model_selection import train_test_split\n",
    "from sklearn.linear_model import LinearRegression\n",
    "from sklearn.metrics import mean_squared_error, r2_score\n",
    "from sklearn.linear_model import Ridge\n",
    "from sklearn.model_selection import GridSearchCV\n",
    "\n",
    "# Split the data into training and testing sets\n",
    "X_train, X_test, y_train, y_test = train_test_split(X, y, test_size=0.2, random_state=42)\n"
   ]
  },
  {
   "cell_type": "code",
   "execution_count": null,
   "metadata": {},
   "outputs": [],
   "source": []
  },
  {
   "cell_type": "code",
   "execution_count": 9,
   "metadata": {},
   "outputs": [],
   "source": [
    "from pandas.plotting import scatter_matrix\n",
    "import seaborn as sns\n",
    "\n",
    "# Create scatter matrix\n",
    "#scatter_matrix(data_plot[columns_for_scatter], figsize=(10, 8), alpha=0.8, c=data_plot[target_column], cmap='viridis')\n",
    "#data[data[\"conservative_votes\"]==0]\n",
    "#sns.scatterplot(data_plot2['conservative_votes'], y=data_plot['Cons_pre_GE_adjusted'])\n",
    "#sns.boxplot(x=round(data_plot['Labour_Pre_GE_poll'],3), y=data_plot['conservative_votes'], data=data_plot)\n"
   ]
  },
  {
   "cell_type": "markdown",
   "metadata": {},
   "source": [
    "# Ridge Regression Model"
   ]
  },
  {
   "cell_type": "markdown",
   "metadata": {},
   "source": [
    "### Grid search"
   ]
  },
  {
   "cell_type": "code",
   "execution_count": 10,
   "metadata": {},
   "outputs": [
    {
     "data": {
      "text/plain": [
       "array([0.83450173, 0.83506169, 0.83519964, 0.83513591, 0.83515561,\n",
       "       0.83488169, 0.82995635])"
      ]
     },
     "metadata": {},
     "output_type": "display_data"
    },
    {
     "data": {
      "text/plain": [
       "Index(['Private_renters', 'Social_renters', 'Home_owners', '0-9', '10-19',\n",
       "       '20-29', '30-39', '40-49', '50-59', '60-69', '70-79', '80+', 'Asian',\n",
       "       'Black', 'Mixed', 'Other', 'White', 'Cons_pre_GE_adjusted',\n",
       "       'Labs_pre_GE_adjusted', 'Libs_pre_GE_adjusted',\n",
       "       'Cons_pre_average_adjusted', 'Labs_pre_average_adjusted',\n",
       "       'Libs_pre_average_adjusted'],\n",
       "      dtype='object')"
      ]
     },
     "execution_count": 10,
     "metadata": {},
     "output_type": "execute_result"
    }
   ],
   "source": [
    "# Create and fit a Linear Regression model\n",
    "alphas = {'alpha': [1e-7, 1e-6, 1e-5, 1e-4, 1e-3, 1e-2, 0.1]}\n",
    "\n",
    "ridge = Ridge()\n",
    "grid_search = GridSearchCV(ridge, alphas, cv=5)\n",
    "grid_search.fit(X_train, y_train)\n",
    "display(grid_search.cv_results_['mean_test_score'])\n",
    "\n",
    "X_train.columns\n"
   ]
  },
  {
   "cell_type": "markdown",
   "metadata": {},
   "source": [
    "### Running and scoring the best model"
   ]
  },
  {
   "cell_type": "code",
   "execution_count": 11,
   "metadata": {},
   "outputs": [
    {
     "name": "stdout",
     "output_type": "stream",
     "text": [
      "Best alpha:  1e-05\n",
      "Coefficients: [[-2.32668527e+03 -4.25186072e+03  6.57854599e+03 -2.02829611e+04\n",
      "  -1.10050122e+04 -2.28658265e+04  2.01521106e+04 -5.42289106e+04\n",
      "   3.96372337e+04 -1.07778117e+05  9.79742930e+04 -1.17593858e+05\n",
      "   7.39057657e+03  1.26101983e+04 -7.61364847e+03 -1.97988886e+04\n",
      "   7.40691897e+03  1.89111646e+04 -1.18074207e+04 -1.30856333e+04\n",
      "   2.80167969e+04  1.94382306e+03  1.94146696e+04]\n",
      " [ 6.59853133e+03 -8.90102158e+03  2.30249031e+03 -2.11101699e+05\n",
      "  -3.36772646e+04 -1.05016358e+05 -3.54867532e+04 -8.70091786e+04\n",
      "  -1.23037820e+05 -4.21087766e+04 -1.75433133e+05 -8.23482306e+04\n",
      "   6.03774239e+03  1.31956001e+04  2.70543141e+04 -4.36536439e+04\n",
      "  -2.61818079e+03  6.78600127e+04  5.43439843e+04  5.78313853e+03\n",
      "  -7.27159174e+04 -1.42673007e+04 -1.29824726e+04]\n",
      " [ 1.61731550e+03  2.64708032e+02 -1.88202351e+03  2.53039982e+05\n",
      "   3.58218114e+05  2.86276089e+05  3.30739815e+05  3.48361800e+05\n",
      "   2.76509675e+05  3.03008343e+05  2.61869992e+05  3.57973494e+05\n",
      "  -6.50039265e+02 -2.91129948e+03  1.19527988e+04 -9.25999364e+03\n",
      "   8.70017777e+02  6.40979793e+03 -9.37000599e+03  1.97752128e+04\n",
      "  -8.53838622e+03  5.12865053e+02  1.75507219e+04]]\n",
      "Intercept: [  11688.07326894  104369.38211401 -301893.68242988]\n",
      "Mean Squared Error: 8196373.897276331\n",
      "R-squared: 0.8637305015655343\n"
     ]
    },
    {
     "data": {
      "text/plain": [
       "array([  11688.07326894,  104369.38211401, -301893.68242988])"
      ]
     },
     "metadata": {},
     "output_type": "display_data"
    },
    {
     "data": {
      "text/html": [
       "<div>\n",
       "<style scoped>\n",
       "    .dataframe tbody tr th:only-of-type {\n",
       "        vertical-align: middle;\n",
       "    }\n",
       "\n",
       "    .dataframe tbody tr th {\n",
       "        vertical-align: top;\n",
       "    }\n",
       "\n",
       "    .dataframe thead th {\n",
       "        text-align: right;\n",
       "    }\n",
       "</style>\n",
       "<table border=\"1\" class=\"dataframe\">\n",
       "  <thead>\n",
       "    <tr style=\"text-align: right;\">\n",
       "      <th></th>\n",
       "      <th>con</th>\n",
       "      <th>lab</th>\n",
       "      <th>ld</th>\n",
       "    </tr>\n",
       "  </thead>\n",
       "  <tbody>\n",
       "    <tr>\n",
       "      <th>Private_renters</th>\n",
       "      <td>-2326.685270</td>\n",
       "      <td>6598.531334</td>\n",
       "      <td>1617.315502</td>\n",
       "    </tr>\n",
       "    <tr>\n",
       "      <th>Social_renters</th>\n",
       "      <td>-4251.860715</td>\n",
       "      <td>-8901.021582</td>\n",
       "      <td>264.708032</td>\n",
       "    </tr>\n",
       "    <tr>\n",
       "      <th>Home_owners</th>\n",
       "      <td>6578.545993</td>\n",
       "      <td>2302.490311</td>\n",
       "      <td>-1882.023511</td>\n",
       "    </tr>\n",
       "    <tr>\n",
       "      <th>0-9</th>\n",
       "      <td>-20282.961111</td>\n",
       "      <td>-211101.699326</td>\n",
       "      <td>253039.981963</td>\n",
       "    </tr>\n",
       "    <tr>\n",
       "      <th>10-19</th>\n",
       "      <td>-11005.012214</td>\n",
       "      <td>-33677.264602</td>\n",
       "      <td>358218.114189</td>\n",
       "    </tr>\n",
       "    <tr>\n",
       "      <th>20-29</th>\n",
       "      <td>-22865.826494</td>\n",
       "      <td>-105016.358231</td>\n",
       "      <td>286276.088743</td>\n",
       "    </tr>\n",
       "    <tr>\n",
       "      <th>30-39</th>\n",
       "      <td>20152.110565</td>\n",
       "      <td>-35486.753227</td>\n",
       "      <td>330739.814799</td>\n",
       "    </tr>\n",
       "    <tr>\n",
       "      <th>40-49</th>\n",
       "      <td>-54228.910595</td>\n",
       "      <td>-87009.178580</td>\n",
       "      <td>348361.800160</td>\n",
       "    </tr>\n",
       "    <tr>\n",
       "      <th>50-59</th>\n",
       "      <td>39637.233694</td>\n",
       "      <td>-123037.819717</td>\n",
       "      <td>276509.675037</td>\n",
       "    </tr>\n",
       "    <tr>\n",
       "      <th>60-69</th>\n",
       "      <td>-107778.116535</td>\n",
       "      <td>-42108.776584</td>\n",
       "      <td>303008.343221</td>\n",
       "    </tr>\n",
       "    <tr>\n",
       "      <th>70-79</th>\n",
       "      <td>97974.293050</td>\n",
       "      <td>-175433.133156</td>\n",
       "      <td>261869.991704</td>\n",
       "    </tr>\n",
       "    <tr>\n",
       "      <th>80+</th>\n",
       "      <td>-117593.857872</td>\n",
       "      <td>-82348.230599</td>\n",
       "      <td>357973.494135</td>\n",
       "    </tr>\n",
       "    <tr>\n",
       "      <th>Asian</th>\n",
       "      <td>7390.576565</td>\n",
       "      <td>6037.742389</td>\n",
       "      <td>-650.039265</td>\n",
       "    </tr>\n",
       "    <tr>\n",
       "      <th>Black</th>\n",
       "      <td>12610.198274</td>\n",
       "      <td>13195.600131</td>\n",
       "      <td>-2911.299480</td>\n",
       "    </tr>\n",
       "    <tr>\n",
       "      <th>Mixed</th>\n",
       "      <td>-7613.648475</td>\n",
       "      <td>27054.314058</td>\n",
       "      <td>11952.798830</td>\n",
       "    </tr>\n",
       "    <tr>\n",
       "      <th>Other</th>\n",
       "      <td>-19798.888613</td>\n",
       "      <td>-43653.643926</td>\n",
       "      <td>-9259.993642</td>\n",
       "    </tr>\n",
       "    <tr>\n",
       "      <th>White</th>\n",
       "      <td>7406.918974</td>\n",
       "      <td>-2618.180785</td>\n",
       "      <td>870.017777</td>\n",
       "    </tr>\n",
       "    <tr>\n",
       "      <th>Cons_pre_GE_adjusted</th>\n",
       "      <td>18911.164583</td>\n",
       "      <td>67860.012733</td>\n",
       "      <td>6409.797935</td>\n",
       "    </tr>\n",
       "    <tr>\n",
       "      <th>Labs_pre_GE_adjusted</th>\n",
       "      <td>-11807.420700</td>\n",
       "      <td>54343.984288</td>\n",
       "      <td>-9370.005990</td>\n",
       "    </tr>\n",
       "    <tr>\n",
       "      <th>Libs_pre_GE_adjusted</th>\n",
       "      <td>-13085.633326</td>\n",
       "      <td>5783.138528</td>\n",
       "      <td>19775.212762</td>\n",
       "    </tr>\n",
       "    <tr>\n",
       "      <th>Cons_pre_average_adjusted</th>\n",
       "      <td>28016.796923</td>\n",
       "      <td>-72715.917353</td>\n",
       "      <td>-8538.386225</td>\n",
       "    </tr>\n",
       "    <tr>\n",
       "      <th>Labs_pre_average_adjusted</th>\n",
       "      <td>1943.823062</td>\n",
       "      <td>-14267.300719</td>\n",
       "      <td>512.865053</td>\n",
       "    </tr>\n",
       "    <tr>\n",
       "      <th>Libs_pre_average_adjusted</th>\n",
       "      <td>19414.669606</td>\n",
       "      <td>-12982.472563</td>\n",
       "      <td>17550.721862</td>\n",
       "    </tr>\n",
       "  </tbody>\n",
       "</table>\n",
       "</div>"
      ],
      "text/plain": [
       "                                     con            lab             ld\n",
       "Private_renters             -2326.685270    6598.531334    1617.315502\n",
       "Social_renters              -4251.860715   -8901.021582     264.708032\n",
       "Home_owners                  6578.545993    2302.490311   -1882.023511\n",
       "0-9                        -20282.961111 -211101.699326  253039.981963\n",
       "10-19                      -11005.012214  -33677.264602  358218.114189\n",
       "20-29                      -22865.826494 -105016.358231  286276.088743\n",
       "30-39                       20152.110565  -35486.753227  330739.814799\n",
       "40-49                      -54228.910595  -87009.178580  348361.800160\n",
       "50-59                       39637.233694 -123037.819717  276509.675037\n",
       "60-69                     -107778.116535  -42108.776584  303008.343221\n",
       "70-79                       97974.293050 -175433.133156  261869.991704\n",
       "80+                       -117593.857872  -82348.230599  357973.494135\n",
       "Asian                        7390.576565    6037.742389    -650.039265\n",
       "Black                       12610.198274   13195.600131   -2911.299480\n",
       "Mixed                       -7613.648475   27054.314058   11952.798830\n",
       "Other                      -19798.888613  -43653.643926   -9259.993642\n",
       "White                        7406.918974   -2618.180785     870.017777\n",
       "Cons_pre_GE_adjusted        18911.164583   67860.012733    6409.797935\n",
       "Labs_pre_GE_adjusted       -11807.420700   54343.984288   -9370.005990\n",
       "Libs_pre_GE_adjusted       -13085.633326    5783.138528   19775.212762\n",
       "Cons_pre_average_adjusted   28016.796923  -72715.917353   -8538.386225\n",
       "Labs_pre_average_adjusted    1943.823062  -14267.300719     512.865053\n",
       "Libs_pre_average_adjusted   19414.669606  -12982.472563   17550.721862"
      ]
     },
     "metadata": {},
     "output_type": "display_data"
    }
   ],
   "source": [
    "best_alpha = grid_search.best_params_['alpha']\n",
    "print(\"Best alpha: \", best_alpha)\n",
    "\n",
    "final_model = Ridge(alpha=best_alpha)\n",
    "final_model.fit(X_train, y_train)\n",
    "\n",
    "y_pred = final_model.predict(X_test)\n",
    "\n",
    "# Evaluate the model\n",
    "mse = mean_squared_error(y_test, y_pred)\n",
    "r2 = r2_score(y_test, y_pred)\n",
    "\n",
    "print(\"Coefficients:\", final_model.coef_)\n",
    "print(\"Intercept:\", final_model.intercept_)\n",
    "print(\"Mean Squared Error:\", mse)\n",
    "print(\"R-squared:\", r2)\n",
    "\n",
    "coefficients_named = pd.DataFrame({\"con\" : final_model.coef_[0],\n",
    "                                   \"lab\" : final_model.coef_[1],\n",
    "                                   \"ld\" : final_model.coef_[2],\n",
    "                                   }, index=X_train.columns)\n",
    "display(final_model.intercept_)\n",
    "display(coefficients_named)\n"
   ]
  },
  {
   "cell_type": "markdown",
   "metadata": {},
   "source": [
    "### Plotting the test data against the predicted data"
   ]
  },
  {
   "cell_type": "code",
   "execution_count": 12,
   "metadata": {},
   "outputs": [
    {
     "data": {
      "image/png": "[encoded data removed]",
      "text/plain": [
       "<Figure size 1200x800 with 4 Axes>"
      ]
     },
     "metadata": {},
     "output_type": "display_data"
    }
   ],
   "source": [
    "import seaborn as sns\n",
    "import matplotlib.pyplot as plt\n",
    "\n",
    "fig, axes = plt.subplots(nrows=2, ncols=2, figsize=(12, 8))\n",
    "\n",
    "# Flatten the axes array for easy iteration\n",
    "axes = axes.flatten()\n",
    "\n",
    "# Loop over columns and create subplots\n",
    "for i in range(3):\n",
    "    sns.scatterplot(x=y_pred[:,i], y=y_test.iloc[:,i], ax=axes[i])\n",
    "    axes[i].set_title(f'Scatterplot of {y_test.columns[i]}')\n",
    "\n",
    "# Adjust layout\n",
    "plt.tight_layout()\n",
    "\n",
    "# Show the plots\n",
    "#plt.show()\n"
   ]
  },
  {
   "cell_type": "markdown",
   "metadata": {},
   "source": [
    "### Predicting the next election using Ridge Regression"
   ]
  },
  {
   "cell_type": "code",
   "execution_count": 13,
   "metadata": {},
   "outputs": [
    {
     "data": {
      "text/html": [
       "<div>\n",
       "<style scoped>\n",
       "    .dataframe tbody tr th:only-of-type {\n",
       "        vertical-align: middle;\n",
       "    }\n",
       "\n",
       "    .dataframe tbody tr th {\n",
       "        vertical-align: top;\n",
       "    }\n",
       "\n",
       "    .dataframe thead th {\n",
       "        text-align: right;\n",
       "    }\n",
       "</style>\n",
       "<table border=\"1\" class=\"dataframe\">\n",
       "  <thead>\n",
       "    <tr style=\"text-align: right;\">\n",
       "      <th></th>\n",
       "      <th>Private_renters</th>\n",
       "      <th>Social_renters</th>\n",
       "      <th>Home_owners</th>\n",
       "      <th>0-9</th>\n",
       "      <th>10-19</th>\n",
       "      <th>20-29</th>\n",
       "      <th>30-39</th>\n",
       "      <th>40-49</th>\n",
       "      <th>50-59</th>\n",
       "      <th>60-69</th>\n",
       "      <th>...</th>\n",
       "      <th>Black</th>\n",
       "      <th>Mixed</th>\n",
       "      <th>Other</th>\n",
       "      <th>White</th>\n",
       "      <th>Cons_pre_GE_adjusted</th>\n",
       "      <th>Labs_pre_GE_adjusted</th>\n",
       "      <th>Libs_pre_GE_adjusted</th>\n",
       "      <th>Cons_pre_average_adjusted</th>\n",
       "      <th>Labs_pre_average_adjusted</th>\n",
       "      <th>Libs_pre_average_adjusted</th>\n",
       "    </tr>\n",
       "  </thead>\n",
       "  <tbody>\n",
       "    <tr>\n",
       "      <th>4</th>\n",
       "      <td>0.113468</td>\n",
       "      <td>0.203506</td>\n",
       "      <td>0.683026</td>\n",
       "      <td>0.110</td>\n",
       "      <td>0.117</td>\n",
       "      <td>0.121</td>\n",
       "      <td>0.133</td>\n",
       "      <td>0.122</td>\n",
       "      <td>0.137</td>\n",
       "      <td>0.120</td>\n",
       "      <td>...</td>\n",
       "      <td>0.002964</td>\n",
       "      <td>0.007334</td>\n",
       "      <td>0.001331</td>\n",
       "      <td>0.975867</td>\n",
       "      <td>0.118038</td>\n",
       "      <td>0.677309</td>\n",
       "      <td>0.032447</td>\n",
       "      <td>0.162275</td>\n",
       "      <td>0.595796</td>\n",
       "      <td>0.027222</td>\n",
       "    </tr>\n",
       "    <tr>\n",
       "      <th>9</th>\n",
       "      <td>0.165503</td>\n",
       "      <td>0.121423</td>\n",
       "      <td>0.713075</td>\n",
       "      <td>0.094</td>\n",
       "      <td>0.098</td>\n",
       "      <td>0.098</td>\n",
       "      <td>0.103</td>\n",
       "      <td>0.108</td>\n",
       "      <td>0.151</td>\n",
       "      <td>0.140</td>\n",
       "      <td>...</td>\n",
       "      <td>0.001719</td>\n",
       "      <td>0.008402</td>\n",
       "      <td>0.002712</td>\n",
       "      <td>0.978375</td>\n",
       "      <td>0.263746</td>\n",
       "      <td>0.499658</td>\n",
       "      <td>0.054656</td>\n",
       "      <td>0.362590</td>\n",
       "      <td>0.439525</td>\n",
       "      <td>0.045855</td>\n",
       "    </tr>\n",
       "    <tr>\n",
       "      <th>14</th>\n",
       "      <td>0.172328</td>\n",
       "      <td>0.156583</td>\n",
       "      <td>0.671090</td>\n",
       "      <td>0.129</td>\n",
       "      <td>0.111</td>\n",
       "      <td>0.118</td>\n",
       "      <td>0.150</td>\n",
       "      <td>0.143</td>\n",
       "      <td>0.142</td>\n",
       "      <td>0.094</td>\n",
       "      <td>...</td>\n",
       "      <td>0.019293</td>\n",
       "      <td>0.021343</td>\n",
       "      <td>0.006293</td>\n",
       "      <td>0.855334</td>\n",
       "      <td>0.334032</td>\n",
       "      <td>0.296179</td>\n",
       "      <td>0.138078</td>\n",
       "      <td>0.459218</td>\n",
       "      <td>0.260534</td>\n",
       "      <td>0.115843</td>\n",
       "    </tr>\n",
       "    <tr>\n",
       "      <th>19</th>\n",
       "      <td>0.083391</td>\n",
       "      <td>0.147883</td>\n",
       "      <td>0.768726</td>\n",
       "      <td>0.109</td>\n",
       "      <td>0.110</td>\n",
       "      <td>0.105</td>\n",
       "      <td>0.113</td>\n",
       "      <td>0.120</td>\n",
       "      <td>0.151</td>\n",
       "      <td>0.113</td>\n",
       "      <td>...</td>\n",
       "      <td>0.009705</td>\n",
       "      <td>0.015525</td>\n",
       "      <td>0.003118</td>\n",
       "      <td>0.931288</td>\n",
       "      <td>0.405074</td>\n",
       "      <td>0.256322</td>\n",
       "      <td>0.057639</td>\n",
       "      <td>0.556885</td>\n",
       "      <td>0.225474</td>\n",
       "      <td>0.048358</td>\n",
       "    </tr>\n",
       "    <tr>\n",
       "      <th>24</th>\n",
       "      <td>0.121427</td>\n",
       "      <td>0.124764</td>\n",
       "      <td>0.753809</td>\n",
       "      <td>0.127</td>\n",
       "      <td>0.134</td>\n",
       "      <td>0.085</td>\n",
       "      <td>0.121</td>\n",
       "      <td>0.149</td>\n",
       "      <td>0.140</td>\n",
       "      <td>0.102</td>\n",
       "      <td>...</td>\n",
       "      <td>0.009763</td>\n",
       "      <td>0.021306</td>\n",
       "      <td>0.008696</td>\n",
       "      <td>0.904339</td>\n",
       "      <td>0.274926</td>\n",
       "      <td>0.463506</td>\n",
       "      <td>0.105416</td>\n",
       "      <td>0.377961</td>\n",
       "      <td>0.407723</td>\n",
       "      <td>0.088441</td>\n",
       "    </tr>\n",
       "    <tr>\n",
       "      <th>...</th>\n",
       "      <td>...</td>\n",
       "      <td>...</td>\n",
       "      <td>...</td>\n",
       "      <td>...</td>\n",
       "      <td>...</td>\n",
       "      <td>...</td>\n",
       "      <td>...</td>\n",
       "      <td>...</td>\n",
       "      <td>...</td>\n",
       "      <td>...</td>\n",
       "      <td>...</td>\n",
       "      <td>...</td>\n",
       "      <td>...</td>\n",
       "      <td>...</td>\n",
       "      <td>...</td>\n",
       "      <td>...</td>\n",
       "      <td>...</td>\n",
       "      <td>...</td>\n",
       "      <td>...</td>\n",
       "      <td>...</td>\n",
       "      <td>...</td>\n",
       "    </tr>\n",
       "    <tr>\n",
       "      <th>2831</th>\n",
       "      <td>0.140180</td>\n",
       "      <td>0.337258</td>\n",
       "      <td>0.522561</td>\n",
       "      <td>0.148</td>\n",
       "      <td>0.115</td>\n",
       "      <td>0.114</td>\n",
       "      <td>0.164</td>\n",
       "      <td>0.128</td>\n",
       "      <td>0.127</td>\n",
       "      <td>0.094</td>\n",
       "      <td>...</td>\n",
       "      <td>0.028443</td>\n",
       "      <td>0.032815</td>\n",
       "      <td>0.011704</td>\n",
       "      <td>0.871232</td>\n",
       "      <td>0.172067</td>\n",
       "      <td>0.670644</td>\n",
       "      <td>0.066476</td>\n",
       "      <td>0.236554</td>\n",
       "      <td>0.589933</td>\n",
       "      <td>0.055771</td>\n",
       "    </tr>\n",
       "    <tr>\n",
       "      <th>2836</th>\n",
       "      <td>0.141064</td>\n",
       "      <td>0.154904</td>\n",
       "      <td>0.704032</td>\n",
       "      <td>0.110</td>\n",
       "      <td>0.105</td>\n",
       "      <td>0.100</td>\n",
       "      <td>0.118</td>\n",
       "      <td>0.115</td>\n",
       "      <td>0.142</td>\n",
       "      <td>0.126</td>\n",
       "      <td>...</td>\n",
       "      <td>0.002500</td>\n",
       "      <td>0.007529</td>\n",
       "      <td>0.001236</td>\n",
       "      <td>0.978433</td>\n",
       "      <td>0.333987</td>\n",
       "      <td>0.079861</td>\n",
       "      <td>0.297075</td>\n",
       "      <td>0.459157</td>\n",
       "      <td>0.070250</td>\n",
       "      <td>0.249237</td>\n",
       "    </tr>\n",
       "    <tr>\n",
       "      <th>2841</th>\n",
       "      <td>0.145188</td>\n",
       "      <td>0.150661</td>\n",
       "      <td>0.704150</td>\n",
       "      <td>0.104</td>\n",
       "      <td>0.104</td>\n",
       "      <td>0.098</td>\n",
       "      <td>0.104</td>\n",
       "      <td>0.112</td>\n",
       "      <td>0.142</td>\n",
       "      <td>0.144</td>\n",
       "      <td>...</td>\n",
       "      <td>0.001161</td>\n",
       "      <td>0.006882</td>\n",
       "      <td>0.002566</td>\n",
       "      <td>0.982352</td>\n",
       "      <td>0.202874</td>\n",
       "      <td>0.378372</td>\n",
       "      <td>0.000000</td>\n",
       "      <td>0.278906</td>\n",
       "      <td>0.332836</td>\n",
       "      <td>0.000000</td>\n",
       "    </tr>\n",
       "    <tr>\n",
       "      <th>2846</th>\n",
       "      <td>0.264085</td>\n",
       "      <td>0.193474</td>\n",
       "      <td>0.542441</td>\n",
       "      <td>0.094</td>\n",
       "      <td>0.103</td>\n",
       "      <td>0.255</td>\n",
       "      <td>0.148</td>\n",
       "      <td>0.108</td>\n",
       "      <td>0.109</td>\n",
       "      <td>0.080</td>\n",
       "      <td>...</td>\n",
       "      <td>0.008279</td>\n",
       "      <td>0.014565</td>\n",
       "      <td>0.006880</td>\n",
       "      <td>0.927328</td>\n",
       "      <td>0.159132</td>\n",
       "      <td>0.694221</td>\n",
       "      <td>0.080157</td>\n",
       "      <td>0.218770</td>\n",
       "      <td>0.610672</td>\n",
       "      <td>0.067249</td>\n",
       "    </tr>\n",
       "    <tr>\n",
       "      <th>2851</th>\n",
       "      <td>0.087365</td>\n",
       "      <td>0.082737</td>\n",
       "      <td>0.829898</td>\n",
       "      <td>0.097</td>\n",
       "      <td>0.130</td>\n",
       "      <td>0.116</td>\n",
       "      <td>0.099</td>\n",
       "      <td>0.115</td>\n",
       "      <td>0.138</td>\n",
       "      <td>0.120</td>\n",
       "      <td>...</td>\n",
       "      <td>0.003522</td>\n",
       "      <td>0.009531</td>\n",
       "      <td>0.002722</td>\n",
       "      <td>0.960125</td>\n",
       "      <td>0.282499</td>\n",
       "      <td>0.394206</td>\n",
       "      <td>0.172665</td>\n",
       "      <td>0.388371</td>\n",
       "      <td>0.346764</td>\n",
       "      <td>0.144860</td>\n",
       "    </tr>\n",
       "  </tbody>\n",
       "</table>\n",
       "<p>573 rows × 23 columns</p>\n",
       "</div>"
      ],
      "text/plain": [
       "      Private_renters  Social_renters  Home_owners    0-9  10-19  20-29  \\\n",
       "4            0.113468        0.203506     0.683026  0.110  0.117  0.121   \n",
       "9            0.165503        0.121423     0.713075  0.094  0.098  0.098   \n",
       "14           0.172328        0.156583     0.671090  0.129  0.111  0.118   \n",
       "19           0.083391        0.147883     0.768726  0.109  0.110  0.105   \n",
       "24           0.121427        0.124764     0.753809  0.127  0.134  0.085   \n",
       "...               ...             ...          ...    ...    ...    ...   \n",
       "2831         0.140180        0.337258     0.522561  0.148  0.115  0.114   \n",
       "2836         0.141064        0.154904     0.704032  0.110  0.105  0.100   \n",
       "2841         0.145188        0.150661     0.704150  0.104  0.104  0.098   \n",
       "2846         0.264085        0.193474     0.542441  0.094  0.103  0.255   \n",
       "2851         0.087365        0.082737     0.829898  0.097  0.130  0.116   \n",
       "\n",
       "      30-39  40-49  50-59  60-69  ...     Black     Mixed     Other     White  \\\n",
       "4     0.133  0.122  0.137  0.120  ...  0.002964  0.007334  0.001331  0.975867   \n",
       "9     0.103  0.108  0.151  0.140  ...  0.001719  0.008402  0.002712  0.978375   \n",
       "14    0.150  0.143  0.142  0.094  ...  0.019293  0.021343  0.006293  0.855334   \n",
       "19    0.113  0.120  0.151  0.113  ...  0.009705  0.015525  0.003118  0.931288   \n",
       "24    0.121  0.149  0.140  0.102  ...  0.009763  0.021306  0.008696  0.904339   \n",
       "...     ...    ...    ...    ...  ...       ...       ...       ...       ...   \n",
       "2831  0.164  0.128  0.127  0.094  ...  0.028443  0.032815  0.011704  0.871232   \n",
       "2836  0.118  0.115  0.142  0.126  ...  0.002500  0.007529  0.001236  0.978433   \n",
       "2841  0.104  0.112  0.142  0.144  ...  0.001161  0.006882  0.002566  0.982352   \n",
       "2846  0.148  0.108  0.109  0.080  ...  0.008279  0.014565  0.006880  0.927328   \n",
       "2851  0.099  0.115  0.138  0.120  ...  0.003522  0.009531  0.002722  0.960125   \n",
       "\n",
       "      Cons_pre_GE_adjusted  Labs_pre_GE_adjusted  Libs_pre_GE_adjusted  \\\n",
       "4                 0.118038              0.677309              0.032447   \n",
       "9                 0.263746              0.499658              0.054656   \n",
       "14                0.334032              0.296179              0.138078   \n",
       "19                0.405074              0.256322              0.057639   \n",
       "24                0.274926              0.463506              0.105416   \n",
       "...                    ...                   ...                   ...   \n",
       "2831              0.172067              0.670644              0.066476   \n",
       "2836              0.333987              0.079861              0.297075   \n",
       "2841              0.202874              0.378372              0.000000   \n",
       "2846              0.159132              0.694221              0.080157   \n",
       "2851              0.282499              0.394206              0.172665   \n",
       "\n",
       "      Cons_pre_average_adjusted  Labs_pre_average_adjusted  \\\n",
       "4                      0.162275                   0.595796   \n",
       "9                      0.362590                   0.439525   \n",
       "14                     0.459218                   0.260534   \n",
       "19                     0.556885                   0.225474   \n",
       "24                     0.377961                   0.407723   \n",
       "...                         ...                        ...   \n",
       "2831                   0.236554                   0.589933   \n",
       "2836                   0.459157                   0.070250   \n",
       "2841                   0.278906                   0.332836   \n",
       "2846                   0.218770                   0.610672   \n",
       "2851                   0.388371                   0.346764   \n",
       "\n",
       "      Libs_pre_average_adjusted  \n",
       "4                      0.027222  \n",
       "9                      0.045855  \n",
       "14                     0.115843  \n",
       "19                     0.048358  \n",
       "24                     0.088441  \n",
       "...                         ...  \n",
       "2831                   0.055771  \n",
       "2836                   0.249237  \n",
       "2841                   0.000000  \n",
       "2846                   0.067249  \n",
       "2851                   0.144860  \n",
       "\n",
       "[573 rows x 23 columns]"
      ]
     },
     "execution_count": 13,
     "metadata": {},
     "output_type": "execute_result"
    }
   ],
   "source": [
    "final_model.predict(X_new)\n",
    "X_new\n"
   ]
  },
  {
   "cell_type": "code",
   "execution_count": 14,
   "metadata": {},
   "outputs": [
    {
     "data": {
      "text/html": [
       "<div>\n",
       "<style scoped>\n",
       "    .dataframe tbody tr th:only-of-type {\n",
       "        vertical-align: middle;\n",
       "    }\n",
       "\n",
       "    .dataframe tbody tr th {\n",
       "        vertical-align: top;\n",
       "    }\n",
       "\n",
       "    .dataframe thead th {\n",
       "        text-align: right;\n",
       "    }\n",
       "</style>\n",
       "<table border=\"1\" class=\"dataframe\">\n",
       "  <thead>\n",
       "    <tr style=\"text-align: right;\">\n",
       "      <th></th>\n",
       "      <th>Value</th>\n",
       "      <th>Frequency</th>\n",
       "    </tr>\n",
       "  </thead>\n",
       "  <tbody>\n",
       "    <tr>\n",
       "      <th>0</th>\n",
       "      <td>0</td>\n",
       "      <td>340</td>\n",
       "    </tr>\n",
       "    <tr>\n",
       "      <th>1</th>\n",
       "      <td>1</td>\n",
       "      <td>228</td>\n",
       "    </tr>\n",
       "    <tr>\n",
       "      <th>2</th>\n",
       "      <td>2</td>\n",
       "      <td>5</td>\n",
       "    </tr>\n",
       "  </tbody>\n",
       "</table>\n",
       "</div>"
      ],
      "text/plain": [
       "   Value  Frequency\n",
       "0      0        340\n",
       "1      1        228\n",
       "2      2          5"
      ]
     },
     "execution_count": 14,
     "metadata": {},
     "output_type": "execute_result"
    }
   ],
   "source": [
    "import numpy as np\n",
    "y_new = final_model.predict(X_new)\n",
    "\n",
    "unique_values, counts = np.unique(np.argmax(y_new, axis=1), return_counts=True)\n",
    "frequency_table = pd.DataFrame({'Value': unique_values, 'Frequency': counts})\n",
    "\n",
    "frequency_table\n"
   ]
  },
  {
   "cell_type": "markdown",
   "metadata": {},
   "source": [
    "# Gradient Boosting Classifier"
   ]
  },
  {
   "cell_type": "markdown",
   "metadata": {},
   "source": [
    "### Turning y into a class and encoding it"
   ]
  },
  {
   "cell_type": "code",
   "execution_count": 15,
   "metadata": {},
   "outputs": [],
   "source": [
    "from sklearn.preprocessing import LabelEncoder\n",
    "\n",
    "y_train_class = y_train.apply(lambda row: row.idxmax(), axis=1)\n",
    "y_test_class = y_test.apply(lambda row: row.idxmax(), axis=1)\n",
    "\n",
    "label_encoder = LabelEncoder()\n",
    "y_train_encoded = label_encoder.fit_transform(y_train_class)\n",
    "y_test_encoded = label_encoder.fit_transform(y_test_class)\n"
   ]
  },
  {
   "cell_type": "markdown",
   "metadata": {},
   "source": [
    "### Grid Search "
   ]
  },
  {
   "cell_type": "code",
   "execution_count": 16,
   "metadata": {},
   "outputs": [
    {
     "data": {
      "text/html": [
       "<style>#sk-container-id-1 {color: black;}#sk-container-id-1 pre{padding: 0;}#sk-container-id-1 div.sk-toggleable {background-color: white;}#sk-container-id-1 label.sk-toggleable__label {cursor: pointer;display: block;width: 100%;margin-bottom: 0;padding: 0.3em;box-sizing: border-box;text-align: center;}#sk-container-id-1 label.sk-toggleable__label-arrow:before {content: \"▸\";float: left;margin-right: 0.25em;color: #696969;}#sk-container-id-1 label.sk-toggleable__label-arrow:hover:before {color: black;}#sk-container-id-1 div.sk-estimator:hover label.sk-toggleable__label-arrow:before {color: black;}#sk-container-id-1 div.sk-toggleable__content {max-height: 0;max-width: 0;overflow: hidden;text-align: left;background-color: #f0f8ff;}#sk-container-id-1 div.sk-toggleable__content pre {margin: 0.2em;color: black;border-radius: 0.25em;background-color: #f0f8ff;}#sk-container-id-1 input.sk-toggleable__control:checked~div.sk-toggleable__content {max-height: 200px;max-width: 100%;overflow: auto;}#sk-container-id-1 input.sk-toggleable__control:checked~label.sk-toggleable__label-arrow:before {content: \"▾\";}#sk-container-id-1 div.sk-estimator input.sk-toggleable__control:checked~label.sk-toggleable__label {background-color: #d4ebff;}#sk-container-id-1 div.sk-label input.sk-toggleable__control:checked~label.sk-toggleable__label {background-color: #d4ebff;}#sk-container-id-1 input.sk-hidden--visually {border: 0;clip: rect(1px 1px 1px 1px);clip: rect(1px, 1px, 1px, 1px);height: 1px;margin: -1px;overflow: hidden;padding: 0;position: absolute;width: 1px;}#sk-container-id-1 div.sk-estimator {font-family: monospace;background-color: #f0f8ff;border: 1px dotted black;border-radius: 0.25em;box-sizing: border-box;margin-bottom: 0.5em;}#sk-container-id-1 div.sk-estimator:hover {background-color: #d4ebff;}#sk-container-id-1 div.sk-parallel-item::after {content: \"\";width: 100%;border-bottom: 1px solid gray;flex-grow: 1;}#sk-container-id-1 div.sk-label:hover label.sk-toggleable__label {background-color: #d4ebff;}#sk-container-id-1 div.sk-serial::before {content: \"\";position: absolute;border-left: 1px solid gray;box-sizing: border-box;top: 0;bottom: 0;left: 50%;z-index: 0;}#sk-container-id-1 div.sk-serial {display: flex;flex-direction: column;align-items: center;background-color: white;padding-right: 0.2em;padding-left: 0.2em;position: relative;}#sk-container-id-1 div.sk-item {position: relative;z-index: 1;}#sk-container-id-1 div.sk-parallel {display: flex;align-items: stretch;justify-content: center;background-color: white;position: relative;}#sk-container-id-1 div.sk-item::before, #sk-container-id-1 div.sk-parallel-item::before {content: \"\";position: absolute;border-left: 1px solid gray;box-sizing: border-box;top: 0;bottom: 0;left: 50%;z-index: -1;}#sk-container-id-1 div.sk-parallel-item {display: flex;flex-direction: column;z-index: 1;position: relative;background-color: white;}#sk-container-id-1 div.sk-parallel-item:first-child::after {align-self: flex-end;width: 50%;}#sk-container-id-1 div.sk-parallel-item:last-child::after {align-self: flex-start;width: 50%;}#sk-container-id-1 div.sk-parallel-item:only-child::after {width: 0;}#sk-container-id-1 div.sk-dashed-wrapped {border: 1px dashed gray;margin: 0 0.4em 0.5em 0.4em;box-sizing: border-box;padding-bottom: 0.4em;background-color: white;}#sk-container-id-1 div.sk-label label {font-family: monospace;font-weight: bold;display: inline-block;line-height: 1.2em;}#sk-container-id-1 div.sk-label-container {text-align: center;}#sk-container-id-1 div.sk-container {/* jupyter's `normalize.less` sets `[hidden] { display: none; }` but bootstrap.min.css set `[hidden] { display: none !important; }` so we also need the `!important` here to be able to override the default hidden behavior on the sphinx rendered scikit-learn.org. See: https://github.com/scikit-learn/scikit-learn/issues/21755 */display: inline-block !important;position: relative;}#sk-container-id-1 div.sk-text-repr-fallback {display: none;}</style><div id=\"sk-container-id-1\" class=\"sk-top-container\"><div class=\"sk-text-repr-fallback\"><pre>GridSearchCV(cv=5, estimator=GradientBoostingClassifier(),\n",
       "             param_grid={&#x27;learning_rate&#x27;: [0.01], &#x27;max_depth&#x27;: [5],\n",
       "                         &#x27;n_estimators&#x27;: [100]},\n",
       "             scoring=&#x27;f1_macro&#x27;)</pre><b>In a Jupyter environment, please rerun this cell to show the HTML representation or trust the notebook. <br />On GitHub, the HTML representation is unable to render, please try loading this page with nbviewer.org.</b></div><div class=\"sk-container\" hidden><div class=\"sk-item sk-dashed-wrapped\"><div class=\"sk-label-container\"><div class=\"sk-label sk-toggleable\"><input class=\"sk-toggleable__control sk-hidden--visually\" id=\"sk-estimator-id-1\" type=\"checkbox\" ><label for=\"sk-estimator-id-1\" class=\"sk-toggleable__label sk-toggleable__label-arrow\">GridSearchCV</label><div class=\"sk-toggleable__content\"><pre>GridSearchCV(cv=5, estimator=GradientBoostingClassifier(),\n",
       "             param_grid={&#x27;learning_rate&#x27;: [0.01], &#x27;max_depth&#x27;: [5],\n",
       "                         &#x27;n_estimators&#x27;: [100]},\n",
       "             scoring=&#x27;f1_macro&#x27;)</pre></div></div></div><div class=\"sk-parallel\"><div class=\"sk-parallel-item\"><div class=\"sk-item\"><div class=\"sk-label-container\"><div class=\"sk-label sk-toggleable\"><input class=\"sk-toggleable__control sk-hidden--visually\" id=\"sk-estimator-id-2\" type=\"checkbox\" ><label for=\"sk-estimator-id-2\" class=\"sk-toggleable__label sk-toggleable__label-arrow\">estimator: GradientBoostingClassifier</label><div class=\"sk-toggleable__content\"><pre>GradientBoostingClassifier()</pre></div></div></div><div class=\"sk-serial\"><div class=\"sk-item\"><div class=\"sk-estimator sk-toggleable\"><input class=\"sk-toggleable__control sk-hidden--visually\" id=\"sk-estimator-id-3\" type=\"checkbox\" ><label for=\"sk-estimator-id-3\" class=\"sk-toggleable__label sk-toggleable__label-arrow\">GradientBoostingClassifier</label><div class=\"sk-toggleable__content\"><pre>GradientBoostingClassifier()</pre></div></div></div></div></div></div></div></div></div></div>"
      ],
      "text/plain": [
       "GridSearchCV(cv=5, estimator=GradientBoostingClassifier(),\n",
       "             param_grid={'learning_rate': [0.01], 'max_depth': [5],\n",
       "                         'n_estimators': [100]},\n",
       "             scoring='f1_macro')"
      ]
     },
     "execution_count": 16,
     "metadata": {},
     "output_type": "execute_result"
    }
   ],
   "source": [
    "from sklearn.ensemble import GradientBoostingClassifier\n",
    "from sklearn.metrics import accuracy_score, classification_report\n",
    "\n",
    "gb_classifier = GradientBoostingClassifier()\n",
    "\n",
    "param_grid = {'n_estimators': [100],\n",
    "    'learning_rate': [0.01],\n",
    "    'max_depth': [5]}\n",
    "\n",
    "grid_search_tree = GridSearchCV(estimator=gb_classifier, param_grid=param_grid, scoring='f1_macro', cv=5)\n",
    "\n",
    "grid_search_tree.fit(X_train, y_train_encoded)\n"
   ]
  },
  {
   "cell_type": "markdown",
   "metadata": {},
   "source": [
    "### Running and scoring the best model"
   ]
  },
  {
   "cell_type": "code",
   "execution_count": 17,
   "metadata": {},
   "outputs": [
    {
     "name": "stdout",
     "output_type": "stream",
     "text": [
      "Best Hyperparameters: {'learning_rate': 0.01, 'max_depth': 5, 'n_estimators': 100}\n",
      "Classification Report:\n",
      "               precision    recall  f1-score   support\n",
      "\n",
      "           0       0.91      0.95      0.93       273\n",
      "           1       0.93      0.90      0.91       167\n",
      "           2       0.50      0.25      0.33        16\n",
      "\n",
      "    accuracy                           0.91       456\n",
      "   macro avg       0.78      0.70      0.73       456\n",
      "weighted avg       0.90      0.91      0.90       456\n",
      "\n"
     ]
    }
   ],
   "source": [
    "from sklearn.metrics import accuracy_score, precision_score, recall_score, f1_score\n",
    "\n",
    "print(\"Best Hyperparameters:\", grid_search_tree.best_params_)\n",
    "\n",
    "best_model_gb = grid_search_tree.best_estimator_\n",
    "best_model_gb.fit(X_train, y_train_encoded)\n",
    "y_pred_tree = best_model_gb.predict(X_test)\n",
    "\n",
    "classification_rep = classification_report(y_test_encoded, y_pred_tree)\n",
    "print(\"Classification Report:\\n\", classification_rep)\n"
   ]
  },
  {
   "cell_type": "markdown",
   "metadata": {},
   "source": [
    "### Predicting the next election using Boosted Tree"
   ]
  },
  {
   "cell_type": "code",
   "execution_count": 18,
   "metadata": {},
   "outputs": [
    {
     "data": {
      "text/html": [
       "<div>\n",
       "<style scoped>\n",
       "    .dataframe tbody tr th:only-of-type {\n",
       "        vertical-align: middle;\n",
       "    }\n",
       "\n",
       "    .dataframe tbody tr th {\n",
       "        vertical-align: top;\n",
       "    }\n",
       "\n",
       "    .dataframe thead th {\n",
       "        text-align: right;\n",
       "    }\n",
       "</style>\n",
       "<table border=\"1\" class=\"dataframe\">\n",
       "  <thead>\n",
       "    <tr style=\"text-align: right;\">\n",
       "      <th></th>\n",
       "      <th>Value</th>\n",
       "      <th>Frequency</th>\n",
       "    </tr>\n",
       "  </thead>\n",
       "  <tbody>\n",
       "    <tr>\n",
       "      <th>0</th>\n",
       "      <td>0</td>\n",
       "      <td>298</td>\n",
       "    </tr>\n",
       "    <tr>\n",
       "      <th>1</th>\n",
       "      <td>1</td>\n",
       "      <td>270</td>\n",
       "    </tr>\n",
       "    <tr>\n",
       "      <th>2</th>\n",
       "      <td>2</td>\n",
       "      <td>5</td>\n",
       "    </tr>\n",
       "  </tbody>\n",
       "</table>\n",
       "</div>"
      ],
      "text/plain": [
       "   Value  Frequency\n",
       "0      0        298\n",
       "1      1        270\n",
       "2      2          5"
      ]
     },
     "execution_count": 18,
     "metadata": {},
     "output_type": "execute_result"
    }
   ],
   "source": [
    "y_new_tree = best_model_gb.predict(X_new)\n",
    "\n",
    "unique_values, counts = np.unique(y_new_tree, return_counts=True)\n",
    "\n",
    "frequency_table = np.column_stack((unique_values, counts))\n",
    "\n",
    "unique_values, counts = np.unique(y_new_tree, return_counts=True)\n",
    "frequency_table = pd.DataFrame({'Value': unique_values, 'Frequency': counts})\n",
    "\n",
    "frequency_table\n"
   ]
  },
  {
   "cell_type": "markdown",
   "metadata": {},
   "source": [
    "# K Nearest Neighbours"
   ]
  },
  {
   "cell_type": "markdown",
   "metadata": {},
   "source": [
    "### Grid search"
   ]
  },
  {
   "cell_type": "code",
   "execution_count": 19,
   "metadata": {},
   "outputs": [
    {
     "data": {
      "text/html": [
       "<style>#sk-container-id-2 {color: black;}#sk-container-id-2 pre{padding: 0;}#sk-container-id-2 div.sk-toggleable {background-color: white;}#sk-container-id-2 label.sk-toggleable__label {cursor: pointer;display: block;width: 100%;margin-bottom: 0;padding: 0.3em;box-sizing: border-box;text-align: center;}#sk-container-id-2 label.sk-toggleable__label-arrow:before {content: \"▸\";float: left;margin-right: 0.25em;color: #696969;}#sk-container-id-2 label.sk-toggleable__label-arrow:hover:before {color: black;}#sk-container-id-2 div.sk-estimator:hover label.sk-toggleable__label-arrow:before {color: black;}#sk-container-id-2 div.sk-toggleable__content {max-height: 0;max-width: 0;overflow: hidden;text-align: left;background-color: #f0f8ff;}#sk-container-id-2 div.sk-toggleable__content pre {margin: 0.2em;color: black;border-radius: 0.25em;background-color: #f0f8ff;}#sk-container-id-2 input.sk-toggleable__control:checked~div.sk-toggleable__content {max-height: 200px;max-width: 100%;overflow: auto;}#sk-container-id-2 input.sk-toggleable__control:checked~label.sk-toggleable__label-arrow:before {content: \"▾\";}#sk-container-id-2 div.sk-estimator input.sk-toggleable__control:checked~label.sk-toggleable__label {background-color: #d4ebff;}#sk-container-id-2 div.sk-label input.sk-toggleable__control:checked~label.sk-toggleable__label {background-color: #d4ebff;}#sk-container-id-2 input.sk-hidden--visually {border: 0;clip: rect(1px 1px 1px 1px);clip: rect(1px, 1px, 1px, 1px);height: 1px;margin: -1px;overflow: hidden;padding: 0;position: absolute;width: 1px;}#sk-container-id-2 div.sk-estimator {font-family: monospace;background-color: #f0f8ff;border: 1px dotted black;border-radius: 0.25em;box-sizing: border-box;margin-bottom: 0.5em;}#sk-container-id-2 div.sk-estimator:hover {background-color: #d4ebff;}#sk-container-id-2 div.sk-parallel-item::after {content: \"\";width: 100%;border-bottom: 1px solid gray;flex-grow: 1;}#sk-container-id-2 div.sk-label:hover label.sk-toggleable__label {background-color: #d4ebff;}#sk-container-id-2 div.sk-serial::before {content: \"\";position: absolute;border-left: 1px solid gray;box-sizing: border-box;top: 0;bottom: 0;left: 50%;z-index: 0;}#sk-container-id-2 div.sk-serial {display: flex;flex-direction: column;align-items: center;background-color: white;padding-right: 0.2em;padding-left: 0.2em;position: relative;}#sk-container-id-2 div.sk-item {position: relative;z-index: 1;}#sk-container-id-2 div.sk-parallel {display: flex;align-items: stretch;justify-content: center;background-color: white;position: relative;}#sk-container-id-2 div.sk-item::before, #sk-container-id-2 div.sk-parallel-item::before {content: \"\";position: absolute;border-left: 1px solid gray;box-sizing: border-box;top: 0;bottom: 0;left: 50%;z-index: -1;}#sk-container-id-2 div.sk-parallel-item {display: flex;flex-direction: column;z-index: 1;position: relative;background-color: white;}#sk-container-id-2 div.sk-parallel-item:first-child::after {align-self: flex-end;width: 50%;}#sk-container-id-2 div.sk-parallel-item:last-child::after {align-self: flex-start;width: 50%;}#sk-container-id-2 div.sk-parallel-item:only-child::after {width: 0;}#sk-container-id-2 div.sk-dashed-wrapped {border: 1px dashed gray;margin: 0 0.4em 0.5em 0.4em;box-sizing: border-box;padding-bottom: 0.4em;background-color: white;}#sk-container-id-2 div.sk-label label {font-family: monospace;font-weight: bold;display: inline-block;line-height: 1.2em;}#sk-container-id-2 div.sk-label-container {text-align: center;}#sk-container-id-2 div.sk-container {/* jupyter's `normalize.less` sets `[hidden] { display: none; }` but bootstrap.min.css set `[hidden] { display: none !important; }` so we also need the `!important` here to be able to override the default hidden behavior on the sphinx rendered scikit-learn.org. See: https://github.com/scikit-learn/scikit-learn/issues/21755 */display: inline-block !important;position: relative;}#sk-container-id-2 div.sk-text-repr-fallback {display: none;}</style><div id=\"sk-container-id-2\" class=\"sk-top-container\"><div class=\"sk-text-repr-fallback\"><pre>GridSearchCV(cv=5, estimator=KNeighborsClassifier(),\n",
       "             param_grid={&#x27;n_neighbors&#x27;: [3, 4, 5, 6, 7, 8]},\n",
       "             scoring=&#x27;f1_macro&#x27;)</pre><b>In a Jupyter environment, please rerun this cell to show the HTML representation or trust the notebook. <br />On GitHub, the HTML representation is unable to render, please try loading this page with nbviewer.org.</b></div><div class=\"sk-container\" hidden><div class=\"sk-item sk-dashed-wrapped\"><div class=\"sk-label-container\"><div class=\"sk-label sk-toggleable\"><input class=\"sk-toggleable__control sk-hidden--visually\" id=\"sk-estimator-id-4\" type=\"checkbox\" ><label for=\"sk-estimator-id-4\" class=\"sk-toggleable__label sk-toggleable__label-arrow\">GridSearchCV</label><div class=\"sk-toggleable__content\"><pre>GridSearchCV(cv=5, estimator=KNeighborsClassifier(),\n",
       "             param_grid={&#x27;n_neighbors&#x27;: [3, 4, 5, 6, 7, 8]},\n",
       "             scoring=&#x27;f1_macro&#x27;)</pre></div></div></div><div class=\"sk-parallel\"><div class=\"sk-parallel-item\"><div class=\"sk-item\"><div class=\"sk-label-container\"><div class=\"sk-label sk-toggleable\"><input class=\"sk-toggleable__control sk-hidden--visually\" id=\"sk-estimator-id-5\" type=\"checkbox\" ><label for=\"sk-estimator-id-5\" class=\"sk-toggleable__label sk-toggleable__label-arrow\">estimator: KNeighborsClassifier</label><div class=\"sk-toggleable__content\"><pre>KNeighborsClassifier()</pre></div></div></div><div class=\"sk-serial\"><div class=\"sk-item\"><div class=\"sk-estimator sk-toggleable\"><input class=\"sk-toggleable__control sk-hidden--visually\" id=\"sk-estimator-id-6\" type=\"checkbox\" ><label for=\"sk-estimator-id-6\" class=\"sk-toggleable__label sk-toggleable__label-arrow\">KNeighborsClassifier</label><div class=\"sk-toggleable__content\"><pre>KNeighborsClassifier()</pre></div></div></div></div></div></div></div></div></div></div>"
      ],
      "text/plain": [
       "GridSearchCV(cv=5, estimator=KNeighborsClassifier(),\n",
       "             param_grid={'n_neighbors': [3, 4, 5, 6, 7, 8]},\n",
       "             scoring='f1_macro')"
      ]
     },
     "execution_count": 19,
     "metadata": {},
     "output_type": "execute_result"
    }
   ],
   "source": [
    "from sklearn.model_selection import train_test_split\n",
    "from sklearn.neighbors import KNeighborsClassifier\n",
    "from sklearn.metrics import accuracy_score, classification_report\n",
    "\n",
    "knn_classifier = KNeighborsClassifier()  # You can adjust the number of neighbors (k) as needed\n",
    "\n",
    "param_grid_knn = {'n_neighbors': [3,4,5,6,7,8]}\n",
    "\n",
    "grid_search_knn = GridSearchCV(estimator=knn_classifier, param_grid=param_grid_knn, scoring='f1_macro', cv=5)\n",
    "\n",
    "# Fit the model to the training data\n",
    "grid_search_knn.fit(X_train, y_train_encoded)\n"
   ]
  },
  {
   "cell_type": "markdown",
   "metadata": {},
   "source": [
    "### Running and scoring the best model"
   ]
  },
  {
   "cell_type": "code",
   "execution_count": 20,
   "metadata": {},
   "outputs": [
    {
     "name": "stdout",
     "output_type": "stream",
     "text": [
      "Classification Report:\n",
      "               precision    recall  f1-score   support\n",
      "\n",
      "           0       0.91      0.93      0.92       273\n",
      "           1       0.90      0.87      0.89       167\n",
      "           2       0.53      0.50      0.52        16\n",
      "\n",
      "    accuracy                           0.89       456\n",
      "   macro avg       0.78      0.77      0.77       456\n",
      "weighted avg       0.89      0.89      0.89       456\n",
      "\n"
     ]
    }
   ],
   "source": [
    "# Make predictions on the test set\n",
    "best_model_knn = grid_search_knn.best_estimator_\n",
    "best_model_knn.fit(X_train, y_train_encoded)\n",
    "y_pred_knn = best_model_knn.predict(X_test)\n",
    "\n",
    "classification_rep = classification_report(y_test_encoded, y_pred_knn)\n",
    "\n",
    "print(\"Classification Report:\\n\", classification_rep)\n"
   ]
  },
  {
   "cell_type": "markdown",
   "metadata": {},
   "source": [
    "### Predicting the next election using KNN"
   ]
  },
  {
   "cell_type": "code",
   "execution_count": 21,
   "metadata": {},
   "outputs": [
    {
     "data": {
      "text/html": [
       "<div>\n",
       "<style scoped>\n",
       "    .dataframe tbody tr th:only-of-type {\n",
       "        vertical-align: middle;\n",
       "    }\n",
       "\n",
       "    .dataframe tbody tr th {\n",
       "        vertical-align: top;\n",
       "    }\n",
       "\n",
       "    .dataframe thead th {\n",
       "        text-align: right;\n",
       "    }\n",
       "</style>\n",
       "<table border=\"1\" class=\"dataframe\">\n",
       "  <thead>\n",
       "    <tr style=\"text-align: right;\">\n",
       "      <th></th>\n",
       "      <th>Value</th>\n",
       "      <th>Frequency</th>\n",
       "    </tr>\n",
       "  </thead>\n",
       "  <tbody>\n",
       "    <tr>\n",
       "      <th>0</th>\n",
       "      <td>0</td>\n",
       "      <td>286</td>\n",
       "    </tr>\n",
       "    <tr>\n",
       "      <th>1</th>\n",
       "      <td>1</td>\n",
       "      <td>271</td>\n",
       "    </tr>\n",
       "    <tr>\n",
       "      <th>2</th>\n",
       "      <td>2</td>\n",
       "      <td>16</td>\n",
       "    </tr>\n",
       "  </tbody>\n",
       "</table>\n",
       "</div>"
      ],
      "text/plain": [
       "   Value  Frequency\n",
       "0      0        286\n",
       "1      1        271\n",
       "2      2         16"
      ]
     },
     "execution_count": 21,
     "metadata": {},
     "output_type": "execute_result"
    }
   ],
   "source": [
    "y_new_knn = best_model_knn.predict(X_new)\n",
    "\n",
    "unique_values, counts = np.unique(y_new_knn, return_counts=True)\n",
    "\n",
    "frequency_table = np.column_stack((unique_values, counts))\n",
    "\n",
    "unique_values, counts = np.unique(y_new_knn, return_counts=True)\n",
    "frequency_table = pd.DataFrame({'Value': unique_values, 'Frequency': counts})\n",
    "\n",
    "frequency_table\n"
   ]
  },
  {
   "cell_type": "markdown",
   "metadata": {},
   "source": [
    "# SVC "
   ]
  },
  {
   "cell_type": "markdown",
   "metadata": {},
   "source": [
    "### Grid search"
   ]
  },
  {
   "cell_type": "code",
   "execution_count": 22,
   "metadata": {},
   "outputs": [
    {
     "data": {
      "text/html": [
       "<style>#sk-container-id-3 {color: black;}#sk-container-id-3 pre{padding: 0;}#sk-container-id-3 div.sk-toggleable {background-color: white;}#sk-container-id-3 label.sk-toggleable__label {cursor: pointer;display: block;width: 100%;margin-bottom: 0;padding: 0.3em;box-sizing: border-box;text-align: center;}#sk-container-id-3 label.sk-toggleable__label-arrow:before {content: \"▸\";float: left;margin-right: 0.25em;color: #696969;}#sk-container-id-3 label.sk-toggleable__label-arrow:hover:before {color: black;}#sk-container-id-3 div.sk-estimator:hover label.sk-toggleable__label-arrow:before {color: black;}#sk-container-id-3 div.sk-toggleable__content {max-height: 0;max-width: 0;overflow: hidden;text-align: left;background-color: #f0f8ff;}#sk-container-id-3 div.sk-toggleable__content pre {margin: 0.2em;color: black;border-radius: 0.25em;background-color: #f0f8ff;}#sk-container-id-3 input.sk-toggleable__control:checked~div.sk-toggleable__content {max-height: 200px;max-width: 100%;overflow: auto;}#sk-container-id-3 input.sk-toggleable__control:checked~label.sk-toggleable__label-arrow:before {content: \"▾\";}#sk-container-id-3 div.sk-estimator input.sk-toggleable__control:checked~label.sk-toggleable__label {background-color: #d4ebff;}#sk-container-id-3 div.sk-label input.sk-toggleable__control:checked~label.sk-toggleable__label {background-color: #d4ebff;}#sk-container-id-3 input.sk-hidden--visually {border: 0;clip: rect(1px 1px 1px 1px);clip: rect(1px, 1px, 1px, 1px);height: 1px;margin: -1px;overflow: hidden;padding: 0;position: absolute;width: 1px;}#sk-container-id-3 div.sk-estimator {font-family: monospace;background-color: #f0f8ff;border: 1px dotted black;border-radius: 0.25em;box-sizing: border-box;margin-bottom: 0.5em;}#sk-container-id-3 div.sk-estimator:hover {background-color: #d4ebff;}#sk-container-id-3 div.sk-parallel-item::after {content: \"\";width: 100%;border-bottom: 1px solid gray;flex-grow: 1;}#sk-container-id-3 div.sk-label:hover label.sk-toggleable__label {background-color: #d4ebff;}#sk-container-id-3 div.sk-serial::before {content: \"\";position: absolute;border-left: 1px solid gray;box-sizing: border-box;top: 0;bottom: 0;left: 50%;z-index: 0;}#sk-container-id-3 div.sk-serial {display: flex;flex-direction: column;align-items: center;background-color: white;padding-right: 0.2em;padding-left: 0.2em;position: relative;}#sk-container-id-3 div.sk-item {position: relative;z-index: 1;}#sk-container-id-3 div.sk-parallel {display: flex;align-items: stretch;justify-content: center;background-color: white;position: relative;}#sk-container-id-3 div.sk-item::before, #sk-container-id-3 div.sk-parallel-item::before {content: \"\";position: absolute;border-left: 1px solid gray;box-sizing: border-box;top: 0;bottom: 0;left: 50%;z-index: -1;}#sk-container-id-3 div.sk-parallel-item {display: flex;flex-direction: column;z-index: 1;position: relative;background-color: white;}#sk-container-id-3 div.sk-parallel-item:first-child::after {align-self: flex-end;width: 50%;}#sk-container-id-3 div.sk-parallel-item:last-child::after {align-self: flex-start;width: 50%;}#sk-container-id-3 div.sk-parallel-item:only-child::after {width: 0;}#sk-container-id-3 div.sk-dashed-wrapped {border: 1px dashed gray;margin: 0 0.4em 0.5em 0.4em;box-sizing: border-box;padding-bottom: 0.4em;background-color: white;}#sk-container-id-3 div.sk-label label {font-family: monospace;font-weight: bold;display: inline-block;line-height: 1.2em;}#sk-container-id-3 div.sk-label-container {text-align: center;}#sk-container-id-3 div.sk-container {/* jupyter's `normalize.less` sets `[hidden] { display: none; }` but bootstrap.min.css set `[hidden] { display: none !important; }` so we also need the `!important` here to be able to override the default hidden behavior on the sphinx rendered scikit-learn.org. See: https://github.com/scikit-learn/scikit-learn/issues/21755 */display: inline-block !important;position: relative;}#sk-container-id-3 div.sk-text-repr-fallback {display: none;}</style><div id=\"sk-container-id-3\" class=\"sk-top-container\"><div class=\"sk-text-repr-fallback\"><pre>GridSearchCV(cv=5, estimator=SVC(),\n",
       "             param_grid={&#x27;C&#x27;: [0.1, 1, 10, 100], &#x27;gamma&#x27;: [&#x27;scale&#x27;, &#x27;auto&#x27;],\n",
       "                         &#x27;kernel&#x27;: [&#x27;linear&#x27;, &#x27;rbf&#x27;]},\n",
       "             scoring=&#x27;accuracy&#x27;)</pre><b>In a Jupyter environment, please rerun this cell to show the HTML representation or trust the notebook. <br />On GitHub, the HTML representation is unable to render, please try loading this page with nbviewer.org.</b></div><div class=\"sk-container\" hidden><div class=\"sk-item sk-dashed-wrapped\"><div class=\"sk-label-container\"><div class=\"sk-label sk-toggleable\"><input class=\"sk-toggleable__control sk-hidden--visually\" id=\"sk-estimator-id-7\" type=\"checkbox\" ><label for=\"sk-estimator-id-7\" class=\"sk-toggleable__label sk-toggleable__label-arrow\">GridSearchCV</label><div class=\"sk-toggleable__content\"><pre>GridSearchCV(cv=5, estimator=SVC(),\n",
       "             param_grid={&#x27;C&#x27;: [0.1, 1, 10, 100], &#x27;gamma&#x27;: [&#x27;scale&#x27;, &#x27;auto&#x27;],\n",
       "                         &#x27;kernel&#x27;: [&#x27;linear&#x27;, &#x27;rbf&#x27;]},\n",
       "             scoring=&#x27;accuracy&#x27;)</pre></div></div></div><div class=\"sk-parallel\"><div class=\"sk-parallel-item\"><div class=\"sk-item\"><div class=\"sk-label-container\"><div class=\"sk-label sk-toggleable\"><input class=\"sk-toggleable__control sk-hidden--visually\" id=\"sk-estimator-id-8\" type=\"checkbox\" ><label for=\"sk-estimator-id-8\" class=\"sk-toggleable__label sk-toggleable__label-arrow\">estimator: SVC</label><div class=\"sk-toggleable__content\"><pre>SVC()</pre></div></div></div><div class=\"sk-serial\"><div class=\"sk-item\"><div class=\"sk-estimator sk-toggleable\"><input class=\"sk-toggleable__control sk-hidden--visually\" id=\"sk-estimator-id-9\" type=\"checkbox\" ><label for=\"sk-estimator-id-9\" class=\"sk-toggleable__label sk-toggleable__label-arrow\">SVC</label><div class=\"sk-toggleable__content\"><pre>SVC()</pre></div></div></div></div></div></div></div></div></div></div>"
      ],
      "text/plain": [
       "GridSearchCV(cv=5, estimator=SVC(),\n",
       "             param_grid={'C': [0.1, 1, 10, 100], 'gamma': ['scale', 'auto'],\n",
       "                         'kernel': ['linear', 'rbf']},\n",
       "             scoring='accuracy')"
      ]
     },
     "execution_count": 22,
     "metadata": {},
     "output_type": "execute_result"
    }
   ],
   "source": [
    "from sklearn.svm import SVC\n",
    "\n",
    "svc_classifier = SVC()\n",
    "\n",
    "param_grid = {\n",
    "    'C': [0.1, 1, 10, 100],        # Regularization parameter\n",
    "    'kernel': ['linear', 'rbf'],  # Kernel type\n",
    "    'gamma': ['scale', 'auto'],    # Kernel coefficient\n",
    "}\n",
    "\n",
    "grid_search_svc = GridSearchCV(estimator=svc_classifier, param_grid=param_grid, scoring='accuracy', cv=5)\n",
    "\n",
    "grid_search_svc.fit(X_train, y_train_encoded)\n"
   ]
  },
  {
   "cell_type": "markdown",
   "metadata": {},
   "source": [
    "### Running and scoring the best model"
   ]
  },
  {
   "cell_type": "code",
   "execution_count": 23,
   "metadata": {},
   "outputs": [
    {
     "name": "stdout",
     "output_type": "stream",
     "text": [
      "Classification Report:\n",
      "               precision    recall  f1-score   support\n",
      "\n",
      "           0       0.93      0.94      0.94       273\n",
      "           1       0.92      0.92      0.92       167\n",
      "           2       0.54      0.44      0.48        16\n",
      "\n",
      "    accuracy                           0.91       456\n",
      "   macro avg       0.80      0.77      0.78       456\n",
      "weighted avg       0.91      0.91      0.91       456\n",
      "\n"
     ]
    }
   ],
   "source": [
    "best_svc = grid_search_svc.best_estimator_\n",
    "\n",
    "best_svc.fit(X_train, y_train_encoded)\n",
    "\n",
    "y_pred_svc = best_svc.predict(X_test)\n",
    "\n",
    "classification_rep = classification_report(y_test_encoded, y_pred_svc)\n",
    "\n",
    "print(\"Classification Report:\\n\", classification_rep)\n"
   ]
  },
  {
   "cell_type": "markdown",
   "metadata": {},
   "source": [
    "### Predicting the next election using SVC"
   ]
  },
  {
   "cell_type": "code",
   "execution_count": 24,
   "metadata": {},
   "outputs": [
    {
     "data": {
      "text/html": [
       "<div>\n",
       "<style scoped>\n",
       "    .dataframe tbody tr th:only-of-type {\n",
       "        vertical-align: middle;\n",
       "    }\n",
       "\n",
       "    .dataframe tbody tr th {\n",
       "        vertical-align: top;\n",
       "    }\n",
       "\n",
       "    .dataframe thead th {\n",
       "        text-align: right;\n",
       "    }\n",
       "</style>\n",
       "<table border=\"1\" class=\"dataframe\">\n",
       "  <thead>\n",
       "    <tr style=\"text-align: right;\">\n",
       "      <th></th>\n",
       "      <th>Value</th>\n",
       "      <th>Frequency</th>\n",
       "    </tr>\n",
       "  </thead>\n",
       "  <tbody>\n",
       "    <tr>\n",
       "      <th>0</th>\n",
       "      <td>0</td>\n",
       "      <td>277</td>\n",
       "    </tr>\n",
       "    <tr>\n",
       "      <th>1</th>\n",
       "      <td>1</td>\n",
       "      <td>263</td>\n",
       "    </tr>\n",
       "    <tr>\n",
       "      <th>2</th>\n",
       "      <td>2</td>\n",
       "      <td>33</td>\n",
       "    </tr>\n",
       "  </tbody>\n",
       "</table>\n",
       "</div>"
      ],
      "text/plain": [
       "   Value  Frequency\n",
       "0      0        277\n",
       "1      1        263\n",
       "2      2         33"
      ]
     },
     "execution_count": 24,
     "metadata": {},
     "output_type": "execute_result"
    }
   ],
   "source": [
    "y_new_SVC = best_svc.predict(X_new)\n",
    "\n",
    "unique_values, counts = np.unique(y_new_SVC, return_counts=True)\n",
    "\n",
    "frequency_table = np.column_stack((unique_values, counts))\n",
    "\n",
    "unique_values, counts = np.unique(y_new_SVC, return_counts=True)\n",
    "frequency_table = pd.DataFrame({'Value': unique_values, 'Frequency': counts})\n",
    "\n",
    "frequency_table\n"
   ]
  },
  {
   "cell_type": "code",
   "execution_count": null,
   "metadata": {},
   "outputs": [],
   "source": []
  },
  {
   "cell_type": "code",
   "execution_count": null,
   "metadata": {},
   "outputs": [],
   "source": []
  },
  {
   "cell_type": "markdown",
   "metadata": {},
   "source": []
  }
 ],
 "metadata": {
  "kernelspec": {
   "display_name": "lewagon",
   "language": "python",
   "name": "python3"
  },
  "language_info": {
   "codemirror_mode": {
    "name": "ipython",
    "version": 3
   },
   "file_extension": ".py",
   "mimetype": "text/x-python",
   "name": "python",
   "nbconvert_exporter": "python",
   "pygments_lexer": "ipython3",
   "version": "3.10.6"
  }
 },
 "nbformat": 4,
 "nbformat_minor": 2
}
