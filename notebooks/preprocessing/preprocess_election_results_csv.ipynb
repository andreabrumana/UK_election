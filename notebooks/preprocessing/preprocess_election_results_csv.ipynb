{
 "cells": [
  {
   "cell_type": "code",
   "execution_count": 46,
   "metadata": {},
   "outputs": [],
   "source": [
    "import numpy as np\n",
    "import pandas as pd\n"
   ]
  },
  {
   "cell_type": "code",
   "execution_count": 47,
   "metadata": {},
   "outputs": [],
   "source": [
    "# The data is manually cleaned and will not change in future!\n",
    "\n",
    "input_df = pd.read_csv(\"/Users/andreabrumana/code/willgreen93/UK_election/raw_data/general_election_results.csv\")\n"
   ]
  },
  {
   "cell_type": "code",
   "execution_count": 48,
   "metadata": {},
   "outputs": [
    {
     "data": {
      "text/html": [
       "<div>\n",
       "<style scoped>\n",
       "    .dataframe tbody tr th:only-of-type {\n",
       "        vertical-align: middle;\n",
       "    }\n",
       "\n",
       "    .dataframe tbody tr th {\n",
       "        vertical-align: top;\n",
       "    }\n",
       "\n",
       "    .dataframe thead th {\n",
       "        text-align: right;\n",
       "    }\n",
       "</style>\n",
       "<table border=\"1\" class=\"dataframe\">\n",
       "  <thead>\n",
       "    <tr style=\"text-align: right;\">\n",
       "      <th></th>\n",
       "      <th>constituency_id</th>\n",
       "      <th>constituency_name</th>\n",
       "      <th>country/region</th>\n",
       "      <th>electorate</th>\n",
       "      <th>con_votes</th>\n",
       "      <th>con_share</th>\n",
       "      <th>lib_votes</th>\n",
       "      <th>lib_share</th>\n",
       "      <th>lab_votes</th>\n",
       "      <th>lab_share</th>\n",
       "      <th>natSW_votes</th>\n",
       "      <th>natSW_share</th>\n",
       "      <th>oth_votes</th>\n",
       "      <th>oth_share</th>\n",
       "      <th>total_votes</th>\n",
       "      <th>turnout</th>\n",
       "      <th>election</th>\n",
       "    </tr>\n",
       "  </thead>\n",
       "  <tbody>\n",
       "    <tr>\n",
       "      <th>0</th>\n",
       "      <td>W07000049</td>\n",
       "      <td>Aberavon</td>\n",
       "      <td>Wales</td>\n",
       "      <td>51242</td>\n",
       "      <td>3064.0</td>\n",
       "      <td>0.102</td>\n",
       "      <td>4140.0</td>\n",
       "      <td>0.138</td>\n",
       "      <td>18077.0</td>\n",
       "      <td>0.600</td>\n",
       "      <td>3545.0</td>\n",
       "      <td>0.118</td>\n",
       "      <td>1278.0</td>\n",
       "      <td>0.042</td>\n",
       "      <td>30104</td>\n",
       "      <td>0.587</td>\n",
       "      <td>2005</td>\n",
       "    </tr>\n",
       "    <tr>\n",
       "      <th>1</th>\n",
       "      <td>S14000001</td>\n",
       "      <td>Aberdeen North</td>\n",
       "      <td>Scotland</td>\n",
       "      <td>64834</td>\n",
       "      <td>3456.0</td>\n",
       "      <td>0.094</td>\n",
       "      <td>8762.0</td>\n",
       "      <td>0.239</td>\n",
       "      <td>15557.0</td>\n",
       "      <td>0.425</td>\n",
       "      <td>8168.0</td>\n",
       "      <td>0.223</td>\n",
       "      <td>691.0</td>\n",
       "      <td>0.019</td>\n",
       "      <td>36634</td>\n",
       "      <td>0.565</td>\n",
       "      <td>2005</td>\n",
       "    </tr>\n",
       "    <tr>\n",
       "      <th>2</th>\n",
       "      <td>S14000002</td>\n",
       "      <td>Aberdeen South</td>\n",
       "      <td>Scotland</td>\n",
       "      <td>65995</td>\n",
       "      <td>7134.0</td>\n",
       "      <td>0.171</td>\n",
       "      <td>13924.0</td>\n",
       "      <td>0.335</td>\n",
       "      <td>15272.0</td>\n",
       "      <td>0.367</td>\n",
       "      <td>4120.0</td>\n",
       "      <td>0.099</td>\n",
       "      <td>1171.0</td>\n",
       "      <td>0.028</td>\n",
       "      <td>41621</td>\n",
       "      <td>0.631</td>\n",
       "      <td>2005</td>\n",
       "    </tr>\n",
       "    <tr>\n",
       "      <th>3</th>\n",
       "      <td>S14000003</td>\n",
       "      <td>Airdrie &amp; Shotts</td>\n",
       "      <td>Scotland</td>\n",
       "      <td>61865</td>\n",
       "      <td>3271.0</td>\n",
       "      <td>0.099</td>\n",
       "      <td>3792.0</td>\n",
       "      <td>0.114</td>\n",
       "      <td>19568.0</td>\n",
       "      <td>0.590</td>\n",
       "      <td>5484.0</td>\n",
       "      <td>0.165</td>\n",
       "      <td>1043.0</td>\n",
       "      <td>0.031</td>\n",
       "      <td>33158</td>\n",
       "      <td>0.536</td>\n",
       "      <td>2005</td>\n",
       "    </tr>\n",
       "    <tr>\n",
       "      <th>4</th>\n",
       "      <td>E14000530</td>\n",
       "      <td>Aldershot</td>\n",
       "      <td>South East</td>\n",
       "      <td>77644</td>\n",
       "      <td>20572.0</td>\n",
       "      <td>0.427</td>\n",
       "      <td>15238.0</td>\n",
       "      <td>0.317</td>\n",
       "      <td>9895.0</td>\n",
       "      <td>0.206</td>\n",
       "      <td>NaN</td>\n",
       "      <td>NaN</td>\n",
       "      <td>2436.0</td>\n",
       "      <td>0.051</td>\n",
       "      <td>48141</td>\n",
       "      <td>0.620</td>\n",
       "      <td>2005</td>\n",
       "    </tr>\n",
       "  </tbody>\n",
       "</table>\n",
       "</div>"
      ],
      "text/plain": [
       "  constituency_id constituency_name country/region  electorate  con_votes  \\\n",
       "0       W07000049          Aberavon          Wales       51242     3064.0   \n",
       "1       S14000001    Aberdeen North       Scotland       64834     3456.0   \n",
       "2       S14000002    Aberdeen South       Scotland       65995     7134.0   \n",
       "3       S14000003  Airdrie & Shotts       Scotland       61865     3271.0   \n",
       "4       E14000530         Aldershot     South East       77644    20572.0   \n",
       "\n",
       "   con_share  lib_votes   lib_share  lab_votes  lab_share  natSW_votes  \\\n",
       "0      0.102      4140.0      0.138    18077.0      0.600       3545.0   \n",
       "1      0.094      8762.0      0.239    15557.0      0.425       8168.0   \n",
       "2      0.171     13924.0      0.335    15272.0      0.367       4120.0   \n",
       "3      0.099      3792.0      0.114    19568.0      0.590       5484.0   \n",
       "4      0.427     15238.0      0.317     9895.0      0.206          NaN   \n",
       "\n",
       "   natSW_share  oth_votes  oth_share  total_votes  turnout   election  \n",
       "0        0.118     1278.0      0.042        30104     0.587      2005  \n",
       "1        0.223      691.0      0.019        36634     0.565      2005  \n",
       "2        0.099     1171.0      0.028        41621     0.631      2005  \n",
       "3        0.165     1043.0      0.031        33158     0.536      2005  \n",
       "4          NaN     2436.0      0.051        48141     0.620      2005  "
      ]
     },
     "execution_count": 48,
     "metadata": {},
     "output_type": "execute_result"
    }
   ],
   "source": [
    "input_df.head()\n"
   ]
  },
  {
   "cell_type": "code",
   "execution_count": 49,
   "metadata": {},
   "outputs": [
    {
     "name": "stdout",
     "output_type": "stream",
     "text": [
      "<class 'pandas.core.frame.DataFrame'>\n",
      "RangeIndex: 3246 entries, 0 to 3245\n",
      "Data columns (total 17 columns):\n",
      " #   Column             Non-Null Count  Dtype  \n",
      "---  ------             --------------  -----  \n",
      " 0   constituency_id    3246 non-null   object \n",
      " 1   constituency_name  3246 non-null   object \n",
      " 2   country/region     3246 non-null   object \n",
      " 3   electorate         3246 non-null   int64  \n",
      " 4   con_votes          3182 non-null   float64\n",
      " 5   con_share          3182 non-null   float64\n",
      " 6   lib_votes          3131 non-null   float64\n",
      " 7   lib_share          3131 non-null   float64\n",
      " 8   lab_votes          3152 non-null   float64\n",
      " 9   lab_share          3152 non-null   float64\n",
      " 10  natSW_votes        491 non-null    float64\n",
      " 11  natSW_share        491 non-null    float64\n",
      " 12  oth_votes          3105 non-null   float64\n",
      " 13  oth_share          3105 non-null   float64\n",
      " 14  total_votes        3246 non-null   int64  \n",
      " 15  turnout            3246 non-null   float64\n",
      " 16  election           3246 non-null   int64  \n",
      "dtypes: float64(11), int64(3), object(3)\n",
      "memory usage: 431.2+ KB\n"
     ]
    }
   ],
   "source": [
    "input_df.info()\n"
   ]
  },
  {
   "cell_type": "markdown",
   "metadata": {},
   "source": [
    "# Step 1. Simplify DF structure\n"
   ]
  },
  {
   "cell_type": "code",
   "execution_count": 50,
   "metadata": {},
   "outputs": [],
   "source": [
    "# Clean the column names\n",
    "input_df.columns = input_df.columns.str.strip()\n",
    "# Fill the NaN with 0 (when NaN means 0, since no votes)\n",
    "input_df.fillna(0, inplace=True)\n"
   ]
  },
  {
   "cell_type": "code",
   "execution_count": 51,
   "metadata": {},
   "outputs": [],
   "source": [
    "# Remove and rename columns\n",
    "input_df.drop(['electorate', 'turnout'], axis=1, inplace=True)\n",
    "input_df.rename(columns={'election': 'year'}, inplace=True)\n"
   ]
  },
  {
   "cell_type": "code",
   "execution_count": 54,
   "metadata": {},
   "outputs": [],
   "source": [
    "# group oth and natSW, and drop the ones that are not needed\n",
    "input_df['other_votes'] = input_df['natSW_votes']+input_df['oth_votes']\n",
    "input_df['other_share'] = input_df['natSW_share']+input_df['oth_share']\n",
    "input_df.drop(['natSW_votes', 'oth_votes', 'natSW_share', 'oth_share'], axis=1, inplace=True)\n"
   ]
  },
  {
   "cell_type": "code",
   "execution_count": 57,
   "metadata": {},
   "outputs": [
    {
     "data": {
      "text/html": [
       "<div>\n",
       "<style scoped>\n",
       "    .dataframe tbody tr th:only-of-type {\n",
       "        vertical-align: middle;\n",
       "    }\n",
       "\n",
       "    .dataframe tbody tr th {\n",
       "        vertical-align: top;\n",
       "    }\n",
       "\n",
       "    .dataframe thead th {\n",
       "        text-align: right;\n",
       "    }\n",
       "</style>\n",
       "<table border=\"1\" class=\"dataframe\">\n",
       "  <thead>\n",
       "    <tr style=\"text-align: right;\">\n",
       "      <th></th>\n",
       "      <th>constituency_id</th>\n",
       "      <th>constituency_name</th>\n",
       "      <th>country/region</th>\n",
       "      <th>con_votes</th>\n",
       "      <th>con_share</th>\n",
       "      <th>lib_votes</th>\n",
       "      <th>lib_share</th>\n",
       "      <th>lab_votes</th>\n",
       "      <th>lab_share</th>\n",
       "      <th>total_votes</th>\n",
       "      <th>year</th>\n",
       "      <th>other_votes</th>\n",
       "      <th>other_share</th>\n",
       "    </tr>\n",
       "  </thead>\n",
       "  <tbody>\n",
       "    <tr>\n",
       "      <th>0</th>\n",
       "      <td>W07000049</td>\n",
       "      <td>Aberavon</td>\n",
       "      <td>Wales</td>\n",
       "      <td>3064.0</td>\n",
       "      <td>0.102</td>\n",
       "      <td>4140.0</td>\n",
       "      <td>0.138</td>\n",
       "      <td>18077.0</td>\n",
       "      <td>0.600</td>\n",
       "      <td>30104</td>\n",
       "      <td>2005</td>\n",
       "      <td>4823.0</td>\n",
       "      <td>0.160</td>\n",
       "    </tr>\n",
       "    <tr>\n",
       "      <th>1</th>\n",
       "      <td>S14000001</td>\n",
       "      <td>Aberdeen North</td>\n",
       "      <td>Scotland</td>\n",
       "      <td>3456.0</td>\n",
       "      <td>0.094</td>\n",
       "      <td>8762.0</td>\n",
       "      <td>0.239</td>\n",
       "      <td>15557.0</td>\n",
       "      <td>0.425</td>\n",
       "      <td>36634</td>\n",
       "      <td>2005</td>\n",
       "      <td>8859.0</td>\n",
       "      <td>0.242</td>\n",
       "    </tr>\n",
       "    <tr>\n",
       "      <th>2</th>\n",
       "      <td>S14000002</td>\n",
       "      <td>Aberdeen South</td>\n",
       "      <td>Scotland</td>\n",
       "      <td>7134.0</td>\n",
       "      <td>0.171</td>\n",
       "      <td>13924.0</td>\n",
       "      <td>0.335</td>\n",
       "      <td>15272.0</td>\n",
       "      <td>0.367</td>\n",
       "      <td>41621</td>\n",
       "      <td>2005</td>\n",
       "      <td>5291.0</td>\n",
       "      <td>0.127</td>\n",
       "    </tr>\n",
       "    <tr>\n",
       "      <th>3</th>\n",
       "      <td>S14000003</td>\n",
       "      <td>Airdrie &amp; Shotts</td>\n",
       "      <td>Scotland</td>\n",
       "      <td>3271.0</td>\n",
       "      <td>0.099</td>\n",
       "      <td>3792.0</td>\n",
       "      <td>0.114</td>\n",
       "      <td>19568.0</td>\n",
       "      <td>0.590</td>\n",
       "      <td>33158</td>\n",
       "      <td>2005</td>\n",
       "      <td>6527.0</td>\n",
       "      <td>0.196</td>\n",
       "    </tr>\n",
       "    <tr>\n",
       "      <th>4</th>\n",
       "      <td>E14000530</td>\n",
       "      <td>Aldershot</td>\n",
       "      <td>South East</td>\n",
       "      <td>20572.0</td>\n",
       "      <td>0.427</td>\n",
       "      <td>15238.0</td>\n",
       "      <td>0.317</td>\n",
       "      <td>9895.0</td>\n",
       "      <td>0.206</td>\n",
       "      <td>48141</td>\n",
       "      <td>2005</td>\n",
       "      <td>2436.0</td>\n",
       "      <td>0.051</td>\n",
       "    </tr>\n",
       "  </tbody>\n",
       "</table>\n",
       "</div>"
      ],
      "text/plain": [
       "  constituency_id constituency_name country/region  con_votes  con_share  \\\n",
       "0       W07000049          Aberavon          Wales     3064.0      0.102   \n",
       "1       S14000001    Aberdeen North       Scotland     3456.0      0.094   \n",
       "2       S14000002    Aberdeen South       Scotland     7134.0      0.171   \n",
       "3       S14000003  Airdrie & Shotts       Scotland     3271.0      0.099   \n",
       "4       E14000530         Aldershot     South East    20572.0      0.427   \n",
       "\n",
       "   lib_votes  lib_share  lab_votes  lab_share  total_votes  year  other_votes  \\\n",
       "0     4140.0      0.138    18077.0      0.600        30104  2005       4823.0   \n",
       "1     8762.0      0.239    15557.0      0.425        36634  2005       8859.0   \n",
       "2    13924.0      0.335    15272.0      0.367        41621  2005       5291.0   \n",
       "3     3792.0      0.114    19568.0      0.590        33158  2005       6527.0   \n",
       "4    15238.0      0.317     9895.0      0.206        48141  2005       2436.0   \n",
       "\n",
       "   other_share  \n",
       "0        0.160  \n",
       "1        0.242  \n",
       "2        0.127  \n",
       "3        0.196  \n",
       "4        0.051  "
      ]
     },
     "execution_count": 57,
     "metadata": {},
     "output_type": "execute_result"
    }
   ],
   "source": [
    "input_df.head()\n"
   ]
  },
  {
   "cell_type": "markdown",
   "metadata": {},
   "source": [
    "# Step 2 - Get previous data per each year\n"
   ]
  },
  {
   "cell_type": "code",
   "execution_count": 58,
   "metadata": {},
   "outputs": [],
   "source": [
    "# Get previous share per party by constituency\n",
    "input_df['con_share_prev'] = input_df.groupby('constituency_id')['con_share'].shift(1)\n",
    "input_df['lib_share_prev'] = input_df.groupby('constituency_id')['lib_share'].shift(1)\n",
    "input_df['lab_share_prev'] = input_df.groupby('constituency_id')['lab_share'].shift(1)\n",
    "input_df['other_share_prev'] = input_df.groupby('constituency_id')['other_share'].shift(1)\n"
   ]
  },
  {
   "cell_type": "code",
   "execution_count": 63,
   "metadata": {},
   "outputs": [],
   "source": [
    "input_df = input_df[input_df.year != 2005]\n"
   ]
  },
  {
   "cell_type": "code",
   "execution_count": 66,
   "metadata": {},
   "outputs": [
    {
     "name": "stdout",
     "output_type": "stream",
     "text": [
      "<class 'pandas.core.frame.DataFrame'>\n",
      "Int64Index: 2600 entries, 646 to 3245\n",
      "Data columns (total 17 columns):\n",
      " #   Column             Non-Null Count  Dtype  \n",
      "---  ------             --------------  -----  \n",
      " 0   constituency_id    2600 non-null   object \n",
      " 1   constituency_name  2600 non-null   object \n",
      " 2   country/region     2600 non-null   object \n",
      " 3   con_votes          2600 non-null   float64\n",
      " 4   con_share          2600 non-null   float64\n",
      " 5   lib_votes          2600 non-null   float64\n",
      " 6   lib_share          2600 non-null   float64\n",
      " 7   lab_votes          2600 non-null   float64\n",
      " 8   lab_share          2600 non-null   float64\n",
      " 9   total_votes        2600 non-null   int64  \n",
      " 10  year               2600 non-null   int64  \n",
      " 11  other_votes        2600 non-null   float64\n",
      " 12  other_share        2600 non-null   float64\n",
      " 13  con_share_prev     2587 non-null   float64\n",
      " 14  lib_share_prev     2587 non-null   float64\n",
      " 15  lab_share_prev     2587 non-null   float64\n",
      " 16  other_share_prev   2587 non-null   float64\n",
      "dtypes: float64(12), int64(2), object(3)\n",
      "memory usage: 365.6+ KB\n"
     ]
    }
   ],
   "source": [
    "input_df.info()\n"
   ]
  },
  {
   "cell_type": "code",
   "execution_count": 75,
   "metadata": {},
   "outputs": [
    {
     "data": {
      "text/html": [
       "<div>\n",
       "<style scoped>\n",
       "    .dataframe tbody tr th:only-of-type {\n",
       "        vertical-align: middle;\n",
       "    }\n",
       "\n",
       "    .dataframe tbody tr th {\n",
       "        vertical-align: top;\n",
       "    }\n",
       "\n",
       "    .dataframe thead th {\n",
       "        text-align: right;\n",
       "    }\n",
       "</style>\n",
       "<table border=\"1\" class=\"dataframe\">\n",
       "  <thead>\n",
       "    <tr style=\"text-align: right;\">\n",
       "      <th></th>\n",
       "      <th>constituency_id</th>\n",
       "      <th>constituency_name</th>\n",
       "      <th>country/region</th>\n",
       "      <th>con_votes</th>\n",
       "      <th>con_share</th>\n",
       "      <th>lib_votes</th>\n",
       "      <th>lib_share</th>\n",
       "      <th>lab_votes</th>\n",
       "      <th>lab_share</th>\n",
       "      <th>total_votes</th>\n",
       "      <th>year</th>\n",
       "      <th>other_votes</th>\n",
       "      <th>other_share</th>\n",
       "      <th>con_share_prev</th>\n",
       "      <th>lib_share_prev</th>\n",
       "      <th>lab_share_prev</th>\n",
       "      <th>other_share_prev</th>\n",
       "      <th>check</th>\n",
       "    </tr>\n",
       "  </thead>\n",
       "  <tbody>\n",
       "  </tbody>\n",
       "</table>\n",
       "</div>"
      ],
      "text/plain": [
       "Empty DataFrame\n",
       "Columns: [constituency_id, constituency_name, country/region, con_votes, con_share, lib_votes, lib_share, lab_votes, lab_share, total_votes, year, other_votes, other_share, con_share_prev, lib_share_prev, lab_share_prev, other_share_prev, check]\n",
       "Index: []"
      ]
     },
     "execution_count": 75,
     "metadata": {},
     "output_type": "execute_result"
    }
   ],
   "source": [
    "# in 2010, do not have previous data for 13 constituencies (new ones), so we drop\n",
    "input_df[input_df['con_share_prev'].isnull()]\n"
   ]
  },
  {
   "cell_type": "code",
   "execution_count": 73,
   "metadata": {},
   "outputs": [
    {
     "name": "stderr",
     "output_type": "stream",
     "text": [
      "/var/folders/bq/jnyjwp3x1l52s_tgtr9v62kh0000gn/T/ipykernel_3773/3657764070.py:1: SettingWithCopyWarning: \n",
      "A value is trying to be set on a copy of a slice from a DataFrame\n",
      "\n",
      "See the caveats in the documentation: https://pandas.pydata.org/pandas-docs/stable/user_guide/indexing.html#returning-a-view-versus-a-copy\n",
      "  input_df.dropna(inplace=True)\n"
     ]
    }
   ],
   "source": [
    "input_df.dropna(inplace=True)\n"
   ]
  },
  {
   "cell_type": "markdown",
   "metadata": {},
   "source": [
    "# Now let's put the code in just 1 function!\n"
   ]
  },
  {
   "cell_type": "code",
   "execution_count": 76,
   "metadata": {},
   "outputs": [],
   "source": [
    "input_df = pd.read_csv(\"/Users/andreabrumana/code/willgreen93/UK_election/raw_data/input_general_election_results.csv\")\n"
   ]
  },
  {
   "cell_type": "code",
   "execution_count": 77,
   "metadata": {},
   "outputs": [],
   "source": [
    "def clean_election_results(input_df:pd.DataFrame):\n",
    "    \"\"\"Clean the election results data\"\"\"\n",
    "    # Clean the column names\n",
    "    input_df.columns = input_df.columns.str.strip()\n",
    "    # Fill the NaN with 0 (when NaN means 0, since no votes)\n",
    "    input_df.fillna(0, inplace=True)\n",
    "    # Remove and rename columns\n",
    "    input_df.drop(['electorate', 'turnout'], axis=1, inplace=True)\n",
    "    input_df.rename(columns={'election': 'year'}, inplace=True)\n",
    "    # group oth and natSW, and drop the ones that are not needed\n",
    "    input_df['other_votes'] = input_df['natSW_votes']+input_df['oth_votes']\n",
    "    input_df['other_share'] = input_df['natSW_share']+input_df['oth_share']\n",
    "    input_df.drop(['natSW_votes', 'oth_votes', 'natSW_share', 'oth_share'], axis=1, inplace=True)\n",
    "    # Get previous share per party by constituency\n",
    "    input_df['con_share_prev'] = input_df.groupby('constituency_id')['con_share'].shift(1)\n",
    "    input_df['lib_share_prev'] = input_df.groupby('constituency_id')['lib_share'].shift(1)\n",
    "    input_df['lab_share_prev'] = input_df.groupby('constituency_id')['lab_share'].shift(1)\n",
    "    input_df['other_share_prev'] = input_df.groupby('constituency_id')['other_share'].shift(1)\n",
    "    # in 2010, do not have previous data for 13 constituencies (new ones), so we drop\n",
    "    input_df.dropna(inplace=True)\n",
    "    return input_df\n"
   ]
  },
  {
   "cell_type": "code",
   "execution_count": 78,
   "metadata": {},
   "outputs": [],
   "source": [
    "output_df = clean_election_results(input_df)\n"
   ]
  },
  {
   "cell_type": "code",
   "execution_count": 79,
   "metadata": {},
   "outputs": [
    {
     "name": "stdout",
     "output_type": "stream",
     "text": [
      "<class 'pandas.core.frame.DataFrame'>\n",
      "Int64Index: 2595 entries, 43 to 3245\n",
      "Data columns (total 17 columns):\n",
      " #   Column             Non-Null Count  Dtype  \n",
      "---  ------             --------------  -----  \n",
      " 0   constituency_id    2595 non-null   object \n",
      " 1   constituency_name  2595 non-null   object \n",
      " 2   country/region     2595 non-null   object \n",
      " 3   con_votes          2595 non-null   float64\n",
      " 4   con_share          2595 non-null   float64\n",
      " 5   lib_votes          2595 non-null   float64\n",
      " 6   lib_share          2595 non-null   float64\n",
      " 7   lab_votes          2595 non-null   float64\n",
      " 8   lab_share          2595 non-null   float64\n",
      " 9   total_votes        2595 non-null   int64  \n",
      " 10  year               2595 non-null   int64  \n",
      " 11  other_votes        2595 non-null   float64\n",
      " 12  other_share        2595 non-null   float64\n",
      " 13  con_share_prev     2595 non-null   float64\n",
      " 14  lib_share_prev     2595 non-null   float64\n",
      " 15  lab_share_prev     2595 non-null   float64\n",
      " 16  other_share_prev   2595 non-null   float64\n",
      "dtypes: float64(12), int64(2), object(3)\n",
      "memory usage: 364.9+ KB\n"
     ]
    }
   ],
   "source": [
    "output_df.info()\n"
   ]
  },
  {
   "cell_type": "code",
   "execution_count": null,
   "metadata": {},
   "outputs": [],
   "source": []
  }
 ],
 "metadata": {
  "kernelspec": {
   "display_name": "lewagon",
   "language": "python",
   "name": "python3"
  },
  "language_info": {
   "codemirror_mode": {
    "name": "ipython",
    "version": 3
   },
   "file_extension": ".py",
   "mimetype": "text/x-python",
   "name": "python",
   "nbconvert_exporter": "python",
   "pygments_lexer": "ipython3",
   "version": "3.10.6"
  }
 },
 "nbformat": 4,
 "nbformat_minor": 2
}
