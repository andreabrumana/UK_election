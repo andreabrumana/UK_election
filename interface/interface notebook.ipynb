{
 "cells": [
  {
   "cell_type": "code",
   "execution_count": 1,
   "metadata": {},
   "outputs": [],
   "source": [
    "import streamlit as st\n",
    "import pydeck as pdk\n",
    "import json\n",
    "import pandas as pd\n",
    "import random\n",
    "import geopandas as gpd\n"
   ]
  },
  {
   "cell_type": "code",
   "execution_count": 3,
   "metadata": {},
   "outputs": [],
   "source": [
    "with open(\"interface/England.geojson\", \"r\") as file:\n",
    "    data = json.load(file)\n",
    "\n",
    "gdf = gpd.GeoDataFrame.from_features(data[\"features\"])\n",
    "coordinates = gdf.get_coordinates()\n",
    "coordinates.columns = [\"lng\", \"lat\"]\n",
    "centroids = gdf.centroid.to_frame()\n",
    "df = pd.DataFrame()\n",
    "df[\"lng\"] = gdf.centroid.x\n",
    "df[\"lat\"] = gdf.centroid.y\n",
    "\n",
    "layer = pdk.Layer(\n",
    "    \"HexagonLayer\",\n",
    "    df,\n",
    "    get_position=[\"lng\", \"lat\"],\n",
    "    elevation_scale=0,\n",
    "    pickable=True,\n",
    "    elevation_range=[0, 3000],\n",
    "    filled=True,\n",
    "    coverage=10,\n",
    ")\n",
    "view_state = pdk.ViewState(\n",
    "    longitude=-1.415,\n",
    "    latitude=52.2323,\n",
    "    zoom=5,\n",
    "    min_zoom=5,\n",
    "    max_zoom=15,\n",
    "    pitch=0,\n",
    "    bearing=0,\n",
    ")\n",
    "\n",
    "# Render without the map\n",
    "r = pdk.Deck(\n",
    "    layers=[layer],\n",
    "    initial_view_state=view_state,\n",
    "    map_style=\"\",\n",
    "    map_provider=\"\",\n",
    "    api_keys=None,\n",
    ")\n",
    "\n",
    "# Streamlit app layout\n",
    "st.title(\"UK, hun?\")\n",
    "\n",
    "# Create a placeholder for the map on the left side\n",
    "st.sidebar.header(\"Interactive Hex Map\")\n",
    "\n",
    "# Create sliders for conservative and labor party approval ratings on the right side\n",
    "st.sidebar.header(\"Sliders for Polling/Approval Ratings\")\n",
    "conservative_rating = st.sidebar.slider(\n",
    "    \"Conservative Rating\", min_value=0, max_value=100, value=50\n",
    ")\n",
    "labor_party_rating = st.sidebar.slider(\n",
    "    \"Labor Party Rating\", min_value=0, max_value=100, value=50\n",
    ")\n",
    "\n",
    "# Display the current values of the sliders\n",
    "st.sidebar.text(f\"Current Conservative Rating: {conservative_rating}%\")\n",
    "st.sidebar.text(f\"Current Labor Party Rating: {labor_party_rating}%\")\n",
    "\n",
    "# Display the PyDeck chart using st.pydeck_chart\n",
    "st.pydeck_chart(r)\n"
   ]
  }
 ],
 "metadata": {
  "kernelspec": {
   "display_name": "UK_election",
   "language": "python",
   "name": "python3"
  },
  "language_info": {
   "codemirror_mode": {
    "name": "ipython",
    "version": 3
   },
   "file_extension": ".py",
   "mimetype": "text/x-python",
   "name": "python",
   "nbconvert_exporter": "python",
   "pygments_lexer": "ipython3",
   "version": "3.10.6"
  }
 },
 "nbformat": 4,
 "nbformat_minor": 2
}
