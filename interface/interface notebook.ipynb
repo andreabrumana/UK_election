{
 "cells": [
  {
   "cell_type": "code",
   "execution_count": 1,
   "metadata": {},
   "outputs": [],
   "source": [
    "import streamlit as st\n",
    "import pydeck as pdk\n",
    "import json\n",
    "import pandas as pd\n",
    "import random\n",
    "import geopandas as gpd\n"
   ]
  },
  {
   "cell_type": "markdown",
   "metadata": {},
   "source": [
    "## Creating the dummy user interface for the model\n",
    "Current problems include:\n",
    "- hexagons not side by side\n",
    "- map still appearing when running the py file but not in Jupyter"
   ]
  },
  {
   "cell_type": "code",
   "execution_count": 2,
   "metadata": {},
   "outputs": [],
   "source": [
    "#downloaded from https://martinjc.github.io/UK-GeoJSON/ *ENGLAND > National > \\\n",
    "# Local Authority Districts and converted to GEOJson\n",
    "\n",
    "with open(\"England.geojson\", \"r\") as file:\n",
    "    data = json.load(file)\n"
   ]
  },
  {
   "cell_type": "code",
   "execution_count": 4,
   "metadata": {},
   "outputs": [],
   "source": [
    "#Changing the centroid lons and lats as a DataFrame\n",
    "gdf = gpd.GeoDataFrame.from_features(data[\"features\"])\n",
    "coordinates = gdf.get_coordinates()\n",
    "coordinates.columns = [\"lng\", \"lat\"]\n",
    "centroids = gdf.centroid.to_frame()\n",
    "df = pd.DataFrame()\n",
    "df[\"lng\"] = gdf.centroid.x\n",
    "df[\"lat\"] = gdf.centroid.y\n"
   ]
  },
  {
   "cell_type": "code",
   "execution_count": 5,
   "metadata": {},
   "outputs": [],
   "source": [
    "#styling\n",
    "layer = pdk.Layer(\n",
    "    \"HexagonLayer\",\n",
    "    df,\n",
    "    get_position=[\"lng\", \"lat\"],\n",
    "    elevation_scale=0,\n",
    "    pickable=True,\n",
    "    elevation_range=[0, 3000],\n",
    "    filled=True,\n",
    "    coverage=10,\n",
    ")\n"
   ]
  },
  {
   "cell_type": "code",
   "execution_count": 6,
   "metadata": {},
   "outputs": [],
   "source": [
    "view_state = pdk.ViewState(\n",
    "    longitude=-1.415,\n",
    "    latitude=52.2323,\n",
    "    zoom=5,\n",
    "    min_zoom=5,\n",
    "    max_zoom=15,\n",
    "    pitch=0,\n",
    "    bearing=0,\n",
    ")\n"
   ]
  },
  {
   "cell_type": "code",
   "execution_count": 7,
   "metadata": {},
   "outputs": [],
   "source": [
    "# Render without the map\n",
    "r = pdk.Deck(\n",
    "    layers=[layer],\n",
    "    initial_view_state=view_state,\n",
    "    map_style=\"\",\n",
    "    map_provider=\"\",\n",
    "    api_keys=None,\n",
    ")\n"
   ]
  },
  {
   "cell_type": "code",
   "execution_count": 8,
   "metadata": {},
   "outputs": [
    {
     "name": "stderr",
     "output_type": "stream",
     "text": [
      "2023-11-28 21:40:56.632 \n",
      "  \u001b[33m\u001b[1mWarning:\u001b[0m to view this Streamlit app on a browser, run it with the following\n",
      "  command:\n",
      "\n",
      "    streamlit run /home/asia/.pyenv/versions/3.10.6/envs/UK_election/lib/python3.10/site-packages/ipykernel_launcher.py [ARGUMENTS]\n"
     ]
    },
    {
     "data": {
      "text/plain": [
       "DeltaGenerator()"
      ]
     },
     "execution_count": 8,
     "metadata": {},
     "output_type": "execute_result"
    }
   ],
   "source": [
    "# Streamlit app layout with sliders and titles\n",
    "st.title(\"UK, hun?\")\n",
    "\n",
    "# Create a placeholder for the map on the left side\n",
    "st.sidebar.header(\"Interactive Hex Map\")\n",
    "\n",
    "# Create sliders for conservative and labor party approval ratings on the right side\n",
    "st.sidebar.header(\"Sliders for Polling/Approval Ratings\")\n",
    "\n",
    "conservative_rating = st.sidebar.slider(\n",
    "    \"Conservative Rating\", min_value=0, max_value=100, value=50\n",
    ")\n",
    "labor_party_rating = st.sidebar.slider(\n",
    "    \"Labor Party Rating\", min_value=0, max_value=100, value=50\n",
    ")\n",
    "\n",
    "# Display the current values of the sliders\n",
    "st.sidebar.text(f\"Current Conservative Rating: {conservative_rating}%\")\n",
    "st.sidebar.text(f\"Current Labor Party Rating: {labor_party_rating}%\")\n",
    "\n",
    "# Display the PyDeck chart using st.pydeck_chart\n",
    "st.pydeck_chart(r)\n"
   ]
  },
  {
   "cell_type": "markdown",
   "metadata": {},
   "source": [
    "## Testing a new layer style"
   ]
  },
  {
   "cell_type": "code",
   "execution_count": 9,
   "metadata": {},
   "outputs": [
    {
     "data": {
      "text/html": [
       "\n",
       "        <iframe\n",
       "            width=\"100%\"\n",
       "            height=500\n",
       "            frameborder=\"0\"\n",
       "            srcdoc=\"&lt;!DOCTYPE html&gt;\n",
       "&lt;html&gt;\n",
       "  &lt;head&gt;\n",
       "    &lt;meta http-equiv=&quot;content-type&quot; content=&quot;text/html; charset=UTF-8&quot; /&gt;\n",
       "    &lt;title&gt;pydeck&lt;/title&gt;\n",
       "        &lt;script src=&quot;https://api.tiles.mapbox.com/mapbox-gl-js/v1.13.0/mapbox-gl.js&quot;&gt;&lt;/script&gt;\n",
       "        &lt;link rel=&quot;stylesheet&quot; href=&quot;https://maxcdn.bootstrapcdn.com/bootstrap/3.2.0/css/bootstrap-theme.min.css&quot; /&gt;\n",
       "    &lt;link rel=&quot;stylesheet&quot; href=&quot;https://maxcdn.bootstrapcdn.com/font-awesome/4.6.3/css/font-awesome.min.css&quot; /&gt;\n",
       "    &lt;script src=&#x27;https://cdn.jsdelivr.net/npm/@deck.gl/jupyter-widget@~8.9.*/dist/index.js&#x27;&gt;&lt;/script&gt;\n",
       "    &lt;style&gt;\n",
       "    body {\n",
       "  margin: 0;\n",
       "  padding: 0;\n",
       "  overflow: hidden;\n",
       "}\n",
       "\n",
       "#deck-container {\n",
       "  width: 100vw;\n",
       "  height: 100vh;\n",
       "}\n",
       "\n",
       "#deck-container canvas {\n",
       "  z-index: 1;\n",
       "  background: none;\n",
       "}\n",
       "    &lt;/style&gt;\n",
       "  &lt;/head&gt;\n",
       "  &lt;body&gt;\n",
       "    &lt;div id=&quot;deck-container&quot;&gt;\n",
       "    &lt;/div&gt;\n",
       "  &lt;/body&gt;\n",
       "  &lt;script&gt;\n",
       "    const container = document.getElementById(&#x27;deck-container&#x27;);\n",
       "    const jsonInput = {\n",
       "  &quot;initialViewState&quot;: {\n",
       "    &quot;bearing&quot;: 0,\n",
       "    &quot;latitude&quot;: 52.2323,\n",
       "    &quot;longitude&quot;: -1.415,\n",
       "    &quot;maxZoom&quot;: 15,\n",
       "    &quot;minZoom&quot;: 5,\n",
       "    &quot;pitch&quot;: 0,\n",
       "    &quot;zoom&quot;: 5\n",
       "  },\n",
       "  &quot;layers&quot;: [\n",
       "    {\n",
       "      &quot;@@type&quot;: &quot;H3HexagonLayer&quot;,\n",
       "      &quot;data&quot;: [\n",
       "        {\n",
       "          &quot;lat&quot;: 51.28542949722371,\n",
       "          &quot;lng&quot;: -0.777004344022824\n",
       "        },\n",
       "        {\n",
       "          &quot;lat&quot;: 52.61427612368785,\n",
       "          &quot;lng&quot;: -1.9281954903421805\n",
       "        },\n",
       "        {\n",
       "          &quot;lat&quot;: 53.39354061906345,\n",
       "          &quot;lng&quot;: -2.3657884892189305\n",
       "        },\n",
       "        {\n",
       "          &quot;lat&quot;: 53.039951775440315,\n",
       "          &quot;lng&quot;: -1.399920873555882\n",
       "        },\n",
       "        {\n",
       "          &quot;lat&quot;: 50.9278672769609,\n",
       "          &quot;lng&quot;: -0.4545789147339758\n",
       "        },\n",
       "        {\n",
       "          &quot;lat&quot;: 53.09307886525737,\n",
       "          &quot;lng&quot;: -1.271944658912507\n",
       "        },\n",
       "        {\n",
       "          &quot;lat&quot;: 51.12845106482274,\n",
       "          &quot;lng&quot;: 0.7914045444132398\n",
       "        },\n",
       "        {\n",
       "          &quot;lat&quot;: 53.49777111397528,\n",
       "          &quot;lng&quot;: -2.1163370896008638\n",
       "        },\n",
       "        {\n",
       "          &quot;lat&quot;: 51.73202285179028,\n",
       "          &quot;lng&quot;: -0.7980591351385341\n",
       "        },\n",
       "        {\n",
       "          &quot;lat&quot;: 51.99107872358107,\n",
       "          &quot;lng&quot;: -1.2863612796481068\n",
       "        },\n",
       "        {\n",
       "          &quot;lat&quot;: 51.53804463914155,\n",
       "          &quot;lng&quot;: 0.11661084403082228\n",
       "        },\n",
       "        {\n",
       "          &quot;lat&quot;: 53.57648012728903,\n",
       "          &quot;lng&quot;: -1.4885013725626806\n",
       "        },\n",
       "        {\n",
       "          &quot;lat&quot;: 53.542667727981396,\n",
       "          &quot;lng&quot;: -1.4077510175295516\n",
       "        },\n",
       "        {\n",
       "          &quot;lat&quot;: 54.21897204289708,\n",
       "          &quot;lng&quot;: -3.160153779525388\n",
       "        },\n",
       "        {\n",
       "          &quot;lat&quot;: 51.60352847917565,\n",
       "          &quot;lng&quot;: 0.43556853768437315\n",
       "        },\n",
       "        {\n",
       "          &quot;lat&quot;: 51.26652967567389,\n",
       "          &quot;lng&quot;: -1.0658075087737606\n",
       "        },\n",
       "        {\n",
       "          &quot;lat&quot;: 53.354872108038755,\n",
       "          &quot;lng&quot;: -0.9889267815691322\n",
       "        },\n",
       "        {\n",
       "          &quot;lat&quot;: 51.380183062931664,\n",
       "          &quot;lng&quot;: -2.3666595622339717\n",
       "        },\n",
       "        {\n",
       "          &quot;lat&quot;: 53.72322440619002,\n",
       "          &quot;lng&quot;: -1.6845976605727644\n",
       "        },\n",
       "        {\n",
       "          &quot;lat&quot;: 51.46601595427732,\n",
       "          &quot;lng&quot;: -0.16188146630447023\n",
       "        },\n",
       "        {\n",
       "          &quot;lat&quot;: 51.56231067419543,\n",
       "          &quot;lng&quot;: -0.6181011546908215\n",
       "        },\n",
       "        {\n",
       "          &quot;lat&quot;: 51.38101688725439,\n",
       "          &quot;lng&quot;: 0.005524650134054315\n",
       "        },\n",
       "        {\n",
       "          &quot;lat&quot;: 52.13189633389304,\n",
       "          &quot;lng&quot;: -0.46428658138514045\n",
       "        },\n",
       "        {\n",
       "          &quot;lat&quot;: 51.495940141825365,\n",
       "          &quot;lng&quot;: -0.07467810739503973\n",
       "        },\n",
       "        {\n",
       "          &quot;lat&quot;: 55.429353812054764,\n",
       "          &quot;lng&quot;: -1.9340214200970771\n",
       "        },\n",
       "        {\n",
       "          &quot;lat&quot;: 51.5267224346153,\n",
       "          &quot;lng&quot;: -0.04770821923651506\n",
       "        },\n",
       "        {\n",
       "          &quot;lat&quot;: 53.805783981769075,\n",
       "          &quot;lng&quot;: -0.2472574402276921\n",
       "        },\n",
       "        {\n",
       "          &quot;lat&quot;: 50.9435834850295,\n",
       "          &quot;lng&quot;: 0.42861170929793474\n",
       "        },\n",
       "        {\n",
       "          &quot;lat&quot;: 51.46199308554172,\n",
       "          &quot;lng&quot;: 0.16060529346121563\n",
       "        },\n",
       "        {\n",
       "          &quot;lat&quot;: 53.38585605812322,\n",
       "          &quot;lng&quot;: -3.0461238614483124\n",
       "        },\n",
       "        {\n",
       "          &quot;lat&quot;: 52.452522234695216,\n",
       "          &quot;lng&quot;: -1.9654665626154602\n",
       "        },\n",
       "        {\n",
       "          &quot;lat&quot;: 52.525062160518424,\n",
       "          &quot;lng&quot;: -1.8375020235986792\n",
       "        },\n",
       "        {\n",
       "          &quot;lat&quot;: 52.442017307526015,\n",
       "          &quot;lng&quot;: -1.8705826505087593\n",
       "        },\n",
       "        {\n",
       "          &quot;lat&quot;: 52.489193857008324,\n",
       "          &quot;lng&quot;: -1.81341776644295\n",
       "        },\n",
       "        {\n",
       "          &quot;lat&quot;: 52.488598883426135,\n",
       "          &quot;lng&quot;: -1.898735960477578\n",
       "        },\n",
       "        {\n",
       "          &quot;lat&quot;: 52.40687037982578,\n",
       "          &quot;lng&quot;: -1.9693965559668272\n",
       "        },\n",
       "        {\n",
       "          &quot;lat&quot;: 52.525806562035854,\n",
       "          &quot;lng&quot;: -1.9133547705642988\n",
       "        },\n",
       "        {\n",
       "          &quot;lat&quot;: 52.42363733322243,\n",
       "          &quot;lng&quot;: -1.9085870878839137\n",
       "        },\n",
       "        {\n",
       "          &quot;lat&quot;: 52.46145454685245,\n",
       "          &quot;lng&quot;: -1.8087845104381253\n",
       "        },\n",
       "        {\n",
       "          &quot;lat&quot;: 54.600373520095495,\n",
       "          &quot;lng&quot;: -1.9751577120315562\n",
       "        },\n",
       "        {\n",
       "          &quot;lat&quot;: 53.743973711634816,\n",
       "          &quot;lng&quot;: -2.4971729922874806\n",
       "        },\n",
       "        {\n",
       "          &quot;lat&quot;: 53.516006327768295,\n",
       "          &quot;lng&quot;: -2.2336114246066434\n",
       "        },\n",
       "        {\n",
       "          &quot;lat&quot;: 53.8582121618536,\n",
       "          &quot;lng&quot;: -3.0290316724665654\n",
       "        },\n",
       "        {\n",
       "          &quot;lat&quot;: 53.79886710115854,\n",
       "          &quot;lng&quot;: -3.026075940368484\n",
       "        },\n",
       "        {\n",
       "          &quot;lat&quot;: 54.93187773322063,\n",
       "          &quot;lng&quot;: -1.7125060948484896\n",
       "        },\n",
       "        {\n",
       "          &quot;lat&quot;: 55.091597858096094,\n",
       "          &quot;lng&quot;: -1.552439205253904\n",
       "        },\n",
       "        {\n",
       "          &quot;lat&quot;: 50.80298319119004,\n",
       "          &quot;lng&quot;: -0.638772489830876\n",
       "        },\n",
       "        {\n",
       "          &quot;lat&quot;: 53.20204151096233,\n",
       "          &quot;lng&quot;: -1.308940480471735\n",
       "        },\n",
       "        {\n",
       "          &quot;lat&quot;: 53.60380582801736,\n",
       "          &quot;lng&quot;: -2.4151623649328817\n",
       "        },\n",
       "        {\n",
       "          &quot;lat&quot;: 53.552001178258955,\n",
       "          &quot;lng&quot;: -2.4172831186635513\n",
       "        },\n",
       "        {\n",
       "          &quot;lat&quot;: 53.57640928196853,\n",
       "          &quot;lng&quot;: -2.519952470121781\n",
       "        },\n",
       "        {\n",
       "          &quot;lat&quot;: 53.470517666781916,\n",
       "          &quot;lng&quot;: -2.997185765452317\n",
       "        },\n",
       "        {\n",
       "          &quot;lat&quot;: 53.034054234917335,\n",
       "          &quot;lng&quot;: 0.04499434815748142\n",
       "        },\n",
       "        {\n",
       "          &quot;lat&quot;: 52.61507330818718,\n",
       "          &quot;lng&quot;: -1.3955343950718904\n",
       "        },\n",
       "        {\n",
       "          &quot;lat&quot;: 50.73851899165915,\n",
       "          &quot;lng&quot;: -1.8304402050692197\n",
       "        },\n",
       "        {\n",
       "          &quot;lat&quot;: 50.7455502216786,\n",
       "          &quot;lng&quot;: -1.9002647952360272\n",
       "        },\n",
       "        {\n",
       "          &quot;lat&quot;: 51.37782604020574,\n",
       "          &quot;lng&quot;: -0.799579482955243\n",
       "        },\n",
       "        {\n",
       "          &quot;lat&quot;: 53.81345464528006,\n",
       "          &quot;lng&quot;: -1.7306492582247517\n",
       "        },\n",
       "        {\n",
       "          &quot;lat&quot;: 53.76489966835218,\n",
       "          &quot;lng&quot;: -1.7651522227612273\n",
       "        },\n",
       "        {\n",
       "          &quot;lat&quot;: 53.79986987960488,\n",
       "          &quot;lng&quot;: -1.8156361037441995\n",
       "        },\n",
       "        {\n",
       "          &quot;lat&quot;: 51.975574711536346,\n",
       "          &quot;lng&quot;: 0.5781773887499861\n",
       "        },\n",
       "        {\n",
       "          &quot;lat&quot;: 51.55153305540818,\n",
       "          &quot;lng&quot;: -0.2520245792706115\n",
       "        },\n",
       "        {\n",
       "          &quot;lat&quot;: 51.568759525561774,\n",
       "          &quot;lng&quot;: -0.29261661246743886\n",
       "        },\n",
       "        {\n",
       "          &quot;lat&quot;: 51.47933911446751,\n",
       "          &quot;lng&quot;: -0.3233469301326718\n",
       "        },\n",
       "        {\n",
       "          &quot;lat&quot;: 51.677113157218855,\n",
       "          &quot;lng&quot;: 0.265577896316404\n",
       "        },\n",
       "        {\n",
       "          &quot;lat&quot;: 51.13254411185647,\n",
       "          &quot;lng&quot;: -3.330907598672358\n",
       "        },\n",
       "        {\n",
       "          &quot;lat&quot;: 53.612122754654315,\n",
       "          &quot;lng&quot;: -0.7266952392733514\n",
       "        },\n",
       "        {\n",
       "          &quot;lat&quot;: 50.82121844370685,\n",
       "          &quot;lng&quot;: -0.05851860071435347\n",
       "        },\n",
       "        {\n",
       "          &quot;lat&quot;: 50.85881484701196,\n",
       "          &quot;lng&quot;: -0.1399333087424684\n",
       "        },\n",
       "        {\n",
       "          &quot;lat&quot;: 51.45477607526072,\n",
       "          &quot;lng&quot;: -2.539276608972371\n",
       "        },\n",
       "        {\n",
       "          &quot;lat&quot;: 51.49923150835318,\n",
       "          &quot;lng&quot;: -2.6386948590629737\n",
       "        },\n",
       "        {\n",
       "          &quot;lat&quot;: 51.42345739034044,\n",
       "          &quot;lng&quot;: -2.5978094949122013\n",
       "        },\n",
       "        {\n",
       "          &quot;lat&quot;: 51.46228861282967,\n",
       "          &quot;lng&quot;: -2.590094176486668\n",
       "        },\n",
       "        {\n",
       "          &quot;lat&quot;: 52.747572623797936,\n",
       "          &quot;lng&quot;: 1.1788765664276226\n",
       "        },\n",
       "        {\n",
       "          &quot;lat&quot;: 51.41062647849785,\n",
       "          &quot;lng&quot;: 0.05632247507180582\n",
       "        },\n",
       "        {\n",
       "          &quot;lat&quot;: 52.361779536118846,\n",
       "          &quot;lng&quot;: -2.016041751773611\n",
       "        },\n",
       "        {\n",
       "          &quot;lat&quot;: 51.720633050425114,\n",
       "          &quot;lng&quot;: -0.06806473412252333\n",
       "        },\n",
       "        {\n",
       "          &quot;lat&quot;: 52.964538088868615,\n",
       "          &quot;lng&quot;: -1.2531842330745475\n",
       "        },\n",
       "        {\n",
       "          &quot;lat&quot;: 51.89380027958156,\n",
       "          &quot;lng&quot;: -0.8938645515097858\n",
       "        },\n",
       "        {\n",
       "          &quot;lat&quot;: 53.77895509361397,\n",
       "          &quot;lng&quot;: -2.22195939428448\n",
       "        },\n",
       "        {\n",
       "          &quot;lat&quot;: 52.897500666046376,\n",
       "          &quot;lng&quot;: -1.8087389470925463\n",
       "        },\n",
       "        {\n",
       "          &quot;lat&quot;: 53.61795595423655,\n",
       "          &quot;lng&quot;: -2.3198932458041637\n",
       "        },\n",
       "        {\n",
       "          &quot;lat&quot;: 53.556216454056774,\n",
       "          &quot;lng&quot;: -2.30479472496899\n",
       "        },\n",
       "        {\n",
       "          &quot;lat&quot;: 52.24773423502294,\n",
       "          &quot;lng&quot;: 0.8945893557868987\n",
       "        },\n",
       "        {\n",
       "          &quot;lat&quot;: 53.717871118689004,\n",
       "          &quot;lng&quot;: -1.9922651415852586\n",
       "        },\n",
       "        {\n",
       "          &quot;lat&quot;: 51.47014377040714,\n",
       "          &quot;lng&quot;: -0.07097125530232529\n",
       "        },\n",
       "        {\n",
       "          &quot;lat&quot;: 50.188161611536714,\n",
       "          &quot;lng&quot;: -5.23795138394787\n",
       "        },\n",
       "        {\n",
       "          &quot;lat&quot;: 52.20212737241843,\n",
       "          &quot;lng&quot;: 0.13106888840263484\n",
       "        },\n",
       "        {\n",
       "          &quot;lat&quot;: 52.71239975171242,\n",
       "          &quot;lng&quot;: -1.9802768936823596\n",
       "        },\n",
       "        {\n",
       "          &quot;lat&quot;: 51.26511700750903,\n",
       "          &quot;lng&quot;: 1.0913575970566618\n",
       "        },\n",
       "        {\n",
       "          &quot;lat&quot;: 54.86710168362952,\n",
       "          &quot;lng&quot;: -2.9501440596766737\n",
       "        },\n",
       "        {\n",
       "          &quot;lat&quot;: 51.36144995348371,\n",
       "          &quot;lng&quot;: -0.15501879591064888\n",
       "        },\n",
       "        {\n",
       "          &quot;lat&quot;: 51.545467981851715,\n",
       "          &quot;lng&quot;: 0.5813228771249467\n",
       "        },\n",
       "        {\n",
       "          &quot;lat&quot;: 50.740017891519344,\n",
       "          &quot;lng&quot;: -3.7773764954619713\n",
       "        },\n",
       "        {\n",
       "          &quot;lat&quot;: 52.22158271541316,\n",
       "          &quot;lng&quot;: 1.2211356870899461\n",
       "        },\n",
       "        {\n",
       "          &quot;lat&quot;: 52.698712330362156,\n",
       "          &quot;lng&quot;: -1.133153989286544\n",
       "        },\n",
       "        {\n",
       "          &quot;lat&quot;: 51.32968780154361,\n",
       "          &quot;lng&quot;: 0.4840116231003953\n",
       "        },\n",
       "        {\n",
       "          &quot;lat&quot;: 53.37041711185513,\n",
       "          &quot;lng&quot;: -2.184749147389416\n",
       "        },\n",
       "        {\n",
       "          &quot;lat&quot;: 51.72487439708109,\n",
       "          &quot;lng&quot;: 0.4829760552746225\n",
       "        },\n",
       "        {\n",
       "          &quot;lat&quot;: 51.47980934909699,\n",
       "          &quot;lng&quot;: -0.1902510571623304\n",
       "        },\n",
       "        {\n",
       "          &quot;lat&quot;: 51.890867559246125,\n",
       "          &quot;lng&quot;: -2.073526731725856\n",
       "        },\n",
       "        {\n",
       "          &quot;lat&quot;: 51.680526737078495,\n",
       "          &quot;lng&quot;: -0.6277590490013092\n",
       "        },\n",
       "        {\n",
       "          &quot;lat&quot;: 53.24834648295132,\n",
       "          &quot;lng&quot;: -1.4168181805595912\n",
       "        },\n",
       "        {\n",
       "          &quot;lat&quot;: 50.931845165453076,\n",
       "          &quot;lng&quot;: -0.7751711508174309\n",
       "        },\n",
       "        {\n",
       "          &quot;lat&quot;: 51.617420545896074,\n",
       "          &quot;lng&quot;: 0.00436240760397513\n",
       "        },\n",
       "        {\n",
       "          &quot;lat&quot;: 51.38724616414313,\n",
       "          &quot;lng&quot;: -2.18183842717304\n",
       "        },\n",
       "        {\n",
       "          &quot;lat&quot;: 51.638432325664034,\n",
       "          &quot;lng&quot;: -0.18983984571388332\n",
       "        },\n",
       "        {\n",
       "          &quot;lat&quot;: 53.663102152549136,\n",
       "          &quot;lng&quot;: -2.611519482701601\n",
       "        },\n",
       "        {\n",
       "          &quot;lat&quot;: 50.7909951858134,\n",
       "          &quot;lng&quot;: -1.831412042887933\n",
       "        },\n",
       "        {\n",
       "          &quot;lat&quot;: 51.50790397683464,\n",
       "          &quot;lng&quot;: -0.13970559928986034\n",
       "        },\n",
       "        {\n",
       "          &quot;lat&quot;: 53.190305484757715,\n",
       "          &quot;lng&quot;: -2.907815803629081\n",
       "        },\n",
       "        {\n",
       "          &quot;lat&quot;: 54.7641007445704,\n",
       "          &quot;lng&quot;: -1.5659637681471623\n",
       "        },\n",
       "        {\n",
       "          &quot;lat&quot;: 51.831151293103616,\n",
       "          &quot;lng&quot;: 1.1558470398814327\n",
       "        },\n",
       "        {\n",
       "          &quot;lat&quot;: 53.59646572155965,\n",
       "          &quot;lng&quot;: -0.2474260090335841\n",
       "        },\n",
       "        {\n",
       "          &quot;lat&quot;: 51.88820646872408,\n",
       "          &quot;lng&quot;: 0.8999293996421174\n",
       "        },\n",
       "        {\n",
       "          &quot;lat&quot;: 53.592433723247154,\n",
       "          &quot;lng&quot;: -1.8564346840723605\n",
       "        },\n",
       "        {\n",
       "          &quot;lat&quot;: 53.161420038847346,\n",
       "          &quot;lng&quot;: -2.305156632496721\n",
       "        },\n",
       "        {\n",
       "          &quot;lat&quot;: 54.48202436782496,\n",
       "          &quot;lng&quot;: -3.3202454206692553\n",
       "        },\n",
       "        {\n",
       "          &quot;lat&quot;: 52.47440249258479,\n",
       "          &quot;lng&quot;: -0.5451612469314241\n",
       "        },\n",
       "        {\n",
       "          &quot;lat&quot;: 52.42669391630708,\n",
       "          &quot;lng&quot;: -1.4674765615508463\n",
       "        },\n",
       "        {\n",
       "          &quot;lat&quot;: 52.43128138174401,\n",
       "          &quot;lng&quot;: -1.555408130977805\n",
       "        },\n",
       "        {\n",
       "          &quot;lat&quot;: 52.39179558483579,\n",
       "          &quot;lng&quot;: -1.521119534952664\n",
       "        },\n",
       "        {\n",
       "          &quot;lat&quot;: 51.12547643726031,\n",
       "          &quot;lng&quot;: -0.18199742047945597\n",
       "        },\n",
       "        {\n",
       "          &quot;lat&quot;: 53.06261175353495,\n",
       "          &quot;lng&quot;: -2.429778680816703\n",
       "        },\n",
       "        {\n",
       "          &quot;lat&quot;: 51.36673398741905,\n",
       "          &quot;lng&quot;: -0.04985353302161262\n",
       "        },\n",
       "        {\n",
       "          &quot;lat&quot;: 51.399265135098915,\n",
       "          &quot;lng&quot;: -0.10324506564895734\n",
       "        },\n",
       "        {\n",
       "          &quot;lat&quot;: 51.33067818239211,\n",
       "          &quot;lng&quot;: -0.102799029323615\n",
       "        },\n",
       "        {\n",
       "          &quot;lat&quot;: 51.53290767991645,\n",
       "          &quot;lng&quot;: 0.1834946856999388\n",
       "        },\n",
       "        {\n",
       "          &quot;lat&quot;: 54.53200536672336,\n",
       "          &quot;lng&quot;: -1.5565996968045808\n",
       "        },\n",
       "        {\n",
       "          &quot;lat&quot;: 51.41975442689649,\n",
       "          &quot;lng&quot;: 0.2629393386887895\n",
       "        },\n",
       "        {\n",
       "          &quot;lat&quot;: 52.307594583839474,\n",
       "          &quot;lng&quot;: -1.0316512642843993\n",
       "        },\n",
       "        {\n",
       "          &quot;lat&quot;: 53.45386165264568,\n",
       "          &quot;lng&quot;: -2.1276581744761116\n",
       "        },\n",
       "        {\n",
       "          &quot;lat&quot;: 52.921798499054496,\n",
       "          &quot;lng&quot;: -1.4908631189047634\n",
       "        },\n",
       "        {\n",
       "          &quot;lat&quot;: 52.892389306340775,\n",
       "          &quot;lng&quot;: -1.4609504288063657\n",
       "        },\n",
       "        {\n",
       "          &quot;lat&quot;: 53.11501744240614,\n",
       "          &quot;lng&quot;: -1.673532090715053\n",
       "        },\n",
       "        {\n",
       "          &quot;lat&quot;: 51.34748945955633,\n",
       "          &quot;lng&quot;: -1.7771942128330778\n",
       "        },\n",
       "        {\n",
       "          &quot;lat&quot;: 53.62591595598892,\n",
       "          &quot;lng&quot;: -1.6659991045353981\n",
       "        },\n",
       "        {\n",
       "          &quot;lat&quot;: 53.503786364645876,\n",
       "          &quot;lng&quot;: -1.053668257457101\n",
       "        },\n",
       "        {\n",
       "          &quot;lat&quot;: 53.53562543504429,\n",
       "          &quot;lng&quot;: -1.0867834221766544\n",
       "        },\n",
       "        {\n",
       "          &quot;lat&quot;: 53.58580476795367,\n",
       "          &quot;lng&quot;: -1.139137398930026\n",
       "        },\n",
       "        {\n",
       "          &quot;lat&quot;: 51.17924686074915,\n",
       "          &quot;lng&quot;: 1.2882867695782938\n",
       "        },\n",
       "        {\n",
       "          &quot;lat&quot;: 52.52228959296337,\n",
       "          &quot;lng&quot;: -2.1066194787688355\n",
       "        },\n",
       "        {\n",
       "          &quot;lat&quot;: 52.492275951994266,\n",
       "          &quot;lng&quot;: -2.1372494778611766\n",
       "        },\n",
       "        {\n",
       "          &quot;lat&quot;: 51.44435918826932,\n",
       "          &quot;lng&quot;: -0.09155927098693581\n",
       "        },\n",
       "        {\n",
       "          &quot;lat&quot;: 51.51527654570951,\n",
       "          &quot;lng&quot;: -0.28290926974119185\n",
       "        },\n",
       "        {\n",
       "          &quot;lat&quot;: 51.537623983860136,\n",
       "          &quot;lng&quot;: -0.35072685335805326\n",
       "        },\n",
       "        {\n",
       "          &quot;lat&quot;: 51.50709577762083,\n",
       "          &quot;lng&quot;: -0.35889017392892697\n",
       "        },\n",
       "        {\n",
       "          &quot;lat&quot;: 54.77630845938517,\n",
       "          &quot;lng&quot;: -1.356188990344227\n",
       "        },\n",
       "        {\n",
       "          &quot;lat&quot;: 50.71802971907265,\n",
       "          &quot;lng&quot;: -3.3478674879243626\n",
       "        },\n",
       "        {\n",
       "          &quot;lat&quot;: 51.52616539258677,\n",
       "          &quot;lng&quot;: 0.056647811806340646\n",
       "        },\n",
       "        {\n",
       "          &quot;lat&quot;: 51.09136602128048,\n",
       "          &quot;lng&quot;: -0.9517430859256745\n",
       "        },\n",
       "        {\n",
       "          &quot;lat&quot;: 51.22483908536744,\n",
       "          &quot;lng&quot;: -0.04835169247271226\n",
       "        },\n",
       "        {\n",
       "          &quot;lat&quot;: 50.843089784165024,\n",
       "          &quot;lng&quot;: -0.3175327088240854\n",
       "        },\n",
       "        {\n",
       "          &quot;lat&quot;: 53.9922963900132,\n",
       "          &quot;lng&quot;: -0.5336194384593463\n",
       "        },\n",
       "        {\n",
       "          &quot;lat&quot;: 50.78137088918638,\n",
       "          &quot;lng&quot;: 0.2590358484508197\n",
       "        },\n",
       "        {\n",
       "          &quot;lat&quot;: 50.93273199589381,\n",
       "          &quot;lng&quot;: -1.3212142545741614\n",
       "        },\n",
       "        {\n",
       "          &quot;lat&quot;: 53.10741748143666,\n",
       "          &quot;lng&quot;: -2.656111847748962\n",
       "        },\n",
       "        {\n",
       "          &quot;lat&quot;: 51.62890270541666,\n",
       "          &quot;lng&quot;: -0.053098288601198126\n",
       "        },\n",
       "        {\n",
       "          &quot;lat&quot;: 53.27339326839158,\n",
       "          &quot;lng&quot;: -2.931913347811007\n",
       "        },\n",
       "        {\n",
       "          &quot;lat&quot;: 53.835257531277925,\n",
       "          &quot;lng&quot;: -1.4018533807786868\n",
       "        },\n",
       "        {\n",
       "          &quot;lat&quot;: 51.455723480587004,\n",
       "          &quot;lng&quot;: 0.05496978722158014\n",
       "        },\n",
       "        {\n",
       "          &quot;lat&quot;: 51.668607846674476,\n",
       "          &quot;lng&quot;: -0.07930517973890529\n",
       "        },\n",
       "        {\n",
       "          &quot;lat&quot;: 51.64218521546051,\n",
       "          &quot;lng&quot;: -0.1257102293285979\n",
       "        },\n",
       "        {\n",
       "          &quot;lat&quot;: 51.68157426484706,\n",
       "          &quot;lng&quot;: 0.06306955027478178\n",
       "        },\n",
       "        {\n",
       "          &quot;lat&quot;: 51.33028785538955,\n",
       "          &quot;lng&quot;: -0.26662630057909087\n",
       "        },\n",
       "        {\n",
       "          &quot;lat&quot;: 52.92169048020956,\n",
       "          &quot;lng&quot;: -1.3085254826321848\n",
       "        },\n",
       "        {\n",
       "          &quot;lat&quot;: 51.49116073846408,\n",
       "          &quot;lng&quot;: 0.13077795190693547\n",
       "        },\n",
       "        {\n",
       "          &quot;lat&quot;: 51.356901399027336,\n",
       "          &quot;lng&quot;: -0.3807815377979469\n",
       "        },\n",
       "        {\n",
       "          &quot;lat&quot;: 50.726645474799604,\n",
       "          &quot;lng&quot;: -3.5191557732360863\n",
       "        },\n",
       "        {\n",
       "          &quot;lat&quot;: 50.857915840205806,\n",
       "          &quot;lng&quot;: -1.2247979655501533\n",
       "        },\n",
       "        {\n",
       "          &quot;lat&quot;: 51.262065125127506,\n",
       "          &quot;lng&quot;: 0.721595699915097\n",
       "        },\n",
       "        {\n",
       "          &quot;lat&quot;: 51.45873112269914,\n",
       "          &quot;lng&quot;: -0.4055651481596669\n",
       "        },\n",
       "        {\n",
       "          &quot;lat&quot;: 51.53370715058753,\n",
       "          &quot;lng&quot;: -2.579825302123172\n",
       "        },\n",
       "        {\n",
       "          &quot;lat&quot;: 51.587943229695455,\n",
       "          &quot;lng&quot;: -0.19002920469456627\n",
       "        },\n",
       "        {\n",
       "          &quot;lat&quot;: 51.06447027256473,\n",
       "          &quot;lng&quot;: 0.9850790544352436\n",
       "        },\n",
       "        {\n",
       "          &quot;lat&quot;: 51.845165846420244,\n",
       "          &quot;lng&quot;: -2.4652357793229975\n",
       "        },\n",
       "        {\n",
       "          &quot;lat&quot;: 53.7871067490154,\n",
       "          &quot;lng&quot;: -2.907165248628286\n",
       "        },\n",
       "        {\n",
       "          &quot;lat&quot;: 53.389080983816726,\n",
       "          &quot;lng&quot;: -0.46842547231077203\n",
       "        },\n",
       "        {\n",
       "          &quot;lat&quot;: 53.36625459326456,\n",
       "          &quot;lng&quot;: -2.8470932907161175\n",
       "        },\n",
       "        {\n",
       "          &quot;lat&quot;: 54.94525586291829,\n",
       "          &quot;lng&quot;: -1.5976064833109145\n",
       "        },\n",
       "        {\n",
       "          &quot;lat&quot;: 52.984521124339764,\n",
       "          &quot;lng&quot;: -1.0875610521439345\n",
       "        },\n",
       "        {\n",
       "          &quot;lat&quot;: 51.36738767846352,\n",
       "          &quot;lng&quot;: 0.5865045873730836\n",
       "        },\n",
       "        {\n",
       "          &quot;lat&quot;: 51.847146686592374,\n",
       "          &quot;lng&quot;: -2.24142459264532\n",
       "        },\n",
       "        {\n",
       "          &quot;lat&quot;: 50.81131235602834,\n",
       "          &quot;lng&quot;: -1.1753264269765493\n",
       "        },\n",
       "        {\n",
       "          &quot;lat&quot;: 52.81647529935941,\n",
       "          &quot;lng&quot;: -0.4802177677587786\n",
       "        },\n",
       "        {\n",
       "          &quot;lat&quot;: 51.40234566141151,\n",
       "          &quot;lng&quot;: 0.3950994232227501\n",
       "        },\n",
       "        {\n",
       "          &quot;lat&quot;: 53.55977053278097,\n",
       "          &quot;lng&quot;: -0.09599519843505273\n",
       "        },\n",
       "        {\n",
       "          &quot;lat&quot;: 52.6422557856038,\n",
       "          &quot;lng&quot;: 1.659751669630313\n",
       "        },\n",
       "        {\n",
       "          &quot;lat&quot;: 51.484020960081615,\n",
       "          &quot;lng&quot;: 0.03261840608801416\n",
       "        },\n",
       "        {\n",
       "          &quot;lat&quot;: 51.189233378313716,\n",
       "          &quot;lng&quot;: -0.5562202282947577\n",
       "        },\n",
       "        {\n",
       "          &quot;lat&quot;: 51.56226088478706,\n",
       "          &quot;lng&quot;: -0.07241820192559371\n",
       "        },\n",
       "        {\n",
       "          &quot;lat&quot;: 51.54329867334085,\n",
       "          &quot;lng&quot;: -0.05504299481077756\n",
       "        },\n",
       "        {\n",
       "          &quot;lat&quot;: 52.46178652511448,\n",
       "          &quot;lng&quot;: -2.051237753902716\n",
       "        },\n",
       "        {\n",
       "          &quot;lat&quot;: 53.7386725787277,\n",
       "          &quot;lng&quot;: -1.873865459701889\n",
       "        },\n",
       "        {\n",
       "          &quot;lat&quot;: 53.77436557123818,\n",
       "          &quot;lng&quot;: -0.7004371900782876\n",
       "        },\n",
       "        {\n",
       "          &quot;lat&quot;: 53.35256648002008,\n",
       "          &quot;lng&quot;: -2.7446713432232976\n",
       "        },\n",
       "        {\n",
       "          &quot;lat&quot;: 51.50528019922672,\n",
       "          &quot;lng&quot;: -0.23026653152197366\n",
       "        },\n",
       "        {\n",
       "          &quot;lat&quot;: 51.54748360847942,\n",
       "          &quot;lng&quot;: -0.1917978930233346\n",
       "        },\n",
       "        {\n",
       "          &quot;lat&quot;: 52.520653845022565,\n",
       "          &quot;lng&quot;: -1.0145725354316204\n",
       "        },\n",
       "        {\n",
       "          &quot;lat&quot;: 51.76627509538318,\n",
       "          &quot;lng&quot;: 0.11570910769316696\n",
       "        },\n",
       "        {\n",
       "          &quot;lat&quot;: 54.03030566120345,\n",
       "          &quot;lng&quot;: -1.4767688737848197\n",
       "        },\n",
       "        {\n",
       "          &quot;lat&quot;: 51.6107677967299,\n",
       "          &quot;lng&quot;: -0.3171424718387942\n",
       "        },\n",
       "        {\n",
       "          &quot;lat&quot;: 51.57864764729038,\n",
       "          &quot;lng&quot;: -0.3531151624091183\n",
       "        },\n",
       "        {\n",
       "          &quot;lat&quot;: 54.66934437243033,\n",
       "          &quot;lng&quot;: -1.2591992418738092\n",
       "        },\n",
       "        {\n",
       "          &quot;lat&quot;: 51.894805278222705,\n",
       "          &quot;lng&quot;: 0.9823886058898148\n",
       "        },\n",
       "        {\n",
       "          &quot;lat&quot;: 50.92169278978521,\n",
       "          &quot;lng&quot;: 0.6629367030190141\n",
       "        },\n",
       "        {\n",
       "          &quot;lat&quot;: 50.84119706957481,\n",
       "          &quot;lng&quot;: -0.9849536083430753\n",
       "        },\n",
       "        {\n",
       "          &quot;lat&quot;: 51.49483040453874,\n",
       "          &quot;lng&quot;: -0.44364129900098553\n",
       "        },\n",
       "        {\n",
       "          &quot;lat&quot;: 53.399035737868815,\n",
       "          &quot;lng&quot;: -2.0716182613116962\n",
       "        },\n",
       "        {\n",
       "          &quot;lat&quot;: 51.78571118222683,\n",
       "          &quot;lng&quot;: -0.47978628743312807\n",
       "        },\n",
       "        {\n",
       "          &quot;lat&quot;: 53.63617806797945,\n",
       "          &quot;lng&quot;: -1.3730754216370573\n",
       "        },\n",
       "        {\n",
       "          &quot;lat&quot;: 51.60996729853212,\n",
       "          &quot;lng&quot;: -0.24554597296500355\n",
       "        },\n",
       "        {\n",
       "          &quot;lat&quot;: 51.66976784424832,\n",
       "          &quot;lng&quot;: -1.0769793989484324\n",
       "        },\n",
       "        {\n",
       "          &quot;lat&quot;: 51.97567788343526,\n",
       "          &quot;lng&quot;: -2.810663626080997\n",
       "        },\n",
       "        {\n",
       "          &quot;lat&quot;: 51.814804576710465,\n",
       "          &quot;lng&quot;: 0.041305350236654735\n",
       "        },\n",
       "        {\n",
       "          &quot;lat&quot;: 51.677264773305026,\n",
       "          &quot;lng&quot;: -0.28106195580972887\n",
       "        },\n",
       "        {\n",
       "          &quot;lat&quot;: 55.05998093921629,\n",
       "          &quot;lng&quot;: -2.2401472904145274\n",
       "        },\n",
       "        {\n",
       "          &quot;lat&quot;: 53.59743935832773,\n",
       "          &quot;lng&quot;: -2.2151103505542036\n",
       "        },\n",
       "        {\n",
       "          &quot;lat&quot;: 53.37308491643533,\n",
       "          &quot;lng&quot;: -1.8738975100094795\n",
       "        },\n",
       "        {\n",
       "          &quot;lat&quot;: 51.87058800052297,\n",
       "          &quot;lng&quot;: -0.32130275049598805\n",
       "        },\n",
       "        {\n",
       "          &quot;lat&quot;: 51.54297371691694,\n",
       "          &quot;lng&quot;: -0.14141930480311155\n",
       "        },\n",
       "        {\n",
       "          &quot;lat&quot;: 51.57048156876055,\n",
       "          &quot;lng&quot;: 0.25082776224444775\n",
       "        },\n",
       "        {\n",
       "          &quot;lat&quot;: 51.589726620386806,\n",
       "          &quot;lng&quot;: -0.1308120636691166\n",
       "        },\n",
       "        {\n",
       "          &quot;lat&quot;: 51.06202997530431,\n",
       "          &quot;lng&quot;: -0.2949586984966377\n",
       "        },\n",
       "        {\n",
       "          &quot;lat&quot;: 54.85168814846418,\n",
       "          &quot;lng&quot;: -1.4502626569751675\n",
       "        },\n",
       "        {\n",
       "          &quot;lat&quot;: 50.848218231239606,\n",
       "          &quot;lng&quot;: -0.19753971512421045\n",
       "        },\n",
       "        {\n",
       "          &quot;lat&quot;: 53.65278896555014,\n",
       "          &quot;lng&quot;: -1.7593609032127486\n",
       "        },\n",
       "        {\n",
       "          &quot;lat&quot;: 52.28356232488573,\n",
       "          &quot;lng&quot;: -0.23231729492693218\n",
       "        },\n",
       "        {\n",
       "          &quot;lat&quot;: 53.7500985775319,\n",
       "          &quot;lng&quot;: -2.379271927690122\n",
       "        },\n",
       "        {\n",
       "          &quot;lat&quot;: 51.59666106059655,\n",
       "          &quot;lng&quot;: 0.08764252327483843\n",
       "        },\n",
       "        {\n",
       "          &quot;lat&quot;: 51.56487608742571,\n",
       "          &quot;lng&quot;: 0.08995132618575856\n",
       "        },\n",
       "        {\n",
       "          &quot;lat&quot;: 52.05055292087521,\n",
       "          &quot;lng&quot;: 1.166400263183581\n",
       "        },\n",
       "        {\n",
       "          &quot;lat&quot;: 50.674684479074,\n",
       "          &quot;lng&quot;: -1.2979686362283573\n",
       "        },\n",
       "        {\n",
       "          &quot;lat&quot;: 51.55957207005985,\n",
       "          &quot;lng&quot;: -0.1143251663099594\n",
       "        },\n",
       "        {\n",
       "          &quot;lat&quot;: 51.53738985249391,\n",
       "          &quot;lng&quot;: -0.10603196444298356\n",
       "        },\n",
       "        {\n",
       "          &quot;lat&quot;: 54.954761538753964,\n",
       "          &quot;lng&quot;: -1.476934467068058\n",
       "        },\n",
       "        {\n",
       "          &quot;lat&quot;: 53.877453809543994,\n",
       "          &quot;lng&quot;: -1.9263433784988961\n",
       "        },\n",
       "        {\n",
       "          &quot;lat&quot;: 52.26337709531256,\n",
       "          &quot;lng&quot;: -1.4568793389025196\n",
       "        },\n",
       "        {\n",
       "          &quot;lat&quot;: 51.50664914664258,\n",
       "          &quot;lng&quot;: -0.19998131184750534\n",
       "        },\n",
       "        {\n",
       "          &quot;lat&quot;: 52.42616475792483,\n",
       "          &quot;lng&quot;: -0.7654028699196695\n",
       "        },\n",
       "        {\n",
       "          &quot;lat&quot;: 51.37796404521745,\n",
       "          &quot;lng&quot;: -0.2904081953504916\n",
       "        },\n",
       "        {\n",
       "          &quot;lat&quot;: 53.76282952034751,\n",
       "          &quot;lng&quot;: -0.2916386296126652\n",
       "        },\n",
       "        {\n",
       "          &quot;lat&quot;: 53.781976830436186,\n",
       "          &quot;lng&quot;: -0.35170473203060554\n",
       "        },\n",
       "        {\n",
       "          &quot;lat&quot;: 53.73759049625848,\n",
       "          &quot;lng&quot;: -0.3960213466069777\n",
       "        },\n",
       "        {\n",
       "          &quot;lat&quot;: 51.45279416340152,\n",
       "          &quot;lng&quot;: -2.4738720081418375\n",
       "        },\n",
       "        {\n",
       "          &quot;lat&quot;: 53.44945955750278,\n",
       "          &quot;lng&quot;: -2.851705030475998\n",
       "        },\n",
       "        {\n",
       "          &quot;lat&quot;: 53.999966825625144,\n",
       "          &quot;lng&quot;: -2.711151787184406\n",
       "        },\n",
       "        {\n",
       "          &quot;lat&quot;: 53.77830439534665,\n",
       "          &quot;lng&quot;: -1.5366753648917046\n",
       "        },\n",
       "        {\n",
       "          &quot;lat&quot;: 53.80740936368173,\n",
       "          &quot;lng&quot;: -1.4596492523949505\n",
       "        },\n",
       "        {\n",
       "          &quot;lat&quot;: 53.848845973731166,\n",
       "          &quot;lng&quot;: -1.5360992815602417\n",
       "        },\n",
       "        {\n",
       "          &quot;lat&quot;: 53.876649388579864,\n",
       "          &quot;lng&quot;: -1.6318325846018749\n",
       "        },\n",
       "        {\n",
       "          &quot;lat&quot;: 53.79995423533881,\n",
       "          &quot;lng&quot;: -1.6150302048241707\n",
       "        },\n",
       "        {\n",
       "          &quot;lat&quot;: 52.64695392619501,\n",
       "          &quot;lng&quot;: -1.0865263817778503\n",
       "        },\n",
       "        {\n",
       "          &quot;lat&quot;: 52.61285894811109,\n",
       "          &quot;lng&quot;: -1.1282805243396912\n",
       "        },\n",
       "        {\n",
       "          &quot;lat&quot;: 52.64901082233179,\n",
       "          &quot;lng&quot;: -1.1624756084472485\n",
       "        },\n",
       "        {\n",
       "          &quot;lat&quot;: 53.49141508776318,\n",
       "          &quot;lng&quot;: -2.5133433202968383\n",
       "        },\n",
       "        {\n",
       "          &quot;lat&quot;: 50.86918222809599,\n",
       "          &quot;lng&quot;: 0.04526598001004987\n",
       "        },\n",
       "        {\n",
       "          &quot;lat&quot;: 51.44214546742878,\n",
       "          &quot;lng&quot;: 0.0013894532707267183\n",
       "        },\n",
       "        {\n",
       "          &quot;lat&quot;: 51.42308855877295,\n",
       "          &quot;lng&quot;: -0.04844525762578359\n",
       "        },\n",
       "        {\n",
       "          &quot;lat&quot;: 51.46645119606534,\n",
       "          &quot;lng&quot;: -0.03136580250855815\n",
       "        },\n",
       "        {\n",
       "          &quot;lat&quot;: 51.56849151660075,\n",
       "          &quot;lng&quot;: 0.013372583985433993\n",
       "        },\n",
       "        {\n",
       "          &quot;lat&quot;: 52.75794349460015,\n",
       "          &quot;lng&quot;: -1.8336185466485115\n",
       "        },\n",
       "        {\n",
       "          &quot;lat&quot;: 53.21643330266086,\n",
       "          &quot;lng&quot;: -0.5621150964998453\n",
       "        },\n",
       "        {\n",
       "          &quot;lat&quot;: 53.39778059529675,\n",
       "          &quot;lng&quot;: -2.9637399831676525\n",
       "        },\n",
       "        {\n",
       "          &quot;lat&quot;: 53.4463315370296,\n",
       "          &quot;lng&quot;: -2.948330377135406\n",
       "        },\n",
       "        {\n",
       "          &quot;lat&quot;: 53.399606748476295,\n",
       "          &quot;lng&quot;: -2.9169315547760495\n",
       "        },\n",
       "        {\n",
       "          &quot;lat&quot;: 53.435916682536366,\n",
       "          &quot;lng&quot;: -2.901447451275387\n",
       "        },\n",
       "        {\n",
       "          &quot;lat&quot;: 52.77132140410512,\n",
       "          &quot;lng&quot;: -1.177517908178688\n",
       "        },\n",
       "        {\n",
       "          &quot;lat&quot;: 53.28789011192991,\n",
       "          &quot;lng&quot;: 0.0046491537107508744\n",
       "        },\n",
       "        {\n",
       "          &quot;lat&quot;: 52.47981694991344,\n",
       "          &quot;lng&quot;: -2.7209464638723166\n",
       "        },\n",
       "        {\n",
       "          &quot;lat&quot;: 51.906987564715514,\n",
       "          &quot;lng&quot;: -0.45337089218498083\n",
       "        },\n",
       "        {\n",
       "          &quot;lat&quot;: 51.870663710934416,\n",
       "          &quot;lng&quot;: -0.41227350376143673\n",
       "        },\n",
       "        {\n",
       "          &quot;lat&quot;: 53.26174239300395,\n",
       "          &quot;lng&quot;: -2.119716749801071\n",
       "        },\n",
       "        {\n",
       "          &quot;lat&quot;: 51.50016919300577,\n",
       "          &quot;lng&quot;: -0.7924046218412268\n",
       "        },\n",
       "        {\n",
       "          &quot;lat&quot;: 51.167901661578405,\n",
       "          &quot;lng&quot;: 0.5154689605039152\n",
       "        },\n",
       "        {\n",
       "          &quot;lat&quot;: 53.516928241044056,\n",
       "          &quot;lng&quot;: -2.6312177928583775\n",
       "        },\n",
       "        {\n",
       "          &quot;lat&quot;: 51.67826727397112,\n",
       "          &quot;lng&quot;: 0.6891254700585915\n",
       "        },\n",
       "        {\n",
       "          &quot;lat&quot;: 53.48186349612737,\n",
       "          &quot;lng&quot;: -2.2078891353634793\n",
       "        },\n",
       "        {\n",
       "          &quot;lat&quot;: 53.451806164954476,\n",
       "          &quot;lng&quot;: -2.2035456931570643\n",
       "        },\n",
       "        {\n",
       "          &quot;lat&quot;: 53.42712327992075,\n",
       "          &quot;lng&quot;: -2.2431755514938456\n",
       "        },\n",
       "        {\n",
       "          &quot;lat&quot;: 53.170752919729374,\n",
       "          &quot;lng&quot;: -1.1728353789563102\n",
       "        },\n",
       "        {\n",
       "          &quot;lat&quot;: 50.95980605970839,\n",
       "          &quot;lng&quot;: -1.1348309399249805\n",
       "        },\n",
       "        {\n",
       "          &quot;lat&quot;: 52.41162485046027,\n",
       "          &quot;lng&quot;: -1.7113027567114991\n",
       "        },\n",
       "        {\n",
       "          &quot;lat&quot;: 52.02993572174932,\n",
       "          &quot;lng&quot;: -0.4856465681790614\n",
       "        },\n",
       "        {\n",
       "          &quot;lat&quot;: 52.96482342773989,\n",
       "          &quot;lng&quot;: -1.4272930654281806\n",
       "        },\n",
       "        {\n",
       "          &quot;lat&quot;: 50.750045426039364,\n",
       "          &quot;lng&quot;: -2.0903314315921024\n",
       "        },\n",
       "        {\n",
       "          &quot;lat&quot;: 52.64920164543175,\n",
       "          &quot;lng&quot;: 0.930127583688587\n",
       "        },\n",
       "        {\n",
       "          &quot;lat&quot;: 51.02598047183902,\n",
       "          &quot;lng&quot;: -0.11035353150602718\n",
       "        },\n",
       "        {\n",
       "          &quot;lat&quot;: 52.18253992508164,\n",
       "          &quot;lng&quot;: -2.05747164841056\n",
       "        },\n",
       "        {\n",
       "          &quot;lat&quot;: 54.557856615800404,\n",
       "          &quot;lng&quot;: -1.2348372507758747\n",
       "        },\n",
       "        {\n",
       "          &quot;lat&quot;: 54.53502443722445,\n",
       "          &quot;lng&quot;: -1.0118642277269267\n",
       "        },\n",
       "        {\n",
       "          &quot;lat&quot;: 52.10821456572143,\n",
       "          &quot;lng&quot;: -0.7289897009244664\n",
       "        },\n",
       "        {\n",
       "          &quot;lat&quot;: 52.0138098262611,\n",
       "          &quot;lng&quot;: -0.7465034189834668\n",
       "        },\n",
       "        {\n",
       "          &quot;lat&quot;: 51.401015329519254,\n",
       "          &quot;lng&quot;: -0.17139270630653614\n",
       "        },\n",
       "        {\n",
       "          &quot;lat&quot;: 51.22267143612762,\n",
       "          &quot;lng&quot;: -0.37285721612469586\n",
       "        },\n",
       "        {\n",
       "          &quot;lat&quot;: 54.12760155958521,\n",
       "          &quot;lng&quot;: -2.715006848531113\n",
       "        },\n",
       "        {\n",
       "          &quot;lat&quot;: 53.72777662120481,\n",
       "          &quot;lng&quot;: -1.5534230512297154\n",
       "        },\n",
       "        {\n",
       "          &quot;lat&quot;: 50.85224965913278,\n",
       "          &quot;lng&quot;: -1.5273553791973842\n",
       "        },\n",
       "        {\n",
       "          &quot;lat&quot;: 50.8684292253379,\n",
       "          &quot;lng&quot;: -1.7461393780087184\n",
       "        },\n",
       "        {\n",
       "          &quot;lat&quot;: 53.125874768817326,\n",
       "          &quot;lng&quot;: -0.8665749152982851\n",
       "        },\n",
       "        {\n",
       "          &quot;lat&quot;: 51.45476086172853,\n",
       "          &quot;lng&quot;: -1.346499507363844\n",
       "        },\n",
       "        {\n",
       "          &quot;lat&quot;: 54.98400431417504,\n",
       "          &quot;lng&quot;: -1.649792947092564\n",
       "        },\n",
       "        {\n",
       "          &quot;lat&quot;: 54.98440927592645,\n",
       "          &quot;lng&quot;: -1.5753875647251545\n",
       "        },\n",
       "        {\n",
       "          &quot;lat&quot;: 55.02287321576155,\n",
       "          &quot;lng&quot;: -1.6835409187761334\n",
       "        },\n",
       "        {\n",
       "          &quot;lat&quot;: 53.03187481058766,\n",
       "          &quot;lng&quot;: -2.285492237451191\n",
       "        },\n",
       "        {\n",
       "          &quot;lat&quot;: 50.55039944602349,\n",
       "          &quot;lng&quot;: -3.5762054033372714\n",
       "        },\n",
       "        {\n",
       "          &quot;lat&quot;: 53.69826223872912,\n",
       "          &quot;lng&quot;: -1.3312358024436959\n",
       "        },\n",
       "        {\n",
       "          &quot;lat&quot;: 50.62600481818205,\n",
       "          &quot;lng&quot;: -4.609763792207615\n",
       "        },\n",
       "        {\n",
       "          &quot;lat&quot;: 51.069123701578164,\n",
       "          &quot;lng&quot;: -3.910914961671153\n",
       "        },\n",
       "        {\n",
       "          &quot;lat&quot;: 50.90278105988747,\n",
       "          &quot;lng&quot;: -2.16385553304242\n",
       "        },\n",
       "        {\n",
       "          &quot;lat&quot;: 54.859710095344425,\n",
       "          &quot;lng&quot;: -1.6324246728858436\n",
       "        },\n",
       "        {\n",
       "          &quot;lat&quot;: 52.173661696495785,\n",
       "          &quot;lng&quot;: -0.39690314574049446\n",
       "        },\n",
       "        {\n",
       "          &quot;lat&quot;: 52.53380020199386,\n",
       "          &quot;lng&quot;: 0.10335048694349906\n",
       "        },\n",
       "        {\n",
       "          &quot;lat&quot;: 53.24650623516193,\n",
       "          &quot;lng&quot;: -1.4592237331781668\n",
       "        },\n",
       "        {\n",
       "          &quot;lat&quot;: 51.271001080723636,\n",
       "          &quot;lng&quot;: -0.9930075851390677\n",
       "        },\n",
       "        {\n",
       "          &quot;lat&quot;: 51.933987066919535,\n",
       "          &quot;lng&quot;: -0.05708064240957835\n",
       "        },\n",
       "        {\n",
       "          &quot;lat&quot;: 51.353802098630716,\n",
       "          &quot;lng&quot;: -2.484813467748992\n",
       "        },\n",
       "        {\n",
       "          &quot;lat&quot;: 52.1670913499949,\n",
       "          &quot;lng&quot;: -2.7126357191452484\n",
       "        },\n",
       "        {\n",
       "          &quot;lat&quot;: 52.847560114853316,\n",
       "          &quot;lng&quot;: 1.2684868743150854\n",
       "        },\n",
       "        {\n",
       "          &quot;lat&quot;: 52.86656767894787,\n",
       "          &quot;lng&quot;: -2.771865847416051\n",
       "        },\n",
       "        {\n",
       "          &quot;lat&quot;: 51.42015201413078,\n",
       "          &quot;lng&quot;: -2.7440777485493224\n",
       "        },\n",
       "        {\n",
       "          &quot;lat&quot;: 51.61604246993651,\n",
       "          &quot;lng&quot;: -1.750862912273509\n",
       "        },\n",
       "        {\n",
       "          &quot;lat&quot;: 51.35038801331181,\n",
       "          &quot;lng&quot;: 1.2456311534601063\n",
       "        },\n",
       "        {\n",
       "          &quot;lat&quot;: 55.02277449795852,\n",
       "          &quot;lng&quot;: -1.5526488268421623\n",
       "        },\n",
       "        {\n",
       "          &quot;lat&quot;: 52.54486081944592,\n",
       "          &quot;lng&quot;: -1.626959606248784\n",
       "        },\n",
       "        {\n",
       "          &quot;lat&quot;: 52.4650831202634,\n",
       "          &quot;lng&quot;: -0.244651958821121\n",
       "        },\n",
       "        {\n",
       "          &quot;lat&quot;: 54.77291326487737,\n",
       "          &quot;lng&quot;: -1.9509897695654237\n",
       "        },\n",
       "        {\n",
       "          &quot;lat&quot;: 51.26378861811645,\n",
       "          &quot;lng&quot;: -1.3739415089801446\n",
       "        },\n",
       "        {\n",
       "          &quot;lat&quot;: 52.75316474858002,\n",
       "          &quot;lng&quot;: -1.4049434518620099\n",
       "        },\n",
       "        {\n",
       "          &quot;lat&quot;: 52.82264416193793,\n",
       "          &quot;lng&quot;: 0.5456473987769807\n",
       "        },\n",
       "        {\n",
       "          &quot;lat&quot;: 51.532598198226175,\n",
       "          &quot;lng&quot;: -2.044062467858379\n",
       "        },\n",
       "        {\n",
       "          &quot;lat&quot;: 52.26454144425381,\n",
       "          &quot;lng&quot;: -0.8697352079437362\n",
       "        },\n",
       "        {\n",
       "          &quot;lat&quot;: 52.24372332428101,\n",
       "          &quot;lng&quot;: -0.8868348081822279\n",
       "        },\n",
       "        {\n",
       "          &quot;lat&quot;: 52.65316335252727,\n",
       "          &quot;lng&quot;: 1.3111801997885075\n",
       "        },\n",
       "        {\n",
       "          &quot;lat&quot;: 52.62576558318468,\n",
       "          &quot;lng&quot;: 1.2667899740388469\n",
       "        },\n",
       "        {\n",
       "          &quot;lat&quot;: 52.96676697254776,\n",
       "          &quot;lng&quot;: -1.137256236053902\n",
       "        },\n",
       "        {\n",
       "          &quot;lat&quot;: 52.98926708341893,\n",
       "          &quot;lng&quot;: -1.1974196371334738\n",
       "        },\n",
       "        {\n",
       "          &quot;lat&quot;: 52.93646835862915,\n",
       "          &quot;lng&quot;: -1.1840104315393374\n",
       "        },\n",
       "        {\n",
       "          &quot;lat&quot;: 52.523181633266425,\n",
       "          &quot;lng&quot;: -1.5184532287148953\n",
       "        },\n",
       "        {\n",
       "          &quot;lat&quot;: 51.43772201701245,\n",
       "          &quot;lng&quot;: 0.11857422617584479\n",
       "        },\n",
       "        {\n",
       "          &quot;lat&quot;: 53.55726904884162,\n",
       "          &quot;lng&quot;: -2.018872332097088\n",
       "        },\n",
       "        {\n",
       "          &quot;lat&quot;: 53.54426152670706,\n",
       "          &quot;lng&quot;: -2.135478527071196\n",
       "        },\n",
       "        {\n",
       "          &quot;lat&quot;: 51.34971323164827,\n",
       "          &quot;lng&quot;: 0.08001678214254426\n",
       "        },\n",
       "        {\n",
       "          &quot;lat&quot;: 51.74631064474438,\n",
       "          &quot;lng&quot;: -1.2234497990667035\n",
       "        },\n",
       "        {\n",
       "          &quot;lat&quot;: 51.74657755548796,\n",
       "          &quot;lng&quot;: -1.2992715225805362\n",
       "        },\n",
       "        {\n",
       "          &quot;lat&quot;: 53.86550387199625,\n",
       "          &quot;lng&quot;: -2.184824934612745\n",
       "        },\n",
       "        {\n",
       "          &quot;lat&quot;: 53.49800706723851,\n",
       "          &quot;lng&quot;: -1.6232838094496003\n",
       "        },\n",
       "        {\n",
       "          &quot;lat&quot;: 54.72228380732702,\n",
       "          &quot;lng&quot;: -2.680395217834787\n",
       "        },\n",
       "        {\n",
       "          &quot;lat&quot;: 52.61747371936593,\n",
       "          &quot;lng&quot;: -0.1605761966144108\n",
       "        },\n",
       "        {\n",
       "          &quot;lat&quot;: 50.41307869455918,\n",
       "          &quot;lng&quot;: -4.138706143581667\n",
       "        },\n",
       "        {\n",
       "          &quot;lat&quot;: 50.380725656505135,\n",
       "          &quot;lng&quot;: -4.141714958205255\n",
       "        },\n",
       "        {\n",
       "          &quot;lat&quot;: 50.72424482350449,\n",
       "          &quot;lng&quot;: -1.9652898417038231\n",
       "        },\n",
       "        {\n",
       "          &quot;lat&quot;: 51.50886604464672,\n",
       "          &quot;lng&quot;: -0.02491605133047793\n",
       "        },\n",
       "        {\n",
       "          &quot;lat&quot;: 50.83392170630492,\n",
       "          &quot;lng&quot;: -1.0669578691629387\n",
       "        },\n",
       "        {\n",
       "          &quot;lat&quot;: 50.79422501969096,\n",
       "          &quot;lng&quot;: -1.0762182219638834\n",
       "        },\n",
       "        {\n",
       "          &quot;lat&quot;: 53.76963434756571,\n",
       "          &quot;lng&quot;: -2.691324104795204\n",
       "        },\n",
       "        {\n",
       "          &quot;lat&quot;: 53.83969949500885,\n",
       "          &quot;lng&quot;: -1.691643446401689\n",
       "        },\n",
       "        {\n",
       "          &quot;lat&quot;: 51.45233594139565,\n",
       "          &quot;lng&quot;: -0.22465099364543525\n",
       "        },\n",
       "        {\n",
       "          &quot;lat&quot;: 51.60679884386812,\n",
       "          &quot;lng&quot;: 0.674512550264255\n",
       "        },\n",
       "        {\n",
       "          &quot;lat&quot;: 51.458520518864525,\n",
       "          &quot;lng&quot;: -0.948366880282217\n",
       "        },\n",
       "        {\n",
       "          &quot;lat&quot;: 51.45556208771767,\n",
       "          &quot;lng&quot;: -1.044044126383164\n",
       "        },\n",
       "        {\n",
       "          &quot;lat&quot;: 54.58710955563639,\n",
       "          &quot;lng&quot;: -1.108070157129636\n",
       "        },\n",
       "        {\n",
       "          &quot;lat&quot;: 52.24243373362745,\n",
       "          &quot;lng&quot;: -1.9849027009685198\n",
       "        },\n",
       "        {\n",
       "          &quot;lat&quot;: 51.25754746083909,\n",
       "          &quot;lng&quot;: -0.1933210089774755\n",
       "        },\n",
       "        {\n",
       "          &quot;lat&quot;: 53.89478360036125,\n",
       "          &quot;lng&quot;: -2.4595315207154425\n",
       "        },\n",
       "        {\n",
       "          &quot;lat&quot;: 54.36598923004362,\n",
       "          &quot;lng&quot;: -1.7276886690941513\n",
       "        },\n",
       "        {\n",
       "          &quot;lat&quot;: 51.446989942646994,\n",
       "          &quot;lng&quot;: -0.2789749867263321\n",
       "        },\n",
       "        {\n",
       "          &quot;lat&quot;: 53.63278081754839,\n",
       "          &quot;lng&quot;: -2.1092032447966456\n",
       "        },\n",
       "        {\n",
       "          &quot;lat&quot;: 51.430731960558965,\n",
       "          &quot;lng&quot;: 0.5486692809258878\n",
       "        },\n",
       "        {\n",
       "          &quot;lat&quot;: 51.57007980852688,\n",
       "          &quot;lng&quot;: 0.7983715520228043\n",
       "        },\n",
       "        {\n",
       "          &quot;lat&quot;: 51.59118947951869,\n",
       "          &quot;lng&quot;: 0.1803921100950548\n",
       "        },\n",
       "        {\n",
       "          &quot;lat&quot;: 51.072338433800866,\n",
       "          &quot;lng&quot;: -1.4994542772503412\n",
       "        },\n",
       "        {\n",
       "          &quot;lat&quot;: 53.682165574756574,\n",
       "          &quot;lng&quot;: -2.3455295990028353\n",
       "        },\n",
       "        {\n",
       "          &quot;lat&quot;: 53.37342799866579,\n",
       "          &quot;lng&quot;: -1.23958526808437\n",
       "        },\n",
       "        {\n",
       "          &quot;lat&quot;: 53.431745536798026,\n",
       "          &quot;lng&quot;: -1.3685329566636433\n",
       "        },\n",
       "        {\n",
       "          &quot;lat&quot;: 52.423893587456945,\n",
       "          &quot;lng&quot;: -1.3346475641549715\n",
       "        },\n",
       "        {\n",
       "          &quot;lat&quot;: 51.593080830115596,\n",
       "          &quot;lng&quot;: -0.4382359334240639\n",
       "        },\n",
       "        {\n",
       "          &quot;lat&quot;: 51.38782860720328,\n",
       "          &quot;lng&quot;: -0.5260459060324898\n",
       "        },\n",
       "        {\n",
       "          &quot;lat&quot;: 52.879183375989236,\n",
       "          &quot;lng&quot;: -1.0822200760784013\n",
       "        },\n",
       "        {\n",
       "          &quot;lat&quot;: 52.70621497467379,\n",
       "          &quot;lng&quot;: -0.7926385706934068\n",
       "        },\n",
       "        {\n",
       "          &quot;lat&quot;: 51.90359671660963,\n",
       "          &quot;lng&quot;: 0.31028211866781824\n",
       "        },\n",
       "        {\n",
       "          &quot;lat&quot;: 53.4992454284285,\n",
       "          &quot;lng&quot;: -2.3129138853038906\n",
       "        },\n",
       "        {\n",
       "          &quot;lat&quot;: 51.091057130593704,\n",
       "          &quot;lng&quot;: -1.8143111604213504\n",
       "        },\n",
       "        {\n",
       "          &quot;lat&quot;: 54.38622907520059,\n",
       "          &quot;lng&quot;: -0.6701374062459527\n",
       "        },\n",
       "        {\n",
       "          &quot;lat&quot;: 53.528755201384236,\n",
       "          &quot;lng&quot;: -0.5889035009339254\n",
       "        },\n",
       "        {\n",
       "          &quot;lat&quot;: 54.61207114253333,\n",
       "          &quot;lng&quot;: -1.5097330843234753\n",
       "        },\n",
       "        {\n",
       "          &quot;lat&quot;: 53.52590044751822,\n",
       "          &quot;lng&quot;: -3.0064354563423827\n",
       "        },\n",
       "        {\n",
       "          &quot;lat&quot;: 53.841643525274044,\n",
       "          &quot;lng&quot;: -1.200533507344445\n",
       "        },\n",
       "        {\n",
       "          &quot;lat&quot;: 51.310213693231276,\n",
       "          &quot;lng&quot;: 0.18183008821496482\n",
       "        },\n",
       "        {\n",
       "          &quot;lat&quot;: 53.37626291837013,\n",
       "          &quot;lng&quot;: -1.4738210560312919\n",
       "        },\n",
       "        {\n",
       "          &quot;lat&quot;: 53.36393268045114,\n",
       "          &quot;lng&quot;: -1.3851160026377538\n",
       "        },\n",
       "        {\n",
       "          &quot;lat&quot;: 53.41566863126033,\n",
       "          &quot;lng&quot;: -1.4671130606997493\n",
       "        },\n",
       "        {\n",
       "          &quot;lat&quot;: 53.38190166004576,\n",
       "          &quot;lng&quot;: -1.5896882519748277\n",
       "        },\n",
       "        {\n",
       "          &quot;lat&quot;: 53.34575672616026,\n",
       "          &quot;lng&quot;: -1.4570835216700835\n",
       "        },\n",
       "        {\n",
       "          &quot;lat&quot;: 53.11755112303969,\n",
       "          &quot;lng&quot;: -1.0808585236084123\n",
       "        },\n",
       "        {\n",
       "          &quot;lat&quot;: 53.850231448543624,\n",
       "          &quot;lng&quot;: -1.8231006909223029\n",
       "        },\n",
       "        {\n",
       "          &quot;lat&quot;: 52.66922761247534,\n",
       "          &quot;lng&quot;: -2.7801874462593337\n",
       "        },\n",
       "        {\n",
       "          &quot;lat&quot;: 51.36327659201697,\n",
       "          &quot;lng&quot;: 0.775150591645191\n",
       "        },\n",
       "        {\n",
       "          &quot;lat&quot;: 54.087826462986214,\n",
       "          &quot;lng&quot;: -1.9576246770361394\n",
       "        },\n",
       "        {\n",
       "          &quot;lat&quot;: 53.05955732357169,\n",
       "          &quot;lng&quot;: -0.48656406634166216\n",
       "        },\n",
       "        {\n",
       "          &quot;lat&quot;: 51.513397606952466,\n",
       "          &quot;lng&quot;: -0.6007595894867215\n",
       "        },\n",
       "        {\n",
       "          &quot;lat&quot;: 52.419698604281926,\n",
       "          &quot;lng&quot;: -1.7970470967214678\n",
       "        },\n",
       "        {\n",
       "          &quot;lat&quot;: 51.10175805997708,\n",
       "          &quot;lng&quot;: -2.55475784060927\n",
       "        },\n",
       "        {\n",
       "          &quot;lat&quot;: 51.53192117883834,\n",
       "          &quot;lng&quot;: 0.43387275279749427\n",
       "        },\n",
       "        {\n",
       "          &quot;lat&quot;: 52.164135375794956,\n",
       "          &quot;lng&quot;: 0.012227134736288586\n",
       "        },\n",
       "        {\n",
       "          &quot;lat&quot;: 52.83102301519388,\n",
       "          &quot;lng&quot;: -1.5595479969113877\n",
       "        },\n",
       "        {\n",
       "          &quot;lat&quot;: 50.65335136895797,\n",
       "          &quot;lng&quot;: -2.201222588301188\n",
       "        },\n",
       "        {\n",
       "          &quot;lat&quot;: 52.26348529249487,\n",
       "          &quot;lng&quot;: 0.2885509509560034\n",
       "        },\n",
       "        {\n",
       "          &quot;lat&quot;: 50.43835609669361,\n",
       "          &quot;lng&quot;: -4.452109439316806\n",
       "        },\n",
       "        {\n",
       "          &quot;lat&quot;: 52.78452057542835,\n",
       "          &quot;lng&quot;: -0.057592063934401715\n",
       "        },\n",
       "        {\n",
       "          &quot;lat&quot;: 52.51469836874107,\n",
       "          &quot;lng&quot;: -1.1977125017185237\n",
       "        },\n",
       "        {\n",
       "          &quot;lat&quot;: 52.50494362675113,\n",
       "          &quot;lng&quot;: 1.30591116186455\n",
       "        },\n",
       "        {\n",
       "          &quot;lat&quot;: 52.11937505377539,\n",
       "          &quot;lng&quot;: -1.041360516822529\n",
       "        },\n",
       "        {\n",
       "          &quot;lat&quot;: 53.68644433388002,\n",
       "          &quot;lng&quot;: -2.8128087345406985\n",
       "        },\n",
       "        {\n",
       "          &quot;lat&quot;: 54.973213466073474,\n",
       "          &quot;lng&quot;: -1.4094188515460406\n",
       "        },\n",
       "        {\n",
       "          &quot;lat&quot;: 52.57906639773104,\n",
       "          &quot;lng&quot;: -2.180654102748366\n",
       "        },\n",
       "        {\n",
       "          &quot;lat&quot;: 52.05889064974113,\n",
       "          &quot;lng&quot;: 0.8813269323763968\n",
       "        },\n",
       "        {\n",
       "          &quot;lat&quot;: 51.53331852410803,\n",
       "          &quot;lng&quot;: -1.737681579635634\n",
       "        },\n",
       "        {\n",
       "          &quot;lat&quot;: 51.29579091116853,\n",
       "          &quot;lng&quot;: 1.3129152660665098\n",
       "        },\n",
       "        {\n",
       "          &quot;lat&quot;: 51.895894139207606,\n",
       "          &quot;lng&quot;: -0.5769772709270382\n",
       "        },\n",
       "        {\n",
       "          &quot;lat&quot;: 50.38335576116085,\n",
       "          &quot;lng&quot;: -3.9724199297338143\n",
       "        },\n",
       "        {\n",
       "          &quot;lat&quot;: 51.725102449479046,\n",
       "          &quot;lng&quot;: -0.553024650308423\n",
       "        },\n",
       "        {\n",
       "          &quot;lat&quot;: 52.553474273808824,\n",
       "          &quot;lng&quot;: 0.5811211809510592\n",
       "        },\n",
       "        {\n",
       "          &quot;lat&quot;: 51.152357909126394,\n",
       "          &quot;lng&quot;: -0.6837667269611786\n",
       "        },\n",
       "        {\n",
       "          &quot;lat&quot;: 51.149669505564894,\n",
       "          &quot;lng&quot;: -2.1349915933924635\n",
       "        },\n",
       "        {\n",
       "          &quot;lat&quot;: 50.90742668352867,\n",
       "          &quot;lng&quot;: -1.366065828900576\n",
       "        },\n",
       "        {\n",
       "          &quot;lat&quot;: 50.924099329440864,\n",
       "          &quot;lng&quot;: -1.430228901988713\n",
       "        },\n",
       "        {\n",
       "          &quot;lat&quot;: 51.55431590538592,\n",
       "          &quot;lng&quot;: 0.6639779505736618\n",
       "        },\n",
       "        {\n",
       "          &quot;lat&quot;: 53.64027600942928,\n",
       "          &quot;lng&quot;: -3.0032416750529296\n",
       "        },\n",
       "        {\n",
       "          &quot;lat&quot;: 51.424772449918805,\n",
       "          &quot;lng&quot;: -0.46796431096661373\n",
       "        },\n",
       "        {\n",
       "          &quot;lat&quot;: 51.732149155351195,\n",
       "          &quot;lng&quot;: -0.33797125413420825\n",
       "        },\n",
       "        {\n",
       "          &quot;lat&quot;: 50.37212969482629,\n",
       "          &quot;lng&quot;: -4.872636808257038\n",
       "        },\n",
       "        {\n",
       "          &quot;lat&quot;: 53.47946158280121,\n",
       "          &quot;lng&quot;: -2.7161378692075955\n",
       "        },\n",
       "        {\n",
       "          &quot;lat&quot;: 53.423428522743585,\n",
       "          &quot;lng&quot;: -2.744470475140153\n",
       "        },\n",
       "        {\n",
       "          &quot;lat&quot;: 50.09890404470085,\n",
       "          &quot;lng&quot;: -5.43041990711549\n",
       "        },\n",
       "        {\n",
       "          &quot;lat&quot;: 52.76897442556696,\n",
       "          &quot;lng&quot;: -2.128590059009201\n",
       "        },\n",
       "        {\n",
       "          &quot;lat&quot;: 53.094664949088994,\n",
       "          &quot;lng&quot;: -1.9820323049069803\n",
       "        },\n",
       "        {\n",
       "          &quot;lat&quot;: 53.47686928876084,\n",
       "          &quot;lng&quot;: -2.0324331892471537\n",
       "        },\n",
       "        {\n",
       "          &quot;lat&quot;: 51.881701607763276,\n",
       "          &quot;lng&quot;: -0.19408471930278404\n",
       "        },\n",
       "        {\n",
       "          &quot;lat&quot;: 53.41088236227075,\n",
       "          &quot;lng&quot;: -2.1675394337674794\n",
       "        },\n",
       "        {\n",
       "          &quot;lat&quot;: 54.59185045009421,\n",
       "          &quot;lng&quot;: -1.3285900928435206\n",
       "        },\n",
       "        {\n",
       "          &quot;lat&quot;: 54.51831110606281,\n",
       "          &quot;lng&quot;: -1.33733404049269\n",
       "        },\n",
       "        {\n",
       "          &quot;lat&quot;: 53.0169078991589,\n",
       "          &quot;lng&quot;: -2.164112857427901\n",
       "        },\n",
       "        {\n",
       "          &quot;lat&quot;: 53.0659273915651,\n",
       "          &quot;lng&quot;: -2.2042960708084984\n",
       "        },\n",
       "        {\n",
       "          &quot;lat&quot;: 52.97953137225185,\n",
       "          &quot;lng&quot;: -2.1444787266901\n",
       "        },\n",
       "        {\n",
       "          &quot;lat&quot;: 52.88923564269058,\n",
       "          &quot;lng&quot;: -2.209697263798796\n",
       "        },\n",
       "        {\n",
       "          &quot;lat&quot;: 52.45545091119853,\n",
       "          &quot;lng&quot;: -2.129037135409921\n",
       "        },\n",
       "        {\n",
       "          &quot;lat&quot;: 52.16829954446396,\n",
       "          &quot;lng&quot;: -1.7128471849613895\n",
       "        },\n",
       "        {\n",
       "          &quot;lat&quot;: 51.43873025731618,\n",
       "          &quot;lng&quot;: -0.1282461495526512\n",
       "        },\n",
       "        {\n",
       "          &quot;lat&quot;: 53.4463567878384,\n",
       "          &quot;lng&quot;: -2.3524005835127406\n",
       "        },\n",
       "        {\n",
       "          &quot;lat&quot;: 51.743994637015064,\n",
       "          &quot;lng&quot;: -2.2932237173768364\n",
       "        },\n",
       "        {\n",
       "          &quot;lat&quot;: 52.19587367303314,\n",
       "          &quot;lng&quot;: 1.4790006095078128\n",
       "        },\n",
       "        {\n",
       "          &quot;lat&quot;: 54.90264100219698,\n",
       "          &quot;lng&quot;: -1.3881055851911155\n",
       "        },\n",
       "        {\n",
       "          &quot;lat&quot;: 51.33187045971639,\n",
       "          &quot;lng&quot;: -0.6764335637911221\n",
       "        },\n",
       "        {\n",
       "          &quot;lat&quot;: 51.36308749321837,\n",
       "          &quot;lng&quot;: -0.2089023550363049\n",
       "        },\n",
       "        {\n",
       "          &quot;lat&quot;: 52.561758700894316,\n",
       "          &quot;lng&quot;: -1.8131858530395872\n",
       "        },\n",
       "        {\n",
       "          &quot;lat&quot;: 52.646444236580216,\n",
       "          &quot;lng&quot;: -1.7413178341455327\n",
       "        },\n",
       "        {\n",
       "          &quot;lat&quot;: 53.2977221449458,\n",
       "          &quot;lng&quot;: -2.391732536056013\n",
       "        },\n",
       "        {\n",
       "          &quot;lat&quot;: 51.010510939095326,\n",
       "          &quot;lng&quot;: -3.1573350597227603\n",
       "        },\n",
       "        {\n",
       "          &quot;lat&quot;: 52.664697800489016,\n",
       "          &quot;lng&quot;: -2.4549052638698736\n",
       "        },\n",
       "        {\n",
       "          &quot;lat&quot;: 51.94842443280666,\n",
       "          &quot;lng&quot;: -2.060198829859855\n",
       "        },\n",
       "        {\n",
       "          &quot;lat&quot;: 51.806517191729995,\n",
       "          &quot;lng&quot;: -1.9173996131890327\n",
       "        },\n",
       "        {\n",
       "          &quot;lat&quot;: 52.72046741312356,\n",
       "          &quot;lng&quot;: -2.4447727502684784\n",
       "        },\n",
       "        {\n",
       "          &quot;lat&quot;: 54.198234182161826,\n",
       "          &quot;lng&quot;: -0.9358084711353903\n",
       "        },\n",
       "        {\n",
       "          &quot;lat&quot;: 51.55391988017372,\n",
       "          &quot;lng&quot;: -2.4291278661568465\n",
       "        },\n",
       "        {\n",
       "          &quot;lat&quot;: 51.49306770458201,\n",
       "          &quot;lng&quot;: 0.30657672853165413\n",
       "        },\n",
       "        {\n",
       "          &quot;lat&quot;: 50.86086836430879,\n",
       "          &quot;lng&quot;: -3.2629038524115597\n",
       "        },\n",
       "        {\n",
       "          &quot;lat&quot;: 51.233781914548906,\n",
       "          &quot;lng&quot;: 0.2594194407518356\n",
       "        },\n",
       "        {\n",
       "          &quot;lat&quot;: 51.436741797218936,\n",
       "          &quot;lng&quot;: -0.16549124266139723\n",
       "        },\n",
       "        {\n",
       "          &quot;lat&quot;: 50.46694392808369,\n",
       "          &quot;lng&quot;: -3.5470550034492003\n",
       "        },\n",
       "        {\n",
       "          &quot;lat&quot;: 50.763343032165956,\n",
       "          &quot;lng&quot;: -4.182658011011721\n",
       "        },\n",
       "        {\n",
       "          &quot;lat&quot;: 50.37134027455175,\n",
       "          &quot;lng&quot;: -3.725216124999117\n",
       "        },\n",
       "        {\n",
       "          &quot;lat&quot;: 51.59115738899116,\n",
       "          &quot;lng&quot;: -0.07838670231260815\n",
       "        },\n",
       "        {\n",
       "          &quot;lat&quot;: 50.27765892101964,\n",
       "          &quot;lng&quot;: -5.046932475829728\n",
       "        },\n",
       "        {\n",
       "          &quot;lat&quot;: 51.12017534544179,\n",
       "          &quot;lng&quot;: 0.38598427279705994\n",
       "        },\n",
       "        {\n",
       "          &quot;lat&quot;: 51.429055282691095,\n",
       "          &quot;lng&quot;: -0.34506170538526076\n",
       "        },\n",
       "        {\n",
       "          &quot;lat&quot;: 55.03482775870649,\n",
       "          &quot;lng&quot;: -1.4804143537204462\n",
       "        },\n",
       "        {\n",
       "          &quot;lat&quot;: 51.543974745413664,\n",
       "          &quot;lng&quot;: -0.4418881936638935\n",
       "        },\n",
       "        {\n",
       "          &quot;lat&quot;: 51.47844475696551,\n",
       "          &quot;lng&quot;: -0.12118560231012171\n",
       "        },\n",
       "        {\n",
       "          &quot;lat&quot;: 53.651253714271355,\n",
       "          &quot;lng&quot;: -1.5487507075539877\n",
       "        },\n",
       "        {\n",
       "          &quot;lat&quot;: 53.41461931127531,\n",
       "          &quot;lng&quot;: -3.077241000284312\n",
       "        },\n",
       "        {\n",
       "          &quot;lat&quot;: 52.605763953606306,\n",
       "          &quot;lng&quot;: -2.0171734997772157\n",
       "        },\n",
       "        {\n",
       "          &quot;lat&quot;: 52.57385739470436,\n",
       "          &quot;lng&quot;: -1.975881718572634\n",
       "        },\n",
       "        {\n",
       "          &quot;lat&quot;: 51.585128795212476,\n",
       "          &quot;lng&quot;: -0.027788329101525486\n",
       "        },\n",
       "        {\n",
       "          &quot;lat&quot;: 55.169835758745535,\n",
       "          &quot;lng&quot;: -1.6366172690797003\n",
       "        },\n",
       "        {\n",
       "          &quot;lat&quot;: 51.6150551721226,\n",
       "          &quot;lng&quot;: -1.4222800246067915\n",
       "        },\n",
       "        {\n",
       "          &quot;lat&quot;: 52.48680995643611,\n",
       "          &quot;lng&quot;: -1.9876695662848338\n",
       "        },\n",
       "        {\n",
       "          &quot;lat&quot;: 53.42696154235021,\n",
       "          &quot;lng&quot;: -2.5514154395747757\n",
       "        },\n",
       "        {\n",
       "          &quot;lat&quot;: 53.3705969633268,\n",
       "          &quot;lng&quot;: -2.574457749509384\n",
       "        },\n",
       "        {\n",
       "          &quot;lat&quot;: 52.268636536588176,\n",
       "          &quot;lng&quot;: -1.5824384903002235\n",
       "        },\n",
       "        {\n",
       "          &quot;lat&quot;: 54.908111750581845,\n",
       "          &quot;lng&quot;: -1.5005235484502661\n",
       "        },\n",
       "        {\n",
       "          &quot;lat&quot;: 51.67271741672896,\n",
       "          &quot;lng&quot;: -0.407260288773906\n",
       "        },\n",
       "        {\n",
       "          &quot;lat&quot;: 52.442007919149546,\n",
       "          &quot;lng&quot;: 1.5693021788157682\n",
       "        },\n",
       "        {\n",
       "          &quot;lat&quot;: 51.01198648193394,\n",
       "          &quot;lng&quot;: 0.16767741154466512\n",
       "        },\n",
       "        {\n",
       "          &quot;lat&quot;: 53.275967436664196,\n",
       "          &quot;lng&quot;: -2.650441696108798\n",
       "        },\n",
       "        {\n",
       "          &quot;lat&quot;: 52.29074780000625,\n",
       "          &quot;lng&quot;: -0.6692597546743773\n",
       "        },\n",
       "        {\n",
       "          &quot;lat&quot;: 51.23056335832431,\n",
       "          &quot;lng&quot;: -2.737793398132835\n",
       "        },\n",
       "        {\n",
       "          &quot;lat&quot;: 51.77514178466109,\n",
       "          &quot;lng&quot;: -0.20183196876798534\n",
       "        },\n",
       "        {\n",
       "          &quot;lat&quot;: 53.48337272954735,\n",
       "          &quot;lng&quot;: -1.3358710301837837\n",
       "        },\n",
       "        {\n",
       "          &quot;lat&quot;: 52.53597423441405,\n",
       "          &quot;lng&quot;: -1.9775543337353125\n",
       "        },\n",
       "        {\n",
       "          &quot;lat&quot;: 52.5290485908757,\n",
       "          &quot;lng&quot;: -2.0364408329738306\n",
       "        },\n",
       "        {\n",
       "          &quot;lat&quot;: 50.79054088726156,\n",
       "          &quot;lng&quot;: -2.5893008001022246\n",
       "        },\n",
       "        {\n",
       "          &quot;lat&quot;: 51.5306903392263,\n",
       "          &quot;lng&quot;: 0.014347063452795626\n",
       "        },\n",
       "        {\n",
       "          &quot;lat&quot;: 53.57325723145285,\n",
       "          &quot;lng&quot;: -2.866820923454133\n",
       "        },\n",
       "        {\n",
       "          &quot;lat&quot;: 52.29425097982602,\n",
       "          &quot;lng&quot;: 0.5977921246648721\n",
       "        },\n",
       "        {\n",
       "          &quot;lat&quot;: 52.16077397930963,\n",
       "          &quot;lng&quot;: -2.294031918968004\n",
       "        },\n",
       "        {\n",
       "          &quot;lat&quot;: 51.52668002581401,\n",
       "          &quot;lng&quot;: -0.18043944328507758\n",
       "        },\n",
       "        {\n",
       "          &quot;lat&quot;: 54.32187480785005,\n",
       "          &quot;lng&quot;: -2.784350858278767\n",
       "        },\n",
       "        {\n",
       "          &quot;lat&quot;: 51.342473560440034,\n",
       "          &quot;lng&quot;: -2.872300758866894\n",
       "        },\n",
       "        {\n",
       "          &quot;lat&quot;: 53.56679879889926,\n",
       "          &quot;lng&quot;: -2.6433148802221345\n",
       "        },\n",
       "        {\n",
       "          &quot;lat&quot;: 51.41688266833826,\n",
       "          &quot;lng&quot;: -0.21739535036628274\n",
       "        },\n",
       "        {\n",
       "          &quot;lat&quot;: 51.09194744227468,\n",
       "          &quot;lng&quot;: -1.2897417847702135\n",
       "        },\n",
       "        {\n",
       "          &quot;lat&quot;: 51.4419717475038,\n",
       "          &quot;lng&quot;: -0.6546928513071852\n",
       "        },\n",
       "        {\n",
       "          &quot;lat&quot;: 53.329514196976255,\n",
       "          &quot;lng&quot;: -3.0292772812344944\n",
       "        },\n",
       "        {\n",
       "          &quot;lat&quot;: 53.369499210459274,\n",
       "          &quot;lng&quot;: -3.1300320079199593\n",
       "        },\n",
       "        {\n",
       "          &quot;lat&quot;: 51.809765739351036,\n",
       "          &quot;lng&quot;: 0.7095608304661498\n",
       "        },\n",
       "        {\n",
       "          &quot;lat&quot;: 51.83767128128787,\n",
       "          &quot;lng&quot;: -1.5068828461267545\n",
       "        },\n",
       "        {\n",
       "          &quot;lat&quot;: 51.30067317184815,\n",
       "          &quot;lng&quot;: -0.6002077012040399\n",
       "        },\n",
       "        {\n",
       "          &quot;lat&quot;: 51.40397365040814,\n",
       "          &quot;lng&quot;: -0.9909446976173616\n",
       "        },\n",
       "        {\n",
       "          &quot;lat&quot;: 52.61123246426298,\n",
       "          &quot;lng&quot;: -2.1062086621877443\n",
       "        },\n",
       "        {\n",
       "          &quot;lat&quot;: 52.56463527832115,\n",
       "          &quot;lng&quot;: -2.094237718991724\n",
       "        },\n",
       "        {\n",
       "          &quot;lat&quot;: 52.58555819648182,\n",
       "          &quot;lng&quot;: -2.160477032191215\n",
       "        },\n",
       "        {\n",
       "          &quot;lat&quot;: 52.19674680864633,\n",
       "          &quot;lng&quot;: -2.2112603838441136\n",
       "        },\n",
       "        {\n",
       "          &quot;lat&quot;: 54.771043469692096,\n",
       "          &quot;lng&quot;: -3.2814778757096934\n",
       "        },\n",
       "        {\n",
       "          &quot;lat&quot;: 53.48269826526674,\n",
       "          &quot;lng&quot;: -2.410740447412106\n",
       "        },\n",
       "        {\n",
       "          &quot;lat&quot;: 50.82059392093676,\n",
       "          &quot;lng&quot;: -0.4353322500460514\n",
       "        },\n",
       "        {\n",
       "          &quot;lat&quot;: 51.60796306578297,\n",
       "          &quot;lng&quot;: -0.8248936212532836\n",
       "        },\n",
       "        {\n",
       "          &quot;lat&quot;: 53.855853741860614,\n",
       "          &quot;lng&quot;: -2.776662008741767\n",
       "        },\n",
       "        {\n",
       "          &quot;lat&quot;: 52.37959158114841,\n",
       "          &quot;lng&quot;: -2.2746557104450624\n",
       "        },\n",
       "        {\n",
       "          &quot;lat&quot;: 53.3925257915588,\n",
       "          &quot;lng&quot;: -2.281528599761064\n",
       "        },\n",
       "        {\n",
       "          &quot;lat&quot;: 50.91925641316621,\n",
       "          &quot;lng&quot;: -2.817414947712852\n",
       "        },\n",
       "        {\n",
       "          &quot;lat&quot;: 53.95674881479849,\n",
       "          &quot;lng&quot;: -1.0922975048286059\n",
       "        },\n",
       "        {\n",
       "          &quot;lat&quot;: 53.95896046935774,\n",
       "          &quot;lng&quot;: -1.0585209586873456\n",
       "        }\n",
       "      ],\n",
       "      &quot;extruded&quot;: false,\n",
       "      &quot;filled&quot;: true,\n",
       "      &quot;getFillColor&quot;: &quot;@@=[255 - count, 255, count]&quot;,\n",
       "      &quot;getHexagon&quot;: &quot;@@=hex&quot;,\n",
       "      &quot;getLineColor&quot;: [\n",
       "        255,\n",
       "        255,\n",
       "        255\n",
       "      ],\n",
       "      &quot;id&quot;: &quot;82b7c0f8-1907-4312-9211-188601b3d718&quot;,\n",
       "      &quot;lineWidthMinPixels&quot;: 2,\n",
       "      &quot;pickable&quot;: true,\n",
       "      &quot;stroked&quot;: true\n",
       "    }\n",
       "  ],\n",
       "  &quot;mapProvider&quot;: &quot;carto&quot;,\n",
       "  &quot;mapStyle&quot;: &quot;https://basemaps.cartocdn.com/gl/dark-matter-gl-style/style.json&quot;,\n",
       "  &quot;views&quot;: [\n",
       "    {\n",
       "      &quot;@@type&quot;: &quot;MapView&quot;,\n",
       "      &quot;controller&quot;: true\n",
       "    }\n",
       "  ]\n",
       "};\n",
       "    const tooltip = {&#x27;text&#x27;: &#x27;Count: {count}&#x27;};\n",
       "    const customLibraries = null;\n",
       "    const configuration = null;\n",
       "\n",
       "    const deckInstance = createDeck({\n",
       "                  container,\n",
       "      jsonInput,\n",
       "      tooltip,\n",
       "      customLibraries,\n",
       "      configuration\n",
       "    });\n",
       "\n",
       "  &lt;/script&gt;\n",
       "&lt;/html&gt;\"\n",
       "        ></iframe>\n",
       "    "
      ],
      "text/plain": [
       "<IPython.core.display.HTML object>"
      ]
     },
     "execution_count": 9,
     "metadata": {},
     "output_type": "execute_result"
    }
   ],
   "source": [
    "#new layerstyle using h3_hex\n",
    "h3_layer = pdk.Layer(\n",
    "    \"H3HexagonLayer\",\n",
    "    df,\n",
    "    pickable=True,\n",
    "    stroked=True,\n",
    "    filled=True,\n",
    "    extruded=False,\n",
    "    get_hexagon=\"hex\",\n",
    "    get_fill_color=\"[255 - count, 255, count]\",\n",
    "    get_line_color=[255, 255, 255],\n",
    "    line_width_min_pixels=2,\n",
    ")\n",
    "\n",
    "# Set the viewport location\n",
    "view_state = pdk.ViewState(\n",
    "    longitude=-1.415,\n",
    "    latitude=52.2323,\n",
    "    zoom=5,\n",
    "    min_zoom=5,\n",
    "    max_zoom=15,\n",
    "    pitch=0,\n",
    "    bearing=0,\n",
    ")\n",
    "\n",
    "# Render\n",
    "r_new = pdk.Deck(layers=[h3_layer], initial_view_state=view_state, tooltip={\"text\": \"Count: {count}\"})\n",
    "r_new.to_html(\"h3_hexagon_layer.html\")\n"
   ]
  },
  {
   "cell_type": "code",
   "execution_count": 10,
   "metadata": {},
   "outputs": [
    {
     "data": {
      "text/plain": [
       "DeltaGenerator()"
      ]
     },
     "execution_count": 10,
     "metadata": {},
     "output_type": "execute_result"
    }
   ],
   "source": [
    "\n",
    "# Streamlit app layout\n",
    "st.title(\"UK, hun?\")\n",
    "\n",
    "# Create a placeholder for the map on the left side\n",
    "st.sidebar.header(\"Interactive Hex Map\")\n",
    "\n",
    "# Create sliders for conservative and labor party approval ratings on the right side\n",
    "st.sidebar.header(\"Sliders for Polling/Approval Ratings\")\n",
    "conservative_rating = st.sidebar.slider(\n",
    "    \"Conservative Rating\", min_value=0, max_value=100, value=50\n",
    ")\n",
    "labor_party_rating = st.sidebar.slider(\n",
    "    \"Labor Party Rating\", min_value=0, max_value=100, value=50\n",
    ")\n",
    "\n",
    "# Display the current values of the sliders\n",
    "st.sidebar.text(f\"Current Conservative Rating: {conservative_rating}%\")\n",
    "st.sidebar.text(f\"Current Labor Party Rating: {labor_party_rating}%\")\n",
    "\n",
    "# Display the PyDeck chart using st.pydeck_chart\n",
    "st.pydeck_chart(r_new)\n"
   ]
  },
  {
   "cell_type": "markdown",
   "metadata": {},
   "source": [
    "## Trying the Hexbins with Plotly layer styles instead from \n",
    "https://plotly.com/python/hexbin-mapbox/"
   ]
  },
  {
   "cell_type": "code",
   "execution_count": 11,
   "metadata": {},
   "outputs": [],
   "source": [
    "hex_data = \"uk-constituencies-2023.json\"\n"
   ]
  },
  {
   "cell_type": "code",
   "execution_count": 12,
   "metadata": {},
   "outputs": [
    {
     "data": {
      "text/html": [
       "<div>\n",
       "<style scoped>\n",
       "    .dataframe tbody tr th:only-of-type {\n",
       "        vertical-align: middle;\n",
       "    }\n",
       "\n",
       "    .dataframe tbody tr th {\n",
       "        vertical-align: top;\n",
       "    }\n",
       "\n",
       "    .dataframe thead th {\n",
       "        text-align: right;\n",
       "    }\n",
       "</style>\n",
       "<table border=\"1\" class=\"dataframe\">\n",
       "  <thead>\n",
       "    <tr style=\"text-align: right;\">\n",
       "      <th></th>\n",
       "      <th>layout</th>\n",
       "      <th>version</th>\n",
       "      <th>hexes</th>\n",
       "    </tr>\n",
       "  </thead>\n",
       "  <tbody>\n",
       "    <tr>\n",
       "      <th>E14001063</th>\n",
       "      <td>odd-r</td>\n",
       "      <td>1</td>\n",
       "      <td>{'n': 'Aldershot', 'r': -40, 'q': 56, 'region'...</td>\n",
       "    </tr>\n",
       "    <tr>\n",
       "      <th>E14001064</th>\n",
       "      <td>odd-r</td>\n",
       "      <td>1</td>\n",
       "      <td>{'n': 'Aldridge-Brownhills', 'r': -30, 'q': 56...</td>\n",
       "    </tr>\n",
       "    <tr>\n",
       "      <th>E14001065</th>\n",
       "      <td>odd-r</td>\n",
       "      <td>1</td>\n",
       "      <td>{'n': 'Altrincham and Sale West', 'r': -25, 'q...</td>\n",
       "    </tr>\n",
       "    <tr>\n",
       "      <th>E14001066</th>\n",
       "      <td>odd-r</td>\n",
       "      <td>1</td>\n",
       "      <td>{'n': 'Amber Valley', 'r': -27, 'q': 58, 'regi...</td>\n",
       "    </tr>\n",
       "    <tr>\n",
       "      <th>E14001067</th>\n",
       "      <td>odd-r</td>\n",
       "      <td>1</td>\n",
       "      <td>{'n': 'Arundel and South Downs', 'r': -44, 'q'...</td>\n",
       "    </tr>\n",
       "    <tr>\n",
       "      <th>...</th>\n",
       "      <td>...</td>\n",
       "      <td>...</td>\n",
       "      <td>...</td>\n",
       "    </tr>\n",
       "    <tr>\n",
       "      <th>W07000108</th>\n",
       "      <td>odd-r</td>\n",
       "      <td>1</td>\n",
       "      <td>{'n': 'Swansea West', 'r': -37, 'q': 45, 'regi...</td>\n",
       "    </tr>\n",
       "    <tr>\n",
       "      <th>W07000109</th>\n",
       "      <td>odd-r</td>\n",
       "      <td>1</td>\n",
       "      <td>{'n': 'Torfaen', 'r': -34, 'q': 50, 'region': ...</td>\n",
       "    </tr>\n",
       "    <tr>\n",
       "      <th>W07000110</th>\n",
       "      <td>odd-r</td>\n",
       "      <td>1</td>\n",
       "      <td>{'n': 'Vale of Glamorgan', 'r': -38, 'q': 47, ...</td>\n",
       "    </tr>\n",
       "    <tr>\n",
       "      <th>W07000111</th>\n",
       "      <td>odd-r</td>\n",
       "      <td>1</td>\n",
       "      <td>{'n': 'Wrexham', 'r': -30, 'q': 50, 'region': ...</td>\n",
       "    </tr>\n",
       "    <tr>\n",
       "      <th>W07000112</th>\n",
       "      <td>odd-r</td>\n",
       "      <td>1</td>\n",
       "      <td>{'n': 'Ynys Môn', 'r': -29, 'q': 46, 'region':...</td>\n",
       "    </tr>\n",
       "  </tbody>\n",
       "</table>\n",
       "<p>650 rows × 3 columns</p>\n",
       "</div>"
      ],
      "text/plain": [
       "          layout  version                                              hexes\n",
       "E14001063  odd-r        1  {'n': 'Aldershot', 'r': -40, 'q': 56, 'region'...\n",
       "E14001064  odd-r        1  {'n': 'Aldridge-Brownhills', 'r': -30, 'q': 56...\n",
       "E14001065  odd-r        1  {'n': 'Altrincham and Sale West', 'r': -25, 'q...\n",
       "E14001066  odd-r        1  {'n': 'Amber Valley', 'r': -27, 'q': 58, 'regi...\n",
       "E14001067  odd-r        1  {'n': 'Arundel and South Downs', 'r': -44, 'q'...\n",
       "...          ...      ...                                                ...\n",
       "W07000108  odd-r        1  {'n': 'Swansea West', 'r': -37, 'q': 45, 'regi...\n",
       "W07000109  odd-r        1  {'n': 'Torfaen', 'r': -34, 'q': 50, 'region': ...\n",
       "W07000110  odd-r        1  {'n': 'Vale of Glamorgan', 'r': -38, 'q': 47, ...\n",
       "W07000111  odd-r        1  {'n': 'Wrexham', 'r': -30, 'q': 50, 'region': ...\n",
       "W07000112  odd-r        1  {'n': 'Ynys Môn', 'r': -29, 'q': 46, 'region':...\n",
       "\n",
       "[650 rows x 3 columns]"
      ]
     },
     "execution_count": 12,
     "metadata": {},
     "output_type": "execute_result"
    }
   ],
   "source": [
    "hex_df = pd.read_json(hex_data)\n",
    "hex_df\n"
   ]
  },
  {
   "cell_type": "code",
   "execution_count": 13,
   "metadata": {},
   "outputs": [],
   "source": [
    "hex_values = hex_df['hexes'].apply(pd.Series)\n",
    "hex_values.rename(columns={'n': 'region name'}, inplace=True)\n"
   ]
  },
  {
   "cell_type": "code",
   "execution_count": 14,
   "metadata": {},
   "outputs": [
    {
     "data": {
      "text/html": [
       "<div>\n",
       "<style scoped>\n",
       "    .dataframe tbody tr th:only-of-type {\n",
       "        vertical-align: middle;\n",
       "    }\n",
       "\n",
       "    .dataframe tbody tr th {\n",
       "        vertical-align: top;\n",
       "    }\n",
       "\n",
       "    .dataframe thead th {\n",
       "        text-align: right;\n",
       "    }\n",
       "</style>\n",
       "<table border=\"1\" class=\"dataframe\">\n",
       "  <thead>\n",
       "    <tr style=\"text-align: right;\">\n",
       "      <th></th>\n",
       "      <th>region name</th>\n",
       "      <th>r</th>\n",
       "      <th>q</th>\n",
       "      <th>region</th>\n",
       "      <th>colour</th>\n",
       "    </tr>\n",
       "  </thead>\n",
       "  <tbody>\n",
       "    <tr>\n",
       "      <th>E14001063</th>\n",
       "      <td>Aldershot</td>\n",
       "      <td>-40</td>\n",
       "      <td>56</td>\n",
       "      <td>E12000008</td>\n",
       "      <td>#67E767</td>\n",
       "    </tr>\n",
       "    <tr>\n",
       "      <th>E14001064</th>\n",
       "      <td>Aldridge-Brownhills</td>\n",
       "      <td>-30</td>\n",
       "      <td>56</td>\n",
       "      <td>E12000005</td>\n",
       "      <td>#E6007C</td>\n",
       "    </tr>\n",
       "    <tr>\n",
       "      <th>E14001065</th>\n",
       "      <td>Altrincham and Sale West</td>\n",
       "      <td>-25</td>\n",
       "      <td>52</td>\n",
       "      <td>E12000002</td>\n",
       "      <td>#1DD3A7</td>\n",
       "    </tr>\n",
       "    <tr>\n",
       "      <th>E14001066</th>\n",
       "      <td>Amber Valley</td>\n",
       "      <td>-27</td>\n",
       "      <td>58</td>\n",
       "      <td>E12000004</td>\n",
       "      <td>#00B6FF</td>\n",
       "    </tr>\n",
       "    <tr>\n",
       "      <th>E14001067</th>\n",
       "      <td>Arundel and South Downs</td>\n",
       "      <td>-44</td>\n",
       "      <td>61</td>\n",
       "      <td>E12000008</td>\n",
       "      <td>#67E767</td>\n",
       "    </tr>\n",
       "    <tr>\n",
       "      <th>...</th>\n",
       "      <td>...</td>\n",
       "      <td>...</td>\n",
       "      <td>...</td>\n",
       "      <td>...</td>\n",
       "      <td>...</td>\n",
       "    </tr>\n",
       "    <tr>\n",
       "      <th>W07000108</th>\n",
       "      <td>Swansea West</td>\n",
       "      <td>-37</td>\n",
       "      <td>45</td>\n",
       "      <td>W92000004</td>\n",
       "      <td>#0DBC37</td>\n",
       "    </tr>\n",
       "    <tr>\n",
       "      <th>W07000109</th>\n",
       "      <td>Torfaen</td>\n",
       "      <td>-34</td>\n",
       "      <td>50</td>\n",
       "      <td>W92000004</td>\n",
       "      <td>#0DBC37</td>\n",
       "    </tr>\n",
       "    <tr>\n",
       "      <th>W07000110</th>\n",
       "      <td>Vale of Glamorgan</td>\n",
       "      <td>-38</td>\n",
       "      <td>47</td>\n",
       "      <td>W92000004</td>\n",
       "      <td>#0DBC37</td>\n",
       "    </tr>\n",
       "    <tr>\n",
       "      <th>W07000111</th>\n",
       "      <td>Wrexham</td>\n",
       "      <td>-30</td>\n",
       "      <td>50</td>\n",
       "      <td>W92000004</td>\n",
       "      <td>#0DBC37</td>\n",
       "    </tr>\n",
       "    <tr>\n",
       "      <th>W07000112</th>\n",
       "      <td>Ynys Môn</td>\n",
       "      <td>-29</td>\n",
       "      <td>46</td>\n",
       "      <td>W92000004</td>\n",
       "      <td>#0DBC37</td>\n",
       "    </tr>\n",
       "  </tbody>\n",
       "</table>\n",
       "<p>650 rows × 5 columns</p>\n",
       "</div>"
      ],
      "text/plain": [
       "                        region name   r   q     region   colour\n",
       "E14001063                 Aldershot -40  56  E12000008  #67E767\n",
       "E14001064       Aldridge-Brownhills -30  56  E12000005  #E6007C\n",
       "E14001065  Altrincham and Sale West -25  52  E12000002  #1DD3A7\n",
       "E14001066              Amber Valley -27  58  E12000004  #00B6FF\n",
       "E14001067   Arundel and South Downs -44  61  E12000008  #67E767\n",
       "...                             ...  ..  ..        ...      ...\n",
       "W07000108              Swansea West -37  45  W92000004  #0DBC37\n",
       "W07000109                   Torfaen -34  50  W92000004  #0DBC37\n",
       "W07000110         Vale of Glamorgan -38  47  W92000004  #0DBC37\n",
       "W07000111                   Wrexham -30  50  W92000004  #0DBC37\n",
       "W07000112                  Ynys Môn -29  46  W92000004  #0DBC37\n",
       "\n",
       "[650 rows x 5 columns]"
      ]
     },
     "execution_count": 14,
     "metadata": {},
     "output_type": "execute_result"
    }
   ],
   "source": [
    "hex_values\n"
   ]
  },
  {
   "cell_type": "code",
   "execution_count": 27,
   "metadata": {},
   "outputs": [],
   "source": [
    "import numpy as np\n",
    "hex_values['randNumCol'] = np.random.randint(0, 3, hex_values.shape[0])\n"
   ]
  },
  {
   "cell_type": "code",
   "execution_count": 15,
   "metadata": {},
   "outputs": [],
   "source": [
    "token = 'pk.eyJ1Ijoibm5vYmxlMTMiLCJhIjoiY2xwam91bHNoMDF4dTJpbGIzaTRwMWdubSJ9.t9AstZVQrSa9uFByagdtNw'\n"
   ]
  },
  {
   "cell_type": "code",
   "execution_count": 16,
   "metadata": {},
   "outputs": [],
   "source": [
    "import plotly.figure_factory as ff\n",
    "import plotly.express as px\n",
    "\n",
    "# px.set_mapbox_access_token(open(token).read())\n",
    "px.set_mapbox_access_token(token)\n",
    "df = hex_values\n"
   ]
  },
  {
   "cell_type": "code",
   "execution_count": 37,
   "metadata": {},
   "outputs": [
    {
     "data": {
      "application/vnd.plotly.v1+json": {
       "config": {
        "plotlyServerURL": "https://plot.ly"
       },
       "data": [
        {
         "coloraxis": "coloraxis",
         "customdata": [
          [
           2,
           "0.7330382853140196,-0.2882468922233715",
           0
          ],
          [
           1,
           "0.7568382297069967,-0.9065875858126271",
           0
          ],
          [
           1,
           "0.7568382297069967,-0.7004740212828753",
           0
          ],
          [
           1,
           "0.7568382297069967,-0.3294696051293219",
           0
          ],
          [
           2,
           "0.7568382297069967,-0.2882468922233715",
           0
          ],
          [
           1,
           "0.7806381740999738,-0.8653648729066767",
           0
          ],
          [
           1,
           "0.7806381740999738,-0.8241421600007264",
           0
          ],
          [
           1,
           "0.7806381740999738,-0.7004740212828753",
           0
          ],
          [
           1,
           "0.7806381740999738,-0.3294696051293219",
           0
          ],
          [
           1,
           "0.7806381740999738,-0.2882468922233715",
           0
          ],
          [
           1,
           "0.8044381184929509,-0.8653648729066767",
           0
          ],
          [
           1,
           "0.8044381184929509,-0.8241421600007264",
           0
          ],
          [
           1,
           "0.8044381184929509,-0.782919447094776",
           0
          ],
          [
           1,
           "0.8044381184929509,-0.7004740212828753",
           0
          ],
          [
           1,
           "0.8044381184929509,-0.5355831696590738",
           0
          ],
          [
           1,
           "0.8044381184929509,-0.3294696051293219",
           0
          ],
          [
           1,
           "0.8044381184929509,-0.2882468922233715",
           0
          ],
          [
           1,
           "0.828238062885928,-0.8653648729066767",
           0
          ],
          [
           1,
           "0.828238062885928,-0.8241421600007264",
           0
          ],
          [
           2,
           "0.828238062885928,-0.782919447094776",
           0
          ],
          [
           2,
           "0.828238062885928,-0.7004740212828753",
           0
          ],
          [
           2,
           "0.828238062885928,-0.6592513083769249",
           0
          ],
          [
           2,
           "0.828238062885928,-0.5768058825650242",
           0
          ],
          [
           1,
           "0.828238062885928,-0.4943604567531234",
           0
          ],
          [
           1,
           "0.828238062885928,-0.2058014664114708",
           0
          ],
          [
           1,
           "0.828238062885928,-0.16457875350552043",
           0
          ],
          [
           1,
           "0.828238062885928,-0.12335604059957006",
           0
          ],
          [
           1,
           "0.828238062885928,-0.04091061478766933",
           0
          ],
          [
           1,
           "0.8520380072789051,-0.8241421600007264",
           0
          ],
          [
           1,
           "0.8520380072789051,-0.782919447094776",
           0
          ],
          [
           1,
           "0.8520380072789051,-0.7416967341888256",
           0
          ],
          [
           1,
           "0.8520380072789051,-0.7004740212828753",
           0
          ],
          [
           1,
           "0.8520380072789051,-0.6592513083769249",
           0
          ],
          [
           1,
           "0.8520380072789051,-0.6180285954709746",
           0
          ],
          [
           1,
           "0.8520380072789051,-0.5768058825650242",
           0
          ],
          [
           1,
           "0.8520380072789051,-0.5355831696590738",
           0
          ],
          [
           1,
           "0.8520380072789051,-0.4943604567531234",
           0
          ],
          [
           1,
           "0.8520380072789051,-0.45313774384717304",
           0
          ],
          [
           1,
           "0.8520380072789051,-0.4119150309412226",
           0
          ],
          [
           1,
           "0.8520380072789051,-0.37069231803527225",
           0
          ],
          [
           1,
           "0.8520380072789051,-0.2058014664114708",
           0
          ],
          [
           2,
           "0.8520380072789051,-0.16457875350552043",
           0
          ],
          [
           1,
           "0.8520380072789051,-0.12335604059957006",
           0
          ],
          [
           1,
           "0.8520380072789051,-0.0821333276936197",
           0
          ],
          [
           1,
           "0.8520380072789051,-0.04091061478766933",
           0
          ],
          [
           1,
           "0.8758379516718823,-0.8653648729066767",
           0
          ],
          [
           1,
           "0.8758379516718823,-0.8241421600007264",
           0
          ],
          [
           1,
           "0.8758379516718823,-0.782919447094776",
           0
          ],
          [
           1,
           "0.8758379516718823,-0.7416967341888256",
           0
          ],
          [
           1,
           "0.8758379516718823,-0.7004740212828753",
           0
          ],
          [
           1,
           "0.8758379516718823,-0.6592513083769249",
           0
          ],
          [
           1,
           "0.8758379516718823,-0.6180285954709746",
           0
          ],
          [
           1,
           "0.8758379516718823,-0.5768058825650242",
           0
          ],
          [
           1,
           "0.8758379516718823,-0.5355831696590738",
           0
          ],
          [
           1,
           "0.8758379516718823,-0.4943604567531234",
           0
          ],
          [
           1,
           "0.8758379516718823,-0.45313774384717304",
           0
          ],
          [
           1,
           "0.8758379516718823,-0.4119150309412226",
           0
          ],
          [
           1,
           "0.8758379516718823,-0.37069231803527225",
           0
          ],
          [
           1,
           "0.8758379516718823,-0.3294696051293219",
           0
          ],
          [
           1,
           "0.8758379516718823,-0.2058014664114708",
           0
          ],
          [
           2,
           "0.8758379516718823,-0.16457875350552043",
           0
          ],
          [
           1,
           "0.8758379516718823,-0.12335604059957006",
           0
          ],
          [
           1,
           "0.8758379516718823,-0.0821333276936197",
           0
          ],
          [
           1,
           "0.8758379516718823,-0.04091061478766933",
           0
          ],
          [
           1,
           "0.8996378960648593,-0.8241421600007264",
           0
          ],
          [
           2,
           "0.8996378960648593,-0.782919447094776",
           0
          ],
          [
           2,
           "0.8996378960648593,-0.7416967341888256",
           0
          ],
          [
           2,
           "0.8996378960648593,-0.7004740212828753",
           0
          ],
          [
           2,
           "0.8996378960648593,-0.6592513083769249",
           0
          ],
          [
           2,
           "0.8996378960648593,-0.6180285954709746",
           0
          ],
          [
           2,
           "0.8996378960648593,-0.5768058825650242",
           0
          ],
          [
           2,
           "0.8996378960648593,-0.5355831696590738",
           0
          ],
          [
           2,
           "0.8996378960648593,-0.4943604567531234",
           0
          ],
          [
           2,
           "0.8996378960648593,-0.45313774384717304",
           0
          ],
          [
           2,
           "0.8996378960648593,-0.4119150309412226",
           0
          ],
          [
           2,
           "0.8996378960648593,-0.37069231803527225",
           0
          ],
          [
           1,
           "0.8996378960648593,-0.3294696051293219",
           0
          ],
          [
           2,
           "0.8996378960648593,-0.2058014664114708",
           0
          ],
          [
           2,
           "0.8996378960648593,-0.16457875350552043",
           0
          ],
          [
           2,
           "0.8996378960648593,-0.12335604059957006",
           0
          ],
          [
           2,
           "0.8996378960648593,-0.0821333276936197",
           0
          ],
          [
           1,
           "0.8996378960648593,0.0003120981182810345",
           0
          ],
          [
           1,
           "0.9234378404578365,-0.8241421600007264",
           0
          ],
          [
           1,
           "0.9234378404578365,-0.782919447094776",
           0
          ],
          [
           1,
           "0.9234378404578365,-0.7416967341888256",
           0
          ],
          [
           1,
           "0.9234378404578365,-0.7004740212828753",
           0
          ],
          [
           1,
           "0.9234378404578365,-0.6592513083769249",
           0
          ],
          [
           1,
           "0.9234378404578365,-0.6180285954709746",
           0
          ],
          [
           1,
           "0.9234378404578365,-0.5768058825650242",
           0
          ],
          [
           1,
           "0.9234378404578365,-0.5355831696590738",
           0
          ],
          [
           1,
           "0.9234378404578365,-0.4943604567531234",
           0
          ],
          [
           1,
           "0.9234378404578365,-0.45313774384717304",
           0
          ],
          [
           1,
           "0.9234378404578365,-0.4119150309412226",
           0
          ],
          [
           1,
           "0.9234378404578365,-0.37069231803527225",
           0
          ],
          [
           2,
           "0.9234378404578365,-0.3294696051293219",
           0
          ],
          [
           1,
           "0.9234378404578365,-0.2882468922233715",
           0
          ],
          [
           1,
           "0.9234378404578365,-0.24702417931742116",
           0
          ],
          [
           2,
           "0.9234378404578365,-0.2058014664114708",
           0
          ],
          [
           2,
           "0.9234378404578365,-0.16457875350552043",
           0
          ],
          [
           1,
           "0.9472377848508136,-0.8241421600007264",
           0
          ],
          [
           1,
           "0.9472377848508136,-0.782919447094776",
           0
          ],
          [
           1,
           "0.9472377848508136,-0.7416967341888256",
           0
          ],
          [
           1,
           "0.9472377848508136,-0.7004740212828753",
           0
          ],
          [
           1,
           "0.9472377848508136,-0.6592513083769249",
           0
          ],
          [
           1,
           "0.9472377848508136,-0.6180285954709746",
           0
          ],
          [
           1,
           "0.9472377848508136,-0.5768058825650242",
           0
          ],
          [
           1,
           "0.9472377848508136,-0.5355831696590738",
           0
          ],
          [
           1,
           "0.9472377848508136,-0.4943604567531234",
           0
          ],
          [
           1,
           "0.9472377848508136,-0.45313774384717304",
           0
          ],
          [
           1,
           "0.9472377848508136,-0.4119150309412226",
           0
          ],
          [
           1,
           "0.9472377848508136,-0.37069231803527225",
           0
          ],
          [
           2,
           "0.9472377848508136,-0.3294696051293219",
           0
          ],
          [
           1,
           "0.9472377848508136,-0.2882468922233715",
           0
          ],
          [
           1,
           "0.9472377848508136,-0.24702417931742116",
           0
          ],
          [
           1,
           "0.9472377848508136,-0.2058014664114708",
           0
          ],
          [
           1,
           "0.9472377848508136,-0.16457875350552043",
           0
          ],
          [
           1,
           "0.9710377292437907,-0.8241421600007264",
           0
          ],
          [
           2,
           "0.9710377292437907,-0.782919447094776",
           0
          ],
          [
           2,
           "0.9710377292437907,-0.7416967341888256",
           0
          ],
          [
           2,
           "0.9710377292437907,-0.7004740212828753",
           0
          ],
          [
           2,
           "0.9710377292437907,-0.6592513083769249",
           0
          ],
          [
           2,
           "0.9710377292437907,-0.6180285954709746",
           0
          ],
          [
           2,
           "0.9710377292437907,-0.5768058825650242",
           0
          ],
          [
           2,
           "0.9710377292437907,-0.5355831696590738",
           0
          ],
          [
           2,
           "0.9710377292437907,-0.4943604567531234",
           0
          ],
          [
           2,
           "0.9710377292437907,-0.45313774384717304",
           0
          ],
          [
           2,
           "0.9710377292437907,-0.4119150309412226",
           0
          ],
          [
           2,
           "0.9710377292437907,-0.37069231803527225",
           0
          ],
          [
           2,
           "0.9710377292437907,-0.3294696051293219",
           0
          ],
          [
           2,
           "0.9710377292437907,-0.2882468922233715",
           0
          ],
          [
           2,
           "0.9710377292437907,-0.24702417931742116",
           0
          ],
          [
           2,
           "0.9710377292437907,-0.2058014664114708",
           0
          ],
          [
           1,
           "0.9948376736367678,-0.8241421600007264",
           0
          ],
          [
           1,
           "0.9948376736367678,-0.782919447094776",
           0
          ],
          [
           1,
           "0.9948376736367678,-0.7416967341888256",
           0
          ],
          [
           1,
           "0.9948376736367678,-0.7004740212828753",
           0
          ],
          [
           1,
           "0.9948376736367678,-0.6592513083769249",
           0
          ],
          [
           2,
           "0.9948376736367678,-0.6180285954709746",
           0
          ],
          [
           2,
           "0.9948376736367678,-0.5768058825650242",
           0
          ],
          [
           2,
           "0.9948376736367678,-0.5355831696590738",
           0
          ],
          [
           1,
           "0.9948376736367678,-0.4943604567531234",
           0
          ],
          [
           1,
           "0.9948376736367678,-0.45313774384717304",
           0
          ],
          [
           1,
           "0.9948376736367678,-0.4119150309412226",
           0
          ],
          [
           1,
           "0.9948376736367678,-0.37069231803527225",
           0
          ],
          [
           2,
           "0.9948376736367678,-0.3294696051293219",
           0
          ],
          [
           2,
           "0.9948376736367678,-0.2882468922233715",
           0
          ],
          [
           1,
           "0.9948376736367678,-0.24702417931742116",
           0
          ],
          [
           1,
           "1.018637618029745,-0.8653648729066767",
           0
          ],
          [
           1,
           "1.018637618029745,-0.8241421600007264",
           0
          ],
          [
           2,
           "1.018637618029745,-0.782919447094776",
           0
          ],
          [
           2,
           "1.018637618029745,-0.7416967341888256",
           0
          ],
          [
           2,
           "1.018637618029745,-0.7004740212828753",
           0
          ],
          [
           2,
           "1.018637618029745,-0.6592513083769249",
           0
          ],
          [
           2,
           "1.018637618029745,-0.6180285954709746",
           0
          ],
          [
           2,
           "1.018637618029745,-0.5768058825650242",
           0
          ],
          [
           2,
           "1.018637618029745,-0.5355831696590738",
           0
          ],
          [
           2,
           "1.018637618029745,-0.4943604567531234",
           0
          ],
          [
           2,
           "1.018637618029745,-0.45313774384717304",
           0
          ],
          [
           2,
           "1.018637618029745,-0.4119150309412226",
           0
          ],
          [
           2,
           "1.018637618029745,-0.37069231803527225",
           0
          ],
          [
           2,
           "1.018637618029745,-0.3294696051293219",
           0
          ],
          [
           2,
           "1.018637618029745,-0.2882468922233715",
           0
          ],
          [
           1,
           "1.018637618029745,-0.24702417931742116",
           0
          ],
          [
           1,
           "1.042437562422722,-0.8653648729066767",
           0
          ],
          [
           1,
           "1.042437562422722,-0.8241421600007264",
           0
          ],
          [
           1,
           "1.042437562422722,-0.782919447094776",
           0
          ],
          [
           1,
           "1.042437562422722,-0.7416967341888256",
           0
          ],
          [
           1,
           "1.042437562422722,-0.7004740212828753",
           0
          ],
          [
           1,
           "1.042437562422722,-0.6592513083769249",
           0
          ],
          [
           1,
           "1.042437562422722,-0.6180285954709746",
           0
          ],
          [
           1,
           "1.042437562422722,-0.5768058825650242",
           0
          ],
          [
           1,
           "1.042437562422722,-0.5355831696590738",
           0
          ],
          [
           1,
           "1.042437562422722,-0.4943604567531234",
           0
          ],
          [
           1,
           "1.042437562422722,-0.45313774384717304",
           0
          ],
          [
           1,
           "1.042437562422722,-0.4119150309412226",
           0
          ],
          [
           1,
           "1.042437562422722,-0.37069231803527225",
           0
          ],
          [
           2,
           "1.042437562422722,-0.3294696051293219",
           0
          ],
          [
           1,
           "1.066237506815699,-0.8653648729066767",
           0
          ],
          [
           1,
           "1.066237506815699,-0.8241421600007264",
           0
          ],
          [
           1,
           "1.066237506815699,-0.782919447094776",
           0
          ],
          [
           1,
           "1.066237506815699,-0.7416967341888256",
           0
          ],
          [
           1,
           "1.066237506815699,-0.7004740212828753",
           0
          ],
          [
           1,
           "1.066237506815699,-0.6592513083769249",
           0
          ],
          [
           1,
           "1.066237506815699,-0.6180285954709746",
           0
          ],
          [
           1,
           "1.066237506815699,-0.5768058825650242",
           0
          ],
          [
           1,
           "1.066237506815699,-0.5355831696590738",
           0
          ],
          [
           1,
           "1.066237506815699,-0.4943604567531234",
           0
          ],
          [
           1,
           "1.066237506815699,-0.45313774384717304",
           0
          ],
          [
           1,
           "1.066237506815699,-0.4119150309412226",
           0
          ],
          [
           1,
           "1.066237506815699,-0.37069231803527225",
           0
          ],
          [
           2,
           "1.066237506815699,-0.3294696051293219",
           0
          ],
          [
           1,
           "1.0900374512086763,-0.8653648729066767",
           0
          ],
          [
           1,
           "1.0900374512086763,-0.8241421600007264",
           0
          ],
          [
           2,
           "1.0900374512086763,-0.782919447094776",
           0
          ],
          [
           2,
           "1.0900374512086763,-0.7416967341888256",
           0
          ],
          [
           2,
           "1.0900374512086763,-0.7004740212828753",
           0
          ],
          [
           2,
           "1.0900374512086763,-0.6592513083769249",
           0
          ],
          [
           2,
           "1.0900374512086763,-0.6180285954709746",
           0
          ],
          [
           2,
           "1.0900374512086763,-0.5768058825650242",
           0
          ],
          [
           2,
           "1.0900374512086763,-0.5355831696590738",
           0
          ],
          [
           2,
           "1.0900374512086763,-0.4943604567531234",
           0
          ],
          [
           2,
           "1.0900374512086763,-0.45313774384717304",
           0
          ],
          [
           1,
           "1.0900374512086763,-0.37069231803527225",
           0
          ],
          [
           1,
           "1.1138373956016534,-0.8653648729066767",
           0
          ],
          [
           1,
           "1.1138373956016534,-0.8241421600007264",
           0
          ],
          [
           1,
           "1.1138373956016534,-0.782919447094776",
           0
          ],
          [
           1,
           "1.1138373956016534,-0.7416967341888256",
           0
          ],
          [
           1,
           "1.1138373956016534,-0.7004740212828753",
           0
          ],
          [
           1,
           "1.1138373956016534,-0.6592513083769249",
           0
          ],
          [
           1,
           "1.1138373956016534,-0.6180285954709746",
           0
          ],
          [
           1,
           "1.1138373956016534,-0.5768058825650242",
           0
          ],
          [
           1,
           "1.1138373956016534,-0.5355831696590738",
           0
          ],
          [
           1,
           "1.1376373399946305,-0.8653648729066767",
           0
          ],
          [
           1,
           "1.1376373399946305,-0.8241421600007264",
           0
          ],
          [
           1,
           "1.1376373399946305,-0.782919447094776",
           0
          ],
          [
           1,
           "1.1376373399946305,-0.7416967341888256",
           0
          ],
          [
           1,
           "1.1376373399946305,-0.7004740212828753",
           0
          ],
          [
           1,
           "1.1376373399946305,-0.6592513083769249",
           0
          ],
          [
           1,
           "1.1376373399946305,-0.6180285954709746",
           0
          ],
          [
           1,
           "1.1376373399946305,-0.5768058825650242",
           0
          ],
          [
           1,
           "1.1376373399946305,-0.5355831696590738",
           0
          ],
          [
           1,
           "1.1376373399946305,-0.4943604567531234",
           0
          ],
          [
           1,
           "1.1614372843876075,-0.8653648729066767",
           0
          ],
          [
           1,
           "1.1614372843876075,-0.8241421600007264",
           0
          ],
          [
           2,
           "1.1614372843876075,-0.782919447094776",
           0
          ],
          [
           2,
           "1.1614372843876075,-0.7416967341888256",
           0
          ],
          [
           2,
           "1.1614372843876075,-0.7004740212828753",
           0
          ],
          [
           2,
           "1.1614372843876075,-0.6592513083769249",
           0
          ],
          [
           2,
           "1.1614372843876075,-0.6180285954709746",
           0
          ],
          [
           2,
           "1.1614372843876075,-0.5768058825650242",
           0
          ],
          [
           2,
           "1.1614372843876075,-0.5355831696590738",
           0
          ],
          [
           2,
           "1.1614372843876075,-0.4943604567531234",
           0
          ],
          [
           1,
           "1.1852372287805846,-0.8653648729066767",
           0
          ],
          [
           1,
           "1.1852372287805846,-0.8241421600007264",
           0
          ],
          [
           1,
           "1.1852372287805846,-0.782919447094776",
           0
          ],
          [
           1,
           "1.1852372287805846,-0.7416967341888256",
           0
          ],
          [
           1,
           "1.1852372287805846,-0.6592513083769249",
           0
          ],
          [
           1,
           "1.1852372287805846,-0.6180285954709746",
           0
          ],
          [
           1,
           "1.1852372287805846,-0.5768058825650242",
           0
          ],
          [
           1,
           "1.1852372287805846,-0.5355831696590738",
           0
          ],
          [
           1,
           "1.2090371731735619,-0.8653648729066767",
           0
          ],
          [
           1,
           "1.2090371731735619,-0.8241421600007264",
           0
          ],
          [
           1,
           "1.2090371731735619,-0.782919447094776",
           0
          ],
          [
           1,
           "1.2090371731735619,-0.7416967341888256",
           0
          ],
          [
           1,
           "1.2090371731735619,-0.6180285954709746",
           0
          ],
          [
           1,
           "1.2090371731735619,-0.5768058825650242",
           0
          ],
          [
           1,
           "1.2090371731735619,-0.5355831696590738",
           0
          ],
          [
           2,
           "1.232837117566539,-0.782919447094776",
           0
          ],
          [
           2,
           "1.232837117566539,-0.7416967341888256",
           0
          ],
          [
           1,
           "1.256637061959516,-0.782919447094776",
           0
          ],
          [
           1,
           "0.7449382575105081,-0.8859762293596519",
           0
          ],
          [
           2,
           "0.7449382575105081,-0.26763553577039634",
           0
          ],
          [
           1,
           "0.7687382019034853,-0.8859762293596519",
           0
          ],
          [
           1,
           "0.7687382019034853,-0.6798626648299001",
           0
          ],
          [
           1,
           "0.7687382019034853,-0.35008096158229707",
           0
          ],
          [
           2,
           "0.7687382019034853,-0.3088582486763467",
           0
          ],
          [
           1,
           "0.7687382019034853,-0.26763553577039634",
           0
          ],
          [
           1,
           "0.7925381462964624,-0.8035308035477512",
           0
          ],
          [
           2,
           "0.7925381462964624,-0.6798626648299001",
           0
          ],
          [
           2,
           "0.7925381462964624,-0.3088582486763467",
           0
          ],
          [
           1,
           "0.7925381462964624,-0.26763553577039634",
           0
          ],
          [
           1,
           "0.8163380906894395,-0.8859762293596519",
           0
          ],
          [
           1,
           "0.8163380906894395,-0.8035308035477512",
           0
          ],
          [
           1,
           "0.8163380906894395,-0.7210853777358505",
           0
          ],
          [
           1,
           "0.8163380906894395,-0.6798626648299001",
           0
          ],
          [
           1,
           "0.8401380350824166,-0.8859762293596519",
           0
          ],
          [
           2,
           "0.8401380350824166,-0.8447535164537016",
           0
          ],
          [
           1,
           "0.8401380350824166,-0.8035308035477512",
           0
          ],
          [
           1,
           "0.8401380350824166,-0.7210853777358505",
           0
          ],
          [
           1,
           "0.8401380350824166,-0.6798626648299001",
           0
          ],
          [
           1,
           "0.8401380350824166,-0.6386399519239496",
           0
          ],
          [
           1,
           "0.8401380350824166,-0.5561945261120489",
           0
          ],
          [
           1,
           "0.8401380350824166,-0.22641282286444597",
           0
          ],
          [
           2,
           "0.8401380350824166,-0.1851901099584956",
           0
          ],
          [
           1,
           "0.8401380350824166,-0.14396739705254524",
           0
          ],
          [
           2,
           "0.8639379794753936,-0.8035308035477512",
           0
          ],
          [
           2,
           "0.8639379794753936,-0.7623080906418008",
           0
          ],
          [
           1,
           "0.8639379794753936,-0.7210853777358505",
           0
          ],
          [
           2,
           "0.8639379794753936,-0.6798626648299001",
           0
          ],
          [
           2,
           "0.8639379794753936,-0.6386399519239496",
           0
          ],
          [
           2,
           "0.8639379794753936,-0.5974172390179993",
           0
          ],
          [
           2,
           "0.8639379794753936,-0.5561945261120489",
           0
          ],
          [
           2,
           "0.8639379794753936,-0.5149718132060985",
           0
          ],
          [
           2,
           "0.8639379794753936,-0.43252638739419785",
           0
          ],
          [
           2,
           "0.8639379794753936,-0.39130367448824743",
           0
          ],
          [
           1,
           "0.8639379794753936,-0.35008096158229707",
           0
          ],
          [
           2,
           "0.8639379794753936,-0.22641282286444597",
           0
          ],
          [
           2,
           "0.8639379794753936,-0.1851901099584956",
           0
          ],
          [
           2,
           "0.8639379794753936,-0.14396739705254524",
           0
          ],
          [
           2,
           "0.8639379794753936,-0.10274468414659488",
           0
          ],
          [
           2,
           "0.8639379794753936,-0.06152197124064451",
           0
          ],
          [
           2,
           "0.8877379238683708,-0.8447535164537016",
           0
          ],
          [
           1,
           "0.8877379238683708,-0.8035308035477512",
           0
          ],
          [
           1,
           "0.8877379238683708,-0.7623080906418008",
           0
          ],
          [
           1,
           "0.8877379238683708,-0.7210853777358505",
           0
          ],
          [
           1,
           "0.8877379238683708,-0.6798626648299001",
           0
          ],
          [
           1,
           "0.8877379238683708,-0.6386399519239496",
           0
          ],
          [
           1,
           "0.8877379238683708,-0.5974172390179993",
           0
          ],
          [
           1,
           "0.8877379238683708,-0.5561945261120489",
           0
          ],
          [
           1,
           "0.8877379238683708,-0.5149718132060985",
           0
          ],
          [
           1,
           "0.8877379238683708,-0.4737491003001482",
           0
          ],
          [
           1,
           "0.8877379238683708,-0.43252638739419785",
           0
          ],
          [
           1,
           "0.8877379238683708,-0.39130367448824743",
           0
          ],
          [
           2,
           "0.8877379238683708,-0.35008096158229707",
           0
          ],
          [
           1,
           "0.8877379238683708,-0.22641282286444597",
           0
          ],
          [
           2,
           "0.8877379238683708,-0.1851901099584956",
           0
          ],
          [
           1,
           "0.8877379238683708,-0.14396739705254524",
           0
          ],
          [
           1,
           "0.8877379238683708,-0.10274468414659488",
           0
          ],
          [
           2,
           "0.8877379238683708,-0.06152197124064451",
           0
          ],
          [
           1,
           "0.911537868261348,-0.8035308035477512",
           0
          ],
          [
           1,
           "0.911537868261348,-0.7623080906418008",
           0
          ],
          [
           1,
           "0.911537868261348,-0.7210853777358505",
           0
          ],
          [
           1,
           "0.911537868261348,-0.6798626648299001",
           0
          ],
          [
           1,
           "0.911537868261348,-0.6386399519239496",
           0
          ],
          [
           1,
           "0.911537868261348,-0.5974172390179993",
           0
          ],
          [
           1,
           "0.911537868261348,-0.5561945261120489",
           0
          ],
          [
           1,
           "0.911537868261348,-0.5149718132060985",
           0
          ],
          [
           1,
           "0.911537868261348,-0.4737491003001482",
           0
          ],
          [
           1,
           "0.911537868261348,-0.43252638739419785",
           0
          ],
          [
           1,
           "0.911537868261348,-0.39130367448824743",
           0
          ],
          [
           1,
           "0.911537868261348,-0.35008096158229707",
           0
          ],
          [
           1,
           "0.911537868261348,-0.3088582486763467",
           0
          ],
          [
           1,
           "0.911537868261348,-0.26763553577039634",
           0
          ],
          [
           1,
           "0.911537868261348,-0.22641282286444597",
           0
          ],
          [
           2,
           "0.911537868261348,-0.1851901099584956",
           0
          ],
          [
           1,
           "0.911537868261348,-0.10274468414659488",
           0
          ],
          [
           2,
           "0.911537868261348,-0.06152197124064451",
           0
          ],
          [
           2,
           "0.935337812654325,-0.8859762293596519",
           0
          ],
          [
           2,
           "0.935337812654325,-0.8035308035477512",
           0
          ],
          [
           2,
           "0.935337812654325,-0.7623080906418008",
           0
          ],
          [
           2,
           "0.935337812654325,-0.7210853777358505",
           0
          ],
          [
           2,
           "0.935337812654325,-0.6798626648299001",
           0
          ],
          [
           2,
           "0.935337812654325,-0.6386399519239496",
           0
          ],
          [
           2,
           "0.935337812654325,-0.5974172390179993",
           0
          ],
          [
           2,
           "0.935337812654325,-0.5561945261120489",
           0
          ],
          [
           2,
           "0.935337812654325,-0.5149718132060985",
           0
          ],
          [
           2,
           "0.935337812654325,-0.4737491003001482",
           0
          ],
          [
           2,
           "0.935337812654325,-0.43252638739419785",
           0
          ],
          [
           2,
           "0.935337812654325,-0.39130367448824743",
           0
          ],
          [
           2,
           "0.935337812654325,-0.35008096158229707",
           0
          ],
          [
           1,
           "0.935337812654325,-0.3088582486763467",
           0
          ],
          [
           2,
           "0.935337812654325,-0.26763553577039634",
           0
          ],
          [
           2,
           "0.935337812654325,-0.22641282286444597",
           0
          ],
          [
           1,
           "0.9591377570473021,-0.8447535164537016",
           0
          ],
          [
           1,
           "0.9591377570473021,-0.8035308035477512",
           0
          ],
          [
           1,
           "0.9591377570473021,-0.7623080906418008",
           0
          ],
          [
           1,
           "0.9591377570473021,-0.7210853777358505",
           0
          ],
          [
           1,
           "0.9591377570473021,-0.6798626648299001",
           0
          ],
          [
           1,
           "0.9591377570473021,-0.6386399519239496",
           0
          ],
          [
           1,
           "0.9591377570473021,-0.5974172390179993",
           0
          ],
          [
           1,
           "0.9591377570473021,-0.5561945261120489",
           0
          ],
          [
           1,
           "0.9591377570473021,-0.5149718132060985",
           0
          ],
          [
           1,
           "0.9591377570473021,-0.4737491003001482",
           0
          ],
          [
           1,
           "0.9591377570473021,-0.43252638739419785",
           0
          ],
          [
           1,
           "0.9591377570473021,-0.39130367448824743",
           0
          ],
          [
           2,
           "0.9591377570473021,-0.35008096158229707",
           0
          ],
          [
           2,
           "0.9591377570473021,-0.3088582486763467",
           0
          ],
          [
           1,
           "0.9591377570473021,-0.26763553577039634",
           0
          ],
          [
           1,
           "0.9591377570473021,-0.22641282286444597",
           0
          ],
          [
           1,
           "0.9829377014402793,-0.8035308035477512",
           0
          ],
          [
           1,
           "0.9829377014402793,-0.7623080906418008",
           0
          ],
          [
           1,
           "0.9829377014402793,-0.7210853777358505",
           0
          ],
          [
           1,
           "0.9829377014402793,-0.6798626648299001",
           0
          ],
          [
           1,
           "0.9829377014402793,-0.6386399519239496",
           0
          ],
          [
           1,
           "0.9829377014402793,-0.5974172390179993",
           0
          ],
          [
           1,
           "0.9829377014402793,-0.5561945261120489",
           0
          ],
          [
           1,
           "0.9829377014402793,-0.5149718132060985",
           0
          ],
          [
           1,
           "0.9829377014402793,-0.4737491003001482",
           0
          ],
          [
           1,
           "0.9829377014402793,-0.43252638739419785",
           0
          ],
          [
           1,
           "0.9829377014402793,-0.39130367448824743",
           0
          ],
          [
           1,
           "0.9829377014402793,-0.35008096158229707",
           0
          ],
          [
           1,
           "0.9829377014402793,-0.3088582486763467",
           0
          ],
          [
           1,
           "0.9829377014402793,-0.26763553577039634",
           0
          ],
          [
           1,
           "0.9829377014402793,-0.22641282286444597",
           0
          ],
          [
           2,
           "1.0067376458332564,-0.8035308035477512",
           0
          ],
          [
           2,
           "1.0067376458332564,-0.7623080906418008",
           0
          ],
          [
           2,
           "1.0067376458332564,-0.7210853777358505",
           0
          ],
          [
           2,
           "1.0067376458332564,-0.6798626648299001",
           0
          ],
          [
           1,
           "1.0067376458332564,-0.6386399519239496",
           0
          ],
          [
           1,
           "1.0067376458332564,-0.5974172390179993",
           0
          ],
          [
           1,
           "1.0067376458332564,-0.5561945261120489",
           0
          ],
          [
           2,
           "1.0067376458332564,-0.5149718132060985",
           0
          ],
          [
           2,
           "1.0067376458332564,-0.4737491003001482",
           0
          ],
          [
           2,
           "1.0067376458332564,-0.43252638739419785",
           0
          ],
          [
           2,
           "1.0067376458332564,-0.39130367448824743",
           0
          ],
          [
           2,
           "1.0067376458332564,-0.35008096158229707",
           0
          ],
          [
           1,
           "1.0067376458332564,-0.3088582486763467",
           0
          ],
          [
           2,
           "1.0067376458332564,-0.26763553577039634",
           0
          ],
          [
           2,
           "1.0305375902262335,-0.8447535164537016",
           0
          ],
          [
           1,
           "1.0305375902262335,-0.8035308035477512",
           0
          ],
          [
           1,
           "1.0305375902262335,-0.7623080906418008",
           0
          ],
          [
           1,
           "1.0305375902262335,-0.7210853777358505",
           0
          ],
          [
           1,
           "1.0305375902262335,-0.6798626648299001",
           0
          ],
          [
           1,
           "1.0305375902262335,-0.6386399519239496",
           0
          ],
          [
           1,
           "1.0305375902262335,-0.5974172390179993",
           0
          ],
          [
           1,
           "1.0305375902262335,-0.5561945261120489",
           0
          ],
          [
           1,
           "1.0305375902262335,-0.5149718132060985",
           0
          ],
          [
           1,
           "1.0305375902262335,-0.4737491003001482",
           0
          ],
          [
           1,
           "1.0305375902262335,-0.43252638739419785",
           0
          ],
          [
           1,
           "1.0305375902262335,-0.39130367448824743",
           0
          ],
          [
           2,
           "1.0305375902262335,-0.35008096158229707",
           0
          ],
          [
           2,
           "1.0305375902262335,-0.3088582486763467",
           0
          ],
          [
           2,
           "1.0543375346192105,-0.8035308035477512",
           0
          ],
          [
           2,
           "1.0543375346192105,-0.7623080906418008",
           0
          ],
          [
           2,
           "1.0543375346192105,-0.7210853777358505",
           0
          ],
          [
           2,
           "1.0543375346192105,-0.6798626648299001",
           0
          ],
          [
           2,
           "1.0543375346192105,-0.6386399519239496",
           0
          ],
          [
           2,
           "1.0543375346192105,-0.5974172390179993",
           0
          ],
          [
           2,
           "1.0543375346192105,-0.5561945261120489",
           0
          ],
          [
           2,
           "1.0543375346192105,-0.5149718132060985",
           0
          ],
          [
           2,
           "1.0543375346192105,-0.4737491003001482",
           0
          ],
          [
           2,
           "1.0543375346192105,-0.43252638739419785",
           0
          ],
          [
           2,
           "1.0543375346192105,-0.39130367448824743",
           0
          ],
          [
           2,
           "1.0543375346192105,-0.35008096158229707",
           0
          ],
          [
           1,
           "1.0781374790121876,-0.8035308035477512",
           0
          ],
          [
           1,
           "1.0781374790121876,-0.7623080906418008",
           0
          ],
          [
           1,
           "1.0781374790121876,-0.7210853777358505",
           0
          ],
          [
           1,
           "1.0781374790121876,-0.6798626648299001",
           0
          ],
          [
           1,
           "1.0781374790121876,-0.6386399519239496",
           0
          ],
          [
           1,
           "1.0781374790121876,-0.5974172390179993",
           0
          ],
          [
           1,
           "1.0781374790121876,-0.5561945261120489",
           0
          ],
          [
           1,
           "1.0781374790121876,-0.5149718132060985",
           0
          ],
          [
           1,
           "1.0781374790121876,-0.4737491003001482",
           0
          ],
          [
           1,
           "1.0781374790121876,-0.43252638739419785",
           0
          ],
          [
           1,
           "1.0781374790121876,-0.39130367448824743",
           0
          ],
          [
           1,
           "1.0781374790121876,-0.35008096158229707",
           0
          ],
          [
           2,
           "1.1019374234051649,-0.8447535164537016",
           0
          ],
          [
           1,
           "1.1019374234051649,-0.8035308035477512",
           0
          ],
          [
           1,
           "1.1019374234051649,-0.7623080906418008",
           0
          ],
          [
           1,
           "1.1019374234051649,-0.7210853777358505",
           0
          ],
          [
           1,
           "1.1019374234051649,-0.6798626648299001",
           0
          ],
          [
           1,
           "1.1019374234051649,-0.6386399519239496",
           0
          ],
          [
           1,
           "1.1019374234051649,-0.5974172390179993",
           0
          ],
          [
           1,
           "1.1019374234051649,-0.5561945261120489",
           0
          ],
          [
           1,
           "1.1019374234051649,-0.5149718132060985",
           0
          ],
          [
           1,
           "1.1019374234051649,-0.4737491003001482",
           0
          ],
          [
           1,
           "1.1019374234051649,-0.43252638739419785",
           0
          ],
          [
           1,
           "1.1019374234051649,-0.39130367448824743",
           0
          ],
          [
           1,
           "1.1019374234051649,-0.35008096158229707",
           0
          ],
          [
           2,
           "1.125737367798142,-0.8035308035477512",
           0
          ],
          [
           2,
           "1.125737367798142,-0.7623080906418008",
           0
          ],
          [
           2,
           "1.125737367798142,-0.7210853777358505",
           0
          ],
          [
           2,
           "1.125737367798142,-0.6798626648299001",
           0
          ],
          [
           2,
           "1.125737367798142,-0.6386399519239496",
           0
          ],
          [
           2,
           "1.125737367798142,-0.5974172390179993",
           0
          ],
          [
           2,
           "1.125737367798142,-0.5561945261120489",
           0
          ],
          [
           2,
           "1.125737367798142,-0.5149718132060985",
           0
          ],
          [
           1,
           "1.125737367798142,-0.4737491003001482",
           0
          ],
          [
           1,
           "1.125737367798142,-0.39130367448824743",
           0
          ],
          [
           2,
           "1.149537312191119,-0.8447535164537016",
           0
          ],
          [
           1,
           "1.149537312191119,-0.8035308035477512",
           0
          ],
          [
           1,
           "1.149537312191119,-0.7623080906418008",
           0
          ],
          [
           1,
           "1.149537312191119,-0.7210853777358505",
           0
          ],
          [
           1,
           "1.149537312191119,-0.6798626648299001",
           0
          ],
          [
           1,
           "1.149537312191119,-0.6386399519239496",
           0
          ],
          [
           1,
           "1.149537312191119,-0.5974172390179993",
           0
          ],
          [
           1,
           "1.149537312191119,-0.5561945261120489",
           0
          ],
          [
           1,
           "1.149537312191119,-0.5149718132060985",
           0
          ],
          [
           1,
           "1.173337256584096,-0.8859762293596519",
           0
          ],
          [
           1,
           "1.173337256584096,-0.8035308035477512",
           0
          ],
          [
           1,
           "1.173337256584096,-0.7623080906418008",
           0
          ],
          [
           1,
           "1.173337256584096,-0.7210853777358505",
           0
          ],
          [
           1,
           "1.173337256584096,-0.6798626648299001",
           0
          ],
          [
           1,
           "1.173337256584096,-0.6386399519239496",
           0
          ],
          [
           1,
           "1.173337256584096,-0.5974172390179993",
           0
          ],
          [
           1,
           "1.173337256584096,-0.5561945261120489",
           0
          ],
          [
           1,
           "1.173337256584096,-0.5149718132060985",
           0
          ],
          [
           2,
           "1.1971372009770733,-0.8859762293596519",
           0
          ],
          [
           2,
           "1.1971372009770733,-0.8035308035477512",
           0
          ],
          [
           2,
           "1.1971372009770733,-0.7623080906418008",
           0
          ],
          [
           1,
           "1.1971372009770733,-0.7210853777358505",
           0
          ],
          [
           2,
           "1.1971372009770733,-0.6798626648299001",
           0
          ],
          [
           2,
           "1.1971372009770733,-0.6386399519239496",
           0
          ],
          [
           2,
           "1.1971372009770733,-0.5974172390179993",
           0
          ],
          [
           2,
           "1.1971372009770733,-0.5561945261120489",
           0
          ],
          [
           1,
           "1.1971372009770733,-0.5149718132060985",
           0
          ],
          [
           2,
           "1.2209371453700504,-0.8447535164537016",
           0
          ],
          [
           1,
           "1.2209371453700504,-0.8035308035477512",
           0
          ],
          [
           1,
           "1.2209371453700504,-0.7623080906418008",
           0
          ],
          [
           2,
           "1.2447370897630274,-0.8035308035477512",
           0
          ],
          [
           2,
           "1.2447370897630274,-0.7623080906418008",
           0
          ]
         ],
         "geojson": {
          "features": [
           {
            "geometry": {
             "coordinates": [
              [
               [
                41.999999970000005,
                -17.04547756077712
               ],
               [
                42.681818153181815,
                -16.668745140827017
               ],
               [
                42.681818153181815,
                -15.91306579164077
               ],
               [
                41.999999970000005,
                -15.534148917848238
               ],
               [
                41.31818178681818,
                -15.91306579164077
               ],
               [
                41.31818178681818,
                -16.668745140827017
               ],
               [
                41.999999970000005,
                -17.04547756077712
               ]
              ]
             ],
             "type": "Polygon"
            },
            "id": "0.7330382853140196,-0.2882468922233715",
            "type": "Feature"
           },
           {
            "geometry": {
             "coordinates": [
              [
               [
                43.36363633636363,
                -46.556497110779475
               ],
               [
                44.04545451954545,
                -46.28513421530883
               ],
               [
                44.04545451954545,
                -45.738355210739094
               ],
               [
                43.36363633636363,
                -45.46293819064564
               ],
               [
                42.681818153181815,
                -45.738355210739094
               ],
               [
                42.681818153181815,
                -46.28513421530883
               ],
               [
                43.36363633636363,
                -46.556497110779475
               ]
              ]
             ],
             "type": "Polygon"
            },
            "id": "0.7568382297069967,-0.9065875858126271",
            "type": "Feature"
           },
           {
            "geometry": {
             "coordinates": [
              [
               [
                43.36363633636363,
                -37.82944920685779
               ],
               [
                44.04545451954545,
                -37.517875934254796
               ],
               [
                44.04545451954545,
                -36.89081409263251
               ],
               [
                43.36363633636363,
                -36.57533347919717
               ],
               [
                42.681818153181815,
                -36.89081409263251
               ],
               [
                42.681818153181815,
                -37.517875934254796
               ],
               [
                43.36363633636363,
                -37.82944920685779
               ]
              ]
             ],
             "type": "Polygon"
            },
            "id": "0.7568382297069967,-0.7004740212828753",
            "type": "Feature"
           },
           {
            "geometry": {
             "coordinates": [
              [
               [
                43.36363633636363,
                -19.289448879034072
               ],
               [
                44.04545451954545,
                -18.917480312700423
               ],
               [
                44.04545451954545,
                -18.17106878828689
               ],
               [
                43.36363633636363,
                -17.7966539345571
               ],
               [
                42.681818153181815,
                -18.17106878828689
               ],
               [
                42.681818153181815,
                -18.917480312700423
               ],
               [
                43.36363633636363,
                -19.289448879034072
               ]
              ]
             ],
             "type": "Polygon"
            },
            "id": "0.7568382297069967,-0.3294696051293219",
            "type": "Feature"
           },
           {
            "geometry": {
             "coordinates": [
              [
               [
                43.36363633636363,
                -17.04547756077712
               ],
               [
                44.04545451954545,
                -16.668745140827017
               ],
               [
                44.04545451954545,
                -15.91306579164077
               ],
               [
                43.36363633636363,
                -15.534148917848238
               ],
               [
                42.681818153181815,
                -15.91306579164077
               ],
               [
                42.681818153181815,
                -16.668745140827017
               ],
               [
                43.36363633636363,
                -17.04547756077712
               ]
              ]
             ],
             "type": "Polygon"
            },
            "id": "0.7568382297069967,-0.2882468922233715",
            "type": "Feature"
           },
           {
            "geometry": {
             "coordinates": [
              [
               [
                44.72727270272727,
                -44.90804775470793
               ],
               [
                45.40909088590909,
                -44.62857416958301
               ],
               [
                45.40909088590909,
                -44.06557080109546
               ],
               [
                44.72727270272727,
                -43.782041623674104
               ],
               [
                44.04545451954546,
                -44.06557080109546
               ],
               [
                44.04545451954546,
                -44.62857416958301
               ],
               [
                44.72727270272727,
                -44.90804775470793
               ]
              ]
             ],
             "type": "Polygon"
            },
            "id": "0.7806381740999738,-0.8653648729066767",
            "type": "Feature"
           },
           {
            "geometry": {
             "coordinates": [
              [
               [
                44.72727270272727,
                -43.21093079831662
               ],
               [
                45.40909088590909,
                -42.92335056484793
               ],
               [
                45.40909088590909,
                -42.344145034800086
               ],
               [
                44.72727270272727,
                -42.0525219941646
               ],
               [
                44.04545451954546,
                -42.344145034800086
               ],
               [
                44.04545451954546,
                -42.92335056484793
               ],
               [
                44.72727270272727,
                -43.21093079831662
               ]
              ]
             ],
             "type": "Polygon"
            },
            "id": "0.7806381740999738,-0.8241421600007264",
            "type": "Feature"
           },
           {
            "geometry": {
             "coordinates": [
              [
               [
                44.72727270272727,
                -37.82944920685779
               ],
               [
                45.40909088590909,
                -37.517875934254796
               ],
               [
                45.40909088590909,
                -36.89081409263251
               ],
               [
                44.72727270272727,
                -36.57533347919717
               ],
               [
                44.04545451954546,
                -36.89081409263251
               ],
               [
                44.04545451954546,
                -37.517875934254796
               ],
               [
                44.72727270272727,
                -37.82944920685779
               ]
              ]
             ],
             "type": "Polygon"
            },
            "id": "0.7806381740999738,-0.7004740212828753",
            "type": "Feature"
           },
           {
            "geometry": {
             "coordinates": [
              [
               [
                44.72727270272727,
                -19.289448879034072
               ],
               [
                45.40909088590909,
                -18.917480312700423
               ],
               [
                45.40909088590909,
                -18.17106878828689
               ],
               [
                44.72727270272727,
                -17.7966539345571
               ],
               [
                44.04545451954546,
                -18.17106878828689
               ],
               [
                44.04545451954546,
                -18.917480312700423
               ],
               [
                44.72727270272727,
                -19.289448879034072
               ]
              ]
             ],
             "type": "Polygon"
            },
            "id": "0.7806381740999738,-0.3294696051293219",
            "type": "Feature"
           },
           {
            "geometry": {
             "coordinates": [
              [
               [
                44.72727270272727,
                -17.04547756077712
               ],
               [
                45.40909088590909,
                -16.668745140827017
               ],
               [
                45.40909088590909,
                -15.91306579164077
               ],
               [
                44.72727270272727,
                -15.534148917848238
               ],
               [
                44.04545451954546,
                -15.91306579164077
               ],
               [
                44.04545451954546,
                -16.668745140827017
               ],
               [
                44.72727270272727,
                -17.04547756077712
               ]
              ]
             ],
             "type": "Polygon"
            },
            "id": "0.7806381740999738,-0.2882468922233715",
            "type": "Feature"
           },
           {
            "geometry": {
             "coordinates": [
              [
               [
                46.090909069090905,
                -44.90804775470793
               ],
               [
                46.77272725227272,
                -44.62857416958301
               ],
               [
                46.77272725227272,
                -44.06557080109546
               ],
               [
                46.090909069090905,
                -43.782041623674104
               ],
               [
                45.40909088590909,
                -44.06557080109546
               ],
               [
                45.40909088590909,
                -44.62857416958301
               ],
               [
                46.090909069090905,
                -44.90804775470793
               ]
              ]
             ],
             "type": "Polygon"
            },
            "id": "0.8044381184929509,-0.8653648729066767",
            "type": "Feature"
           },
           {
            "geometry": {
             "coordinates": [
              [
               [
                46.090909069090905,
                -43.21093079831662
               ],
               [
                46.77272725227272,
                -42.92335056484793
               ],
               [
                46.77272725227272,
                -42.344145034800086
               ],
               [
                46.090909069090905,
                -42.0525219941646
               ],
               [
                45.40909088590909,
                -42.344145034800086
               ],
               [
                45.40909088590909,
                -42.92335056484793
               ],
               [
                46.090909069090905,
                -43.21093079831662
               ]
              ]
             ],
             "type": "Polygon"
            },
            "id": "0.8044381184929509,-0.8241421600007264",
            "type": "Feature"
           },
           {
            "geometry": {
             "coordinates": [
              [
               [
                46.090909069090905,
                -41.46524208454954
               ],
               [
                46.77272725227272,
                -41.16958834542567
               ],
               [
                46.77272725227272,
                -40.57426224611941
               ],
               [
                46.090909069090905,
                -40.274593921456685
               ],
               [
                45.40909088590909,
                -40.57426224611941
               ],
               [
                45.40909088590909,
                -41.16958834542567
               ],
               [
                46.090909069090905,
                -41.46524208454954
               ]
              ]
             ],
             "type": "Polygon"
            },
            "id": "0.8044381184929509,-0.782919447094776",
            "type": "Feature"
           },
           {
            "geometry": {
             "coordinates": [
              [
               [
                46.090909069090905,
                -37.82944920685779
               ],
               [
                46.77272725227272,
                -37.517875934254796
               ],
               [
                46.77272725227272,
                -36.89081409263251
               ],
               [
                46.090909069090905,
                -36.57533347919717
               ],
               [
                45.40909088590909,
                -36.89081409263251
               ],
               [
                45.40909088590909,
                -37.517875934254796
               ],
               [
                46.090909069090905,
                -37.82944920685779
               ]
              ]
             ],
             "type": "Polygon"
            },
            "id": "0.8044381184929509,-0.7004740212828753",
            "type": "Feature"
           },
           {
            "geometry": {
             "coordinates": [
              [
               [
                46.090909069090905,
                -30.0008896569427
               ],
               [
                46.77272725227272,
                -29.659399410144857
               ],
               [
                46.77272725227272,
                -28.97293836557683
               ],
               [
                46.090909069090905,
                -28.627984434159064
               ],
               [
                45.40909088590909,
                -28.97293836557683
               ],
               [
                45.40909088590909,
                -29.659399410144857
               ],
               [
                46.090909069090905,
                -30.0008896569427
               ]
              ]
             ],
             "type": "Polygon"
            },
            "id": "0.8044381184929509,-0.5355831696590738",
            "type": "Feature"
           },
           {
            "geometry": {
             "coordinates": [
              [
               [
                46.090909069090905,
                -19.289448879034072
               ],
               [
                46.77272725227272,
                -18.917480312700423
               ],
               [
                46.77272725227272,
                -18.17106878828689
               ],
               [
                46.090909069090905,
                -17.7966539345571
               ],
               [
                45.40909088590909,
                -18.17106878828689
               ],
               [
                45.40909088590909,
                -18.917480312700423
               ],
               [
                46.090909069090905,
                -19.289448879034072
               ]
              ]
             ],
             "type": "Polygon"
            },
            "id": "0.8044381184929509,-0.3294696051293219",
            "type": "Feature"
           },
           {
            "geometry": {
             "coordinates": [
              [
               [
                46.090909069090905,
                -17.04547756077712
               ],
               [
                46.77272725227272,
                -16.668745140827017
               ],
               [
                46.77272725227272,
                -15.91306579164077
               ],
               [
                46.090909069090905,
                -15.534148917848238
               ],
               [
                45.40909088590909,
                -15.91306579164077
               ],
               [
                45.40909088590909,
                -16.668745140827017
               ],
               [
                46.090909069090905,
                -17.04547756077712
               ]
              ]
             ],
             "type": "Polygon"
            },
            "id": "0.8044381184929509,-0.2882468922233715",
            "type": "Feature"
           },
           {
            "geometry": {
             "coordinates": [
              [
               [
                47.45454543545454,
                -44.90804775470793
               ],
               [
                48.136363618636366,
                -44.62857416958301
               ],
               [
                48.136363618636366,
                -44.06557080109546
               ],
               [
                47.45454543545454,
                -43.782041623674104
               ],
               [
                46.77272725227273,
                -44.06557080109546
               ],
               [
                46.77272725227273,
                -44.62857416958301
               ],
               [
                47.45454543545454,
                -44.90804775470793
               ]
              ]
             ],
             "type": "Polygon"
            },
            "id": "0.828238062885928,-0.8653648729066767",
            "type": "Feature"
           },
           {
            "geometry": {
             "coordinates": [
              [
               [
                47.45454543545454,
                -43.21093079831662
               ],
               [
                48.136363618636366,
                -42.92335056484793
               ],
               [
                48.136363618636366,
                -42.344145034800086
               ],
               [
                47.45454543545454,
                -42.0525219941646
               ],
               [
                46.77272725227273,
                -42.344145034800086
               ],
               [
                46.77272725227273,
                -42.92335056484793
               ],
               [
                47.45454543545454,
                -43.21093079831662
               ]
              ]
             ],
             "type": "Polygon"
            },
            "id": "0.828238062885928,-0.8241421600007264",
            "type": "Feature"
           },
           {
            "geometry": {
             "coordinates": [
              [
               [
                47.45454543545454,
                -41.46524208454954
               ],
               [
                48.136363618636366,
                -41.16958834542567
               ],
               [
                48.136363618636366,
                -40.57426224611941
               ],
               [
                47.45454543545454,
                -40.274593921456685
               ],
               [
                46.77272725227273,
                -40.57426224611941
               ],
               [
                46.77272725227273,
                -41.16958834542567
               ],
               [
                47.45454543545454,
                -41.46524208454954
               ]
              ]
             ],
             "type": "Polygon"
            },
            "id": "0.828238062885928,-0.782919447094776",
            "type": "Feature"
           },
           {
            "geometry": {
             "coordinates": [
              [
               [
                47.45454543545454,
                -37.82944920685779
               ],
               [
                48.136363618636366,
                -37.517875934254796
               ],
               [
                48.136363618636366,
                -36.89081409263251
               ],
               [
                47.45454543545454,
                -36.57533347919717
               ],
               [
                46.77272725227273,
                -36.89081409263251
               ],
               [
                46.77272725227273,
                -37.517875934254796
               ],
               [
                47.45454543545454,
                -37.82944920685779
               ]
              ]
             ],
             "type": "Polygon"
            },
            "id": "0.828238062885928,-0.7004740212828753",
            "type": "Feature"
           },
           {
            "geometry": {
             "coordinates": [
              [
               [
                47.45454543545454,
                -35.940494058394584
               ],
               [
                48.136363618636366,
                -35.62114425423612
               ],
               [
                48.136363618636366,
                -34.97860829889037
               ],
               [
                47.45454543545454,
                -34.65543222216165
               ],
               [
                46.77272725227273,
                -34.97860829889037
               ],
               [
                46.77272725227273,
                -35.62114425423612
               ],
               [
                47.45454543545454,
                -35.940494058394584
               ]
              ]
             ],
             "type": "Polygon"
            },
            "id": "0.828238062885928,-0.6592513083769249",
            "type": "Feature"
           },
           {
            "geometry": {
             "coordinates": [
              [
               [
                47.45454543545454,
                -32.024966476816466
               ],
               [
                48.136363618636366,
                -31.690618236956208
               ],
               [
                48.136363618636366,
                -31.01830216697947
               ],
               [
                47.45454543545454,
                -30.680348887673055
               ],
               [
                46.77272725227273,
                -31.01830216697947
               ],
               [
                46.77272725227273,
                -31.690618236956208
               ],
               [
                47.45454543545454,
                -32.024966476816466
               ]
              ]
             ],
             "type": "Polygon"
            },
            "id": "0.828238062885928,-0.5768058825650242",
            "type": "Feature"
           },
           {
            "geometry": {
             "coordinates": [
              [
               [
                47.45454543545454,
                -27.934673375977997
               ],
               [
                48.136363618636366,
                -27.586334281862243
               ],
               [
                48.136363618636366,
                -26.8863355045969
               ],
               [
                47.45454543545454,
                -26.534695021431894
               ],
               [
                46.77272725227273,
                -26.8863355045969
               ],
               [
                46.77272725227273,
                -27.586334281862243
               ],
               [
                47.45454543545454,
                -27.934673375977997
               ]
              ]
             ],
             "type": "Polygon"
            },
            "id": "0.828238062885928,-0.4943604567531234",
            "type": "Feature"
           },
           {
            "geometry": {
             "coordinates": [
              [
               [
                47.45454543545454,
                -12.479004370358245
               ],
               [
                48.136363618636366,
                -12.094373739472207
               ],
               [
                48.136363618636366,
                -11.323466890945843
               ],
               [
                47.45454543545454,
                -10.937224063599297
               ],
               [
                46.77272725227273,
                -11.323466890945843
               ],
               [
                46.77272725227273,
                -12.094373739472207
               ],
               [
                47.45454543545454,
                -12.479004370358245
               ]
              ]
             ],
             "type": "Polygon"
            },
            "id": "0.828238062885928,-0.2058014664114708",
            "type": "Feature"
           },
           {
            "geometry": {
             "coordinates": [
              [
               [
                47.45454543545454,
                -10.163243962436015
               ],
               [
                48.136363618636366,
                -9.775540771664078
               ],
               [
                48.136363618636366,
                -8.9987941229748
               ],
               [
                47.45454543545454,
                -8.609785377429594
               ],
               [
                46.77272725227273,
                -8.9987941229748
               ],
               [
                46.77272725227273,
                -9.775540771664078
               ],
               [
                47.45454543545454,
                -10.163243962436015
               ]
              ]
             ],
             "type": "Polygon"
            },
            "id": "0.828238062885928,-0.16457875350552043",
            "type": "Feature"
           },
           {
            "geometry": {
             "coordinates": [
              [
               [
                47.45454543545454,
                -7.830584548212443
               ],
               [
                48.136363618636366,
                -7.440427739729316
               ],
               [
                48.136363618636366,
                -6.659090160468774
               ],
               [
                47.45454543545454,
                -6.267945158391975
               ],
               [
                46.77272725227273,
                -6.659090160468774
               ],
               [
                46.77272725227273,
                -7.440427739729316
               ],
               [
                47.45454543545454,
                -7.830584548212443
               ]
              ]
             ],
             "type": "Polygon"
            },
            "id": "0.828238062885928,-0.12335604059957006",
            "type": "Feature"
           },
           {
            "geometry": {
             "coordinates": [
              [
               [
                47.45454543545454,
                -3.1297437948759796
               ],
               [
                48.136363618636366,
                -2.7366123793771684
               ],
               [
                48.136363618636366,
                -1.949981104905858
               ],
               [
                47.45454543545454,
                -1.5565182513443283
               ],
               [
                46.77272725227273,
                -1.949981104905858
               ],
               [
                46.77272725227273,
                -2.7366123793771684
               ],
               [
                47.45454543545454,
                -3.1297437948759796
               ]
              ]
             ],
             "type": "Polygon"
            },
            "id": "0.828238062885928,-0.04091061478766933",
            "type": "Feature"
           },
           {
            "geometry": {
             "coordinates": [
              [
               [
                48.81818180181818,
                -43.21093079831662
               ],
               [
                49.499999985,
                -42.92335056484793
               ],
               [
                49.499999985,
                -42.344145034800086
               ],
               [
                48.81818180181818,
                -42.0525219941646
               ],
               [
                48.136363618636366,
                -42.344145034800086
               ],
               [
                48.136363618636366,
                -42.92335056484793
               ],
               [
                48.81818180181818,
                -43.21093079831662
               ]
              ]
             ],
             "type": "Polygon"
            },
            "id": "0.8520380072789051,-0.8241421600007264",
            "type": "Feature"
           },
           {
            "geometry": {
             "coordinates": [
              [
               [
                48.81818180181818,
                -41.46524208454954
               ],
               [
                49.499999985,
                -41.16958834542567
               ],
               [
                49.499999985,
                -40.57426224611941
               ],
               [
                48.81818180181818,
                -40.274593921456685
               ],
               [
                48.136363618636366,
                -40.57426224611941
               ],
               [
                48.136363618636366,
                -41.16958834542567
               ],
               [
                48.81818180181818,
                -41.46524208454954
               ]
              ]
             ],
             "type": "Polygon"
            },
            "id": "0.8520380072789051,-0.782919447094776",
            "type": "Feature"
           },
           {
            "geometry": {
             "coordinates": [
              [
               [
                48.81818180181818,
                -39.67125797273608
               ],
               [
                49.499999985,
                -39.36759532075098
               ],
               [
                49.499999985,
                -38.756294291171216
               ],
               [
                48.81818180181818,
                -38.448661852041546
               ],
               [
                48.136363618636366,
                -38.756294291171216
               ],
               [
                48.136363618636366,
                -39.36759532075098
               ],
               [
                48.81818180181818,
                -39.67125797273608
               ]
              ]
             ],
             "type": "Polygon"
            },
            "id": "0.8520380072789051,-0.7416967341888256",
            "type": "Feature"
           },
           {
            "geometry": {
             "coordinates": [
              [
               [
                48.81818180181818,
                -37.82944920685779
               ],
               [
                49.499999985,
                -37.517875934254796
               ],
               [
                49.499999985,
                -36.89081409263251
               ],
               [
                48.81818180181818,
                -36.57533347919717
               ],
               [
                48.136363618636366,
                -36.89081409263251
               ],
               [
                48.136363618636366,
                -37.517875934254796
               ],
               [
                48.81818180181818,
                -37.82944920685779
               ]
              ]
             ],
             "type": "Polygon"
            },
            "id": "0.8520380072789051,-0.7004740212828753",
            "type": "Feature"
           },
           {
            "geometry": {
             "coordinates": [
              [
               [
                48.81818180181818,
                -35.940494058394584
               ],
               [
                49.499999985,
                -35.62114425423612
               ],
               [
                49.499999985,
                -34.97860829889037
               ],
               [
                48.81818180181818,
                -34.65543222216165
               ],
               [
                48.136363618636366,
                -34.97860829889037
               ],
               [
                48.136363618636366,
                -35.62114425423612
               ],
               [
                48.81818180181818,
                -35.940494058394584
               ]
              ]
             ],
             "type": "Polygon"
            },
            "id": "0.8520380072789051,-0.6592513083769249",
            "type": "Feature"
           },
           {
            "geometry": {
             "coordinates": [
              [
               [
                48.81818180181818,
                -34.00529041676964
               ],
               [
                49.499999985,
                -33.678335855357275
               ],
               [
                49.499999985,
                -33.02068871801436
               ],
               [
                48.81818180181818,
                -32.69000842137051
               ],
               [
                48.136363618636366,
                -33.02068871801436
               ],
               [
                48.136363618636366,
                -33.678335855357275
               ],
               [
                48.81818180181818,
                -34.00529041676964
               ]
              ]
             ],
             "type": "Polygon"
            },
            "id": "0.8520380072789051,-0.6180285954709746",
            "type": "Feature"
           },
           {
            "geometry": {
             "coordinates": [
              [
               [
                48.81818180181818,
                -32.024966476816466
               ],
               [
                49.499999985,
                -31.690618236956208
               ],
               [
                49.499999985,
                -31.01830216697947
               ],
               [
                48.81818180181818,
                -30.680348887673055
               ],
               [
                48.136363618636366,
                -31.01830216697947
               ],
               [
                48.136363618636366,
                -31.690618236956208
               ],
               [
                48.81818180181818,
                -32.024966476816466
               ]
              ]
             ],
             "type": "Polygon"
            },
            "id": "0.8520380072789051,-0.5768058825650242",
            "type": "Feature"
           },
           {
            "geometry": {
             "coordinates": [
              [
               [
                48.81818180181818,
                -30.0008896569427
               ],
               [
                49.499999985,
                -29.659399410144857
               ],
               [
                49.499999985,
                -28.97293836557683
               ],
               [
                48.81818180181818,
                -28.627984434159064
               ],
               [
                48.136363618636366,
                -28.97293836557683
               ],
               [
                48.136363618636366,
                -29.659399410144857
               ],
               [
                48.81818180181818,
                -30.0008896569427
               ]
              ]
             ],
             "type": "Polygon"
            },
            "id": "0.8520380072789051,-0.5355831696590738",
            "type": "Feature"
           },
           {
            "geometry": {
             "coordinates": [
              [
               [
                48.81818180181818,
                -27.934673375977997
               ],
               [
                49.499999985,
                -27.586334281862243
               ],
               [
                49.499999985,
                -26.8863355045969
               ],
               [
                48.81818180181818,
                -26.534695021431894
               ],
               [
                48.136363618636366,
                -26.8863355045969
               ],
               [
                48.136363618636366,
                -27.586334281862243
               ],
               [
                48.81818180181818,
                -27.934673375977997
               ]
              ]
             ],
             "type": "Polygon"
            },
            "id": "0.8520380072789051,-0.4943604567531234",
            "type": "Feature"
           },
           {
            "geometry": {
             "coordinates": [
              [
               [
                48.81818180181818,
                -25.828181323177716
               ],
               [
                49.499999985,
                -25.473328472753064
               ],
               [
                49.499999985,
                -24.760483131153798
               ],
               [
                48.81818180181818,
                -24.40251216281074
               ],
               [
                48.136363618636366,
                -24.760483131153798
               ],
               [
                48.136363618636366,
                -25.473328472753064
               ],
               [
                48.81818180181818,
                -25.828181323177716
               ]
              ]
             ],
             "type": "Polygon"
            },
            "id": "0.8520380072789051,-0.45313774384717304",
            "type": "Feature"
           },
           {
            "geometry": {
             "coordinates": [
              [
               [
                48.81818180181818,
                -23.68352887634965
               ],
               [
                49.499999985,
                -23.322539228722544
               ],
               [
                49.499999985,
                -22.597622022074045
               ],
               [
                48.81818180181818,
                -22.23371826658171
               ],
               [
                48.136363618636366,
                -22.597622022074045
               ],
               [
                48.136363618636366,
                -23.322539228722544
               ],
               [
                48.81818180181818,
                -23.68352887634965
               ]
              ]
             ],
             "type": "Polygon"
            },
            "id": "0.8520380072789051,-0.4119150309412226",
            "type": "Feature"
           },
           {
            "geometry": {
             "coordinates": [
              [
               [
                48.81818180181818,
                -21.503081358955768
               ],
               [
                49.499999985,
                -21.13637312455803
               ],
               [
                49.499999985,
                -20.400240760170597
               ],
               [
                48.81818180181818,
                -20.030842639010405
               ],
               [
                48.136363618636366,
                -20.400240760170597
               ],
               [
                48.136363618636366,
                -21.13637312455803
               ],
               [
                48.81818180181818,
                -21.503081358955768
               ]
              ]
             ],
             "type": "Polygon"
            },
            "id": "0.8520380072789051,-0.37069231803527225",
            "type": "Feature"
           },
           {
            "geometry": {
             "coordinates": [
              [
               [
                48.81818180181818,
                -12.479004370358245
               ],
               [
                49.499999985,
                -12.094373739472207
               ],
               [
                49.499999985,
                -11.323466890945843
               ],
               [
                48.81818180181818,
                -10.937224063599297
               ],
               [
                48.136363618636366,
                -11.323466890945843
               ],
               [
                48.136363618636366,
                -12.094373739472207
               ],
               [
                48.81818180181818,
                -12.479004370358245
               ]
              ]
             ],
             "type": "Polygon"
            },
            "id": "0.8520380072789051,-0.2058014664114708",
            "type": "Feature"
           },
           {
            "geometry": {
             "coordinates": [
              [
               [
                48.81818180181818,
                -10.163243962436015
               ],
               [
                49.499999985,
                -9.775540771664078
               ],
               [
                49.499999985,
                -8.9987941229748
               ],
               [
                48.81818180181818,
                -8.609785377429594
               ],
               [
                48.136363618636366,
                -8.9987941229748
               ],
               [
                48.136363618636366,
                -9.775540771664078
               ],
               [
                48.81818180181818,
                -10.163243962436015
               ]
              ]
             ],
             "type": "Polygon"
            },
            "id": "0.8520380072789051,-0.16457875350552043",
            "type": "Feature"
           },
           {
            "geometry": {
             "coordinates": [
              [
               [
                48.81818180181818,
                -7.830584548212443
               ],
               [
                49.499999985,
                -7.440427739729316
               ],
               [
                49.499999985,
                -6.659090160468774
               ],
               [
                48.81818180181818,
                -6.267945158391975
               ],
               [
                48.136363618636366,
                -6.659090160468774
               ],
               [
                48.136363618636366,
                -7.440427739729316
               ],
               [
                48.81818180181818,
                -7.830584548212443
               ]
              ]
             ],
             "type": "Polygon"
            },
            "id": "0.8520380072789051,-0.12335604059957006",
            "type": "Feature"
           },
           {
            "geometry": {
             "coordinates": [
              [
               [
                48.81818180181818,
                -5.484792699527005
               ],
               [
                49.499999985,
                -5.092821433170325
               ],
               [
                49.499999985,
                -4.308179759293602
               ],
               [
                48.81818180181818,
                -3.9155458900200393
               ],
               [
                48.136363618636366,
                -4.308179759293602
               ],
               [
                48.136363618636366,
                -5.092821433170325
               ],
               [
                48.81818180181818,
                -5.484792699527005
               ]
              ]
             ],
             "type": "Polygon"
            },
            "id": "0.8520380072789051,-0.0821333276936197",
            "type": "Feature"
           },
           {
            "geometry": {
             "coordinates": [
              [
               [
                48.81818180181818,
                -3.1297437948759796
               ],
               [
                49.499999985,
                -2.7366123793771684
               ],
               [
                49.499999985,
                -1.949981104905858
               ],
               [
                48.81818180181818,
                -1.5565182513443283
               ],
               [
                48.136363618636366,
                -1.949981104905858
               ],
               [
                48.136363618636366,
                -2.7366123793771684
               ],
               [
                48.81818180181818,
                -3.1297437948759796
               ]
              ]
             ],
             "type": "Polygon"
            },
            "id": "0.8520380072789051,-0.04091061478766933",
            "type": "Feature"
           },
           {
            "geometry": {
             "coordinates": [
              [
               [
                50.18181816818182,
                -44.90804775470793
               ],
               [
                50.86363635136363,
                -44.62857416958301
               ],
               [
                50.86363635136363,
                -44.06557080109546
               ],
               [
                50.18181816818182,
                -43.782041623674104
               ],
               [
                49.499999985,
                -44.06557080109546
               ],
               [
                49.499999985,
                -44.62857416958301
               ],
               [
                50.18181816818182,
                -44.90804775470793
               ]
              ]
             ],
             "type": "Polygon"
            },
            "id": "0.8758379516718823,-0.8653648729066767",
            "type": "Feature"
           },
           {
            "geometry": {
             "coordinates": [
              [
               [
                50.18181816818182,
                -43.21093079831662
               ],
               [
                50.86363635136363,
                -42.92335056484793
               ],
               [
                50.86363635136363,
                -42.344145034800086
               ],
               [
                50.18181816818182,
                -42.0525219941646
               ],
               [
                49.499999985,
                -42.344145034800086
               ],
               [
                49.499999985,
                -42.92335056484793
               ],
               [
                50.18181816818182,
                -43.21093079831662
               ]
              ]
             ],
             "type": "Polygon"
            },
            "id": "0.8758379516718823,-0.8241421600007264",
            "type": "Feature"
           },
           {
            "geometry": {
             "coordinates": [
              [
               [
                50.18181816818182,
                -41.46524208454954
               ],
               [
                50.86363635136363,
                -41.16958834542567
               ],
               [
                50.86363635136363,
                -40.57426224611941
               ],
               [
                50.18181816818182,
                -40.274593921456685
               ],
               [
                49.499999985,
                -40.57426224611941
               ],
               [
                49.499999985,
                -41.16958834542567
               ],
               [
                50.18181816818182,
                -41.46524208454954
               ]
              ]
             ],
             "type": "Polygon"
            },
            "id": "0.8758379516718823,-0.782919447094776",
            "type": "Feature"
           },
           {
            "geometry": {
             "coordinates": [
              [
               [
                50.18181816818182,
                -39.67125797273608
               ],
               [
                50.86363635136363,
                -39.36759532075098
               ],
               [
                50.86363635136363,
                -38.756294291171216
               ],
               [
                50.18181816818182,
                -38.448661852041546
               ],
               [
                49.499999985,
                -38.756294291171216
               ],
               [
                49.499999985,
                -39.36759532075098
               ],
               [
                50.18181816818182,
                -39.67125797273608
               ]
              ]
             ],
             "type": "Polygon"
            },
            "id": "0.8758379516718823,-0.7416967341888256",
            "type": "Feature"
           },
           {
            "geometry": {
             "coordinates": [
              [
               [
                50.18181816818182,
                -37.82944920685779
               ],
               [
                50.86363635136363,
                -37.517875934254796
               ],
               [
                50.86363635136363,
                -36.89081409263251
               ],
               [
                50.18181816818182,
                -36.57533347919717
               ],
               [
                49.499999985,
                -36.89081409263251
               ],
               [
                49.499999985,
                -37.517875934254796
               ],
               [
                50.18181816818182,
                -37.82944920685779
               ]
              ]
             ],
             "type": "Polygon"
            },
            "id": "0.8758379516718823,-0.7004740212828753",
            "type": "Feature"
           },
           {
            "geometry": {
             "coordinates": [
              [
               [
                50.18181816818182,
                -35.940494058394584
               ],
               [
                50.86363635136363,
                -35.62114425423612
               ],
               [
                50.86363635136363,
                -34.97860829889037
               ],
               [
                50.18181816818182,
                -34.65543222216165
               ],
               [
                49.499999985,
                -34.97860829889037
               ],
               [
                49.499999985,
                -35.62114425423612
               ],
               [
                50.18181816818182,
                -35.940494058394584
               ]
              ]
             ],
             "type": "Polygon"
            },
            "id": "0.8758379516718823,-0.6592513083769249",
            "type": "Feature"
           },
           {
            "geometry": {
             "coordinates": [
              [
               [
                50.18181816818182,
                -34.00529041676964
               ],
               [
                50.86363635136363,
                -33.678335855357275
               ],
               [
                50.86363635136363,
                -33.02068871801436
               ],
               [
                50.18181816818182,
                -32.69000842137051
               ],
               [
                49.499999985,
                -33.02068871801436
               ],
               [
                49.499999985,
                -33.678335855357275
               ],
               [
                50.18181816818182,
                -34.00529041676964
               ]
              ]
             ],
             "type": "Polygon"
            },
            "id": "0.8758379516718823,-0.6180285954709746",
            "type": "Feature"
           },
           {
            "geometry": {
             "coordinates": [
              [
               [
                50.18181816818182,
                -32.024966476816466
               ],
               [
                50.86363635136363,
                -31.690618236956208
               ],
               [
                50.86363635136363,
                -31.01830216697947
               ],
               [
                50.18181816818182,
                -30.680348887673055
               ],
               [
                49.499999985,
                -31.01830216697947
               ],
               [
                49.499999985,
                -31.690618236956208
               ],
               [
                50.18181816818182,
                -32.024966476816466
               ]
              ]
             ],
             "type": "Polygon"
            },
            "id": "0.8758379516718823,-0.5768058825650242",
            "type": "Feature"
           },
           {
            "geometry": {
             "coordinates": [
              [
               [
                50.18181816818182,
                -30.0008896569427
               ],
               [
                50.86363635136363,
                -29.659399410144857
               ],
               [
                50.86363635136363,
                -28.97293836557683
               ],
               [
                50.18181816818182,
                -28.627984434159064
               ],
               [
                49.499999985,
                -28.97293836557683
               ],
               [
                49.499999985,
                -29.659399410144857
               ],
               [
                50.18181816818182,
                -30.0008896569427
               ]
              ]
             ],
             "type": "Polygon"
            },
            "id": "0.8758379516718823,-0.5355831696590738",
            "type": "Feature"
           },
           {
            "geometry": {
             "coordinates": [
              [
               [
                50.18181816818182,
                -27.934673375977997
               ],
               [
                50.86363635136363,
                -27.586334281862243
               ],
               [
                50.86363635136363,
                -26.8863355045969
               ],
               [
                50.18181816818182,
                -26.534695021431894
               ],
               [
                49.499999985,
                -26.8863355045969
               ],
               [
                49.499999985,
                -27.586334281862243
               ],
               [
                50.18181816818182,
                -27.934673375977997
               ]
              ]
             ],
             "type": "Polygon"
            },
            "id": "0.8758379516718823,-0.4943604567531234",
            "type": "Feature"
           },
           {
            "geometry": {
             "coordinates": [
              [
               [
                50.18181816818182,
                -25.828181323177716
               ],
               [
                50.86363635136363,
                -25.473328472753064
               ],
               [
                50.86363635136363,
                -24.760483131153798
               ],
               [
                50.18181816818182,
                -24.40251216281074
               ],
               [
                49.499999985,
                -24.760483131153798
               ],
               [
                49.499999985,
                -25.473328472753064
               ],
               [
                50.18181816818182,
                -25.828181323177716
               ]
              ]
             ],
             "type": "Polygon"
            },
            "id": "0.8758379516718823,-0.45313774384717304",
            "type": "Feature"
           },
           {
            "geometry": {
             "coordinates": [
              [
               [
                50.18181816818182,
                -23.68352887634965
               ],
               [
                50.86363635136363,
                -23.322539228722544
               ],
               [
                50.86363635136363,
                -22.597622022074045
               ],
               [
                50.18181816818182,
                -22.23371826658171
               ],
               [
                49.499999985,
                -22.597622022074045
               ],
               [
                49.499999985,
                -23.322539228722544
               ],
               [
                50.18181816818182,
                -23.68352887634965
               ]
              ]
             ],
             "type": "Polygon"
            },
            "id": "0.8758379516718823,-0.4119150309412226",
            "type": "Feature"
           },
           {
            "geometry": {
             "coordinates": [
              [
               [
                50.18181816818182,
                -21.503081358955768
               ],
               [
                50.86363635136363,
                -21.13637312455803
               ],
               [
                50.86363635136363,
                -20.400240760170597
               ],
               [
                50.18181816818182,
                -20.030842639010405
               ],
               [
                49.499999985,
                -20.400240760170597
               ],
               [
                49.499999985,
                -21.13637312455803
               ],
               [
                50.18181816818182,
                -21.503081358955768
               ]
              ]
             ],
             "type": "Polygon"
            },
            "id": "0.8758379516718823,-0.37069231803527225",
            "type": "Feature"
           },
           {
            "geometry": {
             "coordinates": [
              [
               [
                50.18181816818182,
                -19.289448879034072
               ],
               [
                50.86363635136363,
                -18.917480312700423
               ],
               [
                50.86363635136363,
                -18.17106878828689
               ],
               [
                50.18181816818182,
                -17.7966539345571
               ],
               [
                49.499999985,
                -18.17106878828689
               ],
               [
                49.499999985,
                -18.917480312700423
               ],
               [
                50.18181816818182,
                -19.289448879034072
               ]
              ]
             ],
             "type": "Polygon"
            },
            "id": "0.8758379516718823,-0.3294696051293219",
            "type": "Feature"
           },
           {
            "geometry": {
             "coordinates": [
              [
               [
                50.18181816818182,
                -12.479004370358245
               ],
               [
                50.86363635136363,
                -12.094373739472207
               ],
               [
                50.86363635136363,
                -11.323466890945843
               ],
               [
                50.18181816818182,
                -10.937224063599297
               ],
               [
                49.499999985,
                -11.323466890945843
               ],
               [
                49.499999985,
                -12.094373739472207
               ],
               [
                50.18181816818182,
                -12.479004370358245
               ]
              ]
             ],
             "type": "Polygon"
            },
            "id": "0.8758379516718823,-0.2058014664114708",
            "type": "Feature"
           },
           {
            "geometry": {
             "coordinates": [
              [
               [
                50.18181816818182,
                -10.163243962436015
               ],
               [
                50.86363635136363,
                -9.775540771664078
               ],
               [
                50.86363635136363,
                -8.9987941229748
               ],
               [
                50.18181816818182,
                -8.609785377429594
               ],
               [
                49.499999985,
                -8.9987941229748
               ],
               [
                49.499999985,
                -9.775540771664078
               ],
               [
                50.18181816818182,
                -10.163243962436015
               ]
              ]
             ],
             "type": "Polygon"
            },
            "id": "0.8758379516718823,-0.16457875350552043",
            "type": "Feature"
           },
           {
            "geometry": {
             "coordinates": [
              [
               [
                50.18181816818182,
                -7.830584548212443
               ],
               [
                50.86363635136363,
                -7.440427739729316
               ],
               [
                50.86363635136363,
                -6.659090160468774
               ],
               [
                50.18181816818182,
                -6.267945158391975
               ],
               [
                49.499999985,
                -6.659090160468774
               ],
               [
                49.499999985,
                -7.440427739729316
               ],
               [
                50.18181816818182,
                -7.830584548212443
               ]
              ]
             ],
             "type": "Polygon"
            },
            "id": "0.8758379516718823,-0.12335604059957006",
            "type": "Feature"
           },
           {
            "geometry": {
             "coordinates": [
              [
               [
                50.18181816818182,
                -5.484792699527005
               ],
               [
                50.86363635136363,
                -5.092821433170325
               ],
               [
                50.86363635136363,
                -4.308179759293602
               ],
               [
                50.18181816818182,
                -3.9155458900200393
               ],
               [
                49.499999985,
                -4.308179759293602
               ],
               [
                49.499999985,
                -5.092821433170325
               ],
               [
                50.18181816818182,
                -5.484792699527005
               ]
              ]
             ],
             "type": "Polygon"
            },
            "id": "0.8758379516718823,-0.0821333276936197",
            "type": "Feature"
           },
           {
            "geometry": {
             "coordinates": [
              [
               [
                50.18181816818182,
                -3.1297437948759796
               ],
               [
                50.86363635136363,
                -2.7366123793771684
               ],
               [
                50.86363635136363,
                -1.949981104905858
               ],
               [
                50.18181816818182,
                -1.5565182513443283
               ],
               [
                49.499999985,
                -1.949981104905858
               ],
               [
                49.499999985,
                -2.7366123793771684
               ],
               [
                50.18181816818182,
                -3.1297437948759796
               ]
              ]
             ],
             "type": "Polygon"
            },
            "id": "0.8758379516718823,-0.04091061478766933",
            "type": "Feature"
           },
           {
            "geometry": {
             "coordinates": [
              [
               [
                51.54545453454545,
                -43.21093079831662
               ],
               [
                52.22727271772727,
                -42.92335056484793
               ],
               [
                52.22727271772727,
                -42.344145034800086
               ],
               [
                51.54545453454545,
                -42.0525219941646
               ],
               [
                50.86363635136363,
                -42.344145034800086
               ],
               [
                50.86363635136363,
                -42.92335056484793
               ],
               [
                51.54545453454545,
                -43.21093079831662
               ]
              ]
             ],
             "type": "Polygon"
            },
            "id": "0.8996378960648593,-0.8241421600007264",
            "type": "Feature"
           },
           {
            "geometry": {
             "coordinates": [
              [
               [
                51.54545453454545,
                -41.46524208454954
               ],
               [
                52.22727271772727,
                -41.16958834542567
               ],
               [
                52.22727271772727,
                -40.57426224611941
               ],
               [
                51.54545453454545,
                -40.274593921456685
               ],
               [
                50.86363635136363,
                -40.57426224611941
               ],
               [
                50.86363635136363,
                -41.16958834542567
               ],
               [
                51.54545453454545,
                -41.46524208454954
               ]
              ]
             ],
             "type": "Polygon"
            },
            "id": "0.8996378960648593,-0.782919447094776",
            "type": "Feature"
           },
           {
            "geometry": {
             "coordinates": [
              [
               [
                51.54545453454545,
                -39.67125797273608
               ],
               [
                52.22727271772727,
                -39.36759532075098
               ],
               [
                52.22727271772727,
                -38.756294291171216
               ],
               [
                51.54545453454545,
                -38.448661852041546
               ],
               [
                50.86363635136363,
                -38.756294291171216
               ],
               [
                50.86363635136363,
                -39.36759532075098
               ],
               [
                51.54545453454545,
                -39.67125797273608
               ]
              ]
             ],
             "type": "Polygon"
            },
            "id": "0.8996378960648593,-0.7416967341888256",
            "type": "Feature"
           },
           {
            "geometry": {
             "coordinates": [
              [
               [
                51.54545453454545,
                -37.82944920685779
               ],
               [
                52.22727271772727,
                -37.517875934254796
               ],
               [
                52.22727271772727,
                -36.89081409263251
               ],
               [
                51.54545453454545,
                -36.57533347919717
               ],
               [
                50.86363635136363,
                -36.89081409263251
               ],
               [
                50.86363635136363,
                -37.517875934254796
               ],
               [
                51.54545453454545,
                -37.82944920685779
               ]
              ]
             ],
             "type": "Polygon"
            },
            "id": "0.8996378960648593,-0.7004740212828753",
            "type": "Feature"
           },
           {
            "geometry": {
             "coordinates": [
              [
               [
                51.54545453454545,
                -35.940494058394584
               ],
               [
                52.22727271772727,
                -35.62114425423612
               ],
               [
                52.22727271772727,
                -34.97860829889037
               ],
               [
                51.54545453454545,
                -34.65543222216165
               ],
               [
                50.86363635136363,
                -34.97860829889037
               ],
               [
                50.86363635136363,
                -35.62114425423612
               ],
               [
                51.54545453454545,
                -35.940494058394584
               ]
              ]
             ],
             "type": "Polygon"
            },
            "id": "0.8996378960648593,-0.6592513083769249",
            "type": "Feature"
           },
           {
            "geometry": {
             "coordinates": [
              [
               [
                51.54545453454545,
                -34.00529041676964
               ],
               [
                52.22727271772727,
                -33.678335855357275
               ],
               [
                52.22727271772727,
                -33.02068871801436
               ],
               [
                51.54545453454545,
                -32.69000842137051
               ],
               [
                50.86363635136363,
                -33.02068871801436
               ],
               [
                50.86363635136363,
                -33.678335855357275
               ],
               [
                51.54545453454545,
                -34.00529041676964
               ]
              ]
             ],
             "type": "Polygon"
            },
            "id": "0.8996378960648593,-0.6180285954709746",
            "type": "Feature"
           },
           {
            "geometry": {
             "coordinates": [
              [
               [
                51.54545453454545,
                -32.024966476816466
               ],
               [
                52.22727271772727,
                -31.690618236956208
               ],
               [
                52.22727271772727,
                -31.01830216697947
               ],
               [
                51.54545453454545,
                -30.680348887673055
               ],
               [
                50.86363635136363,
                -31.01830216697947
               ],
               [
                50.86363635136363,
                -31.690618236956208
               ],
               [
                51.54545453454545,
                -32.024966476816466
               ]
              ]
             ],
             "type": "Polygon"
            },
            "id": "0.8996378960648593,-0.5768058825650242",
            "type": "Feature"
           },
           {
            "geometry": {
             "coordinates": [
              [
               [
                51.54545453454545,
                -30.0008896569427
               ],
               [
                52.22727271772727,
                -29.659399410144857
               ],
               [
                52.22727271772727,
                -28.97293836557683
               ],
               [
                51.54545453454545,
                -28.627984434159064
               ],
               [
                50.86363635136363,
                -28.97293836557683
               ],
               [
                50.86363635136363,
                -29.659399410144857
               ],
               [
                51.54545453454545,
                -30.0008896569427
               ]
              ]
             ],
             "type": "Polygon"
            },
            "id": "0.8996378960648593,-0.5355831696590738",
            "type": "Feature"
           },
           {
            "geometry": {
             "coordinates": [
              [
               [
                51.54545453454545,
                -27.934673375977997
               ],
               [
                52.22727271772727,
                -27.586334281862243
               ],
               [
                52.22727271772727,
                -26.8863355045969
               ],
               [
                51.54545453454545,
                -26.534695021431894
               ],
               [
                50.86363635136363,
                -26.8863355045969
               ],
               [
                50.86363635136363,
                -27.586334281862243
               ],
               [
                51.54545453454545,
                -27.934673375977997
               ]
              ]
             ],
             "type": "Polygon"
            },
            "id": "0.8996378960648593,-0.4943604567531234",
            "type": "Feature"
           },
           {
            "geometry": {
             "coordinates": [
              [
               [
                51.54545453454545,
                -25.828181323177716
               ],
               [
                52.22727271772727,
                -25.473328472753064
               ],
               [
                52.22727271772727,
                -24.760483131153798
               ],
               [
                51.54545453454545,
                -24.40251216281074
               ],
               [
                50.86363635136363,
                -24.760483131153798
               ],
               [
                50.86363635136363,
                -25.473328472753064
               ],
               [
                51.54545453454545,
                -25.828181323177716
               ]
              ]
             ],
             "type": "Polygon"
            },
            "id": "0.8996378960648593,-0.45313774384717304",
            "type": "Feature"
           },
           {
            "geometry": {
             "coordinates": [
              [
               [
                51.54545453454545,
                -23.68352887634965
               ],
               [
                52.22727271772727,
                -23.322539228722544
               ],
               [
                52.22727271772727,
                -22.597622022074045
               ],
               [
                51.54545453454545,
                -22.23371826658171
               ],
               [
                50.86363635136363,
                -22.597622022074045
               ],
               [
                50.86363635136363,
                -23.322539228722544
               ],
               [
                51.54545453454545,
                -23.68352887634965
               ]
              ]
             ],
             "type": "Polygon"
            },
            "id": "0.8996378960648593,-0.4119150309412226",
            "type": "Feature"
           },
           {
            "geometry": {
             "coordinates": [
              [
               [
                51.54545453454545,
                -21.503081358955768
               ],
               [
                52.22727271772727,
                -21.13637312455803
               ],
               [
                52.22727271772727,
                -20.400240760170597
               ],
               [
                51.54545453454545,
                -20.030842639010405
               ],
               [
                50.86363635136363,
                -20.400240760170597
               ],
               [
                50.86363635136363,
                -21.13637312455803
               ],
               [
                51.54545453454545,
                -21.503081358955768
               ]
              ]
             ],
             "type": "Polygon"
            },
            "id": "0.8996378960648593,-0.37069231803527225",
            "type": "Feature"
           },
           {
            "geometry": {
             "coordinates": [
              [
               [
                51.54545453454545,
                -19.289448879034072
               ],
               [
                52.22727271772727,
                -18.917480312700423
               ],
               [
                52.22727271772727,
                -18.17106878828689
               ],
               [
                51.54545453454545,
                -17.7966539345571
               ],
               [
                50.86363635136363,
                -18.17106878828689
               ],
               [
                50.86363635136363,
                -18.917480312700423
               ],
               [
                51.54545453454545,
                -19.289448879034072
               ]
              ]
             ],
             "type": "Polygon"
            },
            "id": "0.8996378960648593,-0.3294696051293219",
            "type": "Feature"
           },
           {
            "geometry": {
             "coordinates": [
              [
               [
                51.54545453454545,
                -12.479004370358245
               ],
               [
                52.22727271772727,
                -12.094373739472207
               ],
               [
                52.22727271772727,
                -11.323466890945843
               ],
               [
                51.54545453454545,
                -10.937224063599297
               ],
               [
                50.86363635136363,
                -11.323466890945843
               ],
               [
                50.86363635136363,
                -12.094373739472207
               ],
               [
                51.54545453454545,
                -12.479004370358245
               ]
              ]
             ],
             "type": "Polygon"
            },
            "id": "0.8996378960648593,-0.2058014664114708",
            "type": "Feature"
           },
           {
            "geometry": {
             "coordinates": [
              [
               [
                51.54545453454545,
                -10.163243962436015
               ],
               [
                52.22727271772727,
                -9.775540771664078
               ],
               [
                52.22727271772727,
                -8.9987941229748
               ],
               [
                51.54545453454545,
                -8.609785377429594
               ],
               [
                50.86363635136363,
                -8.9987941229748
               ],
               [
                50.86363635136363,
                -9.775540771664078
               ],
               [
                51.54545453454545,
                -10.163243962436015
               ]
              ]
             ],
             "type": "Polygon"
            },
            "id": "0.8996378960648593,-0.16457875350552043",
            "type": "Feature"
           },
           {
            "geometry": {
             "coordinates": [
              [
               [
                51.54545453454545,
                -7.830584548212443
               ],
               [
                52.22727271772727,
                -7.440427739729316
               ],
               [
                52.22727271772727,
                -6.659090160468774
               ],
               [
                51.54545453454545,
                -6.267945158391975
               ],
               [
                50.86363635136363,
                -6.659090160468774
               ],
               [
                50.86363635136363,
                -7.440427739729316
               ],
               [
                51.54545453454545,
                -7.830584548212443
               ]
              ]
             ],
             "type": "Polygon"
            },
            "id": "0.8996378960648593,-0.12335604059957006",
            "type": "Feature"
           },
           {
            "geometry": {
             "coordinates": [
              [
               [
                51.54545453454545,
                -5.484792699527005
               ],
               [
                52.22727271772727,
                -5.092821433170325
               ],
               [
                52.22727271772727,
                -4.308179759293602
               ],
               [
                51.54545453454545,
                -3.9155458900200393
               ],
               [
                50.86363635136363,
                -4.308179759293602
               ],
               [
                50.86363635136363,
                -5.092821433170325
               ],
               [
                51.54545453454545,
                -5.484792699527005
               ]
              ]
             ],
             "type": "Polygon"
            },
            "id": "0.8996378960648593,-0.0821333276936197",
            "type": "Feature"
           },
           {
            "geometry": {
             "coordinates": [
              [
               [
                51.54545453454545,
                -0.7693907941689021
               ],
               [
                52.22727271772727,
                -0.375763312914169
               ],
               [
                52.22727271772727,
                0.41152627821163257
               ],
               [
                51.54545453454545,
                0.8051512274708281
               ],
               [
                50.86363635136363,
                0.41152627821163257
               ],
               [
                50.86363635136363,
                -0.375763312914169
               ],
               [
                51.54545453454545,
                -0.7693907941689021
               ]
              ]
             ],
             "type": "Polygon"
            },
            "id": "0.8996378960648593,0.0003120981182810345",
            "type": "Feature"
           },
           {
            "geometry": {
             "coordinates": [
              [
               [
                52.90909090090909,
                -43.21093079831662
               ],
               [
                53.5909090840909,
                -42.92335056484793
               ],
               [
                53.5909090840909,
                -42.344145034800086
               ],
               [
                52.90909090090909,
                -42.0525219941646
               ],
               [
                52.22727271772728,
                -42.344145034800086
               ],
               [
                52.22727271772728,
                -42.92335056484793
               ],
               [
                52.90909090090909,
                -43.21093079831662
               ]
              ]
             ],
             "type": "Polygon"
            },
            "id": "0.9234378404578365,-0.8241421600007264",
            "type": "Feature"
           },
           {
            "geometry": {
             "coordinates": [
              [
               [
                52.90909090090909,
                -41.46524208454954
               ],
               [
                53.5909090840909,
                -41.16958834542567
               ],
               [
                53.5909090840909,
                -40.57426224611941
               ],
               [
                52.90909090090909,
                -40.274593921456685
               ],
               [
                52.22727271772728,
                -40.57426224611941
               ],
               [
                52.22727271772728,
                -41.16958834542567
               ],
               [
                52.90909090090909,
                -41.46524208454954
               ]
              ]
             ],
             "type": "Polygon"
            },
            "id": "0.9234378404578365,-0.782919447094776",
            "type": "Feature"
           },
           {
            "geometry": {
             "coordinates": [
              [
               [
                52.90909090090909,
                -39.67125797273608
               ],
               [
                53.5909090840909,
                -39.36759532075098
               ],
               [
                53.5909090840909,
                -38.756294291171216
               ],
               [
                52.90909090090909,
                -38.448661852041546
               ],
               [
                52.22727271772728,
                -38.756294291171216
               ],
               [
                52.22727271772728,
                -39.36759532075098
               ],
               [
                52.90909090090909,
                -39.67125797273608
               ]
              ]
             ],
             "type": "Polygon"
            },
            "id": "0.9234378404578365,-0.7416967341888256",
            "type": "Feature"
           },
           {
            "geometry": {
             "coordinates": [
              [
               [
                52.90909090090909,
                -37.82944920685779
               ],
               [
                53.5909090840909,
                -37.517875934254796
               ],
               [
                53.5909090840909,
                -36.89081409263251
               ],
               [
                52.90909090090909,
                -36.57533347919717
               ],
               [
                52.22727271772728,
                -36.89081409263251
               ],
               [
                52.22727271772728,
                -37.517875934254796
               ],
               [
                52.90909090090909,
                -37.82944920685779
               ]
              ]
             ],
             "type": "Polygon"
            },
            "id": "0.9234378404578365,-0.7004740212828753",
            "type": "Feature"
           },
           {
            "geometry": {
             "coordinates": [
              [
               [
                52.90909090090909,
                -35.940494058394584
               ],
               [
                53.5909090840909,
                -35.62114425423612
               ],
               [
                53.5909090840909,
                -34.97860829889037
               ],
               [
                52.90909090090909,
                -34.65543222216165
               ],
               [
                52.22727271772728,
                -34.97860829889037
               ],
               [
                52.22727271772728,
                -35.62114425423612
               ],
               [
                52.90909090090909,
                -35.940494058394584
               ]
              ]
             ],
             "type": "Polygon"
            },
            "id": "0.9234378404578365,-0.6592513083769249",
            "type": "Feature"
           },
           {
            "geometry": {
             "coordinates": [
              [
               [
                52.90909090090909,
                -34.00529041676964
               ],
               [
                53.5909090840909,
                -33.678335855357275
               ],
               [
                53.5909090840909,
                -33.02068871801436
               ],
               [
                52.90909090090909,
                -32.69000842137051
               ],
               [
                52.22727271772728,
                -33.02068871801436
               ],
               [
                52.22727271772728,
                -33.678335855357275
               ],
               [
                52.90909090090909,
                -34.00529041676964
               ]
              ]
             ],
             "type": "Polygon"
            },
            "id": "0.9234378404578365,-0.6180285954709746",
            "type": "Feature"
           },
           {
            "geometry": {
             "coordinates": [
              [
               [
                52.90909090090909,
                -32.024966476816466
               ],
               [
                53.5909090840909,
                -31.690618236956208
               ],
               [
                53.5909090840909,
                -31.01830216697947
               ],
               [
                52.90909090090909,
                -30.680348887673055
               ],
               [
                52.22727271772728,
                -31.01830216697947
               ],
               [
                52.22727271772728,
                -31.690618236956208
               ],
               [
                52.90909090090909,
                -32.024966476816466
               ]
              ]
             ],
             "type": "Polygon"
            },
            "id": "0.9234378404578365,-0.5768058825650242",
            "type": "Feature"
           },
           {
            "geometry": {
             "coordinates": [
              [
               [
                52.90909090090909,
                -30.0008896569427
               ],
               [
                53.5909090840909,
                -29.659399410144857
               ],
               [
                53.5909090840909,
                -28.97293836557683
               ],
               [
                52.90909090090909,
                -28.627984434159064
               ],
               [
                52.22727271772728,
                -28.97293836557683
               ],
               [
                52.22727271772728,
                -29.659399410144857
               ],
               [
                52.90909090090909,
                -30.0008896569427
               ]
              ]
             ],
             "type": "Polygon"
            },
            "id": "0.9234378404578365,-0.5355831696590738",
            "type": "Feature"
           },
           {
            "geometry": {
             "coordinates": [
              [
               [
                52.90909090090909,
                -27.934673375977997
               ],
               [
                53.5909090840909,
                -27.586334281862243
               ],
               [
                53.5909090840909,
                -26.8863355045969
               ],
               [
                52.90909090090909,
                -26.534695021431894
               ],
               [
                52.22727271772728,
                -26.8863355045969
               ],
               [
                52.22727271772728,
                -27.586334281862243
               ],
               [
                52.90909090090909,
                -27.934673375977997
               ]
              ]
             ],
             "type": "Polygon"
            },
            "id": "0.9234378404578365,-0.4943604567531234",
            "type": "Feature"
           },
           {
            "geometry": {
             "coordinates": [
              [
               [
                52.90909090090909,
                -25.828181323177716
               ],
               [
                53.5909090840909,
                -25.473328472753064
               ],
               [
                53.5909090840909,
                -24.760483131153798
               ],
               [
                52.90909090090909,
                -24.40251216281074
               ],
               [
                52.22727271772728,
                -24.760483131153798
               ],
               [
                52.22727271772728,
                -25.473328472753064
               ],
               [
                52.90909090090909,
                -25.828181323177716
               ]
              ]
             ],
             "type": "Polygon"
            },
            "id": "0.9234378404578365,-0.45313774384717304",
            "type": "Feature"
           },
           {
            "geometry": {
             "coordinates": [
              [
               [
                52.90909090090909,
                -23.68352887634965
               ],
               [
                53.5909090840909,
                -23.322539228722544
               ],
               [
                53.5909090840909,
                -22.597622022074045
               ],
               [
                52.90909090090909,
                -22.23371826658171
               ],
               [
                52.22727271772728,
                -22.597622022074045
               ],
               [
                52.22727271772728,
                -23.322539228722544
               ],
               [
                52.90909090090909,
                -23.68352887634965
               ]
              ]
             ],
             "type": "Polygon"
            },
            "id": "0.9234378404578365,-0.4119150309412226",
            "type": "Feature"
           },
           {
            "geometry": {
             "coordinates": [
              [
               [
                52.90909090090909,
                -21.503081358955768
               ],
               [
                53.5909090840909,
                -21.13637312455803
               ],
               [
                53.5909090840909,
                -20.400240760170597
               ],
               [
                52.90909090090909,
                -20.030842639010405
               ],
               [
                52.22727271772728,
                -20.400240760170597
               ],
               [
                52.22727271772728,
                -21.13637312455803
               ],
               [
                52.90909090090909,
                -21.503081358955768
               ]
              ]
             ],
             "type": "Polygon"
            },
            "id": "0.9234378404578365,-0.37069231803527225",
            "type": "Feature"
           },
           {
            "geometry": {
             "coordinates": [
              [
               [
                52.90909090090909,
                -19.289448879034072
               ],
               [
                53.5909090840909,
                -18.917480312700423
               ],
               [
                53.5909090840909,
                -18.17106878828689
               ],
               [
                52.90909090090909,
                -17.7966539345571
               ],
               [
                52.22727271772728,
                -18.17106878828689
               ],
               [
                52.22727271772728,
                -18.917480312700423
               ],
               [
                52.90909090090909,
                -19.289448879034072
               ]
              ]
             ],
             "type": "Polygon"
            },
            "id": "0.9234378404578365,-0.3294696051293219",
            "type": "Feature"
           },
           {
            "geometry": {
             "coordinates": [
              [
               [
                52.90909090090909,
                -17.04547756077712
               ],
               [
                53.5909090840909,
                -16.668745140827017
               ],
               [
                53.5909090840909,
                -15.91306579164077
               ],
               [
                52.90909090090909,
                -15.534148917848238
               ],
               [
                52.22727271772728,
                -15.91306579164077
               ],
               [
                52.22727271772728,
                -16.668745140827017
               ],
               [
                52.90909090090909,
                -17.04547756077712
               ]
              ]
             ],
             "type": "Polygon"
            },
            "id": "0.9234378404578365,-0.2882468922233715",
            "type": "Feature"
           },
           {
            "geometry": {
             "coordinates": [
              [
               [
                52.90909090090909,
                -14.774237062497322
               ],
               [
                53.5909090840909,
                -14.393273047106062
               ],
               [
                53.5909090840909,
                -13.629407348605179
               ],
               [
                52.90909090090909,
                -13.246537493660302
               ],
               [
                52.22727271772728,
                -13.629407348605179
               ],
               [
                52.22727271772728,
                -14.393273047106062
               ],
               [
                52.90909090090909,
                -14.774237062497322
               ]
              ]
             ],
             "type": "Polygon"
            },
            "id": "0.9234378404578365,-0.24702417931742116",
            "type": "Feature"
           },
           {
            "geometry": {
             "coordinates": [
              [
               [
                52.90909090090909,
                -12.479004370358245
               ],
               [
                53.5909090840909,
                -12.094373739472207
               ],
               [
                53.5909090840909,
                -11.323466890945843
               ],
               [
                52.90909090090909,
                -10.937224063599297
               ],
               [
                52.22727271772728,
                -11.323466890945843
               ],
               [
                52.22727271772728,
                -12.094373739472207
               ],
               [
                52.90909090090909,
                -12.479004370358245
               ]
              ]
             ],
             "type": "Polygon"
            },
            "id": "0.9234378404578365,-0.2058014664114708",
            "type": "Feature"
           },
           {
            "geometry": {
             "coordinates": [
              [
               [
                52.90909090090909,
                -10.163243962436015
               ],
               [
                53.5909090840909,
                -9.775540771664078
               ],
               [
                53.5909090840909,
                -8.9987941229748
               ],
               [
                52.90909090090909,
                -8.609785377429594
               ],
               [
                52.22727271772728,
                -8.9987941229748
               ],
               [
                52.22727271772728,
                -9.775540771664078
               ],
               [
                52.90909090090909,
                -10.163243962436015
               ]
              ]
             ],
             "type": "Polygon"
            },
            "id": "0.9234378404578365,-0.16457875350552043",
            "type": "Feature"
           },
           {
            "geometry": {
             "coordinates": [
              [
               [
                54.27272726727273,
                -43.21093079831662
               ],
               [
                54.95454545045454,
                -42.92335056484793
               ],
               [
                54.95454545045454,
                -42.344145034800086
               ],
               [
                54.27272726727273,
                -42.0525219941646
               ],
               [
                53.5909090840909,
                -42.344145034800086
               ],
               [
                53.5909090840909,
                -42.92335056484793
               ],
               [
                54.27272726727273,
                -43.21093079831662
               ]
              ]
             ],
             "type": "Polygon"
            },
            "id": "0.9472377848508136,-0.8241421600007264",
            "type": "Feature"
           },
           {
            "geometry": {
             "coordinates": [
              [
               [
                54.27272726727273,
                -41.46524208454954
               ],
               [
                54.95454545045454,
                -41.16958834542567
               ],
               [
                54.95454545045454,
                -40.57426224611941
               ],
               [
                54.27272726727273,
                -40.274593921456685
               ],
               [
                53.5909090840909,
                -40.57426224611941
               ],
               [
                53.5909090840909,
                -41.16958834542567
               ],
               [
                54.27272726727273,
                -41.46524208454954
               ]
              ]
             ],
             "type": "Polygon"
            },
            "id": "0.9472377848508136,-0.782919447094776",
            "type": "Feature"
           },
           {
            "geometry": {
             "coordinates": [
              [
               [
                54.27272726727273,
                -39.67125797273608
               ],
               [
                54.95454545045454,
                -39.36759532075098
               ],
               [
                54.95454545045454,
                -38.756294291171216
               ],
               [
                54.27272726727273,
                -38.448661852041546
               ],
               [
                53.5909090840909,
                -38.756294291171216
               ],
               [
                53.5909090840909,
                -39.36759532075098
               ],
               [
                54.27272726727273,
                -39.67125797273608
               ]
              ]
             ],
             "type": "Polygon"
            },
            "id": "0.9472377848508136,-0.7416967341888256",
            "type": "Feature"
           },
           {
            "geometry": {
             "coordinates": [
              [
               [
                54.27272726727273,
                -37.82944920685779
               ],
               [
                54.95454545045454,
                -37.517875934254796
               ],
               [
                54.95454545045454,
                -36.89081409263251
               ],
               [
                54.27272726727273,
                -36.57533347919717
               ],
               [
                53.5909090840909,
                -36.89081409263251
               ],
               [
                53.5909090840909,
                -37.517875934254796
               ],
               [
                54.27272726727273,
                -37.82944920685779
               ]
              ]
             ],
             "type": "Polygon"
            },
            "id": "0.9472377848508136,-0.7004740212828753",
            "type": "Feature"
           },
           {
            "geometry": {
             "coordinates": [
              [
               [
                54.27272726727273,
                -35.940494058394584
               ],
               [
                54.95454545045454,
                -35.62114425423612
               ],
               [
                54.95454545045454,
                -34.97860829889037
               ],
               [
                54.27272726727273,
                -34.65543222216165
               ],
               [
                53.5909090840909,
                -34.97860829889037
               ],
               [
                53.5909090840909,
                -35.62114425423612
               ],
               [
                54.27272726727273,
                -35.940494058394584
               ]
              ]
             ],
             "type": "Polygon"
            },
            "id": "0.9472377848508136,-0.6592513083769249",
            "type": "Feature"
           },
           {
            "geometry": {
             "coordinates": [
              [
               [
                54.27272726727273,
                -34.00529041676964
               ],
               [
                54.95454545045454,
                -33.678335855357275
               ],
               [
                54.95454545045454,
                -33.02068871801436
               ],
               [
                54.27272726727273,
                -32.69000842137051
               ],
               [
                53.5909090840909,
                -33.02068871801436
               ],
               [
                53.5909090840909,
                -33.678335855357275
               ],
               [
                54.27272726727273,
                -34.00529041676964
               ]
              ]
             ],
             "type": "Polygon"
            },
            "id": "0.9472377848508136,-0.6180285954709746",
            "type": "Feature"
           },
           {
            "geometry": {
             "coordinates": [
              [
               [
                54.27272726727273,
                -32.024966476816466
               ],
               [
                54.95454545045454,
                -31.690618236956208
               ],
               [
                54.95454545045454,
                -31.01830216697947
               ],
               [
                54.27272726727273,
                -30.680348887673055
               ],
               [
                53.5909090840909,
                -31.01830216697947
               ],
               [
                53.5909090840909,
                -31.690618236956208
               ],
               [
                54.27272726727273,
                -32.024966476816466
               ]
              ]
             ],
             "type": "Polygon"
            },
            "id": "0.9472377848508136,-0.5768058825650242",
            "type": "Feature"
           },
           {
            "geometry": {
             "coordinates": [
              [
               [
                54.27272726727273,
                -30.0008896569427
               ],
               [
                54.95454545045454,
                -29.659399410144857
               ],
               [
                54.95454545045454,
                -28.97293836557683
               ],
               [
                54.27272726727273,
                -28.627984434159064
               ],
               [
                53.5909090840909,
                -28.97293836557683
               ],
               [
                53.5909090840909,
                -29.659399410144857
               ],
               [
                54.27272726727273,
                -30.0008896569427
               ]
              ]
             ],
             "type": "Polygon"
            },
            "id": "0.9472377848508136,-0.5355831696590738",
            "type": "Feature"
           },
           {
            "geometry": {
             "coordinates": [
              [
               [
                54.27272726727273,
                -27.934673375977997
               ],
               [
                54.95454545045454,
                -27.586334281862243
               ],
               [
                54.95454545045454,
                -26.8863355045969
               ],
               [
                54.27272726727273,
                -26.534695021431894
               ],
               [
                53.5909090840909,
                -26.8863355045969
               ],
               [
                53.5909090840909,
                -27.586334281862243
               ],
               [
                54.27272726727273,
                -27.934673375977997
               ]
              ]
             ],
             "type": "Polygon"
            },
            "id": "0.9472377848508136,-0.4943604567531234",
            "type": "Feature"
           },
           {
            "geometry": {
             "coordinates": [
              [
               [
                54.27272726727273,
                -25.828181323177716
               ],
               [
                54.95454545045454,
                -25.473328472753064
               ],
               [
                54.95454545045454,
                -24.760483131153798
               ],
               [
                54.27272726727273,
                -24.40251216281074
               ],
               [
                53.5909090840909,
                -24.760483131153798
               ],
               [
                53.5909090840909,
                -25.473328472753064
               ],
               [
                54.27272726727273,
                -25.828181323177716
               ]
              ]
             ],
             "type": "Polygon"
            },
            "id": "0.9472377848508136,-0.45313774384717304",
            "type": "Feature"
           },
           {
            "geometry": {
             "coordinates": [
              [
               [
                54.27272726727273,
                -23.68352887634965
               ],
               [
                54.95454545045454,
                -23.322539228722544
               ],
               [
                54.95454545045454,
                -22.597622022074045
               ],
               [
                54.27272726727273,
                -22.23371826658171
               ],
               [
                53.5909090840909,
                -22.597622022074045
               ],
               [
                53.5909090840909,
                -23.322539228722544
               ],
               [
                54.27272726727273,
                -23.68352887634965
               ]
              ]
             ],
             "type": "Polygon"
            },
            "id": "0.9472377848508136,-0.4119150309412226",
            "type": "Feature"
           },
           {
            "geometry": {
             "coordinates": [
              [
               [
                54.27272726727273,
                -21.503081358955768
               ],
               [
                54.95454545045454,
                -21.13637312455803
               ],
               [
                54.95454545045454,
                -20.400240760170597
               ],
               [
                54.27272726727273,
                -20.030842639010405
               ],
               [
                53.5909090840909,
                -20.400240760170597
               ],
               [
                53.5909090840909,
                -21.13637312455803
               ],
               [
                54.27272726727273,
                -21.503081358955768
               ]
              ]
             ],
             "type": "Polygon"
            },
            "id": "0.9472377848508136,-0.37069231803527225",
            "type": "Feature"
           },
           {
            "geometry": {
             "coordinates": [
              [
               [
                54.27272726727273,
                -19.289448879034072
               ],
               [
                54.95454545045454,
                -18.917480312700423
               ],
               [
                54.95454545045454,
                -18.17106878828689
               ],
               [
                54.27272726727273,
                -17.7966539345571
               ],
               [
                53.5909090840909,
                -18.17106878828689
               ],
               [
                53.5909090840909,
                -18.917480312700423
               ],
               [
                54.27272726727273,
                -19.289448879034072
               ]
              ]
             ],
             "type": "Polygon"
            },
            "id": "0.9472377848508136,-0.3294696051293219",
            "type": "Feature"
           },
           {
            "geometry": {
             "coordinates": [
              [
               [
                54.27272726727273,
                -17.04547756077712
               ],
               [
                54.95454545045454,
                -16.668745140827017
               ],
               [
                54.95454545045454,
                -15.91306579164077
               ],
               [
                54.27272726727273,
                -15.534148917848238
               ],
               [
                53.5909090840909,
                -15.91306579164077
               ],
               [
                53.5909090840909,
                -16.668745140827017
               ],
               [
                54.27272726727273,
                -17.04547756077712
               ]
              ]
             ],
             "type": "Polygon"
            },
            "id": "0.9472377848508136,-0.2882468922233715",
            "type": "Feature"
           },
           {
            "geometry": {
             "coordinates": [
              [
               [
                54.27272726727273,
                -14.774237062497322
               ],
               [
                54.95454545045454,
                -14.393273047106062
               ],
               [
                54.95454545045454,
                -13.629407348605179
               ],
               [
                54.27272726727273,
                -13.246537493660302
               ],
               [
                53.5909090840909,
                -13.629407348605179
               ],
               [
                53.5909090840909,
                -14.393273047106062
               ],
               [
                54.27272726727273,
                -14.774237062497322
               ]
              ]
             ],
             "type": "Polygon"
            },
            "id": "0.9472377848508136,-0.24702417931742116",
            "type": "Feature"
           },
           {
            "geometry": {
             "coordinates": [
              [
               [
                54.27272726727273,
                -12.479004370358245
               ],
               [
                54.95454545045454,
                -12.094373739472207
               ],
               [
                54.95454545045454,
                -11.323466890945843
               ],
               [
                54.27272726727273,
                -10.937224063599297
               ],
               [
                53.5909090840909,
                -11.323466890945843
               ],
               [
                53.5909090840909,
                -12.094373739472207
               ],
               [
                54.27272726727273,
                -12.479004370358245
               ]
              ]
             ],
             "type": "Polygon"
            },
            "id": "0.9472377848508136,-0.2058014664114708",
            "type": "Feature"
           },
           {
            "geometry": {
             "coordinates": [
              [
               [
                54.27272726727273,
                -10.163243962436015
               ],
               [
                54.95454545045454,
                -9.775540771664078
               ],
               [
                54.95454545045454,
                -8.9987941229748
               ],
               [
                54.27272726727273,
                -8.609785377429594
               ],
               [
                53.5909090840909,
                -8.9987941229748
               ],
               [
                53.5909090840909,
                -9.775540771664078
               ],
               [
                54.27272726727273,
                -10.163243962436015
               ]
              ]
             ],
             "type": "Polygon"
            },
            "id": "0.9472377848508136,-0.16457875350552043",
            "type": "Feature"
           },
           {
            "geometry": {
             "coordinates": [
              [
               [
                55.636363633636364,
                -43.21093079831662
               ],
               [
                56.31818181681818,
                -42.92335056484793
               ],
               [
                56.31818181681818,
                -42.344145034800086
               ],
               [
                55.636363633636364,
                -42.0525219941646
               ],
               [
                54.954545450454546,
                -42.344145034800086
               ],
               [
                54.954545450454546,
                -42.92335056484793
               ],
               [
                55.636363633636364,
                -43.21093079831662
               ]
              ]
             ],
             "type": "Polygon"
            },
            "id": "0.9710377292437907,-0.8241421600007264",
            "type": "Feature"
           },
           {
            "geometry": {
             "coordinates": [
              [
               [
                55.636363633636364,
                -41.46524208454954
               ],
               [
                56.31818181681818,
                -41.16958834542567
               ],
               [
                56.31818181681818,
                -40.57426224611941
               ],
               [
                55.636363633636364,
                -40.274593921456685
               ],
               [
                54.954545450454546,
                -40.57426224611941
               ],
               [
                54.954545450454546,
                -41.16958834542567
               ],
               [
                55.636363633636364,
                -41.46524208454954
               ]
              ]
             ],
             "type": "Polygon"
            },
            "id": "0.9710377292437907,-0.782919447094776",
            "type": "Feature"
           },
           {
            "geometry": {
             "coordinates": [
              [
               [
                55.636363633636364,
                -39.67125797273608
               ],
               [
                56.31818181681818,
                -39.36759532075098
               ],
               [
                56.31818181681818,
                -38.756294291171216
               ],
               [
                55.636363633636364,
                -38.448661852041546
               ],
               [
                54.954545450454546,
                -38.756294291171216
               ],
               [
                54.954545450454546,
                -39.36759532075098
               ],
               [
                55.636363633636364,
                -39.67125797273608
               ]
              ]
             ],
             "type": "Polygon"
            },
            "id": "0.9710377292437907,-0.7416967341888256",
            "type": "Feature"
           },
           {
            "geometry": {
             "coordinates": [
              [
               [
                55.636363633636364,
                -37.82944920685779
               ],
               [
                56.31818181681818,
                -37.517875934254796
               ],
               [
                56.31818181681818,
                -36.89081409263251
               ],
               [
                55.636363633636364,
                -36.57533347919717
               ],
               [
                54.954545450454546,
                -36.89081409263251
               ],
               [
                54.954545450454546,
                -37.517875934254796
               ],
               [
                55.636363633636364,
                -37.82944920685779
               ]
              ]
             ],
             "type": "Polygon"
            },
            "id": "0.9710377292437907,-0.7004740212828753",
            "type": "Feature"
           },
           {
            "geometry": {
             "coordinates": [
              [
               [
                55.636363633636364,
                -35.940494058394584
               ],
               [
                56.31818181681818,
                -35.62114425423612
               ],
               [
                56.31818181681818,
                -34.97860829889037
               ],
               [
                55.636363633636364,
                -34.65543222216165
               ],
               [
                54.954545450454546,
                -34.97860829889037
               ],
               [
                54.954545450454546,
                -35.62114425423612
               ],
               [
                55.636363633636364,
                -35.940494058394584
               ]
              ]
             ],
             "type": "Polygon"
            },
            "id": "0.9710377292437907,-0.6592513083769249",
            "type": "Feature"
           },
           {
            "geometry": {
             "coordinates": [
              [
               [
                55.636363633636364,
                -34.00529041676964
               ],
               [
                56.31818181681818,
                -33.678335855357275
               ],
               [
                56.31818181681818,
                -33.02068871801436
               ],
               [
                55.636363633636364,
                -32.69000842137051
               ],
               [
                54.954545450454546,
                -33.02068871801436
               ],
               [
                54.954545450454546,
                -33.678335855357275
               ],
               [
                55.636363633636364,
                -34.00529041676964
               ]
              ]
             ],
             "type": "Polygon"
            },
            "id": "0.9710377292437907,-0.6180285954709746",
            "type": "Feature"
           },
           {
            "geometry": {
             "coordinates": [
              [
               [
                55.636363633636364,
                -32.024966476816466
               ],
               [
                56.31818181681818,
                -31.690618236956208
               ],
               [
                56.31818181681818,
                -31.01830216697947
               ],
               [
                55.636363633636364,
                -30.680348887673055
               ],
               [
                54.954545450454546,
                -31.01830216697947
               ],
               [
                54.954545450454546,
                -31.690618236956208
               ],
               [
                55.636363633636364,
                -32.024966476816466
               ]
              ]
             ],
             "type": "Polygon"
            },
            "id": "0.9710377292437907,-0.5768058825650242",
            "type": "Feature"
           },
           {
            "geometry": {
             "coordinates": [
              [
               [
                55.636363633636364,
                -30.0008896569427
               ],
               [
                56.31818181681818,
                -29.659399410144857
               ],
               [
                56.31818181681818,
                -28.97293836557683
               ],
               [
                55.636363633636364,
                -28.627984434159064
               ],
               [
                54.954545450454546,
                -28.97293836557683
               ],
               [
                54.954545450454546,
                -29.659399410144857
               ],
               [
                55.636363633636364,
                -30.0008896569427
               ]
              ]
             ],
             "type": "Polygon"
            },
            "id": "0.9710377292437907,-0.5355831696590738",
            "type": "Feature"
           },
           {
            "geometry": {
             "coordinates": [
              [
               [
                55.636363633636364,
                -27.934673375977997
               ],
               [
                56.31818181681818,
                -27.586334281862243
               ],
               [
                56.31818181681818,
                -26.8863355045969
               ],
               [
                55.636363633636364,
                -26.534695021431894
               ],
               [
                54.954545450454546,
                -26.8863355045969
               ],
               [
                54.954545450454546,
                -27.586334281862243
               ],
               [
                55.636363633636364,
                -27.934673375977997
               ]
              ]
             ],
             "type": "Polygon"
            },
            "id": "0.9710377292437907,-0.4943604567531234",
            "type": "Feature"
           },
           {
            "geometry": {
             "coordinates": [
              [
               [
                55.636363633636364,
                -25.828181323177716
               ],
               [
                56.31818181681818,
                -25.473328472753064
               ],
               [
                56.31818181681818,
                -24.760483131153798
               ],
               [
                55.636363633636364,
                -24.40251216281074
               ],
               [
                54.954545450454546,
                -24.760483131153798
               ],
               [
                54.954545450454546,
                -25.473328472753064
               ],
               [
                55.636363633636364,
                -25.828181323177716
               ]
              ]
             ],
             "type": "Polygon"
            },
            "id": "0.9710377292437907,-0.45313774384717304",
            "type": "Feature"
           },
           {
            "geometry": {
             "coordinates": [
              [
               [
                55.636363633636364,
                -23.68352887634965
               ],
               [
                56.31818181681818,
                -23.322539228722544
               ],
               [
                56.31818181681818,
                -22.597622022074045
               ],
               [
                55.636363633636364,
                -22.23371826658171
               ],
               [
                54.954545450454546,
                -22.597622022074045
               ],
               [
                54.954545450454546,
                -23.322539228722544
               ],
               [
                55.636363633636364,
                -23.68352887634965
               ]
              ]
             ],
             "type": "Polygon"
            },
            "id": "0.9710377292437907,-0.4119150309412226",
            "type": "Feature"
           },
           {
            "geometry": {
             "coordinates": [
              [
               [
                55.636363633636364,
                -21.503081358955768
               ],
               [
                56.31818181681818,
                -21.13637312455803
               ],
               [
                56.31818181681818,
                -20.400240760170597
               ],
               [
                55.636363633636364,
                -20.030842639010405
               ],
               [
                54.954545450454546,
                -20.400240760170597
               ],
               [
                54.954545450454546,
                -21.13637312455803
               ],
               [
                55.636363633636364,
                -21.503081358955768
               ]
              ]
             ],
             "type": "Polygon"
            },
            "id": "0.9710377292437907,-0.37069231803527225",
            "type": "Feature"
           },
           {
            "geometry": {
             "coordinates": [
              [
               [
                55.636363633636364,
                -19.289448879034072
               ],
               [
                56.31818181681818,
                -18.917480312700423
               ],
               [
                56.31818181681818,
                -18.17106878828689
               ],
               [
                55.636363633636364,
                -17.7966539345571
               ],
               [
                54.954545450454546,
                -18.17106878828689
               ],
               [
                54.954545450454546,
                -18.917480312700423
               ],
               [
                55.636363633636364,
                -19.289448879034072
               ]
              ]
             ],
             "type": "Polygon"
            },
            "id": "0.9710377292437907,-0.3294696051293219",
            "type": "Feature"
           },
           {
            "geometry": {
             "coordinates": [
              [
               [
                55.636363633636364,
                -17.04547756077712
               ],
               [
                56.31818181681818,
                -16.668745140827017
               ],
               [
                56.31818181681818,
                -15.91306579164077
               ],
               [
                55.636363633636364,
                -15.534148917848238
               ],
               [
                54.954545450454546,
                -15.91306579164077
               ],
               [
                54.954545450454546,
                -16.668745140827017
               ],
               [
                55.636363633636364,
                -17.04547756077712
               ]
              ]
             ],
             "type": "Polygon"
            },
            "id": "0.9710377292437907,-0.2882468922233715",
            "type": "Feature"
           },
           {
            "geometry": {
             "coordinates": [
              [
               [
                55.636363633636364,
                -14.774237062497322
               ],
               [
                56.31818181681818,
                -14.393273047106062
               ],
               [
                56.31818181681818,
                -13.629407348605179
               ],
               [
                55.636363633636364,
                -13.246537493660302
               ],
               [
                54.954545450454546,
                -13.629407348605179
               ],
               [
                54.954545450454546,
                -14.393273047106062
               ],
               [
                55.636363633636364,
                -14.774237062497322
               ]
              ]
             ],
             "type": "Polygon"
            },
            "id": "0.9710377292437907,-0.24702417931742116",
            "type": "Feature"
           },
           {
            "geometry": {
             "coordinates": [
              [
               [
                55.636363633636364,
                -12.479004370358245
               ],
               [
                56.31818181681818,
                -12.094373739472207
               ],
               [
                56.31818181681818,
                -11.323466890945843
               ],
               [
                55.636363633636364,
                -10.937224063599297
               ],
               [
                54.954545450454546,
                -11.323466890945843
               ],
               [
                54.954545450454546,
                -12.094373739472207
               ],
               [
                55.636363633636364,
                -12.479004370358245
               ]
              ]
             ],
             "type": "Polygon"
            },
            "id": "0.9710377292437907,-0.2058014664114708",
            "type": "Feature"
           },
           {
            "geometry": {
             "coordinates": [
              [
               [
                57,
                -43.21093079831662
               ],
               [
                57.68181818318182,
                -42.92335056484793
               ],
               [
                57.68181818318182,
                -42.344145034800086
               ],
               [
                57,
                -42.0525219941646
               ],
               [
                56.31818181681818,
                -42.344145034800086
               ],
               [
                56.31818181681818,
                -42.92335056484793
               ],
               [
                57,
                -43.21093079831662
               ]
              ]
             ],
             "type": "Polygon"
            },
            "id": "0.9948376736367678,-0.8241421600007264",
            "type": "Feature"
           },
           {
            "geometry": {
             "coordinates": [
              [
               [
                57,
                -41.46524208454954
               ],
               [
                57.68181818318182,
                -41.16958834542567
               ],
               [
                57.68181818318182,
                -40.57426224611941
               ],
               [
                57,
                -40.274593921456685
               ],
               [
                56.31818181681818,
                -40.57426224611941
               ],
               [
                56.31818181681818,
                -41.16958834542567
               ],
               [
                57,
                -41.46524208454954
               ]
              ]
             ],
             "type": "Polygon"
            },
            "id": "0.9948376736367678,-0.782919447094776",
            "type": "Feature"
           },
           {
            "geometry": {
             "coordinates": [
              [
               [
                57,
                -39.67125797273608
               ],
               [
                57.68181818318182,
                -39.36759532075098
               ],
               [
                57.68181818318182,
                -38.756294291171216
               ],
               [
                57,
                -38.448661852041546
               ],
               [
                56.31818181681818,
                -38.756294291171216
               ],
               [
                56.31818181681818,
                -39.36759532075098
               ],
               [
                57,
                -39.67125797273608
               ]
              ]
             ],
             "type": "Polygon"
            },
            "id": "0.9948376736367678,-0.7416967341888256",
            "type": "Feature"
           },
           {
            "geometry": {
             "coordinates": [
              [
               [
                57,
                -37.82944920685779
               ],
               [
                57.68181818318182,
                -37.517875934254796
               ],
               [
                57.68181818318182,
                -36.89081409263251
               ],
               [
                57,
                -36.57533347919717
               ],
               [
                56.31818181681818,
                -36.89081409263251
               ],
               [
                56.31818181681818,
                -37.517875934254796
               ],
               [
                57,
                -37.82944920685779
               ]
              ]
             ],
             "type": "Polygon"
            },
            "id": "0.9948376736367678,-0.7004740212828753",
            "type": "Feature"
           },
           {
            "geometry": {
             "coordinates": [
              [
               [
                57,
                -35.940494058394584
               ],
               [
                57.68181818318182,
                -35.62114425423612
               ],
               [
                57.68181818318182,
                -34.97860829889037
               ],
               [
                57,
                -34.65543222216165
               ],
               [
                56.31818181681818,
                -34.97860829889037
               ],
               [
                56.31818181681818,
                -35.62114425423612
               ],
               [
                57,
                -35.940494058394584
               ]
              ]
             ],
             "type": "Polygon"
            },
            "id": "0.9948376736367678,-0.6592513083769249",
            "type": "Feature"
           },
           {
            "geometry": {
             "coordinates": [
              [
               [
                57,
                -34.00529041676964
               ],
               [
                57.68181818318182,
                -33.678335855357275
               ],
               [
                57.68181818318182,
                -33.02068871801436
               ],
               [
                57,
                -32.69000842137051
               ],
               [
                56.31818181681818,
                -33.02068871801436
               ],
               [
                56.31818181681818,
                -33.678335855357275
               ],
               [
                57,
                -34.00529041676964
               ]
              ]
             ],
             "type": "Polygon"
            },
            "id": "0.9948376736367678,-0.6180285954709746",
            "type": "Feature"
           },
           {
            "geometry": {
             "coordinates": [
              [
               [
                57,
                -32.024966476816466
               ],
               [
                57.68181818318182,
                -31.690618236956208
               ],
               [
                57.68181818318182,
                -31.01830216697947
               ],
               [
                57,
                -30.680348887673055
               ],
               [
                56.31818181681818,
                -31.01830216697947
               ],
               [
                56.31818181681818,
                -31.690618236956208
               ],
               [
                57,
                -32.024966476816466
               ]
              ]
             ],
             "type": "Polygon"
            },
            "id": "0.9948376736367678,-0.5768058825650242",
            "type": "Feature"
           },
           {
            "geometry": {
             "coordinates": [
              [
               [
                57,
                -30.0008896569427
               ],
               [
                57.68181818318182,
                -29.659399410144857
               ],
               [
                57.68181818318182,
                -28.97293836557683
               ],
               [
                57,
                -28.627984434159064
               ],
               [
                56.31818181681818,
                -28.97293836557683
               ],
               [
                56.31818181681818,
                -29.659399410144857
               ],
               [
                57,
                -30.0008896569427
               ]
              ]
             ],
             "type": "Polygon"
            },
            "id": "0.9948376736367678,-0.5355831696590738",
            "type": "Feature"
           },
           {
            "geometry": {
             "coordinates": [
              [
               [
                57,
                -27.934673375977997
               ],
               [
                57.68181818318182,
                -27.586334281862243
               ],
               [
                57.68181818318182,
                -26.8863355045969
               ],
               [
                57,
                -26.534695021431894
               ],
               [
                56.31818181681818,
                -26.8863355045969
               ],
               [
                56.31818181681818,
                -27.586334281862243
               ],
               [
                57,
                -27.934673375977997
               ]
              ]
             ],
             "type": "Polygon"
            },
            "id": "0.9948376736367678,-0.4943604567531234",
            "type": "Feature"
           },
           {
            "geometry": {
             "coordinates": [
              [
               [
                57,
                -25.828181323177716
               ],
               [
                57.68181818318182,
                -25.473328472753064
               ],
               [
                57.68181818318182,
                -24.760483131153798
               ],
               [
                57,
                -24.40251216281074
               ],
               [
                56.31818181681818,
                -24.760483131153798
               ],
               [
                56.31818181681818,
                -25.473328472753064
               ],
               [
                57,
                -25.828181323177716
               ]
              ]
             ],
             "type": "Polygon"
            },
            "id": "0.9948376736367678,-0.45313774384717304",
            "type": "Feature"
           },
           {
            "geometry": {
             "coordinates": [
              [
               [
                57,
                -23.68352887634965
               ],
               [
                57.68181818318182,
                -23.322539228722544
               ],
               [
                57.68181818318182,
                -22.597622022074045
               ],
               [
                57,
                -22.23371826658171
               ],
               [
                56.31818181681818,
                -22.597622022074045
               ],
               [
                56.31818181681818,
                -23.322539228722544
               ],
               [
                57,
                -23.68352887634965
               ]
              ]
             ],
             "type": "Polygon"
            },
            "id": "0.9948376736367678,-0.4119150309412226",
            "type": "Feature"
           },
           {
            "geometry": {
             "coordinates": [
              [
               [
                57,
                -21.503081358955768
               ],
               [
                57.68181818318182,
                -21.13637312455803
               ],
               [
                57.68181818318182,
                -20.400240760170597
               ],
               [
                57,
                -20.030842639010405
               ],
               [
                56.31818181681818,
                -20.400240760170597
               ],
               [
                56.31818181681818,
                -21.13637312455803
               ],
               [
                57,
                -21.503081358955768
               ]
              ]
             ],
             "type": "Polygon"
            },
            "id": "0.9948376736367678,-0.37069231803527225",
            "type": "Feature"
           },
           {
            "geometry": {
             "coordinates": [
              [
               [
                57,
                -19.289448879034072
               ],
               [
                57.68181818318182,
                -18.917480312700423
               ],
               [
                57.68181818318182,
                -18.17106878828689
               ],
               [
                57,
                -17.7966539345571
               ],
               [
                56.31818181681818,
                -18.17106878828689
               ],
               [
                56.31818181681818,
                -18.917480312700423
               ],
               [
                57,
                -19.289448879034072
               ]
              ]
             ],
             "type": "Polygon"
            },
            "id": "0.9948376736367678,-0.3294696051293219",
            "type": "Feature"
           },
           {
            "geometry": {
             "coordinates": [
              [
               [
                57,
                -17.04547756077712
               ],
               [
                57.68181818318182,
                -16.668745140827017
               ],
               [
                57.68181818318182,
                -15.91306579164077
               ],
               [
                57,
                -15.534148917848238
               ],
               [
                56.31818181681818,
                -15.91306579164077
               ],
               [
                56.31818181681818,
                -16.668745140827017
               ],
               [
                57,
                -17.04547756077712
               ]
              ]
             ],
             "type": "Polygon"
            },
            "id": "0.9948376736367678,-0.2882468922233715",
            "type": "Feature"
           },
           {
            "geometry": {
             "coordinates": [
              [
               [
                57,
                -14.774237062497322
               ],
               [
                57.68181818318182,
                -14.393273047106062
               ],
               [
                57.68181818318182,
                -13.629407348605179
               ],
               [
                57,
                -13.246537493660302
               ],
               [
                56.31818181681818,
                -13.629407348605179
               ],
               [
                56.31818181681818,
                -14.393273047106062
               ],
               [
                57,
                -14.774237062497322
               ]
              ]
             ],
             "type": "Polygon"
            },
            "id": "0.9948376736367678,-0.24702417931742116",
            "type": "Feature"
           },
           {
            "geometry": {
             "coordinates": [
              [
               [
                58.36363636636364,
                -44.90804775470793
               ],
               [
                59.045454549545454,
                -44.62857416958301
               ],
               [
                59.045454549545454,
                -44.06557080109546
               ],
               [
                58.36363636636364,
                -43.782041623674104
               ],
               [
                57.68181818318182,
                -44.06557080109546
               ],
               [
                57.68181818318182,
                -44.62857416958301
               ],
               [
                58.36363636636364,
                -44.90804775470793
               ]
              ]
             ],
             "type": "Polygon"
            },
            "id": "1.018637618029745,-0.8653648729066767",
            "type": "Feature"
           },
           {
            "geometry": {
             "coordinates": [
              [
               [
                58.36363636636364,
                -43.21093079831662
               ],
               [
                59.045454549545454,
                -42.92335056484793
               ],
               [
                59.045454549545454,
                -42.344145034800086
               ],
               [
                58.36363636636364,
                -42.0525219941646
               ],
               [
                57.68181818318182,
                -42.344145034800086
               ],
               [
                57.68181818318182,
                -42.92335056484793
               ],
               [
                58.36363636636364,
                -43.21093079831662
               ]
              ]
             ],
             "type": "Polygon"
            },
            "id": "1.018637618029745,-0.8241421600007264",
            "type": "Feature"
           },
           {
            "geometry": {
             "coordinates": [
              [
               [
                58.36363636636364,
                -41.46524208454954
               ],
               [
                59.045454549545454,
                -41.16958834542567
               ],
               [
                59.045454549545454,
                -40.57426224611941
               ],
               [
                58.36363636636364,
                -40.274593921456685
               ],
               [
                57.68181818318182,
                -40.57426224611941
               ],
               [
                57.68181818318182,
                -41.16958834542567
               ],
               [
                58.36363636636364,
                -41.46524208454954
               ]
              ]
             ],
             "type": "Polygon"
            },
            "id": "1.018637618029745,-0.782919447094776",
            "type": "Feature"
           },
           {
            "geometry": {
             "coordinates": [
              [
               [
                58.36363636636364,
                -39.67125797273608
               ],
               [
                59.045454549545454,
                -39.36759532075098
               ],
               [
                59.045454549545454,
                -38.756294291171216
               ],
               [
                58.36363636636364,
                -38.448661852041546
               ],
               [
                57.68181818318182,
                -38.756294291171216
               ],
               [
                57.68181818318182,
                -39.36759532075098
               ],
               [
                58.36363636636364,
                -39.67125797273608
               ]
              ]
             ],
             "type": "Polygon"
            },
            "id": "1.018637618029745,-0.7416967341888256",
            "type": "Feature"
           },
           {
            "geometry": {
             "coordinates": [
              [
               [
                58.36363636636364,
                -37.82944920685779
               ],
               [
                59.045454549545454,
                -37.517875934254796
               ],
               [
                59.045454549545454,
                -36.89081409263251
               ],
               [
                58.36363636636364,
                -36.57533347919717
               ],
               [
                57.68181818318182,
                -36.89081409263251
               ],
               [
                57.68181818318182,
                -37.517875934254796
               ],
               [
                58.36363636636364,
                -37.82944920685779
               ]
              ]
             ],
             "type": "Polygon"
            },
            "id": "1.018637618029745,-0.7004740212828753",
            "type": "Feature"
           },
           {
            "geometry": {
             "coordinates": [
              [
               [
                58.36363636636364,
                -35.940494058394584
               ],
               [
                59.045454549545454,
                -35.62114425423612
               ],
               [
                59.045454549545454,
                -34.97860829889037
               ],
               [
                58.36363636636364,
                -34.65543222216165
               ],
               [
                57.68181818318182,
                -34.97860829889037
               ],
               [
                57.68181818318182,
                -35.62114425423612
               ],
               [
                58.36363636636364,
                -35.940494058394584
               ]
              ]
             ],
             "type": "Polygon"
            },
            "id": "1.018637618029745,-0.6592513083769249",
            "type": "Feature"
           },
           {
            "geometry": {
             "coordinates": [
              [
               [
                58.36363636636364,
                -34.00529041676964
               ],
               [
                59.045454549545454,
                -33.678335855357275
               ],
               [
                59.045454549545454,
                -33.02068871801436
               ],
               [
                58.36363636636364,
                -32.69000842137051
               ],
               [
                57.68181818318182,
                -33.02068871801436
               ],
               [
                57.68181818318182,
                -33.678335855357275
               ],
               [
                58.36363636636364,
                -34.00529041676964
               ]
              ]
             ],
             "type": "Polygon"
            },
            "id": "1.018637618029745,-0.6180285954709746",
            "type": "Feature"
           },
           {
            "geometry": {
             "coordinates": [
              [
               [
                58.36363636636364,
                -32.024966476816466
               ],
               [
                59.045454549545454,
                -31.690618236956208
               ],
               [
                59.045454549545454,
                -31.01830216697947
               ],
               [
                58.36363636636364,
                -30.680348887673055
               ],
               [
                57.68181818318182,
                -31.01830216697947
               ],
               [
                57.68181818318182,
                -31.690618236956208
               ],
               [
                58.36363636636364,
                -32.024966476816466
               ]
              ]
             ],
             "type": "Polygon"
            },
            "id": "1.018637618029745,-0.5768058825650242",
            "type": "Feature"
           },
           {
            "geometry": {
             "coordinates": [
              [
               [
                58.36363636636364,
                -30.0008896569427
               ],
               [
                59.045454549545454,
                -29.659399410144857
               ],
               [
                59.045454549545454,
                -28.97293836557683
               ],
               [
                58.36363636636364,
                -28.627984434159064
               ],
               [
                57.68181818318182,
                -28.97293836557683
               ],
               [
                57.68181818318182,
                -29.659399410144857
               ],
               [
                58.36363636636364,
                -30.0008896569427
               ]
              ]
             ],
             "type": "Polygon"
            },
            "id": "1.018637618029745,-0.5355831696590738",
            "type": "Feature"
           },
           {
            "geometry": {
             "coordinates": [
              [
               [
                58.36363636636364,
                -27.934673375977997
               ],
               [
                59.045454549545454,
                -27.586334281862243
               ],
               [
                59.045454549545454,
                -26.8863355045969
               ],
               [
                58.36363636636364,
                -26.534695021431894
               ],
               [
                57.68181818318182,
                -26.8863355045969
               ],
               [
                57.68181818318182,
                -27.586334281862243
               ],
               [
                58.36363636636364,
                -27.934673375977997
               ]
              ]
             ],
             "type": "Polygon"
            },
            "id": "1.018637618029745,-0.4943604567531234",
            "type": "Feature"
           },
           {
            "geometry": {
             "coordinates": [
              [
               [
                58.36363636636364,
                -25.828181323177716
               ],
               [
                59.045454549545454,
                -25.473328472753064
               ],
               [
                59.045454549545454,
                -24.760483131153798
               ],
               [
                58.36363636636364,
                -24.40251216281074
               ],
               [
                57.68181818318182,
                -24.760483131153798
               ],
               [
                57.68181818318182,
                -25.473328472753064
               ],
               [
                58.36363636636364,
                -25.828181323177716
               ]
              ]
             ],
             "type": "Polygon"
            },
            "id": "1.018637618029745,-0.45313774384717304",
            "type": "Feature"
           },
           {
            "geometry": {
             "coordinates": [
              [
               [
                58.36363636636364,
                -23.68352887634965
               ],
               [
                59.045454549545454,
                -23.322539228722544
               ],
               [
                59.045454549545454,
                -22.597622022074045
               ],
               [
                58.36363636636364,
                -22.23371826658171
               ],
               [
                57.68181818318182,
                -22.597622022074045
               ],
               [
                57.68181818318182,
                -23.322539228722544
               ],
               [
                58.36363636636364,
                -23.68352887634965
               ]
              ]
             ],
             "type": "Polygon"
            },
            "id": "1.018637618029745,-0.4119150309412226",
            "type": "Feature"
           },
           {
            "geometry": {
             "coordinates": [
              [
               [
                58.36363636636364,
                -21.503081358955768
               ],
               [
                59.045454549545454,
                -21.13637312455803
               ],
               [
                59.045454549545454,
                -20.400240760170597
               ],
               [
                58.36363636636364,
                -20.030842639010405
               ],
               [
                57.68181818318182,
                -20.400240760170597
               ],
               [
                57.68181818318182,
                -21.13637312455803
               ],
               [
                58.36363636636364,
                -21.503081358955768
               ]
              ]
             ],
             "type": "Polygon"
            },
            "id": "1.018637618029745,-0.37069231803527225",
            "type": "Feature"
           },
           {
            "geometry": {
             "coordinates": [
              [
               [
                58.36363636636364,
                -19.289448879034072
               ],
               [
                59.045454549545454,
                -18.917480312700423
               ],
               [
                59.045454549545454,
                -18.17106878828689
               ],
               [
                58.36363636636364,
                -17.7966539345571
               ],
               [
                57.68181818318182,
                -18.17106878828689
               ],
               [
                57.68181818318182,
                -18.917480312700423
               ],
               [
                58.36363636636364,
                -19.289448879034072
               ]
              ]
             ],
             "type": "Polygon"
            },
            "id": "1.018637618029745,-0.3294696051293219",
            "type": "Feature"
           },
           {
            "geometry": {
             "coordinates": [
              [
               [
                58.36363636636364,
                -17.04547756077712
               ],
               [
                59.045454549545454,
                -16.668745140827017
               ],
               [
                59.045454549545454,
                -15.91306579164077
               ],
               [
                58.36363636636364,
                -15.534148917848238
               ],
               [
                57.68181818318182,
                -15.91306579164077
               ],
               [
                57.68181818318182,
                -16.668745140827017
               ],
               [
                58.36363636636364,
                -17.04547756077712
               ]
              ]
             ],
             "type": "Polygon"
            },
            "id": "1.018637618029745,-0.2882468922233715",
            "type": "Feature"
           },
           {
            "geometry": {
             "coordinates": [
              [
               [
                58.36363636636364,
                -14.774237062497322
               ],
               [
                59.045454549545454,
                -14.393273047106062
               ],
               [
                59.045454549545454,
                -13.629407348605179
               ],
               [
                58.36363636636364,
                -13.246537493660302
               ],
               [
                57.68181818318182,
                -13.629407348605179
               ],
               [
                57.68181818318182,
                -14.393273047106062
               ],
               [
                58.36363636636364,
                -14.774237062497322
               ]
              ]
             ],
             "type": "Polygon"
            },
            "id": "1.018637618029745,-0.24702417931742116",
            "type": "Feature"
           },
           {
            "geometry": {
             "coordinates": [
              [
               [
                59.727272732727265,
                -44.90804775470793
               ],
               [
                60.40909091590909,
                -44.62857416958301
               ],
               [
                60.40909091590909,
                -44.06557080109546
               ],
               [
                59.727272732727265,
                -43.782041623674104
               ],
               [
                59.045454549545454,
                -44.06557080109546
               ],
               [
                59.045454549545454,
                -44.62857416958301
               ],
               [
                59.727272732727265,
                -44.90804775470793
               ]
              ]
             ],
             "type": "Polygon"
            },
            "id": "1.042437562422722,-0.8653648729066767",
            "type": "Feature"
           },
           {
            "geometry": {
             "coordinates": [
              [
               [
                59.727272732727265,
                -43.21093079831662
               ],
               [
                60.40909091590909,
                -42.92335056484793
               ],
               [
                60.40909091590909,
                -42.344145034800086
               ],
               [
                59.727272732727265,
                -42.0525219941646
               ],
               [
                59.045454549545454,
                -42.344145034800086
               ],
               [
                59.045454549545454,
                -42.92335056484793
               ],
               [
                59.727272732727265,
                -43.21093079831662
               ]
              ]
             ],
             "type": "Polygon"
            },
            "id": "1.042437562422722,-0.8241421600007264",
            "type": "Feature"
           },
           {
            "geometry": {
             "coordinates": [
              [
               [
                59.727272732727265,
                -41.46524208454954
               ],
               [
                60.40909091590909,
                -41.16958834542567
               ],
               [
                60.40909091590909,
                -40.57426224611941
               ],
               [
                59.727272732727265,
                -40.274593921456685
               ],
               [
                59.045454549545454,
                -40.57426224611941
               ],
               [
                59.045454549545454,
                -41.16958834542567
               ],
               [
                59.727272732727265,
                -41.46524208454954
               ]
              ]
             ],
             "type": "Polygon"
            },
            "id": "1.042437562422722,-0.782919447094776",
            "type": "Feature"
           },
           {
            "geometry": {
             "coordinates": [
              [
               [
                59.727272732727265,
                -39.67125797273608
               ],
               [
                60.40909091590909,
                -39.36759532075098
               ],
               [
                60.40909091590909,
                -38.756294291171216
               ],
               [
                59.727272732727265,
                -38.448661852041546
               ],
               [
                59.045454549545454,
                -38.756294291171216
               ],
               [
                59.045454549545454,
                -39.36759532075098
               ],
               [
                59.727272732727265,
                -39.67125797273608
               ]
              ]
             ],
             "type": "Polygon"
            },
            "id": "1.042437562422722,-0.7416967341888256",
            "type": "Feature"
           },
           {
            "geometry": {
             "coordinates": [
              [
               [
                59.727272732727265,
                -37.82944920685779
               ],
               [
                60.40909091590909,
                -37.517875934254796
               ],
               [
                60.40909091590909,
                -36.89081409263251
               ],
               [
                59.727272732727265,
                -36.57533347919717
               ],
               [
                59.045454549545454,
                -36.89081409263251
               ],
               [
                59.045454549545454,
                -37.517875934254796
               ],
               [
                59.727272732727265,
                -37.82944920685779
               ]
              ]
             ],
             "type": "Polygon"
            },
            "id": "1.042437562422722,-0.7004740212828753",
            "type": "Feature"
           },
           {
            "geometry": {
             "coordinates": [
              [
               [
                59.727272732727265,
                -35.940494058394584
               ],
               [
                60.40909091590909,
                -35.62114425423612
               ],
               [
                60.40909091590909,
                -34.97860829889037
               ],
               [
                59.727272732727265,
                -34.65543222216165
               ],
               [
                59.045454549545454,
                -34.97860829889037
               ],
               [
                59.045454549545454,
                -35.62114425423612
               ],
               [
                59.727272732727265,
                -35.940494058394584
               ]
              ]
             ],
             "type": "Polygon"
            },
            "id": "1.042437562422722,-0.6592513083769249",
            "type": "Feature"
           },
           {
            "geometry": {
             "coordinates": [
              [
               [
                59.727272732727265,
                -34.00529041676964
               ],
               [
                60.40909091590909,
                -33.678335855357275
               ],
               [
                60.40909091590909,
                -33.02068871801436
               ],
               [
                59.727272732727265,
                -32.69000842137051
               ],
               [
                59.045454549545454,
                -33.02068871801436
               ],
               [
                59.045454549545454,
                -33.678335855357275
               ],
               [
                59.727272732727265,
                -34.00529041676964
               ]
              ]
             ],
             "type": "Polygon"
            },
            "id": "1.042437562422722,-0.6180285954709746",
            "type": "Feature"
           },
           {
            "geometry": {
             "coordinates": [
              [
               [
                59.727272732727265,
                -32.024966476816466
               ],
               [
                60.40909091590909,
                -31.690618236956208
               ],
               [
                60.40909091590909,
                -31.01830216697947
               ],
               [
                59.727272732727265,
                -30.680348887673055
               ],
               [
                59.045454549545454,
                -31.01830216697947
               ],
               [
                59.045454549545454,
                -31.690618236956208
               ],
               [
                59.727272732727265,
                -32.024966476816466
               ]
              ]
             ],
             "type": "Polygon"
            },
            "id": "1.042437562422722,-0.5768058825650242",
            "type": "Feature"
           },
           {
            "geometry": {
             "coordinates": [
              [
               [
                59.727272732727265,
                -30.0008896569427
               ],
               [
                60.40909091590909,
                -29.659399410144857
               ],
               [
                60.40909091590909,
                -28.97293836557683
               ],
               [
                59.727272732727265,
                -28.627984434159064
               ],
               [
                59.045454549545454,
                -28.97293836557683
               ],
               [
                59.045454549545454,
                -29.659399410144857
               ],
               [
                59.727272732727265,
                -30.0008896569427
               ]
              ]
             ],
             "type": "Polygon"
            },
            "id": "1.042437562422722,-0.5355831696590738",
            "type": "Feature"
           },
           {
            "geometry": {
             "coordinates": [
              [
               [
                59.727272732727265,
                -27.934673375977997
               ],
               [
                60.40909091590909,
                -27.586334281862243
               ],
               [
                60.40909091590909,
                -26.8863355045969
               ],
               [
                59.727272732727265,
                -26.534695021431894
               ],
               [
                59.045454549545454,
                -26.8863355045969
               ],
               [
                59.045454549545454,
                -27.586334281862243
               ],
               [
                59.727272732727265,
                -27.934673375977997
               ]
              ]
             ],
             "type": "Polygon"
            },
            "id": "1.042437562422722,-0.4943604567531234",
            "type": "Feature"
           },
           {
            "geometry": {
             "coordinates": [
              [
               [
                59.727272732727265,
                -25.828181323177716
               ],
               [
                60.40909091590909,
                -25.473328472753064
               ],
               [
                60.40909091590909,
                -24.760483131153798
               ],
               [
                59.727272732727265,
                -24.40251216281074
               ],
               [
                59.045454549545454,
                -24.760483131153798
               ],
               [
                59.045454549545454,
                -25.473328472753064
               ],
               [
                59.727272732727265,
                -25.828181323177716
               ]
              ]
             ],
             "type": "Polygon"
            },
            "id": "1.042437562422722,-0.45313774384717304",
            "type": "Feature"
           },
           {
            "geometry": {
             "coordinates": [
              [
               [
                59.727272732727265,
                -23.68352887634965
               ],
               [
                60.40909091590909,
                -23.322539228722544
               ],
               [
                60.40909091590909,
                -22.597622022074045
               ],
               [
                59.727272732727265,
                -22.23371826658171
               ],
               [
                59.045454549545454,
                -22.597622022074045
               ],
               [
                59.045454549545454,
                -23.322539228722544
               ],
               [
                59.727272732727265,
                -23.68352887634965
               ]
              ]
             ],
             "type": "Polygon"
            },
            "id": "1.042437562422722,-0.4119150309412226",
            "type": "Feature"
           },
           {
            "geometry": {
             "coordinates": [
              [
               [
                59.727272732727265,
                -21.503081358955768
               ],
               [
                60.40909091590909,
                -21.13637312455803
               ],
               [
                60.40909091590909,
                -20.400240760170597
               ],
               [
                59.727272732727265,
                -20.030842639010405
               ],
               [
                59.045454549545454,
                -20.400240760170597
               ],
               [
                59.045454549545454,
                -21.13637312455803
               ],
               [
                59.727272732727265,
                -21.503081358955768
               ]
              ]
             ],
             "type": "Polygon"
            },
            "id": "1.042437562422722,-0.37069231803527225",
            "type": "Feature"
           },
           {
            "geometry": {
             "coordinates": [
              [
               [
                59.727272732727265,
                -19.289448879034072
               ],
               [
                60.40909091590909,
                -18.917480312700423
               ],
               [
                60.40909091590909,
                -18.17106878828689
               ],
               [
                59.727272732727265,
                -17.7966539345571
               ],
               [
                59.045454549545454,
                -18.17106878828689
               ],
               [
                59.045454549545454,
                -18.917480312700423
               ],
               [
                59.727272732727265,
                -19.289448879034072
               ]
              ]
             ],
             "type": "Polygon"
            },
            "id": "1.042437562422722,-0.3294696051293219",
            "type": "Feature"
           },
           {
            "geometry": {
             "coordinates": [
              [
               [
                61.0909090990909,
                -44.90804775470793
               ],
               [
                61.772727282272726,
                -44.62857416958301
               ],
               [
                61.772727282272726,
                -44.06557080109546
               ],
               [
                61.0909090990909,
                -43.782041623674104
               ],
               [
                60.40909091590909,
                -44.06557080109546
               ],
               [
                60.40909091590909,
                -44.62857416958301
               ],
               [
                61.0909090990909,
                -44.90804775470793
               ]
              ]
             ],
             "type": "Polygon"
            },
            "id": "1.066237506815699,-0.8653648729066767",
            "type": "Feature"
           },
           {
            "geometry": {
             "coordinates": [
              [
               [
                61.0909090990909,
                -43.21093079831662
               ],
               [
                61.772727282272726,
                -42.92335056484793
               ],
               [
                61.772727282272726,
                -42.344145034800086
               ],
               [
                61.0909090990909,
                -42.0525219941646
               ],
               [
                60.40909091590909,
                -42.344145034800086
               ],
               [
                60.40909091590909,
                -42.92335056484793
               ],
               [
                61.0909090990909,
                -43.21093079831662
               ]
              ]
             ],
             "type": "Polygon"
            },
            "id": "1.066237506815699,-0.8241421600007264",
            "type": "Feature"
           },
           {
            "geometry": {
             "coordinates": [
              [
               [
                61.0909090990909,
                -41.46524208454954
               ],
               [
                61.772727282272726,
                -41.16958834542567
               ],
               [
                61.772727282272726,
                -40.57426224611941
               ],
               [
                61.0909090990909,
                -40.274593921456685
               ],
               [
                60.40909091590909,
                -40.57426224611941
               ],
               [
                60.40909091590909,
                -41.16958834542567
               ],
               [
                61.0909090990909,
                -41.46524208454954
               ]
              ]
             ],
             "type": "Polygon"
            },
            "id": "1.066237506815699,-0.782919447094776",
            "type": "Feature"
           },
           {
            "geometry": {
             "coordinates": [
              [
               [
                61.0909090990909,
                -39.67125797273608
               ],
               [
                61.772727282272726,
                -39.36759532075098
               ],
               [
                61.772727282272726,
                -38.756294291171216
               ],
               [
                61.0909090990909,
                -38.448661852041546
               ],
               [
                60.40909091590909,
                -38.756294291171216
               ],
               [
                60.40909091590909,
                -39.36759532075098
               ],
               [
                61.0909090990909,
                -39.67125797273608
               ]
              ]
             ],
             "type": "Polygon"
            },
            "id": "1.066237506815699,-0.7416967341888256",
            "type": "Feature"
           },
           {
            "geometry": {
             "coordinates": [
              [
               [
                61.0909090990909,
                -37.82944920685779
               ],
               [
                61.772727282272726,
                -37.517875934254796
               ],
               [
                61.772727282272726,
                -36.89081409263251
               ],
               [
                61.0909090990909,
                -36.57533347919717
               ],
               [
                60.40909091590909,
                -36.89081409263251
               ],
               [
                60.40909091590909,
                -37.517875934254796
               ],
               [
                61.0909090990909,
                -37.82944920685779
               ]
              ]
             ],
             "type": "Polygon"
            },
            "id": "1.066237506815699,-0.7004740212828753",
            "type": "Feature"
           },
           {
            "geometry": {
             "coordinates": [
              [
               [
                61.0909090990909,
                -35.940494058394584
               ],
               [
                61.772727282272726,
                -35.62114425423612
               ],
               [
                61.772727282272726,
                -34.97860829889037
               ],
               [
                61.0909090990909,
                -34.65543222216165
               ],
               [
                60.40909091590909,
                -34.97860829889037
               ],
               [
                60.40909091590909,
                -35.62114425423612
               ],
               [
                61.0909090990909,
                -35.940494058394584
               ]
              ]
             ],
             "type": "Polygon"
            },
            "id": "1.066237506815699,-0.6592513083769249",
            "type": "Feature"
           },
           {
            "geometry": {
             "coordinates": [
              [
               [
                61.0909090990909,
                -34.00529041676964
               ],
               [
                61.772727282272726,
                -33.678335855357275
               ],
               [
                61.772727282272726,
                -33.02068871801436
               ],
               [
                61.0909090990909,
                -32.69000842137051
               ],
               [
                60.40909091590909,
                -33.02068871801436
               ],
               [
                60.40909091590909,
                -33.678335855357275
               ],
               [
                61.0909090990909,
                -34.00529041676964
               ]
              ]
             ],
             "type": "Polygon"
            },
            "id": "1.066237506815699,-0.6180285954709746",
            "type": "Feature"
           },
           {
            "geometry": {
             "coordinates": [
              [
               [
                61.0909090990909,
                -32.024966476816466
               ],
               [
                61.772727282272726,
                -31.690618236956208
               ],
               [
                61.772727282272726,
                -31.01830216697947
               ],
               [
                61.0909090990909,
                -30.680348887673055
               ],
               [
                60.40909091590909,
                -31.01830216697947
               ],
               [
                60.40909091590909,
                -31.690618236956208
               ],
               [
                61.0909090990909,
                -32.024966476816466
               ]
              ]
             ],
             "type": "Polygon"
            },
            "id": "1.066237506815699,-0.5768058825650242",
            "type": "Feature"
           },
           {
            "geometry": {
             "coordinates": [
              [
               [
                61.0909090990909,
                -30.0008896569427
               ],
               [
                61.772727282272726,
                -29.659399410144857
               ],
               [
                61.772727282272726,
                -28.97293836557683
               ],
               [
                61.0909090990909,
                -28.627984434159064
               ],
               [
                60.40909091590909,
                -28.97293836557683
               ],
               [
                60.40909091590909,
                -29.659399410144857
               ],
               [
                61.0909090990909,
                -30.0008896569427
               ]
              ]
             ],
             "type": "Polygon"
            },
            "id": "1.066237506815699,-0.5355831696590738",
            "type": "Feature"
           },
           {
            "geometry": {
             "coordinates": [
              [
               [
                61.0909090990909,
                -27.934673375977997
               ],
               [
                61.772727282272726,
                -27.586334281862243
               ],
               [
                61.772727282272726,
                -26.8863355045969
               ],
               [
                61.0909090990909,
                -26.534695021431894
               ],
               [
                60.40909091590909,
                -26.8863355045969
               ],
               [
                60.40909091590909,
                -27.586334281862243
               ],
               [
                61.0909090990909,
                -27.934673375977997
               ]
              ]
             ],
             "type": "Polygon"
            },
            "id": "1.066237506815699,-0.4943604567531234",
            "type": "Feature"
           },
           {
            "geometry": {
             "coordinates": [
              [
               [
                61.0909090990909,
                -25.828181323177716
               ],
               [
                61.772727282272726,
                -25.473328472753064
               ],
               [
                61.772727282272726,
                -24.760483131153798
               ],
               [
                61.0909090990909,
                -24.40251216281074
               ],
               [
                60.40909091590909,
                -24.760483131153798
               ],
               [
                60.40909091590909,
                -25.473328472753064
               ],
               [
                61.0909090990909,
                -25.828181323177716
               ]
              ]
             ],
             "type": "Polygon"
            },
            "id": "1.066237506815699,-0.45313774384717304",
            "type": "Feature"
           },
           {
            "geometry": {
             "coordinates": [
              [
               [
                61.0909090990909,
                -23.68352887634965
               ],
               [
                61.772727282272726,
                -23.322539228722544
               ],
               [
                61.772727282272726,
                -22.597622022074045
               ],
               [
                61.0909090990909,
                -22.23371826658171
               ],
               [
                60.40909091590909,
                -22.597622022074045
               ],
               [
                60.40909091590909,
                -23.322539228722544
               ],
               [
                61.0909090990909,
                -23.68352887634965
               ]
              ]
             ],
             "type": "Polygon"
            },
            "id": "1.066237506815699,-0.4119150309412226",
            "type": "Feature"
           },
           {
            "geometry": {
             "coordinates": [
              [
               [
                61.0909090990909,
                -21.503081358955768
               ],
               [
                61.772727282272726,
                -21.13637312455803
               ],
               [
                61.772727282272726,
                -20.400240760170597
               ],
               [
                61.0909090990909,
                -20.030842639010405
               ],
               [
                60.40909091590909,
                -20.400240760170597
               ],
               [
                60.40909091590909,
                -21.13637312455803
               ],
               [
                61.0909090990909,
                -21.503081358955768
               ]
              ]
             ],
             "type": "Polygon"
            },
            "id": "1.066237506815699,-0.37069231803527225",
            "type": "Feature"
           },
           {
            "geometry": {
             "coordinates": [
              [
               [
                61.0909090990909,
                -19.289448879034072
               ],
               [
                61.772727282272726,
                -18.917480312700423
               ],
               [
                61.772727282272726,
                -18.17106878828689
               ],
               [
                61.0909090990909,
                -17.7966539345571
               ],
               [
                60.40909091590909,
                -18.17106878828689
               ],
               [
                60.40909091590909,
                -18.917480312700423
               ],
               [
                61.0909090990909,
                -19.289448879034072
               ]
              ]
             ],
             "type": "Polygon"
            },
            "id": "1.066237506815699,-0.3294696051293219",
            "type": "Feature"
           },
           {
            "geometry": {
             "coordinates": [
              [
               [
                62.454545465454544,
                -44.90804775470793
               ],
               [
                63.13636364863637,
                -44.62857416958301
               ],
               [
                63.13636364863637,
                -44.06557080109546
               ],
               [
                62.454545465454544,
                -43.782041623674104
               ],
               [
                61.77272728227273,
                -44.06557080109546
               ],
               [
                61.77272728227273,
                -44.62857416958301
               ],
               [
                62.454545465454544,
                -44.90804775470793
               ]
              ]
             ],
             "type": "Polygon"
            },
            "id": "1.0900374512086763,-0.8653648729066767",
            "type": "Feature"
           },
           {
            "geometry": {
             "coordinates": [
              [
               [
                62.454545465454544,
                -43.21093079831662
               ],
               [
                63.13636364863637,
                -42.92335056484793
               ],
               [
                63.13636364863637,
                -42.344145034800086
               ],
               [
                62.454545465454544,
                -42.0525219941646
               ],
               [
                61.77272728227273,
                -42.344145034800086
               ],
               [
                61.77272728227273,
                -42.92335056484793
               ],
               [
                62.454545465454544,
                -43.21093079831662
               ]
              ]
             ],
             "type": "Polygon"
            },
            "id": "1.0900374512086763,-0.8241421600007264",
            "type": "Feature"
           },
           {
            "geometry": {
             "coordinates": [
              [
               [
                62.454545465454544,
                -41.46524208454954
               ],
               [
                63.13636364863637,
                -41.16958834542567
               ],
               [
                63.13636364863637,
                -40.57426224611941
               ],
               [
                62.454545465454544,
                -40.274593921456685
               ],
               [
                61.77272728227273,
                -40.57426224611941
               ],
               [
                61.77272728227273,
                -41.16958834542567
               ],
               [
                62.454545465454544,
                -41.46524208454954
               ]
              ]
             ],
             "type": "Polygon"
            },
            "id": "1.0900374512086763,-0.782919447094776",
            "type": "Feature"
           },
           {
            "geometry": {
             "coordinates": [
              [
               [
                62.454545465454544,
                -39.67125797273608
               ],
               [
                63.13636364863637,
                -39.36759532075098
               ],
               [
                63.13636364863637,
                -38.756294291171216
               ],
               [
                62.454545465454544,
                -38.448661852041546
               ],
               [
                61.77272728227273,
                -38.756294291171216
               ],
               [
                61.77272728227273,
                -39.36759532075098
               ],
               [
                62.454545465454544,
                -39.67125797273608
               ]
              ]
             ],
             "type": "Polygon"
            },
            "id": "1.0900374512086763,-0.7416967341888256",
            "type": "Feature"
           },
           {
            "geometry": {
             "coordinates": [
              [
               [
                62.454545465454544,
                -37.82944920685779
               ],
               [
                63.13636364863637,
                -37.517875934254796
               ],
               [
                63.13636364863637,
                -36.89081409263251
               ],
               [
                62.454545465454544,
                -36.57533347919717
               ],
               [
                61.77272728227273,
                -36.89081409263251
               ],
               [
                61.77272728227273,
                -37.517875934254796
               ],
               [
                62.454545465454544,
                -37.82944920685779
               ]
              ]
             ],
             "type": "Polygon"
            },
            "id": "1.0900374512086763,-0.7004740212828753",
            "type": "Feature"
           },
           {
            "geometry": {
             "coordinates": [
              [
               [
                62.454545465454544,
                -35.940494058394584
               ],
               [
                63.13636364863637,
                -35.62114425423612
               ],
               [
                63.13636364863637,
                -34.97860829889037
               ],
               [
                62.454545465454544,
                -34.65543222216165
               ],
               [
                61.77272728227273,
                -34.97860829889037
               ],
               [
                61.77272728227273,
                -35.62114425423612
               ],
               [
                62.454545465454544,
                -35.940494058394584
               ]
              ]
             ],
             "type": "Polygon"
            },
            "id": "1.0900374512086763,-0.6592513083769249",
            "type": "Feature"
           },
           {
            "geometry": {
             "coordinates": [
              [
               [
                62.454545465454544,
                -34.00529041676964
               ],
               [
                63.13636364863637,
                -33.678335855357275
               ],
               [
                63.13636364863637,
                -33.02068871801436
               ],
               [
                62.454545465454544,
                -32.69000842137051
               ],
               [
                61.77272728227273,
                -33.02068871801436
               ],
               [
                61.77272728227273,
                -33.678335855357275
               ],
               [
                62.454545465454544,
                -34.00529041676964
               ]
              ]
             ],
             "type": "Polygon"
            },
            "id": "1.0900374512086763,-0.6180285954709746",
            "type": "Feature"
           },
           {
            "geometry": {
             "coordinates": [
              [
               [
                62.454545465454544,
                -32.024966476816466
               ],
               [
                63.13636364863637,
                -31.690618236956208
               ],
               [
                63.13636364863637,
                -31.01830216697947
               ],
               [
                62.454545465454544,
                -30.680348887673055
               ],
               [
                61.77272728227273,
                -31.01830216697947
               ],
               [
                61.77272728227273,
                -31.690618236956208
               ],
               [
                62.454545465454544,
                -32.024966476816466
               ]
              ]
             ],
             "type": "Polygon"
            },
            "id": "1.0900374512086763,-0.5768058825650242",
            "type": "Feature"
           },
           {
            "geometry": {
             "coordinates": [
              [
               [
                62.454545465454544,
                -30.0008896569427
               ],
               [
                63.13636364863637,
                -29.659399410144857
               ],
               [
                63.13636364863637,
                -28.97293836557683
               ],
               [
                62.454545465454544,
                -28.627984434159064
               ],
               [
                61.77272728227273,
                -28.97293836557683
               ],
               [
                61.77272728227273,
                -29.659399410144857
               ],
               [
                62.454545465454544,
                -30.0008896569427
               ]
              ]
             ],
             "type": "Polygon"
            },
            "id": "1.0900374512086763,-0.5355831696590738",
            "type": "Feature"
           },
           {
            "geometry": {
             "coordinates": [
              [
               [
                62.454545465454544,
                -27.934673375977997
               ],
               [
                63.13636364863637,
                -27.586334281862243
               ],
               [
                63.13636364863637,
                -26.8863355045969
               ],
               [
                62.454545465454544,
                -26.534695021431894
               ],
               [
                61.77272728227273,
                -26.8863355045969
               ],
               [
                61.77272728227273,
                -27.586334281862243
               ],
               [
                62.454545465454544,
                -27.934673375977997
               ]
              ]
             ],
             "type": "Polygon"
            },
            "id": "1.0900374512086763,-0.4943604567531234",
            "type": "Feature"
           },
           {
            "geometry": {
             "coordinates": [
              [
               [
                62.454545465454544,
                -25.828181323177716
               ],
               [
                63.13636364863637,
                -25.473328472753064
               ],
               [
                63.13636364863637,
                -24.760483131153798
               ],
               [
                62.454545465454544,
                -24.40251216281074
               ],
               [
                61.77272728227273,
                -24.760483131153798
               ],
               [
                61.77272728227273,
                -25.473328472753064
               ],
               [
                62.454545465454544,
                -25.828181323177716
               ]
              ]
             ],
             "type": "Polygon"
            },
            "id": "1.0900374512086763,-0.45313774384717304",
            "type": "Feature"
           },
           {
            "geometry": {
             "coordinates": [
              [
               [
                62.454545465454544,
                -21.503081358955768
               ],
               [
                63.13636364863637,
                -21.13637312455803
               ],
               [
                63.13636364863637,
                -20.400240760170597
               ],
               [
                62.454545465454544,
                -20.030842639010405
               ],
               [
                61.77272728227273,
                -20.400240760170597
               ],
               [
                61.77272728227273,
                -21.13637312455803
               ],
               [
                62.454545465454544,
                -21.503081358955768
               ]
              ]
             ],
             "type": "Polygon"
            },
            "id": "1.0900374512086763,-0.37069231803527225",
            "type": "Feature"
           },
           {
            "geometry": {
             "coordinates": [
              [
               [
                63.81818183181818,
                -44.90804775470793
               ],
               [
                64.500000015,
                -44.62857416958301
               ],
               [
                64.500000015,
                -44.06557080109546
               ],
               [
                63.81818183181818,
                -43.782041623674104
               ],
               [
                63.13636364863637,
                -44.06557080109546
               ],
               [
                63.13636364863637,
                -44.62857416958301
               ],
               [
                63.81818183181818,
                -44.90804775470793
               ]
              ]
             ],
             "type": "Polygon"
            },
            "id": "1.1138373956016534,-0.8653648729066767",
            "type": "Feature"
           },
           {
            "geometry": {
             "coordinates": [
              [
               [
                63.81818183181818,
                -43.21093079831662
               ],
               [
                64.500000015,
                -42.92335056484793
               ],
               [
                64.500000015,
                -42.344145034800086
               ],
               [
                63.81818183181818,
                -42.0525219941646
               ],
               [
                63.13636364863637,
                -42.344145034800086
               ],
               [
                63.13636364863637,
                -42.92335056484793
               ],
               [
                63.81818183181818,
                -43.21093079831662
               ]
              ]
             ],
             "type": "Polygon"
            },
            "id": "1.1138373956016534,-0.8241421600007264",
            "type": "Feature"
           },
           {
            "geometry": {
             "coordinates": [
              [
               [
                63.81818183181818,
                -41.46524208454954
               ],
               [
                64.500000015,
                -41.16958834542567
               ],
               [
                64.500000015,
                -40.57426224611941
               ],
               [
                63.81818183181818,
                -40.274593921456685
               ],
               [
                63.13636364863637,
                -40.57426224611941
               ],
               [
                63.13636364863637,
                -41.16958834542567
               ],
               [
                63.81818183181818,
                -41.46524208454954
               ]
              ]
             ],
             "type": "Polygon"
            },
            "id": "1.1138373956016534,-0.782919447094776",
            "type": "Feature"
           },
           {
            "geometry": {
             "coordinates": [
              [
               [
                63.81818183181818,
                -39.67125797273608
               ],
               [
                64.500000015,
                -39.36759532075098
               ],
               [
                64.500000015,
                -38.756294291171216
               ],
               [
                63.81818183181818,
                -38.448661852041546
               ],
               [
                63.13636364863637,
                -38.756294291171216
               ],
               [
                63.13636364863637,
                -39.36759532075098
               ],
               [
                63.81818183181818,
                -39.67125797273608
               ]
              ]
             ],
             "type": "Polygon"
            },
            "id": "1.1138373956016534,-0.7416967341888256",
            "type": "Feature"
           },
           {
            "geometry": {
             "coordinates": [
              [
               [
                63.81818183181818,
                -37.82944920685779
               ],
               [
                64.500000015,
                -37.517875934254796
               ],
               [
                64.500000015,
                -36.89081409263251
               ],
               [
                63.81818183181818,
                -36.57533347919717
               ],
               [
                63.13636364863637,
                -36.89081409263251
               ],
               [
                63.13636364863637,
                -37.517875934254796
               ],
               [
                63.81818183181818,
                -37.82944920685779
               ]
              ]
             ],
             "type": "Polygon"
            },
            "id": "1.1138373956016534,-0.7004740212828753",
            "type": "Feature"
           },
           {
            "geometry": {
             "coordinates": [
              [
               [
                63.81818183181818,
                -35.940494058394584
               ],
               [
                64.500000015,
                -35.62114425423612
               ],
               [
                64.500000015,
                -34.97860829889037
               ],
               [
                63.81818183181818,
                -34.65543222216165
               ],
               [
                63.13636364863637,
                -34.97860829889037
               ],
               [
                63.13636364863637,
                -35.62114425423612
               ],
               [
                63.81818183181818,
                -35.940494058394584
               ]
              ]
             ],
             "type": "Polygon"
            },
            "id": "1.1138373956016534,-0.6592513083769249",
            "type": "Feature"
           },
           {
            "geometry": {
             "coordinates": [
              [
               [
                63.81818183181818,
                -34.00529041676964
               ],
               [
                64.500000015,
                -33.678335855357275
               ],
               [
                64.500000015,
                -33.02068871801436
               ],
               [
                63.81818183181818,
                -32.69000842137051
               ],
               [
                63.13636364863637,
                -33.02068871801436
               ],
               [
                63.13636364863637,
                -33.678335855357275
               ],
               [
                63.81818183181818,
                -34.00529041676964
               ]
              ]
             ],
             "type": "Polygon"
            },
            "id": "1.1138373956016534,-0.6180285954709746",
            "type": "Feature"
           },
           {
            "geometry": {
             "coordinates": [
              [
               [
                63.81818183181818,
                -32.024966476816466
               ],
               [
                64.500000015,
                -31.690618236956208
               ],
               [
                64.500000015,
                -31.01830216697947
               ],
               [
                63.81818183181818,
                -30.680348887673055
               ],
               [
                63.13636364863637,
                -31.01830216697947
               ],
               [
                63.13636364863637,
                -31.690618236956208
               ],
               [
                63.81818183181818,
                -32.024966476816466
               ]
              ]
             ],
             "type": "Polygon"
            },
            "id": "1.1138373956016534,-0.5768058825650242",
            "type": "Feature"
           },
           {
            "geometry": {
             "coordinates": [
              [
               [
                63.81818183181818,
                -30.0008896569427
               ],
               [
                64.500000015,
                -29.659399410144857
               ],
               [
                64.500000015,
                -28.97293836557683
               ],
               [
                63.81818183181818,
                -28.627984434159064
               ],
               [
                63.13636364863637,
                -28.97293836557683
               ],
               [
                63.13636364863637,
                -29.659399410144857
               ],
               [
                63.81818183181818,
                -30.0008896569427
               ]
              ]
             ],
             "type": "Polygon"
            },
            "id": "1.1138373956016534,-0.5355831696590738",
            "type": "Feature"
           },
           {
            "geometry": {
             "coordinates": [
              [
               [
                65.18181819818182,
                -44.90804775470793
               ],
               [
                65.86363638136363,
                -44.62857416958301
               ],
               [
                65.86363638136363,
                -44.06557080109546
               ],
               [
                65.18181819818182,
                -43.782041623674104
               ],
               [
                64.500000015,
                -44.06557080109546
               ],
               [
                64.500000015,
                -44.62857416958301
               ],
               [
                65.18181819818182,
                -44.90804775470793
               ]
              ]
             ],
             "type": "Polygon"
            },
            "id": "1.1376373399946305,-0.8653648729066767",
            "type": "Feature"
           },
           {
            "geometry": {
             "coordinates": [
              [
               [
                65.18181819818182,
                -43.21093079831662
               ],
               [
                65.86363638136363,
                -42.92335056484793
               ],
               [
                65.86363638136363,
                -42.344145034800086
               ],
               [
                65.18181819818182,
                -42.0525219941646
               ],
               [
                64.500000015,
                -42.344145034800086
               ],
               [
                64.500000015,
                -42.92335056484793
               ],
               [
                65.18181819818182,
                -43.21093079831662
               ]
              ]
             ],
             "type": "Polygon"
            },
            "id": "1.1376373399946305,-0.8241421600007264",
            "type": "Feature"
           },
           {
            "geometry": {
             "coordinates": [
              [
               [
                65.18181819818182,
                -41.46524208454954
               ],
               [
                65.86363638136363,
                -41.16958834542567
               ],
               [
                65.86363638136363,
                -40.57426224611941
               ],
               [
                65.18181819818182,
                -40.274593921456685
               ],
               [
                64.500000015,
                -40.57426224611941
               ],
               [
                64.500000015,
                -41.16958834542567
               ],
               [
                65.18181819818182,
                -41.46524208454954
               ]
              ]
             ],
             "type": "Polygon"
            },
            "id": "1.1376373399946305,-0.782919447094776",
            "type": "Feature"
           },
           {
            "geometry": {
             "coordinates": [
              [
               [
                65.18181819818182,
                -39.67125797273608
               ],
               [
                65.86363638136363,
                -39.36759532075098
               ],
               [
                65.86363638136363,
                -38.756294291171216
               ],
               [
                65.18181819818182,
                -38.448661852041546
               ],
               [
                64.500000015,
                -38.756294291171216
               ],
               [
                64.500000015,
                -39.36759532075098
               ],
               [
                65.18181819818182,
                -39.67125797273608
               ]
              ]
             ],
             "type": "Polygon"
            },
            "id": "1.1376373399946305,-0.7416967341888256",
            "type": "Feature"
           },
           {
            "geometry": {
             "coordinates": [
              [
               [
                65.18181819818182,
                -37.82944920685779
               ],
               [
                65.86363638136363,
                -37.517875934254796
               ],
               [
                65.86363638136363,
                -36.89081409263251
               ],
               [
                65.18181819818182,
                -36.57533347919717
               ],
               [
                64.500000015,
                -36.89081409263251
               ],
               [
                64.500000015,
                -37.517875934254796
               ],
               [
                65.18181819818182,
                -37.82944920685779
               ]
              ]
             ],
             "type": "Polygon"
            },
            "id": "1.1376373399946305,-0.7004740212828753",
            "type": "Feature"
           },
           {
            "geometry": {
             "coordinates": [
              [
               [
                65.18181819818182,
                -35.940494058394584
               ],
               [
                65.86363638136363,
                -35.62114425423612
               ],
               [
                65.86363638136363,
                -34.97860829889037
               ],
               [
                65.18181819818182,
                -34.65543222216165
               ],
               [
                64.500000015,
                -34.97860829889037
               ],
               [
                64.500000015,
                -35.62114425423612
               ],
               [
                65.18181819818182,
                -35.940494058394584
               ]
              ]
             ],
             "type": "Polygon"
            },
            "id": "1.1376373399946305,-0.6592513083769249",
            "type": "Feature"
           },
           {
            "geometry": {
             "coordinates": [
              [
               [
                65.18181819818182,
                -34.00529041676964
               ],
               [
                65.86363638136363,
                -33.678335855357275
               ],
               [
                65.86363638136363,
                -33.02068871801436
               ],
               [
                65.18181819818182,
                -32.69000842137051
               ],
               [
                64.500000015,
                -33.02068871801436
               ],
               [
                64.500000015,
                -33.678335855357275
               ],
               [
                65.18181819818182,
                -34.00529041676964
               ]
              ]
             ],
             "type": "Polygon"
            },
            "id": "1.1376373399946305,-0.6180285954709746",
            "type": "Feature"
           },
           {
            "geometry": {
             "coordinates": [
              [
               [
                65.18181819818182,
                -32.024966476816466
               ],
               [
                65.86363638136363,
                -31.690618236956208
               ],
               [
                65.86363638136363,
                -31.01830216697947
               ],
               [
                65.18181819818182,
                -30.680348887673055
               ],
               [
                64.500000015,
                -31.01830216697947
               ],
               [
                64.500000015,
                -31.690618236956208
               ],
               [
                65.18181819818182,
                -32.024966476816466
               ]
              ]
             ],
             "type": "Polygon"
            },
            "id": "1.1376373399946305,-0.5768058825650242",
            "type": "Feature"
           },
           {
            "geometry": {
             "coordinates": [
              [
               [
                65.18181819818182,
                -30.0008896569427
               ],
               [
                65.86363638136363,
                -29.659399410144857
               ],
               [
                65.86363638136363,
                -28.97293836557683
               ],
               [
                65.18181819818182,
                -28.627984434159064
               ],
               [
                64.500000015,
                -28.97293836557683
               ],
               [
                64.500000015,
                -29.659399410144857
               ],
               [
                65.18181819818182,
                -30.0008896569427
               ]
              ]
             ],
             "type": "Polygon"
            },
            "id": "1.1376373399946305,-0.5355831696590738",
            "type": "Feature"
           },
           {
            "geometry": {
             "coordinates": [
              [
               [
                65.18181819818182,
                -27.934673375977997
               ],
               [
                65.86363638136363,
                -27.586334281862243
               ],
               [
                65.86363638136363,
                -26.8863355045969
               ],
               [
                65.18181819818182,
                -26.534695021431894
               ],
               [
                64.500000015,
                -26.8863355045969
               ],
               [
                64.500000015,
                -27.586334281862243
               ],
               [
                65.18181819818182,
                -27.934673375977997
               ]
              ]
             ],
             "type": "Polygon"
            },
            "id": "1.1376373399946305,-0.4943604567531234",
            "type": "Feature"
           },
           {
            "geometry": {
             "coordinates": [
              [
               [
                66.54545456454545,
                -44.90804775470793
               ],
               [
                67.22727274772727,
                -44.62857416958301
               ],
               [
                67.22727274772727,
                -44.06557080109546
               ],
               [
                66.54545456454545,
                -43.782041623674104
               ],
               [
                65.86363638136363,
                -44.06557080109546
               ],
               [
                65.86363638136363,
                -44.62857416958301
               ],
               [
                66.54545456454545,
                -44.90804775470793
               ]
              ]
             ],
             "type": "Polygon"
            },
            "id": "1.1614372843876075,-0.8653648729066767",
            "type": "Feature"
           },
           {
            "geometry": {
             "coordinates": [
              [
               [
                66.54545456454545,
                -43.21093079831662
               ],
               [
                67.22727274772727,
                -42.92335056484793
               ],
               [
                67.22727274772727,
                -42.344145034800086
               ],
               [
                66.54545456454545,
                -42.0525219941646
               ],
               [
                65.86363638136363,
                -42.344145034800086
               ],
               [
                65.86363638136363,
                -42.92335056484793
               ],
               [
                66.54545456454545,
                -43.21093079831662
               ]
              ]
             ],
             "type": "Polygon"
            },
            "id": "1.1614372843876075,-0.8241421600007264",
            "type": "Feature"
           },
           {
            "geometry": {
             "coordinates": [
              [
               [
                66.54545456454545,
                -41.46524208454954
               ],
               [
                67.22727274772727,
                -41.16958834542567
               ],
               [
                67.22727274772727,
                -40.57426224611941
               ],
               [
                66.54545456454545,
                -40.274593921456685
               ],
               [
                65.86363638136363,
                -40.57426224611941
               ],
               [
                65.86363638136363,
                -41.16958834542567
               ],
               [
                66.54545456454545,
                -41.46524208454954
               ]
              ]
             ],
             "type": "Polygon"
            },
            "id": "1.1614372843876075,-0.782919447094776",
            "type": "Feature"
           },
           {
            "geometry": {
             "coordinates": [
              [
               [
                66.54545456454545,
                -39.67125797273608
               ],
               [
                67.22727274772727,
                -39.36759532075098
               ],
               [
                67.22727274772727,
                -38.756294291171216
               ],
               [
                66.54545456454545,
                -38.448661852041546
               ],
               [
                65.86363638136363,
                -38.756294291171216
               ],
               [
                65.86363638136363,
                -39.36759532075098
               ],
               [
                66.54545456454545,
                -39.67125797273608
               ]
              ]
             ],
             "type": "Polygon"
            },
            "id": "1.1614372843876075,-0.7416967341888256",
            "type": "Feature"
           },
           {
            "geometry": {
             "coordinates": [
              [
               [
                66.54545456454545,
                -37.82944920685779
               ],
               [
                67.22727274772727,
                -37.517875934254796
               ],
               [
                67.22727274772727,
                -36.89081409263251
               ],
               [
                66.54545456454545,
                -36.57533347919717
               ],
               [
                65.86363638136363,
                -36.89081409263251
               ],
               [
                65.86363638136363,
                -37.517875934254796
               ],
               [
                66.54545456454545,
                -37.82944920685779
               ]
              ]
             ],
             "type": "Polygon"
            },
            "id": "1.1614372843876075,-0.7004740212828753",
            "type": "Feature"
           },
           {
            "geometry": {
             "coordinates": [
              [
               [
                66.54545456454545,
                -35.940494058394584
               ],
               [
                67.22727274772727,
                -35.62114425423612
               ],
               [
                67.22727274772727,
                -34.97860829889037
               ],
               [
                66.54545456454545,
                -34.65543222216165
               ],
               [
                65.86363638136363,
                -34.97860829889037
               ],
               [
                65.86363638136363,
                -35.62114425423612
               ],
               [
                66.54545456454545,
                -35.940494058394584
               ]
              ]
             ],
             "type": "Polygon"
            },
            "id": "1.1614372843876075,-0.6592513083769249",
            "type": "Feature"
           },
           {
            "geometry": {
             "coordinates": [
              [
               [
                66.54545456454545,
                -34.00529041676964
               ],
               [
                67.22727274772727,
                -33.678335855357275
               ],
               [
                67.22727274772727,
                -33.02068871801436
               ],
               [
                66.54545456454545,
                -32.69000842137051
               ],
               [
                65.86363638136363,
                -33.02068871801436
               ],
               [
                65.86363638136363,
                -33.678335855357275
               ],
               [
                66.54545456454545,
                -34.00529041676964
               ]
              ]
             ],
             "type": "Polygon"
            },
            "id": "1.1614372843876075,-0.6180285954709746",
            "type": "Feature"
           },
           {
            "geometry": {
             "coordinates": [
              [
               [
                66.54545456454545,
                -32.024966476816466
               ],
               [
                67.22727274772727,
                -31.690618236956208
               ],
               [
                67.22727274772727,
                -31.01830216697947
               ],
               [
                66.54545456454545,
                -30.680348887673055
               ],
               [
                65.86363638136363,
                -31.01830216697947
               ],
               [
                65.86363638136363,
                -31.690618236956208
               ],
               [
                66.54545456454545,
                -32.024966476816466
               ]
              ]
             ],
             "type": "Polygon"
            },
            "id": "1.1614372843876075,-0.5768058825650242",
            "type": "Feature"
           },
           {
            "geometry": {
             "coordinates": [
              [
               [
                66.54545456454545,
                -30.0008896569427
               ],
               [
                67.22727274772727,
                -29.659399410144857
               ],
               [
                67.22727274772727,
                -28.97293836557683
               ],
               [
                66.54545456454545,
                -28.627984434159064
               ],
               [
                65.86363638136363,
                -28.97293836557683
               ],
               [
                65.86363638136363,
                -29.659399410144857
               ],
               [
                66.54545456454545,
                -30.0008896569427
               ]
              ]
             ],
             "type": "Polygon"
            },
            "id": "1.1614372843876075,-0.5355831696590738",
            "type": "Feature"
           },
           {
            "geometry": {
             "coordinates": [
              [
               [
                66.54545456454545,
                -27.934673375977997
               ],
               [
                67.22727274772727,
                -27.586334281862243
               ],
               [
                67.22727274772727,
                -26.8863355045969
               ],
               [
                66.54545456454545,
                -26.534695021431894
               ],
               [
                65.86363638136363,
                -26.8863355045969
               ],
               [
                65.86363638136363,
                -27.586334281862243
               ],
               [
                66.54545456454545,
                -27.934673375977997
               ]
              ]
             ],
             "type": "Polygon"
            },
            "id": "1.1614372843876075,-0.4943604567531234",
            "type": "Feature"
           },
           {
            "geometry": {
             "coordinates": [
              [
               [
                67.90909093090909,
                -44.90804775470793
               ],
               [
                68.5909091140909,
                -44.62857416958301
               ],
               [
                68.5909091140909,
                -44.06557080109546
               ],
               [
                67.90909093090909,
                -43.782041623674104
               ],
               [
                67.22727274772727,
                -44.06557080109546
               ],
               [
                67.22727274772727,
                -44.62857416958301
               ],
               [
                67.90909093090909,
                -44.90804775470793
               ]
              ]
             ],
             "type": "Polygon"
            },
            "id": "1.1852372287805846,-0.8653648729066767",
            "type": "Feature"
           },
           {
            "geometry": {
             "coordinates": [
              [
               [
                67.90909093090909,
                -43.21093079831662
               ],
               [
                68.5909091140909,
                -42.92335056484793
               ],
               [
                68.5909091140909,
                -42.344145034800086
               ],
               [
                67.90909093090909,
                -42.0525219941646
               ],
               [
                67.22727274772727,
                -42.344145034800086
               ],
               [
                67.22727274772727,
                -42.92335056484793
               ],
               [
                67.90909093090909,
                -43.21093079831662
               ]
              ]
             ],
             "type": "Polygon"
            },
            "id": "1.1852372287805846,-0.8241421600007264",
            "type": "Feature"
           },
           {
            "geometry": {
             "coordinates": [
              [
               [
                67.90909093090909,
                -41.46524208454954
               ],
               [
                68.5909091140909,
                -41.16958834542567
               ],
               [
                68.5909091140909,
                -40.57426224611941
               ],
               [
                67.90909093090909,
                -40.274593921456685
               ],
               [
                67.22727274772727,
                -40.57426224611941
               ],
               [
                67.22727274772727,
                -41.16958834542567
               ],
               [
                67.90909093090909,
                -41.46524208454954
               ]
              ]
             ],
             "type": "Polygon"
            },
            "id": "1.1852372287805846,-0.782919447094776",
            "type": "Feature"
           },
           {
            "geometry": {
             "coordinates": [
              [
               [
                67.90909093090909,
                -39.67125797273608
               ],
               [
                68.5909091140909,
                -39.36759532075098
               ],
               [
                68.5909091140909,
                -38.756294291171216
               ],
               [
                67.90909093090909,
                -38.448661852041546
               ],
               [
                67.22727274772727,
                -38.756294291171216
               ],
               [
                67.22727274772727,
                -39.36759532075098
               ],
               [
                67.90909093090909,
                -39.67125797273608
               ]
              ]
             ],
             "type": "Polygon"
            },
            "id": "1.1852372287805846,-0.7416967341888256",
            "type": "Feature"
           },
           {
            "geometry": {
             "coordinates": [
              [
               [
                67.90909093090909,
                -35.940494058394584
               ],
               [
                68.5909091140909,
                -35.62114425423612
               ],
               [
                68.5909091140909,
                -34.97860829889037
               ],
               [
                67.90909093090909,
                -34.65543222216165
               ],
               [
                67.22727274772727,
                -34.97860829889037
               ],
               [
                67.22727274772727,
                -35.62114425423612
               ],
               [
                67.90909093090909,
                -35.940494058394584
               ]
              ]
             ],
             "type": "Polygon"
            },
            "id": "1.1852372287805846,-0.6592513083769249",
            "type": "Feature"
           },
           {
            "geometry": {
             "coordinates": [
              [
               [
                67.90909093090909,
                -34.00529041676964
               ],
               [
                68.5909091140909,
                -33.678335855357275
               ],
               [
                68.5909091140909,
                -33.02068871801436
               ],
               [
                67.90909093090909,
                -32.69000842137051
               ],
               [
                67.22727274772727,
                -33.02068871801436
               ],
               [
                67.22727274772727,
                -33.678335855357275
               ],
               [
                67.90909093090909,
                -34.00529041676964
               ]
              ]
             ],
             "type": "Polygon"
            },
            "id": "1.1852372287805846,-0.6180285954709746",
            "type": "Feature"
           },
           {
            "geometry": {
             "coordinates": [
              [
               [
                67.90909093090909,
                -32.024966476816466
               ],
               [
                68.5909091140909,
                -31.690618236956208
               ],
               [
                68.5909091140909,
                -31.01830216697947
               ],
               [
                67.90909093090909,
                -30.680348887673055
               ],
               [
                67.22727274772727,
                -31.01830216697947
               ],
               [
                67.22727274772727,
                -31.690618236956208
               ],
               [
                67.90909093090909,
                -32.024966476816466
               ]
              ]
             ],
             "type": "Polygon"
            },
            "id": "1.1852372287805846,-0.5768058825650242",
            "type": "Feature"
           },
           {
            "geometry": {
             "coordinates": [
              [
               [
                67.90909093090909,
                -30.0008896569427
               ],
               [
                68.5909091140909,
                -29.659399410144857
               ],
               [
                68.5909091140909,
                -28.97293836557683
               ],
               [
                67.90909093090909,
                -28.627984434159064
               ],
               [
                67.22727274772727,
                -28.97293836557683
               ],
               [
                67.22727274772727,
                -29.659399410144857
               ],
               [
                67.90909093090909,
                -30.0008896569427
               ]
              ]
             ],
             "type": "Polygon"
            },
            "id": "1.1852372287805846,-0.5355831696590738",
            "type": "Feature"
           },
           {
            "geometry": {
             "coordinates": [
              [
               [
                69.27272729727272,
                -44.90804775470793
               ],
               [
                69.95454548045454,
                -44.62857416958301
               ],
               [
                69.95454548045454,
                -44.06557080109546
               ],
               [
                69.27272729727272,
                -43.782041623674104
               ],
               [
                68.59090911409092,
                -44.06557080109546
               ],
               [
                68.59090911409092,
                -44.62857416958301
               ],
               [
                69.27272729727272,
                -44.90804775470793
               ]
              ]
             ],
             "type": "Polygon"
            },
            "id": "1.2090371731735619,-0.8653648729066767",
            "type": "Feature"
           },
           {
            "geometry": {
             "coordinates": [
              [
               [
                69.27272729727272,
                -43.21093079831662
               ],
               [
                69.95454548045454,
                -42.92335056484793
               ],
               [
                69.95454548045454,
                -42.344145034800086
               ],
               [
                69.27272729727272,
                -42.0525219941646
               ],
               [
                68.59090911409092,
                -42.344145034800086
               ],
               [
                68.59090911409092,
                -42.92335056484793
               ],
               [
                69.27272729727272,
                -43.21093079831662
               ]
              ]
             ],
             "type": "Polygon"
            },
            "id": "1.2090371731735619,-0.8241421600007264",
            "type": "Feature"
           },
           {
            "geometry": {
             "coordinates": [
              [
               [
                69.27272729727272,
                -41.46524208454954
               ],
               [
                69.95454548045454,
                -41.16958834542567
               ],
               [
                69.95454548045454,
                -40.57426224611941
               ],
               [
                69.27272729727272,
                -40.274593921456685
               ],
               [
                68.59090911409092,
                -40.57426224611941
               ],
               [
                68.59090911409092,
                -41.16958834542567
               ],
               [
                69.27272729727272,
                -41.46524208454954
               ]
              ]
             ],
             "type": "Polygon"
            },
            "id": "1.2090371731735619,-0.782919447094776",
            "type": "Feature"
           },
           {
            "geometry": {
             "coordinates": [
              [
               [
                69.27272729727272,
                -39.67125797273608
               ],
               [
                69.95454548045454,
                -39.36759532075098
               ],
               [
                69.95454548045454,
                -38.756294291171216
               ],
               [
                69.27272729727272,
                -38.448661852041546
               ],
               [
                68.59090911409092,
                -38.756294291171216
               ],
               [
                68.59090911409092,
                -39.36759532075098
               ],
               [
                69.27272729727272,
                -39.67125797273608
               ]
              ]
             ],
             "type": "Polygon"
            },
            "id": "1.2090371731735619,-0.7416967341888256",
            "type": "Feature"
           },
           {
            "geometry": {
             "coordinates": [
              [
               [
                69.27272729727272,
                -34.00529041676964
               ],
               [
                69.95454548045454,
                -33.678335855357275
               ],
               [
                69.95454548045454,
                -33.02068871801436
               ],
               [
                69.27272729727272,
                -32.69000842137051
               ],
               [
                68.59090911409092,
                -33.02068871801436
               ],
               [
                68.59090911409092,
                -33.678335855357275
               ],
               [
                69.27272729727272,
                -34.00529041676964
               ]
              ]
             ],
             "type": "Polygon"
            },
            "id": "1.2090371731735619,-0.6180285954709746",
            "type": "Feature"
           },
           {
            "geometry": {
             "coordinates": [
              [
               [
                69.27272729727272,
                -32.024966476816466
               ],
               [
                69.95454548045454,
                -31.690618236956208
               ],
               [
                69.95454548045454,
                -31.01830216697947
               ],
               [
                69.27272729727272,
                -30.680348887673055
               ],
               [
                68.59090911409092,
                -31.01830216697947
               ],
               [
                68.59090911409092,
                -31.690618236956208
               ],
               [
                69.27272729727272,
                -32.024966476816466
               ]
              ]
             ],
             "type": "Polygon"
            },
            "id": "1.2090371731735619,-0.5768058825650242",
            "type": "Feature"
           },
           {
            "geometry": {
             "coordinates": [
              [
               [
                69.27272729727272,
                -30.0008896569427
               ],
               [
                69.95454548045454,
                -29.659399410144857
               ],
               [
                69.95454548045454,
                -28.97293836557683
               ],
               [
                69.27272729727272,
                -28.627984434159064
               ],
               [
                68.59090911409092,
                -28.97293836557683
               ],
               [
                68.59090911409092,
                -29.659399410144857
               ],
               [
                69.27272729727272,
                -30.0008896569427
               ]
              ]
             ],
             "type": "Polygon"
            },
            "id": "1.2090371731735619,-0.5355831696590738",
            "type": "Feature"
           },
           {
            "geometry": {
             "coordinates": [
              [
               [
                70.63636366363636,
                -41.46524208454954
               ],
               [
                71.31818184681818,
                -41.16958834542567
               ],
               [
                71.31818184681818,
                -40.57426224611941
               ],
               [
                70.63636366363636,
                -40.274593921456685
               ],
               [
                69.95454548045454,
                -40.57426224611941
               ],
               [
                69.95454548045454,
                -41.16958834542567
               ],
               [
                70.63636366363636,
                -41.46524208454954
               ]
              ]
             ],
             "type": "Polygon"
            },
            "id": "1.232837117566539,-0.782919447094776",
            "type": "Feature"
           },
           {
            "geometry": {
             "coordinates": [
              [
               [
                70.63636366363636,
                -39.67125797273608
               ],
               [
                71.31818184681818,
                -39.36759532075098
               ],
               [
                71.31818184681818,
                -38.756294291171216
               ],
               [
                70.63636366363636,
                -38.448661852041546
               ],
               [
                69.95454548045454,
                -38.756294291171216
               ],
               [
                69.95454548045454,
                -39.36759532075098
               ],
               [
                70.63636366363636,
                -39.67125797273608
               ]
              ]
             ],
             "type": "Polygon"
            },
            "id": "1.232837117566539,-0.7416967341888256",
            "type": "Feature"
           },
           {
            "geometry": {
             "coordinates": [
              [
               [
                72.00000003,
                -41.46524208454954
               ],
               [
                72.68181821318181,
                -41.16958834542567
               ],
               [
                72.68181821318181,
                -40.57426224611941
               ],
               [
                72.00000003,
                -40.274593921456685
               ],
               [
                71.31818184681818,
                -40.57426224611941
               ],
               [
                71.31818184681818,
                -41.16958834542567
               ],
               [
                72.00000003,
                -41.46524208454954
               ]
              ]
             ],
             "type": "Polygon"
            },
            "id": "1.256637061959516,-0.782919447094776",
            "type": "Feature"
           },
           {
            "geometry": {
             "coordinates": [
              [
               [
                42.681818153181815,
                -45.738355210739094
               ],
               [
                43.36363633636363,
                -45.46293819064564
               ],
               [
                43.36363633636363,
                -44.90804775470793
               ],
               [
                42.681818153181815,
                -44.62857416958301
               ],
               [
                41.999999970000005,
                -44.90804775470793
               ],
               [
                41.999999970000005,
                -45.46293819064564
               ],
               [
                42.681818153181815,
                -45.738355210739094
               ]
              ]
             ],
             "type": "Polygon"
            },
            "id": "0.7449382575105081,-0.8859762293596519",
            "type": "Feature"
           },
           {
            "geometry": {
             "coordinates": [
              [
               [
                42.681818153181815,
                -15.91306579164077
               ],
               [
                43.36363633636363,
                -15.534148917848238
               ],
               [
                43.36363633636363,
                -14.774237062497322
               ],
               [
                42.681818153181815,
                -14.393273047106062
               ],
               [
                41.999999970000005,
                -14.774237062497322
               ],
               [
                41.999999970000005,
                -15.534148917848238
               ],
               [
                42.681818153181815,
                -15.91306579164077
               ]
              ]
             ],
             "type": "Polygon"
            },
            "id": "0.7449382575105081,-0.26763553577039634",
            "type": "Feature"
           },
           {
            "geometry": {
             "coordinates": [
              [
               [
                44.04545451954546,
                -45.738355210739094
               ],
               [
                44.72727270272727,
                -45.46293819064564
               ],
               [
                44.72727270272727,
                -44.90804775470793
               ],
               [
                44.04545451954546,
                -44.62857416958301
               ],
               [
                43.36363633636363,
                -44.90804775470793
               ],
               [
                43.36363633636363,
                -45.46293819064564
               ],
               [
                44.04545451954546,
                -45.738355210739094
               ]
              ]
             ],
             "type": "Polygon"
            },
            "id": "0.7687382019034853,-0.8859762293596519",
            "type": "Feature"
           },
           {
            "geometry": {
             "coordinates": [
              [
               [
                44.04545451954546,
                -36.89081409263251
               ],
               [
                44.72727270272727,
                -36.57533347919717
               ],
               [
                44.72727270272727,
                -35.940494058394584
               ],
               [
                44.04545451954546,
                -35.62114425423612
               ],
               [
                43.36363633636363,
                -35.940494058394584
               ],
               [
                43.36363633636363,
                -36.57533347919717
               ],
               [
                44.04545451954546,
                -36.89081409263251
               ]
              ]
             ],
             "type": "Polygon"
            },
            "id": "0.7687382019034853,-0.6798626648299001",
            "type": "Feature"
           },
           {
            "geometry": {
             "coordinates": [
              [
               [
                44.04545451954546,
                -20.400240760170597
               ],
               [
                44.72727270272727,
                -20.030842639010405
               ],
               [
                44.72727270272727,
                -19.289448879034072
               ],
               [
                44.04545451954546,
                -18.917480312700423
               ],
               [
                43.36363633636363,
                -19.289448879034072
               ],
               [
                43.36363633636363,
                -20.030842639010405
               ],
               [
                44.04545451954546,
                -20.400240760170597
               ]
              ]
             ],
             "type": "Polygon"
            },
            "id": "0.7687382019034853,-0.35008096158229707",
            "type": "Feature"
           },
           {
            "geometry": {
             "coordinates": [
              [
               [
                44.04545451954546,
                -18.17106878828689
               ],
               [
                44.72727270272727,
                -17.7966539345571
               ],
               [
                44.72727270272727,
                -17.04547756077712
               ],
               [
                44.04545451954546,
                -16.668745140827017
               ],
               [
                43.36363633636363,
                -17.04547756077712
               ],
               [
                43.36363633636363,
                -17.7966539345571
               ],
               [
                44.04545451954546,
                -18.17106878828689
               ]
              ]
             ],
             "type": "Polygon"
            },
            "id": "0.7687382019034853,-0.3088582486763467",
            "type": "Feature"
           },
           {
            "geometry": {
             "coordinates": [
              [
               [
                44.04545451954546,
                -15.91306579164077
               ],
               [
                44.72727270272727,
                -15.534148917848238
               ],
               [
                44.72727270272727,
                -14.774237062497322
               ],
               [
                44.04545451954546,
                -14.393273047106062
               ],
               [
                43.36363633636363,
                -14.774237062497322
               ],
               [
                43.36363633636363,
                -15.534148917848238
               ],
               [
                44.04545451954546,
                -15.91306579164077
               ]
              ]
             ],
             "type": "Polygon"
            },
            "id": "0.7687382019034853,-0.26763553577039634",
            "type": "Feature"
           },
           {
            "geometry": {
             "coordinates": [
              [
               [
                45.40909088590909,
                -42.344145034800086
               ],
               [
                46.090909069090905,
                -42.0525219941646
               ],
               [
                46.090909069090905,
                -41.46524208454954
               ],
               [
                45.40909088590909,
                -41.16958834542567
               ],
               [
                44.72727270272727,
                -41.46524208454954
               ],
               [
                44.72727270272727,
                -42.0525219941646
               ],
               [
                45.40909088590909,
                -42.344145034800086
               ]
              ]
             ],
             "type": "Polygon"
            },
            "id": "0.7925381462964624,-0.8035308035477512",
            "type": "Feature"
           },
           {
            "geometry": {
             "coordinates": [
              [
               [
                45.40909088590909,
                -36.89081409263251
               ],
               [
                46.090909069090905,
                -36.57533347919717
               ],
               [
                46.090909069090905,
                -35.940494058394584
               ],
               [
                45.40909088590909,
                -35.62114425423612
               ],
               [
                44.72727270272727,
                -35.940494058394584
               ],
               [
                44.72727270272727,
                -36.57533347919717
               ],
               [
                45.40909088590909,
                -36.89081409263251
               ]
              ]
             ],
             "type": "Polygon"
            },
            "id": "0.7925381462964624,-0.6798626648299001",
            "type": "Feature"
           },
           {
            "geometry": {
             "coordinates": [
              [
               [
                45.40909088590909,
                -18.17106878828689
               ],
               [
                46.090909069090905,
                -17.7966539345571
               ],
               [
                46.090909069090905,
                -17.04547756077712
               ],
               [
                45.40909088590909,
                -16.668745140827017
               ],
               [
                44.72727270272727,
                -17.04547756077712
               ],
               [
                44.72727270272727,
                -17.7966539345571
               ],
               [
                45.40909088590909,
                -18.17106878828689
               ]
              ]
             ],
             "type": "Polygon"
            },
            "id": "0.7925381462964624,-0.3088582486763467",
            "type": "Feature"
           },
           {
            "geometry": {
             "coordinates": [
              [
               [
                45.40909088590909,
                -15.91306579164077
               ],
               [
                46.090909069090905,
                -15.534148917848238
               ],
               [
                46.090909069090905,
                -14.774237062497322
               ],
               [
                45.40909088590909,
                -14.393273047106062
               ],
               [
                44.72727270272727,
                -14.774237062497322
               ],
               [
                44.72727270272727,
                -15.534148917848238
               ],
               [
                45.40909088590909,
                -15.91306579164077
               ]
              ]
             ],
             "type": "Polygon"
            },
            "id": "0.7925381462964624,-0.26763553577039634",
            "type": "Feature"
           },
           {
            "geometry": {
             "coordinates": [
              [
               [
                46.77272725227273,
                -45.738355210739094
               ],
               [
                47.45454543545454,
                -45.46293819064564
               ],
               [
                47.45454543545454,
                -44.90804775470793
               ],
               [
                46.77272725227273,
                -44.62857416958301
               ],
               [
                46.09090906909092,
                -44.90804775470793
               ],
               [
                46.09090906909092,
                -45.46293819064564
               ],
               [
                46.77272725227273,
                -45.738355210739094
               ]
              ]
             ],
             "type": "Polygon"
            },
            "id": "0.8163380906894395,-0.8859762293596519",
            "type": "Feature"
           },
           {
            "geometry": {
             "coordinates": [
              [
               [
                46.77272725227273,
                -42.344145034800086
               ],
               [
                47.45454543545454,
                -42.0525219941646
               ],
               [
                47.45454543545454,
                -41.46524208454954
               ],
               [
                46.77272725227273,
                -41.16958834542567
               ],
               [
                46.09090906909092,
                -41.46524208454954
               ],
               [
                46.09090906909092,
                -42.0525219941646
               ],
               [
                46.77272725227273,
                -42.344145034800086
               ]
              ]
             ],
             "type": "Polygon"
            },
            "id": "0.8163380906894395,-0.8035308035477512",
            "type": "Feature"
           },
           {
            "geometry": {
             "coordinates": [
              [
               [
                46.77272725227273,
                -38.756294291171216
               ],
               [
                47.45454543545454,
                -38.448661852041546
               ],
               [
                47.45454543545454,
                -37.82944920685779
               ],
               [
                46.77272725227273,
                -37.517875934254796
               ],
               [
                46.09090906909092,
                -37.82944920685779
               ],
               [
                46.09090906909092,
                -38.448661852041546
               ],
               [
                46.77272725227273,
                -38.756294291171216
               ]
              ]
             ],
             "type": "Polygon"
            },
            "id": "0.8163380906894395,-0.7210853777358505",
            "type": "Feature"
           },
           {
            "geometry": {
             "coordinates": [
              [
               [
                46.77272725227273,
                -36.89081409263251
               ],
               [
                47.45454543545454,
                -36.57533347919717
               ],
               [
                47.45454543545454,
                -35.940494058394584
               ],
               [
                46.77272725227273,
                -35.62114425423612
               ],
               [
                46.09090906909092,
                -35.940494058394584
               ],
               [
                46.09090906909092,
                -36.57533347919717
               ],
               [
                46.77272725227273,
                -36.89081409263251
               ]
              ]
             ],
             "type": "Polygon"
            },
            "id": "0.8163380906894395,-0.6798626648299001",
            "type": "Feature"
           },
           {
            "geometry": {
             "coordinates": [
              [
               [
                48.136363618636366,
                -45.738355210739094
               ],
               [
                48.81818180181818,
                -45.46293819064564
               ],
               [
                48.81818180181818,
                -44.90804775470793
               ],
               [
                48.136363618636366,
                -44.62857416958301
               ],
               [
                47.45454543545454,
                -44.90804775470793
               ],
               [
                47.45454543545454,
                -45.46293819064564
               ],
               [
                48.136363618636366,
                -45.738355210739094
               ]
              ]
             ],
             "type": "Polygon"
            },
            "id": "0.8401380350824166,-0.8859762293596519",
            "type": "Feature"
           },
           {
            "geometry": {
             "coordinates": [
              [
               [
                48.136363618636366,
                -44.06557080109546
               ],
               [
                48.81818180181818,
                -43.782041623674104
               ],
               [
                48.81818180181818,
                -43.21093079831662
               ],
               [
                48.136363618636366,
                -42.92335056484793
               ],
               [
                47.45454543545454,
                -43.21093079831662
               ],
               [
                47.45454543545454,
                -43.782041623674104
               ],
               [
                48.136363618636366,
                -44.06557080109546
               ]
              ]
             ],
             "type": "Polygon"
            },
            "id": "0.8401380350824166,-0.8447535164537016",
            "type": "Feature"
           },
           {
            "geometry": {
             "coordinates": [
              [
               [
                48.136363618636366,
                -42.344145034800086
               ],
               [
                48.81818180181818,
                -42.0525219941646
               ],
               [
                48.81818180181818,
                -41.46524208454954
               ],
               [
                48.136363618636366,
                -41.16958834542567
               ],
               [
                47.45454543545454,
                -41.46524208454954
               ],
               [
                47.45454543545454,
                -42.0525219941646
               ],
               [
                48.136363618636366,
                -42.344145034800086
               ]
              ]
             ],
             "type": "Polygon"
            },
            "id": "0.8401380350824166,-0.8035308035477512",
            "type": "Feature"
           },
           {
            "geometry": {
             "coordinates": [
              [
               [
                48.136363618636366,
                -38.756294291171216
               ],
               [
                48.81818180181818,
                -38.448661852041546
               ],
               [
                48.81818180181818,
                -37.82944920685779
               ],
               [
                48.136363618636366,
                -37.517875934254796
               ],
               [
                47.45454543545454,
                -37.82944920685779
               ],
               [
                47.45454543545454,
                -38.448661852041546
               ],
               [
                48.136363618636366,
                -38.756294291171216
               ]
              ]
             ],
             "type": "Polygon"
            },
            "id": "0.8401380350824166,-0.7210853777358505",
            "type": "Feature"
           },
           {
            "geometry": {
             "coordinates": [
              [
               [
                48.136363618636366,
                -36.89081409263251
               ],
               [
                48.81818180181818,
                -36.57533347919717
               ],
               [
                48.81818180181818,
                -35.940494058394584
               ],
               [
                48.136363618636366,
                -35.62114425423612
               ],
               [
                47.45454543545454,
                -35.940494058394584
               ],
               [
                47.45454543545454,
                -36.57533347919717
               ],
               [
                48.136363618636366,
                -36.89081409263251
               ]
              ]
             ],
             "type": "Polygon"
            },
            "id": "0.8401380350824166,-0.6798626648299001",
            "type": "Feature"
           },
           {
            "geometry": {
             "coordinates": [
              [
               [
                48.136363618636366,
                -34.97860829889037
               ],
               [
                48.81818180181818,
                -34.65543222216165
               ],
               [
                48.81818180181818,
                -34.005290416769625
               ],
               [
                48.136363618636366,
                -33.678335855357275
               ],
               [
                47.45454543545454,
                -34.005290416769625
               ],
               [
                47.45454543545454,
                -34.65543222216165
               ],
               [
                48.136363618636366,
                -34.97860829889037
               ]
              ]
             ],
             "type": "Polygon"
            },
            "id": "0.8401380350824166,-0.6386399519239496",
            "type": "Feature"
           },
           {
            "geometry": {
             "coordinates": [
              [
               [
                48.136363618636366,
                -31.018302166979456
               ],
               [
                48.81818180181818,
                -30.680348887673055
               ],
               [
                48.81818180181818,
                -30.0008896569427
               ],
               [
                48.136363618636366,
                -29.659399410144857
               ],
               [
                47.45454543545454,
                -30.0008896569427
               ],
               [
                47.45454543545454,
                -30.680348887673055
               ],
               [
                48.136363618636366,
                -31.018302166979456
               ]
              ]
             ],
             "type": "Polygon"
            },
            "id": "0.8401380350824166,-0.5561945261120489",
            "type": "Feature"
           },
           {
            "geometry": {
             "coordinates": [
              [
               [
                48.136363618636366,
                -13.629407348605179
               ],
               [
                48.81818180181818,
                -13.246537493660302
               ],
               [
                48.81818180181818,
                -12.479004370358245
               ],
               [
                48.136363618636366,
                -12.094373739472207
               ],
               [
                47.45454543545454,
                -12.479004370358245
               ],
               [
                47.45454543545454,
                -13.246537493660302
               ],
               [
                48.136363618636366,
                -13.629407348605179
               ]
              ]
             ],
             "type": "Polygon"
            },
            "id": "0.8401380350824166,-0.22641282286444597",
            "type": "Feature"
           },
           {
            "geometry": {
             "coordinates": [
              [
               [
                48.136363618636366,
                -11.323466890945843
               ],
               [
                48.81818180181818,
                -10.937224063599297
               ],
               [
                48.81818180181818,
                -10.163243962436015
               ],
               [
                48.136363618636366,
                -9.775540771664078
               ],
               [
                47.45454543545454,
                -10.163243962436015
               ],
               [
                47.45454543545454,
                -10.937224063599297
               ],
               [
                48.136363618636366,
                -11.323466890945843
               ]
              ]
             ],
             "type": "Polygon"
            },
            "id": "0.8401380350824166,-0.1851901099584956",
            "type": "Feature"
           },
           {
            "geometry": {
             "coordinates": [
              [
               [
                48.136363618636366,
                -8.9987941229748
               ],
               [
                48.81818180181818,
                -8.609785377429594
               ],
               [
                48.81818180181818,
                -7.830584548212443
               ],
               [
                48.136363618636366,
                -7.440427739729316
               ],
               [
                47.45454543545454,
                -7.830584548212443
               ],
               [
                47.45454543545454,
                -8.609785377429594
               ],
               [
                48.136363618636366,
                -8.9987941229748
               ]
              ]
             ],
             "type": "Polygon"
            },
            "id": "0.8401380350824166,-0.14396739705254524",
            "type": "Feature"
           },
           {
            "geometry": {
             "coordinates": [
              [
               [
                49.499999985,
                -42.344145034800086
               ],
               [
                50.18181816818181,
                -42.0525219941646
               ],
               [
                50.18181816818181,
                -41.46524208454954
               ],
               [
                49.499999985,
                -41.16958834542567
               ],
               [
                48.81818180181818,
                -41.46524208454954
               ],
               [
                48.81818180181818,
                -42.0525219941646
               ],
               [
                49.499999985,
                -42.344145034800086
               ]
              ]
             ],
             "type": "Polygon"
            },
            "id": "0.8639379794753936,-0.8035308035477512",
            "type": "Feature"
           },
           {
            "geometry": {
             "coordinates": [
              [
               [
                49.499999985,
                -40.57426224611941
               ],
               [
                50.18181816818181,
                -40.274593921456685
               ],
               [
                50.18181816818181,
                -39.67125797273608
               ],
               [
                49.499999985,
                -39.36759532075098
               ],
               [
                48.81818180181818,
                -39.67125797273608
               ],
               [
                48.81818180181818,
                -40.274593921456685
               ],
               [
                49.499999985,
                -40.57426224611941
               ]
              ]
             ],
             "type": "Polygon"
            },
            "id": "0.8639379794753936,-0.7623080906418008",
            "type": "Feature"
           },
           {
            "geometry": {
             "coordinates": [
              [
               [
                49.499999985,
                -38.756294291171216
               ],
               [
                50.18181816818181,
                -38.448661852041546
               ],
               [
                50.18181816818181,
                -37.82944920685779
               ],
               [
                49.499999985,
                -37.517875934254796
               ],
               [
                48.81818180181818,
                -37.82944920685779
               ],
               [
                48.81818180181818,
                -38.448661852041546
               ],
               [
                49.499999985,
                -38.756294291171216
               ]
              ]
             ],
             "type": "Polygon"
            },
            "id": "0.8639379794753936,-0.7210853777358505",
            "type": "Feature"
           },
           {
            "geometry": {
             "coordinates": [
              [
               [
                49.499999985,
                -36.89081409263251
               ],
               [
                50.18181816818181,
                -36.57533347919717
               ],
               [
                50.18181816818181,
                -35.940494058394584
               ],
               [
                49.499999985,
                -35.62114425423612
               ],
               [
                48.81818180181818,
                -35.940494058394584
               ],
               [
                48.81818180181818,
                -36.57533347919717
               ],
               [
                49.499999985,
                -36.89081409263251
               ]
              ]
             ],
             "type": "Polygon"
            },
            "id": "0.8639379794753936,-0.6798626648299001",
            "type": "Feature"
           },
           {
            "geometry": {
             "coordinates": [
              [
               [
                49.499999985,
                -34.97860829889037
               ],
               [
                50.18181816818181,
                -34.65543222216165
               ],
               [
                50.18181816818181,
                -34.005290416769625
               ],
               [
                49.499999985,
                -33.678335855357275
               ],
               [
                48.81818180181818,
                -34.005290416769625
               ],
               [
                48.81818180181818,
                -34.65543222216165
               ],
               [
                49.499999985,
                -34.97860829889037
               ]
              ]
             ],
             "type": "Polygon"
            },
            "id": "0.8639379794753936,-0.6386399519239496",
            "type": "Feature"
           },
           {
            "geometry": {
             "coordinates": [
              [
               [
                49.499999985,
                -33.02068871801436
               ],
               [
                50.18181816818181,
                -32.69000842137049
               ],
               [
                50.18181816818181,
                -32.024966476816466
               ],
               [
                49.499999985,
                -31.690618236956208
               ],
               [
                48.81818180181818,
                -32.024966476816466
               ],
               [
                48.81818180181818,
                -32.69000842137049
               ],
               [
                49.499999985,
                -33.02068871801436
               ]
              ]
             ],
             "type": "Polygon"
            },
            "id": "0.8639379794753936,-0.5974172390179993",
            "type": "Feature"
           },
           {
            "geometry": {
             "coordinates": [
              [
               [
                49.499999985,
                -31.018302166979456
               ],
               [
                50.18181816818181,
                -30.680348887673055
               ],
               [
                50.18181816818181,
                -30.0008896569427
               ],
               [
                49.499999985,
                -29.659399410144857
               ],
               [
                48.81818180181818,
                -30.0008896569427
               ],
               [
                48.81818180181818,
                -30.680348887673055
               ],
               [
                49.499999985,
                -31.018302166979456
               ]
              ]
             ],
             "type": "Polygon"
            },
            "id": "0.8639379794753936,-0.5561945261120489",
            "type": "Feature"
           },
           {
            "geometry": {
             "coordinates": [
              [
               [
                49.499999985,
                -28.97293836557683
               ],
               [
                50.18181816818181,
                -28.62798443415905
               ],
               [
                50.18181816818181,
                -27.934673375977997
               ],
               [
                49.499999985,
                -27.586334281862243
               ],
               [
                48.81818180181818,
                -27.934673375977997
               ],
               [
                48.81818180181818,
                -28.62798443415905
               ],
               [
                49.499999985,
                -28.97293836557683
               ]
              ]
             ],
             "type": "Polygon"
            },
            "id": "0.8639379794753936,-0.5149718132060985",
            "type": "Feature"
           },
           {
            "geometry": {
             "coordinates": [
              [
               [
                49.499999985,
                -24.760483131153798
               ],
               [
                50.18181816818181,
                -24.40251216281074
               ],
               [
                50.18181816818181,
                -23.683528876349666
               ],
               [
                49.499999985,
                -23.322539228722555
               ],
               [
                48.81818180181818,
                -23.683528876349666
               ],
               [
                48.81818180181818,
                -24.40251216281074
               ],
               [
                49.499999985,
                -24.760483131153798
               ]
              ]
             ],
             "type": "Polygon"
            },
            "id": "0.8639379794753936,-0.43252638739419785",
            "type": "Feature"
           },
           {
            "geometry": {
             "coordinates": [
              [
               [
                49.499999985,
                -22.597622022074045
               ],
               [
                50.18181816818181,
                -22.23371826658171
               ],
               [
                50.18181816818181,
                -21.503081358955768
               ],
               [
                49.499999985,
                -21.13637312455803
               ],
               [
                48.81818180181818,
                -21.503081358955768
               ],
               [
                48.81818180181818,
                -22.23371826658171
               ],
               [
                49.499999985,
                -22.597622022074045
               ]
              ]
             ],
             "type": "Polygon"
            },
            "id": "0.8639379794753936,-0.39130367448824743",
            "type": "Feature"
           },
           {
            "geometry": {
             "coordinates": [
              [
               [
                49.499999985,
                -20.400240760170597
               ],
               [
                50.18181816818181,
                -20.030842639010405
               ],
               [
                50.18181816818181,
                -19.289448879034072
               ],
               [
                49.499999985,
                -18.917480312700423
               ],
               [
                48.81818180181818,
                -19.289448879034072
               ],
               [
                48.81818180181818,
                -20.030842639010405
               ],
               [
                49.499999985,
                -20.400240760170597
               ]
              ]
             ],
             "type": "Polygon"
            },
            "id": "0.8639379794753936,-0.35008096158229707",
            "type": "Feature"
           },
           {
            "geometry": {
             "coordinates": [
              [
               [
                49.499999985,
                -13.629407348605179
               ],
               [
                50.18181816818181,
                -13.246537493660302
               ],
               [
                50.18181816818181,
                -12.479004370358245
               ],
               [
                49.499999985,
                -12.094373739472207
               ],
               [
                48.81818180181818,
                -12.479004370358245
               ],
               [
                48.81818180181818,
                -13.246537493660302
               ],
               [
                49.499999985,
                -13.629407348605179
               ]
              ]
             ],
             "type": "Polygon"
            },
            "id": "0.8639379794753936,-0.22641282286444597",
            "type": "Feature"
           },
           {
            "geometry": {
             "coordinates": [
              [
               [
                49.499999985,
                -11.323466890945843
               ],
               [
                50.18181816818181,
                -10.937224063599297
               ],
               [
                50.18181816818181,
                -10.163243962436015
               ],
               [
                49.499999985,
                -9.775540771664078
               ],
               [
                48.81818180181818,
                -10.163243962436015
               ],
               [
                48.81818180181818,
                -10.937224063599297
               ],
               [
                49.499999985,
                -11.323466890945843
               ]
              ]
             ],
             "type": "Polygon"
            },
            "id": "0.8639379794753936,-0.1851901099584956",
            "type": "Feature"
           },
           {
            "geometry": {
             "coordinates": [
              [
               [
                49.499999985,
                -8.9987941229748
               ],
               [
                50.18181816818181,
                -8.609785377429594
               ],
               [
                50.18181816818181,
                -7.830584548212443
               ],
               [
                49.499999985,
                -7.440427739729316
               ],
               [
                48.81818180181818,
                -7.830584548212443
               ],
               [
                48.81818180181818,
                -8.609785377429594
               ],
               [
                49.499999985,
                -8.9987941229748
               ]
              ]
             ],
             "type": "Polygon"
            },
            "id": "0.8639379794753936,-0.14396739705254524",
            "type": "Feature"
           },
           {
            "geometry": {
             "coordinates": [
              [
               [
                49.499999985,
                -6.659090160468774
               ],
               [
                50.18181816818181,
                -6.267945158391975
               ],
               [
                50.18181816818181,
                -5.484792699527005
               ],
               [
                49.499999985,
                -5.092821433170325
               ],
               [
                48.81818180181818,
                -5.484792699527005
               ],
               [
                48.81818180181818,
                -6.267945158391975
               ],
               [
                49.499999985,
                -6.659090160468774
               ]
              ]
             ],
             "type": "Polygon"
            },
            "id": "0.8639379794753936,-0.10274468414659488",
            "type": "Feature"
           },
           {
            "geometry": {
             "coordinates": [
              [
               [
                49.499999985,
                -4.308179759293602
               ],
               [
                50.18181816818181,
                -3.9155458900200393
               ],
               [
                50.18181816818181,
                -3.1297437948759796
               ],
               [
                49.499999985,
                -2.7366123793771684
               ],
               [
                48.81818180181818,
                -3.1297437948759796
               ],
               [
                48.81818180181818,
                -3.9155458900200393
               ],
               [
                49.499999985,
                -4.308179759293602
               ]
              ]
             ],
             "type": "Polygon"
            },
            "id": "0.8639379794753936,-0.06152197124064451",
            "type": "Feature"
           },
           {
            "geometry": {
             "coordinates": [
              [
               [
                50.86363635136363,
                -44.06557080109546
               ],
               [
                51.54545453454545,
                -43.782041623674104
               ],
               [
                51.54545453454545,
                -43.21093079831662
               ],
               [
                50.86363635136363,
                -42.92335056484793
               ],
               [
                50.18181816818182,
                -43.21093079831662
               ],
               [
                50.18181816818182,
                -43.782041623674104
               ],
               [
                50.86363635136363,
                -44.06557080109546
               ]
              ]
             ],
             "type": "Polygon"
            },
            "id": "0.8877379238683708,-0.8447535164537016",
            "type": "Feature"
           },
           {
            "geometry": {
             "coordinates": [
              [
               [
                50.86363635136363,
                -42.344145034800086
               ],
               [
                51.54545453454545,
                -42.0525219941646
               ],
               [
                51.54545453454545,
                -41.46524208454954
               ],
               [
                50.86363635136363,
                -41.16958834542567
               ],
               [
                50.18181816818182,
                -41.46524208454954
               ],
               [
                50.18181816818182,
                -42.0525219941646
               ],
               [
                50.86363635136363,
                -42.344145034800086
               ]
              ]
             ],
             "type": "Polygon"
            },
            "id": "0.8877379238683708,-0.8035308035477512",
            "type": "Feature"
           },
           {
            "geometry": {
             "coordinates": [
              [
               [
                50.86363635136363,
                -40.57426224611941
               ],
               [
                51.54545453454545,
                -40.274593921456685
               ],
               [
                51.54545453454545,
                -39.67125797273608
               ],
               [
                50.86363635136363,
                -39.36759532075098
               ],
               [
                50.18181816818182,
                -39.67125797273608
               ],
               [
                50.18181816818182,
                -40.274593921456685
               ],
               [
                50.86363635136363,
                -40.57426224611941
               ]
              ]
             ],
             "type": "Polygon"
            },
            "id": "0.8877379238683708,-0.7623080906418008",
            "type": "Feature"
           },
           {
            "geometry": {
             "coordinates": [
              [
               [
                50.86363635136363,
                -38.756294291171216
               ],
               [
                51.54545453454545,
                -38.448661852041546
               ],
               [
                51.54545453454545,
                -37.82944920685779
               ],
               [
                50.86363635136363,
                -37.517875934254796
               ],
               [
                50.18181816818182,
                -37.82944920685779
               ],
               [
                50.18181816818182,
                -38.448661852041546
               ],
               [
                50.86363635136363,
                -38.756294291171216
               ]
              ]
             ],
             "type": "Polygon"
            },
            "id": "0.8877379238683708,-0.7210853777358505",
            "type": "Feature"
           },
           {
            "geometry": {
             "coordinates": [
              [
               [
                50.86363635136363,
                -36.89081409263251
               ],
               [
                51.54545453454545,
                -36.57533347919717
               ],
               [
                51.54545453454545,
                -35.940494058394584
               ],
               [
                50.86363635136363,
                -35.62114425423612
               ],
               [
                50.18181816818182,
                -35.940494058394584
               ],
               [
                50.18181816818182,
                -36.57533347919717
               ],
               [
                50.86363635136363,
                -36.89081409263251
               ]
              ]
             ],
             "type": "Polygon"
            },
            "id": "0.8877379238683708,-0.6798626648299001",
            "type": "Feature"
           },
           {
            "geometry": {
             "coordinates": [
              [
               [
                50.86363635136363,
                -34.97860829889037
               ],
               [
                51.54545453454545,
                -34.65543222216165
               ],
               [
                51.54545453454545,
                -34.005290416769625
               ],
               [
                50.86363635136363,
                -33.678335855357275
               ],
               [
                50.18181816818182,
                -34.005290416769625
               ],
               [
                50.18181816818182,
                -34.65543222216165
               ],
               [
                50.86363635136363,
                -34.97860829889037
               ]
              ]
             ],
             "type": "Polygon"
            },
            "id": "0.8877379238683708,-0.6386399519239496",
            "type": "Feature"
           },
           {
            "geometry": {
             "coordinates": [
              [
               [
                50.86363635136363,
                -33.02068871801436
               ],
               [
                51.54545453454545,
                -32.69000842137049
               ],
               [
                51.54545453454545,
                -32.024966476816466
               ],
               [
                50.86363635136363,
                -31.690618236956208
               ],
               [
                50.18181816818182,
                -32.024966476816466
               ],
               [
                50.18181816818182,
                -32.69000842137049
               ],
               [
                50.86363635136363,
                -33.02068871801436
               ]
              ]
             ],
             "type": "Polygon"
            },
            "id": "0.8877379238683708,-0.5974172390179993",
            "type": "Feature"
           },
           {
            "geometry": {
             "coordinates": [
              [
               [
                50.86363635136363,
                -31.018302166979456
               ],
               [
                51.54545453454545,
                -30.680348887673055
               ],
               [
                51.54545453454545,
                -30.0008896569427
               ],
               [
                50.86363635136363,
                -29.659399410144857
               ],
               [
                50.18181816818182,
                -30.0008896569427
               ],
               [
                50.18181816818182,
                -30.680348887673055
               ],
               [
                50.86363635136363,
                -31.018302166979456
               ]
              ]
             ],
             "type": "Polygon"
            },
            "id": "0.8877379238683708,-0.5561945261120489",
            "type": "Feature"
           },
           {
            "geometry": {
             "coordinates": [
              [
               [
                50.86363635136363,
                -28.97293836557683
               ],
               [
                51.54545453454545,
                -28.62798443415905
               ],
               [
                51.54545453454545,
                -27.934673375977997
               ],
               [
                50.86363635136363,
                -27.586334281862243
               ],
               [
                50.18181816818182,
                -27.934673375977997
               ],
               [
                50.18181816818182,
                -28.62798443415905
               ],
               [
                50.86363635136363,
                -28.97293836557683
               ]
              ]
             ],
             "type": "Polygon"
            },
            "id": "0.8877379238683708,-0.5149718132060985",
            "type": "Feature"
           },
           {
            "geometry": {
             "coordinates": [
              [
               [
                50.86363635136363,
                -26.8863355045969
               ],
               [
                51.54545453454545,
                -26.534695021431894
               ],
               [
                51.54545453454545,
                -25.828181323177716
               ],
               [
                50.86363635136363,
                -25.473328472753064
               ],
               [
                50.18181816818182,
                -25.828181323177716
               ],
               [
                50.18181816818182,
                -26.534695021431894
               ],
               [
                50.86363635136363,
                -26.8863355045969
               ]
              ]
             ],
             "type": "Polygon"
            },
            "id": "0.8877379238683708,-0.4737491003001482",
            "type": "Feature"
           },
           {
            "geometry": {
             "coordinates": [
              [
               [
                50.86363635136363,
                -24.760483131153798
               ],
               [
                51.54545453454545,
                -24.40251216281074
               ],
               [
                51.54545453454545,
                -23.683528876349666
               ],
               [
                50.86363635136363,
                -23.322539228722555
               ],
               [
                50.18181816818182,
                -23.683528876349666
               ],
               [
                50.18181816818182,
                -24.40251216281074
               ],
               [
                50.86363635136363,
                -24.760483131153798
               ]
              ]
             ],
             "type": "Polygon"
            },
            "id": "0.8877379238683708,-0.43252638739419785",
            "type": "Feature"
           },
           {
            "geometry": {
             "coordinates": [
              [
               [
                50.86363635136363,
                -22.597622022074045
               ],
               [
                51.54545453454545,
                -22.23371826658171
               ],
               [
                51.54545453454545,
                -21.503081358955768
               ],
               [
                50.86363635136363,
                -21.13637312455803
               ],
               [
                50.18181816818182,
                -21.503081358955768
               ],
               [
                50.18181816818182,
                -22.23371826658171
               ],
               [
                50.86363635136363,
                -22.597622022074045
               ]
              ]
             ],
             "type": "Polygon"
            },
            "id": "0.8877379238683708,-0.39130367448824743",
            "type": "Feature"
           },
           {
            "geometry": {
             "coordinates": [
              [
               [
                50.86363635136363,
                -20.400240760170597
               ],
               [
                51.54545453454545,
                -20.030842639010405
               ],
               [
                51.54545453454545,
                -19.289448879034072
               ],
               [
                50.86363635136363,
                -18.917480312700423
               ],
               [
                50.18181816818182,
                -19.289448879034072
               ],
               [
                50.18181816818182,
                -20.030842639010405
               ],
               [
                50.86363635136363,
                -20.400240760170597
               ]
              ]
             ],
             "type": "Polygon"
            },
            "id": "0.8877379238683708,-0.35008096158229707",
            "type": "Feature"
           },
           {
            "geometry": {
             "coordinates": [
              [
               [
                50.86363635136363,
                -13.629407348605179
               ],
               [
                51.54545453454545,
                -13.246537493660302
               ],
               [
                51.54545453454545,
                -12.479004370358245
               ],
               [
                50.86363635136363,
                -12.094373739472207
               ],
               [
                50.18181816818182,
                -12.479004370358245
               ],
               [
                50.18181816818182,
                -13.246537493660302
               ],
               [
                50.86363635136363,
                -13.629407348605179
               ]
              ]
             ],
             "type": "Polygon"
            },
            "id": "0.8877379238683708,-0.22641282286444597",
            "type": "Feature"
           },
           {
            "geometry": {
             "coordinates": [
              [
               [
                50.86363635136363,
                -11.323466890945843
               ],
               [
                51.54545453454545,
                -10.937224063599297
               ],
               [
                51.54545453454545,
                -10.163243962436015
               ],
               [
                50.86363635136363,
                -9.775540771664078
               ],
               [
                50.18181816818182,
                -10.163243962436015
               ],
               [
                50.18181816818182,
                -10.937224063599297
               ],
               [
                50.86363635136363,
                -11.323466890945843
               ]
              ]
             ],
             "type": "Polygon"
            },
            "id": "0.8877379238683708,-0.1851901099584956",
            "type": "Feature"
           },
           {
            "geometry": {
             "coordinates": [
              [
               [
                50.86363635136363,
                -8.9987941229748
               ],
               [
                51.54545453454545,
                -8.609785377429594
               ],
               [
                51.54545453454545,
                -7.830584548212443
               ],
               [
                50.86363635136363,
                -7.440427739729316
               ],
               [
                50.18181816818182,
                -7.830584548212443
               ],
               [
                50.18181816818182,
                -8.609785377429594
               ],
               [
                50.86363635136363,
                -8.9987941229748
               ]
              ]
             ],
             "type": "Polygon"
            },
            "id": "0.8877379238683708,-0.14396739705254524",
            "type": "Feature"
           },
           {
            "geometry": {
             "coordinates": [
              [
               [
                50.86363635136363,
                -6.659090160468774
               ],
               [
                51.54545453454545,
                -6.267945158391975
               ],
               [
                51.54545453454545,
                -5.484792699527005
               ],
               [
                50.86363635136363,
                -5.092821433170325
               ],
               [
                50.18181816818182,
                -5.484792699527005
               ],
               [
                50.18181816818182,
                -6.267945158391975
               ],
               [
                50.86363635136363,
                -6.659090160468774
               ]
              ]
             ],
             "type": "Polygon"
            },
            "id": "0.8877379238683708,-0.10274468414659488",
            "type": "Feature"
           },
           {
            "geometry": {
             "coordinates": [
              [
               [
                50.86363635136363,
                -4.308179759293602
               ],
               [
                51.54545453454545,
                -3.9155458900200393
               ],
               [
                51.54545453454545,
                -3.1297437948759796
               ],
               [
                50.86363635136363,
                -2.7366123793771684
               ],
               [
                50.18181816818182,
                -3.1297437948759796
               ],
               [
                50.18181816818182,
                -3.9155458900200393
               ],
               [
                50.86363635136363,
                -4.308179759293602
               ]
              ]
             ],
             "type": "Polygon"
            },
            "id": "0.8877379238683708,-0.06152197124064451",
            "type": "Feature"
           },
           {
            "geometry": {
             "coordinates": [
              [
               [
                52.22727271772728,
                -42.344145034800086
               ],
               [
                52.90909090090909,
                -42.0525219941646
               ],
               [
                52.90909090090909,
                -41.46524208454954
               ],
               [
                52.22727271772728,
                -41.16958834542567
               ],
               [
                51.545454534545456,
                -41.46524208454954
               ],
               [
                51.545454534545456,
                -42.0525219941646
               ],
               [
                52.22727271772728,
                -42.344145034800086
               ]
              ]
             ],
             "type": "Polygon"
            },
            "id": "0.911537868261348,-0.8035308035477512",
            "type": "Feature"
           },
           {
            "geometry": {
             "coordinates": [
              [
               [
                52.22727271772728,
                -40.57426224611941
               ],
               [
                52.90909090090909,
                -40.274593921456685
               ],
               [
                52.90909090090909,
                -39.67125797273608
               ],
               [
                52.22727271772728,
                -39.36759532075098
               ],
               [
                51.545454534545456,
                -39.67125797273608
               ],
               [
                51.545454534545456,
                -40.274593921456685
               ],
               [
                52.22727271772728,
                -40.57426224611941
               ]
              ]
             ],
             "type": "Polygon"
            },
            "id": "0.911537868261348,-0.7623080906418008",
            "type": "Feature"
           },
           {
            "geometry": {
             "coordinates": [
              [
               [
                52.22727271772728,
                -38.756294291171216
               ],
               [
                52.90909090090909,
                -38.448661852041546
               ],
               [
                52.90909090090909,
                -37.82944920685779
               ],
               [
                52.22727271772728,
                -37.517875934254796
               ],
               [
                51.545454534545456,
                -37.82944920685779
               ],
               [
                51.545454534545456,
                -38.448661852041546
               ],
               [
                52.22727271772728,
                -38.756294291171216
               ]
              ]
             ],
             "type": "Polygon"
            },
            "id": "0.911537868261348,-0.7210853777358505",
            "type": "Feature"
           },
           {
            "geometry": {
             "coordinates": [
              [
               [
                52.22727271772728,
                -36.89081409263251
               ],
               [
                52.90909090090909,
                -36.57533347919717
               ],
               [
                52.90909090090909,
                -35.940494058394584
               ],
               [
                52.22727271772728,
                -35.62114425423612
               ],
               [
                51.545454534545456,
                -35.940494058394584
               ],
               [
                51.545454534545456,
                -36.57533347919717
               ],
               [
                52.22727271772728,
                -36.89081409263251
               ]
              ]
             ],
             "type": "Polygon"
            },
            "id": "0.911537868261348,-0.6798626648299001",
            "type": "Feature"
           },
           {
            "geometry": {
             "coordinates": [
              [
               [
                52.22727271772728,
                -34.97860829889037
               ],
               [
                52.90909090090909,
                -34.65543222216165
               ],
               [
                52.90909090090909,
                -34.005290416769625
               ],
               [
                52.22727271772728,
                -33.678335855357275
               ],
               [
                51.545454534545456,
                -34.005290416769625
               ],
               [
                51.545454534545456,
                -34.65543222216165
               ],
               [
                52.22727271772728,
                -34.97860829889037
               ]
              ]
             ],
             "type": "Polygon"
            },
            "id": "0.911537868261348,-0.6386399519239496",
            "type": "Feature"
           },
           {
            "geometry": {
             "coordinates": [
              [
               [
                52.22727271772728,
                -33.02068871801436
               ],
               [
                52.90909090090909,
                -32.69000842137049
               ],
               [
                52.90909090090909,
                -32.024966476816466
               ],
               [
                52.22727271772728,
                -31.690618236956208
               ],
               [
                51.545454534545456,
                -32.024966476816466
               ],
               [
                51.545454534545456,
                -32.69000842137049
               ],
               [
                52.22727271772728,
                -33.02068871801436
               ]
              ]
             ],
             "type": "Polygon"
            },
            "id": "0.911537868261348,-0.5974172390179993",
            "type": "Feature"
           },
           {
            "geometry": {
             "coordinates": [
              [
               [
                52.22727271772728,
                -31.018302166979456
               ],
               [
                52.90909090090909,
                -30.680348887673055
               ],
               [
                52.90909090090909,
                -30.0008896569427
               ],
               [
                52.22727271772728,
                -29.659399410144857
               ],
               [
                51.545454534545456,
                -30.0008896569427
               ],
               [
                51.545454534545456,
                -30.680348887673055
               ],
               [
                52.22727271772728,
                -31.018302166979456
               ]
              ]
             ],
             "type": "Polygon"
            },
            "id": "0.911537868261348,-0.5561945261120489",
            "type": "Feature"
           },
           {
            "geometry": {
             "coordinates": [
              [
               [
                52.22727271772728,
                -28.97293836557683
               ],
               [
                52.90909090090909,
                -28.62798443415905
               ],
               [
                52.90909090090909,
                -27.934673375977997
               ],
               [
                52.22727271772728,
                -27.586334281862243
               ],
               [
                51.545454534545456,
                -27.934673375977997
               ],
               [
                51.545454534545456,
                -28.62798443415905
               ],
               [
                52.22727271772728,
                -28.97293836557683
               ]
              ]
             ],
             "type": "Polygon"
            },
            "id": "0.911537868261348,-0.5149718132060985",
            "type": "Feature"
           },
           {
            "geometry": {
             "coordinates": [
              [
               [
                52.22727271772728,
                -26.8863355045969
               ],
               [
                52.90909090090909,
                -26.534695021431894
               ],
               [
                52.90909090090909,
                -25.828181323177716
               ],
               [
                52.22727271772728,
                -25.473328472753064
               ],
               [
                51.545454534545456,
                -25.828181323177716
               ],
               [
                51.545454534545456,
                -26.534695021431894
               ],
               [
                52.22727271772728,
                -26.8863355045969
               ]
              ]
             ],
             "type": "Polygon"
            },
            "id": "0.911537868261348,-0.4737491003001482",
            "type": "Feature"
           },
           {
            "geometry": {
             "coordinates": [
              [
               [
                52.22727271772728,
                -24.760483131153798
               ],
               [
                52.90909090090909,
                -24.40251216281074
               ],
               [
                52.90909090090909,
                -23.683528876349666
               ],
               [
                52.22727271772728,
                -23.322539228722555
               ],
               [
                51.545454534545456,
                -23.683528876349666
               ],
               [
                51.545454534545456,
                -24.40251216281074
               ],
               [
                52.22727271772728,
                -24.760483131153798
               ]
              ]
             ],
             "type": "Polygon"
            },
            "id": "0.911537868261348,-0.43252638739419785",
            "type": "Feature"
           },
           {
            "geometry": {
             "coordinates": [
              [
               [
                52.22727271772728,
                -22.597622022074045
               ],
               [
                52.90909090090909,
                -22.23371826658171
               ],
               [
                52.90909090090909,
                -21.503081358955768
               ],
               [
                52.22727271772728,
                -21.13637312455803
               ],
               [
                51.545454534545456,
                -21.503081358955768
               ],
               [
                51.545454534545456,
                -22.23371826658171
               ],
               [
                52.22727271772728,
                -22.597622022074045
               ]
              ]
             ],
             "type": "Polygon"
            },
            "id": "0.911537868261348,-0.39130367448824743",
            "type": "Feature"
           },
           {
            "geometry": {
             "coordinates": [
              [
               [
                52.22727271772728,
                -20.400240760170597
               ],
               [
                52.90909090090909,
                -20.030842639010405
               ],
               [
                52.90909090090909,
                -19.289448879034072
               ],
               [
                52.22727271772728,
                -18.917480312700423
               ],
               [
                51.545454534545456,
                -19.289448879034072
               ],
               [
                51.545454534545456,
                -20.030842639010405
               ],
               [
                52.22727271772728,
                -20.400240760170597
               ]
              ]
             ],
             "type": "Polygon"
            },
            "id": "0.911537868261348,-0.35008096158229707",
            "type": "Feature"
           },
           {
            "geometry": {
             "coordinates": [
              [
               [
                52.22727271772728,
                -18.17106878828689
               ],
               [
                52.90909090090909,
                -17.7966539345571
               ],
               [
                52.90909090090909,
                -17.04547756077712
               ],
               [
                52.22727271772728,
                -16.668745140827017
               ],
               [
                51.545454534545456,
                -17.04547756077712
               ],
               [
                51.545454534545456,
                -17.7966539345571
               ],
               [
                52.22727271772728,
                -18.17106878828689
               ]
              ]
             ],
             "type": "Polygon"
            },
            "id": "0.911537868261348,-0.3088582486763467",
            "type": "Feature"
           },
           {
            "geometry": {
             "coordinates": [
              [
               [
                52.22727271772728,
                -15.91306579164077
               ],
               [
                52.90909090090909,
                -15.534148917848238
               ],
               [
                52.90909090090909,
                -14.774237062497322
               ],
               [
                52.22727271772728,
                -14.393273047106062
               ],
               [
                51.545454534545456,
                -14.774237062497322
               ],
               [
                51.545454534545456,
                -15.534148917848238
               ],
               [
                52.22727271772728,
                -15.91306579164077
               ]
              ]
             ],
             "type": "Polygon"
            },
            "id": "0.911537868261348,-0.26763553577039634",
            "type": "Feature"
           },
           {
            "geometry": {
             "coordinates": [
              [
               [
                52.22727271772728,
                -13.629407348605179
               ],
               [
                52.90909090090909,
                -13.246537493660302
               ],
               [
                52.90909090090909,
                -12.479004370358245
               ],
               [
                52.22727271772728,
                -12.094373739472207
               ],
               [
                51.545454534545456,
                -12.479004370358245
               ],
               [
                51.545454534545456,
                -13.246537493660302
               ],
               [
                52.22727271772728,
                -13.629407348605179
               ]
              ]
             ],
             "type": "Polygon"
            },
            "id": "0.911537868261348,-0.22641282286444597",
            "type": "Feature"
           },
           {
            "geometry": {
             "coordinates": [
              [
               [
                52.22727271772728,
                -11.323466890945843
               ],
               [
                52.90909090090909,
                -10.937224063599297
               ],
               [
                52.90909090090909,
                -10.163243962436015
               ],
               [
                52.22727271772728,
                -9.775540771664078
               ],
               [
                51.545454534545456,
                -10.163243962436015
               ],
               [
                51.545454534545456,
                -10.937224063599297
               ],
               [
                52.22727271772728,
                -11.323466890945843
               ]
              ]
             ],
             "type": "Polygon"
            },
            "id": "0.911537868261348,-0.1851901099584956",
            "type": "Feature"
           },
           {
            "geometry": {
             "coordinates": [
              [
               [
                52.22727271772728,
                -6.659090160468774
               ],
               [
                52.90909090090909,
                -6.267945158391975
               ],
               [
                52.90909090090909,
                -5.484792699527005
               ],
               [
                52.22727271772728,
                -5.092821433170325
               ],
               [
                51.545454534545456,
                -5.484792699527005
               ],
               [
                51.545454534545456,
                -6.267945158391975
               ],
               [
                52.22727271772728,
                -6.659090160468774
               ]
              ]
             ],
             "type": "Polygon"
            },
            "id": "0.911537868261348,-0.10274468414659488",
            "type": "Feature"
           },
           {
            "geometry": {
             "coordinates": [
              [
               [
                52.22727271772728,
                -4.308179759293602
               ],
               [
                52.90909090090909,
                -3.9155458900200393
               ],
               [
                52.90909090090909,
                -3.1297437948759796
               ],
               [
                52.22727271772728,
                -2.7366123793771684
               ],
               [
                51.545454534545456,
                -3.1297437948759796
               ],
               [
                51.545454534545456,
                -3.9155458900200393
               ],
               [
                52.22727271772728,
                -4.308179759293602
               ]
              ]
             ],
             "type": "Polygon"
            },
            "id": "0.911537868261348,-0.06152197124064451",
            "type": "Feature"
           },
           {
            "geometry": {
             "coordinates": [
              [
               [
                53.5909090840909,
                -45.738355210739094
               ],
               [
                54.27272726727273,
                -45.46293819064564
               ],
               [
                54.27272726727273,
                -44.90804775470793
               ],
               [
                53.5909090840909,
                -44.62857416958301
               ],
               [
                52.90909090090909,
                -44.90804775470793
               ],
               [
                52.90909090090909,
                -45.46293819064564
               ],
               [
                53.5909090840909,
                -45.738355210739094
               ]
              ]
             ],
             "type": "Polygon"
            },
            "id": "0.935337812654325,-0.8859762293596519",
            "type": "Feature"
           },
           {
            "geometry": {
             "coordinates": [
              [
               [
                53.5909090840909,
                -42.344145034800086
               ],
               [
                54.27272726727273,
                -42.0525219941646
               ],
               [
                54.27272726727273,
                -41.46524208454954
               ],
               [
                53.5909090840909,
                -41.16958834542567
               ],
               [
                52.90909090090909,
                -41.46524208454954
               ],
               [
                52.90909090090909,
                -42.0525219941646
               ],
               [
                53.5909090840909,
                -42.344145034800086
               ]
              ]
             ],
             "type": "Polygon"
            },
            "id": "0.935337812654325,-0.8035308035477512",
            "type": "Feature"
           },
           {
            "geometry": {
             "coordinates": [
              [
               [
                53.5909090840909,
                -40.57426224611941
               ],
               [
                54.27272726727273,
                -40.274593921456685
               ],
               [
                54.27272726727273,
                -39.67125797273608
               ],
               [
                53.5909090840909,
                -39.36759532075098
               ],
               [
                52.90909090090909,
                -39.67125797273608
               ],
               [
                52.90909090090909,
                -40.274593921456685
               ],
               [
                53.5909090840909,
                -40.57426224611941
               ]
              ]
             ],
             "type": "Polygon"
            },
            "id": "0.935337812654325,-0.7623080906418008",
            "type": "Feature"
           },
           {
            "geometry": {
             "coordinates": [
              [
               [
                53.5909090840909,
                -38.756294291171216
               ],
               [
                54.27272726727273,
                -38.448661852041546
               ],
               [
                54.27272726727273,
                -37.82944920685779
               ],
               [
                53.5909090840909,
                -37.517875934254796
               ],
               [
                52.90909090090909,
                -37.82944920685779
               ],
               [
                52.90909090090909,
                -38.448661852041546
               ],
               [
                53.5909090840909,
                -38.756294291171216
               ]
              ]
             ],
             "type": "Polygon"
            },
            "id": "0.935337812654325,-0.7210853777358505",
            "type": "Feature"
           },
           {
            "geometry": {
             "coordinates": [
              [
               [
                53.5909090840909,
                -36.89081409263251
               ],
               [
                54.27272726727273,
                -36.57533347919717
               ],
               [
                54.27272726727273,
                -35.940494058394584
               ],
               [
                53.5909090840909,
                -35.62114425423612
               ],
               [
                52.90909090090909,
                -35.940494058394584
               ],
               [
                52.90909090090909,
                -36.57533347919717
               ],
               [
                53.5909090840909,
                -36.89081409263251
               ]
              ]
             ],
             "type": "Polygon"
            },
            "id": "0.935337812654325,-0.6798626648299001",
            "type": "Feature"
           },
           {
            "geometry": {
             "coordinates": [
              [
               [
                53.5909090840909,
                -34.97860829889037
               ],
               [
                54.27272726727273,
                -34.65543222216165
               ],
               [
                54.27272726727273,
                -34.005290416769625
               ],
               [
                53.5909090840909,
                -33.678335855357275
               ],
               [
                52.90909090090909,
                -34.005290416769625
               ],
               [
                52.90909090090909,
                -34.65543222216165
               ],
               [
                53.5909090840909,
                -34.97860829889037
               ]
              ]
             ],
             "type": "Polygon"
            },
            "id": "0.935337812654325,-0.6386399519239496",
            "type": "Feature"
           },
           {
            "geometry": {
             "coordinates": [
              [
               [
                53.5909090840909,
                -33.02068871801436
               ],
               [
                54.27272726727273,
                -32.69000842137049
               ],
               [
                54.27272726727273,
                -32.024966476816466
               ],
               [
                53.5909090840909,
                -31.690618236956208
               ],
               [
                52.90909090090909,
                -32.024966476816466
               ],
               [
                52.90909090090909,
                -32.69000842137049
               ],
               [
                53.5909090840909,
                -33.02068871801436
               ]
              ]
             ],
             "type": "Polygon"
            },
            "id": "0.935337812654325,-0.5974172390179993",
            "type": "Feature"
           },
           {
            "geometry": {
             "coordinates": [
              [
               [
                53.5909090840909,
                -31.018302166979456
               ],
               [
                54.27272726727273,
                -30.680348887673055
               ],
               [
                54.27272726727273,
                -30.0008896569427
               ],
               [
                53.5909090840909,
                -29.659399410144857
               ],
               [
                52.90909090090909,
                -30.0008896569427
               ],
               [
                52.90909090090909,
                -30.680348887673055
               ],
               [
                53.5909090840909,
                -31.018302166979456
               ]
              ]
             ],
             "type": "Polygon"
            },
            "id": "0.935337812654325,-0.5561945261120489",
            "type": "Feature"
           },
           {
            "geometry": {
             "coordinates": [
              [
               [
                53.5909090840909,
                -28.97293836557683
               ],
               [
                54.27272726727273,
                -28.62798443415905
               ],
               [
                54.27272726727273,
                -27.934673375977997
               ],
               [
                53.5909090840909,
                -27.586334281862243
               ],
               [
                52.90909090090909,
                -27.934673375977997
               ],
               [
                52.90909090090909,
                -28.62798443415905
               ],
               [
                53.5909090840909,
                -28.97293836557683
               ]
              ]
             ],
             "type": "Polygon"
            },
            "id": "0.935337812654325,-0.5149718132060985",
            "type": "Feature"
           },
           {
            "geometry": {
             "coordinates": [
              [
               [
                53.5909090840909,
                -26.8863355045969
               ],
               [
                54.27272726727273,
                -26.534695021431894
               ],
               [
                54.27272726727273,
                -25.828181323177716
               ],
               [
                53.5909090840909,
                -25.473328472753064
               ],
               [
                52.90909090090909,
                -25.828181323177716
               ],
               [
                52.90909090090909,
                -26.534695021431894
               ],
               [
                53.5909090840909,
                -26.8863355045969
               ]
              ]
             ],
             "type": "Polygon"
            },
            "id": "0.935337812654325,-0.4737491003001482",
            "type": "Feature"
           },
           {
            "geometry": {
             "coordinates": [
              [
               [
                53.5909090840909,
                -24.760483131153798
               ],
               [
                54.27272726727273,
                -24.40251216281074
               ],
               [
                54.27272726727273,
                -23.683528876349666
               ],
               [
                53.5909090840909,
                -23.322539228722555
               ],
               [
                52.90909090090909,
                -23.683528876349666
               ],
               [
                52.90909090090909,
                -24.40251216281074
               ],
               [
                53.5909090840909,
                -24.760483131153798
               ]
              ]
             ],
             "type": "Polygon"
            },
            "id": "0.935337812654325,-0.43252638739419785",
            "type": "Feature"
           },
           {
            "geometry": {
             "coordinates": [
              [
               [
                53.5909090840909,
                -22.597622022074045
               ],
               [
                54.27272726727273,
                -22.23371826658171
               ],
               [
                54.27272726727273,
                -21.503081358955768
               ],
               [
                53.5909090840909,
                -21.13637312455803
               ],
               [
                52.90909090090909,
                -21.503081358955768
               ],
               [
                52.90909090090909,
                -22.23371826658171
               ],
               [
                53.5909090840909,
                -22.597622022074045
               ]
              ]
             ],
             "type": "Polygon"
            },
            "id": "0.935337812654325,-0.39130367448824743",
            "type": "Feature"
           },
           {
            "geometry": {
             "coordinates": [
              [
               [
                53.5909090840909,
                -20.400240760170597
               ],
               [
                54.27272726727273,
                -20.030842639010405
               ],
               [
                54.27272726727273,
                -19.289448879034072
               ],
               [
                53.5909090840909,
                -18.917480312700423
               ],
               [
                52.90909090090909,
                -19.289448879034072
               ],
               [
                52.90909090090909,
                -20.030842639010405
               ],
               [
                53.5909090840909,
                -20.400240760170597
               ]
              ]
             ],
             "type": "Polygon"
            },
            "id": "0.935337812654325,-0.35008096158229707",
            "type": "Feature"
           },
           {
            "geometry": {
             "coordinates": [
              [
               [
                53.5909090840909,
                -18.17106878828689
               ],
               [
                54.27272726727273,
                -17.7966539345571
               ],
               [
                54.27272726727273,
                -17.04547756077712
               ],
               [
                53.5909090840909,
                -16.668745140827017
               ],
               [
                52.90909090090909,
                -17.04547756077712
               ],
               [
                52.90909090090909,
                -17.7966539345571
               ],
               [
                53.5909090840909,
                -18.17106878828689
               ]
              ]
             ],
             "type": "Polygon"
            },
            "id": "0.935337812654325,-0.3088582486763467",
            "type": "Feature"
           },
           {
            "geometry": {
             "coordinates": [
              [
               [
                53.5909090840909,
                -15.91306579164077
               ],
               [
                54.27272726727273,
                -15.534148917848238
               ],
               [
                54.27272726727273,
                -14.774237062497322
               ],
               [
                53.5909090840909,
                -14.393273047106062
               ],
               [
                52.90909090090909,
                -14.774237062497322
               ],
               [
                52.90909090090909,
                -15.534148917848238
               ],
               [
                53.5909090840909,
                -15.91306579164077
               ]
              ]
             ],
             "type": "Polygon"
            },
            "id": "0.935337812654325,-0.26763553577039634",
            "type": "Feature"
           },
           {
            "geometry": {
             "coordinates": [
              [
               [
                53.5909090840909,
                -13.629407348605179
               ],
               [
                54.27272726727273,
                -13.246537493660302
               ],
               [
                54.27272726727273,
                -12.479004370358245
               ],
               [
                53.5909090840909,
                -12.094373739472207
               ],
               [
                52.90909090090909,
                -12.479004370358245
               ],
               [
                52.90909090090909,
                -13.246537493660302
               ],
               [
                53.5909090840909,
                -13.629407348605179
               ]
              ]
             ],
             "type": "Polygon"
            },
            "id": "0.935337812654325,-0.22641282286444597",
            "type": "Feature"
           },
           {
            "geometry": {
             "coordinates": [
              [
               [
                54.95454545045454,
                -44.06557080109546
               ],
               [
                55.636363633636364,
                -43.782041623674104
               ],
               [
                55.636363633636364,
                -43.21093079831662
               ],
               [
                54.95454545045454,
                -42.92335056484793
               ],
               [
                54.27272726727273,
                -43.21093079831662
               ],
               [
                54.27272726727273,
                -43.782041623674104
               ],
               [
                54.95454545045454,
                -44.06557080109546
               ]
              ]
             ],
             "type": "Polygon"
            },
            "id": "0.9591377570473021,-0.8447535164537016",
            "type": "Feature"
           },
           {
            "geometry": {
             "coordinates": [
              [
               [
                54.95454545045454,
                -42.344145034800086
               ],
               [
                55.636363633636364,
                -42.0525219941646
               ],
               [
                55.636363633636364,
                -41.46524208454954
               ],
               [
                54.95454545045454,
                -41.16958834542567
               ],
               [
                54.27272726727273,
                -41.46524208454954
               ],
               [
                54.27272726727273,
                -42.0525219941646
               ],
               [
                54.95454545045454,
                -42.344145034800086
               ]
              ]
             ],
             "type": "Polygon"
            },
            "id": "0.9591377570473021,-0.8035308035477512",
            "type": "Feature"
           },
           {
            "geometry": {
             "coordinates": [
              [
               [
                54.95454545045454,
                -40.57426224611941
               ],
               [
                55.636363633636364,
                -40.274593921456685
               ],
               [
                55.636363633636364,
                -39.67125797273608
               ],
               [
                54.95454545045454,
                -39.36759532075098
               ],
               [
                54.27272726727273,
                -39.67125797273608
               ],
               [
                54.27272726727273,
                -40.274593921456685
               ],
               [
                54.95454545045454,
                -40.57426224611941
               ]
              ]
             ],
             "type": "Polygon"
            },
            "id": "0.9591377570473021,-0.7623080906418008",
            "type": "Feature"
           },
           {
            "geometry": {
             "coordinates": [
              [
               [
                54.95454545045454,
                -38.756294291171216
               ],
               [
                55.636363633636364,
                -38.448661852041546
               ],
               [
                55.636363633636364,
                -37.82944920685779
               ],
               [
                54.95454545045454,
                -37.517875934254796
               ],
               [
                54.27272726727273,
                -37.82944920685779
               ],
               [
                54.27272726727273,
                -38.448661852041546
               ],
               [
                54.95454545045454,
                -38.756294291171216
               ]
              ]
             ],
             "type": "Polygon"
            },
            "id": "0.9591377570473021,-0.7210853777358505",
            "type": "Feature"
           },
           {
            "geometry": {
             "coordinates": [
              [
               [
                54.95454545045454,
                -36.89081409263251
               ],
               [
                55.636363633636364,
                -36.57533347919717
               ],
               [
                55.636363633636364,
                -35.940494058394584
               ],
               [
                54.95454545045454,
                -35.62114425423612
               ],
               [
                54.27272726727273,
                -35.940494058394584
               ],
               [
                54.27272726727273,
                -36.57533347919717
               ],
               [
                54.95454545045454,
                -36.89081409263251
               ]
              ]
             ],
             "type": "Polygon"
            },
            "id": "0.9591377570473021,-0.6798626648299001",
            "type": "Feature"
           },
           {
            "geometry": {
             "coordinates": [
              [
               [
                54.95454545045454,
                -34.97860829889037
               ],
               [
                55.636363633636364,
                -34.65543222216165
               ],
               [
                55.636363633636364,
                -34.005290416769625
               ],
               [
                54.95454545045454,
                -33.678335855357275
               ],
               [
                54.27272726727273,
                -34.005290416769625
               ],
               [
                54.27272726727273,
                -34.65543222216165
               ],
               [
                54.95454545045454,
                -34.97860829889037
               ]
              ]
             ],
             "type": "Polygon"
            },
            "id": "0.9591377570473021,-0.6386399519239496",
            "type": "Feature"
           },
           {
            "geometry": {
             "coordinates": [
              [
               [
                54.95454545045454,
                -33.02068871801436
               ],
               [
                55.636363633636364,
                -32.69000842137049
               ],
               [
                55.636363633636364,
                -32.024966476816466
               ],
               [
                54.95454545045454,
                -31.690618236956208
               ],
               [
                54.27272726727273,
                -32.024966476816466
               ],
               [
                54.27272726727273,
                -32.69000842137049
               ],
               [
                54.95454545045454,
                -33.02068871801436
               ]
              ]
             ],
             "type": "Polygon"
            },
            "id": "0.9591377570473021,-0.5974172390179993",
            "type": "Feature"
           },
           {
            "geometry": {
             "coordinates": [
              [
               [
                54.95454545045454,
                -31.018302166979456
               ],
               [
                55.636363633636364,
                -30.680348887673055
               ],
               [
                55.636363633636364,
                -30.0008896569427
               ],
               [
                54.95454545045454,
                -29.659399410144857
               ],
               [
                54.27272726727273,
                -30.0008896569427
               ],
               [
                54.27272726727273,
                -30.680348887673055
               ],
               [
                54.95454545045454,
                -31.018302166979456
               ]
              ]
             ],
             "type": "Polygon"
            },
            "id": "0.9591377570473021,-0.5561945261120489",
            "type": "Feature"
           },
           {
            "geometry": {
             "coordinates": [
              [
               [
                54.95454545045454,
                -28.97293836557683
               ],
               [
                55.636363633636364,
                -28.62798443415905
               ],
               [
                55.636363633636364,
                -27.934673375977997
               ],
               [
                54.95454545045454,
                -27.586334281862243
               ],
               [
                54.27272726727273,
                -27.934673375977997
               ],
               [
                54.27272726727273,
                -28.62798443415905
               ],
               [
                54.95454545045454,
                -28.97293836557683
               ]
              ]
             ],
             "type": "Polygon"
            },
            "id": "0.9591377570473021,-0.5149718132060985",
            "type": "Feature"
           },
           {
            "geometry": {
             "coordinates": [
              [
               [
                54.95454545045454,
                -26.8863355045969
               ],
               [
                55.636363633636364,
                -26.534695021431894
               ],
               [
                55.636363633636364,
                -25.828181323177716
               ],
               [
                54.95454545045454,
                -25.473328472753064
               ],
               [
                54.27272726727273,
                -25.828181323177716
               ],
               [
                54.27272726727273,
                -26.534695021431894
               ],
               [
                54.95454545045454,
                -26.8863355045969
               ]
              ]
             ],
             "type": "Polygon"
            },
            "id": "0.9591377570473021,-0.4737491003001482",
            "type": "Feature"
           },
           {
            "geometry": {
             "coordinates": [
              [
               [
                54.95454545045454,
                -24.760483131153798
               ],
               [
                55.636363633636364,
                -24.40251216281074
               ],
               [
                55.636363633636364,
                -23.683528876349666
               ],
               [
                54.95454545045454,
                -23.322539228722555
               ],
               [
                54.27272726727273,
                -23.683528876349666
               ],
               [
                54.27272726727273,
                -24.40251216281074
               ],
               [
                54.95454545045454,
                -24.760483131153798
               ]
              ]
             ],
             "type": "Polygon"
            },
            "id": "0.9591377570473021,-0.43252638739419785",
            "type": "Feature"
           },
           {
            "geometry": {
             "coordinates": [
              [
               [
                54.95454545045454,
                -22.597622022074045
               ],
               [
                55.636363633636364,
                -22.23371826658171
               ],
               [
                55.636363633636364,
                -21.503081358955768
               ],
               [
                54.95454545045454,
                -21.13637312455803
               ],
               [
                54.27272726727273,
                -21.503081358955768
               ],
               [
                54.27272726727273,
                -22.23371826658171
               ],
               [
                54.95454545045454,
                -22.597622022074045
               ]
              ]
             ],
             "type": "Polygon"
            },
            "id": "0.9591377570473021,-0.39130367448824743",
            "type": "Feature"
           },
           {
            "geometry": {
             "coordinates": [
              [
               [
                54.95454545045454,
                -20.400240760170597
               ],
               [
                55.636363633636364,
                -20.030842639010405
               ],
               [
                55.636363633636364,
                -19.289448879034072
               ],
               [
                54.95454545045454,
                -18.917480312700423
               ],
               [
                54.27272726727273,
                -19.289448879034072
               ],
               [
                54.27272726727273,
                -20.030842639010405
               ],
               [
                54.95454545045454,
                -20.400240760170597
               ]
              ]
             ],
             "type": "Polygon"
            },
            "id": "0.9591377570473021,-0.35008096158229707",
            "type": "Feature"
           },
           {
            "geometry": {
             "coordinates": [
              [
               [
                54.95454545045454,
                -18.17106878828689
               ],
               [
                55.636363633636364,
                -17.7966539345571
               ],
               [
                55.636363633636364,
                -17.04547756077712
               ],
               [
                54.95454545045454,
                -16.668745140827017
               ],
               [
                54.27272726727273,
                -17.04547756077712
               ],
               [
                54.27272726727273,
                -17.7966539345571
               ],
               [
                54.95454545045454,
                -18.17106878828689
               ]
              ]
             ],
             "type": "Polygon"
            },
            "id": "0.9591377570473021,-0.3088582486763467",
            "type": "Feature"
           },
           {
            "geometry": {
             "coordinates": [
              [
               [
                54.95454545045454,
                -15.91306579164077
               ],
               [
                55.636363633636364,
                -15.534148917848238
               ],
               [
                55.636363633636364,
                -14.774237062497322
               ],
               [
                54.95454545045454,
                -14.393273047106062
               ],
               [
                54.27272726727273,
                -14.774237062497322
               ],
               [
                54.27272726727273,
                -15.534148917848238
               ],
               [
                54.95454545045454,
                -15.91306579164077
               ]
              ]
             ],
             "type": "Polygon"
            },
            "id": "0.9591377570473021,-0.26763553577039634",
            "type": "Feature"
           },
           {
            "geometry": {
             "coordinates": [
              [
               [
                54.95454545045454,
                -13.629407348605179
               ],
               [
                55.636363633636364,
                -13.246537493660302
               ],
               [
                55.636363633636364,
                -12.479004370358245
               ],
               [
                54.95454545045454,
                -12.094373739472207
               ],
               [
                54.27272726727273,
                -12.479004370358245
               ],
               [
                54.27272726727273,
                -13.246537493660302
               ],
               [
                54.95454545045454,
                -13.629407348605179
               ]
              ]
             ],
             "type": "Polygon"
            },
            "id": "0.9591377570473021,-0.22641282286444597",
            "type": "Feature"
           },
           {
            "geometry": {
             "coordinates": [
              [
               [
                56.31818181681818,
                -42.344145034800086
               ],
               [
                57,
                -42.0525219941646
               ],
               [
                57,
                -41.46524208454954
               ],
               [
                56.31818181681818,
                -41.16958834542567
               ],
               [
                55.636363633636364,
                -41.46524208454954
               ],
               [
                55.636363633636364,
                -42.0525219941646
               ],
               [
                56.31818181681818,
                -42.344145034800086
               ]
              ]
             ],
             "type": "Polygon"
            },
            "id": "0.9829377014402793,-0.8035308035477512",
            "type": "Feature"
           },
           {
            "geometry": {
             "coordinates": [
              [
               [
                56.31818181681818,
                -40.57426224611941
               ],
               [
                57,
                -40.274593921456685
               ],
               [
                57,
                -39.67125797273608
               ],
               [
                56.31818181681818,
                -39.36759532075098
               ],
               [
                55.636363633636364,
                -39.67125797273608
               ],
               [
                55.636363633636364,
                -40.274593921456685
               ],
               [
                56.31818181681818,
                -40.57426224611941
               ]
              ]
             ],
             "type": "Polygon"
            },
            "id": "0.9829377014402793,-0.7623080906418008",
            "type": "Feature"
           },
           {
            "geometry": {
             "coordinates": [
              [
               [
                56.31818181681818,
                -38.756294291171216
               ],
               [
                57,
                -38.448661852041546
               ],
               [
                57,
                -37.82944920685779
               ],
               [
                56.31818181681818,
                -37.517875934254796
               ],
               [
                55.636363633636364,
                -37.82944920685779
               ],
               [
                55.636363633636364,
                -38.448661852041546
               ],
               [
                56.31818181681818,
                -38.756294291171216
               ]
              ]
             ],
             "type": "Polygon"
            },
            "id": "0.9829377014402793,-0.7210853777358505",
            "type": "Feature"
           },
           {
            "geometry": {
             "coordinates": [
              [
               [
                56.31818181681818,
                -36.89081409263251
               ],
               [
                57,
                -36.57533347919717
               ],
               [
                57,
                -35.940494058394584
               ],
               [
                56.31818181681818,
                -35.62114425423612
               ],
               [
                55.636363633636364,
                -35.940494058394584
               ],
               [
                55.636363633636364,
                -36.57533347919717
               ],
               [
                56.31818181681818,
                -36.89081409263251
               ]
              ]
             ],
             "type": "Polygon"
            },
            "id": "0.9829377014402793,-0.6798626648299001",
            "type": "Feature"
           },
           {
            "geometry": {
             "coordinates": [
              [
               [
                56.31818181681818,
                -34.97860829889037
               ],
               [
                57,
                -34.65543222216165
               ],
               [
                57,
                -34.005290416769625
               ],
               [
                56.31818181681818,
                -33.678335855357275
               ],
               [
                55.636363633636364,
                -34.005290416769625
               ],
               [
                55.636363633636364,
                -34.65543222216165
               ],
               [
                56.31818181681818,
                -34.97860829889037
               ]
              ]
             ],
             "type": "Polygon"
            },
            "id": "0.9829377014402793,-0.6386399519239496",
            "type": "Feature"
           },
           {
            "geometry": {
             "coordinates": [
              [
               [
                56.31818181681818,
                -33.02068871801436
               ],
               [
                57,
                -32.69000842137049
               ],
               [
                57,
                -32.024966476816466
               ],
               [
                56.31818181681818,
                -31.690618236956208
               ],
               [
                55.636363633636364,
                -32.024966476816466
               ],
               [
                55.636363633636364,
                -32.69000842137049
               ],
               [
                56.31818181681818,
                -33.02068871801436
               ]
              ]
             ],
             "type": "Polygon"
            },
            "id": "0.9829377014402793,-0.5974172390179993",
            "type": "Feature"
           },
           {
            "geometry": {
             "coordinates": [
              [
               [
                56.31818181681818,
                -31.018302166979456
               ],
               [
                57,
                -30.680348887673055
               ],
               [
                57,
                -30.0008896569427
               ],
               [
                56.31818181681818,
                -29.659399410144857
               ],
               [
                55.636363633636364,
                -30.0008896569427
               ],
               [
                55.636363633636364,
                -30.680348887673055
               ],
               [
                56.31818181681818,
                -31.018302166979456
               ]
              ]
             ],
             "type": "Polygon"
            },
            "id": "0.9829377014402793,-0.5561945261120489",
            "type": "Feature"
           },
           {
            "geometry": {
             "coordinates": [
              [
               [
                56.31818181681818,
                -28.97293836557683
               ],
               [
                57,
                -28.62798443415905
               ],
               [
                57,
                -27.934673375977997
               ],
               [
                56.31818181681818,
                -27.586334281862243
               ],
               [
                55.636363633636364,
                -27.934673375977997
               ],
               [
                55.636363633636364,
                -28.62798443415905
               ],
               [
                56.31818181681818,
                -28.97293836557683
               ]
              ]
             ],
             "type": "Polygon"
            },
            "id": "0.9829377014402793,-0.5149718132060985",
            "type": "Feature"
           },
           {
            "geometry": {
             "coordinates": [
              [
               [
                56.31818181681818,
                -26.8863355045969
               ],
               [
                57,
                -26.534695021431894
               ],
               [
                57,
                -25.828181323177716
               ],
               [
                56.31818181681818,
                -25.473328472753064
               ],
               [
                55.636363633636364,
                -25.828181323177716
               ],
               [
                55.636363633636364,
                -26.534695021431894
               ],
               [
                56.31818181681818,
                -26.8863355045969
               ]
              ]
             ],
             "type": "Polygon"
            },
            "id": "0.9829377014402793,-0.4737491003001482",
            "type": "Feature"
           },
           {
            "geometry": {
             "coordinates": [
              [
               [
                56.31818181681818,
                -24.760483131153798
               ],
               [
                57,
                -24.40251216281074
               ],
               [
                57,
                -23.683528876349666
               ],
               [
                56.31818181681818,
                -23.322539228722555
               ],
               [
                55.636363633636364,
                -23.683528876349666
               ],
               [
                55.636363633636364,
                -24.40251216281074
               ],
               [
                56.31818181681818,
                -24.760483131153798
               ]
              ]
             ],
             "type": "Polygon"
            },
            "id": "0.9829377014402793,-0.43252638739419785",
            "type": "Feature"
           },
           {
            "geometry": {
             "coordinates": [
              [
               [
                56.31818181681818,
                -22.597622022074045
               ],
               [
                57,
                -22.23371826658171
               ],
               [
                57,
                -21.503081358955768
               ],
               [
                56.31818181681818,
                -21.13637312455803
               ],
               [
                55.636363633636364,
                -21.503081358955768
               ],
               [
                55.636363633636364,
                -22.23371826658171
               ],
               [
                56.31818181681818,
                -22.597622022074045
               ]
              ]
             ],
             "type": "Polygon"
            },
            "id": "0.9829377014402793,-0.39130367448824743",
            "type": "Feature"
           },
           {
            "geometry": {
             "coordinates": [
              [
               [
                56.31818181681818,
                -20.400240760170597
               ],
               [
                57,
                -20.030842639010405
               ],
               [
                57,
                -19.289448879034072
               ],
               [
                56.31818181681818,
                -18.917480312700423
               ],
               [
                55.636363633636364,
                -19.289448879034072
               ],
               [
                55.636363633636364,
                -20.030842639010405
               ],
               [
                56.31818181681818,
                -20.400240760170597
               ]
              ]
             ],
             "type": "Polygon"
            },
            "id": "0.9829377014402793,-0.35008096158229707",
            "type": "Feature"
           },
           {
            "geometry": {
             "coordinates": [
              [
               [
                56.31818181681818,
                -18.17106878828689
               ],
               [
                57,
                -17.7966539345571
               ],
               [
                57,
                -17.04547756077712
               ],
               [
                56.31818181681818,
                -16.668745140827017
               ],
               [
                55.636363633636364,
                -17.04547756077712
               ],
               [
                55.636363633636364,
                -17.7966539345571
               ],
               [
                56.31818181681818,
                -18.17106878828689
               ]
              ]
             ],
             "type": "Polygon"
            },
            "id": "0.9829377014402793,-0.3088582486763467",
            "type": "Feature"
           },
           {
            "geometry": {
             "coordinates": [
              [
               [
                56.31818181681818,
                -15.91306579164077
               ],
               [
                57,
                -15.534148917848238
               ],
               [
                57,
                -14.774237062497322
               ],
               [
                56.31818181681818,
                -14.393273047106062
               ],
               [
                55.636363633636364,
                -14.774237062497322
               ],
               [
                55.636363633636364,
                -15.534148917848238
               ],
               [
                56.31818181681818,
                -15.91306579164077
               ]
              ]
             ],
             "type": "Polygon"
            },
            "id": "0.9829377014402793,-0.26763553577039634",
            "type": "Feature"
           },
           {
            "geometry": {
             "coordinates": [
              [
               [
                56.31818181681818,
                -13.629407348605179
               ],
               [
                57,
                -13.246537493660302
               ],
               [
                57,
                -12.479004370358245
               ],
               [
                56.31818181681818,
                -12.094373739472207
               ],
               [
                55.636363633636364,
                -12.479004370358245
               ],
               [
                55.636363633636364,
                -13.246537493660302
               ],
               [
                56.31818181681818,
                -13.629407348605179
               ]
              ]
             ],
             "type": "Polygon"
            },
            "id": "0.9829377014402793,-0.22641282286444597",
            "type": "Feature"
           },
           {
            "geometry": {
             "coordinates": [
              [
               [
                57.68181818318182,
                -42.344145034800086
               ],
               [
                58.36363636636364,
                -42.0525219941646
               ],
               [
                58.36363636636364,
                -41.46524208454954
               ],
               [
                57.68181818318182,
                -41.16958834542567
               ],
               [
                57.00000000000001,
                -41.46524208454954
               ],
               [
                57.00000000000001,
                -42.0525219941646
               ],
               [
                57.68181818318182,
                -42.344145034800086
               ]
              ]
             ],
             "type": "Polygon"
            },
            "id": "1.0067376458332564,-0.8035308035477512",
            "type": "Feature"
           },
           {
            "geometry": {
             "coordinates": [
              [
               [
                57.68181818318182,
                -40.57426224611941
               ],
               [
                58.36363636636364,
                -40.274593921456685
               ],
               [
                58.36363636636364,
                -39.67125797273608
               ],
               [
                57.68181818318182,
                -39.36759532075098
               ],
               [
                57.00000000000001,
                -39.67125797273608
               ],
               [
                57.00000000000001,
                -40.274593921456685
               ],
               [
                57.68181818318182,
                -40.57426224611941
               ]
              ]
             ],
             "type": "Polygon"
            },
            "id": "1.0067376458332564,-0.7623080906418008",
            "type": "Feature"
           },
           {
            "geometry": {
             "coordinates": [
              [
               [
                57.68181818318182,
                -38.756294291171216
               ],
               [
                58.36363636636364,
                -38.448661852041546
               ],
               [
                58.36363636636364,
                -37.82944920685779
               ],
               [
                57.68181818318182,
                -37.517875934254796
               ],
               [
                57.00000000000001,
                -37.82944920685779
               ],
               [
                57.00000000000001,
                -38.448661852041546
               ],
               [
                57.68181818318182,
                -38.756294291171216
               ]
              ]
             ],
             "type": "Polygon"
            },
            "id": "1.0067376458332564,-0.7210853777358505",
            "type": "Feature"
           },
           {
            "geometry": {
             "coordinates": [
              [
               [
                57.68181818318182,
                -36.89081409263251
               ],
               [
                58.36363636636364,
                -36.57533347919717
               ],
               [
                58.36363636636364,
                -35.940494058394584
               ],
               [
                57.68181818318182,
                -35.62114425423612
               ],
               [
                57.00000000000001,
                -35.940494058394584
               ],
               [
                57.00000000000001,
                -36.57533347919717
               ],
               [
                57.68181818318182,
                -36.89081409263251
               ]
              ]
             ],
             "type": "Polygon"
            },
            "id": "1.0067376458332564,-0.6798626648299001",
            "type": "Feature"
           },
           {
            "geometry": {
             "coordinates": [
              [
               [
                57.68181818318182,
                -34.97860829889037
               ],
               [
                58.36363636636364,
                -34.65543222216165
               ],
               [
                58.36363636636364,
                -34.005290416769625
               ],
               [
                57.68181818318182,
                -33.678335855357275
               ],
               [
                57.00000000000001,
                -34.005290416769625
               ],
               [
                57.00000000000001,
                -34.65543222216165
               ],
               [
                57.68181818318182,
                -34.97860829889037
               ]
              ]
             ],
             "type": "Polygon"
            },
            "id": "1.0067376458332564,-0.6386399519239496",
            "type": "Feature"
           },
           {
            "geometry": {
             "coordinates": [
              [
               [
                57.68181818318182,
                -33.02068871801436
               ],
               [
                58.36363636636364,
                -32.69000842137049
               ],
               [
                58.36363636636364,
                -32.024966476816466
               ],
               [
                57.68181818318182,
                -31.690618236956208
               ],
               [
                57.00000000000001,
                -32.024966476816466
               ],
               [
                57.00000000000001,
                -32.69000842137049
               ],
               [
                57.68181818318182,
                -33.02068871801436
               ]
              ]
             ],
             "type": "Polygon"
            },
            "id": "1.0067376458332564,-0.5974172390179993",
            "type": "Feature"
           },
           {
            "geometry": {
             "coordinates": [
              [
               [
                57.68181818318182,
                -31.018302166979456
               ],
               [
                58.36363636636364,
                -30.680348887673055
               ],
               [
                58.36363636636364,
                -30.0008896569427
               ],
               [
                57.68181818318182,
                -29.659399410144857
               ],
               [
                57.00000000000001,
                -30.0008896569427
               ],
               [
                57.00000000000001,
                -30.680348887673055
               ],
               [
                57.68181818318182,
                -31.018302166979456
               ]
              ]
             ],
             "type": "Polygon"
            },
            "id": "1.0067376458332564,-0.5561945261120489",
            "type": "Feature"
           },
           {
            "geometry": {
             "coordinates": [
              [
               [
                57.68181818318182,
                -28.97293836557683
               ],
               [
                58.36363636636364,
                -28.62798443415905
               ],
               [
                58.36363636636364,
                -27.934673375977997
               ],
               [
                57.68181818318182,
                -27.586334281862243
               ],
               [
                57.00000000000001,
                -27.934673375977997
               ],
               [
                57.00000000000001,
                -28.62798443415905
               ],
               [
                57.68181818318182,
                -28.97293836557683
               ]
              ]
             ],
             "type": "Polygon"
            },
            "id": "1.0067376458332564,-0.5149718132060985",
            "type": "Feature"
           },
           {
            "geometry": {
             "coordinates": [
              [
               [
                57.68181818318182,
                -26.8863355045969
               ],
               [
                58.36363636636364,
                -26.534695021431894
               ],
               [
                58.36363636636364,
                -25.828181323177716
               ],
               [
                57.68181818318182,
                -25.473328472753064
               ],
               [
                57.00000000000001,
                -25.828181323177716
               ],
               [
                57.00000000000001,
                -26.534695021431894
               ],
               [
                57.68181818318182,
                -26.8863355045969
               ]
              ]
             ],
             "type": "Polygon"
            },
            "id": "1.0067376458332564,-0.4737491003001482",
            "type": "Feature"
           },
           {
            "geometry": {
             "coordinates": [
              [
               [
                57.68181818318182,
                -24.760483131153798
               ],
               [
                58.36363636636364,
                -24.40251216281074
               ],
               [
                58.36363636636364,
                -23.683528876349666
               ],
               [
                57.68181818318182,
                -23.322539228722555
               ],
               [
                57.00000000000001,
                -23.683528876349666
               ],
               [
                57.00000000000001,
                -24.40251216281074
               ],
               [
                57.68181818318182,
                -24.760483131153798
               ]
              ]
             ],
             "type": "Polygon"
            },
            "id": "1.0067376458332564,-0.43252638739419785",
            "type": "Feature"
           },
           {
            "geometry": {
             "coordinates": [
              [
               [
                57.68181818318182,
                -22.597622022074045
               ],
               [
                58.36363636636364,
                -22.23371826658171
               ],
               [
                58.36363636636364,
                -21.503081358955768
               ],
               [
                57.68181818318182,
                -21.13637312455803
               ],
               [
                57.00000000000001,
                -21.503081358955768
               ],
               [
                57.00000000000001,
                -22.23371826658171
               ],
               [
                57.68181818318182,
                -22.597622022074045
               ]
              ]
             ],
             "type": "Polygon"
            },
            "id": "1.0067376458332564,-0.39130367448824743",
            "type": "Feature"
           },
           {
            "geometry": {
             "coordinates": [
              [
               [
                57.68181818318182,
                -20.400240760170597
               ],
               [
                58.36363636636364,
                -20.030842639010405
               ],
               [
                58.36363636636364,
                -19.289448879034072
               ],
               [
                57.68181818318182,
                -18.917480312700423
               ],
               [
                57.00000000000001,
                -19.289448879034072
               ],
               [
                57.00000000000001,
                -20.030842639010405
               ],
               [
                57.68181818318182,
                -20.400240760170597
               ]
              ]
             ],
             "type": "Polygon"
            },
            "id": "1.0067376458332564,-0.35008096158229707",
            "type": "Feature"
           },
           {
            "geometry": {
             "coordinates": [
              [
               [
                57.68181818318182,
                -18.17106878828689
               ],
               [
                58.36363636636364,
                -17.7966539345571
               ],
               [
                58.36363636636364,
                -17.04547756077712
               ],
               [
                57.68181818318182,
                -16.668745140827017
               ],
               [
                57.00000000000001,
                -17.04547756077712
               ],
               [
                57.00000000000001,
                -17.7966539345571
               ],
               [
                57.68181818318182,
                -18.17106878828689
               ]
              ]
             ],
             "type": "Polygon"
            },
            "id": "1.0067376458332564,-0.3088582486763467",
            "type": "Feature"
           },
           {
            "geometry": {
             "coordinates": [
              [
               [
                57.68181818318182,
                -15.91306579164077
               ],
               [
                58.36363636636364,
                -15.534148917848238
               ],
               [
                58.36363636636364,
                -14.774237062497322
               ],
               [
                57.68181818318182,
                -14.393273047106062
               ],
               [
                57.00000000000001,
                -14.774237062497322
               ],
               [
                57.00000000000001,
                -15.534148917848238
               ],
               [
                57.68181818318182,
                -15.91306579164077
               ]
              ]
             ],
             "type": "Polygon"
            },
            "id": "1.0067376458332564,-0.26763553577039634",
            "type": "Feature"
           },
           {
            "geometry": {
             "coordinates": [
              [
               [
                59.045454549545454,
                -44.06557080109546
               ],
               [
                59.727272732727265,
                -43.782041623674104
               ],
               [
                59.727272732727265,
                -43.21093079831662
               ],
               [
                59.045454549545454,
                -42.92335056484793
               ],
               [
                58.36363636636364,
                -43.21093079831662
               ],
               [
                58.36363636636364,
                -43.782041623674104
               ],
               [
                59.045454549545454,
                -44.06557080109546
               ]
              ]
             ],
             "type": "Polygon"
            },
            "id": "1.0305375902262335,-0.8447535164537016",
            "type": "Feature"
           },
           {
            "geometry": {
             "coordinates": [
              [
               [
                59.045454549545454,
                -42.344145034800086
               ],
               [
                59.727272732727265,
                -42.0525219941646
               ],
               [
                59.727272732727265,
                -41.46524208454954
               ],
               [
                59.045454549545454,
                -41.16958834542567
               ],
               [
                58.36363636636364,
                -41.46524208454954
               ],
               [
                58.36363636636364,
                -42.0525219941646
               ],
               [
                59.045454549545454,
                -42.344145034800086
               ]
              ]
             ],
             "type": "Polygon"
            },
            "id": "1.0305375902262335,-0.8035308035477512",
            "type": "Feature"
           },
           {
            "geometry": {
             "coordinates": [
              [
               [
                59.045454549545454,
                -40.57426224611941
               ],
               [
                59.727272732727265,
                -40.274593921456685
               ],
               [
                59.727272732727265,
                -39.67125797273608
               ],
               [
                59.045454549545454,
                -39.36759532075098
               ],
               [
                58.36363636636364,
                -39.67125797273608
               ],
               [
                58.36363636636364,
                -40.274593921456685
               ],
               [
                59.045454549545454,
                -40.57426224611941
               ]
              ]
             ],
             "type": "Polygon"
            },
            "id": "1.0305375902262335,-0.7623080906418008",
            "type": "Feature"
           },
           {
            "geometry": {
             "coordinates": [
              [
               [
                59.045454549545454,
                -38.756294291171216
               ],
               [
                59.727272732727265,
                -38.448661852041546
               ],
               [
                59.727272732727265,
                -37.82944920685779
               ],
               [
                59.045454549545454,
                -37.517875934254796
               ],
               [
                58.36363636636364,
                -37.82944920685779
               ],
               [
                58.36363636636364,
                -38.448661852041546
               ],
               [
                59.045454549545454,
                -38.756294291171216
               ]
              ]
             ],
             "type": "Polygon"
            },
            "id": "1.0305375902262335,-0.7210853777358505",
            "type": "Feature"
           },
           {
            "geometry": {
             "coordinates": [
              [
               [
                59.045454549545454,
                -36.89081409263251
               ],
               [
                59.727272732727265,
                -36.57533347919717
               ],
               [
                59.727272732727265,
                -35.940494058394584
               ],
               [
                59.045454549545454,
                -35.62114425423612
               ],
               [
                58.36363636636364,
                -35.940494058394584
               ],
               [
                58.36363636636364,
                -36.57533347919717
               ],
               [
                59.045454549545454,
                -36.89081409263251
               ]
              ]
             ],
             "type": "Polygon"
            },
            "id": "1.0305375902262335,-0.6798626648299001",
            "type": "Feature"
           },
           {
            "geometry": {
             "coordinates": [
              [
               [
                59.045454549545454,
                -34.97860829889037
               ],
               [
                59.727272732727265,
                -34.65543222216165
               ],
               [
                59.727272732727265,
                -34.005290416769625
               ],
               [
                59.045454549545454,
                -33.678335855357275
               ],
               [
                58.36363636636364,
                -34.005290416769625
               ],
               [
                58.36363636636364,
                -34.65543222216165
               ],
               [
                59.045454549545454,
                -34.97860829889037
               ]
              ]
             ],
             "type": "Polygon"
            },
            "id": "1.0305375902262335,-0.6386399519239496",
            "type": "Feature"
           },
           {
            "geometry": {
             "coordinates": [
              [
               [
                59.045454549545454,
                -33.02068871801436
               ],
               [
                59.727272732727265,
                -32.69000842137049
               ],
               [
                59.727272732727265,
                -32.024966476816466
               ],
               [
                59.045454549545454,
                -31.690618236956208
               ],
               [
                58.36363636636364,
                -32.024966476816466
               ],
               [
                58.36363636636364,
                -32.69000842137049
               ],
               [
                59.045454549545454,
                -33.02068871801436
               ]
              ]
             ],
             "type": "Polygon"
            },
            "id": "1.0305375902262335,-0.5974172390179993",
            "type": "Feature"
           },
           {
            "geometry": {
             "coordinates": [
              [
               [
                59.045454549545454,
                -31.018302166979456
               ],
               [
                59.727272732727265,
                -30.680348887673055
               ],
               [
                59.727272732727265,
                -30.0008896569427
               ],
               [
                59.045454549545454,
                -29.659399410144857
               ],
               [
                58.36363636636364,
                -30.0008896569427
               ],
               [
                58.36363636636364,
                -30.680348887673055
               ],
               [
                59.045454549545454,
                -31.018302166979456
               ]
              ]
             ],
             "type": "Polygon"
            },
            "id": "1.0305375902262335,-0.5561945261120489",
            "type": "Feature"
           },
           {
            "geometry": {
             "coordinates": [
              [
               [
                59.045454549545454,
                -28.97293836557683
               ],
               [
                59.727272732727265,
                -28.62798443415905
               ],
               [
                59.727272732727265,
                -27.934673375977997
               ],
               [
                59.045454549545454,
                -27.586334281862243
               ],
               [
                58.36363636636364,
                -27.934673375977997
               ],
               [
                58.36363636636364,
                -28.62798443415905
               ],
               [
                59.045454549545454,
                -28.97293836557683
               ]
              ]
             ],
             "type": "Polygon"
            },
            "id": "1.0305375902262335,-0.5149718132060985",
            "type": "Feature"
           },
           {
            "geometry": {
             "coordinates": [
              [
               [
                59.045454549545454,
                -26.8863355045969
               ],
               [
                59.727272732727265,
                -26.534695021431894
               ],
               [
                59.727272732727265,
                -25.828181323177716
               ],
               [
                59.045454549545454,
                -25.473328472753064
               ],
               [
                58.36363636636364,
                -25.828181323177716
               ],
               [
                58.36363636636364,
                -26.534695021431894
               ],
               [
                59.045454549545454,
                -26.8863355045969
               ]
              ]
             ],
             "type": "Polygon"
            },
            "id": "1.0305375902262335,-0.4737491003001482",
            "type": "Feature"
           },
           {
            "geometry": {
             "coordinates": [
              [
               [
                59.045454549545454,
                -24.760483131153798
               ],
               [
                59.727272732727265,
                -24.40251216281074
               ],
               [
                59.727272732727265,
                -23.683528876349666
               ],
               [
                59.045454549545454,
                -23.322539228722555
               ],
               [
                58.36363636636364,
                -23.683528876349666
               ],
               [
                58.36363636636364,
                -24.40251216281074
               ],
               [
                59.045454549545454,
                -24.760483131153798
               ]
              ]
             ],
             "type": "Polygon"
            },
            "id": "1.0305375902262335,-0.43252638739419785",
            "type": "Feature"
           },
           {
            "geometry": {
             "coordinates": [
              [
               [
                59.045454549545454,
                -22.597622022074045
               ],
               [
                59.727272732727265,
                -22.23371826658171
               ],
               [
                59.727272732727265,
                -21.503081358955768
               ],
               [
                59.045454549545454,
                -21.13637312455803
               ],
               [
                58.36363636636364,
                -21.503081358955768
               ],
               [
                58.36363636636364,
                -22.23371826658171
               ],
               [
                59.045454549545454,
                -22.597622022074045
               ]
              ]
             ],
             "type": "Polygon"
            },
            "id": "1.0305375902262335,-0.39130367448824743",
            "type": "Feature"
           },
           {
            "geometry": {
             "coordinates": [
              [
               [
                59.045454549545454,
                -20.400240760170597
               ],
               [
                59.727272732727265,
                -20.030842639010405
               ],
               [
                59.727272732727265,
                -19.289448879034072
               ],
               [
                59.045454549545454,
                -18.917480312700423
               ],
               [
                58.36363636636364,
                -19.289448879034072
               ],
               [
                58.36363636636364,
                -20.030842639010405
               ],
               [
                59.045454549545454,
                -20.400240760170597
               ]
              ]
             ],
             "type": "Polygon"
            },
            "id": "1.0305375902262335,-0.35008096158229707",
            "type": "Feature"
           },
           {
            "geometry": {
             "coordinates": [
              [
               [
                59.045454549545454,
                -18.17106878828689
               ],
               [
                59.727272732727265,
                -17.7966539345571
               ],
               [
                59.727272732727265,
                -17.04547756077712
               ],
               [
                59.045454549545454,
                -16.668745140827017
               ],
               [
                58.36363636636364,
                -17.04547756077712
               ],
               [
                58.36363636636364,
                -17.7966539345571
               ],
               [
                59.045454549545454,
                -18.17106878828689
               ]
              ]
             ],
             "type": "Polygon"
            },
            "id": "1.0305375902262335,-0.3088582486763467",
            "type": "Feature"
           },
           {
            "geometry": {
             "coordinates": [
              [
               [
                60.40909091590909,
                -42.344145034800086
               ],
               [
                61.0909090990909,
                -42.0525219941646
               ],
               [
                61.0909090990909,
                -41.46524208454954
               ],
               [
                60.40909091590909,
                -41.16958834542567
               ],
               [
                59.727272732727265,
                -41.46524208454954
               ],
               [
                59.727272732727265,
                -42.0525219941646
               ],
               [
                60.40909091590909,
                -42.344145034800086
               ]
              ]
             ],
             "type": "Polygon"
            },
            "id": "1.0543375346192105,-0.8035308035477512",
            "type": "Feature"
           },
           {
            "geometry": {
             "coordinates": [
              [
               [
                60.40909091590909,
                -40.57426224611941
               ],
               [
                61.0909090990909,
                -40.274593921456685
               ],
               [
                61.0909090990909,
                -39.67125797273608
               ],
               [
                60.40909091590909,
                -39.36759532075098
               ],
               [
                59.727272732727265,
                -39.67125797273608
               ],
               [
                59.727272732727265,
                -40.274593921456685
               ],
               [
                60.40909091590909,
                -40.57426224611941
               ]
              ]
             ],
             "type": "Polygon"
            },
            "id": "1.0543375346192105,-0.7623080906418008",
            "type": "Feature"
           },
           {
            "geometry": {
             "coordinates": [
              [
               [
                60.40909091590909,
                -38.756294291171216
               ],
               [
                61.0909090990909,
                -38.448661852041546
               ],
               [
                61.0909090990909,
                -37.82944920685779
               ],
               [
                60.40909091590909,
                -37.517875934254796
               ],
               [
                59.727272732727265,
                -37.82944920685779
               ],
               [
                59.727272732727265,
                -38.448661852041546
               ],
               [
                60.40909091590909,
                -38.756294291171216
               ]
              ]
             ],
             "type": "Polygon"
            },
            "id": "1.0543375346192105,-0.7210853777358505",
            "type": "Feature"
           },
           {
            "geometry": {
             "coordinates": [
              [
               [
                60.40909091590909,
                -36.89081409263251
               ],
               [
                61.0909090990909,
                -36.57533347919717
               ],
               [
                61.0909090990909,
                -35.940494058394584
               ],
               [
                60.40909091590909,
                -35.62114425423612
               ],
               [
                59.727272732727265,
                -35.940494058394584
               ],
               [
                59.727272732727265,
                -36.57533347919717
               ],
               [
                60.40909091590909,
                -36.89081409263251
               ]
              ]
             ],
             "type": "Polygon"
            },
            "id": "1.0543375346192105,-0.6798626648299001",
            "type": "Feature"
           },
           {
            "geometry": {
             "coordinates": [
              [
               [
                60.40909091590909,
                -34.97860829889037
               ],
               [
                61.0909090990909,
                -34.65543222216165
               ],
               [
                61.0909090990909,
                -34.005290416769625
               ],
               [
                60.40909091590909,
                -33.678335855357275
               ],
               [
                59.727272732727265,
                -34.005290416769625
               ],
               [
                59.727272732727265,
                -34.65543222216165
               ],
               [
                60.40909091590909,
                -34.97860829889037
               ]
              ]
             ],
             "type": "Polygon"
            },
            "id": "1.0543375346192105,-0.6386399519239496",
            "type": "Feature"
           },
           {
            "geometry": {
             "coordinates": [
              [
               [
                60.40909091590909,
                -33.02068871801436
               ],
               [
                61.0909090990909,
                -32.69000842137049
               ],
               [
                61.0909090990909,
                -32.024966476816466
               ],
               [
                60.40909091590909,
                -31.690618236956208
               ],
               [
                59.727272732727265,
                -32.024966476816466
               ],
               [
                59.727272732727265,
                -32.69000842137049
               ],
               [
                60.40909091590909,
                -33.02068871801436
               ]
              ]
             ],
             "type": "Polygon"
            },
            "id": "1.0543375346192105,-0.5974172390179993",
            "type": "Feature"
           },
           {
            "geometry": {
             "coordinates": [
              [
               [
                60.40909091590909,
                -31.018302166979456
               ],
               [
                61.0909090990909,
                -30.680348887673055
               ],
               [
                61.0909090990909,
                -30.0008896569427
               ],
               [
                60.40909091590909,
                -29.659399410144857
               ],
               [
                59.727272732727265,
                -30.0008896569427
               ],
               [
                59.727272732727265,
                -30.680348887673055
               ],
               [
                60.40909091590909,
                -31.018302166979456
               ]
              ]
             ],
             "type": "Polygon"
            },
            "id": "1.0543375346192105,-0.5561945261120489",
            "type": "Feature"
           },
           {
            "geometry": {
             "coordinates": [
              [
               [
                60.40909091590909,
                -28.97293836557683
               ],
               [
                61.0909090990909,
                -28.62798443415905
               ],
               [
                61.0909090990909,
                -27.934673375977997
               ],
               [
                60.40909091590909,
                -27.586334281862243
               ],
               [
                59.727272732727265,
                -27.934673375977997
               ],
               [
                59.727272732727265,
                -28.62798443415905
               ],
               [
                60.40909091590909,
                -28.97293836557683
               ]
              ]
             ],
             "type": "Polygon"
            },
            "id": "1.0543375346192105,-0.5149718132060985",
            "type": "Feature"
           },
           {
            "geometry": {
             "coordinates": [
              [
               [
                60.40909091590909,
                -26.8863355045969
               ],
               [
                61.0909090990909,
                -26.534695021431894
               ],
               [
                61.0909090990909,
                -25.828181323177716
               ],
               [
                60.40909091590909,
                -25.473328472753064
               ],
               [
                59.727272732727265,
                -25.828181323177716
               ],
               [
                59.727272732727265,
                -26.534695021431894
               ],
               [
                60.40909091590909,
                -26.8863355045969
               ]
              ]
             ],
             "type": "Polygon"
            },
            "id": "1.0543375346192105,-0.4737491003001482",
            "type": "Feature"
           },
           {
            "geometry": {
             "coordinates": [
              [
               [
                60.40909091590909,
                -24.760483131153798
               ],
               [
                61.0909090990909,
                -24.40251216281074
               ],
               [
                61.0909090990909,
                -23.683528876349666
               ],
               [
                60.40909091590909,
                -23.322539228722555
               ],
               [
                59.727272732727265,
                -23.683528876349666
               ],
               [
                59.727272732727265,
                -24.40251216281074
               ],
               [
                60.40909091590909,
                -24.760483131153798
               ]
              ]
             ],
             "type": "Polygon"
            },
            "id": "1.0543375346192105,-0.43252638739419785",
            "type": "Feature"
           },
           {
            "geometry": {
             "coordinates": [
              [
               [
                60.40909091590909,
                -22.597622022074045
               ],
               [
                61.0909090990909,
                -22.23371826658171
               ],
               [
                61.0909090990909,
                -21.503081358955768
               ],
               [
                60.40909091590909,
                -21.13637312455803
               ],
               [
                59.727272732727265,
                -21.503081358955768
               ],
               [
                59.727272732727265,
                -22.23371826658171
               ],
               [
                60.40909091590909,
                -22.597622022074045
               ]
              ]
             ],
             "type": "Polygon"
            },
            "id": "1.0543375346192105,-0.39130367448824743",
            "type": "Feature"
           },
           {
            "geometry": {
             "coordinates": [
              [
               [
                60.40909091590909,
                -20.400240760170597
               ],
               [
                61.0909090990909,
                -20.030842639010405
               ],
               [
                61.0909090990909,
                -19.289448879034072
               ],
               [
                60.40909091590909,
                -18.917480312700423
               ],
               [
                59.727272732727265,
                -19.289448879034072
               ],
               [
                59.727272732727265,
                -20.030842639010405
               ],
               [
                60.40909091590909,
                -20.400240760170597
               ]
              ]
             ],
             "type": "Polygon"
            },
            "id": "1.0543375346192105,-0.35008096158229707",
            "type": "Feature"
           },
           {
            "geometry": {
             "coordinates": [
              [
               [
                61.772727282272726,
                -42.344145034800086
               ],
               [
                62.45454546545454,
                -42.0525219941646
               ],
               [
                62.45454546545454,
                -41.46524208454954
               ],
               [
                61.772727282272726,
                -41.16958834542567
               ],
               [
                61.0909090990909,
                -41.46524208454954
               ],
               [
                61.0909090990909,
                -42.0525219941646
               ],
               [
                61.772727282272726,
                -42.344145034800086
               ]
              ]
             ],
             "type": "Polygon"
            },
            "id": "1.0781374790121876,-0.8035308035477512",
            "type": "Feature"
           },
           {
            "geometry": {
             "coordinates": [
              [
               [
                61.772727282272726,
                -40.57426224611941
               ],
               [
                62.45454546545454,
                -40.274593921456685
               ],
               [
                62.45454546545454,
                -39.67125797273608
               ],
               [
                61.772727282272726,
                -39.36759532075098
               ],
               [
                61.0909090990909,
                -39.67125797273608
               ],
               [
                61.0909090990909,
                -40.274593921456685
               ],
               [
                61.772727282272726,
                -40.57426224611941
               ]
              ]
             ],
             "type": "Polygon"
            },
            "id": "1.0781374790121876,-0.7623080906418008",
            "type": "Feature"
           },
           {
            "geometry": {
             "coordinates": [
              [
               [
                61.772727282272726,
                -38.756294291171216
               ],
               [
                62.45454546545454,
                -38.448661852041546
               ],
               [
                62.45454546545454,
                -37.82944920685779
               ],
               [
                61.772727282272726,
                -37.517875934254796
               ],
               [
                61.0909090990909,
                -37.82944920685779
               ],
               [
                61.0909090990909,
                -38.448661852041546
               ],
               [
                61.772727282272726,
                -38.756294291171216
               ]
              ]
             ],
             "type": "Polygon"
            },
            "id": "1.0781374790121876,-0.7210853777358505",
            "type": "Feature"
           },
           {
            "geometry": {
             "coordinates": [
              [
               [
                61.772727282272726,
                -36.89081409263251
               ],
               [
                62.45454546545454,
                -36.57533347919717
               ],
               [
                62.45454546545454,
                -35.940494058394584
               ],
               [
                61.772727282272726,
                -35.62114425423612
               ],
               [
                61.0909090990909,
                -35.940494058394584
               ],
               [
                61.0909090990909,
                -36.57533347919717
               ],
               [
                61.772727282272726,
                -36.89081409263251
               ]
              ]
             ],
             "type": "Polygon"
            },
            "id": "1.0781374790121876,-0.6798626648299001",
            "type": "Feature"
           },
           {
            "geometry": {
             "coordinates": [
              [
               [
                61.772727282272726,
                -34.97860829889037
               ],
               [
                62.45454546545454,
                -34.65543222216165
               ],
               [
                62.45454546545454,
                -34.005290416769625
               ],
               [
                61.772727282272726,
                -33.678335855357275
               ],
               [
                61.0909090990909,
                -34.005290416769625
               ],
               [
                61.0909090990909,
                -34.65543222216165
               ],
               [
                61.772727282272726,
                -34.97860829889037
               ]
              ]
             ],
             "type": "Polygon"
            },
            "id": "1.0781374790121876,-0.6386399519239496",
            "type": "Feature"
           },
           {
            "geometry": {
             "coordinates": [
              [
               [
                61.772727282272726,
                -33.02068871801436
               ],
               [
                62.45454546545454,
                -32.69000842137049
               ],
               [
                62.45454546545454,
                -32.024966476816466
               ],
               [
                61.772727282272726,
                -31.690618236956208
               ],
               [
                61.0909090990909,
                -32.024966476816466
               ],
               [
                61.0909090990909,
                -32.69000842137049
               ],
               [
                61.772727282272726,
                -33.02068871801436
               ]
              ]
             ],
             "type": "Polygon"
            },
            "id": "1.0781374790121876,-0.5974172390179993",
            "type": "Feature"
           },
           {
            "geometry": {
             "coordinates": [
              [
               [
                61.772727282272726,
                -31.018302166979456
               ],
               [
                62.45454546545454,
                -30.680348887673055
               ],
               [
                62.45454546545454,
                -30.0008896569427
               ],
               [
                61.772727282272726,
                -29.659399410144857
               ],
               [
                61.0909090990909,
                -30.0008896569427
               ],
               [
                61.0909090990909,
                -30.680348887673055
               ],
               [
                61.772727282272726,
                -31.018302166979456
               ]
              ]
             ],
             "type": "Polygon"
            },
            "id": "1.0781374790121876,-0.5561945261120489",
            "type": "Feature"
           },
           {
            "geometry": {
             "coordinates": [
              [
               [
                61.772727282272726,
                -28.97293836557683
               ],
               [
                62.45454546545454,
                -28.62798443415905
               ],
               [
                62.45454546545454,
                -27.934673375977997
               ],
               [
                61.772727282272726,
                -27.586334281862243
               ],
               [
                61.0909090990909,
                -27.934673375977997
               ],
               [
                61.0909090990909,
                -28.62798443415905
               ],
               [
                61.772727282272726,
                -28.97293836557683
               ]
              ]
             ],
             "type": "Polygon"
            },
            "id": "1.0781374790121876,-0.5149718132060985",
            "type": "Feature"
           },
           {
            "geometry": {
             "coordinates": [
              [
               [
                61.772727282272726,
                -26.8863355045969
               ],
               [
                62.45454546545454,
                -26.534695021431894
               ],
               [
                62.45454546545454,
                -25.828181323177716
               ],
               [
                61.772727282272726,
                -25.473328472753064
               ],
               [
                61.0909090990909,
                -25.828181323177716
               ],
               [
                61.0909090990909,
                -26.534695021431894
               ],
               [
                61.772727282272726,
                -26.8863355045969
               ]
              ]
             ],
             "type": "Polygon"
            },
            "id": "1.0781374790121876,-0.4737491003001482",
            "type": "Feature"
           },
           {
            "geometry": {
             "coordinates": [
              [
               [
                61.772727282272726,
                -24.760483131153798
               ],
               [
                62.45454546545454,
                -24.40251216281074
               ],
               [
                62.45454546545454,
                -23.683528876349666
               ],
               [
                61.772727282272726,
                -23.322539228722555
               ],
               [
                61.0909090990909,
                -23.683528876349666
               ],
               [
                61.0909090990909,
                -24.40251216281074
               ],
               [
                61.772727282272726,
                -24.760483131153798
               ]
              ]
             ],
             "type": "Polygon"
            },
            "id": "1.0781374790121876,-0.43252638739419785",
            "type": "Feature"
           },
           {
            "geometry": {
             "coordinates": [
              [
               [
                61.772727282272726,
                -22.597622022074045
               ],
               [
                62.45454546545454,
                -22.23371826658171
               ],
               [
                62.45454546545454,
                -21.503081358955768
               ],
               [
                61.772727282272726,
                -21.13637312455803
               ],
               [
                61.0909090990909,
                -21.503081358955768
               ],
               [
                61.0909090990909,
                -22.23371826658171
               ],
               [
                61.772727282272726,
                -22.597622022074045
               ]
              ]
             ],
             "type": "Polygon"
            },
            "id": "1.0781374790121876,-0.39130367448824743",
            "type": "Feature"
           },
           {
            "geometry": {
             "coordinates": [
              [
               [
                61.772727282272726,
                -20.400240760170597
               ],
               [
                62.45454546545454,
                -20.030842639010405
               ],
               [
                62.45454546545454,
                -19.289448879034072
               ],
               [
                61.772727282272726,
                -18.917480312700423
               ],
               [
                61.0909090990909,
                -19.289448879034072
               ],
               [
                61.0909090990909,
                -20.030842639010405
               ],
               [
                61.772727282272726,
                -20.400240760170597
               ]
              ]
             ],
             "type": "Polygon"
            },
            "id": "1.0781374790121876,-0.35008096158229707",
            "type": "Feature"
           },
           {
            "geometry": {
             "coordinates": [
              [
               [
                63.13636364863637,
                -44.06557080109546
               ],
               [
                63.81818183181818,
                -43.782041623674104
               ],
               [
                63.81818183181818,
                -43.21093079831662
               ],
               [
                63.13636364863637,
                -42.92335056484793
               ],
               [
                62.454545465454544,
                -43.21093079831662
               ],
               [
                62.454545465454544,
                -43.782041623674104
               ],
               [
                63.13636364863637,
                -44.06557080109546
               ]
              ]
             ],
             "type": "Polygon"
            },
            "id": "1.1019374234051649,-0.8447535164537016",
            "type": "Feature"
           },
           {
            "geometry": {
             "coordinates": [
              [
               [
                63.13636364863637,
                -42.344145034800086
               ],
               [
                63.81818183181818,
                -42.0525219941646
               ],
               [
                63.81818183181818,
                -41.46524208454954
               ],
               [
                63.13636364863637,
                -41.16958834542567
               ],
               [
                62.454545465454544,
                -41.46524208454954
               ],
               [
                62.454545465454544,
                -42.0525219941646
               ],
               [
                63.13636364863637,
                -42.344145034800086
               ]
              ]
             ],
             "type": "Polygon"
            },
            "id": "1.1019374234051649,-0.8035308035477512",
            "type": "Feature"
           },
           {
            "geometry": {
             "coordinates": [
              [
               [
                63.13636364863637,
                -40.57426224611941
               ],
               [
                63.81818183181818,
                -40.274593921456685
               ],
               [
                63.81818183181818,
                -39.67125797273608
               ],
               [
                63.13636364863637,
                -39.36759532075098
               ],
               [
                62.454545465454544,
                -39.67125797273608
               ],
               [
                62.454545465454544,
                -40.274593921456685
               ],
               [
                63.13636364863637,
                -40.57426224611941
               ]
              ]
             ],
             "type": "Polygon"
            },
            "id": "1.1019374234051649,-0.7623080906418008",
            "type": "Feature"
           },
           {
            "geometry": {
             "coordinates": [
              [
               [
                63.13636364863637,
                -38.756294291171216
               ],
               [
                63.81818183181818,
                -38.448661852041546
               ],
               [
                63.81818183181818,
                -37.82944920685779
               ],
               [
                63.13636364863637,
                -37.517875934254796
               ],
               [
                62.454545465454544,
                -37.82944920685779
               ],
               [
                62.454545465454544,
                -38.448661852041546
               ],
               [
                63.13636364863637,
                -38.756294291171216
               ]
              ]
             ],
             "type": "Polygon"
            },
            "id": "1.1019374234051649,-0.7210853777358505",
            "type": "Feature"
           },
           {
            "geometry": {
             "coordinates": [
              [
               [
                63.13636364863637,
                -36.89081409263251
               ],
               [
                63.81818183181818,
                -36.57533347919717
               ],
               [
                63.81818183181818,
                -35.940494058394584
               ],
               [
                63.13636364863637,
                -35.62114425423612
               ],
               [
                62.454545465454544,
                -35.940494058394584
               ],
               [
                62.454545465454544,
                -36.57533347919717
               ],
               [
                63.13636364863637,
                -36.89081409263251
               ]
              ]
             ],
             "type": "Polygon"
            },
            "id": "1.1019374234051649,-0.6798626648299001",
            "type": "Feature"
           },
           {
            "geometry": {
             "coordinates": [
              [
               [
                63.13636364863637,
                -34.97860829889037
               ],
               [
                63.81818183181818,
                -34.65543222216165
               ],
               [
                63.81818183181818,
                -34.005290416769625
               ],
               [
                63.13636364863637,
                -33.678335855357275
               ],
               [
                62.454545465454544,
                -34.005290416769625
               ],
               [
                62.454545465454544,
                -34.65543222216165
               ],
               [
                63.13636364863637,
                -34.97860829889037
               ]
              ]
             ],
             "type": "Polygon"
            },
            "id": "1.1019374234051649,-0.6386399519239496",
            "type": "Feature"
           },
           {
            "geometry": {
             "coordinates": [
              [
               [
                63.13636364863637,
                -33.02068871801436
               ],
               [
                63.81818183181818,
                -32.69000842137049
               ],
               [
                63.81818183181818,
                -32.024966476816466
               ],
               [
                63.13636364863637,
                -31.690618236956208
               ],
               [
                62.454545465454544,
                -32.024966476816466
               ],
               [
                62.454545465454544,
                -32.69000842137049
               ],
               [
                63.13636364863637,
                -33.02068871801436
               ]
              ]
             ],
             "type": "Polygon"
            },
            "id": "1.1019374234051649,-0.5974172390179993",
            "type": "Feature"
           },
           {
            "geometry": {
             "coordinates": [
              [
               [
                63.13636364863637,
                -31.018302166979456
               ],
               [
                63.81818183181818,
                -30.680348887673055
               ],
               [
                63.81818183181818,
                -30.0008896569427
               ],
               [
                63.13636364863637,
                -29.659399410144857
               ],
               [
                62.454545465454544,
                -30.0008896569427
               ],
               [
                62.454545465454544,
                -30.680348887673055
               ],
               [
                63.13636364863637,
                -31.018302166979456
               ]
              ]
             ],
             "type": "Polygon"
            },
            "id": "1.1019374234051649,-0.5561945261120489",
            "type": "Feature"
           },
           {
            "geometry": {
             "coordinates": [
              [
               [
                63.13636364863637,
                -28.97293836557683
               ],
               [
                63.81818183181818,
                -28.62798443415905
               ],
               [
                63.81818183181818,
                -27.934673375977997
               ],
               [
                63.13636364863637,
                -27.586334281862243
               ],
               [
                62.454545465454544,
                -27.934673375977997
               ],
               [
                62.454545465454544,
                -28.62798443415905
               ],
               [
                63.13636364863637,
                -28.97293836557683
               ]
              ]
             ],
             "type": "Polygon"
            },
            "id": "1.1019374234051649,-0.5149718132060985",
            "type": "Feature"
           },
           {
            "geometry": {
             "coordinates": [
              [
               [
                63.13636364863637,
                -26.8863355045969
               ],
               [
                63.81818183181818,
                -26.534695021431894
               ],
               [
                63.81818183181818,
                -25.828181323177716
               ],
               [
                63.13636364863637,
                -25.473328472753064
               ],
               [
                62.454545465454544,
                -25.828181323177716
               ],
               [
                62.454545465454544,
                -26.534695021431894
               ],
               [
                63.13636364863637,
                -26.8863355045969
               ]
              ]
             ],
             "type": "Polygon"
            },
            "id": "1.1019374234051649,-0.4737491003001482",
            "type": "Feature"
           },
           {
            "geometry": {
             "coordinates": [
              [
               [
                63.13636364863637,
                -24.760483131153798
               ],
               [
                63.81818183181818,
                -24.40251216281074
               ],
               [
                63.81818183181818,
                -23.683528876349666
               ],
               [
                63.13636364863637,
                -23.322539228722555
               ],
               [
                62.454545465454544,
                -23.683528876349666
               ],
               [
                62.454545465454544,
                -24.40251216281074
               ],
               [
                63.13636364863637,
                -24.760483131153798
               ]
              ]
             ],
             "type": "Polygon"
            },
            "id": "1.1019374234051649,-0.43252638739419785",
            "type": "Feature"
           },
           {
            "geometry": {
             "coordinates": [
              [
               [
                63.13636364863637,
                -22.597622022074045
               ],
               [
                63.81818183181818,
                -22.23371826658171
               ],
               [
                63.81818183181818,
                -21.503081358955768
               ],
               [
                63.13636364863637,
                -21.13637312455803
               ],
               [
                62.454545465454544,
                -21.503081358955768
               ],
               [
                62.454545465454544,
                -22.23371826658171
               ],
               [
                63.13636364863637,
                -22.597622022074045
               ]
              ]
             ],
             "type": "Polygon"
            },
            "id": "1.1019374234051649,-0.39130367448824743",
            "type": "Feature"
           },
           {
            "geometry": {
             "coordinates": [
              [
               [
                63.13636364863637,
                -20.400240760170597
               ],
               [
                63.81818183181818,
                -20.030842639010405
               ],
               [
                63.81818183181818,
                -19.289448879034072
               ],
               [
                63.13636364863637,
                -18.917480312700423
               ],
               [
                62.454545465454544,
                -19.289448879034072
               ],
               [
                62.454545465454544,
                -20.030842639010405
               ],
               [
                63.13636364863637,
                -20.400240760170597
               ]
              ]
             ],
             "type": "Polygon"
            },
            "id": "1.1019374234051649,-0.35008096158229707",
            "type": "Feature"
           },
           {
            "geometry": {
             "coordinates": [
              [
               [
                64.500000015,
                -42.344145034800086
               ],
               [
                65.18181819818182,
                -42.0525219941646
               ],
               [
                65.18181819818182,
                -41.46524208454954
               ],
               [
                64.500000015,
                -41.16958834542567
               ],
               [
                63.81818183181818,
                -41.46524208454954
               ],
               [
                63.81818183181818,
                -42.0525219941646
               ],
               [
                64.500000015,
                -42.344145034800086
               ]
              ]
             ],
             "type": "Polygon"
            },
            "id": "1.125737367798142,-0.8035308035477512",
            "type": "Feature"
           },
           {
            "geometry": {
             "coordinates": [
              [
               [
                64.500000015,
                -40.57426224611941
               ],
               [
                65.18181819818182,
                -40.274593921456685
               ],
               [
                65.18181819818182,
                -39.67125797273608
               ],
               [
                64.500000015,
                -39.36759532075098
               ],
               [
                63.81818183181818,
                -39.67125797273608
               ],
               [
                63.81818183181818,
                -40.274593921456685
               ],
               [
                64.500000015,
                -40.57426224611941
               ]
              ]
             ],
             "type": "Polygon"
            },
            "id": "1.125737367798142,-0.7623080906418008",
            "type": "Feature"
           },
           {
            "geometry": {
             "coordinates": [
              [
               [
                64.500000015,
                -38.756294291171216
               ],
               [
                65.18181819818182,
                -38.448661852041546
               ],
               [
                65.18181819818182,
                -37.82944920685779
               ],
               [
                64.500000015,
                -37.517875934254796
               ],
               [
                63.81818183181818,
                -37.82944920685779
               ],
               [
                63.81818183181818,
                -38.448661852041546
               ],
               [
                64.500000015,
                -38.756294291171216
               ]
              ]
             ],
             "type": "Polygon"
            },
            "id": "1.125737367798142,-0.7210853777358505",
            "type": "Feature"
           },
           {
            "geometry": {
             "coordinates": [
              [
               [
                64.500000015,
                -36.89081409263251
               ],
               [
                65.18181819818182,
                -36.57533347919717
               ],
               [
                65.18181819818182,
                -35.940494058394584
               ],
               [
                64.500000015,
                -35.62114425423612
               ],
               [
                63.81818183181818,
                -35.940494058394584
               ],
               [
                63.81818183181818,
                -36.57533347919717
               ],
               [
                64.500000015,
                -36.89081409263251
               ]
              ]
             ],
             "type": "Polygon"
            },
            "id": "1.125737367798142,-0.6798626648299001",
            "type": "Feature"
           },
           {
            "geometry": {
             "coordinates": [
              [
               [
                64.500000015,
                -34.97860829889037
               ],
               [
                65.18181819818182,
                -34.65543222216165
               ],
               [
                65.18181819818182,
                -34.005290416769625
               ],
               [
                64.500000015,
                -33.678335855357275
               ],
               [
                63.81818183181818,
                -34.005290416769625
               ],
               [
                63.81818183181818,
                -34.65543222216165
               ],
               [
                64.500000015,
                -34.97860829889037
               ]
              ]
             ],
             "type": "Polygon"
            },
            "id": "1.125737367798142,-0.6386399519239496",
            "type": "Feature"
           },
           {
            "geometry": {
             "coordinates": [
              [
               [
                64.500000015,
                -33.02068871801436
               ],
               [
                65.18181819818182,
                -32.69000842137049
               ],
               [
                65.18181819818182,
                -32.024966476816466
               ],
               [
                64.500000015,
                -31.690618236956208
               ],
               [
                63.81818183181818,
                -32.024966476816466
               ],
               [
                63.81818183181818,
                -32.69000842137049
               ],
               [
                64.500000015,
                -33.02068871801436
               ]
              ]
             ],
             "type": "Polygon"
            },
            "id": "1.125737367798142,-0.5974172390179993",
            "type": "Feature"
           },
           {
            "geometry": {
             "coordinates": [
              [
               [
                64.500000015,
                -31.018302166979456
               ],
               [
                65.18181819818182,
                -30.680348887673055
               ],
               [
                65.18181819818182,
                -30.0008896569427
               ],
               [
                64.500000015,
                -29.659399410144857
               ],
               [
                63.81818183181818,
                -30.0008896569427
               ],
               [
                63.81818183181818,
                -30.680348887673055
               ],
               [
                64.500000015,
                -31.018302166979456
               ]
              ]
             ],
             "type": "Polygon"
            },
            "id": "1.125737367798142,-0.5561945261120489",
            "type": "Feature"
           },
           {
            "geometry": {
             "coordinates": [
              [
               [
                64.500000015,
                -28.97293836557683
               ],
               [
                65.18181819818182,
                -28.62798443415905
               ],
               [
                65.18181819818182,
                -27.934673375977997
               ],
               [
                64.500000015,
                -27.586334281862243
               ],
               [
                63.81818183181818,
                -27.934673375977997
               ],
               [
                63.81818183181818,
                -28.62798443415905
               ],
               [
                64.500000015,
                -28.97293836557683
               ]
              ]
             ],
             "type": "Polygon"
            },
            "id": "1.125737367798142,-0.5149718132060985",
            "type": "Feature"
           },
           {
            "geometry": {
             "coordinates": [
              [
               [
                64.500000015,
                -26.8863355045969
               ],
               [
                65.18181819818182,
                -26.534695021431894
               ],
               [
                65.18181819818182,
                -25.828181323177716
               ],
               [
                64.500000015,
                -25.473328472753064
               ],
               [
                63.81818183181818,
                -25.828181323177716
               ],
               [
                63.81818183181818,
                -26.534695021431894
               ],
               [
                64.500000015,
                -26.8863355045969
               ]
              ]
             ],
             "type": "Polygon"
            },
            "id": "1.125737367798142,-0.4737491003001482",
            "type": "Feature"
           },
           {
            "geometry": {
             "coordinates": [
              [
               [
                64.500000015,
                -22.597622022074045
               ],
               [
                65.18181819818182,
                -22.23371826658171
               ],
               [
                65.18181819818182,
                -21.503081358955768
               ],
               [
                64.500000015,
                -21.13637312455803
               ],
               [
                63.81818183181818,
                -21.503081358955768
               ],
               [
                63.81818183181818,
                -22.23371826658171
               ],
               [
                64.500000015,
                -22.597622022074045
               ]
              ]
             ],
             "type": "Polygon"
            },
            "id": "1.125737367798142,-0.39130367448824743",
            "type": "Feature"
           },
           {
            "geometry": {
             "coordinates": [
              [
               [
                65.86363638136363,
                -44.06557080109546
               ],
               [
                66.54545456454545,
                -43.782041623674104
               ],
               [
                66.54545456454545,
                -43.21093079831662
               ],
               [
                65.86363638136363,
                -42.92335056484793
               ],
               [
                65.18181819818182,
                -43.21093079831662
               ],
               [
                65.18181819818182,
                -43.782041623674104
               ],
               [
                65.86363638136363,
                -44.06557080109546
               ]
              ]
             ],
             "type": "Polygon"
            },
            "id": "1.149537312191119,-0.8447535164537016",
            "type": "Feature"
           },
           {
            "geometry": {
             "coordinates": [
              [
               [
                65.86363638136363,
                -42.344145034800086
               ],
               [
                66.54545456454545,
                -42.0525219941646
               ],
               [
                66.54545456454545,
                -41.46524208454954
               ],
               [
                65.86363638136363,
                -41.16958834542567
               ],
               [
                65.18181819818182,
                -41.46524208454954
               ],
               [
                65.18181819818182,
                -42.0525219941646
               ],
               [
                65.86363638136363,
                -42.344145034800086
               ]
              ]
             ],
             "type": "Polygon"
            },
            "id": "1.149537312191119,-0.8035308035477512",
            "type": "Feature"
           },
           {
            "geometry": {
             "coordinates": [
              [
               [
                65.86363638136363,
                -40.57426224611941
               ],
               [
                66.54545456454545,
                -40.274593921456685
               ],
               [
                66.54545456454545,
                -39.67125797273608
               ],
               [
                65.86363638136363,
                -39.36759532075098
               ],
               [
                65.18181819818182,
                -39.67125797273608
               ],
               [
                65.18181819818182,
                -40.274593921456685
               ],
               [
                65.86363638136363,
                -40.57426224611941
               ]
              ]
             ],
             "type": "Polygon"
            },
            "id": "1.149537312191119,-0.7623080906418008",
            "type": "Feature"
           },
           {
            "geometry": {
             "coordinates": [
              [
               [
                65.86363638136363,
                -38.756294291171216
               ],
               [
                66.54545456454545,
                -38.448661852041546
               ],
               [
                66.54545456454545,
                -37.82944920685779
               ],
               [
                65.86363638136363,
                -37.517875934254796
               ],
               [
                65.18181819818182,
                -37.82944920685779
               ],
               [
                65.18181819818182,
                -38.448661852041546
               ],
               [
                65.86363638136363,
                -38.756294291171216
               ]
              ]
             ],
             "type": "Polygon"
            },
            "id": "1.149537312191119,-0.7210853777358505",
            "type": "Feature"
           },
           {
            "geometry": {
             "coordinates": [
              [
               [
                65.86363638136363,
                -36.89081409263251
               ],
               [
                66.54545456454545,
                -36.57533347919717
               ],
               [
                66.54545456454545,
                -35.940494058394584
               ],
               [
                65.86363638136363,
                -35.62114425423612
               ],
               [
                65.18181819818182,
                -35.940494058394584
               ],
               [
                65.18181819818182,
                -36.57533347919717
               ],
               [
                65.86363638136363,
                -36.89081409263251
               ]
              ]
             ],
             "type": "Polygon"
            },
            "id": "1.149537312191119,-0.6798626648299001",
            "type": "Feature"
           },
           {
            "geometry": {
             "coordinates": [
              [
               [
                65.86363638136363,
                -34.97860829889037
               ],
               [
                66.54545456454545,
                -34.65543222216165
               ],
               [
                66.54545456454545,
                -34.005290416769625
               ],
               [
                65.86363638136363,
                -33.678335855357275
               ],
               [
                65.18181819818182,
                -34.005290416769625
               ],
               [
                65.18181819818182,
                -34.65543222216165
               ],
               [
                65.86363638136363,
                -34.97860829889037
               ]
              ]
             ],
             "type": "Polygon"
            },
            "id": "1.149537312191119,-0.6386399519239496",
            "type": "Feature"
           },
           {
            "geometry": {
             "coordinates": [
              [
               [
                65.86363638136363,
                -33.02068871801436
               ],
               [
                66.54545456454545,
                -32.69000842137049
               ],
               [
                66.54545456454545,
                -32.024966476816466
               ],
               [
                65.86363638136363,
                -31.690618236956208
               ],
               [
                65.18181819818182,
                -32.024966476816466
               ],
               [
                65.18181819818182,
                -32.69000842137049
               ],
               [
                65.86363638136363,
                -33.02068871801436
               ]
              ]
             ],
             "type": "Polygon"
            },
            "id": "1.149537312191119,-0.5974172390179993",
            "type": "Feature"
           },
           {
            "geometry": {
             "coordinates": [
              [
               [
                65.86363638136363,
                -31.018302166979456
               ],
               [
                66.54545456454545,
                -30.680348887673055
               ],
               [
                66.54545456454545,
                -30.0008896569427
               ],
               [
                65.86363638136363,
                -29.659399410144857
               ],
               [
                65.18181819818182,
                -30.0008896569427
               ],
               [
                65.18181819818182,
                -30.680348887673055
               ],
               [
                65.86363638136363,
                -31.018302166979456
               ]
              ]
             ],
             "type": "Polygon"
            },
            "id": "1.149537312191119,-0.5561945261120489",
            "type": "Feature"
           },
           {
            "geometry": {
             "coordinates": [
              [
               [
                65.86363638136363,
                -28.97293836557683
               ],
               [
                66.54545456454545,
                -28.62798443415905
               ],
               [
                66.54545456454545,
                -27.934673375977997
               ],
               [
                65.86363638136363,
                -27.586334281862243
               ],
               [
                65.18181819818182,
                -27.934673375977997
               ],
               [
                65.18181819818182,
                -28.62798443415905
               ],
               [
                65.86363638136363,
                -28.97293836557683
               ]
              ]
             ],
             "type": "Polygon"
            },
            "id": "1.149537312191119,-0.5149718132060985",
            "type": "Feature"
           },
           {
            "geometry": {
             "coordinates": [
              [
               [
                67.22727274772727,
                -45.738355210739094
               ],
               [
                67.90909093090909,
                -45.46293819064564
               ],
               [
                67.90909093090909,
                -44.90804775470793
               ],
               [
                67.22727274772727,
                -44.62857416958301
               ],
               [
                66.54545456454545,
                -44.90804775470793
               ],
               [
                66.54545456454545,
                -45.46293819064564
               ],
               [
                67.22727274772727,
                -45.738355210739094
               ]
              ]
             ],
             "type": "Polygon"
            },
            "id": "1.173337256584096,-0.8859762293596519",
            "type": "Feature"
           },
           {
            "geometry": {
             "coordinates": [
              [
               [
                67.22727274772727,
                -42.344145034800086
               ],
               [
                67.90909093090909,
                -42.0525219941646
               ],
               [
                67.90909093090909,
                -41.46524208454954
               ],
               [
                67.22727274772727,
                -41.16958834542567
               ],
               [
                66.54545456454545,
                -41.46524208454954
               ],
               [
                66.54545456454545,
                -42.0525219941646
               ],
               [
                67.22727274772727,
                -42.344145034800086
               ]
              ]
             ],
             "type": "Polygon"
            },
            "id": "1.173337256584096,-0.8035308035477512",
            "type": "Feature"
           },
           {
            "geometry": {
             "coordinates": [
              [
               [
                67.22727274772727,
                -40.57426224611941
               ],
               [
                67.90909093090909,
                -40.274593921456685
               ],
               [
                67.90909093090909,
                -39.67125797273608
               ],
               [
                67.22727274772727,
                -39.36759532075098
               ],
               [
                66.54545456454545,
                -39.67125797273608
               ],
               [
                66.54545456454545,
                -40.274593921456685
               ],
               [
                67.22727274772727,
                -40.57426224611941
               ]
              ]
             ],
             "type": "Polygon"
            },
            "id": "1.173337256584096,-0.7623080906418008",
            "type": "Feature"
           },
           {
            "geometry": {
             "coordinates": [
              [
               [
                67.22727274772727,
                -38.756294291171216
               ],
               [
                67.90909093090909,
                -38.448661852041546
               ],
               [
                67.90909093090909,
                -37.82944920685779
               ],
               [
                67.22727274772727,
                -37.517875934254796
               ],
               [
                66.54545456454545,
                -37.82944920685779
               ],
               [
                66.54545456454545,
                -38.448661852041546
               ],
               [
                67.22727274772727,
                -38.756294291171216
               ]
              ]
             ],
             "type": "Polygon"
            },
            "id": "1.173337256584096,-0.7210853777358505",
            "type": "Feature"
           },
           {
            "geometry": {
             "coordinates": [
              [
               [
                67.22727274772727,
                -36.89081409263251
               ],
               [
                67.90909093090909,
                -36.57533347919717
               ],
               [
                67.90909093090909,
                -35.940494058394584
               ],
               [
                67.22727274772727,
                -35.62114425423612
               ],
               [
                66.54545456454545,
                -35.940494058394584
               ],
               [
                66.54545456454545,
                -36.57533347919717
               ],
               [
                67.22727274772727,
                -36.89081409263251
               ]
              ]
             ],
             "type": "Polygon"
            },
            "id": "1.173337256584096,-0.6798626648299001",
            "type": "Feature"
           },
           {
            "geometry": {
             "coordinates": [
              [
               [
                67.22727274772727,
                -34.97860829889037
               ],
               [
                67.90909093090909,
                -34.65543222216165
               ],
               [
                67.90909093090909,
                -34.005290416769625
               ],
               [
                67.22727274772727,
                -33.678335855357275
               ],
               [
                66.54545456454545,
                -34.005290416769625
               ],
               [
                66.54545456454545,
                -34.65543222216165
               ],
               [
                67.22727274772727,
                -34.97860829889037
               ]
              ]
             ],
             "type": "Polygon"
            },
            "id": "1.173337256584096,-0.6386399519239496",
            "type": "Feature"
           },
           {
            "geometry": {
             "coordinates": [
              [
               [
                67.22727274772727,
                -33.02068871801436
               ],
               [
                67.90909093090909,
                -32.69000842137049
               ],
               [
                67.90909093090909,
                -32.024966476816466
               ],
               [
                67.22727274772727,
                -31.690618236956208
               ],
               [
                66.54545456454545,
                -32.024966476816466
               ],
               [
                66.54545456454545,
                -32.69000842137049
               ],
               [
                67.22727274772727,
                -33.02068871801436
               ]
              ]
             ],
             "type": "Polygon"
            },
            "id": "1.173337256584096,-0.5974172390179993",
            "type": "Feature"
           },
           {
            "geometry": {
             "coordinates": [
              [
               [
                67.22727274772727,
                -31.018302166979456
               ],
               [
                67.90909093090909,
                -30.680348887673055
               ],
               [
                67.90909093090909,
                -30.0008896569427
               ],
               [
                67.22727274772727,
                -29.659399410144857
               ],
               [
                66.54545456454545,
                -30.0008896569427
               ],
               [
                66.54545456454545,
                -30.680348887673055
               ],
               [
                67.22727274772727,
                -31.018302166979456
               ]
              ]
             ],
             "type": "Polygon"
            },
            "id": "1.173337256584096,-0.5561945261120489",
            "type": "Feature"
           },
           {
            "geometry": {
             "coordinates": [
              [
               [
                67.22727274772727,
                -28.97293836557683
               ],
               [
                67.90909093090909,
                -28.62798443415905
               ],
               [
                67.90909093090909,
                -27.934673375977997
               ],
               [
                67.22727274772727,
                -27.586334281862243
               ],
               [
                66.54545456454545,
                -27.934673375977997
               ],
               [
                66.54545456454545,
                -28.62798443415905
               ],
               [
                67.22727274772727,
                -28.97293836557683
               ]
              ]
             ],
             "type": "Polygon"
            },
            "id": "1.173337256584096,-0.5149718132060985",
            "type": "Feature"
           },
           {
            "geometry": {
             "coordinates": [
              [
               [
                68.59090911409092,
                -45.738355210739094
               ],
               [
                69.27272729727272,
                -45.46293819064564
               ],
               [
                69.27272729727272,
                -44.90804775470793
               ],
               [
                68.59090911409092,
                -44.62857416958301
               ],
               [
                67.9090909309091,
                -44.90804775470793
               ],
               [
                67.9090909309091,
                -45.46293819064564
               ],
               [
                68.59090911409092,
                -45.738355210739094
               ]
              ]
             ],
             "type": "Polygon"
            },
            "id": "1.1971372009770733,-0.8859762293596519",
            "type": "Feature"
           },
           {
            "geometry": {
             "coordinates": [
              [
               [
                68.59090911409092,
                -42.344145034800086
               ],
               [
                69.27272729727272,
                -42.0525219941646
               ],
               [
                69.27272729727272,
                -41.46524208454954
               ],
               [
                68.59090911409092,
                -41.16958834542567
               ],
               [
                67.9090909309091,
                -41.46524208454954
               ],
               [
                67.9090909309091,
                -42.0525219941646
               ],
               [
                68.59090911409092,
                -42.344145034800086
               ]
              ]
             ],
             "type": "Polygon"
            },
            "id": "1.1971372009770733,-0.8035308035477512",
            "type": "Feature"
           },
           {
            "geometry": {
             "coordinates": [
              [
               [
                68.59090911409092,
                -40.57426224611941
               ],
               [
                69.27272729727272,
                -40.274593921456685
               ],
               [
                69.27272729727272,
                -39.67125797273608
               ],
               [
                68.59090911409092,
                -39.36759532075098
               ],
               [
                67.9090909309091,
                -39.67125797273608
               ],
               [
                67.9090909309091,
                -40.274593921456685
               ],
               [
                68.59090911409092,
                -40.57426224611941
               ]
              ]
             ],
             "type": "Polygon"
            },
            "id": "1.1971372009770733,-0.7623080906418008",
            "type": "Feature"
           },
           {
            "geometry": {
             "coordinates": [
              [
               [
                68.59090911409092,
                -38.756294291171216
               ],
               [
                69.27272729727272,
                -38.448661852041546
               ],
               [
                69.27272729727272,
                -37.82944920685779
               ],
               [
                68.59090911409092,
                -37.517875934254796
               ],
               [
                67.9090909309091,
                -37.82944920685779
               ],
               [
                67.9090909309091,
                -38.448661852041546
               ],
               [
                68.59090911409092,
                -38.756294291171216
               ]
              ]
             ],
             "type": "Polygon"
            },
            "id": "1.1971372009770733,-0.7210853777358505",
            "type": "Feature"
           },
           {
            "geometry": {
             "coordinates": [
              [
               [
                68.59090911409092,
                -36.89081409263251
               ],
               [
                69.27272729727272,
                -36.57533347919717
               ],
               [
                69.27272729727272,
                -35.940494058394584
               ],
               [
                68.59090911409092,
                -35.62114425423612
               ],
               [
                67.9090909309091,
                -35.940494058394584
               ],
               [
                67.9090909309091,
                -36.57533347919717
               ],
               [
                68.59090911409092,
                -36.89081409263251
               ]
              ]
             ],
             "type": "Polygon"
            },
            "id": "1.1971372009770733,-0.6798626648299001",
            "type": "Feature"
           },
           {
            "geometry": {
             "coordinates": [
              [
               [
                68.59090911409092,
                -34.97860829889037
               ],
               [
                69.27272729727272,
                -34.65543222216165
               ],
               [
                69.27272729727272,
                -34.005290416769625
               ],
               [
                68.59090911409092,
                -33.678335855357275
               ],
               [
                67.9090909309091,
                -34.005290416769625
               ],
               [
                67.9090909309091,
                -34.65543222216165
               ],
               [
                68.59090911409092,
                -34.97860829889037
               ]
              ]
             ],
             "type": "Polygon"
            },
            "id": "1.1971372009770733,-0.6386399519239496",
            "type": "Feature"
           },
           {
            "geometry": {
             "coordinates": [
              [
               [
                68.59090911409092,
                -33.02068871801436
               ],
               [
                69.27272729727272,
                -32.69000842137049
               ],
               [
                69.27272729727272,
                -32.024966476816466
               ],
               [
                68.59090911409092,
                -31.690618236956208
               ],
               [
                67.9090909309091,
                -32.024966476816466
               ],
               [
                67.9090909309091,
                -32.69000842137049
               ],
               [
                68.59090911409092,
                -33.02068871801436
               ]
              ]
             ],
             "type": "Polygon"
            },
            "id": "1.1971372009770733,-0.5974172390179993",
            "type": "Feature"
           },
           {
            "geometry": {
             "coordinates": [
              [
               [
                68.59090911409092,
                -31.018302166979456
               ],
               [
                69.27272729727272,
                -30.680348887673055
               ],
               [
                69.27272729727272,
                -30.0008896569427
               ],
               [
                68.59090911409092,
                -29.659399410144857
               ],
               [
                67.9090909309091,
                -30.0008896569427
               ],
               [
                67.9090909309091,
                -30.680348887673055
               ],
               [
                68.59090911409092,
                -31.018302166979456
               ]
              ]
             ],
             "type": "Polygon"
            },
            "id": "1.1971372009770733,-0.5561945261120489",
            "type": "Feature"
           },
           {
            "geometry": {
             "coordinates": [
              [
               [
                68.59090911409092,
                -28.97293836557683
               ],
               [
                69.27272729727272,
                -28.62798443415905
               ],
               [
                69.27272729727272,
                -27.934673375977997
               ],
               [
                68.59090911409092,
                -27.586334281862243
               ],
               [
                67.9090909309091,
                -27.934673375977997
               ],
               [
                67.9090909309091,
                -28.62798443415905
               ],
               [
                68.59090911409092,
                -28.97293836557683
               ]
              ]
             ],
             "type": "Polygon"
            },
            "id": "1.1971372009770733,-0.5149718132060985",
            "type": "Feature"
           },
           {
            "geometry": {
             "coordinates": [
              [
               [
                69.95454548045454,
                -44.06557080109546
               ],
               [
                70.63636366363636,
                -43.782041623674104
               ],
               [
                70.63636366363636,
                -43.21093079831662
               ],
               [
                69.95454548045454,
                -42.92335056484793
               ],
               [
                69.27272729727272,
                -43.21093079831662
               ],
               [
                69.27272729727272,
                -43.782041623674104
               ],
               [
                69.95454548045454,
                -44.06557080109546
               ]
              ]
             ],
             "type": "Polygon"
            },
            "id": "1.2209371453700504,-0.8447535164537016",
            "type": "Feature"
           },
           {
            "geometry": {
             "coordinates": [
              [
               [
                69.95454548045454,
                -42.344145034800086
               ],
               [
                70.63636366363636,
                -42.0525219941646
               ],
               [
                70.63636366363636,
                -41.46524208454954
               ],
               [
                69.95454548045454,
                -41.16958834542567
               ],
               [
                69.27272729727272,
                -41.46524208454954
               ],
               [
                69.27272729727272,
                -42.0525219941646
               ],
               [
                69.95454548045454,
                -42.344145034800086
               ]
              ]
             ],
             "type": "Polygon"
            },
            "id": "1.2209371453700504,-0.8035308035477512",
            "type": "Feature"
           },
           {
            "geometry": {
             "coordinates": [
              [
               [
                69.95454548045454,
                -40.57426224611941
               ],
               [
                70.63636366363636,
                -40.274593921456685
               ],
               [
                70.63636366363636,
                -39.67125797273608
               ],
               [
                69.95454548045454,
                -39.36759532075098
               ],
               [
                69.27272729727272,
                -39.67125797273608
               ],
               [
                69.27272729727272,
                -40.274593921456685
               ],
               [
                69.95454548045454,
                -40.57426224611941
               ]
              ]
             ],
             "type": "Polygon"
            },
            "id": "1.2209371453700504,-0.7623080906418008",
            "type": "Feature"
           },
           {
            "geometry": {
             "coordinates": [
              [
               [
                71.31818184681818,
                -42.344145034800086
               ],
               [
                72.00000003,
                -42.0525219941646
               ],
               [
                72.00000003,
                -41.46524208454954
               ],
               [
                71.31818184681818,
                -41.16958834542567
               ],
               [
                70.63636366363636,
                -41.46524208454954
               ],
               [
                70.63636366363636,
                -42.0525219941646
               ],
               [
                71.31818184681818,
                -42.344145034800086
               ]
              ]
             ],
             "type": "Polygon"
            },
            "id": "1.2447370897630274,-0.8035308035477512",
            "type": "Feature"
           },
           {
            "geometry": {
             "coordinates": [
              [
               [
                71.31818184681818,
                -40.57426224611941
               ],
               [
                72.00000003,
                -40.274593921456685
               ],
               [
                72.00000003,
                -39.67125797273608
               ],
               [
                71.31818184681818,
                -39.36759532075098
               ],
               [
                70.63636366363636,
                -39.67125797273608
               ],
               [
                70.63636366363636,
                -40.274593921456685
               ],
               [
                71.31818184681818,
                -40.57426224611941
               ]
              ]
             ],
             "type": "Polygon"
            },
            "id": "1.2447370897630274,-0.7623080906418008",
            "type": "Feature"
           }
          ],
          "type": "FeatureCollection"
         },
         "hovertemplate": "color label=%{z}<extra></extra>",
         "locations": [
          "0.7330382853140196,-0.2882468922233715",
          "0.7568382297069967,-0.9065875858126271",
          "0.7568382297069967,-0.7004740212828753",
          "0.7568382297069967,-0.3294696051293219",
          "0.7568382297069967,-0.2882468922233715",
          "0.7806381740999738,-0.8653648729066767",
          "0.7806381740999738,-0.8241421600007264",
          "0.7806381740999738,-0.7004740212828753",
          "0.7806381740999738,-0.3294696051293219",
          "0.7806381740999738,-0.2882468922233715",
          "0.8044381184929509,-0.8653648729066767",
          "0.8044381184929509,-0.8241421600007264",
          "0.8044381184929509,-0.782919447094776",
          "0.8044381184929509,-0.7004740212828753",
          "0.8044381184929509,-0.5355831696590738",
          "0.8044381184929509,-0.3294696051293219",
          "0.8044381184929509,-0.2882468922233715",
          "0.828238062885928,-0.8653648729066767",
          "0.828238062885928,-0.8241421600007264",
          "0.828238062885928,-0.782919447094776",
          "0.828238062885928,-0.7004740212828753",
          "0.828238062885928,-0.6592513083769249",
          "0.828238062885928,-0.5768058825650242",
          "0.828238062885928,-0.4943604567531234",
          "0.828238062885928,-0.2058014664114708",
          "0.828238062885928,-0.16457875350552043",
          "0.828238062885928,-0.12335604059957006",
          "0.828238062885928,-0.04091061478766933",
          "0.8520380072789051,-0.8241421600007264",
          "0.8520380072789051,-0.782919447094776",
          "0.8520380072789051,-0.7416967341888256",
          "0.8520380072789051,-0.7004740212828753",
          "0.8520380072789051,-0.6592513083769249",
          "0.8520380072789051,-0.6180285954709746",
          "0.8520380072789051,-0.5768058825650242",
          "0.8520380072789051,-0.5355831696590738",
          "0.8520380072789051,-0.4943604567531234",
          "0.8520380072789051,-0.45313774384717304",
          "0.8520380072789051,-0.4119150309412226",
          "0.8520380072789051,-0.37069231803527225",
          "0.8520380072789051,-0.2058014664114708",
          "0.8520380072789051,-0.16457875350552043",
          "0.8520380072789051,-0.12335604059957006",
          "0.8520380072789051,-0.0821333276936197",
          "0.8520380072789051,-0.04091061478766933",
          "0.8758379516718823,-0.8653648729066767",
          "0.8758379516718823,-0.8241421600007264",
          "0.8758379516718823,-0.782919447094776",
          "0.8758379516718823,-0.7416967341888256",
          "0.8758379516718823,-0.7004740212828753",
          "0.8758379516718823,-0.6592513083769249",
          "0.8758379516718823,-0.6180285954709746",
          "0.8758379516718823,-0.5768058825650242",
          "0.8758379516718823,-0.5355831696590738",
          "0.8758379516718823,-0.4943604567531234",
          "0.8758379516718823,-0.45313774384717304",
          "0.8758379516718823,-0.4119150309412226",
          "0.8758379516718823,-0.37069231803527225",
          "0.8758379516718823,-0.3294696051293219",
          "0.8758379516718823,-0.2058014664114708",
          "0.8758379516718823,-0.16457875350552043",
          "0.8758379516718823,-0.12335604059957006",
          "0.8758379516718823,-0.0821333276936197",
          "0.8758379516718823,-0.04091061478766933",
          "0.8996378960648593,-0.8241421600007264",
          "0.8996378960648593,-0.782919447094776",
          "0.8996378960648593,-0.7416967341888256",
          "0.8996378960648593,-0.7004740212828753",
          "0.8996378960648593,-0.6592513083769249",
          "0.8996378960648593,-0.6180285954709746",
          "0.8996378960648593,-0.5768058825650242",
          "0.8996378960648593,-0.5355831696590738",
          "0.8996378960648593,-0.4943604567531234",
          "0.8996378960648593,-0.45313774384717304",
          "0.8996378960648593,-0.4119150309412226",
          "0.8996378960648593,-0.37069231803527225",
          "0.8996378960648593,-0.3294696051293219",
          "0.8996378960648593,-0.2058014664114708",
          "0.8996378960648593,-0.16457875350552043",
          "0.8996378960648593,-0.12335604059957006",
          "0.8996378960648593,-0.0821333276936197",
          "0.8996378960648593,0.0003120981182810345",
          "0.9234378404578365,-0.8241421600007264",
          "0.9234378404578365,-0.782919447094776",
          "0.9234378404578365,-0.7416967341888256",
          "0.9234378404578365,-0.7004740212828753",
          "0.9234378404578365,-0.6592513083769249",
          "0.9234378404578365,-0.6180285954709746",
          "0.9234378404578365,-0.5768058825650242",
          "0.9234378404578365,-0.5355831696590738",
          "0.9234378404578365,-0.4943604567531234",
          "0.9234378404578365,-0.45313774384717304",
          "0.9234378404578365,-0.4119150309412226",
          "0.9234378404578365,-0.37069231803527225",
          "0.9234378404578365,-0.3294696051293219",
          "0.9234378404578365,-0.2882468922233715",
          "0.9234378404578365,-0.24702417931742116",
          "0.9234378404578365,-0.2058014664114708",
          "0.9234378404578365,-0.16457875350552043",
          "0.9472377848508136,-0.8241421600007264",
          "0.9472377848508136,-0.782919447094776",
          "0.9472377848508136,-0.7416967341888256",
          "0.9472377848508136,-0.7004740212828753",
          "0.9472377848508136,-0.6592513083769249",
          "0.9472377848508136,-0.6180285954709746",
          "0.9472377848508136,-0.5768058825650242",
          "0.9472377848508136,-0.5355831696590738",
          "0.9472377848508136,-0.4943604567531234",
          "0.9472377848508136,-0.45313774384717304",
          "0.9472377848508136,-0.4119150309412226",
          "0.9472377848508136,-0.37069231803527225",
          "0.9472377848508136,-0.3294696051293219",
          "0.9472377848508136,-0.2882468922233715",
          "0.9472377848508136,-0.24702417931742116",
          "0.9472377848508136,-0.2058014664114708",
          "0.9472377848508136,-0.16457875350552043",
          "0.9710377292437907,-0.8241421600007264",
          "0.9710377292437907,-0.782919447094776",
          "0.9710377292437907,-0.7416967341888256",
          "0.9710377292437907,-0.7004740212828753",
          "0.9710377292437907,-0.6592513083769249",
          "0.9710377292437907,-0.6180285954709746",
          "0.9710377292437907,-0.5768058825650242",
          "0.9710377292437907,-0.5355831696590738",
          "0.9710377292437907,-0.4943604567531234",
          "0.9710377292437907,-0.45313774384717304",
          "0.9710377292437907,-0.4119150309412226",
          "0.9710377292437907,-0.37069231803527225",
          "0.9710377292437907,-0.3294696051293219",
          "0.9710377292437907,-0.2882468922233715",
          "0.9710377292437907,-0.24702417931742116",
          "0.9710377292437907,-0.2058014664114708",
          "0.9948376736367678,-0.8241421600007264",
          "0.9948376736367678,-0.782919447094776",
          "0.9948376736367678,-0.7416967341888256",
          "0.9948376736367678,-0.7004740212828753",
          "0.9948376736367678,-0.6592513083769249",
          "0.9948376736367678,-0.6180285954709746",
          "0.9948376736367678,-0.5768058825650242",
          "0.9948376736367678,-0.5355831696590738",
          "0.9948376736367678,-0.4943604567531234",
          "0.9948376736367678,-0.45313774384717304",
          "0.9948376736367678,-0.4119150309412226",
          "0.9948376736367678,-0.37069231803527225",
          "0.9948376736367678,-0.3294696051293219",
          "0.9948376736367678,-0.2882468922233715",
          "0.9948376736367678,-0.24702417931742116",
          "1.018637618029745,-0.8653648729066767",
          "1.018637618029745,-0.8241421600007264",
          "1.018637618029745,-0.782919447094776",
          "1.018637618029745,-0.7416967341888256",
          "1.018637618029745,-0.7004740212828753",
          "1.018637618029745,-0.6592513083769249",
          "1.018637618029745,-0.6180285954709746",
          "1.018637618029745,-0.5768058825650242",
          "1.018637618029745,-0.5355831696590738",
          "1.018637618029745,-0.4943604567531234",
          "1.018637618029745,-0.45313774384717304",
          "1.018637618029745,-0.4119150309412226",
          "1.018637618029745,-0.37069231803527225",
          "1.018637618029745,-0.3294696051293219",
          "1.018637618029745,-0.2882468922233715",
          "1.018637618029745,-0.24702417931742116",
          "1.042437562422722,-0.8653648729066767",
          "1.042437562422722,-0.8241421600007264",
          "1.042437562422722,-0.782919447094776",
          "1.042437562422722,-0.7416967341888256",
          "1.042437562422722,-0.7004740212828753",
          "1.042437562422722,-0.6592513083769249",
          "1.042437562422722,-0.6180285954709746",
          "1.042437562422722,-0.5768058825650242",
          "1.042437562422722,-0.5355831696590738",
          "1.042437562422722,-0.4943604567531234",
          "1.042437562422722,-0.45313774384717304",
          "1.042437562422722,-0.4119150309412226",
          "1.042437562422722,-0.37069231803527225",
          "1.042437562422722,-0.3294696051293219",
          "1.066237506815699,-0.8653648729066767",
          "1.066237506815699,-0.8241421600007264",
          "1.066237506815699,-0.782919447094776",
          "1.066237506815699,-0.7416967341888256",
          "1.066237506815699,-0.7004740212828753",
          "1.066237506815699,-0.6592513083769249",
          "1.066237506815699,-0.6180285954709746",
          "1.066237506815699,-0.5768058825650242",
          "1.066237506815699,-0.5355831696590738",
          "1.066237506815699,-0.4943604567531234",
          "1.066237506815699,-0.45313774384717304",
          "1.066237506815699,-0.4119150309412226",
          "1.066237506815699,-0.37069231803527225",
          "1.066237506815699,-0.3294696051293219",
          "1.0900374512086763,-0.8653648729066767",
          "1.0900374512086763,-0.8241421600007264",
          "1.0900374512086763,-0.782919447094776",
          "1.0900374512086763,-0.7416967341888256",
          "1.0900374512086763,-0.7004740212828753",
          "1.0900374512086763,-0.6592513083769249",
          "1.0900374512086763,-0.6180285954709746",
          "1.0900374512086763,-0.5768058825650242",
          "1.0900374512086763,-0.5355831696590738",
          "1.0900374512086763,-0.4943604567531234",
          "1.0900374512086763,-0.45313774384717304",
          "1.0900374512086763,-0.37069231803527225",
          "1.1138373956016534,-0.8653648729066767",
          "1.1138373956016534,-0.8241421600007264",
          "1.1138373956016534,-0.782919447094776",
          "1.1138373956016534,-0.7416967341888256",
          "1.1138373956016534,-0.7004740212828753",
          "1.1138373956016534,-0.6592513083769249",
          "1.1138373956016534,-0.6180285954709746",
          "1.1138373956016534,-0.5768058825650242",
          "1.1138373956016534,-0.5355831696590738",
          "1.1376373399946305,-0.8653648729066767",
          "1.1376373399946305,-0.8241421600007264",
          "1.1376373399946305,-0.782919447094776",
          "1.1376373399946305,-0.7416967341888256",
          "1.1376373399946305,-0.7004740212828753",
          "1.1376373399946305,-0.6592513083769249",
          "1.1376373399946305,-0.6180285954709746",
          "1.1376373399946305,-0.5768058825650242",
          "1.1376373399946305,-0.5355831696590738",
          "1.1376373399946305,-0.4943604567531234",
          "1.1614372843876075,-0.8653648729066767",
          "1.1614372843876075,-0.8241421600007264",
          "1.1614372843876075,-0.782919447094776",
          "1.1614372843876075,-0.7416967341888256",
          "1.1614372843876075,-0.7004740212828753",
          "1.1614372843876075,-0.6592513083769249",
          "1.1614372843876075,-0.6180285954709746",
          "1.1614372843876075,-0.5768058825650242",
          "1.1614372843876075,-0.5355831696590738",
          "1.1614372843876075,-0.4943604567531234",
          "1.1852372287805846,-0.8653648729066767",
          "1.1852372287805846,-0.8241421600007264",
          "1.1852372287805846,-0.782919447094776",
          "1.1852372287805846,-0.7416967341888256",
          "1.1852372287805846,-0.6592513083769249",
          "1.1852372287805846,-0.6180285954709746",
          "1.1852372287805846,-0.5768058825650242",
          "1.1852372287805846,-0.5355831696590738",
          "1.2090371731735619,-0.8653648729066767",
          "1.2090371731735619,-0.8241421600007264",
          "1.2090371731735619,-0.782919447094776",
          "1.2090371731735619,-0.7416967341888256",
          "1.2090371731735619,-0.6180285954709746",
          "1.2090371731735619,-0.5768058825650242",
          "1.2090371731735619,-0.5355831696590738",
          "1.232837117566539,-0.782919447094776",
          "1.232837117566539,-0.7416967341888256",
          "1.256637061959516,-0.782919447094776",
          "0.7449382575105081,-0.8859762293596519",
          "0.7449382575105081,-0.26763553577039634",
          "0.7687382019034853,-0.8859762293596519",
          "0.7687382019034853,-0.6798626648299001",
          "0.7687382019034853,-0.35008096158229707",
          "0.7687382019034853,-0.3088582486763467",
          "0.7687382019034853,-0.26763553577039634",
          "0.7925381462964624,-0.8035308035477512",
          "0.7925381462964624,-0.6798626648299001",
          "0.7925381462964624,-0.3088582486763467",
          "0.7925381462964624,-0.26763553577039634",
          "0.8163380906894395,-0.8859762293596519",
          "0.8163380906894395,-0.8035308035477512",
          "0.8163380906894395,-0.7210853777358505",
          "0.8163380906894395,-0.6798626648299001",
          "0.8401380350824166,-0.8859762293596519",
          "0.8401380350824166,-0.8447535164537016",
          "0.8401380350824166,-0.8035308035477512",
          "0.8401380350824166,-0.7210853777358505",
          "0.8401380350824166,-0.6798626648299001",
          "0.8401380350824166,-0.6386399519239496",
          "0.8401380350824166,-0.5561945261120489",
          "0.8401380350824166,-0.22641282286444597",
          "0.8401380350824166,-0.1851901099584956",
          "0.8401380350824166,-0.14396739705254524",
          "0.8639379794753936,-0.8035308035477512",
          "0.8639379794753936,-0.7623080906418008",
          "0.8639379794753936,-0.7210853777358505",
          "0.8639379794753936,-0.6798626648299001",
          "0.8639379794753936,-0.6386399519239496",
          "0.8639379794753936,-0.5974172390179993",
          "0.8639379794753936,-0.5561945261120489",
          "0.8639379794753936,-0.5149718132060985",
          "0.8639379794753936,-0.43252638739419785",
          "0.8639379794753936,-0.39130367448824743",
          "0.8639379794753936,-0.35008096158229707",
          "0.8639379794753936,-0.22641282286444597",
          "0.8639379794753936,-0.1851901099584956",
          "0.8639379794753936,-0.14396739705254524",
          "0.8639379794753936,-0.10274468414659488",
          "0.8639379794753936,-0.06152197124064451",
          "0.8877379238683708,-0.8447535164537016",
          "0.8877379238683708,-0.8035308035477512",
          "0.8877379238683708,-0.7623080906418008",
          "0.8877379238683708,-0.7210853777358505",
          "0.8877379238683708,-0.6798626648299001",
          "0.8877379238683708,-0.6386399519239496",
          "0.8877379238683708,-0.5974172390179993",
          "0.8877379238683708,-0.5561945261120489",
          "0.8877379238683708,-0.5149718132060985",
          "0.8877379238683708,-0.4737491003001482",
          "0.8877379238683708,-0.43252638739419785",
          "0.8877379238683708,-0.39130367448824743",
          "0.8877379238683708,-0.35008096158229707",
          "0.8877379238683708,-0.22641282286444597",
          "0.8877379238683708,-0.1851901099584956",
          "0.8877379238683708,-0.14396739705254524",
          "0.8877379238683708,-0.10274468414659488",
          "0.8877379238683708,-0.06152197124064451",
          "0.911537868261348,-0.8035308035477512",
          "0.911537868261348,-0.7623080906418008",
          "0.911537868261348,-0.7210853777358505",
          "0.911537868261348,-0.6798626648299001",
          "0.911537868261348,-0.6386399519239496",
          "0.911537868261348,-0.5974172390179993",
          "0.911537868261348,-0.5561945261120489",
          "0.911537868261348,-0.5149718132060985",
          "0.911537868261348,-0.4737491003001482",
          "0.911537868261348,-0.43252638739419785",
          "0.911537868261348,-0.39130367448824743",
          "0.911537868261348,-0.35008096158229707",
          "0.911537868261348,-0.3088582486763467",
          "0.911537868261348,-0.26763553577039634",
          "0.911537868261348,-0.22641282286444597",
          "0.911537868261348,-0.1851901099584956",
          "0.911537868261348,-0.10274468414659488",
          "0.911537868261348,-0.06152197124064451",
          "0.935337812654325,-0.8859762293596519",
          "0.935337812654325,-0.8035308035477512",
          "0.935337812654325,-0.7623080906418008",
          "0.935337812654325,-0.7210853777358505",
          "0.935337812654325,-0.6798626648299001",
          "0.935337812654325,-0.6386399519239496",
          "0.935337812654325,-0.5974172390179993",
          "0.935337812654325,-0.5561945261120489",
          "0.935337812654325,-0.5149718132060985",
          "0.935337812654325,-0.4737491003001482",
          "0.935337812654325,-0.43252638739419785",
          "0.935337812654325,-0.39130367448824743",
          "0.935337812654325,-0.35008096158229707",
          "0.935337812654325,-0.3088582486763467",
          "0.935337812654325,-0.26763553577039634",
          "0.935337812654325,-0.22641282286444597",
          "0.9591377570473021,-0.8447535164537016",
          "0.9591377570473021,-0.8035308035477512",
          "0.9591377570473021,-0.7623080906418008",
          "0.9591377570473021,-0.7210853777358505",
          "0.9591377570473021,-0.6798626648299001",
          "0.9591377570473021,-0.6386399519239496",
          "0.9591377570473021,-0.5974172390179993",
          "0.9591377570473021,-0.5561945261120489",
          "0.9591377570473021,-0.5149718132060985",
          "0.9591377570473021,-0.4737491003001482",
          "0.9591377570473021,-0.43252638739419785",
          "0.9591377570473021,-0.39130367448824743",
          "0.9591377570473021,-0.35008096158229707",
          "0.9591377570473021,-0.3088582486763467",
          "0.9591377570473021,-0.26763553577039634",
          "0.9591377570473021,-0.22641282286444597",
          "0.9829377014402793,-0.8035308035477512",
          "0.9829377014402793,-0.7623080906418008",
          "0.9829377014402793,-0.7210853777358505",
          "0.9829377014402793,-0.6798626648299001",
          "0.9829377014402793,-0.6386399519239496",
          "0.9829377014402793,-0.5974172390179993",
          "0.9829377014402793,-0.5561945261120489",
          "0.9829377014402793,-0.5149718132060985",
          "0.9829377014402793,-0.4737491003001482",
          "0.9829377014402793,-0.43252638739419785",
          "0.9829377014402793,-0.39130367448824743",
          "0.9829377014402793,-0.35008096158229707",
          "0.9829377014402793,-0.3088582486763467",
          "0.9829377014402793,-0.26763553577039634",
          "0.9829377014402793,-0.22641282286444597",
          "1.0067376458332564,-0.8035308035477512",
          "1.0067376458332564,-0.7623080906418008",
          "1.0067376458332564,-0.7210853777358505",
          "1.0067376458332564,-0.6798626648299001",
          "1.0067376458332564,-0.6386399519239496",
          "1.0067376458332564,-0.5974172390179993",
          "1.0067376458332564,-0.5561945261120489",
          "1.0067376458332564,-0.5149718132060985",
          "1.0067376458332564,-0.4737491003001482",
          "1.0067376458332564,-0.43252638739419785",
          "1.0067376458332564,-0.39130367448824743",
          "1.0067376458332564,-0.35008096158229707",
          "1.0067376458332564,-0.3088582486763467",
          "1.0067376458332564,-0.26763553577039634",
          "1.0305375902262335,-0.8447535164537016",
          "1.0305375902262335,-0.8035308035477512",
          "1.0305375902262335,-0.7623080906418008",
          "1.0305375902262335,-0.7210853777358505",
          "1.0305375902262335,-0.6798626648299001",
          "1.0305375902262335,-0.6386399519239496",
          "1.0305375902262335,-0.5974172390179993",
          "1.0305375902262335,-0.5561945261120489",
          "1.0305375902262335,-0.5149718132060985",
          "1.0305375902262335,-0.4737491003001482",
          "1.0305375902262335,-0.43252638739419785",
          "1.0305375902262335,-0.39130367448824743",
          "1.0305375902262335,-0.35008096158229707",
          "1.0305375902262335,-0.3088582486763467",
          "1.0543375346192105,-0.8035308035477512",
          "1.0543375346192105,-0.7623080906418008",
          "1.0543375346192105,-0.7210853777358505",
          "1.0543375346192105,-0.6798626648299001",
          "1.0543375346192105,-0.6386399519239496",
          "1.0543375346192105,-0.5974172390179993",
          "1.0543375346192105,-0.5561945261120489",
          "1.0543375346192105,-0.5149718132060985",
          "1.0543375346192105,-0.4737491003001482",
          "1.0543375346192105,-0.43252638739419785",
          "1.0543375346192105,-0.39130367448824743",
          "1.0543375346192105,-0.35008096158229707",
          "1.0781374790121876,-0.8035308035477512",
          "1.0781374790121876,-0.7623080906418008",
          "1.0781374790121876,-0.7210853777358505",
          "1.0781374790121876,-0.6798626648299001",
          "1.0781374790121876,-0.6386399519239496",
          "1.0781374790121876,-0.5974172390179993",
          "1.0781374790121876,-0.5561945261120489",
          "1.0781374790121876,-0.5149718132060985",
          "1.0781374790121876,-0.4737491003001482",
          "1.0781374790121876,-0.43252638739419785",
          "1.0781374790121876,-0.39130367448824743",
          "1.0781374790121876,-0.35008096158229707",
          "1.1019374234051649,-0.8447535164537016",
          "1.1019374234051649,-0.8035308035477512",
          "1.1019374234051649,-0.7623080906418008",
          "1.1019374234051649,-0.7210853777358505",
          "1.1019374234051649,-0.6798626648299001",
          "1.1019374234051649,-0.6386399519239496",
          "1.1019374234051649,-0.5974172390179993",
          "1.1019374234051649,-0.5561945261120489",
          "1.1019374234051649,-0.5149718132060985",
          "1.1019374234051649,-0.4737491003001482",
          "1.1019374234051649,-0.43252638739419785",
          "1.1019374234051649,-0.39130367448824743",
          "1.1019374234051649,-0.35008096158229707",
          "1.125737367798142,-0.8035308035477512",
          "1.125737367798142,-0.7623080906418008",
          "1.125737367798142,-0.7210853777358505",
          "1.125737367798142,-0.6798626648299001",
          "1.125737367798142,-0.6386399519239496",
          "1.125737367798142,-0.5974172390179993",
          "1.125737367798142,-0.5561945261120489",
          "1.125737367798142,-0.5149718132060985",
          "1.125737367798142,-0.4737491003001482",
          "1.125737367798142,-0.39130367448824743",
          "1.149537312191119,-0.8447535164537016",
          "1.149537312191119,-0.8035308035477512",
          "1.149537312191119,-0.7623080906418008",
          "1.149537312191119,-0.7210853777358505",
          "1.149537312191119,-0.6798626648299001",
          "1.149537312191119,-0.6386399519239496",
          "1.149537312191119,-0.5974172390179993",
          "1.149537312191119,-0.5561945261120489",
          "1.149537312191119,-0.5149718132060985",
          "1.173337256584096,-0.8859762293596519",
          "1.173337256584096,-0.8035308035477512",
          "1.173337256584096,-0.7623080906418008",
          "1.173337256584096,-0.7210853777358505",
          "1.173337256584096,-0.6798626648299001",
          "1.173337256584096,-0.6386399519239496",
          "1.173337256584096,-0.5974172390179993",
          "1.173337256584096,-0.5561945261120489",
          "1.173337256584096,-0.5149718132060985",
          "1.1971372009770733,-0.8859762293596519",
          "1.1971372009770733,-0.8035308035477512",
          "1.1971372009770733,-0.7623080906418008",
          "1.1971372009770733,-0.7210853777358505",
          "1.1971372009770733,-0.6798626648299001",
          "1.1971372009770733,-0.6386399519239496",
          "1.1971372009770733,-0.5974172390179993",
          "1.1971372009770733,-0.5561945261120489",
          "1.1971372009770733,-0.5149718132060985",
          "1.2209371453700504,-0.8447535164537016",
          "1.2209371453700504,-0.8035308035477512",
          "1.2209371453700504,-0.7623080906418008",
          "1.2447370897630274,-0.8035308035477512",
          "1.2447370897630274,-0.7623080906418008"
         ],
         "marker": {
          "opacity": 0.5
         },
         "name": "",
         "subplot": "mapbox",
         "type": "choroplethmapbox",
         "z": [
          2,
          1,
          1,
          1,
          2,
          1,
          1,
          1,
          1,
          1,
          1,
          1,
          1,
          1,
          1,
          1,
          1,
          1,
          1,
          2,
          2,
          2,
          2,
          1,
          1,
          1,
          1,
          1,
          1,
          1,
          1,
          1,
          1,
          1,
          1,
          1,
          1,
          1,
          1,
          1,
          1,
          2,
          1,
          1,
          1,
          1,
          1,
          1,
          1,
          1,
          1,
          1,
          1,
          1,
          1,
          1,
          1,
          1,
          1,
          1,
          2,
          1,
          1,
          1,
          1,
          2,
          2,
          2,
          2,
          2,
          2,
          2,
          2,
          2,
          2,
          2,
          1,
          2,
          2,
          2,
          2,
          1,
          1,
          1,
          1,
          1,
          1,
          1,
          1,
          1,
          1,
          1,
          1,
          1,
          2,
          1,
          1,
          2,
          2,
          1,
          1,
          1,
          1,
          1,
          1,
          1,
          1,
          1,
          1,
          1,
          1,
          2,
          1,
          1,
          1,
          1,
          1,
          2,
          2,
          2,
          2,
          2,
          2,
          2,
          2,
          2,
          2,
          2,
          2,
          2,
          2,
          2,
          1,
          1,
          1,
          1,
          1,
          2,
          2,
          2,
          1,
          1,
          1,
          1,
          2,
          2,
          1,
          1,
          1,
          2,
          2,
          2,
          2,
          2,
          2,
          2,
          2,
          2,
          2,
          2,
          2,
          2,
          1,
          1,
          1,
          1,
          1,
          1,
          1,
          1,
          1,
          1,
          1,
          1,
          1,
          1,
          2,
          1,
          1,
          1,
          1,
          1,
          1,
          1,
          1,
          1,
          1,
          1,
          1,
          1,
          2,
          1,
          1,
          2,
          2,
          2,
          2,
          2,
          2,
          2,
          2,
          2,
          1,
          1,
          1,
          1,
          1,
          1,
          1,
          1,
          1,
          1,
          1,
          1,
          1,
          1,
          1,
          1,
          1,
          1,
          1,
          1,
          1,
          1,
          2,
          2,
          2,
          2,
          2,
          2,
          2,
          2,
          1,
          1,
          1,
          1,
          1,
          1,
          1,
          1,
          1,
          1,
          1,
          1,
          1,
          1,
          1,
          2,
          2,
          1,
          1,
          2,
          1,
          1,
          1,
          2,
          1,
          1,
          2,
          2,
          1,
          1,
          1,
          1,
          1,
          1,
          2,
          1,
          1,
          1,
          1,
          1,
          1,
          2,
          1,
          2,
          2,
          1,
          2,
          2,
          2,
          2,
          2,
          2,
          2,
          1,
          2,
          2,
          2,
          2,
          2,
          2,
          1,
          1,
          1,
          1,
          1,
          1,
          1,
          1,
          1,
          1,
          1,
          2,
          1,
          2,
          1,
          1,
          2,
          1,
          1,
          1,
          1,
          1,
          1,
          1,
          1,
          1,
          1,
          1,
          1,
          1,
          1,
          1,
          2,
          1,
          2,
          2,
          2,
          2,
          2,
          2,
          2,
          2,
          2,
          2,
          2,
          2,
          2,
          2,
          1,
          2,
          2,
          1,
          1,
          1,
          1,
          1,
          1,
          1,
          1,
          1,
          1,
          1,
          1,
          2,
          2,
          1,
          1,
          1,
          1,
          1,
          1,
          1,
          1,
          1,
          1,
          1,
          1,
          1,
          1,
          1,
          1,
          1,
          2,
          2,
          2,
          2,
          1,
          1,
          1,
          2,
          2,
          2,
          2,
          2,
          1,
          2,
          2,
          1,
          1,
          1,
          1,
          1,
          1,
          1,
          1,
          1,
          1,
          1,
          2,
          2,
          2,
          2,
          2,
          2,
          2,
          2,
          2,
          2,
          2,
          2,
          2,
          2,
          1,
          1,
          1,
          1,
          1,
          1,
          1,
          1,
          1,
          1,
          1,
          1,
          2,
          1,
          1,
          1,
          1,
          1,
          1,
          1,
          1,
          1,
          1,
          1,
          1,
          2,
          2,
          2,
          2,
          2,
          2,
          2,
          2,
          1,
          1,
          2,
          1,
          1,
          1,
          1,
          1,
          1,
          1,
          1,
          1,
          1,
          1,
          1,
          1,
          1,
          1,
          1,
          1,
          2,
          2,
          2,
          1,
          2,
          2,
          2,
          2,
          1,
          2,
          1,
          1,
          2,
          2
         ]
        }
       ],
       "layout": {
        "coloraxis": {
         "cmax": 2,
         "cmin": 1,
         "colorbar": {
          "title": {
           "text": "color label"
          }
         },
         "colorscale": [
          [
           0,
           "#000011"
          ],
          [
           0.1111111111111111,
           "#000012"
          ],
          [
           0.2222222222222222,
           "#000013"
          ],
          [
           0.3333333333333333,
           "#000014"
          ],
          [
           0.4444444444444444,
           "#000015"
          ],
          [
           0.5555555555555556,
           "#000016"
          ],
          [
           0.6666666666666666,
           "#000017"
          ],
          [
           0.7777777777777778,
           "#000018"
          ],
          [
           0.8888888888888888,
           "#000019"
          ],
          [
           1,
           "#000020"
          ]
         ]
        },
        "legend": {
         "tracegroupgap": 0
        },
        "mapbox": {
         "accesstoken": "pk.eyJ1Ijoibm5vYmxlMTMiLCJhIjoiY2xwam91bHNoMDF4dTJpbGIzaTRwMWdubSJ9.t9AstZVQrSa9uFByagdtNw",
         "center": {
          "lat": -23,
          "lon": 57
         },
         "domain": {
          "x": [
           0,
           1
          ],
          "y": [
           0,
           1
          ]
         },
         "zoom": 2.4768929637052026
        },
        "margin": {
         "t": 60
        },
        "template": {
         "data": {
          "candlestick": [
           {
            "decreasing": {
             "line": {
              "color": "#000033"
             }
            },
            "increasing": {
             "line": {
              "color": "#000032"
             }
            },
            "type": "candlestick"
           }
          ],
          "contour": [
           {
            "colorscale": [
             [
              0,
              "#000011"
             ],
             [
              0.1111111111111111,
              "#000012"
             ],
             [
              0.2222222222222222,
              "#000013"
             ],
             [
              0.3333333333333333,
              "#000014"
             ],
             [
              0.4444444444444444,
              "#000015"
             ],
             [
              0.5555555555555556,
              "#000016"
             ],
             [
              0.6666666666666666,
              "#000017"
             ],
             [
              0.7777777777777778,
              "#000018"
             ],
             [
              0.8888888888888888,
              "#000019"
             ],
             [
              1,
              "#000020"
             ]
            ],
            "type": "contour"
           }
          ],
          "contourcarpet": [
           {
            "colorscale": [
             [
              0,
              "#000011"
             ],
             [
              0.1111111111111111,
              "#000012"
             ],
             [
              0.2222222222222222,
              "#000013"
             ],
             [
              0.3333333333333333,
              "#000014"
             ],
             [
              0.4444444444444444,
              "#000015"
             ],
             [
              0.5555555555555556,
              "#000016"
             ],
             [
              0.6666666666666666,
              "#000017"
             ],
             [
              0.7777777777777778,
              "#000018"
             ],
             [
              0.8888888888888888,
              "#000019"
             ],
             [
              1,
              "#000020"
             ]
            ],
            "type": "contourcarpet"
           }
          ],
          "heatmap": [
           {
            "colorscale": [
             [
              0,
              "#000011"
             ],
             [
              0.1111111111111111,
              "#000012"
             ],
             [
              0.2222222222222222,
              "#000013"
             ],
             [
              0.3333333333333333,
              "#000014"
             ],
             [
              0.4444444444444444,
              "#000015"
             ],
             [
              0.5555555555555556,
              "#000016"
             ],
             [
              0.6666666666666666,
              "#000017"
             ],
             [
              0.7777777777777778,
              "#000018"
             ],
             [
              0.8888888888888888,
              "#000019"
             ],
             [
              1,
              "#000020"
             ]
            ],
            "type": "heatmap"
           }
          ],
          "histogram2d": [
           {
            "colorscale": [
             [
              0,
              "#000011"
             ],
             [
              0.1111111111111111,
              "#000012"
             ],
             [
              0.2222222222222222,
              "#000013"
             ],
             [
              0.3333333333333333,
              "#000014"
             ],
             [
              0.4444444444444444,
              "#000015"
             ],
             [
              0.5555555555555556,
              "#000016"
             ],
             [
              0.6666666666666666,
              "#000017"
             ],
             [
              0.7777777777777778,
              "#000018"
             ],
             [
              0.8888888888888888,
              "#000019"
             ],
             [
              1,
              "#000020"
             ]
            ],
            "type": "histogram2d"
           }
          ],
          "icicle": [
           {
            "textfont": {
             "color": "white"
            },
            "type": "icicle"
           }
          ],
          "sankey": [
           {
            "textfont": {
             "color": "#000036"
            },
            "type": "sankey"
           }
          ],
          "scatter": [
           {
            "marker": {
             "line": {
              "width": 0
             }
            },
            "type": "scatter"
           }
          ],
          "table": [
           {
            "cells": {
             "fill": {
              "color": "#000038"
             },
             "font": {
              "color": "#000037"
             },
             "line": {
              "color": "#000039"
             }
            },
            "header": {
             "fill": {
              "color": "#000040"
             },
             "font": {
              "color": "#000036"
             },
             "line": {
              "color": "#000039"
             }
            },
            "type": "table"
           }
          ],
          "waterfall": [
           {
            "connector": {
             "line": {
              "color": "#000036",
              "width": 2
             }
            },
            "decreasing": {
             "marker": {
              "color": "#000033"
             }
            },
            "increasing": {
             "marker": {
              "color": "#000032"
             }
            },
            "totals": {
             "marker": {
              "color": "#000034"
             }
            },
            "type": "waterfall"
           }
          ]
         },
         "layout": {
          "coloraxis": {
           "colorscale": [
            [
             0,
             "#000011"
            ],
            [
             0.1111111111111111,
             "#000012"
            ],
            [
             0.2222222222222222,
             "#000013"
            ],
            [
             0.3333333333333333,
             "#000014"
            ],
            [
             0.4444444444444444,
             "#000015"
            ],
            [
             0.5555555555555556,
             "#000016"
            ],
            [
             0.6666666666666666,
             "#000017"
            ],
            [
             0.7777777777777778,
             "#000018"
            ],
            [
             0.8888888888888888,
             "#000019"
            ],
            [
             1,
             "#000020"
            ]
           ]
          },
          "colorscale": {
           "diverging": [
            [
             0,
             "#000021"
            ],
            [
             0.1,
             "#000022"
            ],
            [
             0.2,
             "#000023"
            ],
            [
             0.3,
             "#000024"
            ],
            [
             0.4,
             "#000025"
            ],
            [
             0.5,
             "#000026"
            ],
            [
             0.6,
             "#000027"
            ],
            [
             0.7,
             "#000028"
            ],
            [
             0.8,
             "#000029"
            ],
            [
             0.9,
             "#000030"
            ],
            [
             1,
             "#000031"
            ]
           ],
           "sequential": [
            [
             0,
             "#000011"
            ],
            [
             0.1111111111111111,
             "#000012"
            ],
            [
             0.2222222222222222,
             "#000013"
            ],
            [
             0.3333333333333333,
             "#000014"
            ],
            [
             0.4444444444444444,
             "#000015"
            ],
            [
             0.5555555555555556,
             "#000016"
            ],
            [
             0.6666666666666666,
             "#000017"
            ],
            [
             0.7777777777777778,
             "#000018"
            ],
            [
             0.8888888888888888,
             "#000019"
            ],
            [
             1,
             "#000020"
            ]
           ],
           "sequentialminus": [
            [
             0,
             "#000011"
            ],
            [
             0.1111111111111111,
             "#000012"
            ],
            [
             0.2222222222222222,
             "#000013"
            ],
            [
             0.3333333333333333,
             "#000014"
            ],
            [
             0.4444444444444444,
             "#000015"
            ],
            [
             0.5555555555555556,
             "#000016"
            ],
            [
             0.6666666666666666,
             "#000017"
            ],
            [
             0.7777777777777778,
             "#000018"
            ],
            [
             0.8888888888888888,
             "#000019"
            ],
            [
             1,
             "#000020"
            ]
           ]
          },
          "colorway": [
           "#000001",
           "#000002",
           "#000003",
           "#000004",
           "#000005",
           "#000006",
           "#000007",
           "#000008",
           "#000009",
           "#000010"
          ]
         }
        }
       }
      },
      "text/html": [
       "<div>                            <div id=\"8c5831c0-3a2d-477b-a131-a73f2ddf3b9a\" class=\"plotly-graph-div\" style=\"height:525px; width:100%;\"></div>            <script type=\"text/javascript\">                require([\"plotly\"], function(Plotly) {                    window.PLOTLYENV=window.PLOTLYENV || {};                                    if (document.getElementById(\"8c5831c0-3a2d-477b-a131-a73f2ddf3b9a\")) {                    Plotly.newPlot(                        \"8c5831c0-3a2d-477b-a131-a73f2ddf3b9a\",                        [{\"coloraxis\":\"coloraxis\",\"customdata\":[[2.0,\"0.7330382853140196,-0.2882468922233715\",0],[1.0,\"0.7568382297069967,-0.9065875858126271\",0],[1.0,\"0.7568382297069967,-0.7004740212828753\",0],[1.0,\"0.7568382297069967,-0.3294696051293219\",0],[2.0,\"0.7568382297069967,-0.2882468922233715\",0],[1.0,\"0.7806381740999738,-0.8653648729066767\",0],[1.0,\"0.7806381740999738,-0.8241421600007264\",0],[1.0,\"0.7806381740999738,-0.7004740212828753\",0],[1.0,\"0.7806381740999738,-0.3294696051293219\",0],[1.0,\"0.7806381740999738,-0.2882468922233715\",0],[1.0,\"0.8044381184929509,-0.8653648729066767\",0],[1.0,\"0.8044381184929509,-0.8241421600007264\",0],[1.0,\"0.8044381184929509,-0.782919447094776\",0],[1.0,\"0.8044381184929509,-0.7004740212828753\",0],[1.0,\"0.8044381184929509,-0.5355831696590738\",0],[1.0,\"0.8044381184929509,-0.3294696051293219\",0],[1.0,\"0.8044381184929509,-0.2882468922233715\",0],[1.0,\"0.828238062885928,-0.8653648729066767\",0],[1.0,\"0.828238062885928,-0.8241421600007264\",0],[2.0,\"0.828238062885928,-0.782919447094776\",0],[2.0,\"0.828238062885928,-0.7004740212828753\",0],[2.0,\"0.828238062885928,-0.6592513083769249\",0],[2.0,\"0.828238062885928,-0.5768058825650242\",0],[1.0,\"0.828238062885928,-0.4943604567531234\",0],[1.0,\"0.828238062885928,-0.2058014664114708\",0],[1.0,\"0.828238062885928,-0.16457875350552043\",0],[1.0,\"0.828238062885928,-0.12335604059957006\",0],[1.0,\"0.828238062885928,-0.04091061478766933\",0],[1.0,\"0.8520380072789051,-0.8241421600007264\",0],[1.0,\"0.8520380072789051,-0.782919447094776\",0],[1.0,\"0.8520380072789051,-0.7416967341888256\",0],[1.0,\"0.8520380072789051,-0.7004740212828753\",0],[1.0,\"0.8520380072789051,-0.6592513083769249\",0],[1.0,\"0.8520380072789051,-0.6180285954709746\",0],[1.0,\"0.8520380072789051,-0.5768058825650242\",0],[1.0,\"0.8520380072789051,-0.5355831696590738\",0],[1.0,\"0.8520380072789051,-0.4943604567531234\",0],[1.0,\"0.8520380072789051,-0.45313774384717304\",0],[1.0,\"0.8520380072789051,-0.4119150309412226\",0],[1.0,\"0.8520380072789051,-0.37069231803527225\",0],[1.0,\"0.8520380072789051,-0.2058014664114708\",0],[2.0,\"0.8520380072789051,-0.16457875350552043\",0],[1.0,\"0.8520380072789051,-0.12335604059957006\",0],[1.0,\"0.8520380072789051,-0.0821333276936197\",0],[1.0,\"0.8520380072789051,-0.04091061478766933\",0],[1.0,\"0.8758379516718823,-0.8653648729066767\",0],[1.0,\"0.8758379516718823,-0.8241421600007264\",0],[1.0,\"0.8758379516718823,-0.782919447094776\",0],[1.0,\"0.8758379516718823,-0.7416967341888256\",0],[1.0,\"0.8758379516718823,-0.7004740212828753\",0],[1.0,\"0.8758379516718823,-0.6592513083769249\",0],[1.0,\"0.8758379516718823,-0.6180285954709746\",0],[1.0,\"0.8758379516718823,-0.5768058825650242\",0],[1.0,\"0.8758379516718823,-0.5355831696590738\",0],[1.0,\"0.8758379516718823,-0.4943604567531234\",0],[1.0,\"0.8758379516718823,-0.45313774384717304\",0],[1.0,\"0.8758379516718823,-0.4119150309412226\",0],[1.0,\"0.8758379516718823,-0.37069231803527225\",0],[1.0,\"0.8758379516718823,-0.3294696051293219\",0],[1.0,\"0.8758379516718823,-0.2058014664114708\",0],[2.0,\"0.8758379516718823,-0.16457875350552043\",0],[1.0,\"0.8758379516718823,-0.12335604059957006\",0],[1.0,\"0.8758379516718823,-0.0821333276936197\",0],[1.0,\"0.8758379516718823,-0.04091061478766933\",0],[1.0,\"0.8996378960648593,-0.8241421600007264\",0],[2.0,\"0.8996378960648593,-0.782919447094776\",0],[2.0,\"0.8996378960648593,-0.7416967341888256\",0],[2.0,\"0.8996378960648593,-0.7004740212828753\",0],[2.0,\"0.8996378960648593,-0.6592513083769249\",0],[2.0,\"0.8996378960648593,-0.6180285954709746\",0],[2.0,\"0.8996378960648593,-0.5768058825650242\",0],[2.0,\"0.8996378960648593,-0.5355831696590738\",0],[2.0,\"0.8996378960648593,-0.4943604567531234\",0],[2.0,\"0.8996378960648593,-0.45313774384717304\",0],[2.0,\"0.8996378960648593,-0.4119150309412226\",0],[2.0,\"0.8996378960648593,-0.37069231803527225\",0],[1.0,\"0.8996378960648593,-0.3294696051293219\",0],[2.0,\"0.8996378960648593,-0.2058014664114708\",0],[2.0,\"0.8996378960648593,-0.16457875350552043\",0],[2.0,\"0.8996378960648593,-0.12335604059957006\",0],[2.0,\"0.8996378960648593,-0.0821333276936197\",0],[1.0,\"0.8996378960648593,0.0003120981182810345\",0],[1.0,\"0.9234378404578365,-0.8241421600007264\",0],[1.0,\"0.9234378404578365,-0.782919447094776\",0],[1.0,\"0.9234378404578365,-0.7416967341888256\",0],[1.0,\"0.9234378404578365,-0.7004740212828753\",0],[1.0,\"0.9234378404578365,-0.6592513083769249\",0],[1.0,\"0.9234378404578365,-0.6180285954709746\",0],[1.0,\"0.9234378404578365,-0.5768058825650242\",0],[1.0,\"0.9234378404578365,-0.5355831696590738\",0],[1.0,\"0.9234378404578365,-0.4943604567531234\",0],[1.0,\"0.9234378404578365,-0.45313774384717304\",0],[1.0,\"0.9234378404578365,-0.4119150309412226\",0],[1.0,\"0.9234378404578365,-0.37069231803527225\",0],[2.0,\"0.9234378404578365,-0.3294696051293219\",0],[1.0,\"0.9234378404578365,-0.2882468922233715\",0],[1.0,\"0.9234378404578365,-0.24702417931742116\",0],[2.0,\"0.9234378404578365,-0.2058014664114708\",0],[2.0,\"0.9234378404578365,-0.16457875350552043\",0],[1.0,\"0.9472377848508136,-0.8241421600007264\",0],[1.0,\"0.9472377848508136,-0.782919447094776\",0],[1.0,\"0.9472377848508136,-0.7416967341888256\",0],[1.0,\"0.9472377848508136,-0.7004740212828753\",0],[1.0,\"0.9472377848508136,-0.6592513083769249\",0],[1.0,\"0.9472377848508136,-0.6180285954709746\",0],[1.0,\"0.9472377848508136,-0.5768058825650242\",0],[1.0,\"0.9472377848508136,-0.5355831696590738\",0],[1.0,\"0.9472377848508136,-0.4943604567531234\",0],[1.0,\"0.9472377848508136,-0.45313774384717304\",0],[1.0,\"0.9472377848508136,-0.4119150309412226\",0],[1.0,\"0.9472377848508136,-0.37069231803527225\",0],[2.0,\"0.9472377848508136,-0.3294696051293219\",0],[1.0,\"0.9472377848508136,-0.2882468922233715\",0],[1.0,\"0.9472377848508136,-0.24702417931742116\",0],[1.0,\"0.9472377848508136,-0.2058014664114708\",0],[1.0,\"0.9472377848508136,-0.16457875350552043\",0],[1.0,\"0.9710377292437907,-0.8241421600007264\",0],[2.0,\"0.9710377292437907,-0.782919447094776\",0],[2.0,\"0.9710377292437907,-0.7416967341888256\",0],[2.0,\"0.9710377292437907,-0.7004740212828753\",0],[2.0,\"0.9710377292437907,-0.6592513083769249\",0],[2.0,\"0.9710377292437907,-0.6180285954709746\",0],[2.0,\"0.9710377292437907,-0.5768058825650242\",0],[2.0,\"0.9710377292437907,-0.5355831696590738\",0],[2.0,\"0.9710377292437907,-0.4943604567531234\",0],[2.0,\"0.9710377292437907,-0.45313774384717304\",0],[2.0,\"0.9710377292437907,-0.4119150309412226\",0],[2.0,\"0.9710377292437907,-0.37069231803527225\",0],[2.0,\"0.9710377292437907,-0.3294696051293219\",0],[2.0,\"0.9710377292437907,-0.2882468922233715\",0],[2.0,\"0.9710377292437907,-0.24702417931742116\",0],[2.0,\"0.9710377292437907,-0.2058014664114708\",0],[1.0,\"0.9948376736367678,-0.8241421600007264\",0],[1.0,\"0.9948376736367678,-0.782919447094776\",0],[1.0,\"0.9948376736367678,-0.7416967341888256\",0],[1.0,\"0.9948376736367678,-0.7004740212828753\",0],[1.0,\"0.9948376736367678,-0.6592513083769249\",0],[2.0,\"0.9948376736367678,-0.6180285954709746\",0],[2.0,\"0.9948376736367678,-0.5768058825650242\",0],[2.0,\"0.9948376736367678,-0.5355831696590738\",0],[1.0,\"0.9948376736367678,-0.4943604567531234\",0],[1.0,\"0.9948376736367678,-0.45313774384717304\",0],[1.0,\"0.9948376736367678,-0.4119150309412226\",0],[1.0,\"0.9948376736367678,-0.37069231803527225\",0],[2.0,\"0.9948376736367678,-0.3294696051293219\",0],[2.0,\"0.9948376736367678,-0.2882468922233715\",0],[1.0,\"0.9948376736367678,-0.24702417931742116\",0],[1.0,\"1.018637618029745,-0.8653648729066767\",0],[1.0,\"1.018637618029745,-0.8241421600007264\",0],[2.0,\"1.018637618029745,-0.782919447094776\",0],[2.0,\"1.018637618029745,-0.7416967341888256\",0],[2.0,\"1.018637618029745,-0.7004740212828753\",0],[2.0,\"1.018637618029745,-0.6592513083769249\",0],[2.0,\"1.018637618029745,-0.6180285954709746\",0],[2.0,\"1.018637618029745,-0.5768058825650242\",0],[2.0,\"1.018637618029745,-0.5355831696590738\",0],[2.0,\"1.018637618029745,-0.4943604567531234\",0],[2.0,\"1.018637618029745,-0.45313774384717304\",0],[2.0,\"1.018637618029745,-0.4119150309412226\",0],[2.0,\"1.018637618029745,-0.37069231803527225\",0],[2.0,\"1.018637618029745,-0.3294696051293219\",0],[2.0,\"1.018637618029745,-0.2882468922233715\",0],[1.0,\"1.018637618029745,-0.24702417931742116\",0],[1.0,\"1.042437562422722,-0.8653648729066767\",0],[1.0,\"1.042437562422722,-0.8241421600007264\",0],[1.0,\"1.042437562422722,-0.782919447094776\",0],[1.0,\"1.042437562422722,-0.7416967341888256\",0],[1.0,\"1.042437562422722,-0.7004740212828753\",0],[1.0,\"1.042437562422722,-0.6592513083769249\",0],[1.0,\"1.042437562422722,-0.6180285954709746\",0],[1.0,\"1.042437562422722,-0.5768058825650242\",0],[1.0,\"1.042437562422722,-0.5355831696590738\",0],[1.0,\"1.042437562422722,-0.4943604567531234\",0],[1.0,\"1.042437562422722,-0.45313774384717304\",0],[1.0,\"1.042437562422722,-0.4119150309412226\",0],[1.0,\"1.042437562422722,-0.37069231803527225\",0],[2.0,\"1.042437562422722,-0.3294696051293219\",0],[1.0,\"1.066237506815699,-0.8653648729066767\",0],[1.0,\"1.066237506815699,-0.8241421600007264\",0],[1.0,\"1.066237506815699,-0.782919447094776\",0],[1.0,\"1.066237506815699,-0.7416967341888256\",0],[1.0,\"1.066237506815699,-0.7004740212828753\",0],[1.0,\"1.066237506815699,-0.6592513083769249\",0],[1.0,\"1.066237506815699,-0.6180285954709746\",0],[1.0,\"1.066237506815699,-0.5768058825650242\",0],[1.0,\"1.066237506815699,-0.5355831696590738\",0],[1.0,\"1.066237506815699,-0.4943604567531234\",0],[1.0,\"1.066237506815699,-0.45313774384717304\",0],[1.0,\"1.066237506815699,-0.4119150309412226\",0],[1.0,\"1.066237506815699,-0.37069231803527225\",0],[2.0,\"1.066237506815699,-0.3294696051293219\",0],[1.0,\"1.0900374512086763,-0.8653648729066767\",0],[1.0,\"1.0900374512086763,-0.8241421600007264\",0],[2.0,\"1.0900374512086763,-0.782919447094776\",0],[2.0,\"1.0900374512086763,-0.7416967341888256\",0],[2.0,\"1.0900374512086763,-0.7004740212828753\",0],[2.0,\"1.0900374512086763,-0.6592513083769249\",0],[2.0,\"1.0900374512086763,-0.6180285954709746\",0],[2.0,\"1.0900374512086763,-0.5768058825650242\",0],[2.0,\"1.0900374512086763,-0.5355831696590738\",0],[2.0,\"1.0900374512086763,-0.4943604567531234\",0],[2.0,\"1.0900374512086763,-0.45313774384717304\",0],[1.0,\"1.0900374512086763,-0.37069231803527225\",0],[1.0,\"1.1138373956016534,-0.8653648729066767\",0],[1.0,\"1.1138373956016534,-0.8241421600007264\",0],[1.0,\"1.1138373956016534,-0.782919447094776\",0],[1.0,\"1.1138373956016534,-0.7416967341888256\",0],[1.0,\"1.1138373956016534,-0.7004740212828753\",0],[1.0,\"1.1138373956016534,-0.6592513083769249\",0],[1.0,\"1.1138373956016534,-0.6180285954709746\",0],[1.0,\"1.1138373956016534,-0.5768058825650242\",0],[1.0,\"1.1138373956016534,-0.5355831696590738\",0],[1.0,\"1.1376373399946305,-0.8653648729066767\",0],[1.0,\"1.1376373399946305,-0.8241421600007264\",0],[1.0,\"1.1376373399946305,-0.782919447094776\",0],[1.0,\"1.1376373399946305,-0.7416967341888256\",0],[1.0,\"1.1376373399946305,-0.7004740212828753\",0],[1.0,\"1.1376373399946305,-0.6592513083769249\",0],[1.0,\"1.1376373399946305,-0.6180285954709746\",0],[1.0,\"1.1376373399946305,-0.5768058825650242\",0],[1.0,\"1.1376373399946305,-0.5355831696590738\",0],[1.0,\"1.1376373399946305,-0.4943604567531234\",0],[1.0,\"1.1614372843876075,-0.8653648729066767\",0],[1.0,\"1.1614372843876075,-0.8241421600007264\",0],[2.0,\"1.1614372843876075,-0.782919447094776\",0],[2.0,\"1.1614372843876075,-0.7416967341888256\",0],[2.0,\"1.1614372843876075,-0.7004740212828753\",0],[2.0,\"1.1614372843876075,-0.6592513083769249\",0],[2.0,\"1.1614372843876075,-0.6180285954709746\",0],[2.0,\"1.1614372843876075,-0.5768058825650242\",0],[2.0,\"1.1614372843876075,-0.5355831696590738\",0],[2.0,\"1.1614372843876075,-0.4943604567531234\",0],[1.0,\"1.1852372287805846,-0.8653648729066767\",0],[1.0,\"1.1852372287805846,-0.8241421600007264\",0],[1.0,\"1.1852372287805846,-0.782919447094776\",0],[1.0,\"1.1852372287805846,-0.7416967341888256\",0],[1.0,\"1.1852372287805846,-0.6592513083769249\",0],[1.0,\"1.1852372287805846,-0.6180285954709746\",0],[1.0,\"1.1852372287805846,-0.5768058825650242\",0],[1.0,\"1.1852372287805846,-0.5355831696590738\",0],[1.0,\"1.2090371731735619,-0.8653648729066767\",0],[1.0,\"1.2090371731735619,-0.8241421600007264\",0],[1.0,\"1.2090371731735619,-0.782919447094776\",0],[1.0,\"1.2090371731735619,-0.7416967341888256\",0],[1.0,\"1.2090371731735619,-0.6180285954709746\",0],[1.0,\"1.2090371731735619,-0.5768058825650242\",0],[1.0,\"1.2090371731735619,-0.5355831696590738\",0],[2.0,\"1.232837117566539,-0.782919447094776\",0],[2.0,\"1.232837117566539,-0.7416967341888256\",0],[1.0,\"1.256637061959516,-0.782919447094776\",0],[1.0,\"0.7449382575105081,-0.8859762293596519\",0],[2.0,\"0.7449382575105081,-0.26763553577039634\",0],[1.0,\"0.7687382019034853,-0.8859762293596519\",0],[1.0,\"0.7687382019034853,-0.6798626648299001\",0],[1.0,\"0.7687382019034853,-0.35008096158229707\",0],[2.0,\"0.7687382019034853,-0.3088582486763467\",0],[1.0,\"0.7687382019034853,-0.26763553577039634\",0],[1.0,\"0.7925381462964624,-0.8035308035477512\",0],[2.0,\"0.7925381462964624,-0.6798626648299001\",0],[2.0,\"0.7925381462964624,-0.3088582486763467\",0],[1.0,\"0.7925381462964624,-0.26763553577039634\",0],[1.0,\"0.8163380906894395,-0.8859762293596519\",0],[1.0,\"0.8163380906894395,-0.8035308035477512\",0],[1.0,\"0.8163380906894395,-0.7210853777358505\",0],[1.0,\"0.8163380906894395,-0.6798626648299001\",0],[1.0,\"0.8401380350824166,-0.8859762293596519\",0],[2.0,\"0.8401380350824166,-0.8447535164537016\",0],[1.0,\"0.8401380350824166,-0.8035308035477512\",0],[1.0,\"0.8401380350824166,-0.7210853777358505\",0],[1.0,\"0.8401380350824166,-0.6798626648299001\",0],[1.0,\"0.8401380350824166,-0.6386399519239496\",0],[1.0,\"0.8401380350824166,-0.5561945261120489\",0],[1.0,\"0.8401380350824166,-0.22641282286444597\",0],[2.0,\"0.8401380350824166,-0.1851901099584956\",0],[1.0,\"0.8401380350824166,-0.14396739705254524\",0],[2.0,\"0.8639379794753936,-0.8035308035477512\",0],[2.0,\"0.8639379794753936,-0.7623080906418008\",0],[1.0,\"0.8639379794753936,-0.7210853777358505\",0],[2.0,\"0.8639379794753936,-0.6798626648299001\",0],[2.0,\"0.8639379794753936,-0.6386399519239496\",0],[2.0,\"0.8639379794753936,-0.5974172390179993\",0],[2.0,\"0.8639379794753936,-0.5561945261120489\",0],[2.0,\"0.8639379794753936,-0.5149718132060985\",0],[2.0,\"0.8639379794753936,-0.43252638739419785\",0],[2.0,\"0.8639379794753936,-0.39130367448824743\",0],[1.0,\"0.8639379794753936,-0.35008096158229707\",0],[2.0,\"0.8639379794753936,-0.22641282286444597\",0],[2.0,\"0.8639379794753936,-0.1851901099584956\",0],[2.0,\"0.8639379794753936,-0.14396739705254524\",0],[2.0,\"0.8639379794753936,-0.10274468414659488\",0],[2.0,\"0.8639379794753936,-0.06152197124064451\",0],[2.0,\"0.8877379238683708,-0.8447535164537016\",0],[1.0,\"0.8877379238683708,-0.8035308035477512\",0],[1.0,\"0.8877379238683708,-0.7623080906418008\",0],[1.0,\"0.8877379238683708,-0.7210853777358505\",0],[1.0,\"0.8877379238683708,-0.6798626648299001\",0],[1.0,\"0.8877379238683708,-0.6386399519239496\",0],[1.0,\"0.8877379238683708,-0.5974172390179993\",0],[1.0,\"0.8877379238683708,-0.5561945261120489\",0],[1.0,\"0.8877379238683708,-0.5149718132060985\",0],[1.0,\"0.8877379238683708,-0.4737491003001482\",0],[1.0,\"0.8877379238683708,-0.43252638739419785\",0],[1.0,\"0.8877379238683708,-0.39130367448824743\",0],[2.0,\"0.8877379238683708,-0.35008096158229707\",0],[1.0,\"0.8877379238683708,-0.22641282286444597\",0],[2.0,\"0.8877379238683708,-0.1851901099584956\",0],[1.0,\"0.8877379238683708,-0.14396739705254524\",0],[1.0,\"0.8877379238683708,-0.10274468414659488\",0],[2.0,\"0.8877379238683708,-0.06152197124064451\",0],[1.0,\"0.911537868261348,-0.8035308035477512\",0],[1.0,\"0.911537868261348,-0.7623080906418008\",0],[1.0,\"0.911537868261348,-0.7210853777358505\",0],[1.0,\"0.911537868261348,-0.6798626648299001\",0],[1.0,\"0.911537868261348,-0.6386399519239496\",0],[1.0,\"0.911537868261348,-0.5974172390179993\",0],[1.0,\"0.911537868261348,-0.5561945261120489\",0],[1.0,\"0.911537868261348,-0.5149718132060985\",0],[1.0,\"0.911537868261348,-0.4737491003001482\",0],[1.0,\"0.911537868261348,-0.43252638739419785\",0],[1.0,\"0.911537868261348,-0.39130367448824743\",0],[1.0,\"0.911537868261348,-0.35008096158229707\",0],[1.0,\"0.911537868261348,-0.3088582486763467\",0],[1.0,\"0.911537868261348,-0.26763553577039634\",0],[1.0,\"0.911537868261348,-0.22641282286444597\",0],[2.0,\"0.911537868261348,-0.1851901099584956\",0],[1.0,\"0.911537868261348,-0.10274468414659488\",0],[2.0,\"0.911537868261348,-0.06152197124064451\",0],[2.0,\"0.935337812654325,-0.8859762293596519\",0],[2.0,\"0.935337812654325,-0.8035308035477512\",0],[2.0,\"0.935337812654325,-0.7623080906418008\",0],[2.0,\"0.935337812654325,-0.7210853777358505\",0],[2.0,\"0.935337812654325,-0.6798626648299001\",0],[2.0,\"0.935337812654325,-0.6386399519239496\",0],[2.0,\"0.935337812654325,-0.5974172390179993\",0],[2.0,\"0.935337812654325,-0.5561945261120489\",0],[2.0,\"0.935337812654325,-0.5149718132060985\",0],[2.0,\"0.935337812654325,-0.4737491003001482\",0],[2.0,\"0.935337812654325,-0.43252638739419785\",0],[2.0,\"0.935337812654325,-0.39130367448824743\",0],[2.0,\"0.935337812654325,-0.35008096158229707\",0],[1.0,\"0.935337812654325,-0.3088582486763467\",0],[2.0,\"0.935337812654325,-0.26763553577039634\",0],[2.0,\"0.935337812654325,-0.22641282286444597\",0],[1.0,\"0.9591377570473021,-0.8447535164537016\",0],[1.0,\"0.9591377570473021,-0.8035308035477512\",0],[1.0,\"0.9591377570473021,-0.7623080906418008\",0],[1.0,\"0.9591377570473021,-0.7210853777358505\",0],[1.0,\"0.9591377570473021,-0.6798626648299001\",0],[1.0,\"0.9591377570473021,-0.6386399519239496\",0],[1.0,\"0.9591377570473021,-0.5974172390179993\",0],[1.0,\"0.9591377570473021,-0.5561945261120489\",0],[1.0,\"0.9591377570473021,-0.5149718132060985\",0],[1.0,\"0.9591377570473021,-0.4737491003001482\",0],[1.0,\"0.9591377570473021,-0.43252638739419785\",0],[1.0,\"0.9591377570473021,-0.39130367448824743\",0],[2.0,\"0.9591377570473021,-0.35008096158229707\",0],[2.0,\"0.9591377570473021,-0.3088582486763467\",0],[1.0,\"0.9591377570473021,-0.26763553577039634\",0],[1.0,\"0.9591377570473021,-0.22641282286444597\",0],[1.0,\"0.9829377014402793,-0.8035308035477512\",0],[1.0,\"0.9829377014402793,-0.7623080906418008\",0],[1.0,\"0.9829377014402793,-0.7210853777358505\",0],[1.0,\"0.9829377014402793,-0.6798626648299001\",0],[1.0,\"0.9829377014402793,-0.6386399519239496\",0],[1.0,\"0.9829377014402793,-0.5974172390179993\",0],[1.0,\"0.9829377014402793,-0.5561945261120489\",0],[1.0,\"0.9829377014402793,-0.5149718132060985\",0],[1.0,\"0.9829377014402793,-0.4737491003001482\",0],[1.0,\"0.9829377014402793,-0.43252638739419785\",0],[1.0,\"0.9829377014402793,-0.39130367448824743\",0],[1.0,\"0.9829377014402793,-0.35008096158229707\",0],[1.0,\"0.9829377014402793,-0.3088582486763467\",0],[1.0,\"0.9829377014402793,-0.26763553577039634\",0],[1.0,\"0.9829377014402793,-0.22641282286444597\",0],[2.0,\"1.0067376458332564,-0.8035308035477512\",0],[2.0,\"1.0067376458332564,-0.7623080906418008\",0],[2.0,\"1.0067376458332564,-0.7210853777358505\",0],[2.0,\"1.0067376458332564,-0.6798626648299001\",0],[1.0,\"1.0067376458332564,-0.6386399519239496\",0],[1.0,\"1.0067376458332564,-0.5974172390179993\",0],[1.0,\"1.0067376458332564,-0.5561945261120489\",0],[2.0,\"1.0067376458332564,-0.5149718132060985\",0],[2.0,\"1.0067376458332564,-0.4737491003001482\",0],[2.0,\"1.0067376458332564,-0.43252638739419785\",0],[2.0,\"1.0067376458332564,-0.39130367448824743\",0],[2.0,\"1.0067376458332564,-0.35008096158229707\",0],[1.0,\"1.0067376458332564,-0.3088582486763467\",0],[2.0,\"1.0067376458332564,-0.26763553577039634\",0],[2.0,\"1.0305375902262335,-0.8447535164537016\",0],[1.0,\"1.0305375902262335,-0.8035308035477512\",0],[1.0,\"1.0305375902262335,-0.7623080906418008\",0],[1.0,\"1.0305375902262335,-0.7210853777358505\",0],[1.0,\"1.0305375902262335,-0.6798626648299001\",0],[1.0,\"1.0305375902262335,-0.6386399519239496\",0],[1.0,\"1.0305375902262335,-0.5974172390179993\",0],[1.0,\"1.0305375902262335,-0.5561945261120489\",0],[1.0,\"1.0305375902262335,-0.5149718132060985\",0],[1.0,\"1.0305375902262335,-0.4737491003001482\",0],[1.0,\"1.0305375902262335,-0.43252638739419785\",0],[1.0,\"1.0305375902262335,-0.39130367448824743\",0],[2.0,\"1.0305375902262335,-0.35008096158229707\",0],[2.0,\"1.0305375902262335,-0.3088582486763467\",0],[2.0,\"1.0543375346192105,-0.8035308035477512\",0],[2.0,\"1.0543375346192105,-0.7623080906418008\",0],[2.0,\"1.0543375346192105,-0.7210853777358505\",0],[2.0,\"1.0543375346192105,-0.6798626648299001\",0],[2.0,\"1.0543375346192105,-0.6386399519239496\",0],[2.0,\"1.0543375346192105,-0.5974172390179993\",0],[2.0,\"1.0543375346192105,-0.5561945261120489\",0],[2.0,\"1.0543375346192105,-0.5149718132060985\",0],[2.0,\"1.0543375346192105,-0.4737491003001482\",0],[2.0,\"1.0543375346192105,-0.43252638739419785\",0],[2.0,\"1.0543375346192105,-0.39130367448824743\",0],[2.0,\"1.0543375346192105,-0.35008096158229707\",0],[1.0,\"1.0781374790121876,-0.8035308035477512\",0],[1.0,\"1.0781374790121876,-0.7623080906418008\",0],[1.0,\"1.0781374790121876,-0.7210853777358505\",0],[1.0,\"1.0781374790121876,-0.6798626648299001\",0],[1.0,\"1.0781374790121876,-0.6386399519239496\",0],[1.0,\"1.0781374790121876,-0.5974172390179993\",0],[1.0,\"1.0781374790121876,-0.5561945261120489\",0],[1.0,\"1.0781374790121876,-0.5149718132060985\",0],[1.0,\"1.0781374790121876,-0.4737491003001482\",0],[1.0,\"1.0781374790121876,-0.43252638739419785\",0],[1.0,\"1.0781374790121876,-0.39130367448824743\",0],[1.0,\"1.0781374790121876,-0.35008096158229707\",0],[2.0,\"1.1019374234051649,-0.8447535164537016\",0],[1.0,\"1.1019374234051649,-0.8035308035477512\",0],[1.0,\"1.1019374234051649,-0.7623080906418008\",0],[1.0,\"1.1019374234051649,-0.7210853777358505\",0],[1.0,\"1.1019374234051649,-0.6798626648299001\",0],[1.0,\"1.1019374234051649,-0.6386399519239496\",0],[1.0,\"1.1019374234051649,-0.5974172390179993\",0],[1.0,\"1.1019374234051649,-0.5561945261120489\",0],[1.0,\"1.1019374234051649,-0.5149718132060985\",0],[1.0,\"1.1019374234051649,-0.4737491003001482\",0],[1.0,\"1.1019374234051649,-0.43252638739419785\",0],[1.0,\"1.1019374234051649,-0.39130367448824743\",0],[1.0,\"1.1019374234051649,-0.35008096158229707\",0],[2.0,\"1.125737367798142,-0.8035308035477512\",0],[2.0,\"1.125737367798142,-0.7623080906418008\",0],[2.0,\"1.125737367798142,-0.7210853777358505\",0],[2.0,\"1.125737367798142,-0.6798626648299001\",0],[2.0,\"1.125737367798142,-0.6386399519239496\",0],[2.0,\"1.125737367798142,-0.5974172390179993\",0],[2.0,\"1.125737367798142,-0.5561945261120489\",0],[2.0,\"1.125737367798142,-0.5149718132060985\",0],[1.0,\"1.125737367798142,-0.4737491003001482\",0],[1.0,\"1.125737367798142,-0.39130367448824743\",0],[2.0,\"1.149537312191119,-0.8447535164537016\",0],[1.0,\"1.149537312191119,-0.8035308035477512\",0],[1.0,\"1.149537312191119,-0.7623080906418008\",0],[1.0,\"1.149537312191119,-0.7210853777358505\",0],[1.0,\"1.149537312191119,-0.6798626648299001\",0],[1.0,\"1.149537312191119,-0.6386399519239496\",0],[1.0,\"1.149537312191119,-0.5974172390179993\",0],[1.0,\"1.149537312191119,-0.5561945261120489\",0],[1.0,\"1.149537312191119,-0.5149718132060985\",0],[1.0,\"1.173337256584096,-0.8859762293596519\",0],[1.0,\"1.173337256584096,-0.8035308035477512\",0],[1.0,\"1.173337256584096,-0.7623080906418008\",0],[1.0,\"1.173337256584096,-0.7210853777358505\",0],[1.0,\"1.173337256584096,-0.6798626648299001\",0],[1.0,\"1.173337256584096,-0.6386399519239496\",0],[1.0,\"1.173337256584096,-0.5974172390179993\",0],[1.0,\"1.173337256584096,-0.5561945261120489\",0],[1.0,\"1.173337256584096,-0.5149718132060985\",0],[2.0,\"1.1971372009770733,-0.8859762293596519\",0],[2.0,\"1.1971372009770733,-0.8035308035477512\",0],[2.0,\"1.1971372009770733,-0.7623080906418008\",0],[1.0,\"1.1971372009770733,-0.7210853777358505\",0],[2.0,\"1.1971372009770733,-0.6798626648299001\",0],[2.0,\"1.1971372009770733,-0.6386399519239496\",0],[2.0,\"1.1971372009770733,-0.5974172390179993\",0],[2.0,\"1.1971372009770733,-0.5561945261120489\",0],[1.0,\"1.1971372009770733,-0.5149718132060985\",0],[2.0,\"1.2209371453700504,-0.8447535164537016\",0],[1.0,\"1.2209371453700504,-0.8035308035477512\",0],[1.0,\"1.2209371453700504,-0.7623080906418008\",0],[2.0,\"1.2447370897630274,-0.8035308035477512\",0],[2.0,\"1.2447370897630274,-0.7623080906418008\",0]],\"geojson\":{\"type\":\"FeatureCollection\",\"features\":[{\"type\":\"Feature\",\"id\":\"0.7330382853140196,-0.2882468922233715\",\"geometry\":{\"type\":\"Polygon\",\"coordinates\":[[[41.999999970000005,-17.04547756077712],[42.681818153181815,-16.668745140827017],[42.681818153181815,-15.91306579164077],[41.999999970000005,-15.534148917848238],[41.31818178681818,-15.91306579164077],[41.31818178681818,-16.668745140827017],[41.999999970000005,-17.04547756077712]]]}},{\"type\":\"Feature\",\"id\":\"0.7568382297069967,-0.9065875858126271\",\"geometry\":{\"type\":\"Polygon\",\"coordinates\":[[[43.36363633636363,-46.556497110779475],[44.04545451954545,-46.28513421530883],[44.04545451954545,-45.738355210739094],[43.36363633636363,-45.46293819064564],[42.681818153181815,-45.738355210739094],[42.681818153181815,-46.28513421530883],[43.36363633636363,-46.556497110779475]]]}},{\"type\":\"Feature\",\"id\":\"0.7568382297069967,-0.7004740212828753\",\"geometry\":{\"type\":\"Polygon\",\"coordinates\":[[[43.36363633636363,-37.82944920685779],[44.04545451954545,-37.517875934254796],[44.04545451954545,-36.89081409263251],[43.36363633636363,-36.57533347919717],[42.681818153181815,-36.89081409263251],[42.681818153181815,-37.517875934254796],[43.36363633636363,-37.82944920685779]]]}},{\"type\":\"Feature\",\"id\":\"0.7568382297069967,-0.3294696051293219\",\"geometry\":{\"type\":\"Polygon\",\"coordinates\":[[[43.36363633636363,-19.289448879034072],[44.04545451954545,-18.917480312700423],[44.04545451954545,-18.17106878828689],[43.36363633636363,-17.7966539345571],[42.681818153181815,-18.17106878828689],[42.681818153181815,-18.917480312700423],[43.36363633636363,-19.289448879034072]]]}},{\"type\":\"Feature\",\"id\":\"0.7568382297069967,-0.2882468922233715\",\"geometry\":{\"type\":\"Polygon\",\"coordinates\":[[[43.36363633636363,-17.04547756077712],[44.04545451954545,-16.668745140827017],[44.04545451954545,-15.91306579164077],[43.36363633636363,-15.534148917848238],[42.681818153181815,-15.91306579164077],[42.681818153181815,-16.668745140827017],[43.36363633636363,-17.04547756077712]]]}},{\"type\":\"Feature\",\"id\":\"0.7806381740999738,-0.8653648729066767\",\"geometry\":{\"type\":\"Polygon\",\"coordinates\":[[[44.72727270272727,-44.90804775470793],[45.40909088590909,-44.62857416958301],[45.40909088590909,-44.06557080109546],[44.72727270272727,-43.782041623674104],[44.04545451954546,-44.06557080109546],[44.04545451954546,-44.62857416958301],[44.72727270272727,-44.90804775470793]]]}},{\"type\":\"Feature\",\"id\":\"0.7806381740999738,-0.8241421600007264\",\"geometry\":{\"type\":\"Polygon\",\"coordinates\":[[[44.72727270272727,-43.21093079831662],[45.40909088590909,-42.92335056484793],[45.40909088590909,-42.344145034800086],[44.72727270272727,-42.0525219941646],[44.04545451954546,-42.344145034800086],[44.04545451954546,-42.92335056484793],[44.72727270272727,-43.21093079831662]]]}},{\"type\":\"Feature\",\"id\":\"0.7806381740999738,-0.7004740212828753\",\"geometry\":{\"type\":\"Polygon\",\"coordinates\":[[[44.72727270272727,-37.82944920685779],[45.40909088590909,-37.517875934254796],[45.40909088590909,-36.89081409263251],[44.72727270272727,-36.57533347919717],[44.04545451954546,-36.89081409263251],[44.04545451954546,-37.517875934254796],[44.72727270272727,-37.82944920685779]]]}},{\"type\":\"Feature\",\"id\":\"0.7806381740999738,-0.3294696051293219\",\"geometry\":{\"type\":\"Polygon\",\"coordinates\":[[[44.72727270272727,-19.289448879034072],[45.40909088590909,-18.917480312700423],[45.40909088590909,-18.17106878828689],[44.72727270272727,-17.7966539345571],[44.04545451954546,-18.17106878828689],[44.04545451954546,-18.917480312700423],[44.72727270272727,-19.289448879034072]]]}},{\"type\":\"Feature\",\"id\":\"0.7806381740999738,-0.2882468922233715\",\"geometry\":{\"type\":\"Polygon\",\"coordinates\":[[[44.72727270272727,-17.04547756077712],[45.40909088590909,-16.668745140827017],[45.40909088590909,-15.91306579164077],[44.72727270272727,-15.534148917848238],[44.04545451954546,-15.91306579164077],[44.04545451954546,-16.668745140827017],[44.72727270272727,-17.04547756077712]]]}},{\"type\":\"Feature\",\"id\":\"0.8044381184929509,-0.8653648729066767\",\"geometry\":{\"type\":\"Polygon\",\"coordinates\":[[[46.090909069090905,-44.90804775470793],[46.77272725227272,-44.62857416958301],[46.77272725227272,-44.06557080109546],[46.090909069090905,-43.782041623674104],[45.40909088590909,-44.06557080109546],[45.40909088590909,-44.62857416958301],[46.090909069090905,-44.90804775470793]]]}},{\"type\":\"Feature\",\"id\":\"0.8044381184929509,-0.8241421600007264\",\"geometry\":{\"type\":\"Polygon\",\"coordinates\":[[[46.090909069090905,-43.21093079831662],[46.77272725227272,-42.92335056484793],[46.77272725227272,-42.344145034800086],[46.090909069090905,-42.0525219941646],[45.40909088590909,-42.344145034800086],[45.40909088590909,-42.92335056484793],[46.090909069090905,-43.21093079831662]]]}},{\"type\":\"Feature\",\"id\":\"0.8044381184929509,-0.782919447094776\",\"geometry\":{\"type\":\"Polygon\",\"coordinates\":[[[46.090909069090905,-41.46524208454954],[46.77272725227272,-41.16958834542567],[46.77272725227272,-40.57426224611941],[46.090909069090905,-40.274593921456685],[45.40909088590909,-40.57426224611941],[45.40909088590909,-41.16958834542567],[46.090909069090905,-41.46524208454954]]]}},{\"type\":\"Feature\",\"id\":\"0.8044381184929509,-0.7004740212828753\",\"geometry\":{\"type\":\"Polygon\",\"coordinates\":[[[46.090909069090905,-37.82944920685779],[46.77272725227272,-37.517875934254796],[46.77272725227272,-36.89081409263251],[46.090909069090905,-36.57533347919717],[45.40909088590909,-36.89081409263251],[45.40909088590909,-37.517875934254796],[46.090909069090905,-37.82944920685779]]]}},{\"type\":\"Feature\",\"id\":\"0.8044381184929509,-0.5355831696590738\",\"geometry\":{\"type\":\"Polygon\",\"coordinates\":[[[46.090909069090905,-30.0008896569427],[46.77272725227272,-29.659399410144857],[46.77272725227272,-28.97293836557683],[46.090909069090905,-28.627984434159064],[45.40909088590909,-28.97293836557683],[45.40909088590909,-29.659399410144857],[46.090909069090905,-30.0008896569427]]]}},{\"type\":\"Feature\",\"id\":\"0.8044381184929509,-0.3294696051293219\",\"geometry\":{\"type\":\"Polygon\",\"coordinates\":[[[46.090909069090905,-19.289448879034072],[46.77272725227272,-18.917480312700423],[46.77272725227272,-18.17106878828689],[46.090909069090905,-17.7966539345571],[45.40909088590909,-18.17106878828689],[45.40909088590909,-18.917480312700423],[46.090909069090905,-19.289448879034072]]]}},{\"type\":\"Feature\",\"id\":\"0.8044381184929509,-0.2882468922233715\",\"geometry\":{\"type\":\"Polygon\",\"coordinates\":[[[46.090909069090905,-17.04547756077712],[46.77272725227272,-16.668745140827017],[46.77272725227272,-15.91306579164077],[46.090909069090905,-15.534148917848238],[45.40909088590909,-15.91306579164077],[45.40909088590909,-16.668745140827017],[46.090909069090905,-17.04547756077712]]]}},{\"type\":\"Feature\",\"id\":\"0.828238062885928,-0.8653648729066767\",\"geometry\":{\"type\":\"Polygon\",\"coordinates\":[[[47.45454543545454,-44.90804775470793],[48.136363618636366,-44.62857416958301],[48.136363618636366,-44.06557080109546],[47.45454543545454,-43.782041623674104],[46.77272725227273,-44.06557080109546],[46.77272725227273,-44.62857416958301],[47.45454543545454,-44.90804775470793]]]}},{\"type\":\"Feature\",\"id\":\"0.828238062885928,-0.8241421600007264\",\"geometry\":{\"type\":\"Polygon\",\"coordinates\":[[[47.45454543545454,-43.21093079831662],[48.136363618636366,-42.92335056484793],[48.136363618636366,-42.344145034800086],[47.45454543545454,-42.0525219941646],[46.77272725227273,-42.344145034800086],[46.77272725227273,-42.92335056484793],[47.45454543545454,-43.21093079831662]]]}},{\"type\":\"Feature\",\"id\":\"0.828238062885928,-0.782919447094776\",\"geometry\":{\"type\":\"Polygon\",\"coordinates\":[[[47.45454543545454,-41.46524208454954],[48.136363618636366,-41.16958834542567],[48.136363618636366,-40.57426224611941],[47.45454543545454,-40.274593921456685],[46.77272725227273,-40.57426224611941],[46.77272725227273,-41.16958834542567],[47.45454543545454,-41.46524208454954]]]}},{\"type\":\"Feature\",\"id\":\"0.828238062885928,-0.7004740212828753\",\"geometry\":{\"type\":\"Polygon\",\"coordinates\":[[[47.45454543545454,-37.82944920685779],[48.136363618636366,-37.517875934254796],[48.136363618636366,-36.89081409263251],[47.45454543545454,-36.57533347919717],[46.77272725227273,-36.89081409263251],[46.77272725227273,-37.517875934254796],[47.45454543545454,-37.82944920685779]]]}},{\"type\":\"Feature\",\"id\":\"0.828238062885928,-0.6592513083769249\",\"geometry\":{\"type\":\"Polygon\",\"coordinates\":[[[47.45454543545454,-35.940494058394584],[48.136363618636366,-35.62114425423612],[48.136363618636366,-34.97860829889037],[47.45454543545454,-34.65543222216165],[46.77272725227273,-34.97860829889037],[46.77272725227273,-35.62114425423612],[47.45454543545454,-35.940494058394584]]]}},{\"type\":\"Feature\",\"id\":\"0.828238062885928,-0.5768058825650242\",\"geometry\":{\"type\":\"Polygon\",\"coordinates\":[[[47.45454543545454,-32.024966476816466],[48.136363618636366,-31.690618236956208],[48.136363618636366,-31.01830216697947],[47.45454543545454,-30.680348887673055],[46.77272725227273,-31.01830216697947],[46.77272725227273,-31.690618236956208],[47.45454543545454,-32.024966476816466]]]}},{\"type\":\"Feature\",\"id\":\"0.828238062885928,-0.4943604567531234\",\"geometry\":{\"type\":\"Polygon\",\"coordinates\":[[[47.45454543545454,-27.934673375977997],[48.136363618636366,-27.586334281862243],[48.136363618636366,-26.8863355045969],[47.45454543545454,-26.534695021431894],[46.77272725227273,-26.8863355045969],[46.77272725227273,-27.586334281862243],[47.45454543545454,-27.934673375977997]]]}},{\"type\":\"Feature\",\"id\":\"0.828238062885928,-0.2058014664114708\",\"geometry\":{\"type\":\"Polygon\",\"coordinates\":[[[47.45454543545454,-12.479004370358245],[48.136363618636366,-12.094373739472207],[48.136363618636366,-11.323466890945843],[47.45454543545454,-10.937224063599297],[46.77272725227273,-11.323466890945843],[46.77272725227273,-12.094373739472207],[47.45454543545454,-12.479004370358245]]]}},{\"type\":\"Feature\",\"id\":\"0.828238062885928,-0.16457875350552043\",\"geometry\":{\"type\":\"Polygon\",\"coordinates\":[[[47.45454543545454,-10.163243962436015],[48.136363618636366,-9.775540771664078],[48.136363618636366,-8.9987941229748],[47.45454543545454,-8.609785377429594],[46.77272725227273,-8.9987941229748],[46.77272725227273,-9.775540771664078],[47.45454543545454,-10.163243962436015]]]}},{\"type\":\"Feature\",\"id\":\"0.828238062885928,-0.12335604059957006\",\"geometry\":{\"type\":\"Polygon\",\"coordinates\":[[[47.45454543545454,-7.830584548212443],[48.136363618636366,-7.440427739729316],[48.136363618636366,-6.659090160468774],[47.45454543545454,-6.267945158391975],[46.77272725227273,-6.659090160468774],[46.77272725227273,-7.440427739729316],[47.45454543545454,-7.830584548212443]]]}},{\"type\":\"Feature\",\"id\":\"0.828238062885928,-0.04091061478766933\",\"geometry\":{\"type\":\"Polygon\",\"coordinates\":[[[47.45454543545454,-3.1297437948759796],[48.136363618636366,-2.7366123793771684],[48.136363618636366,-1.949981104905858],[47.45454543545454,-1.5565182513443283],[46.77272725227273,-1.949981104905858],[46.77272725227273,-2.7366123793771684],[47.45454543545454,-3.1297437948759796]]]}},{\"type\":\"Feature\",\"id\":\"0.8520380072789051,-0.8241421600007264\",\"geometry\":{\"type\":\"Polygon\",\"coordinates\":[[[48.81818180181818,-43.21093079831662],[49.499999985,-42.92335056484793],[49.499999985,-42.344145034800086],[48.81818180181818,-42.0525219941646],[48.136363618636366,-42.344145034800086],[48.136363618636366,-42.92335056484793],[48.81818180181818,-43.21093079831662]]]}},{\"type\":\"Feature\",\"id\":\"0.8520380072789051,-0.782919447094776\",\"geometry\":{\"type\":\"Polygon\",\"coordinates\":[[[48.81818180181818,-41.46524208454954],[49.499999985,-41.16958834542567],[49.499999985,-40.57426224611941],[48.81818180181818,-40.274593921456685],[48.136363618636366,-40.57426224611941],[48.136363618636366,-41.16958834542567],[48.81818180181818,-41.46524208454954]]]}},{\"type\":\"Feature\",\"id\":\"0.8520380072789051,-0.7416967341888256\",\"geometry\":{\"type\":\"Polygon\",\"coordinates\":[[[48.81818180181818,-39.67125797273608],[49.499999985,-39.36759532075098],[49.499999985,-38.756294291171216],[48.81818180181818,-38.448661852041546],[48.136363618636366,-38.756294291171216],[48.136363618636366,-39.36759532075098],[48.81818180181818,-39.67125797273608]]]}},{\"type\":\"Feature\",\"id\":\"0.8520380072789051,-0.7004740212828753\",\"geometry\":{\"type\":\"Polygon\",\"coordinates\":[[[48.81818180181818,-37.82944920685779],[49.499999985,-37.517875934254796],[49.499999985,-36.89081409263251],[48.81818180181818,-36.57533347919717],[48.136363618636366,-36.89081409263251],[48.136363618636366,-37.517875934254796],[48.81818180181818,-37.82944920685779]]]}},{\"type\":\"Feature\",\"id\":\"0.8520380072789051,-0.6592513083769249\",\"geometry\":{\"type\":\"Polygon\",\"coordinates\":[[[48.81818180181818,-35.940494058394584],[49.499999985,-35.62114425423612],[49.499999985,-34.97860829889037],[48.81818180181818,-34.65543222216165],[48.136363618636366,-34.97860829889037],[48.136363618636366,-35.62114425423612],[48.81818180181818,-35.940494058394584]]]}},{\"type\":\"Feature\",\"id\":\"0.8520380072789051,-0.6180285954709746\",\"geometry\":{\"type\":\"Polygon\",\"coordinates\":[[[48.81818180181818,-34.00529041676964],[49.499999985,-33.678335855357275],[49.499999985,-33.02068871801436],[48.81818180181818,-32.69000842137051],[48.136363618636366,-33.02068871801436],[48.136363618636366,-33.678335855357275],[48.81818180181818,-34.00529041676964]]]}},{\"type\":\"Feature\",\"id\":\"0.8520380072789051,-0.5768058825650242\",\"geometry\":{\"type\":\"Polygon\",\"coordinates\":[[[48.81818180181818,-32.024966476816466],[49.499999985,-31.690618236956208],[49.499999985,-31.01830216697947],[48.81818180181818,-30.680348887673055],[48.136363618636366,-31.01830216697947],[48.136363618636366,-31.690618236956208],[48.81818180181818,-32.024966476816466]]]}},{\"type\":\"Feature\",\"id\":\"0.8520380072789051,-0.5355831696590738\",\"geometry\":{\"type\":\"Polygon\",\"coordinates\":[[[48.81818180181818,-30.0008896569427],[49.499999985,-29.659399410144857],[49.499999985,-28.97293836557683],[48.81818180181818,-28.627984434159064],[48.136363618636366,-28.97293836557683],[48.136363618636366,-29.659399410144857],[48.81818180181818,-30.0008896569427]]]}},{\"type\":\"Feature\",\"id\":\"0.8520380072789051,-0.4943604567531234\",\"geometry\":{\"type\":\"Polygon\",\"coordinates\":[[[48.81818180181818,-27.934673375977997],[49.499999985,-27.586334281862243],[49.499999985,-26.8863355045969],[48.81818180181818,-26.534695021431894],[48.136363618636366,-26.8863355045969],[48.136363618636366,-27.586334281862243],[48.81818180181818,-27.934673375977997]]]}},{\"type\":\"Feature\",\"id\":\"0.8520380072789051,-0.45313774384717304\",\"geometry\":{\"type\":\"Polygon\",\"coordinates\":[[[48.81818180181818,-25.828181323177716],[49.499999985,-25.473328472753064],[49.499999985,-24.760483131153798],[48.81818180181818,-24.40251216281074],[48.136363618636366,-24.760483131153798],[48.136363618636366,-25.473328472753064],[48.81818180181818,-25.828181323177716]]]}},{\"type\":\"Feature\",\"id\":\"0.8520380072789051,-0.4119150309412226\",\"geometry\":{\"type\":\"Polygon\",\"coordinates\":[[[48.81818180181818,-23.68352887634965],[49.499999985,-23.322539228722544],[49.499999985,-22.597622022074045],[48.81818180181818,-22.23371826658171],[48.136363618636366,-22.597622022074045],[48.136363618636366,-23.322539228722544],[48.81818180181818,-23.68352887634965]]]}},{\"type\":\"Feature\",\"id\":\"0.8520380072789051,-0.37069231803527225\",\"geometry\":{\"type\":\"Polygon\",\"coordinates\":[[[48.81818180181818,-21.503081358955768],[49.499999985,-21.13637312455803],[49.499999985,-20.400240760170597],[48.81818180181818,-20.030842639010405],[48.136363618636366,-20.400240760170597],[48.136363618636366,-21.13637312455803],[48.81818180181818,-21.503081358955768]]]}},{\"type\":\"Feature\",\"id\":\"0.8520380072789051,-0.2058014664114708\",\"geometry\":{\"type\":\"Polygon\",\"coordinates\":[[[48.81818180181818,-12.479004370358245],[49.499999985,-12.094373739472207],[49.499999985,-11.323466890945843],[48.81818180181818,-10.937224063599297],[48.136363618636366,-11.323466890945843],[48.136363618636366,-12.094373739472207],[48.81818180181818,-12.479004370358245]]]}},{\"type\":\"Feature\",\"id\":\"0.8520380072789051,-0.16457875350552043\",\"geometry\":{\"type\":\"Polygon\",\"coordinates\":[[[48.81818180181818,-10.163243962436015],[49.499999985,-9.775540771664078],[49.499999985,-8.9987941229748],[48.81818180181818,-8.609785377429594],[48.136363618636366,-8.9987941229748],[48.136363618636366,-9.775540771664078],[48.81818180181818,-10.163243962436015]]]}},{\"type\":\"Feature\",\"id\":\"0.8520380072789051,-0.12335604059957006\",\"geometry\":{\"type\":\"Polygon\",\"coordinates\":[[[48.81818180181818,-7.830584548212443],[49.499999985,-7.440427739729316],[49.499999985,-6.659090160468774],[48.81818180181818,-6.267945158391975],[48.136363618636366,-6.659090160468774],[48.136363618636366,-7.440427739729316],[48.81818180181818,-7.830584548212443]]]}},{\"type\":\"Feature\",\"id\":\"0.8520380072789051,-0.0821333276936197\",\"geometry\":{\"type\":\"Polygon\",\"coordinates\":[[[48.81818180181818,-5.484792699527005],[49.499999985,-5.092821433170325],[49.499999985,-4.308179759293602],[48.81818180181818,-3.9155458900200393],[48.136363618636366,-4.308179759293602],[48.136363618636366,-5.092821433170325],[48.81818180181818,-5.484792699527005]]]}},{\"type\":\"Feature\",\"id\":\"0.8520380072789051,-0.04091061478766933\",\"geometry\":{\"type\":\"Polygon\",\"coordinates\":[[[48.81818180181818,-3.1297437948759796],[49.499999985,-2.7366123793771684],[49.499999985,-1.949981104905858],[48.81818180181818,-1.5565182513443283],[48.136363618636366,-1.949981104905858],[48.136363618636366,-2.7366123793771684],[48.81818180181818,-3.1297437948759796]]]}},{\"type\":\"Feature\",\"id\":\"0.8758379516718823,-0.8653648729066767\",\"geometry\":{\"type\":\"Polygon\",\"coordinates\":[[[50.18181816818182,-44.90804775470793],[50.86363635136363,-44.62857416958301],[50.86363635136363,-44.06557080109546],[50.18181816818182,-43.782041623674104],[49.499999985,-44.06557080109546],[49.499999985,-44.62857416958301],[50.18181816818182,-44.90804775470793]]]}},{\"type\":\"Feature\",\"id\":\"0.8758379516718823,-0.8241421600007264\",\"geometry\":{\"type\":\"Polygon\",\"coordinates\":[[[50.18181816818182,-43.21093079831662],[50.86363635136363,-42.92335056484793],[50.86363635136363,-42.344145034800086],[50.18181816818182,-42.0525219941646],[49.499999985,-42.344145034800086],[49.499999985,-42.92335056484793],[50.18181816818182,-43.21093079831662]]]}},{\"type\":\"Feature\",\"id\":\"0.8758379516718823,-0.782919447094776\",\"geometry\":{\"type\":\"Polygon\",\"coordinates\":[[[50.18181816818182,-41.46524208454954],[50.86363635136363,-41.16958834542567],[50.86363635136363,-40.57426224611941],[50.18181816818182,-40.274593921456685],[49.499999985,-40.57426224611941],[49.499999985,-41.16958834542567],[50.18181816818182,-41.46524208454954]]]}},{\"type\":\"Feature\",\"id\":\"0.8758379516718823,-0.7416967341888256\",\"geometry\":{\"type\":\"Polygon\",\"coordinates\":[[[50.18181816818182,-39.67125797273608],[50.86363635136363,-39.36759532075098],[50.86363635136363,-38.756294291171216],[50.18181816818182,-38.448661852041546],[49.499999985,-38.756294291171216],[49.499999985,-39.36759532075098],[50.18181816818182,-39.67125797273608]]]}},{\"type\":\"Feature\",\"id\":\"0.8758379516718823,-0.7004740212828753\",\"geometry\":{\"type\":\"Polygon\",\"coordinates\":[[[50.18181816818182,-37.82944920685779],[50.86363635136363,-37.517875934254796],[50.86363635136363,-36.89081409263251],[50.18181816818182,-36.57533347919717],[49.499999985,-36.89081409263251],[49.499999985,-37.517875934254796],[50.18181816818182,-37.82944920685779]]]}},{\"type\":\"Feature\",\"id\":\"0.8758379516718823,-0.6592513083769249\",\"geometry\":{\"type\":\"Polygon\",\"coordinates\":[[[50.18181816818182,-35.940494058394584],[50.86363635136363,-35.62114425423612],[50.86363635136363,-34.97860829889037],[50.18181816818182,-34.65543222216165],[49.499999985,-34.97860829889037],[49.499999985,-35.62114425423612],[50.18181816818182,-35.940494058394584]]]}},{\"type\":\"Feature\",\"id\":\"0.8758379516718823,-0.6180285954709746\",\"geometry\":{\"type\":\"Polygon\",\"coordinates\":[[[50.18181816818182,-34.00529041676964],[50.86363635136363,-33.678335855357275],[50.86363635136363,-33.02068871801436],[50.18181816818182,-32.69000842137051],[49.499999985,-33.02068871801436],[49.499999985,-33.678335855357275],[50.18181816818182,-34.00529041676964]]]}},{\"type\":\"Feature\",\"id\":\"0.8758379516718823,-0.5768058825650242\",\"geometry\":{\"type\":\"Polygon\",\"coordinates\":[[[50.18181816818182,-32.024966476816466],[50.86363635136363,-31.690618236956208],[50.86363635136363,-31.01830216697947],[50.18181816818182,-30.680348887673055],[49.499999985,-31.01830216697947],[49.499999985,-31.690618236956208],[50.18181816818182,-32.024966476816466]]]}},{\"type\":\"Feature\",\"id\":\"0.8758379516718823,-0.5355831696590738\",\"geometry\":{\"type\":\"Polygon\",\"coordinates\":[[[50.18181816818182,-30.0008896569427],[50.86363635136363,-29.659399410144857],[50.86363635136363,-28.97293836557683],[50.18181816818182,-28.627984434159064],[49.499999985,-28.97293836557683],[49.499999985,-29.659399410144857],[50.18181816818182,-30.0008896569427]]]}},{\"type\":\"Feature\",\"id\":\"0.8758379516718823,-0.4943604567531234\",\"geometry\":{\"type\":\"Polygon\",\"coordinates\":[[[50.18181816818182,-27.934673375977997],[50.86363635136363,-27.586334281862243],[50.86363635136363,-26.8863355045969],[50.18181816818182,-26.534695021431894],[49.499999985,-26.8863355045969],[49.499999985,-27.586334281862243],[50.18181816818182,-27.934673375977997]]]}},{\"type\":\"Feature\",\"id\":\"0.8758379516718823,-0.45313774384717304\",\"geometry\":{\"type\":\"Polygon\",\"coordinates\":[[[50.18181816818182,-25.828181323177716],[50.86363635136363,-25.473328472753064],[50.86363635136363,-24.760483131153798],[50.18181816818182,-24.40251216281074],[49.499999985,-24.760483131153798],[49.499999985,-25.473328472753064],[50.18181816818182,-25.828181323177716]]]}},{\"type\":\"Feature\",\"id\":\"0.8758379516718823,-0.4119150309412226\",\"geometry\":{\"type\":\"Polygon\",\"coordinates\":[[[50.18181816818182,-23.68352887634965],[50.86363635136363,-23.322539228722544],[50.86363635136363,-22.597622022074045],[50.18181816818182,-22.23371826658171],[49.499999985,-22.597622022074045],[49.499999985,-23.322539228722544],[50.18181816818182,-23.68352887634965]]]}},{\"type\":\"Feature\",\"id\":\"0.8758379516718823,-0.37069231803527225\",\"geometry\":{\"type\":\"Polygon\",\"coordinates\":[[[50.18181816818182,-21.503081358955768],[50.86363635136363,-21.13637312455803],[50.86363635136363,-20.400240760170597],[50.18181816818182,-20.030842639010405],[49.499999985,-20.400240760170597],[49.499999985,-21.13637312455803],[50.18181816818182,-21.503081358955768]]]}},{\"type\":\"Feature\",\"id\":\"0.8758379516718823,-0.3294696051293219\",\"geometry\":{\"type\":\"Polygon\",\"coordinates\":[[[50.18181816818182,-19.289448879034072],[50.86363635136363,-18.917480312700423],[50.86363635136363,-18.17106878828689],[50.18181816818182,-17.7966539345571],[49.499999985,-18.17106878828689],[49.499999985,-18.917480312700423],[50.18181816818182,-19.289448879034072]]]}},{\"type\":\"Feature\",\"id\":\"0.8758379516718823,-0.2058014664114708\",\"geometry\":{\"type\":\"Polygon\",\"coordinates\":[[[50.18181816818182,-12.479004370358245],[50.86363635136363,-12.094373739472207],[50.86363635136363,-11.323466890945843],[50.18181816818182,-10.937224063599297],[49.499999985,-11.323466890945843],[49.499999985,-12.094373739472207],[50.18181816818182,-12.479004370358245]]]}},{\"type\":\"Feature\",\"id\":\"0.8758379516718823,-0.16457875350552043\",\"geometry\":{\"type\":\"Polygon\",\"coordinates\":[[[50.18181816818182,-10.163243962436015],[50.86363635136363,-9.775540771664078],[50.86363635136363,-8.9987941229748],[50.18181816818182,-8.609785377429594],[49.499999985,-8.9987941229748],[49.499999985,-9.775540771664078],[50.18181816818182,-10.163243962436015]]]}},{\"type\":\"Feature\",\"id\":\"0.8758379516718823,-0.12335604059957006\",\"geometry\":{\"type\":\"Polygon\",\"coordinates\":[[[50.18181816818182,-7.830584548212443],[50.86363635136363,-7.440427739729316],[50.86363635136363,-6.659090160468774],[50.18181816818182,-6.267945158391975],[49.499999985,-6.659090160468774],[49.499999985,-7.440427739729316],[50.18181816818182,-7.830584548212443]]]}},{\"type\":\"Feature\",\"id\":\"0.8758379516718823,-0.0821333276936197\",\"geometry\":{\"type\":\"Polygon\",\"coordinates\":[[[50.18181816818182,-5.484792699527005],[50.86363635136363,-5.092821433170325],[50.86363635136363,-4.308179759293602],[50.18181816818182,-3.9155458900200393],[49.499999985,-4.308179759293602],[49.499999985,-5.092821433170325],[50.18181816818182,-5.484792699527005]]]}},{\"type\":\"Feature\",\"id\":\"0.8758379516718823,-0.04091061478766933\",\"geometry\":{\"type\":\"Polygon\",\"coordinates\":[[[50.18181816818182,-3.1297437948759796],[50.86363635136363,-2.7366123793771684],[50.86363635136363,-1.949981104905858],[50.18181816818182,-1.5565182513443283],[49.499999985,-1.949981104905858],[49.499999985,-2.7366123793771684],[50.18181816818182,-3.1297437948759796]]]}},{\"type\":\"Feature\",\"id\":\"0.8996378960648593,-0.8241421600007264\",\"geometry\":{\"type\":\"Polygon\",\"coordinates\":[[[51.54545453454545,-43.21093079831662],[52.22727271772727,-42.92335056484793],[52.22727271772727,-42.344145034800086],[51.54545453454545,-42.0525219941646],[50.86363635136363,-42.344145034800086],[50.86363635136363,-42.92335056484793],[51.54545453454545,-43.21093079831662]]]}},{\"type\":\"Feature\",\"id\":\"0.8996378960648593,-0.782919447094776\",\"geometry\":{\"type\":\"Polygon\",\"coordinates\":[[[51.54545453454545,-41.46524208454954],[52.22727271772727,-41.16958834542567],[52.22727271772727,-40.57426224611941],[51.54545453454545,-40.274593921456685],[50.86363635136363,-40.57426224611941],[50.86363635136363,-41.16958834542567],[51.54545453454545,-41.46524208454954]]]}},{\"type\":\"Feature\",\"id\":\"0.8996378960648593,-0.7416967341888256\",\"geometry\":{\"type\":\"Polygon\",\"coordinates\":[[[51.54545453454545,-39.67125797273608],[52.22727271772727,-39.36759532075098],[52.22727271772727,-38.756294291171216],[51.54545453454545,-38.448661852041546],[50.86363635136363,-38.756294291171216],[50.86363635136363,-39.36759532075098],[51.54545453454545,-39.67125797273608]]]}},{\"type\":\"Feature\",\"id\":\"0.8996378960648593,-0.7004740212828753\",\"geometry\":{\"type\":\"Polygon\",\"coordinates\":[[[51.54545453454545,-37.82944920685779],[52.22727271772727,-37.517875934254796],[52.22727271772727,-36.89081409263251],[51.54545453454545,-36.57533347919717],[50.86363635136363,-36.89081409263251],[50.86363635136363,-37.517875934254796],[51.54545453454545,-37.82944920685779]]]}},{\"type\":\"Feature\",\"id\":\"0.8996378960648593,-0.6592513083769249\",\"geometry\":{\"type\":\"Polygon\",\"coordinates\":[[[51.54545453454545,-35.940494058394584],[52.22727271772727,-35.62114425423612],[52.22727271772727,-34.97860829889037],[51.54545453454545,-34.65543222216165],[50.86363635136363,-34.97860829889037],[50.86363635136363,-35.62114425423612],[51.54545453454545,-35.940494058394584]]]}},{\"type\":\"Feature\",\"id\":\"0.8996378960648593,-0.6180285954709746\",\"geometry\":{\"type\":\"Polygon\",\"coordinates\":[[[51.54545453454545,-34.00529041676964],[52.22727271772727,-33.678335855357275],[52.22727271772727,-33.02068871801436],[51.54545453454545,-32.69000842137051],[50.86363635136363,-33.02068871801436],[50.86363635136363,-33.678335855357275],[51.54545453454545,-34.00529041676964]]]}},{\"type\":\"Feature\",\"id\":\"0.8996378960648593,-0.5768058825650242\",\"geometry\":{\"type\":\"Polygon\",\"coordinates\":[[[51.54545453454545,-32.024966476816466],[52.22727271772727,-31.690618236956208],[52.22727271772727,-31.01830216697947],[51.54545453454545,-30.680348887673055],[50.86363635136363,-31.01830216697947],[50.86363635136363,-31.690618236956208],[51.54545453454545,-32.024966476816466]]]}},{\"type\":\"Feature\",\"id\":\"0.8996378960648593,-0.5355831696590738\",\"geometry\":{\"type\":\"Polygon\",\"coordinates\":[[[51.54545453454545,-30.0008896569427],[52.22727271772727,-29.659399410144857],[52.22727271772727,-28.97293836557683],[51.54545453454545,-28.627984434159064],[50.86363635136363,-28.97293836557683],[50.86363635136363,-29.659399410144857],[51.54545453454545,-30.0008896569427]]]}},{\"type\":\"Feature\",\"id\":\"0.8996378960648593,-0.4943604567531234\",\"geometry\":{\"type\":\"Polygon\",\"coordinates\":[[[51.54545453454545,-27.934673375977997],[52.22727271772727,-27.586334281862243],[52.22727271772727,-26.8863355045969],[51.54545453454545,-26.534695021431894],[50.86363635136363,-26.8863355045969],[50.86363635136363,-27.586334281862243],[51.54545453454545,-27.934673375977997]]]}},{\"type\":\"Feature\",\"id\":\"0.8996378960648593,-0.45313774384717304\",\"geometry\":{\"type\":\"Polygon\",\"coordinates\":[[[51.54545453454545,-25.828181323177716],[52.22727271772727,-25.473328472753064],[52.22727271772727,-24.760483131153798],[51.54545453454545,-24.40251216281074],[50.86363635136363,-24.760483131153798],[50.86363635136363,-25.473328472753064],[51.54545453454545,-25.828181323177716]]]}},{\"type\":\"Feature\",\"id\":\"0.8996378960648593,-0.4119150309412226\",\"geometry\":{\"type\":\"Polygon\",\"coordinates\":[[[51.54545453454545,-23.68352887634965],[52.22727271772727,-23.322539228722544],[52.22727271772727,-22.597622022074045],[51.54545453454545,-22.23371826658171],[50.86363635136363,-22.597622022074045],[50.86363635136363,-23.322539228722544],[51.54545453454545,-23.68352887634965]]]}},{\"type\":\"Feature\",\"id\":\"0.8996378960648593,-0.37069231803527225\",\"geometry\":{\"type\":\"Polygon\",\"coordinates\":[[[51.54545453454545,-21.503081358955768],[52.22727271772727,-21.13637312455803],[52.22727271772727,-20.400240760170597],[51.54545453454545,-20.030842639010405],[50.86363635136363,-20.400240760170597],[50.86363635136363,-21.13637312455803],[51.54545453454545,-21.503081358955768]]]}},{\"type\":\"Feature\",\"id\":\"0.8996378960648593,-0.3294696051293219\",\"geometry\":{\"type\":\"Polygon\",\"coordinates\":[[[51.54545453454545,-19.289448879034072],[52.22727271772727,-18.917480312700423],[52.22727271772727,-18.17106878828689],[51.54545453454545,-17.7966539345571],[50.86363635136363,-18.17106878828689],[50.86363635136363,-18.917480312700423],[51.54545453454545,-19.289448879034072]]]}},{\"type\":\"Feature\",\"id\":\"0.8996378960648593,-0.2058014664114708\",\"geometry\":{\"type\":\"Polygon\",\"coordinates\":[[[51.54545453454545,-12.479004370358245],[52.22727271772727,-12.094373739472207],[52.22727271772727,-11.323466890945843],[51.54545453454545,-10.937224063599297],[50.86363635136363,-11.323466890945843],[50.86363635136363,-12.094373739472207],[51.54545453454545,-12.479004370358245]]]}},{\"type\":\"Feature\",\"id\":\"0.8996378960648593,-0.16457875350552043\",\"geometry\":{\"type\":\"Polygon\",\"coordinates\":[[[51.54545453454545,-10.163243962436015],[52.22727271772727,-9.775540771664078],[52.22727271772727,-8.9987941229748],[51.54545453454545,-8.609785377429594],[50.86363635136363,-8.9987941229748],[50.86363635136363,-9.775540771664078],[51.54545453454545,-10.163243962436015]]]}},{\"type\":\"Feature\",\"id\":\"0.8996378960648593,-0.12335604059957006\",\"geometry\":{\"type\":\"Polygon\",\"coordinates\":[[[51.54545453454545,-7.830584548212443],[52.22727271772727,-7.440427739729316],[52.22727271772727,-6.659090160468774],[51.54545453454545,-6.267945158391975],[50.86363635136363,-6.659090160468774],[50.86363635136363,-7.440427739729316],[51.54545453454545,-7.830584548212443]]]}},{\"type\":\"Feature\",\"id\":\"0.8996378960648593,-0.0821333276936197\",\"geometry\":{\"type\":\"Polygon\",\"coordinates\":[[[51.54545453454545,-5.484792699527005],[52.22727271772727,-5.092821433170325],[52.22727271772727,-4.308179759293602],[51.54545453454545,-3.9155458900200393],[50.86363635136363,-4.308179759293602],[50.86363635136363,-5.092821433170325],[51.54545453454545,-5.484792699527005]]]}},{\"type\":\"Feature\",\"id\":\"0.8996378960648593,0.0003120981182810345\",\"geometry\":{\"type\":\"Polygon\",\"coordinates\":[[[51.54545453454545,-0.7693907941689021],[52.22727271772727,-0.375763312914169],[52.22727271772727,0.41152627821163257],[51.54545453454545,0.8051512274708281],[50.86363635136363,0.41152627821163257],[50.86363635136363,-0.375763312914169],[51.54545453454545,-0.7693907941689021]]]}},{\"type\":\"Feature\",\"id\":\"0.9234378404578365,-0.8241421600007264\",\"geometry\":{\"type\":\"Polygon\",\"coordinates\":[[[52.90909090090909,-43.21093079831662],[53.5909090840909,-42.92335056484793],[53.5909090840909,-42.344145034800086],[52.90909090090909,-42.0525219941646],[52.22727271772728,-42.344145034800086],[52.22727271772728,-42.92335056484793],[52.90909090090909,-43.21093079831662]]]}},{\"type\":\"Feature\",\"id\":\"0.9234378404578365,-0.782919447094776\",\"geometry\":{\"type\":\"Polygon\",\"coordinates\":[[[52.90909090090909,-41.46524208454954],[53.5909090840909,-41.16958834542567],[53.5909090840909,-40.57426224611941],[52.90909090090909,-40.274593921456685],[52.22727271772728,-40.57426224611941],[52.22727271772728,-41.16958834542567],[52.90909090090909,-41.46524208454954]]]}},{\"type\":\"Feature\",\"id\":\"0.9234378404578365,-0.7416967341888256\",\"geometry\":{\"type\":\"Polygon\",\"coordinates\":[[[52.90909090090909,-39.67125797273608],[53.5909090840909,-39.36759532075098],[53.5909090840909,-38.756294291171216],[52.90909090090909,-38.448661852041546],[52.22727271772728,-38.756294291171216],[52.22727271772728,-39.36759532075098],[52.90909090090909,-39.67125797273608]]]}},{\"type\":\"Feature\",\"id\":\"0.9234378404578365,-0.7004740212828753\",\"geometry\":{\"type\":\"Polygon\",\"coordinates\":[[[52.90909090090909,-37.82944920685779],[53.5909090840909,-37.517875934254796],[53.5909090840909,-36.89081409263251],[52.90909090090909,-36.57533347919717],[52.22727271772728,-36.89081409263251],[52.22727271772728,-37.517875934254796],[52.90909090090909,-37.82944920685779]]]}},{\"type\":\"Feature\",\"id\":\"0.9234378404578365,-0.6592513083769249\",\"geometry\":{\"type\":\"Polygon\",\"coordinates\":[[[52.90909090090909,-35.940494058394584],[53.5909090840909,-35.62114425423612],[53.5909090840909,-34.97860829889037],[52.90909090090909,-34.65543222216165],[52.22727271772728,-34.97860829889037],[52.22727271772728,-35.62114425423612],[52.90909090090909,-35.940494058394584]]]}},{\"type\":\"Feature\",\"id\":\"0.9234378404578365,-0.6180285954709746\",\"geometry\":{\"type\":\"Polygon\",\"coordinates\":[[[52.90909090090909,-34.00529041676964],[53.5909090840909,-33.678335855357275],[53.5909090840909,-33.02068871801436],[52.90909090090909,-32.69000842137051],[52.22727271772728,-33.02068871801436],[52.22727271772728,-33.678335855357275],[52.90909090090909,-34.00529041676964]]]}},{\"type\":\"Feature\",\"id\":\"0.9234378404578365,-0.5768058825650242\",\"geometry\":{\"type\":\"Polygon\",\"coordinates\":[[[52.90909090090909,-32.024966476816466],[53.5909090840909,-31.690618236956208],[53.5909090840909,-31.01830216697947],[52.90909090090909,-30.680348887673055],[52.22727271772728,-31.01830216697947],[52.22727271772728,-31.690618236956208],[52.90909090090909,-32.024966476816466]]]}},{\"type\":\"Feature\",\"id\":\"0.9234378404578365,-0.5355831696590738\",\"geometry\":{\"type\":\"Polygon\",\"coordinates\":[[[52.90909090090909,-30.0008896569427],[53.5909090840909,-29.659399410144857],[53.5909090840909,-28.97293836557683],[52.90909090090909,-28.627984434159064],[52.22727271772728,-28.97293836557683],[52.22727271772728,-29.659399410144857],[52.90909090090909,-30.0008896569427]]]}},{\"type\":\"Feature\",\"id\":\"0.9234378404578365,-0.4943604567531234\",\"geometry\":{\"type\":\"Polygon\",\"coordinates\":[[[52.90909090090909,-27.934673375977997],[53.5909090840909,-27.586334281862243],[53.5909090840909,-26.8863355045969],[52.90909090090909,-26.534695021431894],[52.22727271772728,-26.8863355045969],[52.22727271772728,-27.586334281862243],[52.90909090090909,-27.934673375977997]]]}},{\"type\":\"Feature\",\"id\":\"0.9234378404578365,-0.45313774384717304\",\"geometry\":{\"type\":\"Polygon\",\"coordinates\":[[[52.90909090090909,-25.828181323177716],[53.5909090840909,-25.473328472753064],[53.5909090840909,-24.760483131153798],[52.90909090090909,-24.40251216281074],[52.22727271772728,-24.760483131153798],[52.22727271772728,-25.473328472753064],[52.90909090090909,-25.828181323177716]]]}},{\"type\":\"Feature\",\"id\":\"0.9234378404578365,-0.4119150309412226\",\"geometry\":{\"type\":\"Polygon\",\"coordinates\":[[[52.90909090090909,-23.68352887634965],[53.5909090840909,-23.322539228722544],[53.5909090840909,-22.597622022074045],[52.90909090090909,-22.23371826658171],[52.22727271772728,-22.597622022074045],[52.22727271772728,-23.322539228722544],[52.90909090090909,-23.68352887634965]]]}},{\"type\":\"Feature\",\"id\":\"0.9234378404578365,-0.37069231803527225\",\"geometry\":{\"type\":\"Polygon\",\"coordinates\":[[[52.90909090090909,-21.503081358955768],[53.5909090840909,-21.13637312455803],[53.5909090840909,-20.400240760170597],[52.90909090090909,-20.030842639010405],[52.22727271772728,-20.400240760170597],[52.22727271772728,-21.13637312455803],[52.90909090090909,-21.503081358955768]]]}},{\"type\":\"Feature\",\"id\":\"0.9234378404578365,-0.3294696051293219\",\"geometry\":{\"type\":\"Polygon\",\"coordinates\":[[[52.90909090090909,-19.289448879034072],[53.5909090840909,-18.917480312700423],[53.5909090840909,-18.17106878828689],[52.90909090090909,-17.7966539345571],[52.22727271772728,-18.17106878828689],[52.22727271772728,-18.917480312700423],[52.90909090090909,-19.289448879034072]]]}},{\"type\":\"Feature\",\"id\":\"0.9234378404578365,-0.2882468922233715\",\"geometry\":{\"type\":\"Polygon\",\"coordinates\":[[[52.90909090090909,-17.04547756077712],[53.5909090840909,-16.668745140827017],[53.5909090840909,-15.91306579164077],[52.90909090090909,-15.534148917848238],[52.22727271772728,-15.91306579164077],[52.22727271772728,-16.668745140827017],[52.90909090090909,-17.04547756077712]]]}},{\"type\":\"Feature\",\"id\":\"0.9234378404578365,-0.24702417931742116\",\"geometry\":{\"type\":\"Polygon\",\"coordinates\":[[[52.90909090090909,-14.774237062497322],[53.5909090840909,-14.393273047106062],[53.5909090840909,-13.629407348605179],[52.90909090090909,-13.246537493660302],[52.22727271772728,-13.629407348605179],[52.22727271772728,-14.393273047106062],[52.90909090090909,-14.774237062497322]]]}},{\"type\":\"Feature\",\"id\":\"0.9234378404578365,-0.2058014664114708\",\"geometry\":{\"type\":\"Polygon\",\"coordinates\":[[[52.90909090090909,-12.479004370358245],[53.5909090840909,-12.094373739472207],[53.5909090840909,-11.323466890945843],[52.90909090090909,-10.937224063599297],[52.22727271772728,-11.323466890945843],[52.22727271772728,-12.094373739472207],[52.90909090090909,-12.479004370358245]]]}},{\"type\":\"Feature\",\"id\":\"0.9234378404578365,-0.16457875350552043\",\"geometry\":{\"type\":\"Polygon\",\"coordinates\":[[[52.90909090090909,-10.163243962436015],[53.5909090840909,-9.775540771664078],[53.5909090840909,-8.9987941229748],[52.90909090090909,-8.609785377429594],[52.22727271772728,-8.9987941229748],[52.22727271772728,-9.775540771664078],[52.90909090090909,-10.163243962436015]]]}},{\"type\":\"Feature\",\"id\":\"0.9472377848508136,-0.8241421600007264\",\"geometry\":{\"type\":\"Polygon\",\"coordinates\":[[[54.27272726727273,-43.21093079831662],[54.95454545045454,-42.92335056484793],[54.95454545045454,-42.344145034800086],[54.27272726727273,-42.0525219941646],[53.5909090840909,-42.344145034800086],[53.5909090840909,-42.92335056484793],[54.27272726727273,-43.21093079831662]]]}},{\"type\":\"Feature\",\"id\":\"0.9472377848508136,-0.782919447094776\",\"geometry\":{\"type\":\"Polygon\",\"coordinates\":[[[54.27272726727273,-41.46524208454954],[54.95454545045454,-41.16958834542567],[54.95454545045454,-40.57426224611941],[54.27272726727273,-40.274593921456685],[53.5909090840909,-40.57426224611941],[53.5909090840909,-41.16958834542567],[54.27272726727273,-41.46524208454954]]]}},{\"type\":\"Feature\",\"id\":\"0.9472377848508136,-0.7416967341888256\",\"geometry\":{\"type\":\"Polygon\",\"coordinates\":[[[54.27272726727273,-39.67125797273608],[54.95454545045454,-39.36759532075098],[54.95454545045454,-38.756294291171216],[54.27272726727273,-38.448661852041546],[53.5909090840909,-38.756294291171216],[53.5909090840909,-39.36759532075098],[54.27272726727273,-39.67125797273608]]]}},{\"type\":\"Feature\",\"id\":\"0.9472377848508136,-0.7004740212828753\",\"geometry\":{\"type\":\"Polygon\",\"coordinates\":[[[54.27272726727273,-37.82944920685779],[54.95454545045454,-37.517875934254796],[54.95454545045454,-36.89081409263251],[54.27272726727273,-36.57533347919717],[53.5909090840909,-36.89081409263251],[53.5909090840909,-37.517875934254796],[54.27272726727273,-37.82944920685779]]]}},{\"type\":\"Feature\",\"id\":\"0.9472377848508136,-0.6592513083769249\",\"geometry\":{\"type\":\"Polygon\",\"coordinates\":[[[54.27272726727273,-35.940494058394584],[54.95454545045454,-35.62114425423612],[54.95454545045454,-34.97860829889037],[54.27272726727273,-34.65543222216165],[53.5909090840909,-34.97860829889037],[53.5909090840909,-35.62114425423612],[54.27272726727273,-35.940494058394584]]]}},{\"type\":\"Feature\",\"id\":\"0.9472377848508136,-0.6180285954709746\",\"geometry\":{\"type\":\"Polygon\",\"coordinates\":[[[54.27272726727273,-34.00529041676964],[54.95454545045454,-33.678335855357275],[54.95454545045454,-33.02068871801436],[54.27272726727273,-32.69000842137051],[53.5909090840909,-33.02068871801436],[53.5909090840909,-33.678335855357275],[54.27272726727273,-34.00529041676964]]]}},{\"type\":\"Feature\",\"id\":\"0.9472377848508136,-0.5768058825650242\",\"geometry\":{\"type\":\"Polygon\",\"coordinates\":[[[54.27272726727273,-32.024966476816466],[54.95454545045454,-31.690618236956208],[54.95454545045454,-31.01830216697947],[54.27272726727273,-30.680348887673055],[53.5909090840909,-31.01830216697947],[53.5909090840909,-31.690618236956208],[54.27272726727273,-32.024966476816466]]]}},{\"type\":\"Feature\",\"id\":\"0.9472377848508136,-0.5355831696590738\",\"geometry\":{\"type\":\"Polygon\",\"coordinates\":[[[54.27272726727273,-30.0008896569427],[54.95454545045454,-29.659399410144857],[54.95454545045454,-28.97293836557683],[54.27272726727273,-28.627984434159064],[53.5909090840909,-28.97293836557683],[53.5909090840909,-29.659399410144857],[54.27272726727273,-30.0008896569427]]]}},{\"type\":\"Feature\",\"id\":\"0.9472377848508136,-0.4943604567531234\",\"geometry\":{\"type\":\"Polygon\",\"coordinates\":[[[54.27272726727273,-27.934673375977997],[54.95454545045454,-27.586334281862243],[54.95454545045454,-26.8863355045969],[54.27272726727273,-26.534695021431894],[53.5909090840909,-26.8863355045969],[53.5909090840909,-27.586334281862243],[54.27272726727273,-27.934673375977997]]]}},{\"type\":\"Feature\",\"id\":\"0.9472377848508136,-0.45313774384717304\",\"geometry\":{\"type\":\"Polygon\",\"coordinates\":[[[54.27272726727273,-25.828181323177716],[54.95454545045454,-25.473328472753064],[54.95454545045454,-24.760483131153798],[54.27272726727273,-24.40251216281074],[53.5909090840909,-24.760483131153798],[53.5909090840909,-25.473328472753064],[54.27272726727273,-25.828181323177716]]]}},{\"type\":\"Feature\",\"id\":\"0.9472377848508136,-0.4119150309412226\",\"geometry\":{\"type\":\"Polygon\",\"coordinates\":[[[54.27272726727273,-23.68352887634965],[54.95454545045454,-23.322539228722544],[54.95454545045454,-22.597622022074045],[54.27272726727273,-22.23371826658171],[53.5909090840909,-22.597622022074045],[53.5909090840909,-23.322539228722544],[54.27272726727273,-23.68352887634965]]]}},{\"type\":\"Feature\",\"id\":\"0.9472377848508136,-0.37069231803527225\",\"geometry\":{\"type\":\"Polygon\",\"coordinates\":[[[54.27272726727273,-21.503081358955768],[54.95454545045454,-21.13637312455803],[54.95454545045454,-20.400240760170597],[54.27272726727273,-20.030842639010405],[53.5909090840909,-20.400240760170597],[53.5909090840909,-21.13637312455803],[54.27272726727273,-21.503081358955768]]]}},{\"type\":\"Feature\",\"id\":\"0.9472377848508136,-0.3294696051293219\",\"geometry\":{\"type\":\"Polygon\",\"coordinates\":[[[54.27272726727273,-19.289448879034072],[54.95454545045454,-18.917480312700423],[54.95454545045454,-18.17106878828689],[54.27272726727273,-17.7966539345571],[53.5909090840909,-18.17106878828689],[53.5909090840909,-18.917480312700423],[54.27272726727273,-19.289448879034072]]]}},{\"type\":\"Feature\",\"id\":\"0.9472377848508136,-0.2882468922233715\",\"geometry\":{\"type\":\"Polygon\",\"coordinates\":[[[54.27272726727273,-17.04547756077712],[54.95454545045454,-16.668745140827017],[54.95454545045454,-15.91306579164077],[54.27272726727273,-15.534148917848238],[53.5909090840909,-15.91306579164077],[53.5909090840909,-16.668745140827017],[54.27272726727273,-17.04547756077712]]]}},{\"type\":\"Feature\",\"id\":\"0.9472377848508136,-0.24702417931742116\",\"geometry\":{\"type\":\"Polygon\",\"coordinates\":[[[54.27272726727273,-14.774237062497322],[54.95454545045454,-14.393273047106062],[54.95454545045454,-13.629407348605179],[54.27272726727273,-13.246537493660302],[53.5909090840909,-13.629407348605179],[53.5909090840909,-14.393273047106062],[54.27272726727273,-14.774237062497322]]]}},{\"type\":\"Feature\",\"id\":\"0.9472377848508136,-0.2058014664114708\",\"geometry\":{\"type\":\"Polygon\",\"coordinates\":[[[54.27272726727273,-12.479004370358245],[54.95454545045454,-12.094373739472207],[54.95454545045454,-11.323466890945843],[54.27272726727273,-10.937224063599297],[53.5909090840909,-11.323466890945843],[53.5909090840909,-12.094373739472207],[54.27272726727273,-12.479004370358245]]]}},{\"type\":\"Feature\",\"id\":\"0.9472377848508136,-0.16457875350552043\",\"geometry\":{\"type\":\"Polygon\",\"coordinates\":[[[54.27272726727273,-10.163243962436015],[54.95454545045454,-9.775540771664078],[54.95454545045454,-8.9987941229748],[54.27272726727273,-8.609785377429594],[53.5909090840909,-8.9987941229748],[53.5909090840909,-9.775540771664078],[54.27272726727273,-10.163243962436015]]]}},{\"type\":\"Feature\",\"id\":\"0.9710377292437907,-0.8241421600007264\",\"geometry\":{\"type\":\"Polygon\",\"coordinates\":[[[55.636363633636364,-43.21093079831662],[56.31818181681818,-42.92335056484793],[56.31818181681818,-42.344145034800086],[55.636363633636364,-42.0525219941646],[54.954545450454546,-42.344145034800086],[54.954545450454546,-42.92335056484793],[55.636363633636364,-43.21093079831662]]]}},{\"type\":\"Feature\",\"id\":\"0.9710377292437907,-0.782919447094776\",\"geometry\":{\"type\":\"Polygon\",\"coordinates\":[[[55.636363633636364,-41.46524208454954],[56.31818181681818,-41.16958834542567],[56.31818181681818,-40.57426224611941],[55.636363633636364,-40.274593921456685],[54.954545450454546,-40.57426224611941],[54.954545450454546,-41.16958834542567],[55.636363633636364,-41.46524208454954]]]}},{\"type\":\"Feature\",\"id\":\"0.9710377292437907,-0.7416967341888256\",\"geometry\":{\"type\":\"Polygon\",\"coordinates\":[[[55.636363633636364,-39.67125797273608],[56.31818181681818,-39.36759532075098],[56.31818181681818,-38.756294291171216],[55.636363633636364,-38.448661852041546],[54.954545450454546,-38.756294291171216],[54.954545450454546,-39.36759532075098],[55.636363633636364,-39.67125797273608]]]}},{\"type\":\"Feature\",\"id\":\"0.9710377292437907,-0.7004740212828753\",\"geometry\":{\"type\":\"Polygon\",\"coordinates\":[[[55.636363633636364,-37.82944920685779],[56.31818181681818,-37.517875934254796],[56.31818181681818,-36.89081409263251],[55.636363633636364,-36.57533347919717],[54.954545450454546,-36.89081409263251],[54.954545450454546,-37.517875934254796],[55.636363633636364,-37.82944920685779]]]}},{\"type\":\"Feature\",\"id\":\"0.9710377292437907,-0.6592513083769249\",\"geometry\":{\"type\":\"Polygon\",\"coordinates\":[[[55.636363633636364,-35.940494058394584],[56.31818181681818,-35.62114425423612],[56.31818181681818,-34.97860829889037],[55.636363633636364,-34.65543222216165],[54.954545450454546,-34.97860829889037],[54.954545450454546,-35.62114425423612],[55.636363633636364,-35.940494058394584]]]}},{\"type\":\"Feature\",\"id\":\"0.9710377292437907,-0.6180285954709746\",\"geometry\":{\"type\":\"Polygon\",\"coordinates\":[[[55.636363633636364,-34.00529041676964],[56.31818181681818,-33.678335855357275],[56.31818181681818,-33.02068871801436],[55.636363633636364,-32.69000842137051],[54.954545450454546,-33.02068871801436],[54.954545450454546,-33.678335855357275],[55.636363633636364,-34.00529041676964]]]}},{\"type\":\"Feature\",\"id\":\"0.9710377292437907,-0.5768058825650242\",\"geometry\":{\"type\":\"Polygon\",\"coordinates\":[[[55.636363633636364,-32.024966476816466],[56.31818181681818,-31.690618236956208],[56.31818181681818,-31.01830216697947],[55.636363633636364,-30.680348887673055],[54.954545450454546,-31.01830216697947],[54.954545450454546,-31.690618236956208],[55.636363633636364,-32.024966476816466]]]}},{\"type\":\"Feature\",\"id\":\"0.9710377292437907,-0.5355831696590738\",\"geometry\":{\"type\":\"Polygon\",\"coordinates\":[[[55.636363633636364,-30.0008896569427],[56.31818181681818,-29.659399410144857],[56.31818181681818,-28.97293836557683],[55.636363633636364,-28.627984434159064],[54.954545450454546,-28.97293836557683],[54.954545450454546,-29.659399410144857],[55.636363633636364,-30.0008896569427]]]}},{\"type\":\"Feature\",\"id\":\"0.9710377292437907,-0.4943604567531234\",\"geometry\":{\"type\":\"Polygon\",\"coordinates\":[[[55.636363633636364,-27.934673375977997],[56.31818181681818,-27.586334281862243],[56.31818181681818,-26.8863355045969],[55.636363633636364,-26.534695021431894],[54.954545450454546,-26.8863355045969],[54.954545450454546,-27.586334281862243],[55.636363633636364,-27.934673375977997]]]}},{\"type\":\"Feature\",\"id\":\"0.9710377292437907,-0.45313774384717304\",\"geometry\":{\"type\":\"Polygon\",\"coordinates\":[[[55.636363633636364,-25.828181323177716],[56.31818181681818,-25.473328472753064],[56.31818181681818,-24.760483131153798],[55.636363633636364,-24.40251216281074],[54.954545450454546,-24.760483131153798],[54.954545450454546,-25.473328472753064],[55.636363633636364,-25.828181323177716]]]}},{\"type\":\"Feature\",\"id\":\"0.9710377292437907,-0.4119150309412226\",\"geometry\":{\"type\":\"Polygon\",\"coordinates\":[[[55.636363633636364,-23.68352887634965],[56.31818181681818,-23.322539228722544],[56.31818181681818,-22.597622022074045],[55.636363633636364,-22.23371826658171],[54.954545450454546,-22.597622022074045],[54.954545450454546,-23.322539228722544],[55.636363633636364,-23.68352887634965]]]}},{\"type\":\"Feature\",\"id\":\"0.9710377292437907,-0.37069231803527225\",\"geometry\":{\"type\":\"Polygon\",\"coordinates\":[[[55.636363633636364,-21.503081358955768],[56.31818181681818,-21.13637312455803],[56.31818181681818,-20.400240760170597],[55.636363633636364,-20.030842639010405],[54.954545450454546,-20.400240760170597],[54.954545450454546,-21.13637312455803],[55.636363633636364,-21.503081358955768]]]}},{\"type\":\"Feature\",\"id\":\"0.9710377292437907,-0.3294696051293219\",\"geometry\":{\"type\":\"Polygon\",\"coordinates\":[[[55.636363633636364,-19.289448879034072],[56.31818181681818,-18.917480312700423],[56.31818181681818,-18.17106878828689],[55.636363633636364,-17.7966539345571],[54.954545450454546,-18.17106878828689],[54.954545450454546,-18.917480312700423],[55.636363633636364,-19.289448879034072]]]}},{\"type\":\"Feature\",\"id\":\"0.9710377292437907,-0.2882468922233715\",\"geometry\":{\"type\":\"Polygon\",\"coordinates\":[[[55.636363633636364,-17.04547756077712],[56.31818181681818,-16.668745140827017],[56.31818181681818,-15.91306579164077],[55.636363633636364,-15.534148917848238],[54.954545450454546,-15.91306579164077],[54.954545450454546,-16.668745140827017],[55.636363633636364,-17.04547756077712]]]}},{\"type\":\"Feature\",\"id\":\"0.9710377292437907,-0.24702417931742116\",\"geometry\":{\"type\":\"Polygon\",\"coordinates\":[[[55.636363633636364,-14.774237062497322],[56.31818181681818,-14.393273047106062],[56.31818181681818,-13.629407348605179],[55.636363633636364,-13.246537493660302],[54.954545450454546,-13.629407348605179],[54.954545450454546,-14.393273047106062],[55.636363633636364,-14.774237062497322]]]}},{\"type\":\"Feature\",\"id\":\"0.9710377292437907,-0.2058014664114708\",\"geometry\":{\"type\":\"Polygon\",\"coordinates\":[[[55.636363633636364,-12.479004370358245],[56.31818181681818,-12.094373739472207],[56.31818181681818,-11.323466890945843],[55.636363633636364,-10.937224063599297],[54.954545450454546,-11.323466890945843],[54.954545450454546,-12.094373739472207],[55.636363633636364,-12.479004370358245]]]}},{\"type\":\"Feature\",\"id\":\"0.9948376736367678,-0.8241421600007264\",\"geometry\":{\"type\":\"Polygon\",\"coordinates\":[[[57.0,-43.21093079831662],[57.68181818318182,-42.92335056484793],[57.68181818318182,-42.344145034800086],[57.0,-42.0525219941646],[56.31818181681818,-42.344145034800086],[56.31818181681818,-42.92335056484793],[57.0,-43.21093079831662]]]}},{\"type\":\"Feature\",\"id\":\"0.9948376736367678,-0.782919447094776\",\"geometry\":{\"type\":\"Polygon\",\"coordinates\":[[[57.0,-41.46524208454954],[57.68181818318182,-41.16958834542567],[57.68181818318182,-40.57426224611941],[57.0,-40.274593921456685],[56.31818181681818,-40.57426224611941],[56.31818181681818,-41.16958834542567],[57.0,-41.46524208454954]]]}},{\"type\":\"Feature\",\"id\":\"0.9948376736367678,-0.7416967341888256\",\"geometry\":{\"type\":\"Polygon\",\"coordinates\":[[[57.0,-39.67125797273608],[57.68181818318182,-39.36759532075098],[57.68181818318182,-38.756294291171216],[57.0,-38.448661852041546],[56.31818181681818,-38.756294291171216],[56.31818181681818,-39.36759532075098],[57.0,-39.67125797273608]]]}},{\"type\":\"Feature\",\"id\":\"0.9948376736367678,-0.7004740212828753\",\"geometry\":{\"type\":\"Polygon\",\"coordinates\":[[[57.0,-37.82944920685779],[57.68181818318182,-37.517875934254796],[57.68181818318182,-36.89081409263251],[57.0,-36.57533347919717],[56.31818181681818,-36.89081409263251],[56.31818181681818,-37.517875934254796],[57.0,-37.82944920685779]]]}},{\"type\":\"Feature\",\"id\":\"0.9948376736367678,-0.6592513083769249\",\"geometry\":{\"type\":\"Polygon\",\"coordinates\":[[[57.0,-35.940494058394584],[57.68181818318182,-35.62114425423612],[57.68181818318182,-34.97860829889037],[57.0,-34.65543222216165],[56.31818181681818,-34.97860829889037],[56.31818181681818,-35.62114425423612],[57.0,-35.940494058394584]]]}},{\"type\":\"Feature\",\"id\":\"0.9948376736367678,-0.6180285954709746\",\"geometry\":{\"type\":\"Polygon\",\"coordinates\":[[[57.0,-34.00529041676964],[57.68181818318182,-33.678335855357275],[57.68181818318182,-33.02068871801436],[57.0,-32.69000842137051],[56.31818181681818,-33.02068871801436],[56.31818181681818,-33.678335855357275],[57.0,-34.00529041676964]]]}},{\"type\":\"Feature\",\"id\":\"0.9948376736367678,-0.5768058825650242\",\"geometry\":{\"type\":\"Polygon\",\"coordinates\":[[[57.0,-32.024966476816466],[57.68181818318182,-31.690618236956208],[57.68181818318182,-31.01830216697947],[57.0,-30.680348887673055],[56.31818181681818,-31.01830216697947],[56.31818181681818,-31.690618236956208],[57.0,-32.024966476816466]]]}},{\"type\":\"Feature\",\"id\":\"0.9948376736367678,-0.5355831696590738\",\"geometry\":{\"type\":\"Polygon\",\"coordinates\":[[[57.0,-30.0008896569427],[57.68181818318182,-29.659399410144857],[57.68181818318182,-28.97293836557683],[57.0,-28.627984434159064],[56.31818181681818,-28.97293836557683],[56.31818181681818,-29.659399410144857],[57.0,-30.0008896569427]]]}},{\"type\":\"Feature\",\"id\":\"0.9948376736367678,-0.4943604567531234\",\"geometry\":{\"type\":\"Polygon\",\"coordinates\":[[[57.0,-27.934673375977997],[57.68181818318182,-27.586334281862243],[57.68181818318182,-26.8863355045969],[57.0,-26.534695021431894],[56.31818181681818,-26.8863355045969],[56.31818181681818,-27.586334281862243],[57.0,-27.934673375977997]]]}},{\"type\":\"Feature\",\"id\":\"0.9948376736367678,-0.45313774384717304\",\"geometry\":{\"type\":\"Polygon\",\"coordinates\":[[[57.0,-25.828181323177716],[57.68181818318182,-25.473328472753064],[57.68181818318182,-24.760483131153798],[57.0,-24.40251216281074],[56.31818181681818,-24.760483131153798],[56.31818181681818,-25.473328472753064],[57.0,-25.828181323177716]]]}},{\"type\":\"Feature\",\"id\":\"0.9948376736367678,-0.4119150309412226\",\"geometry\":{\"type\":\"Polygon\",\"coordinates\":[[[57.0,-23.68352887634965],[57.68181818318182,-23.322539228722544],[57.68181818318182,-22.597622022074045],[57.0,-22.23371826658171],[56.31818181681818,-22.597622022074045],[56.31818181681818,-23.322539228722544],[57.0,-23.68352887634965]]]}},{\"type\":\"Feature\",\"id\":\"0.9948376736367678,-0.37069231803527225\",\"geometry\":{\"type\":\"Polygon\",\"coordinates\":[[[57.0,-21.503081358955768],[57.68181818318182,-21.13637312455803],[57.68181818318182,-20.400240760170597],[57.0,-20.030842639010405],[56.31818181681818,-20.400240760170597],[56.31818181681818,-21.13637312455803],[57.0,-21.503081358955768]]]}},{\"type\":\"Feature\",\"id\":\"0.9948376736367678,-0.3294696051293219\",\"geometry\":{\"type\":\"Polygon\",\"coordinates\":[[[57.0,-19.289448879034072],[57.68181818318182,-18.917480312700423],[57.68181818318182,-18.17106878828689],[57.0,-17.7966539345571],[56.31818181681818,-18.17106878828689],[56.31818181681818,-18.917480312700423],[57.0,-19.289448879034072]]]}},{\"type\":\"Feature\",\"id\":\"0.9948376736367678,-0.2882468922233715\",\"geometry\":{\"type\":\"Polygon\",\"coordinates\":[[[57.0,-17.04547756077712],[57.68181818318182,-16.668745140827017],[57.68181818318182,-15.91306579164077],[57.0,-15.534148917848238],[56.31818181681818,-15.91306579164077],[56.31818181681818,-16.668745140827017],[57.0,-17.04547756077712]]]}},{\"type\":\"Feature\",\"id\":\"0.9948376736367678,-0.24702417931742116\",\"geometry\":{\"type\":\"Polygon\",\"coordinates\":[[[57.0,-14.774237062497322],[57.68181818318182,-14.393273047106062],[57.68181818318182,-13.629407348605179],[57.0,-13.246537493660302],[56.31818181681818,-13.629407348605179],[56.31818181681818,-14.393273047106062],[57.0,-14.774237062497322]]]}},{\"type\":\"Feature\",\"id\":\"1.018637618029745,-0.8653648729066767\",\"geometry\":{\"type\":\"Polygon\",\"coordinates\":[[[58.36363636636364,-44.90804775470793],[59.045454549545454,-44.62857416958301],[59.045454549545454,-44.06557080109546],[58.36363636636364,-43.782041623674104],[57.68181818318182,-44.06557080109546],[57.68181818318182,-44.62857416958301],[58.36363636636364,-44.90804775470793]]]}},{\"type\":\"Feature\",\"id\":\"1.018637618029745,-0.8241421600007264\",\"geometry\":{\"type\":\"Polygon\",\"coordinates\":[[[58.36363636636364,-43.21093079831662],[59.045454549545454,-42.92335056484793],[59.045454549545454,-42.344145034800086],[58.36363636636364,-42.0525219941646],[57.68181818318182,-42.344145034800086],[57.68181818318182,-42.92335056484793],[58.36363636636364,-43.21093079831662]]]}},{\"type\":\"Feature\",\"id\":\"1.018637618029745,-0.782919447094776\",\"geometry\":{\"type\":\"Polygon\",\"coordinates\":[[[58.36363636636364,-41.46524208454954],[59.045454549545454,-41.16958834542567],[59.045454549545454,-40.57426224611941],[58.36363636636364,-40.274593921456685],[57.68181818318182,-40.57426224611941],[57.68181818318182,-41.16958834542567],[58.36363636636364,-41.46524208454954]]]}},{\"type\":\"Feature\",\"id\":\"1.018637618029745,-0.7416967341888256\",\"geometry\":{\"type\":\"Polygon\",\"coordinates\":[[[58.36363636636364,-39.67125797273608],[59.045454549545454,-39.36759532075098],[59.045454549545454,-38.756294291171216],[58.36363636636364,-38.448661852041546],[57.68181818318182,-38.756294291171216],[57.68181818318182,-39.36759532075098],[58.36363636636364,-39.67125797273608]]]}},{\"type\":\"Feature\",\"id\":\"1.018637618029745,-0.7004740212828753\",\"geometry\":{\"type\":\"Polygon\",\"coordinates\":[[[58.36363636636364,-37.82944920685779],[59.045454549545454,-37.517875934254796],[59.045454549545454,-36.89081409263251],[58.36363636636364,-36.57533347919717],[57.68181818318182,-36.89081409263251],[57.68181818318182,-37.517875934254796],[58.36363636636364,-37.82944920685779]]]}},{\"type\":\"Feature\",\"id\":\"1.018637618029745,-0.6592513083769249\",\"geometry\":{\"type\":\"Polygon\",\"coordinates\":[[[58.36363636636364,-35.940494058394584],[59.045454549545454,-35.62114425423612],[59.045454549545454,-34.97860829889037],[58.36363636636364,-34.65543222216165],[57.68181818318182,-34.97860829889037],[57.68181818318182,-35.62114425423612],[58.36363636636364,-35.940494058394584]]]}},{\"type\":\"Feature\",\"id\":\"1.018637618029745,-0.6180285954709746\",\"geometry\":{\"type\":\"Polygon\",\"coordinates\":[[[58.36363636636364,-34.00529041676964],[59.045454549545454,-33.678335855357275],[59.045454549545454,-33.02068871801436],[58.36363636636364,-32.69000842137051],[57.68181818318182,-33.02068871801436],[57.68181818318182,-33.678335855357275],[58.36363636636364,-34.00529041676964]]]}},{\"type\":\"Feature\",\"id\":\"1.018637618029745,-0.5768058825650242\",\"geometry\":{\"type\":\"Polygon\",\"coordinates\":[[[58.36363636636364,-32.024966476816466],[59.045454549545454,-31.690618236956208],[59.045454549545454,-31.01830216697947],[58.36363636636364,-30.680348887673055],[57.68181818318182,-31.01830216697947],[57.68181818318182,-31.690618236956208],[58.36363636636364,-32.024966476816466]]]}},{\"type\":\"Feature\",\"id\":\"1.018637618029745,-0.5355831696590738\",\"geometry\":{\"type\":\"Polygon\",\"coordinates\":[[[58.36363636636364,-30.0008896569427],[59.045454549545454,-29.659399410144857],[59.045454549545454,-28.97293836557683],[58.36363636636364,-28.627984434159064],[57.68181818318182,-28.97293836557683],[57.68181818318182,-29.659399410144857],[58.36363636636364,-30.0008896569427]]]}},{\"type\":\"Feature\",\"id\":\"1.018637618029745,-0.4943604567531234\",\"geometry\":{\"type\":\"Polygon\",\"coordinates\":[[[58.36363636636364,-27.934673375977997],[59.045454549545454,-27.586334281862243],[59.045454549545454,-26.8863355045969],[58.36363636636364,-26.534695021431894],[57.68181818318182,-26.8863355045969],[57.68181818318182,-27.586334281862243],[58.36363636636364,-27.934673375977997]]]}},{\"type\":\"Feature\",\"id\":\"1.018637618029745,-0.45313774384717304\",\"geometry\":{\"type\":\"Polygon\",\"coordinates\":[[[58.36363636636364,-25.828181323177716],[59.045454549545454,-25.473328472753064],[59.045454549545454,-24.760483131153798],[58.36363636636364,-24.40251216281074],[57.68181818318182,-24.760483131153798],[57.68181818318182,-25.473328472753064],[58.36363636636364,-25.828181323177716]]]}},{\"type\":\"Feature\",\"id\":\"1.018637618029745,-0.4119150309412226\",\"geometry\":{\"type\":\"Polygon\",\"coordinates\":[[[58.36363636636364,-23.68352887634965],[59.045454549545454,-23.322539228722544],[59.045454549545454,-22.597622022074045],[58.36363636636364,-22.23371826658171],[57.68181818318182,-22.597622022074045],[57.68181818318182,-23.322539228722544],[58.36363636636364,-23.68352887634965]]]}},{\"type\":\"Feature\",\"id\":\"1.018637618029745,-0.37069231803527225\",\"geometry\":{\"type\":\"Polygon\",\"coordinates\":[[[58.36363636636364,-21.503081358955768],[59.045454549545454,-21.13637312455803],[59.045454549545454,-20.400240760170597],[58.36363636636364,-20.030842639010405],[57.68181818318182,-20.400240760170597],[57.68181818318182,-21.13637312455803],[58.36363636636364,-21.503081358955768]]]}},{\"type\":\"Feature\",\"id\":\"1.018637618029745,-0.3294696051293219\",\"geometry\":{\"type\":\"Polygon\",\"coordinates\":[[[58.36363636636364,-19.289448879034072],[59.045454549545454,-18.917480312700423],[59.045454549545454,-18.17106878828689],[58.36363636636364,-17.7966539345571],[57.68181818318182,-18.17106878828689],[57.68181818318182,-18.917480312700423],[58.36363636636364,-19.289448879034072]]]}},{\"type\":\"Feature\",\"id\":\"1.018637618029745,-0.2882468922233715\",\"geometry\":{\"type\":\"Polygon\",\"coordinates\":[[[58.36363636636364,-17.04547756077712],[59.045454549545454,-16.668745140827017],[59.045454549545454,-15.91306579164077],[58.36363636636364,-15.534148917848238],[57.68181818318182,-15.91306579164077],[57.68181818318182,-16.668745140827017],[58.36363636636364,-17.04547756077712]]]}},{\"type\":\"Feature\",\"id\":\"1.018637618029745,-0.24702417931742116\",\"geometry\":{\"type\":\"Polygon\",\"coordinates\":[[[58.36363636636364,-14.774237062497322],[59.045454549545454,-14.393273047106062],[59.045454549545454,-13.629407348605179],[58.36363636636364,-13.246537493660302],[57.68181818318182,-13.629407348605179],[57.68181818318182,-14.393273047106062],[58.36363636636364,-14.774237062497322]]]}},{\"type\":\"Feature\",\"id\":\"1.042437562422722,-0.8653648729066767\",\"geometry\":{\"type\":\"Polygon\",\"coordinates\":[[[59.727272732727265,-44.90804775470793],[60.40909091590909,-44.62857416958301],[60.40909091590909,-44.06557080109546],[59.727272732727265,-43.782041623674104],[59.045454549545454,-44.06557080109546],[59.045454549545454,-44.62857416958301],[59.727272732727265,-44.90804775470793]]]}},{\"type\":\"Feature\",\"id\":\"1.042437562422722,-0.8241421600007264\",\"geometry\":{\"type\":\"Polygon\",\"coordinates\":[[[59.727272732727265,-43.21093079831662],[60.40909091590909,-42.92335056484793],[60.40909091590909,-42.344145034800086],[59.727272732727265,-42.0525219941646],[59.045454549545454,-42.344145034800086],[59.045454549545454,-42.92335056484793],[59.727272732727265,-43.21093079831662]]]}},{\"type\":\"Feature\",\"id\":\"1.042437562422722,-0.782919447094776\",\"geometry\":{\"type\":\"Polygon\",\"coordinates\":[[[59.727272732727265,-41.46524208454954],[60.40909091590909,-41.16958834542567],[60.40909091590909,-40.57426224611941],[59.727272732727265,-40.274593921456685],[59.045454549545454,-40.57426224611941],[59.045454549545454,-41.16958834542567],[59.727272732727265,-41.46524208454954]]]}},{\"type\":\"Feature\",\"id\":\"1.042437562422722,-0.7416967341888256\",\"geometry\":{\"type\":\"Polygon\",\"coordinates\":[[[59.727272732727265,-39.67125797273608],[60.40909091590909,-39.36759532075098],[60.40909091590909,-38.756294291171216],[59.727272732727265,-38.448661852041546],[59.045454549545454,-38.756294291171216],[59.045454549545454,-39.36759532075098],[59.727272732727265,-39.67125797273608]]]}},{\"type\":\"Feature\",\"id\":\"1.042437562422722,-0.7004740212828753\",\"geometry\":{\"type\":\"Polygon\",\"coordinates\":[[[59.727272732727265,-37.82944920685779],[60.40909091590909,-37.517875934254796],[60.40909091590909,-36.89081409263251],[59.727272732727265,-36.57533347919717],[59.045454549545454,-36.89081409263251],[59.045454549545454,-37.517875934254796],[59.727272732727265,-37.82944920685779]]]}},{\"type\":\"Feature\",\"id\":\"1.042437562422722,-0.6592513083769249\",\"geometry\":{\"type\":\"Polygon\",\"coordinates\":[[[59.727272732727265,-35.940494058394584],[60.40909091590909,-35.62114425423612],[60.40909091590909,-34.97860829889037],[59.727272732727265,-34.65543222216165],[59.045454549545454,-34.97860829889037],[59.045454549545454,-35.62114425423612],[59.727272732727265,-35.940494058394584]]]}},{\"type\":\"Feature\",\"id\":\"1.042437562422722,-0.6180285954709746\",\"geometry\":{\"type\":\"Polygon\",\"coordinates\":[[[59.727272732727265,-34.00529041676964],[60.40909091590909,-33.678335855357275],[60.40909091590909,-33.02068871801436],[59.727272732727265,-32.69000842137051],[59.045454549545454,-33.02068871801436],[59.045454549545454,-33.678335855357275],[59.727272732727265,-34.00529041676964]]]}},{\"type\":\"Feature\",\"id\":\"1.042437562422722,-0.5768058825650242\",\"geometry\":{\"type\":\"Polygon\",\"coordinates\":[[[59.727272732727265,-32.024966476816466],[60.40909091590909,-31.690618236956208],[60.40909091590909,-31.01830216697947],[59.727272732727265,-30.680348887673055],[59.045454549545454,-31.01830216697947],[59.045454549545454,-31.690618236956208],[59.727272732727265,-32.024966476816466]]]}},{\"type\":\"Feature\",\"id\":\"1.042437562422722,-0.5355831696590738\",\"geometry\":{\"type\":\"Polygon\",\"coordinates\":[[[59.727272732727265,-30.0008896569427],[60.40909091590909,-29.659399410144857],[60.40909091590909,-28.97293836557683],[59.727272732727265,-28.627984434159064],[59.045454549545454,-28.97293836557683],[59.045454549545454,-29.659399410144857],[59.727272732727265,-30.0008896569427]]]}},{\"type\":\"Feature\",\"id\":\"1.042437562422722,-0.4943604567531234\",\"geometry\":{\"type\":\"Polygon\",\"coordinates\":[[[59.727272732727265,-27.934673375977997],[60.40909091590909,-27.586334281862243],[60.40909091590909,-26.8863355045969],[59.727272732727265,-26.534695021431894],[59.045454549545454,-26.8863355045969],[59.045454549545454,-27.586334281862243],[59.727272732727265,-27.934673375977997]]]}},{\"type\":\"Feature\",\"id\":\"1.042437562422722,-0.45313774384717304\",\"geometry\":{\"type\":\"Polygon\",\"coordinates\":[[[59.727272732727265,-25.828181323177716],[60.40909091590909,-25.473328472753064],[60.40909091590909,-24.760483131153798],[59.727272732727265,-24.40251216281074],[59.045454549545454,-24.760483131153798],[59.045454549545454,-25.473328472753064],[59.727272732727265,-25.828181323177716]]]}},{\"type\":\"Feature\",\"id\":\"1.042437562422722,-0.4119150309412226\",\"geometry\":{\"type\":\"Polygon\",\"coordinates\":[[[59.727272732727265,-23.68352887634965],[60.40909091590909,-23.322539228722544],[60.40909091590909,-22.597622022074045],[59.727272732727265,-22.23371826658171],[59.045454549545454,-22.597622022074045],[59.045454549545454,-23.322539228722544],[59.727272732727265,-23.68352887634965]]]}},{\"type\":\"Feature\",\"id\":\"1.042437562422722,-0.37069231803527225\",\"geometry\":{\"type\":\"Polygon\",\"coordinates\":[[[59.727272732727265,-21.503081358955768],[60.40909091590909,-21.13637312455803],[60.40909091590909,-20.400240760170597],[59.727272732727265,-20.030842639010405],[59.045454549545454,-20.400240760170597],[59.045454549545454,-21.13637312455803],[59.727272732727265,-21.503081358955768]]]}},{\"type\":\"Feature\",\"id\":\"1.042437562422722,-0.3294696051293219\",\"geometry\":{\"type\":\"Polygon\",\"coordinates\":[[[59.727272732727265,-19.289448879034072],[60.40909091590909,-18.917480312700423],[60.40909091590909,-18.17106878828689],[59.727272732727265,-17.7966539345571],[59.045454549545454,-18.17106878828689],[59.045454549545454,-18.917480312700423],[59.727272732727265,-19.289448879034072]]]}},{\"type\":\"Feature\",\"id\":\"1.066237506815699,-0.8653648729066767\",\"geometry\":{\"type\":\"Polygon\",\"coordinates\":[[[61.0909090990909,-44.90804775470793],[61.772727282272726,-44.62857416958301],[61.772727282272726,-44.06557080109546],[61.0909090990909,-43.782041623674104],[60.40909091590909,-44.06557080109546],[60.40909091590909,-44.62857416958301],[61.0909090990909,-44.90804775470793]]]}},{\"type\":\"Feature\",\"id\":\"1.066237506815699,-0.8241421600007264\",\"geometry\":{\"type\":\"Polygon\",\"coordinates\":[[[61.0909090990909,-43.21093079831662],[61.772727282272726,-42.92335056484793],[61.772727282272726,-42.344145034800086],[61.0909090990909,-42.0525219941646],[60.40909091590909,-42.344145034800086],[60.40909091590909,-42.92335056484793],[61.0909090990909,-43.21093079831662]]]}},{\"type\":\"Feature\",\"id\":\"1.066237506815699,-0.782919447094776\",\"geometry\":{\"type\":\"Polygon\",\"coordinates\":[[[61.0909090990909,-41.46524208454954],[61.772727282272726,-41.16958834542567],[61.772727282272726,-40.57426224611941],[61.0909090990909,-40.274593921456685],[60.40909091590909,-40.57426224611941],[60.40909091590909,-41.16958834542567],[61.0909090990909,-41.46524208454954]]]}},{\"type\":\"Feature\",\"id\":\"1.066237506815699,-0.7416967341888256\",\"geometry\":{\"type\":\"Polygon\",\"coordinates\":[[[61.0909090990909,-39.67125797273608],[61.772727282272726,-39.36759532075098],[61.772727282272726,-38.756294291171216],[61.0909090990909,-38.448661852041546],[60.40909091590909,-38.756294291171216],[60.40909091590909,-39.36759532075098],[61.0909090990909,-39.67125797273608]]]}},{\"type\":\"Feature\",\"id\":\"1.066237506815699,-0.7004740212828753\",\"geometry\":{\"type\":\"Polygon\",\"coordinates\":[[[61.0909090990909,-37.82944920685779],[61.772727282272726,-37.517875934254796],[61.772727282272726,-36.89081409263251],[61.0909090990909,-36.57533347919717],[60.40909091590909,-36.89081409263251],[60.40909091590909,-37.517875934254796],[61.0909090990909,-37.82944920685779]]]}},{\"type\":\"Feature\",\"id\":\"1.066237506815699,-0.6592513083769249\",\"geometry\":{\"type\":\"Polygon\",\"coordinates\":[[[61.0909090990909,-35.940494058394584],[61.772727282272726,-35.62114425423612],[61.772727282272726,-34.97860829889037],[61.0909090990909,-34.65543222216165],[60.40909091590909,-34.97860829889037],[60.40909091590909,-35.62114425423612],[61.0909090990909,-35.940494058394584]]]}},{\"type\":\"Feature\",\"id\":\"1.066237506815699,-0.6180285954709746\",\"geometry\":{\"type\":\"Polygon\",\"coordinates\":[[[61.0909090990909,-34.00529041676964],[61.772727282272726,-33.678335855357275],[61.772727282272726,-33.02068871801436],[61.0909090990909,-32.69000842137051],[60.40909091590909,-33.02068871801436],[60.40909091590909,-33.678335855357275],[61.0909090990909,-34.00529041676964]]]}},{\"type\":\"Feature\",\"id\":\"1.066237506815699,-0.5768058825650242\",\"geometry\":{\"type\":\"Polygon\",\"coordinates\":[[[61.0909090990909,-32.024966476816466],[61.772727282272726,-31.690618236956208],[61.772727282272726,-31.01830216697947],[61.0909090990909,-30.680348887673055],[60.40909091590909,-31.01830216697947],[60.40909091590909,-31.690618236956208],[61.0909090990909,-32.024966476816466]]]}},{\"type\":\"Feature\",\"id\":\"1.066237506815699,-0.5355831696590738\",\"geometry\":{\"type\":\"Polygon\",\"coordinates\":[[[61.0909090990909,-30.0008896569427],[61.772727282272726,-29.659399410144857],[61.772727282272726,-28.97293836557683],[61.0909090990909,-28.627984434159064],[60.40909091590909,-28.97293836557683],[60.40909091590909,-29.659399410144857],[61.0909090990909,-30.0008896569427]]]}},{\"type\":\"Feature\",\"id\":\"1.066237506815699,-0.4943604567531234\",\"geometry\":{\"type\":\"Polygon\",\"coordinates\":[[[61.0909090990909,-27.934673375977997],[61.772727282272726,-27.586334281862243],[61.772727282272726,-26.8863355045969],[61.0909090990909,-26.534695021431894],[60.40909091590909,-26.8863355045969],[60.40909091590909,-27.586334281862243],[61.0909090990909,-27.934673375977997]]]}},{\"type\":\"Feature\",\"id\":\"1.066237506815699,-0.45313774384717304\",\"geometry\":{\"type\":\"Polygon\",\"coordinates\":[[[61.0909090990909,-25.828181323177716],[61.772727282272726,-25.473328472753064],[61.772727282272726,-24.760483131153798],[61.0909090990909,-24.40251216281074],[60.40909091590909,-24.760483131153798],[60.40909091590909,-25.473328472753064],[61.0909090990909,-25.828181323177716]]]}},{\"type\":\"Feature\",\"id\":\"1.066237506815699,-0.4119150309412226\",\"geometry\":{\"type\":\"Polygon\",\"coordinates\":[[[61.0909090990909,-23.68352887634965],[61.772727282272726,-23.322539228722544],[61.772727282272726,-22.597622022074045],[61.0909090990909,-22.23371826658171],[60.40909091590909,-22.597622022074045],[60.40909091590909,-23.322539228722544],[61.0909090990909,-23.68352887634965]]]}},{\"type\":\"Feature\",\"id\":\"1.066237506815699,-0.37069231803527225\",\"geometry\":{\"type\":\"Polygon\",\"coordinates\":[[[61.0909090990909,-21.503081358955768],[61.772727282272726,-21.13637312455803],[61.772727282272726,-20.400240760170597],[61.0909090990909,-20.030842639010405],[60.40909091590909,-20.400240760170597],[60.40909091590909,-21.13637312455803],[61.0909090990909,-21.503081358955768]]]}},{\"type\":\"Feature\",\"id\":\"1.066237506815699,-0.3294696051293219\",\"geometry\":{\"type\":\"Polygon\",\"coordinates\":[[[61.0909090990909,-19.289448879034072],[61.772727282272726,-18.917480312700423],[61.772727282272726,-18.17106878828689],[61.0909090990909,-17.7966539345571],[60.40909091590909,-18.17106878828689],[60.40909091590909,-18.917480312700423],[61.0909090990909,-19.289448879034072]]]}},{\"type\":\"Feature\",\"id\":\"1.0900374512086763,-0.8653648729066767\",\"geometry\":{\"type\":\"Polygon\",\"coordinates\":[[[62.454545465454544,-44.90804775470793],[63.13636364863637,-44.62857416958301],[63.13636364863637,-44.06557080109546],[62.454545465454544,-43.782041623674104],[61.77272728227273,-44.06557080109546],[61.77272728227273,-44.62857416958301],[62.454545465454544,-44.90804775470793]]]}},{\"type\":\"Feature\",\"id\":\"1.0900374512086763,-0.8241421600007264\",\"geometry\":{\"type\":\"Polygon\",\"coordinates\":[[[62.454545465454544,-43.21093079831662],[63.13636364863637,-42.92335056484793],[63.13636364863637,-42.344145034800086],[62.454545465454544,-42.0525219941646],[61.77272728227273,-42.344145034800086],[61.77272728227273,-42.92335056484793],[62.454545465454544,-43.21093079831662]]]}},{\"type\":\"Feature\",\"id\":\"1.0900374512086763,-0.782919447094776\",\"geometry\":{\"type\":\"Polygon\",\"coordinates\":[[[62.454545465454544,-41.46524208454954],[63.13636364863637,-41.16958834542567],[63.13636364863637,-40.57426224611941],[62.454545465454544,-40.274593921456685],[61.77272728227273,-40.57426224611941],[61.77272728227273,-41.16958834542567],[62.454545465454544,-41.46524208454954]]]}},{\"type\":\"Feature\",\"id\":\"1.0900374512086763,-0.7416967341888256\",\"geometry\":{\"type\":\"Polygon\",\"coordinates\":[[[62.454545465454544,-39.67125797273608],[63.13636364863637,-39.36759532075098],[63.13636364863637,-38.756294291171216],[62.454545465454544,-38.448661852041546],[61.77272728227273,-38.756294291171216],[61.77272728227273,-39.36759532075098],[62.454545465454544,-39.67125797273608]]]}},{\"type\":\"Feature\",\"id\":\"1.0900374512086763,-0.7004740212828753\",\"geometry\":{\"type\":\"Polygon\",\"coordinates\":[[[62.454545465454544,-37.82944920685779],[63.13636364863637,-37.517875934254796],[63.13636364863637,-36.89081409263251],[62.454545465454544,-36.57533347919717],[61.77272728227273,-36.89081409263251],[61.77272728227273,-37.517875934254796],[62.454545465454544,-37.82944920685779]]]}},{\"type\":\"Feature\",\"id\":\"1.0900374512086763,-0.6592513083769249\",\"geometry\":{\"type\":\"Polygon\",\"coordinates\":[[[62.454545465454544,-35.940494058394584],[63.13636364863637,-35.62114425423612],[63.13636364863637,-34.97860829889037],[62.454545465454544,-34.65543222216165],[61.77272728227273,-34.97860829889037],[61.77272728227273,-35.62114425423612],[62.454545465454544,-35.940494058394584]]]}},{\"type\":\"Feature\",\"id\":\"1.0900374512086763,-0.6180285954709746\",\"geometry\":{\"type\":\"Polygon\",\"coordinates\":[[[62.454545465454544,-34.00529041676964],[63.13636364863637,-33.678335855357275],[63.13636364863637,-33.02068871801436],[62.454545465454544,-32.69000842137051],[61.77272728227273,-33.02068871801436],[61.77272728227273,-33.678335855357275],[62.454545465454544,-34.00529041676964]]]}},{\"type\":\"Feature\",\"id\":\"1.0900374512086763,-0.5768058825650242\",\"geometry\":{\"type\":\"Polygon\",\"coordinates\":[[[62.454545465454544,-32.024966476816466],[63.13636364863637,-31.690618236956208],[63.13636364863637,-31.01830216697947],[62.454545465454544,-30.680348887673055],[61.77272728227273,-31.01830216697947],[61.77272728227273,-31.690618236956208],[62.454545465454544,-32.024966476816466]]]}},{\"type\":\"Feature\",\"id\":\"1.0900374512086763,-0.5355831696590738\",\"geometry\":{\"type\":\"Polygon\",\"coordinates\":[[[62.454545465454544,-30.0008896569427],[63.13636364863637,-29.659399410144857],[63.13636364863637,-28.97293836557683],[62.454545465454544,-28.627984434159064],[61.77272728227273,-28.97293836557683],[61.77272728227273,-29.659399410144857],[62.454545465454544,-30.0008896569427]]]}},{\"type\":\"Feature\",\"id\":\"1.0900374512086763,-0.4943604567531234\",\"geometry\":{\"type\":\"Polygon\",\"coordinates\":[[[62.454545465454544,-27.934673375977997],[63.13636364863637,-27.586334281862243],[63.13636364863637,-26.8863355045969],[62.454545465454544,-26.534695021431894],[61.77272728227273,-26.8863355045969],[61.77272728227273,-27.586334281862243],[62.454545465454544,-27.934673375977997]]]}},{\"type\":\"Feature\",\"id\":\"1.0900374512086763,-0.45313774384717304\",\"geometry\":{\"type\":\"Polygon\",\"coordinates\":[[[62.454545465454544,-25.828181323177716],[63.13636364863637,-25.473328472753064],[63.13636364863637,-24.760483131153798],[62.454545465454544,-24.40251216281074],[61.77272728227273,-24.760483131153798],[61.77272728227273,-25.473328472753064],[62.454545465454544,-25.828181323177716]]]}},{\"type\":\"Feature\",\"id\":\"1.0900374512086763,-0.37069231803527225\",\"geometry\":{\"type\":\"Polygon\",\"coordinates\":[[[62.454545465454544,-21.503081358955768],[63.13636364863637,-21.13637312455803],[63.13636364863637,-20.400240760170597],[62.454545465454544,-20.030842639010405],[61.77272728227273,-20.400240760170597],[61.77272728227273,-21.13637312455803],[62.454545465454544,-21.503081358955768]]]}},{\"type\":\"Feature\",\"id\":\"1.1138373956016534,-0.8653648729066767\",\"geometry\":{\"type\":\"Polygon\",\"coordinates\":[[[63.81818183181818,-44.90804775470793],[64.500000015,-44.62857416958301],[64.500000015,-44.06557080109546],[63.81818183181818,-43.782041623674104],[63.13636364863637,-44.06557080109546],[63.13636364863637,-44.62857416958301],[63.81818183181818,-44.90804775470793]]]}},{\"type\":\"Feature\",\"id\":\"1.1138373956016534,-0.8241421600007264\",\"geometry\":{\"type\":\"Polygon\",\"coordinates\":[[[63.81818183181818,-43.21093079831662],[64.500000015,-42.92335056484793],[64.500000015,-42.344145034800086],[63.81818183181818,-42.0525219941646],[63.13636364863637,-42.344145034800086],[63.13636364863637,-42.92335056484793],[63.81818183181818,-43.21093079831662]]]}},{\"type\":\"Feature\",\"id\":\"1.1138373956016534,-0.782919447094776\",\"geometry\":{\"type\":\"Polygon\",\"coordinates\":[[[63.81818183181818,-41.46524208454954],[64.500000015,-41.16958834542567],[64.500000015,-40.57426224611941],[63.81818183181818,-40.274593921456685],[63.13636364863637,-40.57426224611941],[63.13636364863637,-41.16958834542567],[63.81818183181818,-41.46524208454954]]]}},{\"type\":\"Feature\",\"id\":\"1.1138373956016534,-0.7416967341888256\",\"geometry\":{\"type\":\"Polygon\",\"coordinates\":[[[63.81818183181818,-39.67125797273608],[64.500000015,-39.36759532075098],[64.500000015,-38.756294291171216],[63.81818183181818,-38.448661852041546],[63.13636364863637,-38.756294291171216],[63.13636364863637,-39.36759532075098],[63.81818183181818,-39.67125797273608]]]}},{\"type\":\"Feature\",\"id\":\"1.1138373956016534,-0.7004740212828753\",\"geometry\":{\"type\":\"Polygon\",\"coordinates\":[[[63.81818183181818,-37.82944920685779],[64.500000015,-37.517875934254796],[64.500000015,-36.89081409263251],[63.81818183181818,-36.57533347919717],[63.13636364863637,-36.89081409263251],[63.13636364863637,-37.517875934254796],[63.81818183181818,-37.82944920685779]]]}},{\"type\":\"Feature\",\"id\":\"1.1138373956016534,-0.6592513083769249\",\"geometry\":{\"type\":\"Polygon\",\"coordinates\":[[[63.81818183181818,-35.940494058394584],[64.500000015,-35.62114425423612],[64.500000015,-34.97860829889037],[63.81818183181818,-34.65543222216165],[63.13636364863637,-34.97860829889037],[63.13636364863637,-35.62114425423612],[63.81818183181818,-35.940494058394584]]]}},{\"type\":\"Feature\",\"id\":\"1.1138373956016534,-0.6180285954709746\",\"geometry\":{\"type\":\"Polygon\",\"coordinates\":[[[63.81818183181818,-34.00529041676964],[64.500000015,-33.678335855357275],[64.500000015,-33.02068871801436],[63.81818183181818,-32.69000842137051],[63.13636364863637,-33.02068871801436],[63.13636364863637,-33.678335855357275],[63.81818183181818,-34.00529041676964]]]}},{\"type\":\"Feature\",\"id\":\"1.1138373956016534,-0.5768058825650242\",\"geometry\":{\"type\":\"Polygon\",\"coordinates\":[[[63.81818183181818,-32.024966476816466],[64.500000015,-31.690618236956208],[64.500000015,-31.01830216697947],[63.81818183181818,-30.680348887673055],[63.13636364863637,-31.01830216697947],[63.13636364863637,-31.690618236956208],[63.81818183181818,-32.024966476816466]]]}},{\"type\":\"Feature\",\"id\":\"1.1138373956016534,-0.5355831696590738\",\"geometry\":{\"type\":\"Polygon\",\"coordinates\":[[[63.81818183181818,-30.0008896569427],[64.500000015,-29.659399410144857],[64.500000015,-28.97293836557683],[63.81818183181818,-28.627984434159064],[63.13636364863637,-28.97293836557683],[63.13636364863637,-29.659399410144857],[63.81818183181818,-30.0008896569427]]]}},{\"type\":\"Feature\",\"id\":\"1.1376373399946305,-0.8653648729066767\",\"geometry\":{\"type\":\"Polygon\",\"coordinates\":[[[65.18181819818182,-44.90804775470793],[65.86363638136363,-44.62857416958301],[65.86363638136363,-44.06557080109546],[65.18181819818182,-43.782041623674104],[64.500000015,-44.06557080109546],[64.500000015,-44.62857416958301],[65.18181819818182,-44.90804775470793]]]}},{\"type\":\"Feature\",\"id\":\"1.1376373399946305,-0.8241421600007264\",\"geometry\":{\"type\":\"Polygon\",\"coordinates\":[[[65.18181819818182,-43.21093079831662],[65.86363638136363,-42.92335056484793],[65.86363638136363,-42.344145034800086],[65.18181819818182,-42.0525219941646],[64.500000015,-42.344145034800086],[64.500000015,-42.92335056484793],[65.18181819818182,-43.21093079831662]]]}},{\"type\":\"Feature\",\"id\":\"1.1376373399946305,-0.782919447094776\",\"geometry\":{\"type\":\"Polygon\",\"coordinates\":[[[65.18181819818182,-41.46524208454954],[65.86363638136363,-41.16958834542567],[65.86363638136363,-40.57426224611941],[65.18181819818182,-40.274593921456685],[64.500000015,-40.57426224611941],[64.500000015,-41.16958834542567],[65.18181819818182,-41.46524208454954]]]}},{\"type\":\"Feature\",\"id\":\"1.1376373399946305,-0.7416967341888256\",\"geometry\":{\"type\":\"Polygon\",\"coordinates\":[[[65.18181819818182,-39.67125797273608],[65.86363638136363,-39.36759532075098],[65.86363638136363,-38.756294291171216],[65.18181819818182,-38.448661852041546],[64.500000015,-38.756294291171216],[64.500000015,-39.36759532075098],[65.18181819818182,-39.67125797273608]]]}},{\"type\":\"Feature\",\"id\":\"1.1376373399946305,-0.7004740212828753\",\"geometry\":{\"type\":\"Polygon\",\"coordinates\":[[[65.18181819818182,-37.82944920685779],[65.86363638136363,-37.517875934254796],[65.86363638136363,-36.89081409263251],[65.18181819818182,-36.57533347919717],[64.500000015,-36.89081409263251],[64.500000015,-37.517875934254796],[65.18181819818182,-37.82944920685779]]]}},{\"type\":\"Feature\",\"id\":\"1.1376373399946305,-0.6592513083769249\",\"geometry\":{\"type\":\"Polygon\",\"coordinates\":[[[65.18181819818182,-35.940494058394584],[65.86363638136363,-35.62114425423612],[65.86363638136363,-34.97860829889037],[65.18181819818182,-34.65543222216165],[64.500000015,-34.97860829889037],[64.500000015,-35.62114425423612],[65.18181819818182,-35.940494058394584]]]}},{\"type\":\"Feature\",\"id\":\"1.1376373399946305,-0.6180285954709746\",\"geometry\":{\"type\":\"Polygon\",\"coordinates\":[[[65.18181819818182,-34.00529041676964],[65.86363638136363,-33.678335855357275],[65.86363638136363,-33.02068871801436],[65.18181819818182,-32.69000842137051],[64.500000015,-33.02068871801436],[64.500000015,-33.678335855357275],[65.18181819818182,-34.00529041676964]]]}},{\"type\":\"Feature\",\"id\":\"1.1376373399946305,-0.5768058825650242\",\"geometry\":{\"type\":\"Polygon\",\"coordinates\":[[[65.18181819818182,-32.024966476816466],[65.86363638136363,-31.690618236956208],[65.86363638136363,-31.01830216697947],[65.18181819818182,-30.680348887673055],[64.500000015,-31.01830216697947],[64.500000015,-31.690618236956208],[65.18181819818182,-32.024966476816466]]]}},{\"type\":\"Feature\",\"id\":\"1.1376373399946305,-0.5355831696590738\",\"geometry\":{\"type\":\"Polygon\",\"coordinates\":[[[65.18181819818182,-30.0008896569427],[65.86363638136363,-29.659399410144857],[65.86363638136363,-28.97293836557683],[65.18181819818182,-28.627984434159064],[64.500000015,-28.97293836557683],[64.500000015,-29.659399410144857],[65.18181819818182,-30.0008896569427]]]}},{\"type\":\"Feature\",\"id\":\"1.1376373399946305,-0.4943604567531234\",\"geometry\":{\"type\":\"Polygon\",\"coordinates\":[[[65.18181819818182,-27.934673375977997],[65.86363638136363,-27.586334281862243],[65.86363638136363,-26.8863355045969],[65.18181819818182,-26.534695021431894],[64.500000015,-26.8863355045969],[64.500000015,-27.586334281862243],[65.18181819818182,-27.934673375977997]]]}},{\"type\":\"Feature\",\"id\":\"1.1614372843876075,-0.8653648729066767\",\"geometry\":{\"type\":\"Polygon\",\"coordinates\":[[[66.54545456454545,-44.90804775470793],[67.22727274772727,-44.62857416958301],[67.22727274772727,-44.06557080109546],[66.54545456454545,-43.782041623674104],[65.86363638136363,-44.06557080109546],[65.86363638136363,-44.62857416958301],[66.54545456454545,-44.90804775470793]]]}},{\"type\":\"Feature\",\"id\":\"1.1614372843876075,-0.8241421600007264\",\"geometry\":{\"type\":\"Polygon\",\"coordinates\":[[[66.54545456454545,-43.21093079831662],[67.22727274772727,-42.92335056484793],[67.22727274772727,-42.344145034800086],[66.54545456454545,-42.0525219941646],[65.86363638136363,-42.344145034800086],[65.86363638136363,-42.92335056484793],[66.54545456454545,-43.21093079831662]]]}},{\"type\":\"Feature\",\"id\":\"1.1614372843876075,-0.782919447094776\",\"geometry\":{\"type\":\"Polygon\",\"coordinates\":[[[66.54545456454545,-41.46524208454954],[67.22727274772727,-41.16958834542567],[67.22727274772727,-40.57426224611941],[66.54545456454545,-40.274593921456685],[65.86363638136363,-40.57426224611941],[65.86363638136363,-41.16958834542567],[66.54545456454545,-41.46524208454954]]]}},{\"type\":\"Feature\",\"id\":\"1.1614372843876075,-0.7416967341888256\",\"geometry\":{\"type\":\"Polygon\",\"coordinates\":[[[66.54545456454545,-39.67125797273608],[67.22727274772727,-39.36759532075098],[67.22727274772727,-38.756294291171216],[66.54545456454545,-38.448661852041546],[65.86363638136363,-38.756294291171216],[65.86363638136363,-39.36759532075098],[66.54545456454545,-39.67125797273608]]]}},{\"type\":\"Feature\",\"id\":\"1.1614372843876075,-0.7004740212828753\",\"geometry\":{\"type\":\"Polygon\",\"coordinates\":[[[66.54545456454545,-37.82944920685779],[67.22727274772727,-37.517875934254796],[67.22727274772727,-36.89081409263251],[66.54545456454545,-36.57533347919717],[65.86363638136363,-36.89081409263251],[65.86363638136363,-37.517875934254796],[66.54545456454545,-37.82944920685779]]]}},{\"type\":\"Feature\",\"id\":\"1.1614372843876075,-0.6592513083769249\",\"geometry\":{\"type\":\"Polygon\",\"coordinates\":[[[66.54545456454545,-35.940494058394584],[67.22727274772727,-35.62114425423612],[67.22727274772727,-34.97860829889037],[66.54545456454545,-34.65543222216165],[65.86363638136363,-34.97860829889037],[65.86363638136363,-35.62114425423612],[66.54545456454545,-35.940494058394584]]]}},{\"type\":\"Feature\",\"id\":\"1.1614372843876075,-0.6180285954709746\",\"geometry\":{\"type\":\"Polygon\",\"coordinates\":[[[66.54545456454545,-34.00529041676964],[67.22727274772727,-33.678335855357275],[67.22727274772727,-33.02068871801436],[66.54545456454545,-32.69000842137051],[65.86363638136363,-33.02068871801436],[65.86363638136363,-33.678335855357275],[66.54545456454545,-34.00529041676964]]]}},{\"type\":\"Feature\",\"id\":\"1.1614372843876075,-0.5768058825650242\",\"geometry\":{\"type\":\"Polygon\",\"coordinates\":[[[66.54545456454545,-32.024966476816466],[67.22727274772727,-31.690618236956208],[67.22727274772727,-31.01830216697947],[66.54545456454545,-30.680348887673055],[65.86363638136363,-31.01830216697947],[65.86363638136363,-31.690618236956208],[66.54545456454545,-32.024966476816466]]]}},{\"type\":\"Feature\",\"id\":\"1.1614372843876075,-0.5355831696590738\",\"geometry\":{\"type\":\"Polygon\",\"coordinates\":[[[66.54545456454545,-30.0008896569427],[67.22727274772727,-29.659399410144857],[67.22727274772727,-28.97293836557683],[66.54545456454545,-28.627984434159064],[65.86363638136363,-28.97293836557683],[65.86363638136363,-29.659399410144857],[66.54545456454545,-30.0008896569427]]]}},{\"type\":\"Feature\",\"id\":\"1.1614372843876075,-0.4943604567531234\",\"geometry\":{\"type\":\"Polygon\",\"coordinates\":[[[66.54545456454545,-27.934673375977997],[67.22727274772727,-27.586334281862243],[67.22727274772727,-26.8863355045969],[66.54545456454545,-26.534695021431894],[65.86363638136363,-26.8863355045969],[65.86363638136363,-27.586334281862243],[66.54545456454545,-27.934673375977997]]]}},{\"type\":\"Feature\",\"id\":\"1.1852372287805846,-0.8653648729066767\",\"geometry\":{\"type\":\"Polygon\",\"coordinates\":[[[67.90909093090909,-44.90804775470793],[68.5909091140909,-44.62857416958301],[68.5909091140909,-44.06557080109546],[67.90909093090909,-43.782041623674104],[67.22727274772727,-44.06557080109546],[67.22727274772727,-44.62857416958301],[67.90909093090909,-44.90804775470793]]]}},{\"type\":\"Feature\",\"id\":\"1.1852372287805846,-0.8241421600007264\",\"geometry\":{\"type\":\"Polygon\",\"coordinates\":[[[67.90909093090909,-43.21093079831662],[68.5909091140909,-42.92335056484793],[68.5909091140909,-42.344145034800086],[67.90909093090909,-42.0525219941646],[67.22727274772727,-42.344145034800086],[67.22727274772727,-42.92335056484793],[67.90909093090909,-43.21093079831662]]]}},{\"type\":\"Feature\",\"id\":\"1.1852372287805846,-0.782919447094776\",\"geometry\":{\"type\":\"Polygon\",\"coordinates\":[[[67.90909093090909,-41.46524208454954],[68.5909091140909,-41.16958834542567],[68.5909091140909,-40.57426224611941],[67.90909093090909,-40.274593921456685],[67.22727274772727,-40.57426224611941],[67.22727274772727,-41.16958834542567],[67.90909093090909,-41.46524208454954]]]}},{\"type\":\"Feature\",\"id\":\"1.1852372287805846,-0.7416967341888256\",\"geometry\":{\"type\":\"Polygon\",\"coordinates\":[[[67.90909093090909,-39.67125797273608],[68.5909091140909,-39.36759532075098],[68.5909091140909,-38.756294291171216],[67.90909093090909,-38.448661852041546],[67.22727274772727,-38.756294291171216],[67.22727274772727,-39.36759532075098],[67.90909093090909,-39.67125797273608]]]}},{\"type\":\"Feature\",\"id\":\"1.1852372287805846,-0.6592513083769249\",\"geometry\":{\"type\":\"Polygon\",\"coordinates\":[[[67.90909093090909,-35.940494058394584],[68.5909091140909,-35.62114425423612],[68.5909091140909,-34.97860829889037],[67.90909093090909,-34.65543222216165],[67.22727274772727,-34.97860829889037],[67.22727274772727,-35.62114425423612],[67.90909093090909,-35.940494058394584]]]}},{\"type\":\"Feature\",\"id\":\"1.1852372287805846,-0.6180285954709746\",\"geometry\":{\"type\":\"Polygon\",\"coordinates\":[[[67.90909093090909,-34.00529041676964],[68.5909091140909,-33.678335855357275],[68.5909091140909,-33.02068871801436],[67.90909093090909,-32.69000842137051],[67.22727274772727,-33.02068871801436],[67.22727274772727,-33.678335855357275],[67.90909093090909,-34.00529041676964]]]}},{\"type\":\"Feature\",\"id\":\"1.1852372287805846,-0.5768058825650242\",\"geometry\":{\"type\":\"Polygon\",\"coordinates\":[[[67.90909093090909,-32.024966476816466],[68.5909091140909,-31.690618236956208],[68.5909091140909,-31.01830216697947],[67.90909093090909,-30.680348887673055],[67.22727274772727,-31.01830216697947],[67.22727274772727,-31.690618236956208],[67.90909093090909,-32.024966476816466]]]}},{\"type\":\"Feature\",\"id\":\"1.1852372287805846,-0.5355831696590738\",\"geometry\":{\"type\":\"Polygon\",\"coordinates\":[[[67.90909093090909,-30.0008896569427],[68.5909091140909,-29.659399410144857],[68.5909091140909,-28.97293836557683],[67.90909093090909,-28.627984434159064],[67.22727274772727,-28.97293836557683],[67.22727274772727,-29.659399410144857],[67.90909093090909,-30.0008896569427]]]}},{\"type\":\"Feature\",\"id\":\"1.2090371731735619,-0.8653648729066767\",\"geometry\":{\"type\":\"Polygon\",\"coordinates\":[[[69.27272729727272,-44.90804775470793],[69.95454548045454,-44.62857416958301],[69.95454548045454,-44.06557080109546],[69.27272729727272,-43.782041623674104],[68.59090911409092,-44.06557080109546],[68.59090911409092,-44.62857416958301],[69.27272729727272,-44.90804775470793]]]}},{\"type\":\"Feature\",\"id\":\"1.2090371731735619,-0.8241421600007264\",\"geometry\":{\"type\":\"Polygon\",\"coordinates\":[[[69.27272729727272,-43.21093079831662],[69.95454548045454,-42.92335056484793],[69.95454548045454,-42.344145034800086],[69.27272729727272,-42.0525219941646],[68.59090911409092,-42.344145034800086],[68.59090911409092,-42.92335056484793],[69.27272729727272,-43.21093079831662]]]}},{\"type\":\"Feature\",\"id\":\"1.2090371731735619,-0.782919447094776\",\"geometry\":{\"type\":\"Polygon\",\"coordinates\":[[[69.27272729727272,-41.46524208454954],[69.95454548045454,-41.16958834542567],[69.95454548045454,-40.57426224611941],[69.27272729727272,-40.274593921456685],[68.59090911409092,-40.57426224611941],[68.59090911409092,-41.16958834542567],[69.27272729727272,-41.46524208454954]]]}},{\"type\":\"Feature\",\"id\":\"1.2090371731735619,-0.7416967341888256\",\"geometry\":{\"type\":\"Polygon\",\"coordinates\":[[[69.27272729727272,-39.67125797273608],[69.95454548045454,-39.36759532075098],[69.95454548045454,-38.756294291171216],[69.27272729727272,-38.448661852041546],[68.59090911409092,-38.756294291171216],[68.59090911409092,-39.36759532075098],[69.27272729727272,-39.67125797273608]]]}},{\"type\":\"Feature\",\"id\":\"1.2090371731735619,-0.6180285954709746\",\"geometry\":{\"type\":\"Polygon\",\"coordinates\":[[[69.27272729727272,-34.00529041676964],[69.95454548045454,-33.678335855357275],[69.95454548045454,-33.02068871801436],[69.27272729727272,-32.69000842137051],[68.59090911409092,-33.02068871801436],[68.59090911409092,-33.678335855357275],[69.27272729727272,-34.00529041676964]]]}},{\"type\":\"Feature\",\"id\":\"1.2090371731735619,-0.5768058825650242\",\"geometry\":{\"type\":\"Polygon\",\"coordinates\":[[[69.27272729727272,-32.024966476816466],[69.95454548045454,-31.690618236956208],[69.95454548045454,-31.01830216697947],[69.27272729727272,-30.680348887673055],[68.59090911409092,-31.01830216697947],[68.59090911409092,-31.690618236956208],[69.27272729727272,-32.024966476816466]]]}},{\"type\":\"Feature\",\"id\":\"1.2090371731735619,-0.5355831696590738\",\"geometry\":{\"type\":\"Polygon\",\"coordinates\":[[[69.27272729727272,-30.0008896569427],[69.95454548045454,-29.659399410144857],[69.95454548045454,-28.97293836557683],[69.27272729727272,-28.627984434159064],[68.59090911409092,-28.97293836557683],[68.59090911409092,-29.659399410144857],[69.27272729727272,-30.0008896569427]]]}},{\"type\":\"Feature\",\"id\":\"1.232837117566539,-0.782919447094776\",\"geometry\":{\"type\":\"Polygon\",\"coordinates\":[[[70.63636366363636,-41.46524208454954],[71.31818184681818,-41.16958834542567],[71.31818184681818,-40.57426224611941],[70.63636366363636,-40.274593921456685],[69.95454548045454,-40.57426224611941],[69.95454548045454,-41.16958834542567],[70.63636366363636,-41.46524208454954]]]}},{\"type\":\"Feature\",\"id\":\"1.232837117566539,-0.7416967341888256\",\"geometry\":{\"type\":\"Polygon\",\"coordinates\":[[[70.63636366363636,-39.67125797273608],[71.31818184681818,-39.36759532075098],[71.31818184681818,-38.756294291171216],[70.63636366363636,-38.448661852041546],[69.95454548045454,-38.756294291171216],[69.95454548045454,-39.36759532075098],[70.63636366363636,-39.67125797273608]]]}},{\"type\":\"Feature\",\"id\":\"1.256637061959516,-0.782919447094776\",\"geometry\":{\"type\":\"Polygon\",\"coordinates\":[[[72.00000003,-41.46524208454954],[72.68181821318181,-41.16958834542567],[72.68181821318181,-40.57426224611941],[72.00000003,-40.274593921456685],[71.31818184681818,-40.57426224611941],[71.31818184681818,-41.16958834542567],[72.00000003,-41.46524208454954]]]}},{\"type\":\"Feature\",\"id\":\"0.7449382575105081,-0.8859762293596519\",\"geometry\":{\"type\":\"Polygon\",\"coordinates\":[[[42.681818153181815,-45.738355210739094],[43.36363633636363,-45.46293819064564],[43.36363633636363,-44.90804775470793],[42.681818153181815,-44.62857416958301],[41.999999970000005,-44.90804775470793],[41.999999970000005,-45.46293819064564],[42.681818153181815,-45.738355210739094]]]}},{\"type\":\"Feature\",\"id\":\"0.7449382575105081,-0.26763553577039634\",\"geometry\":{\"type\":\"Polygon\",\"coordinates\":[[[42.681818153181815,-15.91306579164077],[43.36363633636363,-15.534148917848238],[43.36363633636363,-14.774237062497322],[42.681818153181815,-14.393273047106062],[41.999999970000005,-14.774237062497322],[41.999999970000005,-15.534148917848238],[42.681818153181815,-15.91306579164077]]]}},{\"type\":\"Feature\",\"id\":\"0.7687382019034853,-0.8859762293596519\",\"geometry\":{\"type\":\"Polygon\",\"coordinates\":[[[44.04545451954546,-45.738355210739094],[44.72727270272727,-45.46293819064564],[44.72727270272727,-44.90804775470793],[44.04545451954546,-44.62857416958301],[43.36363633636363,-44.90804775470793],[43.36363633636363,-45.46293819064564],[44.04545451954546,-45.738355210739094]]]}},{\"type\":\"Feature\",\"id\":\"0.7687382019034853,-0.6798626648299001\",\"geometry\":{\"type\":\"Polygon\",\"coordinates\":[[[44.04545451954546,-36.89081409263251],[44.72727270272727,-36.57533347919717],[44.72727270272727,-35.940494058394584],[44.04545451954546,-35.62114425423612],[43.36363633636363,-35.940494058394584],[43.36363633636363,-36.57533347919717],[44.04545451954546,-36.89081409263251]]]}},{\"type\":\"Feature\",\"id\":\"0.7687382019034853,-0.35008096158229707\",\"geometry\":{\"type\":\"Polygon\",\"coordinates\":[[[44.04545451954546,-20.400240760170597],[44.72727270272727,-20.030842639010405],[44.72727270272727,-19.289448879034072],[44.04545451954546,-18.917480312700423],[43.36363633636363,-19.289448879034072],[43.36363633636363,-20.030842639010405],[44.04545451954546,-20.400240760170597]]]}},{\"type\":\"Feature\",\"id\":\"0.7687382019034853,-0.3088582486763467\",\"geometry\":{\"type\":\"Polygon\",\"coordinates\":[[[44.04545451954546,-18.17106878828689],[44.72727270272727,-17.7966539345571],[44.72727270272727,-17.04547756077712],[44.04545451954546,-16.668745140827017],[43.36363633636363,-17.04547756077712],[43.36363633636363,-17.7966539345571],[44.04545451954546,-18.17106878828689]]]}},{\"type\":\"Feature\",\"id\":\"0.7687382019034853,-0.26763553577039634\",\"geometry\":{\"type\":\"Polygon\",\"coordinates\":[[[44.04545451954546,-15.91306579164077],[44.72727270272727,-15.534148917848238],[44.72727270272727,-14.774237062497322],[44.04545451954546,-14.393273047106062],[43.36363633636363,-14.774237062497322],[43.36363633636363,-15.534148917848238],[44.04545451954546,-15.91306579164077]]]}},{\"type\":\"Feature\",\"id\":\"0.7925381462964624,-0.8035308035477512\",\"geometry\":{\"type\":\"Polygon\",\"coordinates\":[[[45.40909088590909,-42.344145034800086],[46.090909069090905,-42.0525219941646],[46.090909069090905,-41.46524208454954],[45.40909088590909,-41.16958834542567],[44.72727270272727,-41.46524208454954],[44.72727270272727,-42.0525219941646],[45.40909088590909,-42.344145034800086]]]}},{\"type\":\"Feature\",\"id\":\"0.7925381462964624,-0.6798626648299001\",\"geometry\":{\"type\":\"Polygon\",\"coordinates\":[[[45.40909088590909,-36.89081409263251],[46.090909069090905,-36.57533347919717],[46.090909069090905,-35.940494058394584],[45.40909088590909,-35.62114425423612],[44.72727270272727,-35.940494058394584],[44.72727270272727,-36.57533347919717],[45.40909088590909,-36.89081409263251]]]}},{\"type\":\"Feature\",\"id\":\"0.7925381462964624,-0.3088582486763467\",\"geometry\":{\"type\":\"Polygon\",\"coordinates\":[[[45.40909088590909,-18.17106878828689],[46.090909069090905,-17.7966539345571],[46.090909069090905,-17.04547756077712],[45.40909088590909,-16.668745140827017],[44.72727270272727,-17.04547756077712],[44.72727270272727,-17.7966539345571],[45.40909088590909,-18.17106878828689]]]}},{\"type\":\"Feature\",\"id\":\"0.7925381462964624,-0.26763553577039634\",\"geometry\":{\"type\":\"Polygon\",\"coordinates\":[[[45.40909088590909,-15.91306579164077],[46.090909069090905,-15.534148917848238],[46.090909069090905,-14.774237062497322],[45.40909088590909,-14.393273047106062],[44.72727270272727,-14.774237062497322],[44.72727270272727,-15.534148917848238],[45.40909088590909,-15.91306579164077]]]}},{\"type\":\"Feature\",\"id\":\"0.8163380906894395,-0.8859762293596519\",\"geometry\":{\"type\":\"Polygon\",\"coordinates\":[[[46.77272725227273,-45.738355210739094],[47.45454543545454,-45.46293819064564],[47.45454543545454,-44.90804775470793],[46.77272725227273,-44.62857416958301],[46.09090906909092,-44.90804775470793],[46.09090906909092,-45.46293819064564],[46.77272725227273,-45.738355210739094]]]}},{\"type\":\"Feature\",\"id\":\"0.8163380906894395,-0.8035308035477512\",\"geometry\":{\"type\":\"Polygon\",\"coordinates\":[[[46.77272725227273,-42.344145034800086],[47.45454543545454,-42.0525219941646],[47.45454543545454,-41.46524208454954],[46.77272725227273,-41.16958834542567],[46.09090906909092,-41.46524208454954],[46.09090906909092,-42.0525219941646],[46.77272725227273,-42.344145034800086]]]}},{\"type\":\"Feature\",\"id\":\"0.8163380906894395,-0.7210853777358505\",\"geometry\":{\"type\":\"Polygon\",\"coordinates\":[[[46.77272725227273,-38.756294291171216],[47.45454543545454,-38.448661852041546],[47.45454543545454,-37.82944920685779],[46.77272725227273,-37.517875934254796],[46.09090906909092,-37.82944920685779],[46.09090906909092,-38.448661852041546],[46.77272725227273,-38.756294291171216]]]}},{\"type\":\"Feature\",\"id\":\"0.8163380906894395,-0.6798626648299001\",\"geometry\":{\"type\":\"Polygon\",\"coordinates\":[[[46.77272725227273,-36.89081409263251],[47.45454543545454,-36.57533347919717],[47.45454543545454,-35.940494058394584],[46.77272725227273,-35.62114425423612],[46.09090906909092,-35.940494058394584],[46.09090906909092,-36.57533347919717],[46.77272725227273,-36.89081409263251]]]}},{\"type\":\"Feature\",\"id\":\"0.8401380350824166,-0.8859762293596519\",\"geometry\":{\"type\":\"Polygon\",\"coordinates\":[[[48.136363618636366,-45.738355210739094],[48.81818180181818,-45.46293819064564],[48.81818180181818,-44.90804775470793],[48.136363618636366,-44.62857416958301],[47.45454543545454,-44.90804775470793],[47.45454543545454,-45.46293819064564],[48.136363618636366,-45.738355210739094]]]}},{\"type\":\"Feature\",\"id\":\"0.8401380350824166,-0.8447535164537016\",\"geometry\":{\"type\":\"Polygon\",\"coordinates\":[[[48.136363618636366,-44.06557080109546],[48.81818180181818,-43.782041623674104],[48.81818180181818,-43.21093079831662],[48.136363618636366,-42.92335056484793],[47.45454543545454,-43.21093079831662],[47.45454543545454,-43.782041623674104],[48.136363618636366,-44.06557080109546]]]}},{\"type\":\"Feature\",\"id\":\"0.8401380350824166,-0.8035308035477512\",\"geometry\":{\"type\":\"Polygon\",\"coordinates\":[[[48.136363618636366,-42.344145034800086],[48.81818180181818,-42.0525219941646],[48.81818180181818,-41.46524208454954],[48.136363618636366,-41.16958834542567],[47.45454543545454,-41.46524208454954],[47.45454543545454,-42.0525219941646],[48.136363618636366,-42.344145034800086]]]}},{\"type\":\"Feature\",\"id\":\"0.8401380350824166,-0.7210853777358505\",\"geometry\":{\"type\":\"Polygon\",\"coordinates\":[[[48.136363618636366,-38.756294291171216],[48.81818180181818,-38.448661852041546],[48.81818180181818,-37.82944920685779],[48.136363618636366,-37.517875934254796],[47.45454543545454,-37.82944920685779],[47.45454543545454,-38.448661852041546],[48.136363618636366,-38.756294291171216]]]}},{\"type\":\"Feature\",\"id\":\"0.8401380350824166,-0.6798626648299001\",\"geometry\":{\"type\":\"Polygon\",\"coordinates\":[[[48.136363618636366,-36.89081409263251],[48.81818180181818,-36.57533347919717],[48.81818180181818,-35.940494058394584],[48.136363618636366,-35.62114425423612],[47.45454543545454,-35.940494058394584],[47.45454543545454,-36.57533347919717],[48.136363618636366,-36.89081409263251]]]}},{\"type\":\"Feature\",\"id\":\"0.8401380350824166,-0.6386399519239496\",\"geometry\":{\"type\":\"Polygon\",\"coordinates\":[[[48.136363618636366,-34.97860829889037],[48.81818180181818,-34.65543222216165],[48.81818180181818,-34.005290416769625],[48.136363618636366,-33.678335855357275],[47.45454543545454,-34.005290416769625],[47.45454543545454,-34.65543222216165],[48.136363618636366,-34.97860829889037]]]}},{\"type\":\"Feature\",\"id\":\"0.8401380350824166,-0.5561945261120489\",\"geometry\":{\"type\":\"Polygon\",\"coordinates\":[[[48.136363618636366,-31.018302166979456],[48.81818180181818,-30.680348887673055],[48.81818180181818,-30.0008896569427],[48.136363618636366,-29.659399410144857],[47.45454543545454,-30.0008896569427],[47.45454543545454,-30.680348887673055],[48.136363618636366,-31.018302166979456]]]}},{\"type\":\"Feature\",\"id\":\"0.8401380350824166,-0.22641282286444597\",\"geometry\":{\"type\":\"Polygon\",\"coordinates\":[[[48.136363618636366,-13.629407348605179],[48.81818180181818,-13.246537493660302],[48.81818180181818,-12.479004370358245],[48.136363618636366,-12.094373739472207],[47.45454543545454,-12.479004370358245],[47.45454543545454,-13.246537493660302],[48.136363618636366,-13.629407348605179]]]}},{\"type\":\"Feature\",\"id\":\"0.8401380350824166,-0.1851901099584956\",\"geometry\":{\"type\":\"Polygon\",\"coordinates\":[[[48.136363618636366,-11.323466890945843],[48.81818180181818,-10.937224063599297],[48.81818180181818,-10.163243962436015],[48.136363618636366,-9.775540771664078],[47.45454543545454,-10.163243962436015],[47.45454543545454,-10.937224063599297],[48.136363618636366,-11.323466890945843]]]}},{\"type\":\"Feature\",\"id\":\"0.8401380350824166,-0.14396739705254524\",\"geometry\":{\"type\":\"Polygon\",\"coordinates\":[[[48.136363618636366,-8.9987941229748],[48.81818180181818,-8.609785377429594],[48.81818180181818,-7.830584548212443],[48.136363618636366,-7.440427739729316],[47.45454543545454,-7.830584548212443],[47.45454543545454,-8.609785377429594],[48.136363618636366,-8.9987941229748]]]}},{\"type\":\"Feature\",\"id\":\"0.8639379794753936,-0.8035308035477512\",\"geometry\":{\"type\":\"Polygon\",\"coordinates\":[[[49.499999985,-42.344145034800086],[50.18181816818181,-42.0525219941646],[50.18181816818181,-41.46524208454954],[49.499999985,-41.16958834542567],[48.81818180181818,-41.46524208454954],[48.81818180181818,-42.0525219941646],[49.499999985,-42.344145034800086]]]}},{\"type\":\"Feature\",\"id\":\"0.8639379794753936,-0.7623080906418008\",\"geometry\":{\"type\":\"Polygon\",\"coordinates\":[[[49.499999985,-40.57426224611941],[50.18181816818181,-40.274593921456685],[50.18181816818181,-39.67125797273608],[49.499999985,-39.36759532075098],[48.81818180181818,-39.67125797273608],[48.81818180181818,-40.274593921456685],[49.499999985,-40.57426224611941]]]}},{\"type\":\"Feature\",\"id\":\"0.8639379794753936,-0.7210853777358505\",\"geometry\":{\"type\":\"Polygon\",\"coordinates\":[[[49.499999985,-38.756294291171216],[50.18181816818181,-38.448661852041546],[50.18181816818181,-37.82944920685779],[49.499999985,-37.517875934254796],[48.81818180181818,-37.82944920685779],[48.81818180181818,-38.448661852041546],[49.499999985,-38.756294291171216]]]}},{\"type\":\"Feature\",\"id\":\"0.8639379794753936,-0.6798626648299001\",\"geometry\":{\"type\":\"Polygon\",\"coordinates\":[[[49.499999985,-36.89081409263251],[50.18181816818181,-36.57533347919717],[50.18181816818181,-35.940494058394584],[49.499999985,-35.62114425423612],[48.81818180181818,-35.940494058394584],[48.81818180181818,-36.57533347919717],[49.499999985,-36.89081409263251]]]}},{\"type\":\"Feature\",\"id\":\"0.8639379794753936,-0.6386399519239496\",\"geometry\":{\"type\":\"Polygon\",\"coordinates\":[[[49.499999985,-34.97860829889037],[50.18181816818181,-34.65543222216165],[50.18181816818181,-34.005290416769625],[49.499999985,-33.678335855357275],[48.81818180181818,-34.005290416769625],[48.81818180181818,-34.65543222216165],[49.499999985,-34.97860829889037]]]}},{\"type\":\"Feature\",\"id\":\"0.8639379794753936,-0.5974172390179993\",\"geometry\":{\"type\":\"Polygon\",\"coordinates\":[[[49.499999985,-33.02068871801436],[50.18181816818181,-32.69000842137049],[50.18181816818181,-32.024966476816466],[49.499999985,-31.690618236956208],[48.81818180181818,-32.024966476816466],[48.81818180181818,-32.69000842137049],[49.499999985,-33.02068871801436]]]}},{\"type\":\"Feature\",\"id\":\"0.8639379794753936,-0.5561945261120489\",\"geometry\":{\"type\":\"Polygon\",\"coordinates\":[[[49.499999985,-31.018302166979456],[50.18181816818181,-30.680348887673055],[50.18181816818181,-30.0008896569427],[49.499999985,-29.659399410144857],[48.81818180181818,-30.0008896569427],[48.81818180181818,-30.680348887673055],[49.499999985,-31.018302166979456]]]}},{\"type\":\"Feature\",\"id\":\"0.8639379794753936,-0.5149718132060985\",\"geometry\":{\"type\":\"Polygon\",\"coordinates\":[[[49.499999985,-28.97293836557683],[50.18181816818181,-28.62798443415905],[50.18181816818181,-27.934673375977997],[49.499999985,-27.586334281862243],[48.81818180181818,-27.934673375977997],[48.81818180181818,-28.62798443415905],[49.499999985,-28.97293836557683]]]}},{\"type\":\"Feature\",\"id\":\"0.8639379794753936,-0.43252638739419785\",\"geometry\":{\"type\":\"Polygon\",\"coordinates\":[[[49.499999985,-24.760483131153798],[50.18181816818181,-24.40251216281074],[50.18181816818181,-23.683528876349666],[49.499999985,-23.322539228722555],[48.81818180181818,-23.683528876349666],[48.81818180181818,-24.40251216281074],[49.499999985,-24.760483131153798]]]}},{\"type\":\"Feature\",\"id\":\"0.8639379794753936,-0.39130367448824743\",\"geometry\":{\"type\":\"Polygon\",\"coordinates\":[[[49.499999985,-22.597622022074045],[50.18181816818181,-22.23371826658171],[50.18181816818181,-21.503081358955768],[49.499999985,-21.13637312455803],[48.81818180181818,-21.503081358955768],[48.81818180181818,-22.23371826658171],[49.499999985,-22.597622022074045]]]}},{\"type\":\"Feature\",\"id\":\"0.8639379794753936,-0.35008096158229707\",\"geometry\":{\"type\":\"Polygon\",\"coordinates\":[[[49.499999985,-20.400240760170597],[50.18181816818181,-20.030842639010405],[50.18181816818181,-19.289448879034072],[49.499999985,-18.917480312700423],[48.81818180181818,-19.289448879034072],[48.81818180181818,-20.030842639010405],[49.499999985,-20.400240760170597]]]}},{\"type\":\"Feature\",\"id\":\"0.8639379794753936,-0.22641282286444597\",\"geometry\":{\"type\":\"Polygon\",\"coordinates\":[[[49.499999985,-13.629407348605179],[50.18181816818181,-13.246537493660302],[50.18181816818181,-12.479004370358245],[49.499999985,-12.094373739472207],[48.81818180181818,-12.479004370358245],[48.81818180181818,-13.246537493660302],[49.499999985,-13.629407348605179]]]}},{\"type\":\"Feature\",\"id\":\"0.8639379794753936,-0.1851901099584956\",\"geometry\":{\"type\":\"Polygon\",\"coordinates\":[[[49.499999985,-11.323466890945843],[50.18181816818181,-10.937224063599297],[50.18181816818181,-10.163243962436015],[49.499999985,-9.775540771664078],[48.81818180181818,-10.163243962436015],[48.81818180181818,-10.937224063599297],[49.499999985,-11.323466890945843]]]}},{\"type\":\"Feature\",\"id\":\"0.8639379794753936,-0.14396739705254524\",\"geometry\":{\"type\":\"Polygon\",\"coordinates\":[[[49.499999985,-8.9987941229748],[50.18181816818181,-8.609785377429594],[50.18181816818181,-7.830584548212443],[49.499999985,-7.440427739729316],[48.81818180181818,-7.830584548212443],[48.81818180181818,-8.609785377429594],[49.499999985,-8.9987941229748]]]}},{\"type\":\"Feature\",\"id\":\"0.8639379794753936,-0.10274468414659488\",\"geometry\":{\"type\":\"Polygon\",\"coordinates\":[[[49.499999985,-6.659090160468774],[50.18181816818181,-6.267945158391975],[50.18181816818181,-5.484792699527005],[49.499999985,-5.092821433170325],[48.81818180181818,-5.484792699527005],[48.81818180181818,-6.267945158391975],[49.499999985,-6.659090160468774]]]}},{\"type\":\"Feature\",\"id\":\"0.8639379794753936,-0.06152197124064451\",\"geometry\":{\"type\":\"Polygon\",\"coordinates\":[[[49.499999985,-4.308179759293602],[50.18181816818181,-3.9155458900200393],[50.18181816818181,-3.1297437948759796],[49.499999985,-2.7366123793771684],[48.81818180181818,-3.1297437948759796],[48.81818180181818,-3.9155458900200393],[49.499999985,-4.308179759293602]]]}},{\"type\":\"Feature\",\"id\":\"0.8877379238683708,-0.8447535164537016\",\"geometry\":{\"type\":\"Polygon\",\"coordinates\":[[[50.86363635136363,-44.06557080109546],[51.54545453454545,-43.782041623674104],[51.54545453454545,-43.21093079831662],[50.86363635136363,-42.92335056484793],[50.18181816818182,-43.21093079831662],[50.18181816818182,-43.782041623674104],[50.86363635136363,-44.06557080109546]]]}},{\"type\":\"Feature\",\"id\":\"0.8877379238683708,-0.8035308035477512\",\"geometry\":{\"type\":\"Polygon\",\"coordinates\":[[[50.86363635136363,-42.344145034800086],[51.54545453454545,-42.0525219941646],[51.54545453454545,-41.46524208454954],[50.86363635136363,-41.16958834542567],[50.18181816818182,-41.46524208454954],[50.18181816818182,-42.0525219941646],[50.86363635136363,-42.344145034800086]]]}},{\"type\":\"Feature\",\"id\":\"0.8877379238683708,-0.7623080906418008\",\"geometry\":{\"type\":\"Polygon\",\"coordinates\":[[[50.86363635136363,-40.57426224611941],[51.54545453454545,-40.274593921456685],[51.54545453454545,-39.67125797273608],[50.86363635136363,-39.36759532075098],[50.18181816818182,-39.67125797273608],[50.18181816818182,-40.274593921456685],[50.86363635136363,-40.57426224611941]]]}},{\"type\":\"Feature\",\"id\":\"0.8877379238683708,-0.7210853777358505\",\"geometry\":{\"type\":\"Polygon\",\"coordinates\":[[[50.86363635136363,-38.756294291171216],[51.54545453454545,-38.448661852041546],[51.54545453454545,-37.82944920685779],[50.86363635136363,-37.517875934254796],[50.18181816818182,-37.82944920685779],[50.18181816818182,-38.448661852041546],[50.86363635136363,-38.756294291171216]]]}},{\"type\":\"Feature\",\"id\":\"0.8877379238683708,-0.6798626648299001\",\"geometry\":{\"type\":\"Polygon\",\"coordinates\":[[[50.86363635136363,-36.89081409263251],[51.54545453454545,-36.57533347919717],[51.54545453454545,-35.940494058394584],[50.86363635136363,-35.62114425423612],[50.18181816818182,-35.940494058394584],[50.18181816818182,-36.57533347919717],[50.86363635136363,-36.89081409263251]]]}},{\"type\":\"Feature\",\"id\":\"0.8877379238683708,-0.6386399519239496\",\"geometry\":{\"type\":\"Polygon\",\"coordinates\":[[[50.86363635136363,-34.97860829889037],[51.54545453454545,-34.65543222216165],[51.54545453454545,-34.005290416769625],[50.86363635136363,-33.678335855357275],[50.18181816818182,-34.005290416769625],[50.18181816818182,-34.65543222216165],[50.86363635136363,-34.97860829889037]]]}},{\"type\":\"Feature\",\"id\":\"0.8877379238683708,-0.5974172390179993\",\"geometry\":{\"type\":\"Polygon\",\"coordinates\":[[[50.86363635136363,-33.02068871801436],[51.54545453454545,-32.69000842137049],[51.54545453454545,-32.024966476816466],[50.86363635136363,-31.690618236956208],[50.18181816818182,-32.024966476816466],[50.18181816818182,-32.69000842137049],[50.86363635136363,-33.02068871801436]]]}},{\"type\":\"Feature\",\"id\":\"0.8877379238683708,-0.5561945261120489\",\"geometry\":{\"type\":\"Polygon\",\"coordinates\":[[[50.86363635136363,-31.018302166979456],[51.54545453454545,-30.680348887673055],[51.54545453454545,-30.0008896569427],[50.86363635136363,-29.659399410144857],[50.18181816818182,-30.0008896569427],[50.18181816818182,-30.680348887673055],[50.86363635136363,-31.018302166979456]]]}},{\"type\":\"Feature\",\"id\":\"0.8877379238683708,-0.5149718132060985\",\"geometry\":{\"type\":\"Polygon\",\"coordinates\":[[[50.86363635136363,-28.97293836557683],[51.54545453454545,-28.62798443415905],[51.54545453454545,-27.934673375977997],[50.86363635136363,-27.586334281862243],[50.18181816818182,-27.934673375977997],[50.18181816818182,-28.62798443415905],[50.86363635136363,-28.97293836557683]]]}},{\"type\":\"Feature\",\"id\":\"0.8877379238683708,-0.4737491003001482\",\"geometry\":{\"type\":\"Polygon\",\"coordinates\":[[[50.86363635136363,-26.8863355045969],[51.54545453454545,-26.534695021431894],[51.54545453454545,-25.828181323177716],[50.86363635136363,-25.473328472753064],[50.18181816818182,-25.828181323177716],[50.18181816818182,-26.534695021431894],[50.86363635136363,-26.8863355045969]]]}},{\"type\":\"Feature\",\"id\":\"0.8877379238683708,-0.43252638739419785\",\"geometry\":{\"type\":\"Polygon\",\"coordinates\":[[[50.86363635136363,-24.760483131153798],[51.54545453454545,-24.40251216281074],[51.54545453454545,-23.683528876349666],[50.86363635136363,-23.322539228722555],[50.18181816818182,-23.683528876349666],[50.18181816818182,-24.40251216281074],[50.86363635136363,-24.760483131153798]]]}},{\"type\":\"Feature\",\"id\":\"0.8877379238683708,-0.39130367448824743\",\"geometry\":{\"type\":\"Polygon\",\"coordinates\":[[[50.86363635136363,-22.597622022074045],[51.54545453454545,-22.23371826658171],[51.54545453454545,-21.503081358955768],[50.86363635136363,-21.13637312455803],[50.18181816818182,-21.503081358955768],[50.18181816818182,-22.23371826658171],[50.86363635136363,-22.597622022074045]]]}},{\"type\":\"Feature\",\"id\":\"0.8877379238683708,-0.35008096158229707\",\"geometry\":{\"type\":\"Polygon\",\"coordinates\":[[[50.86363635136363,-20.400240760170597],[51.54545453454545,-20.030842639010405],[51.54545453454545,-19.289448879034072],[50.86363635136363,-18.917480312700423],[50.18181816818182,-19.289448879034072],[50.18181816818182,-20.030842639010405],[50.86363635136363,-20.400240760170597]]]}},{\"type\":\"Feature\",\"id\":\"0.8877379238683708,-0.22641282286444597\",\"geometry\":{\"type\":\"Polygon\",\"coordinates\":[[[50.86363635136363,-13.629407348605179],[51.54545453454545,-13.246537493660302],[51.54545453454545,-12.479004370358245],[50.86363635136363,-12.094373739472207],[50.18181816818182,-12.479004370358245],[50.18181816818182,-13.246537493660302],[50.86363635136363,-13.629407348605179]]]}},{\"type\":\"Feature\",\"id\":\"0.8877379238683708,-0.1851901099584956\",\"geometry\":{\"type\":\"Polygon\",\"coordinates\":[[[50.86363635136363,-11.323466890945843],[51.54545453454545,-10.937224063599297],[51.54545453454545,-10.163243962436015],[50.86363635136363,-9.775540771664078],[50.18181816818182,-10.163243962436015],[50.18181816818182,-10.937224063599297],[50.86363635136363,-11.323466890945843]]]}},{\"type\":\"Feature\",\"id\":\"0.8877379238683708,-0.14396739705254524\",\"geometry\":{\"type\":\"Polygon\",\"coordinates\":[[[50.86363635136363,-8.9987941229748],[51.54545453454545,-8.609785377429594],[51.54545453454545,-7.830584548212443],[50.86363635136363,-7.440427739729316],[50.18181816818182,-7.830584548212443],[50.18181816818182,-8.609785377429594],[50.86363635136363,-8.9987941229748]]]}},{\"type\":\"Feature\",\"id\":\"0.8877379238683708,-0.10274468414659488\",\"geometry\":{\"type\":\"Polygon\",\"coordinates\":[[[50.86363635136363,-6.659090160468774],[51.54545453454545,-6.267945158391975],[51.54545453454545,-5.484792699527005],[50.86363635136363,-5.092821433170325],[50.18181816818182,-5.484792699527005],[50.18181816818182,-6.267945158391975],[50.86363635136363,-6.659090160468774]]]}},{\"type\":\"Feature\",\"id\":\"0.8877379238683708,-0.06152197124064451\",\"geometry\":{\"type\":\"Polygon\",\"coordinates\":[[[50.86363635136363,-4.308179759293602],[51.54545453454545,-3.9155458900200393],[51.54545453454545,-3.1297437948759796],[50.86363635136363,-2.7366123793771684],[50.18181816818182,-3.1297437948759796],[50.18181816818182,-3.9155458900200393],[50.86363635136363,-4.308179759293602]]]}},{\"type\":\"Feature\",\"id\":\"0.911537868261348,-0.8035308035477512\",\"geometry\":{\"type\":\"Polygon\",\"coordinates\":[[[52.22727271772728,-42.344145034800086],[52.90909090090909,-42.0525219941646],[52.90909090090909,-41.46524208454954],[52.22727271772728,-41.16958834542567],[51.545454534545456,-41.46524208454954],[51.545454534545456,-42.0525219941646],[52.22727271772728,-42.344145034800086]]]}},{\"type\":\"Feature\",\"id\":\"0.911537868261348,-0.7623080906418008\",\"geometry\":{\"type\":\"Polygon\",\"coordinates\":[[[52.22727271772728,-40.57426224611941],[52.90909090090909,-40.274593921456685],[52.90909090090909,-39.67125797273608],[52.22727271772728,-39.36759532075098],[51.545454534545456,-39.67125797273608],[51.545454534545456,-40.274593921456685],[52.22727271772728,-40.57426224611941]]]}},{\"type\":\"Feature\",\"id\":\"0.911537868261348,-0.7210853777358505\",\"geometry\":{\"type\":\"Polygon\",\"coordinates\":[[[52.22727271772728,-38.756294291171216],[52.90909090090909,-38.448661852041546],[52.90909090090909,-37.82944920685779],[52.22727271772728,-37.517875934254796],[51.545454534545456,-37.82944920685779],[51.545454534545456,-38.448661852041546],[52.22727271772728,-38.756294291171216]]]}},{\"type\":\"Feature\",\"id\":\"0.911537868261348,-0.6798626648299001\",\"geometry\":{\"type\":\"Polygon\",\"coordinates\":[[[52.22727271772728,-36.89081409263251],[52.90909090090909,-36.57533347919717],[52.90909090090909,-35.940494058394584],[52.22727271772728,-35.62114425423612],[51.545454534545456,-35.940494058394584],[51.545454534545456,-36.57533347919717],[52.22727271772728,-36.89081409263251]]]}},{\"type\":\"Feature\",\"id\":\"0.911537868261348,-0.6386399519239496\",\"geometry\":{\"type\":\"Polygon\",\"coordinates\":[[[52.22727271772728,-34.97860829889037],[52.90909090090909,-34.65543222216165],[52.90909090090909,-34.005290416769625],[52.22727271772728,-33.678335855357275],[51.545454534545456,-34.005290416769625],[51.545454534545456,-34.65543222216165],[52.22727271772728,-34.97860829889037]]]}},{\"type\":\"Feature\",\"id\":\"0.911537868261348,-0.5974172390179993\",\"geometry\":{\"type\":\"Polygon\",\"coordinates\":[[[52.22727271772728,-33.02068871801436],[52.90909090090909,-32.69000842137049],[52.90909090090909,-32.024966476816466],[52.22727271772728,-31.690618236956208],[51.545454534545456,-32.024966476816466],[51.545454534545456,-32.69000842137049],[52.22727271772728,-33.02068871801436]]]}},{\"type\":\"Feature\",\"id\":\"0.911537868261348,-0.5561945261120489\",\"geometry\":{\"type\":\"Polygon\",\"coordinates\":[[[52.22727271772728,-31.018302166979456],[52.90909090090909,-30.680348887673055],[52.90909090090909,-30.0008896569427],[52.22727271772728,-29.659399410144857],[51.545454534545456,-30.0008896569427],[51.545454534545456,-30.680348887673055],[52.22727271772728,-31.018302166979456]]]}},{\"type\":\"Feature\",\"id\":\"0.911537868261348,-0.5149718132060985\",\"geometry\":{\"type\":\"Polygon\",\"coordinates\":[[[52.22727271772728,-28.97293836557683],[52.90909090090909,-28.62798443415905],[52.90909090090909,-27.934673375977997],[52.22727271772728,-27.586334281862243],[51.545454534545456,-27.934673375977997],[51.545454534545456,-28.62798443415905],[52.22727271772728,-28.97293836557683]]]}},{\"type\":\"Feature\",\"id\":\"0.911537868261348,-0.4737491003001482\",\"geometry\":{\"type\":\"Polygon\",\"coordinates\":[[[52.22727271772728,-26.8863355045969],[52.90909090090909,-26.534695021431894],[52.90909090090909,-25.828181323177716],[52.22727271772728,-25.473328472753064],[51.545454534545456,-25.828181323177716],[51.545454534545456,-26.534695021431894],[52.22727271772728,-26.8863355045969]]]}},{\"type\":\"Feature\",\"id\":\"0.911537868261348,-0.43252638739419785\",\"geometry\":{\"type\":\"Polygon\",\"coordinates\":[[[52.22727271772728,-24.760483131153798],[52.90909090090909,-24.40251216281074],[52.90909090090909,-23.683528876349666],[52.22727271772728,-23.322539228722555],[51.545454534545456,-23.683528876349666],[51.545454534545456,-24.40251216281074],[52.22727271772728,-24.760483131153798]]]}},{\"type\":\"Feature\",\"id\":\"0.911537868261348,-0.39130367448824743\",\"geometry\":{\"type\":\"Polygon\",\"coordinates\":[[[52.22727271772728,-22.597622022074045],[52.90909090090909,-22.23371826658171],[52.90909090090909,-21.503081358955768],[52.22727271772728,-21.13637312455803],[51.545454534545456,-21.503081358955768],[51.545454534545456,-22.23371826658171],[52.22727271772728,-22.597622022074045]]]}},{\"type\":\"Feature\",\"id\":\"0.911537868261348,-0.35008096158229707\",\"geometry\":{\"type\":\"Polygon\",\"coordinates\":[[[52.22727271772728,-20.400240760170597],[52.90909090090909,-20.030842639010405],[52.90909090090909,-19.289448879034072],[52.22727271772728,-18.917480312700423],[51.545454534545456,-19.289448879034072],[51.545454534545456,-20.030842639010405],[52.22727271772728,-20.400240760170597]]]}},{\"type\":\"Feature\",\"id\":\"0.911537868261348,-0.3088582486763467\",\"geometry\":{\"type\":\"Polygon\",\"coordinates\":[[[52.22727271772728,-18.17106878828689],[52.90909090090909,-17.7966539345571],[52.90909090090909,-17.04547756077712],[52.22727271772728,-16.668745140827017],[51.545454534545456,-17.04547756077712],[51.545454534545456,-17.7966539345571],[52.22727271772728,-18.17106878828689]]]}},{\"type\":\"Feature\",\"id\":\"0.911537868261348,-0.26763553577039634\",\"geometry\":{\"type\":\"Polygon\",\"coordinates\":[[[52.22727271772728,-15.91306579164077],[52.90909090090909,-15.534148917848238],[52.90909090090909,-14.774237062497322],[52.22727271772728,-14.393273047106062],[51.545454534545456,-14.774237062497322],[51.545454534545456,-15.534148917848238],[52.22727271772728,-15.91306579164077]]]}},{\"type\":\"Feature\",\"id\":\"0.911537868261348,-0.22641282286444597\",\"geometry\":{\"type\":\"Polygon\",\"coordinates\":[[[52.22727271772728,-13.629407348605179],[52.90909090090909,-13.246537493660302],[52.90909090090909,-12.479004370358245],[52.22727271772728,-12.094373739472207],[51.545454534545456,-12.479004370358245],[51.545454534545456,-13.246537493660302],[52.22727271772728,-13.629407348605179]]]}},{\"type\":\"Feature\",\"id\":\"0.911537868261348,-0.1851901099584956\",\"geometry\":{\"type\":\"Polygon\",\"coordinates\":[[[52.22727271772728,-11.323466890945843],[52.90909090090909,-10.937224063599297],[52.90909090090909,-10.163243962436015],[52.22727271772728,-9.775540771664078],[51.545454534545456,-10.163243962436015],[51.545454534545456,-10.937224063599297],[52.22727271772728,-11.323466890945843]]]}},{\"type\":\"Feature\",\"id\":\"0.911537868261348,-0.10274468414659488\",\"geometry\":{\"type\":\"Polygon\",\"coordinates\":[[[52.22727271772728,-6.659090160468774],[52.90909090090909,-6.267945158391975],[52.90909090090909,-5.484792699527005],[52.22727271772728,-5.092821433170325],[51.545454534545456,-5.484792699527005],[51.545454534545456,-6.267945158391975],[52.22727271772728,-6.659090160468774]]]}},{\"type\":\"Feature\",\"id\":\"0.911537868261348,-0.06152197124064451\",\"geometry\":{\"type\":\"Polygon\",\"coordinates\":[[[52.22727271772728,-4.308179759293602],[52.90909090090909,-3.9155458900200393],[52.90909090090909,-3.1297437948759796],[52.22727271772728,-2.7366123793771684],[51.545454534545456,-3.1297437948759796],[51.545454534545456,-3.9155458900200393],[52.22727271772728,-4.308179759293602]]]}},{\"type\":\"Feature\",\"id\":\"0.935337812654325,-0.8859762293596519\",\"geometry\":{\"type\":\"Polygon\",\"coordinates\":[[[53.5909090840909,-45.738355210739094],[54.27272726727273,-45.46293819064564],[54.27272726727273,-44.90804775470793],[53.5909090840909,-44.62857416958301],[52.90909090090909,-44.90804775470793],[52.90909090090909,-45.46293819064564],[53.5909090840909,-45.738355210739094]]]}},{\"type\":\"Feature\",\"id\":\"0.935337812654325,-0.8035308035477512\",\"geometry\":{\"type\":\"Polygon\",\"coordinates\":[[[53.5909090840909,-42.344145034800086],[54.27272726727273,-42.0525219941646],[54.27272726727273,-41.46524208454954],[53.5909090840909,-41.16958834542567],[52.90909090090909,-41.46524208454954],[52.90909090090909,-42.0525219941646],[53.5909090840909,-42.344145034800086]]]}},{\"type\":\"Feature\",\"id\":\"0.935337812654325,-0.7623080906418008\",\"geometry\":{\"type\":\"Polygon\",\"coordinates\":[[[53.5909090840909,-40.57426224611941],[54.27272726727273,-40.274593921456685],[54.27272726727273,-39.67125797273608],[53.5909090840909,-39.36759532075098],[52.90909090090909,-39.67125797273608],[52.90909090090909,-40.274593921456685],[53.5909090840909,-40.57426224611941]]]}},{\"type\":\"Feature\",\"id\":\"0.935337812654325,-0.7210853777358505\",\"geometry\":{\"type\":\"Polygon\",\"coordinates\":[[[53.5909090840909,-38.756294291171216],[54.27272726727273,-38.448661852041546],[54.27272726727273,-37.82944920685779],[53.5909090840909,-37.517875934254796],[52.90909090090909,-37.82944920685779],[52.90909090090909,-38.448661852041546],[53.5909090840909,-38.756294291171216]]]}},{\"type\":\"Feature\",\"id\":\"0.935337812654325,-0.6798626648299001\",\"geometry\":{\"type\":\"Polygon\",\"coordinates\":[[[53.5909090840909,-36.89081409263251],[54.27272726727273,-36.57533347919717],[54.27272726727273,-35.940494058394584],[53.5909090840909,-35.62114425423612],[52.90909090090909,-35.940494058394584],[52.90909090090909,-36.57533347919717],[53.5909090840909,-36.89081409263251]]]}},{\"type\":\"Feature\",\"id\":\"0.935337812654325,-0.6386399519239496\",\"geometry\":{\"type\":\"Polygon\",\"coordinates\":[[[53.5909090840909,-34.97860829889037],[54.27272726727273,-34.65543222216165],[54.27272726727273,-34.005290416769625],[53.5909090840909,-33.678335855357275],[52.90909090090909,-34.005290416769625],[52.90909090090909,-34.65543222216165],[53.5909090840909,-34.97860829889037]]]}},{\"type\":\"Feature\",\"id\":\"0.935337812654325,-0.5974172390179993\",\"geometry\":{\"type\":\"Polygon\",\"coordinates\":[[[53.5909090840909,-33.02068871801436],[54.27272726727273,-32.69000842137049],[54.27272726727273,-32.024966476816466],[53.5909090840909,-31.690618236956208],[52.90909090090909,-32.024966476816466],[52.90909090090909,-32.69000842137049],[53.5909090840909,-33.02068871801436]]]}},{\"type\":\"Feature\",\"id\":\"0.935337812654325,-0.5561945261120489\",\"geometry\":{\"type\":\"Polygon\",\"coordinates\":[[[53.5909090840909,-31.018302166979456],[54.27272726727273,-30.680348887673055],[54.27272726727273,-30.0008896569427],[53.5909090840909,-29.659399410144857],[52.90909090090909,-30.0008896569427],[52.90909090090909,-30.680348887673055],[53.5909090840909,-31.018302166979456]]]}},{\"type\":\"Feature\",\"id\":\"0.935337812654325,-0.5149718132060985\",\"geometry\":{\"type\":\"Polygon\",\"coordinates\":[[[53.5909090840909,-28.97293836557683],[54.27272726727273,-28.62798443415905],[54.27272726727273,-27.934673375977997],[53.5909090840909,-27.586334281862243],[52.90909090090909,-27.934673375977997],[52.90909090090909,-28.62798443415905],[53.5909090840909,-28.97293836557683]]]}},{\"type\":\"Feature\",\"id\":\"0.935337812654325,-0.4737491003001482\",\"geometry\":{\"type\":\"Polygon\",\"coordinates\":[[[53.5909090840909,-26.8863355045969],[54.27272726727273,-26.534695021431894],[54.27272726727273,-25.828181323177716],[53.5909090840909,-25.473328472753064],[52.90909090090909,-25.828181323177716],[52.90909090090909,-26.534695021431894],[53.5909090840909,-26.8863355045969]]]}},{\"type\":\"Feature\",\"id\":\"0.935337812654325,-0.43252638739419785\",\"geometry\":{\"type\":\"Polygon\",\"coordinates\":[[[53.5909090840909,-24.760483131153798],[54.27272726727273,-24.40251216281074],[54.27272726727273,-23.683528876349666],[53.5909090840909,-23.322539228722555],[52.90909090090909,-23.683528876349666],[52.90909090090909,-24.40251216281074],[53.5909090840909,-24.760483131153798]]]}},{\"type\":\"Feature\",\"id\":\"0.935337812654325,-0.39130367448824743\",\"geometry\":{\"type\":\"Polygon\",\"coordinates\":[[[53.5909090840909,-22.597622022074045],[54.27272726727273,-22.23371826658171],[54.27272726727273,-21.503081358955768],[53.5909090840909,-21.13637312455803],[52.90909090090909,-21.503081358955768],[52.90909090090909,-22.23371826658171],[53.5909090840909,-22.597622022074045]]]}},{\"type\":\"Feature\",\"id\":\"0.935337812654325,-0.35008096158229707\",\"geometry\":{\"type\":\"Polygon\",\"coordinates\":[[[53.5909090840909,-20.400240760170597],[54.27272726727273,-20.030842639010405],[54.27272726727273,-19.289448879034072],[53.5909090840909,-18.917480312700423],[52.90909090090909,-19.289448879034072],[52.90909090090909,-20.030842639010405],[53.5909090840909,-20.400240760170597]]]}},{\"type\":\"Feature\",\"id\":\"0.935337812654325,-0.3088582486763467\",\"geometry\":{\"type\":\"Polygon\",\"coordinates\":[[[53.5909090840909,-18.17106878828689],[54.27272726727273,-17.7966539345571],[54.27272726727273,-17.04547756077712],[53.5909090840909,-16.668745140827017],[52.90909090090909,-17.04547756077712],[52.90909090090909,-17.7966539345571],[53.5909090840909,-18.17106878828689]]]}},{\"type\":\"Feature\",\"id\":\"0.935337812654325,-0.26763553577039634\",\"geometry\":{\"type\":\"Polygon\",\"coordinates\":[[[53.5909090840909,-15.91306579164077],[54.27272726727273,-15.534148917848238],[54.27272726727273,-14.774237062497322],[53.5909090840909,-14.393273047106062],[52.90909090090909,-14.774237062497322],[52.90909090090909,-15.534148917848238],[53.5909090840909,-15.91306579164077]]]}},{\"type\":\"Feature\",\"id\":\"0.935337812654325,-0.22641282286444597\",\"geometry\":{\"type\":\"Polygon\",\"coordinates\":[[[53.5909090840909,-13.629407348605179],[54.27272726727273,-13.246537493660302],[54.27272726727273,-12.479004370358245],[53.5909090840909,-12.094373739472207],[52.90909090090909,-12.479004370358245],[52.90909090090909,-13.246537493660302],[53.5909090840909,-13.629407348605179]]]}},{\"type\":\"Feature\",\"id\":\"0.9591377570473021,-0.8447535164537016\",\"geometry\":{\"type\":\"Polygon\",\"coordinates\":[[[54.95454545045454,-44.06557080109546],[55.636363633636364,-43.782041623674104],[55.636363633636364,-43.21093079831662],[54.95454545045454,-42.92335056484793],[54.27272726727273,-43.21093079831662],[54.27272726727273,-43.782041623674104],[54.95454545045454,-44.06557080109546]]]}},{\"type\":\"Feature\",\"id\":\"0.9591377570473021,-0.8035308035477512\",\"geometry\":{\"type\":\"Polygon\",\"coordinates\":[[[54.95454545045454,-42.344145034800086],[55.636363633636364,-42.0525219941646],[55.636363633636364,-41.46524208454954],[54.95454545045454,-41.16958834542567],[54.27272726727273,-41.46524208454954],[54.27272726727273,-42.0525219941646],[54.95454545045454,-42.344145034800086]]]}},{\"type\":\"Feature\",\"id\":\"0.9591377570473021,-0.7623080906418008\",\"geometry\":{\"type\":\"Polygon\",\"coordinates\":[[[54.95454545045454,-40.57426224611941],[55.636363633636364,-40.274593921456685],[55.636363633636364,-39.67125797273608],[54.95454545045454,-39.36759532075098],[54.27272726727273,-39.67125797273608],[54.27272726727273,-40.274593921456685],[54.95454545045454,-40.57426224611941]]]}},{\"type\":\"Feature\",\"id\":\"0.9591377570473021,-0.7210853777358505\",\"geometry\":{\"type\":\"Polygon\",\"coordinates\":[[[54.95454545045454,-38.756294291171216],[55.636363633636364,-38.448661852041546],[55.636363633636364,-37.82944920685779],[54.95454545045454,-37.517875934254796],[54.27272726727273,-37.82944920685779],[54.27272726727273,-38.448661852041546],[54.95454545045454,-38.756294291171216]]]}},{\"type\":\"Feature\",\"id\":\"0.9591377570473021,-0.6798626648299001\",\"geometry\":{\"type\":\"Polygon\",\"coordinates\":[[[54.95454545045454,-36.89081409263251],[55.636363633636364,-36.57533347919717],[55.636363633636364,-35.940494058394584],[54.95454545045454,-35.62114425423612],[54.27272726727273,-35.940494058394584],[54.27272726727273,-36.57533347919717],[54.95454545045454,-36.89081409263251]]]}},{\"type\":\"Feature\",\"id\":\"0.9591377570473021,-0.6386399519239496\",\"geometry\":{\"type\":\"Polygon\",\"coordinates\":[[[54.95454545045454,-34.97860829889037],[55.636363633636364,-34.65543222216165],[55.636363633636364,-34.005290416769625],[54.95454545045454,-33.678335855357275],[54.27272726727273,-34.005290416769625],[54.27272726727273,-34.65543222216165],[54.95454545045454,-34.97860829889037]]]}},{\"type\":\"Feature\",\"id\":\"0.9591377570473021,-0.5974172390179993\",\"geometry\":{\"type\":\"Polygon\",\"coordinates\":[[[54.95454545045454,-33.02068871801436],[55.636363633636364,-32.69000842137049],[55.636363633636364,-32.024966476816466],[54.95454545045454,-31.690618236956208],[54.27272726727273,-32.024966476816466],[54.27272726727273,-32.69000842137049],[54.95454545045454,-33.02068871801436]]]}},{\"type\":\"Feature\",\"id\":\"0.9591377570473021,-0.5561945261120489\",\"geometry\":{\"type\":\"Polygon\",\"coordinates\":[[[54.95454545045454,-31.018302166979456],[55.636363633636364,-30.680348887673055],[55.636363633636364,-30.0008896569427],[54.95454545045454,-29.659399410144857],[54.27272726727273,-30.0008896569427],[54.27272726727273,-30.680348887673055],[54.95454545045454,-31.018302166979456]]]}},{\"type\":\"Feature\",\"id\":\"0.9591377570473021,-0.5149718132060985\",\"geometry\":{\"type\":\"Polygon\",\"coordinates\":[[[54.95454545045454,-28.97293836557683],[55.636363633636364,-28.62798443415905],[55.636363633636364,-27.934673375977997],[54.95454545045454,-27.586334281862243],[54.27272726727273,-27.934673375977997],[54.27272726727273,-28.62798443415905],[54.95454545045454,-28.97293836557683]]]}},{\"type\":\"Feature\",\"id\":\"0.9591377570473021,-0.4737491003001482\",\"geometry\":{\"type\":\"Polygon\",\"coordinates\":[[[54.95454545045454,-26.8863355045969],[55.636363633636364,-26.534695021431894],[55.636363633636364,-25.828181323177716],[54.95454545045454,-25.473328472753064],[54.27272726727273,-25.828181323177716],[54.27272726727273,-26.534695021431894],[54.95454545045454,-26.8863355045969]]]}},{\"type\":\"Feature\",\"id\":\"0.9591377570473021,-0.43252638739419785\",\"geometry\":{\"type\":\"Polygon\",\"coordinates\":[[[54.95454545045454,-24.760483131153798],[55.636363633636364,-24.40251216281074],[55.636363633636364,-23.683528876349666],[54.95454545045454,-23.322539228722555],[54.27272726727273,-23.683528876349666],[54.27272726727273,-24.40251216281074],[54.95454545045454,-24.760483131153798]]]}},{\"type\":\"Feature\",\"id\":\"0.9591377570473021,-0.39130367448824743\",\"geometry\":{\"type\":\"Polygon\",\"coordinates\":[[[54.95454545045454,-22.597622022074045],[55.636363633636364,-22.23371826658171],[55.636363633636364,-21.503081358955768],[54.95454545045454,-21.13637312455803],[54.27272726727273,-21.503081358955768],[54.27272726727273,-22.23371826658171],[54.95454545045454,-22.597622022074045]]]}},{\"type\":\"Feature\",\"id\":\"0.9591377570473021,-0.35008096158229707\",\"geometry\":{\"type\":\"Polygon\",\"coordinates\":[[[54.95454545045454,-20.400240760170597],[55.636363633636364,-20.030842639010405],[55.636363633636364,-19.289448879034072],[54.95454545045454,-18.917480312700423],[54.27272726727273,-19.289448879034072],[54.27272726727273,-20.030842639010405],[54.95454545045454,-20.400240760170597]]]}},{\"type\":\"Feature\",\"id\":\"0.9591377570473021,-0.3088582486763467\",\"geometry\":{\"type\":\"Polygon\",\"coordinates\":[[[54.95454545045454,-18.17106878828689],[55.636363633636364,-17.7966539345571],[55.636363633636364,-17.04547756077712],[54.95454545045454,-16.668745140827017],[54.27272726727273,-17.04547756077712],[54.27272726727273,-17.7966539345571],[54.95454545045454,-18.17106878828689]]]}},{\"type\":\"Feature\",\"id\":\"0.9591377570473021,-0.26763553577039634\",\"geometry\":{\"type\":\"Polygon\",\"coordinates\":[[[54.95454545045454,-15.91306579164077],[55.636363633636364,-15.534148917848238],[55.636363633636364,-14.774237062497322],[54.95454545045454,-14.393273047106062],[54.27272726727273,-14.774237062497322],[54.27272726727273,-15.534148917848238],[54.95454545045454,-15.91306579164077]]]}},{\"type\":\"Feature\",\"id\":\"0.9591377570473021,-0.22641282286444597\",\"geometry\":{\"type\":\"Polygon\",\"coordinates\":[[[54.95454545045454,-13.629407348605179],[55.636363633636364,-13.246537493660302],[55.636363633636364,-12.479004370358245],[54.95454545045454,-12.094373739472207],[54.27272726727273,-12.479004370358245],[54.27272726727273,-13.246537493660302],[54.95454545045454,-13.629407348605179]]]}},{\"type\":\"Feature\",\"id\":\"0.9829377014402793,-0.8035308035477512\",\"geometry\":{\"type\":\"Polygon\",\"coordinates\":[[[56.31818181681818,-42.344145034800086],[57.0,-42.0525219941646],[57.0,-41.46524208454954],[56.31818181681818,-41.16958834542567],[55.636363633636364,-41.46524208454954],[55.636363633636364,-42.0525219941646],[56.31818181681818,-42.344145034800086]]]}},{\"type\":\"Feature\",\"id\":\"0.9829377014402793,-0.7623080906418008\",\"geometry\":{\"type\":\"Polygon\",\"coordinates\":[[[56.31818181681818,-40.57426224611941],[57.0,-40.274593921456685],[57.0,-39.67125797273608],[56.31818181681818,-39.36759532075098],[55.636363633636364,-39.67125797273608],[55.636363633636364,-40.274593921456685],[56.31818181681818,-40.57426224611941]]]}},{\"type\":\"Feature\",\"id\":\"0.9829377014402793,-0.7210853777358505\",\"geometry\":{\"type\":\"Polygon\",\"coordinates\":[[[56.31818181681818,-38.756294291171216],[57.0,-38.448661852041546],[57.0,-37.82944920685779],[56.31818181681818,-37.517875934254796],[55.636363633636364,-37.82944920685779],[55.636363633636364,-38.448661852041546],[56.31818181681818,-38.756294291171216]]]}},{\"type\":\"Feature\",\"id\":\"0.9829377014402793,-0.6798626648299001\",\"geometry\":{\"type\":\"Polygon\",\"coordinates\":[[[56.31818181681818,-36.89081409263251],[57.0,-36.57533347919717],[57.0,-35.940494058394584],[56.31818181681818,-35.62114425423612],[55.636363633636364,-35.940494058394584],[55.636363633636364,-36.57533347919717],[56.31818181681818,-36.89081409263251]]]}},{\"type\":\"Feature\",\"id\":\"0.9829377014402793,-0.6386399519239496\",\"geometry\":{\"type\":\"Polygon\",\"coordinates\":[[[56.31818181681818,-34.97860829889037],[57.0,-34.65543222216165],[57.0,-34.005290416769625],[56.31818181681818,-33.678335855357275],[55.636363633636364,-34.005290416769625],[55.636363633636364,-34.65543222216165],[56.31818181681818,-34.97860829889037]]]}},{\"type\":\"Feature\",\"id\":\"0.9829377014402793,-0.5974172390179993\",\"geometry\":{\"type\":\"Polygon\",\"coordinates\":[[[56.31818181681818,-33.02068871801436],[57.0,-32.69000842137049],[57.0,-32.024966476816466],[56.31818181681818,-31.690618236956208],[55.636363633636364,-32.024966476816466],[55.636363633636364,-32.69000842137049],[56.31818181681818,-33.02068871801436]]]}},{\"type\":\"Feature\",\"id\":\"0.9829377014402793,-0.5561945261120489\",\"geometry\":{\"type\":\"Polygon\",\"coordinates\":[[[56.31818181681818,-31.018302166979456],[57.0,-30.680348887673055],[57.0,-30.0008896569427],[56.31818181681818,-29.659399410144857],[55.636363633636364,-30.0008896569427],[55.636363633636364,-30.680348887673055],[56.31818181681818,-31.018302166979456]]]}},{\"type\":\"Feature\",\"id\":\"0.9829377014402793,-0.5149718132060985\",\"geometry\":{\"type\":\"Polygon\",\"coordinates\":[[[56.31818181681818,-28.97293836557683],[57.0,-28.62798443415905],[57.0,-27.934673375977997],[56.31818181681818,-27.586334281862243],[55.636363633636364,-27.934673375977997],[55.636363633636364,-28.62798443415905],[56.31818181681818,-28.97293836557683]]]}},{\"type\":\"Feature\",\"id\":\"0.9829377014402793,-0.4737491003001482\",\"geometry\":{\"type\":\"Polygon\",\"coordinates\":[[[56.31818181681818,-26.8863355045969],[57.0,-26.534695021431894],[57.0,-25.828181323177716],[56.31818181681818,-25.473328472753064],[55.636363633636364,-25.828181323177716],[55.636363633636364,-26.534695021431894],[56.31818181681818,-26.8863355045969]]]}},{\"type\":\"Feature\",\"id\":\"0.9829377014402793,-0.43252638739419785\",\"geometry\":{\"type\":\"Polygon\",\"coordinates\":[[[56.31818181681818,-24.760483131153798],[57.0,-24.40251216281074],[57.0,-23.683528876349666],[56.31818181681818,-23.322539228722555],[55.636363633636364,-23.683528876349666],[55.636363633636364,-24.40251216281074],[56.31818181681818,-24.760483131153798]]]}},{\"type\":\"Feature\",\"id\":\"0.9829377014402793,-0.39130367448824743\",\"geometry\":{\"type\":\"Polygon\",\"coordinates\":[[[56.31818181681818,-22.597622022074045],[57.0,-22.23371826658171],[57.0,-21.503081358955768],[56.31818181681818,-21.13637312455803],[55.636363633636364,-21.503081358955768],[55.636363633636364,-22.23371826658171],[56.31818181681818,-22.597622022074045]]]}},{\"type\":\"Feature\",\"id\":\"0.9829377014402793,-0.35008096158229707\",\"geometry\":{\"type\":\"Polygon\",\"coordinates\":[[[56.31818181681818,-20.400240760170597],[57.0,-20.030842639010405],[57.0,-19.289448879034072],[56.31818181681818,-18.917480312700423],[55.636363633636364,-19.289448879034072],[55.636363633636364,-20.030842639010405],[56.31818181681818,-20.400240760170597]]]}},{\"type\":\"Feature\",\"id\":\"0.9829377014402793,-0.3088582486763467\",\"geometry\":{\"type\":\"Polygon\",\"coordinates\":[[[56.31818181681818,-18.17106878828689],[57.0,-17.7966539345571],[57.0,-17.04547756077712],[56.31818181681818,-16.668745140827017],[55.636363633636364,-17.04547756077712],[55.636363633636364,-17.7966539345571],[56.31818181681818,-18.17106878828689]]]}},{\"type\":\"Feature\",\"id\":\"0.9829377014402793,-0.26763553577039634\",\"geometry\":{\"type\":\"Polygon\",\"coordinates\":[[[56.31818181681818,-15.91306579164077],[57.0,-15.534148917848238],[57.0,-14.774237062497322],[56.31818181681818,-14.393273047106062],[55.636363633636364,-14.774237062497322],[55.636363633636364,-15.534148917848238],[56.31818181681818,-15.91306579164077]]]}},{\"type\":\"Feature\",\"id\":\"0.9829377014402793,-0.22641282286444597\",\"geometry\":{\"type\":\"Polygon\",\"coordinates\":[[[56.31818181681818,-13.629407348605179],[57.0,-13.246537493660302],[57.0,-12.479004370358245],[56.31818181681818,-12.094373739472207],[55.636363633636364,-12.479004370358245],[55.636363633636364,-13.246537493660302],[56.31818181681818,-13.629407348605179]]]}},{\"type\":\"Feature\",\"id\":\"1.0067376458332564,-0.8035308035477512\",\"geometry\":{\"type\":\"Polygon\",\"coordinates\":[[[57.68181818318182,-42.344145034800086],[58.36363636636364,-42.0525219941646],[58.36363636636364,-41.46524208454954],[57.68181818318182,-41.16958834542567],[57.00000000000001,-41.46524208454954],[57.00000000000001,-42.0525219941646],[57.68181818318182,-42.344145034800086]]]}},{\"type\":\"Feature\",\"id\":\"1.0067376458332564,-0.7623080906418008\",\"geometry\":{\"type\":\"Polygon\",\"coordinates\":[[[57.68181818318182,-40.57426224611941],[58.36363636636364,-40.274593921456685],[58.36363636636364,-39.67125797273608],[57.68181818318182,-39.36759532075098],[57.00000000000001,-39.67125797273608],[57.00000000000001,-40.274593921456685],[57.68181818318182,-40.57426224611941]]]}},{\"type\":\"Feature\",\"id\":\"1.0067376458332564,-0.7210853777358505\",\"geometry\":{\"type\":\"Polygon\",\"coordinates\":[[[57.68181818318182,-38.756294291171216],[58.36363636636364,-38.448661852041546],[58.36363636636364,-37.82944920685779],[57.68181818318182,-37.517875934254796],[57.00000000000001,-37.82944920685779],[57.00000000000001,-38.448661852041546],[57.68181818318182,-38.756294291171216]]]}},{\"type\":\"Feature\",\"id\":\"1.0067376458332564,-0.6798626648299001\",\"geometry\":{\"type\":\"Polygon\",\"coordinates\":[[[57.68181818318182,-36.89081409263251],[58.36363636636364,-36.57533347919717],[58.36363636636364,-35.940494058394584],[57.68181818318182,-35.62114425423612],[57.00000000000001,-35.940494058394584],[57.00000000000001,-36.57533347919717],[57.68181818318182,-36.89081409263251]]]}},{\"type\":\"Feature\",\"id\":\"1.0067376458332564,-0.6386399519239496\",\"geometry\":{\"type\":\"Polygon\",\"coordinates\":[[[57.68181818318182,-34.97860829889037],[58.36363636636364,-34.65543222216165],[58.36363636636364,-34.005290416769625],[57.68181818318182,-33.678335855357275],[57.00000000000001,-34.005290416769625],[57.00000000000001,-34.65543222216165],[57.68181818318182,-34.97860829889037]]]}},{\"type\":\"Feature\",\"id\":\"1.0067376458332564,-0.5974172390179993\",\"geometry\":{\"type\":\"Polygon\",\"coordinates\":[[[57.68181818318182,-33.02068871801436],[58.36363636636364,-32.69000842137049],[58.36363636636364,-32.024966476816466],[57.68181818318182,-31.690618236956208],[57.00000000000001,-32.024966476816466],[57.00000000000001,-32.69000842137049],[57.68181818318182,-33.02068871801436]]]}},{\"type\":\"Feature\",\"id\":\"1.0067376458332564,-0.5561945261120489\",\"geometry\":{\"type\":\"Polygon\",\"coordinates\":[[[57.68181818318182,-31.018302166979456],[58.36363636636364,-30.680348887673055],[58.36363636636364,-30.0008896569427],[57.68181818318182,-29.659399410144857],[57.00000000000001,-30.0008896569427],[57.00000000000001,-30.680348887673055],[57.68181818318182,-31.018302166979456]]]}},{\"type\":\"Feature\",\"id\":\"1.0067376458332564,-0.5149718132060985\",\"geometry\":{\"type\":\"Polygon\",\"coordinates\":[[[57.68181818318182,-28.97293836557683],[58.36363636636364,-28.62798443415905],[58.36363636636364,-27.934673375977997],[57.68181818318182,-27.586334281862243],[57.00000000000001,-27.934673375977997],[57.00000000000001,-28.62798443415905],[57.68181818318182,-28.97293836557683]]]}},{\"type\":\"Feature\",\"id\":\"1.0067376458332564,-0.4737491003001482\",\"geometry\":{\"type\":\"Polygon\",\"coordinates\":[[[57.68181818318182,-26.8863355045969],[58.36363636636364,-26.534695021431894],[58.36363636636364,-25.828181323177716],[57.68181818318182,-25.473328472753064],[57.00000000000001,-25.828181323177716],[57.00000000000001,-26.534695021431894],[57.68181818318182,-26.8863355045969]]]}},{\"type\":\"Feature\",\"id\":\"1.0067376458332564,-0.43252638739419785\",\"geometry\":{\"type\":\"Polygon\",\"coordinates\":[[[57.68181818318182,-24.760483131153798],[58.36363636636364,-24.40251216281074],[58.36363636636364,-23.683528876349666],[57.68181818318182,-23.322539228722555],[57.00000000000001,-23.683528876349666],[57.00000000000001,-24.40251216281074],[57.68181818318182,-24.760483131153798]]]}},{\"type\":\"Feature\",\"id\":\"1.0067376458332564,-0.39130367448824743\",\"geometry\":{\"type\":\"Polygon\",\"coordinates\":[[[57.68181818318182,-22.597622022074045],[58.36363636636364,-22.23371826658171],[58.36363636636364,-21.503081358955768],[57.68181818318182,-21.13637312455803],[57.00000000000001,-21.503081358955768],[57.00000000000001,-22.23371826658171],[57.68181818318182,-22.597622022074045]]]}},{\"type\":\"Feature\",\"id\":\"1.0067376458332564,-0.35008096158229707\",\"geometry\":{\"type\":\"Polygon\",\"coordinates\":[[[57.68181818318182,-20.400240760170597],[58.36363636636364,-20.030842639010405],[58.36363636636364,-19.289448879034072],[57.68181818318182,-18.917480312700423],[57.00000000000001,-19.289448879034072],[57.00000000000001,-20.030842639010405],[57.68181818318182,-20.400240760170597]]]}},{\"type\":\"Feature\",\"id\":\"1.0067376458332564,-0.3088582486763467\",\"geometry\":{\"type\":\"Polygon\",\"coordinates\":[[[57.68181818318182,-18.17106878828689],[58.36363636636364,-17.7966539345571],[58.36363636636364,-17.04547756077712],[57.68181818318182,-16.668745140827017],[57.00000000000001,-17.04547756077712],[57.00000000000001,-17.7966539345571],[57.68181818318182,-18.17106878828689]]]}},{\"type\":\"Feature\",\"id\":\"1.0067376458332564,-0.26763553577039634\",\"geometry\":{\"type\":\"Polygon\",\"coordinates\":[[[57.68181818318182,-15.91306579164077],[58.36363636636364,-15.534148917848238],[58.36363636636364,-14.774237062497322],[57.68181818318182,-14.393273047106062],[57.00000000000001,-14.774237062497322],[57.00000000000001,-15.534148917848238],[57.68181818318182,-15.91306579164077]]]}},{\"type\":\"Feature\",\"id\":\"1.0305375902262335,-0.8447535164537016\",\"geometry\":{\"type\":\"Polygon\",\"coordinates\":[[[59.045454549545454,-44.06557080109546],[59.727272732727265,-43.782041623674104],[59.727272732727265,-43.21093079831662],[59.045454549545454,-42.92335056484793],[58.36363636636364,-43.21093079831662],[58.36363636636364,-43.782041623674104],[59.045454549545454,-44.06557080109546]]]}},{\"type\":\"Feature\",\"id\":\"1.0305375902262335,-0.8035308035477512\",\"geometry\":{\"type\":\"Polygon\",\"coordinates\":[[[59.045454549545454,-42.344145034800086],[59.727272732727265,-42.0525219941646],[59.727272732727265,-41.46524208454954],[59.045454549545454,-41.16958834542567],[58.36363636636364,-41.46524208454954],[58.36363636636364,-42.0525219941646],[59.045454549545454,-42.344145034800086]]]}},{\"type\":\"Feature\",\"id\":\"1.0305375902262335,-0.7623080906418008\",\"geometry\":{\"type\":\"Polygon\",\"coordinates\":[[[59.045454549545454,-40.57426224611941],[59.727272732727265,-40.274593921456685],[59.727272732727265,-39.67125797273608],[59.045454549545454,-39.36759532075098],[58.36363636636364,-39.67125797273608],[58.36363636636364,-40.274593921456685],[59.045454549545454,-40.57426224611941]]]}},{\"type\":\"Feature\",\"id\":\"1.0305375902262335,-0.7210853777358505\",\"geometry\":{\"type\":\"Polygon\",\"coordinates\":[[[59.045454549545454,-38.756294291171216],[59.727272732727265,-38.448661852041546],[59.727272732727265,-37.82944920685779],[59.045454549545454,-37.517875934254796],[58.36363636636364,-37.82944920685779],[58.36363636636364,-38.448661852041546],[59.045454549545454,-38.756294291171216]]]}},{\"type\":\"Feature\",\"id\":\"1.0305375902262335,-0.6798626648299001\",\"geometry\":{\"type\":\"Polygon\",\"coordinates\":[[[59.045454549545454,-36.89081409263251],[59.727272732727265,-36.57533347919717],[59.727272732727265,-35.940494058394584],[59.045454549545454,-35.62114425423612],[58.36363636636364,-35.940494058394584],[58.36363636636364,-36.57533347919717],[59.045454549545454,-36.89081409263251]]]}},{\"type\":\"Feature\",\"id\":\"1.0305375902262335,-0.6386399519239496\",\"geometry\":{\"type\":\"Polygon\",\"coordinates\":[[[59.045454549545454,-34.97860829889037],[59.727272732727265,-34.65543222216165],[59.727272732727265,-34.005290416769625],[59.045454549545454,-33.678335855357275],[58.36363636636364,-34.005290416769625],[58.36363636636364,-34.65543222216165],[59.045454549545454,-34.97860829889037]]]}},{\"type\":\"Feature\",\"id\":\"1.0305375902262335,-0.5974172390179993\",\"geometry\":{\"type\":\"Polygon\",\"coordinates\":[[[59.045454549545454,-33.02068871801436],[59.727272732727265,-32.69000842137049],[59.727272732727265,-32.024966476816466],[59.045454549545454,-31.690618236956208],[58.36363636636364,-32.024966476816466],[58.36363636636364,-32.69000842137049],[59.045454549545454,-33.02068871801436]]]}},{\"type\":\"Feature\",\"id\":\"1.0305375902262335,-0.5561945261120489\",\"geometry\":{\"type\":\"Polygon\",\"coordinates\":[[[59.045454549545454,-31.018302166979456],[59.727272732727265,-30.680348887673055],[59.727272732727265,-30.0008896569427],[59.045454549545454,-29.659399410144857],[58.36363636636364,-30.0008896569427],[58.36363636636364,-30.680348887673055],[59.045454549545454,-31.018302166979456]]]}},{\"type\":\"Feature\",\"id\":\"1.0305375902262335,-0.5149718132060985\",\"geometry\":{\"type\":\"Polygon\",\"coordinates\":[[[59.045454549545454,-28.97293836557683],[59.727272732727265,-28.62798443415905],[59.727272732727265,-27.934673375977997],[59.045454549545454,-27.586334281862243],[58.36363636636364,-27.934673375977997],[58.36363636636364,-28.62798443415905],[59.045454549545454,-28.97293836557683]]]}},{\"type\":\"Feature\",\"id\":\"1.0305375902262335,-0.4737491003001482\",\"geometry\":{\"type\":\"Polygon\",\"coordinates\":[[[59.045454549545454,-26.8863355045969],[59.727272732727265,-26.534695021431894],[59.727272732727265,-25.828181323177716],[59.045454549545454,-25.473328472753064],[58.36363636636364,-25.828181323177716],[58.36363636636364,-26.534695021431894],[59.045454549545454,-26.8863355045969]]]}},{\"type\":\"Feature\",\"id\":\"1.0305375902262335,-0.43252638739419785\",\"geometry\":{\"type\":\"Polygon\",\"coordinates\":[[[59.045454549545454,-24.760483131153798],[59.727272732727265,-24.40251216281074],[59.727272732727265,-23.683528876349666],[59.045454549545454,-23.322539228722555],[58.36363636636364,-23.683528876349666],[58.36363636636364,-24.40251216281074],[59.045454549545454,-24.760483131153798]]]}},{\"type\":\"Feature\",\"id\":\"1.0305375902262335,-0.39130367448824743\",\"geometry\":{\"type\":\"Polygon\",\"coordinates\":[[[59.045454549545454,-22.597622022074045],[59.727272732727265,-22.23371826658171],[59.727272732727265,-21.503081358955768],[59.045454549545454,-21.13637312455803],[58.36363636636364,-21.503081358955768],[58.36363636636364,-22.23371826658171],[59.045454549545454,-22.597622022074045]]]}},{\"type\":\"Feature\",\"id\":\"1.0305375902262335,-0.35008096158229707\",\"geometry\":{\"type\":\"Polygon\",\"coordinates\":[[[59.045454549545454,-20.400240760170597],[59.727272732727265,-20.030842639010405],[59.727272732727265,-19.289448879034072],[59.045454549545454,-18.917480312700423],[58.36363636636364,-19.289448879034072],[58.36363636636364,-20.030842639010405],[59.045454549545454,-20.400240760170597]]]}},{\"type\":\"Feature\",\"id\":\"1.0305375902262335,-0.3088582486763467\",\"geometry\":{\"type\":\"Polygon\",\"coordinates\":[[[59.045454549545454,-18.17106878828689],[59.727272732727265,-17.7966539345571],[59.727272732727265,-17.04547756077712],[59.045454549545454,-16.668745140827017],[58.36363636636364,-17.04547756077712],[58.36363636636364,-17.7966539345571],[59.045454549545454,-18.17106878828689]]]}},{\"type\":\"Feature\",\"id\":\"1.0543375346192105,-0.8035308035477512\",\"geometry\":{\"type\":\"Polygon\",\"coordinates\":[[[60.40909091590909,-42.344145034800086],[61.0909090990909,-42.0525219941646],[61.0909090990909,-41.46524208454954],[60.40909091590909,-41.16958834542567],[59.727272732727265,-41.46524208454954],[59.727272732727265,-42.0525219941646],[60.40909091590909,-42.344145034800086]]]}},{\"type\":\"Feature\",\"id\":\"1.0543375346192105,-0.7623080906418008\",\"geometry\":{\"type\":\"Polygon\",\"coordinates\":[[[60.40909091590909,-40.57426224611941],[61.0909090990909,-40.274593921456685],[61.0909090990909,-39.67125797273608],[60.40909091590909,-39.36759532075098],[59.727272732727265,-39.67125797273608],[59.727272732727265,-40.274593921456685],[60.40909091590909,-40.57426224611941]]]}},{\"type\":\"Feature\",\"id\":\"1.0543375346192105,-0.7210853777358505\",\"geometry\":{\"type\":\"Polygon\",\"coordinates\":[[[60.40909091590909,-38.756294291171216],[61.0909090990909,-38.448661852041546],[61.0909090990909,-37.82944920685779],[60.40909091590909,-37.517875934254796],[59.727272732727265,-37.82944920685779],[59.727272732727265,-38.448661852041546],[60.40909091590909,-38.756294291171216]]]}},{\"type\":\"Feature\",\"id\":\"1.0543375346192105,-0.6798626648299001\",\"geometry\":{\"type\":\"Polygon\",\"coordinates\":[[[60.40909091590909,-36.89081409263251],[61.0909090990909,-36.57533347919717],[61.0909090990909,-35.940494058394584],[60.40909091590909,-35.62114425423612],[59.727272732727265,-35.940494058394584],[59.727272732727265,-36.57533347919717],[60.40909091590909,-36.89081409263251]]]}},{\"type\":\"Feature\",\"id\":\"1.0543375346192105,-0.6386399519239496\",\"geometry\":{\"type\":\"Polygon\",\"coordinates\":[[[60.40909091590909,-34.97860829889037],[61.0909090990909,-34.65543222216165],[61.0909090990909,-34.005290416769625],[60.40909091590909,-33.678335855357275],[59.727272732727265,-34.005290416769625],[59.727272732727265,-34.65543222216165],[60.40909091590909,-34.97860829889037]]]}},{\"type\":\"Feature\",\"id\":\"1.0543375346192105,-0.5974172390179993\",\"geometry\":{\"type\":\"Polygon\",\"coordinates\":[[[60.40909091590909,-33.02068871801436],[61.0909090990909,-32.69000842137049],[61.0909090990909,-32.024966476816466],[60.40909091590909,-31.690618236956208],[59.727272732727265,-32.024966476816466],[59.727272732727265,-32.69000842137049],[60.40909091590909,-33.02068871801436]]]}},{\"type\":\"Feature\",\"id\":\"1.0543375346192105,-0.5561945261120489\",\"geometry\":{\"type\":\"Polygon\",\"coordinates\":[[[60.40909091590909,-31.018302166979456],[61.0909090990909,-30.680348887673055],[61.0909090990909,-30.0008896569427],[60.40909091590909,-29.659399410144857],[59.727272732727265,-30.0008896569427],[59.727272732727265,-30.680348887673055],[60.40909091590909,-31.018302166979456]]]}},{\"type\":\"Feature\",\"id\":\"1.0543375346192105,-0.5149718132060985\",\"geometry\":{\"type\":\"Polygon\",\"coordinates\":[[[60.40909091590909,-28.97293836557683],[61.0909090990909,-28.62798443415905],[61.0909090990909,-27.934673375977997],[60.40909091590909,-27.586334281862243],[59.727272732727265,-27.934673375977997],[59.727272732727265,-28.62798443415905],[60.40909091590909,-28.97293836557683]]]}},{\"type\":\"Feature\",\"id\":\"1.0543375346192105,-0.4737491003001482\",\"geometry\":{\"type\":\"Polygon\",\"coordinates\":[[[60.40909091590909,-26.8863355045969],[61.0909090990909,-26.534695021431894],[61.0909090990909,-25.828181323177716],[60.40909091590909,-25.473328472753064],[59.727272732727265,-25.828181323177716],[59.727272732727265,-26.534695021431894],[60.40909091590909,-26.8863355045969]]]}},{\"type\":\"Feature\",\"id\":\"1.0543375346192105,-0.43252638739419785\",\"geometry\":{\"type\":\"Polygon\",\"coordinates\":[[[60.40909091590909,-24.760483131153798],[61.0909090990909,-24.40251216281074],[61.0909090990909,-23.683528876349666],[60.40909091590909,-23.322539228722555],[59.727272732727265,-23.683528876349666],[59.727272732727265,-24.40251216281074],[60.40909091590909,-24.760483131153798]]]}},{\"type\":\"Feature\",\"id\":\"1.0543375346192105,-0.39130367448824743\",\"geometry\":{\"type\":\"Polygon\",\"coordinates\":[[[60.40909091590909,-22.597622022074045],[61.0909090990909,-22.23371826658171],[61.0909090990909,-21.503081358955768],[60.40909091590909,-21.13637312455803],[59.727272732727265,-21.503081358955768],[59.727272732727265,-22.23371826658171],[60.40909091590909,-22.597622022074045]]]}},{\"type\":\"Feature\",\"id\":\"1.0543375346192105,-0.35008096158229707\",\"geometry\":{\"type\":\"Polygon\",\"coordinates\":[[[60.40909091590909,-20.400240760170597],[61.0909090990909,-20.030842639010405],[61.0909090990909,-19.289448879034072],[60.40909091590909,-18.917480312700423],[59.727272732727265,-19.289448879034072],[59.727272732727265,-20.030842639010405],[60.40909091590909,-20.400240760170597]]]}},{\"type\":\"Feature\",\"id\":\"1.0781374790121876,-0.8035308035477512\",\"geometry\":{\"type\":\"Polygon\",\"coordinates\":[[[61.772727282272726,-42.344145034800086],[62.45454546545454,-42.0525219941646],[62.45454546545454,-41.46524208454954],[61.772727282272726,-41.16958834542567],[61.0909090990909,-41.46524208454954],[61.0909090990909,-42.0525219941646],[61.772727282272726,-42.344145034800086]]]}},{\"type\":\"Feature\",\"id\":\"1.0781374790121876,-0.7623080906418008\",\"geometry\":{\"type\":\"Polygon\",\"coordinates\":[[[61.772727282272726,-40.57426224611941],[62.45454546545454,-40.274593921456685],[62.45454546545454,-39.67125797273608],[61.772727282272726,-39.36759532075098],[61.0909090990909,-39.67125797273608],[61.0909090990909,-40.274593921456685],[61.772727282272726,-40.57426224611941]]]}},{\"type\":\"Feature\",\"id\":\"1.0781374790121876,-0.7210853777358505\",\"geometry\":{\"type\":\"Polygon\",\"coordinates\":[[[61.772727282272726,-38.756294291171216],[62.45454546545454,-38.448661852041546],[62.45454546545454,-37.82944920685779],[61.772727282272726,-37.517875934254796],[61.0909090990909,-37.82944920685779],[61.0909090990909,-38.448661852041546],[61.772727282272726,-38.756294291171216]]]}},{\"type\":\"Feature\",\"id\":\"1.0781374790121876,-0.6798626648299001\",\"geometry\":{\"type\":\"Polygon\",\"coordinates\":[[[61.772727282272726,-36.89081409263251],[62.45454546545454,-36.57533347919717],[62.45454546545454,-35.940494058394584],[61.772727282272726,-35.62114425423612],[61.0909090990909,-35.940494058394584],[61.0909090990909,-36.57533347919717],[61.772727282272726,-36.89081409263251]]]}},{\"type\":\"Feature\",\"id\":\"1.0781374790121876,-0.6386399519239496\",\"geometry\":{\"type\":\"Polygon\",\"coordinates\":[[[61.772727282272726,-34.97860829889037],[62.45454546545454,-34.65543222216165],[62.45454546545454,-34.005290416769625],[61.772727282272726,-33.678335855357275],[61.0909090990909,-34.005290416769625],[61.0909090990909,-34.65543222216165],[61.772727282272726,-34.97860829889037]]]}},{\"type\":\"Feature\",\"id\":\"1.0781374790121876,-0.5974172390179993\",\"geometry\":{\"type\":\"Polygon\",\"coordinates\":[[[61.772727282272726,-33.02068871801436],[62.45454546545454,-32.69000842137049],[62.45454546545454,-32.024966476816466],[61.772727282272726,-31.690618236956208],[61.0909090990909,-32.024966476816466],[61.0909090990909,-32.69000842137049],[61.772727282272726,-33.02068871801436]]]}},{\"type\":\"Feature\",\"id\":\"1.0781374790121876,-0.5561945261120489\",\"geometry\":{\"type\":\"Polygon\",\"coordinates\":[[[61.772727282272726,-31.018302166979456],[62.45454546545454,-30.680348887673055],[62.45454546545454,-30.0008896569427],[61.772727282272726,-29.659399410144857],[61.0909090990909,-30.0008896569427],[61.0909090990909,-30.680348887673055],[61.772727282272726,-31.018302166979456]]]}},{\"type\":\"Feature\",\"id\":\"1.0781374790121876,-0.5149718132060985\",\"geometry\":{\"type\":\"Polygon\",\"coordinates\":[[[61.772727282272726,-28.97293836557683],[62.45454546545454,-28.62798443415905],[62.45454546545454,-27.934673375977997],[61.772727282272726,-27.586334281862243],[61.0909090990909,-27.934673375977997],[61.0909090990909,-28.62798443415905],[61.772727282272726,-28.97293836557683]]]}},{\"type\":\"Feature\",\"id\":\"1.0781374790121876,-0.4737491003001482\",\"geometry\":{\"type\":\"Polygon\",\"coordinates\":[[[61.772727282272726,-26.8863355045969],[62.45454546545454,-26.534695021431894],[62.45454546545454,-25.828181323177716],[61.772727282272726,-25.473328472753064],[61.0909090990909,-25.828181323177716],[61.0909090990909,-26.534695021431894],[61.772727282272726,-26.8863355045969]]]}},{\"type\":\"Feature\",\"id\":\"1.0781374790121876,-0.43252638739419785\",\"geometry\":{\"type\":\"Polygon\",\"coordinates\":[[[61.772727282272726,-24.760483131153798],[62.45454546545454,-24.40251216281074],[62.45454546545454,-23.683528876349666],[61.772727282272726,-23.322539228722555],[61.0909090990909,-23.683528876349666],[61.0909090990909,-24.40251216281074],[61.772727282272726,-24.760483131153798]]]}},{\"type\":\"Feature\",\"id\":\"1.0781374790121876,-0.39130367448824743\",\"geometry\":{\"type\":\"Polygon\",\"coordinates\":[[[61.772727282272726,-22.597622022074045],[62.45454546545454,-22.23371826658171],[62.45454546545454,-21.503081358955768],[61.772727282272726,-21.13637312455803],[61.0909090990909,-21.503081358955768],[61.0909090990909,-22.23371826658171],[61.772727282272726,-22.597622022074045]]]}},{\"type\":\"Feature\",\"id\":\"1.0781374790121876,-0.35008096158229707\",\"geometry\":{\"type\":\"Polygon\",\"coordinates\":[[[61.772727282272726,-20.400240760170597],[62.45454546545454,-20.030842639010405],[62.45454546545454,-19.289448879034072],[61.772727282272726,-18.917480312700423],[61.0909090990909,-19.289448879034072],[61.0909090990909,-20.030842639010405],[61.772727282272726,-20.400240760170597]]]}},{\"type\":\"Feature\",\"id\":\"1.1019374234051649,-0.8447535164537016\",\"geometry\":{\"type\":\"Polygon\",\"coordinates\":[[[63.13636364863637,-44.06557080109546],[63.81818183181818,-43.782041623674104],[63.81818183181818,-43.21093079831662],[63.13636364863637,-42.92335056484793],[62.454545465454544,-43.21093079831662],[62.454545465454544,-43.782041623674104],[63.13636364863637,-44.06557080109546]]]}},{\"type\":\"Feature\",\"id\":\"1.1019374234051649,-0.8035308035477512\",\"geometry\":{\"type\":\"Polygon\",\"coordinates\":[[[63.13636364863637,-42.344145034800086],[63.81818183181818,-42.0525219941646],[63.81818183181818,-41.46524208454954],[63.13636364863637,-41.16958834542567],[62.454545465454544,-41.46524208454954],[62.454545465454544,-42.0525219941646],[63.13636364863637,-42.344145034800086]]]}},{\"type\":\"Feature\",\"id\":\"1.1019374234051649,-0.7623080906418008\",\"geometry\":{\"type\":\"Polygon\",\"coordinates\":[[[63.13636364863637,-40.57426224611941],[63.81818183181818,-40.274593921456685],[63.81818183181818,-39.67125797273608],[63.13636364863637,-39.36759532075098],[62.454545465454544,-39.67125797273608],[62.454545465454544,-40.274593921456685],[63.13636364863637,-40.57426224611941]]]}},{\"type\":\"Feature\",\"id\":\"1.1019374234051649,-0.7210853777358505\",\"geometry\":{\"type\":\"Polygon\",\"coordinates\":[[[63.13636364863637,-38.756294291171216],[63.81818183181818,-38.448661852041546],[63.81818183181818,-37.82944920685779],[63.13636364863637,-37.517875934254796],[62.454545465454544,-37.82944920685779],[62.454545465454544,-38.448661852041546],[63.13636364863637,-38.756294291171216]]]}},{\"type\":\"Feature\",\"id\":\"1.1019374234051649,-0.6798626648299001\",\"geometry\":{\"type\":\"Polygon\",\"coordinates\":[[[63.13636364863637,-36.89081409263251],[63.81818183181818,-36.57533347919717],[63.81818183181818,-35.940494058394584],[63.13636364863637,-35.62114425423612],[62.454545465454544,-35.940494058394584],[62.454545465454544,-36.57533347919717],[63.13636364863637,-36.89081409263251]]]}},{\"type\":\"Feature\",\"id\":\"1.1019374234051649,-0.6386399519239496\",\"geometry\":{\"type\":\"Polygon\",\"coordinates\":[[[63.13636364863637,-34.97860829889037],[63.81818183181818,-34.65543222216165],[63.81818183181818,-34.005290416769625],[63.13636364863637,-33.678335855357275],[62.454545465454544,-34.005290416769625],[62.454545465454544,-34.65543222216165],[63.13636364863637,-34.97860829889037]]]}},{\"type\":\"Feature\",\"id\":\"1.1019374234051649,-0.5974172390179993\",\"geometry\":{\"type\":\"Polygon\",\"coordinates\":[[[63.13636364863637,-33.02068871801436],[63.81818183181818,-32.69000842137049],[63.81818183181818,-32.024966476816466],[63.13636364863637,-31.690618236956208],[62.454545465454544,-32.024966476816466],[62.454545465454544,-32.69000842137049],[63.13636364863637,-33.02068871801436]]]}},{\"type\":\"Feature\",\"id\":\"1.1019374234051649,-0.5561945261120489\",\"geometry\":{\"type\":\"Polygon\",\"coordinates\":[[[63.13636364863637,-31.018302166979456],[63.81818183181818,-30.680348887673055],[63.81818183181818,-30.0008896569427],[63.13636364863637,-29.659399410144857],[62.454545465454544,-30.0008896569427],[62.454545465454544,-30.680348887673055],[63.13636364863637,-31.018302166979456]]]}},{\"type\":\"Feature\",\"id\":\"1.1019374234051649,-0.5149718132060985\",\"geometry\":{\"type\":\"Polygon\",\"coordinates\":[[[63.13636364863637,-28.97293836557683],[63.81818183181818,-28.62798443415905],[63.81818183181818,-27.934673375977997],[63.13636364863637,-27.586334281862243],[62.454545465454544,-27.934673375977997],[62.454545465454544,-28.62798443415905],[63.13636364863637,-28.97293836557683]]]}},{\"type\":\"Feature\",\"id\":\"1.1019374234051649,-0.4737491003001482\",\"geometry\":{\"type\":\"Polygon\",\"coordinates\":[[[63.13636364863637,-26.8863355045969],[63.81818183181818,-26.534695021431894],[63.81818183181818,-25.828181323177716],[63.13636364863637,-25.473328472753064],[62.454545465454544,-25.828181323177716],[62.454545465454544,-26.534695021431894],[63.13636364863637,-26.8863355045969]]]}},{\"type\":\"Feature\",\"id\":\"1.1019374234051649,-0.43252638739419785\",\"geometry\":{\"type\":\"Polygon\",\"coordinates\":[[[63.13636364863637,-24.760483131153798],[63.81818183181818,-24.40251216281074],[63.81818183181818,-23.683528876349666],[63.13636364863637,-23.322539228722555],[62.454545465454544,-23.683528876349666],[62.454545465454544,-24.40251216281074],[63.13636364863637,-24.760483131153798]]]}},{\"type\":\"Feature\",\"id\":\"1.1019374234051649,-0.39130367448824743\",\"geometry\":{\"type\":\"Polygon\",\"coordinates\":[[[63.13636364863637,-22.597622022074045],[63.81818183181818,-22.23371826658171],[63.81818183181818,-21.503081358955768],[63.13636364863637,-21.13637312455803],[62.454545465454544,-21.503081358955768],[62.454545465454544,-22.23371826658171],[63.13636364863637,-22.597622022074045]]]}},{\"type\":\"Feature\",\"id\":\"1.1019374234051649,-0.35008096158229707\",\"geometry\":{\"type\":\"Polygon\",\"coordinates\":[[[63.13636364863637,-20.400240760170597],[63.81818183181818,-20.030842639010405],[63.81818183181818,-19.289448879034072],[63.13636364863637,-18.917480312700423],[62.454545465454544,-19.289448879034072],[62.454545465454544,-20.030842639010405],[63.13636364863637,-20.400240760170597]]]}},{\"type\":\"Feature\",\"id\":\"1.125737367798142,-0.8035308035477512\",\"geometry\":{\"type\":\"Polygon\",\"coordinates\":[[[64.500000015,-42.344145034800086],[65.18181819818182,-42.0525219941646],[65.18181819818182,-41.46524208454954],[64.500000015,-41.16958834542567],[63.81818183181818,-41.46524208454954],[63.81818183181818,-42.0525219941646],[64.500000015,-42.344145034800086]]]}},{\"type\":\"Feature\",\"id\":\"1.125737367798142,-0.7623080906418008\",\"geometry\":{\"type\":\"Polygon\",\"coordinates\":[[[64.500000015,-40.57426224611941],[65.18181819818182,-40.274593921456685],[65.18181819818182,-39.67125797273608],[64.500000015,-39.36759532075098],[63.81818183181818,-39.67125797273608],[63.81818183181818,-40.274593921456685],[64.500000015,-40.57426224611941]]]}},{\"type\":\"Feature\",\"id\":\"1.125737367798142,-0.7210853777358505\",\"geometry\":{\"type\":\"Polygon\",\"coordinates\":[[[64.500000015,-38.756294291171216],[65.18181819818182,-38.448661852041546],[65.18181819818182,-37.82944920685779],[64.500000015,-37.517875934254796],[63.81818183181818,-37.82944920685779],[63.81818183181818,-38.448661852041546],[64.500000015,-38.756294291171216]]]}},{\"type\":\"Feature\",\"id\":\"1.125737367798142,-0.6798626648299001\",\"geometry\":{\"type\":\"Polygon\",\"coordinates\":[[[64.500000015,-36.89081409263251],[65.18181819818182,-36.57533347919717],[65.18181819818182,-35.940494058394584],[64.500000015,-35.62114425423612],[63.81818183181818,-35.940494058394584],[63.81818183181818,-36.57533347919717],[64.500000015,-36.89081409263251]]]}},{\"type\":\"Feature\",\"id\":\"1.125737367798142,-0.6386399519239496\",\"geometry\":{\"type\":\"Polygon\",\"coordinates\":[[[64.500000015,-34.97860829889037],[65.18181819818182,-34.65543222216165],[65.18181819818182,-34.005290416769625],[64.500000015,-33.678335855357275],[63.81818183181818,-34.005290416769625],[63.81818183181818,-34.65543222216165],[64.500000015,-34.97860829889037]]]}},{\"type\":\"Feature\",\"id\":\"1.125737367798142,-0.5974172390179993\",\"geometry\":{\"type\":\"Polygon\",\"coordinates\":[[[64.500000015,-33.02068871801436],[65.18181819818182,-32.69000842137049],[65.18181819818182,-32.024966476816466],[64.500000015,-31.690618236956208],[63.81818183181818,-32.024966476816466],[63.81818183181818,-32.69000842137049],[64.500000015,-33.02068871801436]]]}},{\"type\":\"Feature\",\"id\":\"1.125737367798142,-0.5561945261120489\",\"geometry\":{\"type\":\"Polygon\",\"coordinates\":[[[64.500000015,-31.018302166979456],[65.18181819818182,-30.680348887673055],[65.18181819818182,-30.0008896569427],[64.500000015,-29.659399410144857],[63.81818183181818,-30.0008896569427],[63.81818183181818,-30.680348887673055],[64.500000015,-31.018302166979456]]]}},{\"type\":\"Feature\",\"id\":\"1.125737367798142,-0.5149718132060985\",\"geometry\":{\"type\":\"Polygon\",\"coordinates\":[[[64.500000015,-28.97293836557683],[65.18181819818182,-28.62798443415905],[65.18181819818182,-27.934673375977997],[64.500000015,-27.586334281862243],[63.81818183181818,-27.934673375977997],[63.81818183181818,-28.62798443415905],[64.500000015,-28.97293836557683]]]}},{\"type\":\"Feature\",\"id\":\"1.125737367798142,-0.4737491003001482\",\"geometry\":{\"type\":\"Polygon\",\"coordinates\":[[[64.500000015,-26.8863355045969],[65.18181819818182,-26.534695021431894],[65.18181819818182,-25.828181323177716],[64.500000015,-25.473328472753064],[63.81818183181818,-25.828181323177716],[63.81818183181818,-26.534695021431894],[64.500000015,-26.8863355045969]]]}},{\"type\":\"Feature\",\"id\":\"1.125737367798142,-0.39130367448824743\",\"geometry\":{\"type\":\"Polygon\",\"coordinates\":[[[64.500000015,-22.597622022074045],[65.18181819818182,-22.23371826658171],[65.18181819818182,-21.503081358955768],[64.500000015,-21.13637312455803],[63.81818183181818,-21.503081358955768],[63.81818183181818,-22.23371826658171],[64.500000015,-22.597622022074045]]]}},{\"type\":\"Feature\",\"id\":\"1.149537312191119,-0.8447535164537016\",\"geometry\":{\"type\":\"Polygon\",\"coordinates\":[[[65.86363638136363,-44.06557080109546],[66.54545456454545,-43.782041623674104],[66.54545456454545,-43.21093079831662],[65.86363638136363,-42.92335056484793],[65.18181819818182,-43.21093079831662],[65.18181819818182,-43.782041623674104],[65.86363638136363,-44.06557080109546]]]}},{\"type\":\"Feature\",\"id\":\"1.149537312191119,-0.8035308035477512\",\"geometry\":{\"type\":\"Polygon\",\"coordinates\":[[[65.86363638136363,-42.344145034800086],[66.54545456454545,-42.0525219941646],[66.54545456454545,-41.46524208454954],[65.86363638136363,-41.16958834542567],[65.18181819818182,-41.46524208454954],[65.18181819818182,-42.0525219941646],[65.86363638136363,-42.344145034800086]]]}},{\"type\":\"Feature\",\"id\":\"1.149537312191119,-0.7623080906418008\",\"geometry\":{\"type\":\"Polygon\",\"coordinates\":[[[65.86363638136363,-40.57426224611941],[66.54545456454545,-40.274593921456685],[66.54545456454545,-39.67125797273608],[65.86363638136363,-39.36759532075098],[65.18181819818182,-39.67125797273608],[65.18181819818182,-40.274593921456685],[65.86363638136363,-40.57426224611941]]]}},{\"type\":\"Feature\",\"id\":\"1.149537312191119,-0.7210853777358505\",\"geometry\":{\"type\":\"Polygon\",\"coordinates\":[[[65.86363638136363,-38.756294291171216],[66.54545456454545,-38.448661852041546],[66.54545456454545,-37.82944920685779],[65.86363638136363,-37.517875934254796],[65.18181819818182,-37.82944920685779],[65.18181819818182,-38.448661852041546],[65.86363638136363,-38.756294291171216]]]}},{\"type\":\"Feature\",\"id\":\"1.149537312191119,-0.6798626648299001\",\"geometry\":{\"type\":\"Polygon\",\"coordinates\":[[[65.86363638136363,-36.89081409263251],[66.54545456454545,-36.57533347919717],[66.54545456454545,-35.940494058394584],[65.86363638136363,-35.62114425423612],[65.18181819818182,-35.940494058394584],[65.18181819818182,-36.57533347919717],[65.86363638136363,-36.89081409263251]]]}},{\"type\":\"Feature\",\"id\":\"1.149537312191119,-0.6386399519239496\",\"geometry\":{\"type\":\"Polygon\",\"coordinates\":[[[65.86363638136363,-34.97860829889037],[66.54545456454545,-34.65543222216165],[66.54545456454545,-34.005290416769625],[65.86363638136363,-33.678335855357275],[65.18181819818182,-34.005290416769625],[65.18181819818182,-34.65543222216165],[65.86363638136363,-34.97860829889037]]]}},{\"type\":\"Feature\",\"id\":\"1.149537312191119,-0.5974172390179993\",\"geometry\":{\"type\":\"Polygon\",\"coordinates\":[[[65.86363638136363,-33.02068871801436],[66.54545456454545,-32.69000842137049],[66.54545456454545,-32.024966476816466],[65.86363638136363,-31.690618236956208],[65.18181819818182,-32.024966476816466],[65.18181819818182,-32.69000842137049],[65.86363638136363,-33.02068871801436]]]}},{\"type\":\"Feature\",\"id\":\"1.149537312191119,-0.5561945261120489\",\"geometry\":{\"type\":\"Polygon\",\"coordinates\":[[[65.86363638136363,-31.018302166979456],[66.54545456454545,-30.680348887673055],[66.54545456454545,-30.0008896569427],[65.86363638136363,-29.659399410144857],[65.18181819818182,-30.0008896569427],[65.18181819818182,-30.680348887673055],[65.86363638136363,-31.018302166979456]]]}},{\"type\":\"Feature\",\"id\":\"1.149537312191119,-0.5149718132060985\",\"geometry\":{\"type\":\"Polygon\",\"coordinates\":[[[65.86363638136363,-28.97293836557683],[66.54545456454545,-28.62798443415905],[66.54545456454545,-27.934673375977997],[65.86363638136363,-27.586334281862243],[65.18181819818182,-27.934673375977997],[65.18181819818182,-28.62798443415905],[65.86363638136363,-28.97293836557683]]]}},{\"type\":\"Feature\",\"id\":\"1.173337256584096,-0.8859762293596519\",\"geometry\":{\"type\":\"Polygon\",\"coordinates\":[[[67.22727274772727,-45.738355210739094],[67.90909093090909,-45.46293819064564],[67.90909093090909,-44.90804775470793],[67.22727274772727,-44.62857416958301],[66.54545456454545,-44.90804775470793],[66.54545456454545,-45.46293819064564],[67.22727274772727,-45.738355210739094]]]}},{\"type\":\"Feature\",\"id\":\"1.173337256584096,-0.8035308035477512\",\"geometry\":{\"type\":\"Polygon\",\"coordinates\":[[[67.22727274772727,-42.344145034800086],[67.90909093090909,-42.0525219941646],[67.90909093090909,-41.46524208454954],[67.22727274772727,-41.16958834542567],[66.54545456454545,-41.46524208454954],[66.54545456454545,-42.0525219941646],[67.22727274772727,-42.344145034800086]]]}},{\"type\":\"Feature\",\"id\":\"1.173337256584096,-0.7623080906418008\",\"geometry\":{\"type\":\"Polygon\",\"coordinates\":[[[67.22727274772727,-40.57426224611941],[67.90909093090909,-40.274593921456685],[67.90909093090909,-39.67125797273608],[67.22727274772727,-39.36759532075098],[66.54545456454545,-39.67125797273608],[66.54545456454545,-40.274593921456685],[67.22727274772727,-40.57426224611941]]]}},{\"type\":\"Feature\",\"id\":\"1.173337256584096,-0.7210853777358505\",\"geometry\":{\"type\":\"Polygon\",\"coordinates\":[[[67.22727274772727,-38.756294291171216],[67.90909093090909,-38.448661852041546],[67.90909093090909,-37.82944920685779],[67.22727274772727,-37.517875934254796],[66.54545456454545,-37.82944920685779],[66.54545456454545,-38.448661852041546],[67.22727274772727,-38.756294291171216]]]}},{\"type\":\"Feature\",\"id\":\"1.173337256584096,-0.6798626648299001\",\"geometry\":{\"type\":\"Polygon\",\"coordinates\":[[[67.22727274772727,-36.89081409263251],[67.90909093090909,-36.57533347919717],[67.90909093090909,-35.940494058394584],[67.22727274772727,-35.62114425423612],[66.54545456454545,-35.940494058394584],[66.54545456454545,-36.57533347919717],[67.22727274772727,-36.89081409263251]]]}},{\"type\":\"Feature\",\"id\":\"1.173337256584096,-0.6386399519239496\",\"geometry\":{\"type\":\"Polygon\",\"coordinates\":[[[67.22727274772727,-34.97860829889037],[67.90909093090909,-34.65543222216165],[67.90909093090909,-34.005290416769625],[67.22727274772727,-33.678335855357275],[66.54545456454545,-34.005290416769625],[66.54545456454545,-34.65543222216165],[67.22727274772727,-34.97860829889037]]]}},{\"type\":\"Feature\",\"id\":\"1.173337256584096,-0.5974172390179993\",\"geometry\":{\"type\":\"Polygon\",\"coordinates\":[[[67.22727274772727,-33.02068871801436],[67.90909093090909,-32.69000842137049],[67.90909093090909,-32.024966476816466],[67.22727274772727,-31.690618236956208],[66.54545456454545,-32.024966476816466],[66.54545456454545,-32.69000842137049],[67.22727274772727,-33.02068871801436]]]}},{\"type\":\"Feature\",\"id\":\"1.173337256584096,-0.5561945261120489\",\"geometry\":{\"type\":\"Polygon\",\"coordinates\":[[[67.22727274772727,-31.018302166979456],[67.90909093090909,-30.680348887673055],[67.90909093090909,-30.0008896569427],[67.22727274772727,-29.659399410144857],[66.54545456454545,-30.0008896569427],[66.54545456454545,-30.680348887673055],[67.22727274772727,-31.018302166979456]]]}},{\"type\":\"Feature\",\"id\":\"1.173337256584096,-0.5149718132060985\",\"geometry\":{\"type\":\"Polygon\",\"coordinates\":[[[67.22727274772727,-28.97293836557683],[67.90909093090909,-28.62798443415905],[67.90909093090909,-27.934673375977997],[67.22727274772727,-27.586334281862243],[66.54545456454545,-27.934673375977997],[66.54545456454545,-28.62798443415905],[67.22727274772727,-28.97293836557683]]]}},{\"type\":\"Feature\",\"id\":\"1.1971372009770733,-0.8859762293596519\",\"geometry\":{\"type\":\"Polygon\",\"coordinates\":[[[68.59090911409092,-45.738355210739094],[69.27272729727272,-45.46293819064564],[69.27272729727272,-44.90804775470793],[68.59090911409092,-44.62857416958301],[67.9090909309091,-44.90804775470793],[67.9090909309091,-45.46293819064564],[68.59090911409092,-45.738355210739094]]]}},{\"type\":\"Feature\",\"id\":\"1.1971372009770733,-0.8035308035477512\",\"geometry\":{\"type\":\"Polygon\",\"coordinates\":[[[68.59090911409092,-42.344145034800086],[69.27272729727272,-42.0525219941646],[69.27272729727272,-41.46524208454954],[68.59090911409092,-41.16958834542567],[67.9090909309091,-41.46524208454954],[67.9090909309091,-42.0525219941646],[68.59090911409092,-42.344145034800086]]]}},{\"type\":\"Feature\",\"id\":\"1.1971372009770733,-0.7623080906418008\",\"geometry\":{\"type\":\"Polygon\",\"coordinates\":[[[68.59090911409092,-40.57426224611941],[69.27272729727272,-40.274593921456685],[69.27272729727272,-39.67125797273608],[68.59090911409092,-39.36759532075098],[67.9090909309091,-39.67125797273608],[67.9090909309091,-40.274593921456685],[68.59090911409092,-40.57426224611941]]]}},{\"type\":\"Feature\",\"id\":\"1.1971372009770733,-0.7210853777358505\",\"geometry\":{\"type\":\"Polygon\",\"coordinates\":[[[68.59090911409092,-38.756294291171216],[69.27272729727272,-38.448661852041546],[69.27272729727272,-37.82944920685779],[68.59090911409092,-37.517875934254796],[67.9090909309091,-37.82944920685779],[67.9090909309091,-38.448661852041546],[68.59090911409092,-38.756294291171216]]]}},{\"type\":\"Feature\",\"id\":\"1.1971372009770733,-0.6798626648299001\",\"geometry\":{\"type\":\"Polygon\",\"coordinates\":[[[68.59090911409092,-36.89081409263251],[69.27272729727272,-36.57533347919717],[69.27272729727272,-35.940494058394584],[68.59090911409092,-35.62114425423612],[67.9090909309091,-35.940494058394584],[67.9090909309091,-36.57533347919717],[68.59090911409092,-36.89081409263251]]]}},{\"type\":\"Feature\",\"id\":\"1.1971372009770733,-0.6386399519239496\",\"geometry\":{\"type\":\"Polygon\",\"coordinates\":[[[68.59090911409092,-34.97860829889037],[69.27272729727272,-34.65543222216165],[69.27272729727272,-34.005290416769625],[68.59090911409092,-33.678335855357275],[67.9090909309091,-34.005290416769625],[67.9090909309091,-34.65543222216165],[68.59090911409092,-34.97860829889037]]]}},{\"type\":\"Feature\",\"id\":\"1.1971372009770733,-0.5974172390179993\",\"geometry\":{\"type\":\"Polygon\",\"coordinates\":[[[68.59090911409092,-33.02068871801436],[69.27272729727272,-32.69000842137049],[69.27272729727272,-32.024966476816466],[68.59090911409092,-31.690618236956208],[67.9090909309091,-32.024966476816466],[67.9090909309091,-32.69000842137049],[68.59090911409092,-33.02068871801436]]]}},{\"type\":\"Feature\",\"id\":\"1.1971372009770733,-0.5561945261120489\",\"geometry\":{\"type\":\"Polygon\",\"coordinates\":[[[68.59090911409092,-31.018302166979456],[69.27272729727272,-30.680348887673055],[69.27272729727272,-30.0008896569427],[68.59090911409092,-29.659399410144857],[67.9090909309091,-30.0008896569427],[67.9090909309091,-30.680348887673055],[68.59090911409092,-31.018302166979456]]]}},{\"type\":\"Feature\",\"id\":\"1.1971372009770733,-0.5149718132060985\",\"geometry\":{\"type\":\"Polygon\",\"coordinates\":[[[68.59090911409092,-28.97293836557683],[69.27272729727272,-28.62798443415905],[69.27272729727272,-27.934673375977997],[68.59090911409092,-27.586334281862243],[67.9090909309091,-27.934673375977997],[67.9090909309091,-28.62798443415905],[68.59090911409092,-28.97293836557683]]]}},{\"type\":\"Feature\",\"id\":\"1.2209371453700504,-0.8447535164537016\",\"geometry\":{\"type\":\"Polygon\",\"coordinates\":[[[69.95454548045454,-44.06557080109546],[70.63636366363636,-43.782041623674104],[70.63636366363636,-43.21093079831662],[69.95454548045454,-42.92335056484793],[69.27272729727272,-43.21093079831662],[69.27272729727272,-43.782041623674104],[69.95454548045454,-44.06557080109546]]]}},{\"type\":\"Feature\",\"id\":\"1.2209371453700504,-0.8035308035477512\",\"geometry\":{\"type\":\"Polygon\",\"coordinates\":[[[69.95454548045454,-42.344145034800086],[70.63636366363636,-42.0525219941646],[70.63636366363636,-41.46524208454954],[69.95454548045454,-41.16958834542567],[69.27272729727272,-41.46524208454954],[69.27272729727272,-42.0525219941646],[69.95454548045454,-42.344145034800086]]]}},{\"type\":\"Feature\",\"id\":\"1.2209371453700504,-0.7623080906418008\",\"geometry\":{\"type\":\"Polygon\",\"coordinates\":[[[69.95454548045454,-40.57426224611941],[70.63636366363636,-40.274593921456685],[70.63636366363636,-39.67125797273608],[69.95454548045454,-39.36759532075098],[69.27272729727272,-39.67125797273608],[69.27272729727272,-40.274593921456685],[69.95454548045454,-40.57426224611941]]]}},{\"type\":\"Feature\",\"id\":\"1.2447370897630274,-0.8035308035477512\",\"geometry\":{\"type\":\"Polygon\",\"coordinates\":[[[71.31818184681818,-42.344145034800086],[72.00000003,-42.0525219941646],[72.00000003,-41.46524208454954],[71.31818184681818,-41.16958834542567],[70.63636366363636,-41.46524208454954],[70.63636366363636,-42.0525219941646],[71.31818184681818,-42.344145034800086]]]}},{\"type\":\"Feature\",\"id\":\"1.2447370897630274,-0.7623080906418008\",\"geometry\":{\"type\":\"Polygon\",\"coordinates\":[[[71.31818184681818,-40.57426224611941],[72.00000003,-40.274593921456685],[72.00000003,-39.67125797273608],[71.31818184681818,-39.36759532075098],[70.63636366363636,-39.67125797273608],[70.63636366363636,-40.274593921456685],[71.31818184681818,-40.57426224611941]]]}}]},\"hovertemplate\":\"color label=%{z}\\u003cextra\\u003e\\u003c\\u002fextra\\u003e\",\"locations\":[\"0.7330382853140196,-0.2882468922233715\",\"0.7568382297069967,-0.9065875858126271\",\"0.7568382297069967,-0.7004740212828753\",\"0.7568382297069967,-0.3294696051293219\",\"0.7568382297069967,-0.2882468922233715\",\"0.7806381740999738,-0.8653648729066767\",\"0.7806381740999738,-0.8241421600007264\",\"0.7806381740999738,-0.7004740212828753\",\"0.7806381740999738,-0.3294696051293219\",\"0.7806381740999738,-0.2882468922233715\",\"0.8044381184929509,-0.8653648729066767\",\"0.8044381184929509,-0.8241421600007264\",\"0.8044381184929509,-0.782919447094776\",\"0.8044381184929509,-0.7004740212828753\",\"0.8044381184929509,-0.5355831696590738\",\"0.8044381184929509,-0.3294696051293219\",\"0.8044381184929509,-0.2882468922233715\",\"0.828238062885928,-0.8653648729066767\",\"0.828238062885928,-0.8241421600007264\",\"0.828238062885928,-0.782919447094776\",\"0.828238062885928,-0.7004740212828753\",\"0.828238062885928,-0.6592513083769249\",\"0.828238062885928,-0.5768058825650242\",\"0.828238062885928,-0.4943604567531234\",\"0.828238062885928,-0.2058014664114708\",\"0.828238062885928,-0.16457875350552043\",\"0.828238062885928,-0.12335604059957006\",\"0.828238062885928,-0.04091061478766933\",\"0.8520380072789051,-0.8241421600007264\",\"0.8520380072789051,-0.782919447094776\",\"0.8520380072789051,-0.7416967341888256\",\"0.8520380072789051,-0.7004740212828753\",\"0.8520380072789051,-0.6592513083769249\",\"0.8520380072789051,-0.6180285954709746\",\"0.8520380072789051,-0.5768058825650242\",\"0.8520380072789051,-0.5355831696590738\",\"0.8520380072789051,-0.4943604567531234\",\"0.8520380072789051,-0.45313774384717304\",\"0.8520380072789051,-0.4119150309412226\",\"0.8520380072789051,-0.37069231803527225\",\"0.8520380072789051,-0.2058014664114708\",\"0.8520380072789051,-0.16457875350552043\",\"0.8520380072789051,-0.12335604059957006\",\"0.8520380072789051,-0.0821333276936197\",\"0.8520380072789051,-0.04091061478766933\",\"0.8758379516718823,-0.8653648729066767\",\"0.8758379516718823,-0.8241421600007264\",\"0.8758379516718823,-0.782919447094776\",\"0.8758379516718823,-0.7416967341888256\",\"0.8758379516718823,-0.7004740212828753\",\"0.8758379516718823,-0.6592513083769249\",\"0.8758379516718823,-0.6180285954709746\",\"0.8758379516718823,-0.5768058825650242\",\"0.8758379516718823,-0.5355831696590738\",\"0.8758379516718823,-0.4943604567531234\",\"0.8758379516718823,-0.45313774384717304\",\"0.8758379516718823,-0.4119150309412226\",\"0.8758379516718823,-0.37069231803527225\",\"0.8758379516718823,-0.3294696051293219\",\"0.8758379516718823,-0.2058014664114708\",\"0.8758379516718823,-0.16457875350552043\",\"0.8758379516718823,-0.12335604059957006\",\"0.8758379516718823,-0.0821333276936197\",\"0.8758379516718823,-0.04091061478766933\",\"0.8996378960648593,-0.8241421600007264\",\"0.8996378960648593,-0.782919447094776\",\"0.8996378960648593,-0.7416967341888256\",\"0.8996378960648593,-0.7004740212828753\",\"0.8996378960648593,-0.6592513083769249\",\"0.8996378960648593,-0.6180285954709746\",\"0.8996378960648593,-0.5768058825650242\",\"0.8996378960648593,-0.5355831696590738\",\"0.8996378960648593,-0.4943604567531234\",\"0.8996378960648593,-0.45313774384717304\",\"0.8996378960648593,-0.4119150309412226\",\"0.8996378960648593,-0.37069231803527225\",\"0.8996378960648593,-0.3294696051293219\",\"0.8996378960648593,-0.2058014664114708\",\"0.8996378960648593,-0.16457875350552043\",\"0.8996378960648593,-0.12335604059957006\",\"0.8996378960648593,-0.0821333276936197\",\"0.8996378960648593,0.0003120981182810345\",\"0.9234378404578365,-0.8241421600007264\",\"0.9234378404578365,-0.782919447094776\",\"0.9234378404578365,-0.7416967341888256\",\"0.9234378404578365,-0.7004740212828753\",\"0.9234378404578365,-0.6592513083769249\",\"0.9234378404578365,-0.6180285954709746\",\"0.9234378404578365,-0.5768058825650242\",\"0.9234378404578365,-0.5355831696590738\",\"0.9234378404578365,-0.4943604567531234\",\"0.9234378404578365,-0.45313774384717304\",\"0.9234378404578365,-0.4119150309412226\",\"0.9234378404578365,-0.37069231803527225\",\"0.9234378404578365,-0.3294696051293219\",\"0.9234378404578365,-0.2882468922233715\",\"0.9234378404578365,-0.24702417931742116\",\"0.9234378404578365,-0.2058014664114708\",\"0.9234378404578365,-0.16457875350552043\",\"0.9472377848508136,-0.8241421600007264\",\"0.9472377848508136,-0.782919447094776\",\"0.9472377848508136,-0.7416967341888256\",\"0.9472377848508136,-0.7004740212828753\",\"0.9472377848508136,-0.6592513083769249\",\"0.9472377848508136,-0.6180285954709746\",\"0.9472377848508136,-0.5768058825650242\",\"0.9472377848508136,-0.5355831696590738\",\"0.9472377848508136,-0.4943604567531234\",\"0.9472377848508136,-0.45313774384717304\",\"0.9472377848508136,-0.4119150309412226\",\"0.9472377848508136,-0.37069231803527225\",\"0.9472377848508136,-0.3294696051293219\",\"0.9472377848508136,-0.2882468922233715\",\"0.9472377848508136,-0.24702417931742116\",\"0.9472377848508136,-0.2058014664114708\",\"0.9472377848508136,-0.16457875350552043\",\"0.9710377292437907,-0.8241421600007264\",\"0.9710377292437907,-0.782919447094776\",\"0.9710377292437907,-0.7416967341888256\",\"0.9710377292437907,-0.7004740212828753\",\"0.9710377292437907,-0.6592513083769249\",\"0.9710377292437907,-0.6180285954709746\",\"0.9710377292437907,-0.5768058825650242\",\"0.9710377292437907,-0.5355831696590738\",\"0.9710377292437907,-0.4943604567531234\",\"0.9710377292437907,-0.45313774384717304\",\"0.9710377292437907,-0.4119150309412226\",\"0.9710377292437907,-0.37069231803527225\",\"0.9710377292437907,-0.3294696051293219\",\"0.9710377292437907,-0.2882468922233715\",\"0.9710377292437907,-0.24702417931742116\",\"0.9710377292437907,-0.2058014664114708\",\"0.9948376736367678,-0.8241421600007264\",\"0.9948376736367678,-0.782919447094776\",\"0.9948376736367678,-0.7416967341888256\",\"0.9948376736367678,-0.7004740212828753\",\"0.9948376736367678,-0.6592513083769249\",\"0.9948376736367678,-0.6180285954709746\",\"0.9948376736367678,-0.5768058825650242\",\"0.9948376736367678,-0.5355831696590738\",\"0.9948376736367678,-0.4943604567531234\",\"0.9948376736367678,-0.45313774384717304\",\"0.9948376736367678,-0.4119150309412226\",\"0.9948376736367678,-0.37069231803527225\",\"0.9948376736367678,-0.3294696051293219\",\"0.9948376736367678,-0.2882468922233715\",\"0.9948376736367678,-0.24702417931742116\",\"1.018637618029745,-0.8653648729066767\",\"1.018637618029745,-0.8241421600007264\",\"1.018637618029745,-0.782919447094776\",\"1.018637618029745,-0.7416967341888256\",\"1.018637618029745,-0.7004740212828753\",\"1.018637618029745,-0.6592513083769249\",\"1.018637618029745,-0.6180285954709746\",\"1.018637618029745,-0.5768058825650242\",\"1.018637618029745,-0.5355831696590738\",\"1.018637618029745,-0.4943604567531234\",\"1.018637618029745,-0.45313774384717304\",\"1.018637618029745,-0.4119150309412226\",\"1.018637618029745,-0.37069231803527225\",\"1.018637618029745,-0.3294696051293219\",\"1.018637618029745,-0.2882468922233715\",\"1.018637618029745,-0.24702417931742116\",\"1.042437562422722,-0.8653648729066767\",\"1.042437562422722,-0.8241421600007264\",\"1.042437562422722,-0.782919447094776\",\"1.042437562422722,-0.7416967341888256\",\"1.042437562422722,-0.7004740212828753\",\"1.042437562422722,-0.6592513083769249\",\"1.042437562422722,-0.6180285954709746\",\"1.042437562422722,-0.5768058825650242\",\"1.042437562422722,-0.5355831696590738\",\"1.042437562422722,-0.4943604567531234\",\"1.042437562422722,-0.45313774384717304\",\"1.042437562422722,-0.4119150309412226\",\"1.042437562422722,-0.37069231803527225\",\"1.042437562422722,-0.3294696051293219\",\"1.066237506815699,-0.8653648729066767\",\"1.066237506815699,-0.8241421600007264\",\"1.066237506815699,-0.782919447094776\",\"1.066237506815699,-0.7416967341888256\",\"1.066237506815699,-0.7004740212828753\",\"1.066237506815699,-0.6592513083769249\",\"1.066237506815699,-0.6180285954709746\",\"1.066237506815699,-0.5768058825650242\",\"1.066237506815699,-0.5355831696590738\",\"1.066237506815699,-0.4943604567531234\",\"1.066237506815699,-0.45313774384717304\",\"1.066237506815699,-0.4119150309412226\",\"1.066237506815699,-0.37069231803527225\",\"1.066237506815699,-0.3294696051293219\",\"1.0900374512086763,-0.8653648729066767\",\"1.0900374512086763,-0.8241421600007264\",\"1.0900374512086763,-0.782919447094776\",\"1.0900374512086763,-0.7416967341888256\",\"1.0900374512086763,-0.7004740212828753\",\"1.0900374512086763,-0.6592513083769249\",\"1.0900374512086763,-0.6180285954709746\",\"1.0900374512086763,-0.5768058825650242\",\"1.0900374512086763,-0.5355831696590738\",\"1.0900374512086763,-0.4943604567531234\",\"1.0900374512086763,-0.45313774384717304\",\"1.0900374512086763,-0.37069231803527225\",\"1.1138373956016534,-0.8653648729066767\",\"1.1138373956016534,-0.8241421600007264\",\"1.1138373956016534,-0.782919447094776\",\"1.1138373956016534,-0.7416967341888256\",\"1.1138373956016534,-0.7004740212828753\",\"1.1138373956016534,-0.6592513083769249\",\"1.1138373956016534,-0.6180285954709746\",\"1.1138373956016534,-0.5768058825650242\",\"1.1138373956016534,-0.5355831696590738\",\"1.1376373399946305,-0.8653648729066767\",\"1.1376373399946305,-0.8241421600007264\",\"1.1376373399946305,-0.782919447094776\",\"1.1376373399946305,-0.7416967341888256\",\"1.1376373399946305,-0.7004740212828753\",\"1.1376373399946305,-0.6592513083769249\",\"1.1376373399946305,-0.6180285954709746\",\"1.1376373399946305,-0.5768058825650242\",\"1.1376373399946305,-0.5355831696590738\",\"1.1376373399946305,-0.4943604567531234\",\"1.1614372843876075,-0.8653648729066767\",\"1.1614372843876075,-0.8241421600007264\",\"1.1614372843876075,-0.782919447094776\",\"1.1614372843876075,-0.7416967341888256\",\"1.1614372843876075,-0.7004740212828753\",\"1.1614372843876075,-0.6592513083769249\",\"1.1614372843876075,-0.6180285954709746\",\"1.1614372843876075,-0.5768058825650242\",\"1.1614372843876075,-0.5355831696590738\",\"1.1614372843876075,-0.4943604567531234\",\"1.1852372287805846,-0.8653648729066767\",\"1.1852372287805846,-0.8241421600007264\",\"1.1852372287805846,-0.782919447094776\",\"1.1852372287805846,-0.7416967341888256\",\"1.1852372287805846,-0.6592513083769249\",\"1.1852372287805846,-0.6180285954709746\",\"1.1852372287805846,-0.5768058825650242\",\"1.1852372287805846,-0.5355831696590738\",\"1.2090371731735619,-0.8653648729066767\",\"1.2090371731735619,-0.8241421600007264\",\"1.2090371731735619,-0.782919447094776\",\"1.2090371731735619,-0.7416967341888256\",\"1.2090371731735619,-0.6180285954709746\",\"1.2090371731735619,-0.5768058825650242\",\"1.2090371731735619,-0.5355831696590738\",\"1.232837117566539,-0.782919447094776\",\"1.232837117566539,-0.7416967341888256\",\"1.256637061959516,-0.782919447094776\",\"0.7449382575105081,-0.8859762293596519\",\"0.7449382575105081,-0.26763553577039634\",\"0.7687382019034853,-0.8859762293596519\",\"0.7687382019034853,-0.6798626648299001\",\"0.7687382019034853,-0.35008096158229707\",\"0.7687382019034853,-0.3088582486763467\",\"0.7687382019034853,-0.26763553577039634\",\"0.7925381462964624,-0.8035308035477512\",\"0.7925381462964624,-0.6798626648299001\",\"0.7925381462964624,-0.3088582486763467\",\"0.7925381462964624,-0.26763553577039634\",\"0.8163380906894395,-0.8859762293596519\",\"0.8163380906894395,-0.8035308035477512\",\"0.8163380906894395,-0.7210853777358505\",\"0.8163380906894395,-0.6798626648299001\",\"0.8401380350824166,-0.8859762293596519\",\"0.8401380350824166,-0.8447535164537016\",\"0.8401380350824166,-0.8035308035477512\",\"0.8401380350824166,-0.7210853777358505\",\"0.8401380350824166,-0.6798626648299001\",\"0.8401380350824166,-0.6386399519239496\",\"0.8401380350824166,-0.5561945261120489\",\"0.8401380350824166,-0.22641282286444597\",\"0.8401380350824166,-0.1851901099584956\",\"0.8401380350824166,-0.14396739705254524\",\"0.8639379794753936,-0.8035308035477512\",\"0.8639379794753936,-0.7623080906418008\",\"0.8639379794753936,-0.7210853777358505\",\"0.8639379794753936,-0.6798626648299001\",\"0.8639379794753936,-0.6386399519239496\",\"0.8639379794753936,-0.5974172390179993\",\"0.8639379794753936,-0.5561945261120489\",\"0.8639379794753936,-0.5149718132060985\",\"0.8639379794753936,-0.43252638739419785\",\"0.8639379794753936,-0.39130367448824743\",\"0.8639379794753936,-0.35008096158229707\",\"0.8639379794753936,-0.22641282286444597\",\"0.8639379794753936,-0.1851901099584956\",\"0.8639379794753936,-0.14396739705254524\",\"0.8639379794753936,-0.10274468414659488\",\"0.8639379794753936,-0.06152197124064451\",\"0.8877379238683708,-0.8447535164537016\",\"0.8877379238683708,-0.8035308035477512\",\"0.8877379238683708,-0.7623080906418008\",\"0.8877379238683708,-0.7210853777358505\",\"0.8877379238683708,-0.6798626648299001\",\"0.8877379238683708,-0.6386399519239496\",\"0.8877379238683708,-0.5974172390179993\",\"0.8877379238683708,-0.5561945261120489\",\"0.8877379238683708,-0.5149718132060985\",\"0.8877379238683708,-0.4737491003001482\",\"0.8877379238683708,-0.43252638739419785\",\"0.8877379238683708,-0.39130367448824743\",\"0.8877379238683708,-0.35008096158229707\",\"0.8877379238683708,-0.22641282286444597\",\"0.8877379238683708,-0.1851901099584956\",\"0.8877379238683708,-0.14396739705254524\",\"0.8877379238683708,-0.10274468414659488\",\"0.8877379238683708,-0.06152197124064451\",\"0.911537868261348,-0.8035308035477512\",\"0.911537868261348,-0.7623080906418008\",\"0.911537868261348,-0.7210853777358505\",\"0.911537868261348,-0.6798626648299001\",\"0.911537868261348,-0.6386399519239496\",\"0.911537868261348,-0.5974172390179993\",\"0.911537868261348,-0.5561945261120489\",\"0.911537868261348,-0.5149718132060985\",\"0.911537868261348,-0.4737491003001482\",\"0.911537868261348,-0.43252638739419785\",\"0.911537868261348,-0.39130367448824743\",\"0.911537868261348,-0.35008096158229707\",\"0.911537868261348,-0.3088582486763467\",\"0.911537868261348,-0.26763553577039634\",\"0.911537868261348,-0.22641282286444597\",\"0.911537868261348,-0.1851901099584956\",\"0.911537868261348,-0.10274468414659488\",\"0.911537868261348,-0.06152197124064451\",\"0.935337812654325,-0.8859762293596519\",\"0.935337812654325,-0.8035308035477512\",\"0.935337812654325,-0.7623080906418008\",\"0.935337812654325,-0.7210853777358505\",\"0.935337812654325,-0.6798626648299001\",\"0.935337812654325,-0.6386399519239496\",\"0.935337812654325,-0.5974172390179993\",\"0.935337812654325,-0.5561945261120489\",\"0.935337812654325,-0.5149718132060985\",\"0.935337812654325,-0.4737491003001482\",\"0.935337812654325,-0.43252638739419785\",\"0.935337812654325,-0.39130367448824743\",\"0.935337812654325,-0.35008096158229707\",\"0.935337812654325,-0.3088582486763467\",\"0.935337812654325,-0.26763553577039634\",\"0.935337812654325,-0.22641282286444597\",\"0.9591377570473021,-0.8447535164537016\",\"0.9591377570473021,-0.8035308035477512\",\"0.9591377570473021,-0.7623080906418008\",\"0.9591377570473021,-0.7210853777358505\",\"0.9591377570473021,-0.6798626648299001\",\"0.9591377570473021,-0.6386399519239496\",\"0.9591377570473021,-0.5974172390179993\",\"0.9591377570473021,-0.5561945261120489\",\"0.9591377570473021,-0.5149718132060985\",\"0.9591377570473021,-0.4737491003001482\",\"0.9591377570473021,-0.43252638739419785\",\"0.9591377570473021,-0.39130367448824743\",\"0.9591377570473021,-0.35008096158229707\",\"0.9591377570473021,-0.3088582486763467\",\"0.9591377570473021,-0.26763553577039634\",\"0.9591377570473021,-0.22641282286444597\",\"0.9829377014402793,-0.8035308035477512\",\"0.9829377014402793,-0.7623080906418008\",\"0.9829377014402793,-0.7210853777358505\",\"0.9829377014402793,-0.6798626648299001\",\"0.9829377014402793,-0.6386399519239496\",\"0.9829377014402793,-0.5974172390179993\",\"0.9829377014402793,-0.5561945261120489\",\"0.9829377014402793,-0.5149718132060985\",\"0.9829377014402793,-0.4737491003001482\",\"0.9829377014402793,-0.43252638739419785\",\"0.9829377014402793,-0.39130367448824743\",\"0.9829377014402793,-0.35008096158229707\",\"0.9829377014402793,-0.3088582486763467\",\"0.9829377014402793,-0.26763553577039634\",\"0.9829377014402793,-0.22641282286444597\",\"1.0067376458332564,-0.8035308035477512\",\"1.0067376458332564,-0.7623080906418008\",\"1.0067376458332564,-0.7210853777358505\",\"1.0067376458332564,-0.6798626648299001\",\"1.0067376458332564,-0.6386399519239496\",\"1.0067376458332564,-0.5974172390179993\",\"1.0067376458332564,-0.5561945261120489\",\"1.0067376458332564,-0.5149718132060985\",\"1.0067376458332564,-0.4737491003001482\",\"1.0067376458332564,-0.43252638739419785\",\"1.0067376458332564,-0.39130367448824743\",\"1.0067376458332564,-0.35008096158229707\",\"1.0067376458332564,-0.3088582486763467\",\"1.0067376458332564,-0.26763553577039634\",\"1.0305375902262335,-0.8447535164537016\",\"1.0305375902262335,-0.8035308035477512\",\"1.0305375902262335,-0.7623080906418008\",\"1.0305375902262335,-0.7210853777358505\",\"1.0305375902262335,-0.6798626648299001\",\"1.0305375902262335,-0.6386399519239496\",\"1.0305375902262335,-0.5974172390179993\",\"1.0305375902262335,-0.5561945261120489\",\"1.0305375902262335,-0.5149718132060985\",\"1.0305375902262335,-0.4737491003001482\",\"1.0305375902262335,-0.43252638739419785\",\"1.0305375902262335,-0.39130367448824743\",\"1.0305375902262335,-0.35008096158229707\",\"1.0305375902262335,-0.3088582486763467\",\"1.0543375346192105,-0.8035308035477512\",\"1.0543375346192105,-0.7623080906418008\",\"1.0543375346192105,-0.7210853777358505\",\"1.0543375346192105,-0.6798626648299001\",\"1.0543375346192105,-0.6386399519239496\",\"1.0543375346192105,-0.5974172390179993\",\"1.0543375346192105,-0.5561945261120489\",\"1.0543375346192105,-0.5149718132060985\",\"1.0543375346192105,-0.4737491003001482\",\"1.0543375346192105,-0.43252638739419785\",\"1.0543375346192105,-0.39130367448824743\",\"1.0543375346192105,-0.35008096158229707\",\"1.0781374790121876,-0.8035308035477512\",\"1.0781374790121876,-0.7623080906418008\",\"1.0781374790121876,-0.7210853777358505\",\"1.0781374790121876,-0.6798626648299001\",\"1.0781374790121876,-0.6386399519239496\",\"1.0781374790121876,-0.5974172390179993\",\"1.0781374790121876,-0.5561945261120489\",\"1.0781374790121876,-0.5149718132060985\",\"1.0781374790121876,-0.4737491003001482\",\"1.0781374790121876,-0.43252638739419785\",\"1.0781374790121876,-0.39130367448824743\",\"1.0781374790121876,-0.35008096158229707\",\"1.1019374234051649,-0.8447535164537016\",\"1.1019374234051649,-0.8035308035477512\",\"1.1019374234051649,-0.7623080906418008\",\"1.1019374234051649,-0.7210853777358505\",\"1.1019374234051649,-0.6798626648299001\",\"1.1019374234051649,-0.6386399519239496\",\"1.1019374234051649,-0.5974172390179993\",\"1.1019374234051649,-0.5561945261120489\",\"1.1019374234051649,-0.5149718132060985\",\"1.1019374234051649,-0.4737491003001482\",\"1.1019374234051649,-0.43252638739419785\",\"1.1019374234051649,-0.39130367448824743\",\"1.1019374234051649,-0.35008096158229707\",\"1.125737367798142,-0.8035308035477512\",\"1.125737367798142,-0.7623080906418008\",\"1.125737367798142,-0.7210853777358505\",\"1.125737367798142,-0.6798626648299001\",\"1.125737367798142,-0.6386399519239496\",\"1.125737367798142,-0.5974172390179993\",\"1.125737367798142,-0.5561945261120489\",\"1.125737367798142,-0.5149718132060985\",\"1.125737367798142,-0.4737491003001482\",\"1.125737367798142,-0.39130367448824743\",\"1.149537312191119,-0.8447535164537016\",\"1.149537312191119,-0.8035308035477512\",\"1.149537312191119,-0.7623080906418008\",\"1.149537312191119,-0.7210853777358505\",\"1.149537312191119,-0.6798626648299001\",\"1.149537312191119,-0.6386399519239496\",\"1.149537312191119,-0.5974172390179993\",\"1.149537312191119,-0.5561945261120489\",\"1.149537312191119,-0.5149718132060985\",\"1.173337256584096,-0.8859762293596519\",\"1.173337256584096,-0.8035308035477512\",\"1.173337256584096,-0.7623080906418008\",\"1.173337256584096,-0.7210853777358505\",\"1.173337256584096,-0.6798626648299001\",\"1.173337256584096,-0.6386399519239496\",\"1.173337256584096,-0.5974172390179993\",\"1.173337256584096,-0.5561945261120489\",\"1.173337256584096,-0.5149718132060985\",\"1.1971372009770733,-0.8859762293596519\",\"1.1971372009770733,-0.8035308035477512\",\"1.1971372009770733,-0.7623080906418008\",\"1.1971372009770733,-0.7210853777358505\",\"1.1971372009770733,-0.6798626648299001\",\"1.1971372009770733,-0.6386399519239496\",\"1.1971372009770733,-0.5974172390179993\",\"1.1971372009770733,-0.5561945261120489\",\"1.1971372009770733,-0.5149718132060985\",\"1.2209371453700504,-0.8447535164537016\",\"1.2209371453700504,-0.8035308035477512\",\"1.2209371453700504,-0.7623080906418008\",\"1.2447370897630274,-0.8035308035477512\",\"1.2447370897630274,-0.7623080906418008\"],\"marker\":{\"opacity\":0.5},\"name\":\"\",\"subplot\":\"mapbox\",\"z\":[2.0,1.0,1.0,1.0,2.0,1.0,1.0,1.0,1.0,1.0,1.0,1.0,1.0,1.0,1.0,1.0,1.0,1.0,1.0,2.0,2.0,2.0,2.0,1.0,1.0,1.0,1.0,1.0,1.0,1.0,1.0,1.0,1.0,1.0,1.0,1.0,1.0,1.0,1.0,1.0,1.0,2.0,1.0,1.0,1.0,1.0,1.0,1.0,1.0,1.0,1.0,1.0,1.0,1.0,1.0,1.0,1.0,1.0,1.0,1.0,2.0,1.0,1.0,1.0,1.0,2.0,2.0,2.0,2.0,2.0,2.0,2.0,2.0,2.0,2.0,2.0,1.0,2.0,2.0,2.0,2.0,1.0,1.0,1.0,1.0,1.0,1.0,1.0,1.0,1.0,1.0,1.0,1.0,1.0,2.0,1.0,1.0,2.0,2.0,1.0,1.0,1.0,1.0,1.0,1.0,1.0,1.0,1.0,1.0,1.0,1.0,2.0,1.0,1.0,1.0,1.0,1.0,2.0,2.0,2.0,2.0,2.0,2.0,2.0,2.0,2.0,2.0,2.0,2.0,2.0,2.0,2.0,1.0,1.0,1.0,1.0,1.0,2.0,2.0,2.0,1.0,1.0,1.0,1.0,2.0,2.0,1.0,1.0,1.0,2.0,2.0,2.0,2.0,2.0,2.0,2.0,2.0,2.0,2.0,2.0,2.0,2.0,1.0,1.0,1.0,1.0,1.0,1.0,1.0,1.0,1.0,1.0,1.0,1.0,1.0,1.0,2.0,1.0,1.0,1.0,1.0,1.0,1.0,1.0,1.0,1.0,1.0,1.0,1.0,1.0,2.0,1.0,1.0,2.0,2.0,2.0,2.0,2.0,2.0,2.0,2.0,2.0,1.0,1.0,1.0,1.0,1.0,1.0,1.0,1.0,1.0,1.0,1.0,1.0,1.0,1.0,1.0,1.0,1.0,1.0,1.0,1.0,1.0,1.0,2.0,2.0,2.0,2.0,2.0,2.0,2.0,2.0,1.0,1.0,1.0,1.0,1.0,1.0,1.0,1.0,1.0,1.0,1.0,1.0,1.0,1.0,1.0,2.0,2.0,1.0,1.0,2.0,1.0,1.0,1.0,2.0,1.0,1.0,2.0,2.0,1.0,1.0,1.0,1.0,1.0,1.0,2.0,1.0,1.0,1.0,1.0,1.0,1.0,2.0,1.0,2.0,2.0,1.0,2.0,2.0,2.0,2.0,2.0,2.0,2.0,1.0,2.0,2.0,2.0,2.0,2.0,2.0,1.0,1.0,1.0,1.0,1.0,1.0,1.0,1.0,1.0,1.0,1.0,2.0,1.0,2.0,1.0,1.0,2.0,1.0,1.0,1.0,1.0,1.0,1.0,1.0,1.0,1.0,1.0,1.0,1.0,1.0,1.0,1.0,2.0,1.0,2.0,2.0,2.0,2.0,2.0,2.0,2.0,2.0,2.0,2.0,2.0,2.0,2.0,2.0,1.0,2.0,2.0,1.0,1.0,1.0,1.0,1.0,1.0,1.0,1.0,1.0,1.0,1.0,1.0,2.0,2.0,1.0,1.0,1.0,1.0,1.0,1.0,1.0,1.0,1.0,1.0,1.0,1.0,1.0,1.0,1.0,1.0,1.0,2.0,2.0,2.0,2.0,1.0,1.0,1.0,2.0,2.0,2.0,2.0,2.0,1.0,2.0,2.0,1.0,1.0,1.0,1.0,1.0,1.0,1.0,1.0,1.0,1.0,1.0,2.0,2.0,2.0,2.0,2.0,2.0,2.0,2.0,2.0,2.0,2.0,2.0,2.0,2.0,1.0,1.0,1.0,1.0,1.0,1.0,1.0,1.0,1.0,1.0,1.0,1.0,2.0,1.0,1.0,1.0,1.0,1.0,1.0,1.0,1.0,1.0,1.0,1.0,1.0,2.0,2.0,2.0,2.0,2.0,2.0,2.0,2.0,1.0,1.0,2.0,1.0,1.0,1.0,1.0,1.0,1.0,1.0,1.0,1.0,1.0,1.0,1.0,1.0,1.0,1.0,1.0,1.0,2.0,2.0,2.0,1.0,2.0,2.0,2.0,2.0,1.0,2.0,1.0,1.0,2.0,2.0],\"type\":\"choroplethmapbox\"}],                        {\"template\":{\"data\":{\"candlestick\":[{\"decreasing\":{\"line\":{\"color\":\"#000033\"}},\"increasing\":{\"line\":{\"color\":\"#000032\"}},\"type\":\"candlestick\"}],\"contourcarpet\":[{\"colorscale\":[[0.0,\"#000011\"],[0.1111111111111111,\"#000012\"],[0.2222222222222222,\"#000013\"],[0.3333333333333333,\"#000014\"],[0.4444444444444444,\"#000015\"],[0.5555555555555556,\"#000016\"],[0.6666666666666666,\"#000017\"],[0.7777777777777778,\"#000018\"],[0.8888888888888888,\"#000019\"],[1.0,\"#000020\"]],\"type\":\"contourcarpet\"}],\"contour\":[{\"colorscale\":[[0.0,\"#000011\"],[0.1111111111111111,\"#000012\"],[0.2222222222222222,\"#000013\"],[0.3333333333333333,\"#000014\"],[0.4444444444444444,\"#000015\"],[0.5555555555555556,\"#000016\"],[0.6666666666666666,\"#000017\"],[0.7777777777777778,\"#000018\"],[0.8888888888888888,\"#000019\"],[1.0,\"#000020\"]],\"type\":\"contour\"}],\"heatmap\":[{\"colorscale\":[[0.0,\"#000011\"],[0.1111111111111111,\"#000012\"],[0.2222222222222222,\"#000013\"],[0.3333333333333333,\"#000014\"],[0.4444444444444444,\"#000015\"],[0.5555555555555556,\"#000016\"],[0.6666666666666666,\"#000017\"],[0.7777777777777778,\"#000018\"],[0.8888888888888888,\"#000019\"],[1.0,\"#000020\"]],\"type\":\"heatmap\"}],\"histogram2d\":[{\"colorscale\":[[0.0,\"#000011\"],[0.1111111111111111,\"#000012\"],[0.2222222222222222,\"#000013\"],[0.3333333333333333,\"#000014\"],[0.4444444444444444,\"#000015\"],[0.5555555555555556,\"#000016\"],[0.6666666666666666,\"#000017\"],[0.7777777777777778,\"#000018\"],[0.8888888888888888,\"#000019\"],[1.0,\"#000020\"]],\"type\":\"histogram2d\"}],\"icicle\":[{\"textfont\":{\"color\":\"white\"},\"type\":\"icicle\"}],\"sankey\":[{\"textfont\":{\"color\":\"#000036\"},\"type\":\"sankey\"}],\"scatter\":[{\"marker\":{\"line\":{\"width\":0}},\"type\":\"scatter\"}],\"table\":[{\"cells\":{\"fill\":{\"color\":\"#000038\"},\"font\":{\"color\":\"#000037\"},\"line\":{\"color\":\"#000039\"}},\"header\":{\"fill\":{\"color\":\"#000040\"},\"font\":{\"color\":\"#000036\"},\"line\":{\"color\":\"#000039\"}},\"type\":\"table\"}],\"waterfall\":[{\"connector\":{\"line\":{\"color\":\"#000036\",\"width\":2}},\"decreasing\":{\"marker\":{\"color\":\"#000033\"}},\"increasing\":{\"marker\":{\"color\":\"#000032\"}},\"totals\":{\"marker\":{\"color\":\"#000034\"}},\"type\":\"waterfall\"}]},\"layout\":{\"coloraxis\":{\"colorscale\":[[0.0,\"#000011\"],[0.1111111111111111,\"#000012\"],[0.2222222222222222,\"#000013\"],[0.3333333333333333,\"#000014\"],[0.4444444444444444,\"#000015\"],[0.5555555555555556,\"#000016\"],[0.6666666666666666,\"#000017\"],[0.7777777777777778,\"#000018\"],[0.8888888888888888,\"#000019\"],[1.0,\"#000020\"]]},\"colorscale\":{\"diverging\":[[0.0,\"#000021\"],[0.1,\"#000022\"],[0.2,\"#000023\"],[0.3,\"#000024\"],[0.4,\"#000025\"],[0.5,\"#000026\"],[0.6,\"#000027\"],[0.7,\"#000028\"],[0.8,\"#000029\"],[0.9,\"#000030\"],[1.0,\"#000031\"]],\"sequential\":[[0.0,\"#000011\"],[0.1111111111111111,\"#000012\"],[0.2222222222222222,\"#000013\"],[0.3333333333333333,\"#000014\"],[0.4444444444444444,\"#000015\"],[0.5555555555555556,\"#000016\"],[0.6666666666666666,\"#000017\"],[0.7777777777777778,\"#000018\"],[0.8888888888888888,\"#000019\"],[1.0,\"#000020\"]],\"sequentialminus\":[[0.0,\"#000011\"],[0.1111111111111111,\"#000012\"],[0.2222222222222222,\"#000013\"],[0.3333333333333333,\"#000014\"],[0.4444444444444444,\"#000015\"],[0.5555555555555556,\"#000016\"],[0.6666666666666666,\"#000017\"],[0.7777777777777778,\"#000018\"],[0.8888888888888888,\"#000019\"],[1.0,\"#000020\"]]},\"colorway\":[\"#000001\",\"#000002\",\"#000003\",\"#000004\",\"#000005\",\"#000006\",\"#000007\",\"#000008\",\"#000009\",\"#000010\"]}},\"mapbox\":{\"domain\":{\"x\":[0.0,1.0],\"y\":[0.0,1.0]},\"center\":{\"lat\":-23.0,\"lon\":57.0},\"accesstoken\":\"pk.eyJ1Ijoibm5vYmxlMTMiLCJhIjoiY2xwam91bHNoMDF4dTJpbGIzaTRwMWdubSJ9.t9AstZVQrSa9uFByagdtNw\",\"zoom\":2.4768929637052026},\"coloraxis\":{\"colorbar\":{\"title\":{\"text\":\"color label\"}},\"colorscale\":[[0.0,\"#000011\"],[0.1111111111111111,\"#000012\"],[0.2222222222222222,\"#000013\"],[0.3333333333333333,\"#000014\"],[0.4444444444444444,\"#000015\"],[0.5555555555555556,\"#000016\"],[0.6666666666666666,\"#000017\"],[0.7777777777777778,\"#000018\"],[0.8888888888888888,\"#000019\"],[1.0,\"#000020\"]],\"cmin\":1.0,\"cmax\":2.0},\"legend\":{\"tracegroupgap\":0},\"margin\":{\"t\":60}},                        {\"responsive\": true}                    ).then(function(){\n",
       "                            \n",
       "var gd = document.getElementById('8c5831c0-3a2d-477b-a131-a73f2ddf3b9a');\n",
       "var x = new MutationObserver(function (mutations, observer) {{\n",
       "        var display = window.getComputedStyle(gd).display;\n",
       "        if (!display || display === 'none') {{\n",
       "            console.log([gd, 'removed!']);\n",
       "            Plotly.purge(gd);\n",
       "            observer.disconnect();\n",
       "        }}\n",
       "}});\n",
       "\n",
       "// Listen for the removal of the full notebook cells\n",
       "var notebookContainer = gd.closest('#notebook-container');\n",
       "if (notebookContainer) {{\n",
       "    x.observe(notebookContainer, {childList: true});\n",
       "}}\n",
       "\n",
       "// Listen for the clearing of the current output cell\n",
       "var outputEl = gd.closest('.output');\n",
       "if (outputEl) {{\n",
       "    x.observe(outputEl, {childList: true});\n",
       "}}\n",
       "\n",
       "                        })                };                });            </script>        </div>"
      ]
     },
     "metadata": {},
     "output_type": "display_data"
    }
   ],
   "source": [
    "# create_hexbin_mapbox(data_frame, lat, lon, color, nx_hexagon, agg_func, \\\n",
    "# animation_frame, color_discrete_sequence, color_discrete_map, labels, \\\n",
    "# color_continuous_scale, range_color, color_continuous_midpoint, \\\n",
    "# opacity, zoom, center, mapbox_style, title, template, width, \\\n",
    "# height, min_count, show_original_data, original_data_marker)\n",
    "\n",
    "fig = ff.create_hexbin_mapbox(\n",
    "    data_frame=df, lat=\"r\", lon=\"q\", #color=\"randNumCol\", #color_discrete_map =[\"red\", \"blue\", \"grey\"],\n",
    "    nx_hexagon=22, opacity=0.5, labels={\"color\": \"color label\"},\n",
    "    min_count=1,\n",
    ")\n",
    "fig.show()\n"
   ]
  },
  {
   "cell_type": "code",
   "execution_count": 38,
   "metadata": {},
   "outputs": [
    {
     "ename": "AttributeError",
     "evalue": "module 'plotly.figure_factory' has no attribute 'create_hexbin'",
     "output_type": "error",
     "traceback": [
      "\u001b[0;31m---------------------------------------------------------------------------\u001b[0m",
      "\u001b[0;31mAttributeError\u001b[0m                            Traceback (most recent call last)",
      "\u001b[1;32m/home/asia/code/willgreen93/UK_election/interface/interface notebook.ipynb Cell 21\u001b[0m line \u001b[0;36m6\n\u001b[1;32m      <a href='vscode-notebook-cell://wsl%2Bubuntu/home/asia/code/willgreen93/UK_election/interface/interface%20notebook.ipynb#X53sdnNjb2RlLXJlbW90ZQ%3D%3D?line=2'>3</a>\u001b[0m \u001b[39m# Define a custom color scale\u001b[39;00m\n\u001b[1;32m      <a href='vscode-notebook-cell://wsl%2Bubuntu/home/asia/code/willgreen93/UK_election/interface/interface%20notebook.ipynb#X53sdnNjb2RlLXJlbW90ZQ%3D%3D?line=3'>4</a>\u001b[0m custom_color_scale \u001b[39m=\u001b[39m [\u001b[39m\"\u001b[39m\u001b[39mred\u001b[39m\u001b[39m\"\u001b[39m, \u001b[39m\"\u001b[39m\u001b[39mblue\u001b[39m\u001b[39m\"\u001b[39m, \u001b[39m\"\u001b[39m\u001b[39mgrey\u001b[39m\u001b[39m\"\u001b[39m]\n\u001b[0;32m----> <a href='vscode-notebook-cell://wsl%2Bubuntu/home/asia/code/willgreen93/UK_election/interface/interface%20notebook.ipynb#X53sdnNjb2RlLXJlbW90ZQ%3D%3D?line=5'>6</a>\u001b[0m fig \u001b[39m=\u001b[39m ff\u001b[39m.\u001b[39;49mcreate_hexbin(\n\u001b[1;32m      <a href='vscode-notebook-cell://wsl%2Bubuntu/home/asia/code/willgreen93/UK_election/interface/interface%20notebook.ipynb#X53sdnNjb2RlLXJlbW90ZQ%3D%3D?line=6'>7</a>\u001b[0m     x\u001b[39m=\u001b[39mdf[\u001b[39m'\u001b[39m\u001b[39mq\u001b[39m\u001b[39m'\u001b[39m], y\u001b[39m=\u001b[39mdf[\u001b[39m'\u001b[39m\u001b[39mr\u001b[39m\u001b[39m'\u001b[39m], C\u001b[39m=\u001b[39mdf[\u001b[39m'\u001b[39m\u001b[39mrandNumCol\u001b[39m\u001b[39m'\u001b[39m],\n\u001b[1;32m      <a href='vscode-notebook-cell://wsl%2Bubuntu/home/asia/code/willgreen93/UK_election/interface/interface%20notebook.ipynb#X53sdnNjb2RlLXJlbW90ZQ%3D%3D?line=7'>8</a>\u001b[0m     gridsize\u001b[39m=\u001b[39m(\u001b[39m30\u001b[39m, \u001b[39m30\u001b[39m),  \u001b[39m# You can adjust the grid size as needed\u001b[39;00m\n\u001b[1;32m      <a href='vscode-notebook-cell://wsl%2Bubuntu/home/asia/code/willgreen93/UK_election/interface/interface%20notebook.ipynb#X53sdnNjb2RlLXJlbW90ZQ%3D%3D?line=8'>9</a>\u001b[0m     color_scale\u001b[39m=\u001b[39mcustom_color_scale,\n\u001b[1;32m     <a href='vscode-notebook-cell://wsl%2Bubuntu/home/asia/code/willgreen93/UK_election/interface/interface%20notebook.ipynb#X53sdnNjb2RlLXJlbW90ZQ%3D%3D?line=9'>10</a>\u001b[0m     min_count\u001b[39m=\u001b[39m\u001b[39m1\u001b[39m,\n\u001b[1;32m     <a href='vscode-notebook-cell://wsl%2Bubuntu/home/asia/code/willgreen93/UK_election/interface/interface%20notebook.ipynb#X53sdnNjb2RlLXJlbW90ZQ%3D%3D?line=10'>11</a>\u001b[0m     opacity\u001b[39m=\u001b[39m\u001b[39m0.5\u001b[39m, labels\u001b[39m=\u001b[39m{\u001b[39m\"\u001b[39m\u001b[39mcolor\u001b[39m\u001b[39m\"\u001b[39m: \u001b[39m\"\u001b[39m\u001b[39mcolor label\u001b[39m\u001b[39m\"\u001b[39m},\n\u001b[1;32m     <a href='vscode-notebook-cell://wsl%2Bubuntu/home/asia/code/willgreen93/UK_election/interface/interface%20notebook.ipynb#X53sdnNjb2RlLXJlbW90ZQ%3D%3D?line=11'>12</a>\u001b[0m )\n\u001b[1;32m     <a href='vscode-notebook-cell://wsl%2Bubuntu/home/asia/code/willgreen93/UK_election/interface/interface%20notebook.ipynb#X53sdnNjb2RlLXJlbW90ZQ%3D%3D?line=13'>14</a>\u001b[0m fig\u001b[39m.\u001b[39mupdate_layout(title_text\u001b[39m=\u001b[39m\u001b[39m'\u001b[39m\u001b[39mHexbin Plot without Mapbox\u001b[39m\u001b[39m'\u001b[39m)\n\u001b[1;32m     <a href='vscode-notebook-cell://wsl%2Bubuntu/home/asia/code/willgreen93/UK_election/interface/interface%20notebook.ipynb#X53sdnNjb2RlLXJlbW90ZQ%3D%3D?line=14'>15</a>\u001b[0m fig\u001b[39m.\u001b[39mshow()\n",
      "\u001b[0;31mAttributeError\u001b[0m: module 'plotly.figure_factory' has no attribute 'create_hexbin'"
     ]
    }
   ],
   "source": [
    "import plotly.figure_factory as ff\n",
    "\n",
    "# Define a custom color scale\n",
    "custom_color_scale = [\"red\", \"blue\", \"grey\"]\n",
    "\n",
    "fig = ff.create_hexbin(\n",
    "    x=df['q'], y=df['r'], C=df['randNumCol'],\n",
    "    gridsize=(30, 30),  # You can adjust the grid size as needed\n",
    "    color_scale=custom_color_scale,\n",
    "    min_count=1,\n",
    "    opacity=0.5, labels={\"color\": \"color label\"},\n",
    ")\n",
    "\n",
    "fig.update_layout(title_text='Hexbin Plot without Mapbox')\n",
    "fig.show()\n"
   ]
  }
 ],
 "metadata": {
  "kernelspec": {
   "display_name": "UK_election",
   "language": "python",
   "name": "python3"
  },
  "language_info": {
   "codemirror_mode": {
    "name": "ipython",
    "version": 3
   },
   "file_extension": ".py",
   "mimetype": "text/x-python",
   "name": "python",
   "nbconvert_exporter": "python",
   "pygments_lexer": "ipython3",
   "version": "3.10.6"
  }
 },
 "nbformat": 4,
 "nbformat_minor": 2
}
