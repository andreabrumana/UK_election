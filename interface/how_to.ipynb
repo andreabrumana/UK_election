{
 "cells": [
  {
   "cell_type": "markdown",
   "metadata": {},
   "source": [
    "### To use this notebook, follow my process below. This focuses on doing this locally on your own machine. API will be covered later\n",
    "\n",
    "## 0.0 Import the required packages"
   ]
  },
  {
   "cell_type": "code",
   "execution_count": 3,
   "metadata": {},
   "outputs": [],
   "source": [
    "import altair as alt\n",
    "import pandas as pd\n"
   ]
  },
  {
   "cell_type": "markdown",
   "metadata": {},
   "source": [
    "## 1.0. Preparing the Data for the base of the map:\n",
    "   - Load the hexjson file containing the data you want to work with.\n",
    "   - Make sure the hexjson file is in the correct format and accessible from the notebook.\n",
    "   - You can use the `json` module to load the hexjson file into a Python dictionary.\n",
    "\n",
    "### 1.1 Converting the JSON to a DataFrame:\n",
    "   - Once you have loaded the hexjson data into a dictionary, you can convert it to a DataFrame using the `pd.DataFrame()` function from the pandas library.\n",
    "   - Pass the dictionary as the argument to the `pd.DataFrame()` function to create the DataFrame.\n",
    "   - Assign the resulting DataFrame to a variable for further processing.\n"
   ]
  },
  {
   "cell_type": "code",
   "execution_count": 4,
   "metadata": {},
   "outputs": [],
   "source": [
    "alt_data = pd.read_json('/home/asia/code/willgreen93/UK_election/interface/data/uk-constituencies-2019-BBC.hexjson')\n",
    "alt_df = pd.DataFrame(alt_data)\n"
   ]
  },
  {
   "cell_type": "markdown",
   "metadata": {},
   "source": [
    "### 1.2 Cleaning up the columns\n",
    "In this case, the hex file we're using is from OpenInnovations https://open-innovations.org/projects/hexmaps/constituencies/ -- check what and where to get the latitutde and longitude, for this file it will be 'r' and 'q' instead of the usual lat and lon values. You will also be able to use the 'region' key to merge your data with the hex map provided"
   ]
  },
  {
   "cell_type": "code",
   "execution_count": 5,
   "metadata": {},
   "outputs": [],
   "source": [
    "## you can check values with ###\n",
    "# alt_df['hexes'][0] #this is specific to this json file\n",
    "\n",
    "alt_df[['n', 'r', 'q', 'region']] = \\\n",
    "    alt_df['hexes'].apply(lambda x: pd.Series([x.get('n'), x.get('r'), x.get('q'), x.get('region')]))\n",
    "\n",
    "# #reset index to prepare for joining to results\n",
    "new_df = alt_df.rename_axis('constituency_id').reset_index().drop(columns=['hexes'])\n"
   ]
  },
  {
   "cell_type": "markdown",
   "metadata": {},
   "source": [
    "## 2.0 Merging the DataFrame with the Prediction (Voting Results):\n",
    "\n",
    "If you have a separate prediction or voting results dataset that you want to merge with the main DataFrame, follow these steps:\n",
    "- Load the prediction dataset into a separate DataFrame using the same process as described in step 2.\n",
    "- Ensure that both DataFrames have a common column that can be used as a key for merging, you can use the constituency ID for this case\n",
    "- Use the `pd.merge()` function to merge the two DataFrames based on the common column.\n",
    "- Assign the merged DataFrame to a new variable for further analysis.\n"
   ]
  },
  {
   "cell_type": "code",
   "execution_count": 6,
   "metadata": {},
   "outputs": [],
   "source": [
    "#Let's use the 2019 results (elec_data__2019.csv) here, this will be replaced \\\n",
    "# with the actual model predictions once we connect this to the API\n",
    "results_2019 = pd.read_csv( \\\n",
    "    '/home/asia/code/willgreen93/UK_election/interface/data/elec_data_2019.csv')\n",
    "\n",
    "#for the basic app, we will just use the 'incumbent_party' column and the 'constituency_id'\n",
    "basic_df = results_2019[['constituency_id', 'constituency','country','incumbent_party']]\n",
    "\n",
    "df = pd.merge(basic_df, new_df, on='constituency_id', how='left')\n"
   ]
  },
  {
   "cell_type": "markdown",
   "metadata": {},
   "source": [
    "## 3.0 Edit params.py to fill out with the URL and the params necessary for the streamlit app"
   ]
  },
  {
   "cell_type": "code",
   "execution_count": 23,
   "metadata": {},
   "outputs": [
    {
     "data": {
      "text/plain": [
       "array(['labour', 'conservative', 'other_parties', 'liberal_democrats'],\n",
       "      dtype=object)"
      ]
     },
     "execution_count": 23,
     "metadata": {},
     "output_type": "execute_result"
    }
   ],
   "source": [
    "df.incumbent_party.unique( )\n"
   ]
  },
  {
   "cell_type": "code",
   "execution_count": 24,
   "metadata": {},
   "outputs": [],
   "source": [
    "conser = (df['incumbent_party'] == 'conservative').sum()\n",
    "labour = (df['incumbent_party'] == 'labour').sum()\n",
    "other_part = (df['incumbent_party'] == 'other_parties').sum()\n",
    "lib_dem = (df['incumbent_party'] == 'liberal_democrats').sum()\n"
   ]
  },
  {
   "cell_type": "code",
   "execution_count": 25,
   "metadata": {},
   "outputs": [
    {
     "data": {
      "text/plain": [
       "(316, 260, 62, 12)"
      ]
     },
     "execution_count": 25,
     "metadata": {},
     "output_type": "execute_result"
    }
   ],
   "source": [
    "conser, labour, other_part, lib_dem\n"
   ]
  },
  {
   "cell_type": "code",
   "execution_count": null,
   "metadata": {},
   "outputs": [],
   "source": [
    "st.altair_chart(\n",
    "    alt.Chart().mark_text(\n",
    "    align=\"left\",\n",
    "    baseline=\"bottom\",\n",
    "    fontSize=14,\n",
    "    fontWeight=600,\n",
    "    color='coral'\n",
    ").encode(\n",
    "    x=alt.value(410),  # pixels from left\n",
    "    y=alt.value(290),  # pixels from top\n",
    "    text=alt.value([\"Summary:\", f'{conser, labour, other_part, lib_dem}'])\n",
    ")\n",
    ")\n"
   ]
  },
  {
   "cell_type": "code",
   "execution_count": 26,
   "metadata": {},
   "outputs": [
    {
     "data": {
      "text/html": [
       "<div>\n",
       "<style scoped>\n",
       "    .dataframe tbody tr th:only-of-type {\n",
       "        vertical-align: middle;\n",
       "    }\n",
       "\n",
       "    .dataframe tbody tr th {\n",
       "        vertical-align: top;\n",
       "    }\n",
       "\n",
       "    .dataframe thead th {\n",
       "        text-align: right;\n",
       "    }\n",
       "</style>\n",
       "<table border=\"1\" class=\"dataframe\">\n",
       "  <thead>\n",
       "    <tr style=\"text-align: right;\">\n",
       "      <th></th>\n",
       "      <th>constituency_id</th>\n",
       "      <th>constituency</th>\n",
       "      <th>country</th>\n",
       "      <th>incumbent_party</th>\n",
       "      <th>layout</th>\n",
       "      <th>n</th>\n",
       "      <th>r</th>\n",
       "      <th>q</th>\n",
       "      <th>region</th>\n",
       "    </tr>\n",
       "  </thead>\n",
       "  <tbody>\n",
       "    <tr>\n",
       "      <th>0</th>\n",
       "      <td>W07000049</td>\n",
       "      <td>ABERAVON</td>\n",
       "      <td>Wales</td>\n",
       "      <td>labour</td>\n",
       "      <td>odd-q</td>\n",
       "      <td>Aberavon</td>\n",
       "      <td>11</td>\n",
       "      <td>8</td>\n",
       "      <td>W92000004</td>\n",
       "    </tr>\n",
       "    <tr>\n",
       "      <th>1</th>\n",
       "      <td>W07000058</td>\n",
       "      <td>ABERCONWY</td>\n",
       "      <td>Wales</td>\n",
       "      <td>conservative</td>\n",
       "      <td>odd-q</td>\n",
       "      <td>Aberconwy</td>\n",
       "      <td>18</td>\n",
       "      <td>9</td>\n",
       "      <td>W92000004</td>\n",
       "    </tr>\n",
       "    <tr>\n",
       "      <th>2</th>\n",
       "      <td>S14000001</td>\n",
       "      <td>ABERDEEN NORTH</td>\n",
       "      <td>Scotland</td>\n",
       "      <td>other_parties</td>\n",
       "      <td>odd-q</td>\n",
       "      <td>Aberdeen North</td>\n",
       "      <td>40</td>\n",
       "      <td>15</td>\n",
       "      <td>S92000003</td>\n",
       "    </tr>\n",
       "    <tr>\n",
       "      <th>3</th>\n",
       "      <td>S14000002</td>\n",
       "      <td>ABERDEEN SOUTH</td>\n",
       "      <td>Scotland</td>\n",
       "      <td>conservative</td>\n",
       "      <td>odd-q</td>\n",
       "      <td>Aberdeen South</td>\n",
       "      <td>40</td>\n",
       "      <td>16</td>\n",
       "      <td>S92000003</td>\n",
       "    </tr>\n",
       "    <tr>\n",
       "      <th>4</th>\n",
       "      <td>S14000003</td>\n",
       "      <td>AIRDRIE AND SHOTTS</td>\n",
       "      <td>Scotland</td>\n",
       "      <td>other_parties</td>\n",
       "      <td>odd-q</td>\n",
       "      <td>Airdrie and Shotts</td>\n",
       "      <td>36</td>\n",
       "      <td>13</td>\n",
       "      <td>S92000003</td>\n",
       "    </tr>\n",
       "    <tr>\n",
       "      <th>5</th>\n",
       "      <td>E14000530</td>\n",
       "      <td>ALDERSHOT</td>\n",
       "      <td>England</td>\n",
       "      <td>conservative</td>\n",
       "      <td>odd-q</td>\n",
       "      <td>Aldershot</td>\n",
       "      <td>7</td>\n",
       "      <td>16</td>\n",
       "      <td>E12000008</td>\n",
       "    </tr>\n",
       "    <tr>\n",
       "      <th>6</th>\n",
       "      <td>E14000531</td>\n",
       "      <td>ALDRIDGE-BROWNHILLS</td>\n",
       "      <td>England</td>\n",
       "      <td>conservative</td>\n",
       "      <td>odd-q</td>\n",
       "      <td>Aldridge-Brownhills</td>\n",
       "      <td>20</td>\n",
       "      <td>17</td>\n",
       "      <td>E12000005</td>\n",
       "    </tr>\n",
       "    <tr>\n",
       "      <th>7</th>\n",
       "      <td>E14000532</td>\n",
       "      <td>ALTRINCHAM AND SALE WEST</td>\n",
       "      <td>England</td>\n",
       "      <td>conservative</td>\n",
       "      <td>odd-q</td>\n",
       "      <td>Altrincham and Sale West</td>\n",
       "      <td>18</td>\n",
       "      <td>13</td>\n",
       "      <td>E12000002</td>\n",
       "    </tr>\n",
       "    <tr>\n",
       "      <th>8</th>\n",
       "      <td>W07000043</td>\n",
       "      <td>ALYN AND DEESIDE</td>\n",
       "      <td>Wales</td>\n",
       "      <td>labour</td>\n",
       "      <td>odd-q</td>\n",
       "      <td>Alyn and Deeside</td>\n",
       "      <td>16</td>\n",
       "      <td>11</td>\n",
       "      <td>W92000004</td>\n",
       "    </tr>\n",
       "    <tr>\n",
       "      <th>9</th>\n",
       "      <td>E14000533</td>\n",
       "      <td>AMBER VALLEY</td>\n",
       "      <td>England</td>\n",
       "      <td>conservative</td>\n",
       "      <td>odd-q</td>\n",
       "      <td>Amber Valley</td>\n",
       "      <td>20</td>\n",
       "      <td>21</td>\n",
       "      <td>E12000004</td>\n",
       "    </tr>\n",
       "  </tbody>\n",
       "</table>\n",
       "</div>"
      ],
      "text/plain": [
       "  constituency_id              constituency   country incumbent_party layout  \\\n",
       "0       W07000049                  ABERAVON     Wales          labour  odd-q   \n",
       "1       W07000058                 ABERCONWY     Wales    conservative  odd-q   \n",
       "2       S14000001            ABERDEEN NORTH  Scotland   other_parties  odd-q   \n",
       "3       S14000002            ABERDEEN SOUTH  Scotland    conservative  odd-q   \n",
       "4       S14000003        AIRDRIE AND SHOTTS  Scotland   other_parties  odd-q   \n",
       "5       E14000530                 ALDERSHOT   England    conservative  odd-q   \n",
       "6       E14000531       ALDRIDGE-BROWNHILLS   England    conservative  odd-q   \n",
       "7       E14000532  ALTRINCHAM AND SALE WEST   England    conservative  odd-q   \n",
       "8       W07000043          ALYN AND DEESIDE     Wales          labour  odd-q   \n",
       "9       E14000533              AMBER VALLEY   England    conservative  odd-q   \n",
       "\n",
       "                          n   r   q     region  \n",
       "0                  Aberavon  11   8  W92000004  \n",
       "1                 Aberconwy  18   9  W92000004  \n",
       "2            Aberdeen North  40  15  S92000003  \n",
       "3            Aberdeen South  40  16  S92000003  \n",
       "4        Airdrie and Shotts  36  13  S92000003  \n",
       "5                 Aldershot   7  16  E12000008  \n",
       "6       Aldridge-Brownhills  20  17  E12000005  \n",
       "7  Altrincham and Sale West  18  13  E12000002  \n",
       "8          Alyn and Deeside  16  11  W92000004  \n",
       "9              Amber Valley  20  21  E12000004  "
      ]
     },
     "execution_count": 26,
     "metadata": {},
     "output_type": "execute_result"
    }
   ],
   "source": [
    "df.head(10)\n"
   ]
  },
  {
   "cell_type": "code",
   "execution_count": null,
   "metadata": {},
   "outputs": [],
   "source": [
    "\n",
    "source = pd.DataFrame({\n",
    "    \"a\": [\"A\", \"B\", \"C\"],\n",
    "    \"b\": [28, 55, 43]\n",
    "})\n",
    "\n",
    "bar = alt.Chart(df).mark_bar().encode(\n",
    "    y=\"a:N\",\n",
    "    x=alt.X(\"b:Q\").scale(domain=[0, 60])\n",
    ")\n",
    "text = bar.mark_text(\n",
    "    align=\"left\",\n",
    "    baseline=\"middle\",\n",
    "    dx=3\n",
    ").encode(text=\"b\")\n",
    "\n",
    "bar + text\n"
   ]
  },
  {
   "cell_type": "code",
   "execution_count": 28,
   "metadata": {},
   "outputs": [
    {
     "ename": "NameError",
     "evalue": "name 'colours_obj' is not defined",
     "output_type": "error",
     "traceback": [
      "\u001b[0;31m---------------------------------------------------------------------------\u001b[0m",
      "\u001b[0;31mNameError\u001b[0m                                 Traceback (most recent call last)",
      "\u001b[1;32m/home/asia/code/willgreen93/UK_election/interface/how_to.ipynb Cell 16\u001b[0m line \u001b[0;36m7\n\u001b[1;32m      <a href='vscode-notebook-cell://wsl%2Bubuntu/home/asia/code/willgreen93/UK_election/interface/how_to.ipynb#X21sdnNjb2RlLXJlbW90ZQ%3D%3D?line=0'>1</a>\u001b[0m \u001b[39mmap\u001b[39m \u001b[39m=\u001b[39m (\n\u001b[1;32m      <a href='vscode-notebook-cell://wsl%2Bubuntu/home/asia/code/willgreen93/UK_election/interface/how_to.ipynb#X21sdnNjb2RlLXJlbW90ZQ%3D%3D?line=1'>2</a>\u001b[0m     alt\u001b[39m.\u001b[39mChart(df)\n\u001b[1;32m      <a href='vscode-notebook-cell://wsl%2Bubuntu/home/asia/code/willgreen93/UK_election/interface/how_to.ipynb#X21sdnNjb2RlLXJlbW90ZQ%3D%3D?line=2'>3</a>\u001b[0m     \u001b[39m.\u001b[39mmark_square()\n\u001b[1;32m      <a href='vscode-notebook-cell://wsl%2Bubuntu/home/asia/code/willgreen93/UK_election/interface/how_to.ipynb#X21sdnNjb2RlLXJlbW90ZQ%3D%3D?line=3'>4</a>\u001b[0m     \u001b[39m.\u001b[39mencode(\n\u001b[1;32m      <a href='vscode-notebook-cell://wsl%2Bubuntu/home/asia/code/willgreen93/UK_election/interface/how_to.ipynb#X21sdnNjb2RlLXJlbW90ZQ%3D%3D?line=4'>5</a>\u001b[0m         x\u001b[39m=\u001b[39malt\u001b[39m.\u001b[39mX(\u001b[39m\"\u001b[39m\u001b[39mq\u001b[39m\u001b[39m\"\u001b[39m)\u001b[39m.\u001b[39mscale(zero\u001b[39m=\u001b[39m\u001b[39mFalse\u001b[39;00m)\u001b[39m.\u001b[39maxis(\u001b[39mNone\u001b[39;00m),\n\u001b[1;32m      <a href='vscode-notebook-cell://wsl%2Bubuntu/home/asia/code/willgreen93/UK_election/interface/how_to.ipynb#X21sdnNjb2RlLXJlbW90ZQ%3D%3D?line=5'>6</a>\u001b[0m         y\u001b[39m=\u001b[39malt\u001b[39m.\u001b[39mY(\u001b[39m\"\u001b[39m\u001b[39mr\u001b[39m\u001b[39m\"\u001b[39m)\u001b[39m.\u001b[39mscale(zero\u001b[39m=\u001b[39m\u001b[39mFalse\u001b[39;00m)\u001b[39m.\u001b[39maxis(\u001b[39mNone\u001b[39;00m),\n\u001b[0;32m----> <a href='vscode-notebook-cell://wsl%2Bubuntu/home/asia/code/willgreen93/UK_election/interface/how_to.ipynb#X21sdnNjb2RlLXJlbW90ZQ%3D%3D?line=6'>7</a>\u001b[0m         color\u001b[39m=\u001b[39mcolours_obj\u001b[39m.\u001b[39mlegend(\n\u001b[1;32m      <a href='vscode-notebook-cell://wsl%2Bubuntu/home/asia/code/willgreen93/UK_election/interface/how_to.ipynb#X21sdnNjb2RlLXJlbW90ZQ%3D%3D?line=7'>8</a>\u001b[0m             title\u001b[39m=\u001b[39m\u001b[39m\"\u001b[39m\u001b[39mIncumbent Party\u001b[39m\u001b[39m\"\u001b[39m,\n\u001b[1;32m      <a href='vscode-notebook-cell://wsl%2Bubuntu/home/asia/code/willgreen93/UK_election/interface/how_to.ipynb#X21sdnNjb2RlLXJlbW90ZQ%3D%3D?line=8'>9</a>\u001b[0m         ),\n\u001b[1;32m     <a href='vscode-notebook-cell://wsl%2Bubuntu/home/asia/code/willgreen93/UK_election/interface/how_to.ipynb#X21sdnNjb2RlLXJlbW90ZQ%3D%3D?line=9'>10</a>\u001b[0m         size\u001b[39m=\u001b[39malt\u001b[39m.\u001b[39mvalue(\u001b[39m65\u001b[39m),\n\u001b[1;32m     <a href='vscode-notebook-cell://wsl%2Bubuntu/home/asia/code/willgreen93/UK_election/interface/how_to.ipynb#X21sdnNjb2RlLXJlbW90ZQ%3D%3D?line=10'>11</a>\u001b[0m         tooltip\u001b[39m=\u001b[39m[\u001b[39m\"\u001b[39m\u001b[39mn:N\u001b[39m\u001b[39m\"\u001b[39m],\n\u001b[1;32m     <a href='vscode-notebook-cell://wsl%2Bubuntu/home/asia/code/willgreen93/UK_election/interface/how_to.ipynb#X21sdnNjb2RlLXJlbW90ZQ%3D%3D?line=11'>12</a>\u001b[0m     )\n\u001b[1;32m     <a href='vscode-notebook-cell://wsl%2Bubuntu/home/asia/code/willgreen93/UK_election/interface/how_to.ipynb#X21sdnNjb2RlLXJlbW90ZQ%3D%3D?line=12'>13</a>\u001b[0m     \u001b[39m.\u001b[39mproperties(width\u001b[39m=\u001b[39m\u001b[39m700\u001b[39m, height\u001b[39m=\u001b[39m\u001b[39m650\u001b[39m)\n\u001b[1;32m     <a href='vscode-notebook-cell://wsl%2Bubuntu/home/asia/code/willgreen93/UK_election/interface/how_to.ipynb#X21sdnNjb2RlLXJlbW90ZQ%3D%3D?line=13'>14</a>\u001b[0m     \u001b[39m.\u001b[39mconfigure_axis(grid\u001b[39m=\u001b[39m\u001b[39mFalse\u001b[39;00m)\n\u001b[1;32m     <a href='vscode-notebook-cell://wsl%2Bubuntu/home/asia/code/willgreen93/UK_election/interface/how_to.ipynb#X21sdnNjb2RlLXJlbW90ZQ%3D%3D?line=14'>15</a>\u001b[0m     \u001b[39m.\u001b[39mconfigure_view(strokeWidth\u001b[39m=\u001b[39m\u001b[39m0\u001b[39m)\n\u001b[1;32m     <a href='vscode-notebook-cell://wsl%2Bubuntu/home/asia/code/willgreen93/UK_election/interface/how_to.ipynb#X21sdnNjb2RlLXJlbW90ZQ%3D%3D?line=15'>16</a>\u001b[0m )\n\u001b[1;32m     <a href='vscode-notebook-cell://wsl%2Bubuntu/home/asia/code/willgreen93/UK_election/interface/how_to.ipynb#X21sdnNjb2RlLXJlbW90ZQ%3D%3D?line=17'>18</a>\u001b[0m bar_ch \u001b[39m=\u001b[39m (\n\u001b[1;32m     <a href='vscode-notebook-cell://wsl%2Bubuntu/home/asia/code/willgreen93/UK_election/interface/how_to.ipynb#X21sdnNjb2RlLXJlbW90ZQ%3D%3D?line=18'>19</a>\u001b[0m     alt\u001b[39m.\u001b[39mChart(df)\n\u001b[1;32m     <a href='vscode-notebook-cell://wsl%2Bubuntu/home/asia/code/willgreen93/UK_election/interface/how_to.ipynb#X21sdnNjb2RlLXJlbW90ZQ%3D%3D?line=19'>20</a>\u001b[0m     \u001b[39m.\u001b[39mmark_bar()\n\u001b[0;32m   (...)\u001b[0m\n\u001b[1;32m     <a href='vscode-notebook-cell://wsl%2Bubuntu/home/asia/code/willgreen93/UK_election/interface/how_to.ipynb#X21sdnNjb2RlLXJlbW90ZQ%3D%3D?line=29'>30</a>\u001b[0m     )\n\u001b[1;32m     <a href='vscode-notebook-cell://wsl%2Bubuntu/home/asia/code/willgreen93/UK_election/interface/how_to.ipynb#X21sdnNjb2RlLXJlbW90ZQ%3D%3D?line=30'>31</a>\u001b[0m )\n\u001b[1;32m     <a href='vscode-notebook-cell://wsl%2Bubuntu/home/asia/code/willgreen93/UK_election/interface/how_to.ipynb#X21sdnNjb2RlLXJlbW90ZQ%3D%3D?line=32'>33</a>\u001b[0m st\u001b[39m.\u001b[39maltair_chart(\u001b[39mmap\u001b[39m)\n",
      "\u001b[0;31mNameError\u001b[0m: name 'colours_obj' is not defined"
     ]
    }
   ],
   "source": [
    "map = (\n",
    "    alt.Chart(df)\n",
    "    .mark_square()\n",
    "    .encode(\n",
    "        x=alt.X(\"q\").scale(zero=False).axis(None),\n",
    "        y=alt.Y(\"r\").scale(zero=False).axis(None),\n",
    "        color=colours_obj.legend(\n",
    "            title=\"Incumbent Party\",\n",
    "        ),\n",
    "        size=alt.value(65),\n",
    "        tooltip=[\"n:N\"],\n",
    "    )\n",
    "    .properties(width=700, height=650)\n",
    "    .configure_axis(grid=False)\n",
    "    .configure_view(strokeWidth=0)\n",
    ")\n",
    "\n",
    "bar_ch = (\n",
    "    alt.Chart(df)\n",
    "    .mark_bar()\n",
    "    .encode(\n",
    "        x=alt.X(\"incumbent_party:N\", title=\"Incumbent Party\"),\n",
    "        y=alt.Y(\"count():Q\", title=\"Count\"),\n",
    "        tooltip=[alt.Tooltip(\"count()\", title=\"Count\")],\n",
    "        color=\"incumbent_party:N\",\n",
    "    )\n",
    "    .properties(\n",
    "        title=\"Total Count of Each Incumbent Party\",\n",
    "        width=400,  # Adjust the width as needed\n",
    "    )\n",
    ")\n",
    "\n",
    "st.altair_chart(map)\n",
    "st.altair_chart(bar_ch)\n"
   ]
  },
  {
   "cell_type": "code",
   "execution_count": null,
   "metadata": {},
   "outputs": [],
   "source": [
    "alt.Chart(source).mark_bar().encode(\n",
    "    alt.X(\"sum(people):Q\").title(\"Population\"),\n",
    "    alt.Y(\"age:O\"),\n",
    ").transform_filter(\n",
    "    datum.year == 2000\n",
    ").properties(height=alt.Step(20))\n"
   ]
  },
  {
   "cell_type": "code",
   "execution_count": null,
   "metadata": {},
   "outputs": [],
   "source": [
    "###WORKING APP\n",
    "map = (\n",
    "    alt.Chart(df)\n",
    "    .mark_square()\n",
    "    .encode(\n",
    "        x=alt.X(\"q\").scale(zero=False).axis(None),\n",
    "        y=alt.Y(\"r\").scale(zero=False).axis(None),\n",
    "        color=colours_obj.legend(\n",
    "            title=\"Incumbent Party\",\n",
    "        ),\n",
    "        size=alt.value(65),\n",
    "        tooltip=[\"n:N\"],\n",
    "    )\n",
    "    .properties(width=700, height=650)\n",
    "    .configure_axis(grid=False)\n",
    "    .configure_view(strokeWidth=0)\n",
    ")\n",
    "\n",
    "bar_ch = (\n",
    "    alt.Chart(df)\n",
    "    .mark_bar()\n",
    "    .encode(\n",
    "        x=alt.X(\"count():Q\", title=\"Count\"),\n",
    "        y=alt.Y(\"incumbent_party:N\", title=\"Incumbent Party\"),\n",
    "        tooltip=[alt.Tooltip(\"count()\", title=\"Count\")],\n",
    "        color=\"incumbent_party:N\",\n",
    "    )\n",
    "    .properties(\n",
    "        title=\"Total Count of Each Incumbent Party\",\n",
    "        width=400,  # Adjust the width as needed\n",
    "    )\n",
    ")\n",
    "\n",
    "st.altair_chart(map)\n",
    "st.altair_chart(bar_ch)\n"
   ]
  }
 ],
 "metadata": {
  "kernelspec": {
   "display_name": "UK_election",
   "language": "python",
   "name": "python3"
  },
  "language_info": {
   "codemirror_mode": {
    "name": "ipython",
    "version": 3
   },
   "file_extension": ".py",
   "mimetype": "text/x-python",
   "name": "python",
   "nbconvert_exporter": "python",
   "pygments_lexer": "ipython3",
   "version": "3.10.6"
  }
 },
 "nbformat": 4,
 "nbformat_minor": 2
}
